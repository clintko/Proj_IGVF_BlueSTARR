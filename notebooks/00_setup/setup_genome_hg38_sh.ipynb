{
 "cells": [
  {
   "cell_type": "raw",
   "id": "aff422e3-d5ba-44b7-9b0d-f40b7330ec16",
   "metadata": {},
   "source": [
    "---\n",
    "title: Setup Tools\n",
    "subtitle: Get human genome (hg38)\n",
    "format:\n",
    "    html:\n",
    "        code-fold:  true\n",
    "        code-tools: true\n",
    "---"
   ]
  },
  {
   "cell_type": "markdown",
   "id": "32efecc7-2e2e-4473-8b8c-0e266fa2af77",
   "metadata": {},
   "source": [
    "**Set environment**"
   ]
  },
  {
   "cell_type": "code",
   "execution_count": 1,
   "id": "82ab0a97-f5b3-4625-b1d9-dba4ad982b55",
   "metadata": {},
   "outputs": [
    {
     "name": "stdout",
     "output_type": "stream",
     "text": [
      "BASE DIRECTORY (FD_BASE):      /hpc/group/igvf/kk319\n",
      "REPO DIRECTORY (FD_REPO):      /hpc/group/igvf/kk319/repo\n",
      "WORK DIRECTORY (FD_WORK):      /hpc/group/igvf/kk319/work\n",
      "DATA DIRECTORY (FD_DATA):      /hpc/group/igvf/kk319/data\n",
      "CONTAINER DIR. (FD_SING):      /hpc/group/igvf/kk319/container\n",
      "\n",
      "You are working with           \n",
      "PATH OF PROJECT (FD_PRJ):      /hpc/group/igvf/kk319/repo/Proj_IGVF_BlueSTARR\n",
      "PROJECT RESULTS (FD_RES):      /hpc/group/igvf/kk319/repo/Proj_IGVF_BlueSTARR/results\n",
      "PROJECT SCRIPTS (FD_EXE):      /hpc/group/igvf/kk319/repo/Proj_IGVF_BlueSTARR/scripts\n",
      "PROJECT DATA    (FD_DAT):      /hpc/group/igvf/kk319/repo/Proj_IGVF_BlueSTARR/data\n",
      "PROJECT NOTE    (FD_NBK):      /hpc/group/igvf/kk319/repo/Proj_IGVF_BlueSTARR/notebooks\n",
      "PROJECT DOCS    (FD_DOC):      /hpc/group/igvf/kk319/repo/Proj_IGVF_BlueSTARR/docs\n",
      "PROJECT LOG     (FD_LOG):      /hpc/group/igvf/kk319/repo/Proj_IGVF_BlueSTARR/log\n",
      "PROJECT REF     (FD_REF):      /hpc/group/igvf/kk319/repo/Proj_IGVF_BlueSTARR/references\n",
      "PROJECT IMAGE   (FP_PRJ_SIF):  /hpc/group/igvf/kk319/container/project/singularity_proj_igvf_bluestarr.sif\n",
      "PROJECT CONF.   (FP_CNF):      /hpc/group/igvf/kk319/repo/Proj_IGVF_BlueSTARR/scripts/config_project.sh\n",
      "\n"
     ]
    }
   ],
   "source": [
    "source ../run_config_project.sh\n",
    "show_env"
   ]
  },
  {
   "cell_type": "markdown",
   "id": "056e0deb-969c-4a32-a4f8-43eb7911d24b",
   "metadata": {},
   "source": [
    "## Genome files query from UCSC"
   ]
  },
  {
   "cell_type": "code",
   "execution_count": 2,
   "id": "087a11a8-9b20-4cbc-8956-b10589240a87",
   "metadata": {},
   "outputs": [
    {
     "name": "stdout",
     "output_type": "stream",
     "text": [
      "hg38.2bit  hg38.chrom.sizes  \u001b[0m\u001b[01;31mhg38.fa.gz\u001b[0m  md5sum.hg38  md5sum.txt\n"
     ]
    }
   ],
   "source": [
    "cd ${FD_DATA}/genome/hg38\n",
    "ls"
   ]
  },
  {
   "cell_type": "code",
   "execution_count": 3,
   "id": "59b2f1cc-93a2-4ee9-ad38-7a6f0ba0722e",
   "metadata": {},
   "outputs": [],
   "source": [
    "cd ${FD_DATA}/genome/hg38\n",
    "gunzip -c hg38.fa.gz > hg38.fa"
   ]
  },
  {
   "cell_type": "code",
   "execution_count": 4,
   "id": "9cd7c13d-2d25-4fe3-9c10-11b96da707ea",
   "metadata": {},
   "outputs": [
    {
     "name": "stdout",
     "output_type": "stream",
     "text": [
      "hg38.2bit  hg38.chrom.sizes  hg38.fa  \u001b[0m\u001b[01;31mhg38.fa.gz\u001b[0m  md5sum.hg38  md5sum.txt\n"
     ]
    }
   ],
   "source": [
    "cd ${FD_DATA}/genome/hg38\n",
    "ls"
   ]
  },
  {
   "cell_type": "markdown",
   "id": "efb55afd-9b00-4388-b4e4-201476baf32d",
   "metadata": {},
   "source": [
    "## Index fasta files for later usage"
   ]
  },
  {
   "cell_type": "code",
   "execution_count": 5,
   "id": "9853b3f4-9a69-454e-aff9-02740ae6f528",
   "metadata": {},
   "outputs": [],
   "source": [
    "cd ${FD_DATA}/genome/hg38\n",
    "samtools faidx hg38.fa"
   ]
  },
  {
   "cell_type": "code",
   "execution_count": 6,
   "id": "5c94740f-a353-4072-a9ef-d066bfb7bb1d",
   "metadata": {},
   "outputs": [
    {
     "name": "stdout",
     "output_type": "stream",
     "text": [
      "hg38.2bit         hg38.fa      \u001b[0m\u001b[01;31mhg38.fa.gz\u001b[0m   md5sum.txt\n",
      "hg38.chrom.sizes  hg38.fa.fai  md5sum.hg38\n"
     ]
    }
   ],
   "source": [
    "ls ${FD_DATA}/genome/hg38"
   ]
  }
 ],
 "metadata": {
  "kernelspec": {
   "display_name": "Bash",
   "language": "bash",
   "name": "bash"
  },
  "language_info": {
   "codemirror_mode": "shell",
   "file_extension": ".sh",
   "mimetype": "text/x-sh",
   "name": "bash"
  }
 },
 "nbformat": 4,
 "nbformat_minor": 5
}
