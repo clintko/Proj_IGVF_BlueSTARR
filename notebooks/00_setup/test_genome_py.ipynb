{
 "cells": [
  {
   "cell_type": "code",
   "execution_count": null,
   "id": "29199169-0a3d-47f7-b567-8a978f389022",
   "metadata": {},
   "outputs": [],
   "source": []
  },
  {
   "cell_type": "code",
   "execution_count": null,
   "id": "cc5bc8fa-5f60-411a-b674-577847766980",
   "metadata": {},
   "outputs": [],
   "source": []
  },
  {
   "cell_type": "code",
   "execution_count": 1,
   "id": "b5c69bcd-23bb-4bfc-8d2a-66302f9bacfa",
   "metadata": {},
   "outputs": [
    {
     "name": "stdout",
     "output_type": "stream",
     "text": [
      "T\n"
     ]
    }
   ],
   "source": [
    "from pyfaidx import Fasta\n",
    "fasta = Fasta(\"/hpc/group/igvf/kk319/data/genome/hg38/hg38.fa\")\n",
    "print(fasta[\"chr11\"][5227020:5227021].seq)  # 0-based slicing"
   ]
  },
  {
   "cell_type": "code",
   "execution_count": 2,
   "id": "2adfee8b-0851-4401-9097-af76792d99a1",
   "metadata": {},
   "outputs": [
    {
     "name": "stdout",
     "output_type": "stream",
     "text": [
      "T\n"
     ]
    }
   ],
   "source": [
    "import pysam\n",
    "fasta = pysam.FastaFile(\"/hpc/group/igvf/kk319/data/genome/hg38/hg38.fa\")\n",
    "print(fasta.fetch(\"chr11\", 5227020, 5227021))  # 0-based, end-exclusive"
   ]
  },
  {
   "cell_type": "code",
   "execution_count": null,
   "id": "de04e307-dfc1-4455-be73-d75d6f0dfd51",
   "metadata": {},
   "outputs": [],
   "source": []
  }
 ],
 "metadata": {
  "kernelspec": {
   "display_name": "Python 3 (ipykernel)",
   "language": "python",
   "name": "python3"
  },
  "language_info": {
   "codemirror_mode": {
    "name": "ipython",
    "version": 3
   },
   "file_extension": ".py",
   "mimetype": "text/x-python",
   "name": "python",
   "nbconvert_exporter": "python",
   "pygments_lexer": "ipython3",
   "version": "3.11.6"
  }
 },
 "nbformat": 4,
 "nbformat_minor": 5
}
