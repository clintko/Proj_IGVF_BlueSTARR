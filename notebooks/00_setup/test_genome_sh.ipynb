{
 "cells": [
  {
   "cell_type": "raw",
   "id": "3a162449-ae24-4d8d-8ea1-91ee108e336e",
   "metadata": {},
   "source": [
    "---\n",
    "title: Setup Tools\n",
    "subtitle: Get human genome (hg38)\n",
    "format:\n",
    "    html:\n",
    "        code-fold:  true\n",
    "        code-tools: true\n",
    "---"
   ]
  },
  {
   "cell_type": "markdown",
   "id": "15ae6a0e-2d68-4429-97fb-4b3570d14b39",
   "metadata": {},
   "source": [
    "**Set environment**"
   ]
  },
  {
   "cell_type": "code",
   "execution_count": 1,
   "id": "95538deb-026e-4ff6-b355-50f30ead81be",
   "metadata": {},
   "outputs": [
    {
     "name": "stdout",
     "output_type": "stream",
     "text": [
      "BASE DIRECTORY (FD_BASE):      /hpc/group/igvf/kk319\n",
      "REPO DIRECTORY (FD_REPO):      /hpc/group/igvf/kk319/repo\n",
      "WORK DIRECTORY (FD_WORK):      /hpc/group/igvf/kk319/work\n",
      "DATA DIRECTORY (FD_DATA):      /hpc/group/igvf/kk319/data\n",
      "CONTAINER DIR. (FD_SING):      /hpc/group/igvf/kk319/container\n",
      "\n",
      "You are working with           \n",
      "PATH OF PROJECT (FD_PRJ):      /hpc/group/igvf/kk319/repo/Proj_IGVF_BlueSTARR\n",
      "PROJECT RESULTS (FD_RES):      /hpc/group/igvf/kk319/repo/Proj_IGVF_BlueSTARR/results\n",
      "PROJECT SCRIPTS (FD_EXE):      /hpc/group/igvf/kk319/repo/Proj_IGVF_BlueSTARR/scripts\n",
      "PROJECT DATA    (FD_DAT):      /hpc/group/igvf/kk319/repo/Proj_IGVF_BlueSTARR/data\n",
      "PROJECT NOTE    (FD_NBK):      /hpc/group/igvf/kk319/repo/Proj_IGVF_BlueSTARR/notebooks\n",
      "PROJECT DOCS    (FD_DOC):      /hpc/group/igvf/kk319/repo/Proj_IGVF_BlueSTARR/docs\n",
      "PROJECT LOG     (FD_LOG):      /hpc/group/igvf/kk319/repo/Proj_IGVF_BlueSTARR/log\n",
      "PROJECT REF     (FD_REF):      /hpc/group/igvf/kk319/repo/Proj_IGVF_BlueSTARR/references\n",
      "PROJECT IMAGE   (FP_PRJ_SIF):  /hpc/group/igvf/kk319/container/project/singularity_proj_igvf_bluestarr.sif\n",
      "PROJECT CONF.   (FP_CNF):      /hpc/group/igvf/kk319/repo/Proj_IGVF_BlueSTARR/scripts/config_project.sh\n",
      "\n"
     ]
    }
   ],
   "source": [
    "source ../run_config_project.sh\n",
    "show_env"
   ]
  },
  {
   "cell_type": "markdown",
   "id": "30b9c593-f460-4424-b07d-f6cb8bb73c4b",
   "metadata": {},
   "source": [
    "```\n",
    "samtools faidx and other htslib-based tools\n",
    "Expect 1-based, inclusive coordinates (like VCF or GFF).\n",
    "```"
   ]
  },
  {
   "cell_type": "code",
   "execution_count": 2,
   "id": "5cc439f6-2b97-4751-918e-ed46ded1f35e",
   "metadata": {},
   "outputs": [
    {
     "name": "stdout",
     "output_type": "stream",
     "text": [
      ">chr1:10000-10020\n",
      "Ntaaccctaaccctaacccta\n"
     ]
    }
   ],
   "source": [
    "# get chr1:10,000–10,020\n",
    "samtools faidx ${FD_DATA}/genome/hg38/hg38.fa chr1:10000-10020"
   ]
  },
  {
   "cell_type": "markdown",
   "id": "828cf36e-33c4-43e7-a0c5-8abe11196a1d",
   "metadata": {},
   "source": [
    "```\n",
    "UCSC tools (twoBitToFa, bigWigAverageOverBed, bedToBigBed, etc.)\n",
    "\n",
    "Work in the BED coordinate system:\n",
    "\n",
    "0-based start, end-exclusive.\n",
    "\n",
    "This is the same convention as pyfaidx/pysam.\n",
    "\n",
    "Example: to extract the same 21bp region with UCSC tools:\n",
    "```"
   ]
  },
  {
   "cell_type": "code",
   "execution_count": 4,
   "id": "93abbff5-f8bb-435e-843a-0ca814c7fe38",
   "metadata": {},
   "outputs": [
    {
     "name": "stdout",
     "output_type": "stream",
     "text": [
      ">chr1:9999-10020\n",
      "Ntaaccctaaccctaacccta\n"
     ]
    }
   ],
   "source": [
    "twoBitToFa ${FD_DATA}/genome/hg38/hg38.2bit stdout -seq=chr1 -start=9999 -end=10020"
   ]
  },
  {
   "cell_type": "code",
   "execution_count": 6,
   "id": "543a449b-bd0b-41cf-89cc-2917df2484a2",
   "metadata": {},
   "outputs": [
    {
     "name": "stdout",
     "output_type": "stream",
     "text": [
      ">chr1:9999-10020\n",
      "Ntaaccctaaccctaacccta\n"
     ]
    }
   ],
   "source": [
    "### Alternative shorthand\n",
    "twoBitToFa /hpc/group/igvf/kk319/data/genome/hg38/hg38.2bit:chr1:9999-10020 stdout"
   ]
  },
  {
   "cell_type": "code",
   "execution_count": null,
   "id": "7515b7dd-9c93-471d-b015-c4374ebaa504",
   "metadata": {},
   "outputs": [],
   "source": []
  },
  {
   "cell_type": "markdown",
   "id": "43187fec-31ef-4c9c-a8db-7b2ad98b8341",
   "metadata": {},
   "source": [
    "```\n",
    "FASTA-based tools (samtools, bcftools, GATK) → 1-based inclusive.\n",
    "\n",
    "BED/UCSC ecosystem (bedtools, bigWig, .2bit) → 0-based, end-exclusive.\n",
    "\n",
    "Python libs:\n",
    "\n",
    "pysam, pyfaidx, py2bit → 0-based, end-exclusive.\n",
    "```"
   ]
  },
  {
   "cell_type": "code",
   "execution_count": null,
   "id": "8f55b666-9e57-4075-b2d1-6dbf8bbca6b7",
   "metadata": {},
   "outputs": [],
   "source": []
  }
 ],
 "metadata": {
  "kernelspec": {
   "display_name": "Bash",
   "language": "bash",
   "name": "bash"
  },
  "language_info": {
   "codemirror_mode": "shell",
   "file_extension": ".sh",
   "mimetype": "text/x-sh",
   "name": "bash"
  }
 },
 "nbformat": 4,
 "nbformat_minor": 5
}
