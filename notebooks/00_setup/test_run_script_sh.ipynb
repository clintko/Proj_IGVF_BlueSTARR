{
 "cells": [
  {
   "cell_type": "raw",
   "id": "6c78c2ef-a108-452f-ad0b-bb60e12f118e",
   "metadata": {},
   "source": [
    "---\n",
    "title: Setup environment\n",
    "subtitle: Run script\n",
    "format:\n",
    "    html:\n",
    "        code-fold:  true\n",
    "        code-tools: true\n",
    "---"
   ]
  },
  {
   "cell_type": "markdown",
   "id": "3d971848-09c4-4c80-ad91-8b76e6cbeb8e",
   "metadata": {},
   "source": [
    "**Set environment**"
   ]
  },
  {
   "cell_type": "code",
   "execution_count": 1,
   "id": "3aefd508-2b7b-4116-9079-66eb9a40e2b0",
   "metadata": {},
   "outputs": [
    {
     "name": "stdout",
     "output_type": "stream",
     "text": [
      "BASE DIRECTORY (FD_BASE):      /hpc/group/igvf/kk319\n",
      "REPO DIRECTORY (FD_REPO):      /hpc/group/igvf/kk319/repo\n",
      "WORK DIRECTORY (FD_WORK):      /hpc/group/igvf/kk319/work\n",
      "DATA DIRECTORY (FD_DATA):      /hpc/group/igvf/kk319/data\n",
      "CONTAINER DIR. (FD_SING):      /hpc/group/igvf/kk319/container\n",
      "\n",
      "You are working with           \n",
      "PATH OF PROJECT (FD_PRJ):      /hpc/group/igvf/kk319/repo/Proj_IGVF_BlueSTARR\n",
      "PROJECT RESULTS (FD_RES):      /hpc/group/igvf/kk319/repo/Proj_IGVF_BlueSTARR/results\n",
      "PROJECT SCRIPTS (FD_EXE):      /hpc/group/igvf/kk319/repo/Proj_IGVF_BlueSTARR/scripts\n",
      "PROJECT DATA    (FD_DAT):      /hpc/group/igvf/kk319/repo/Proj_IGVF_BlueSTARR/data\n",
      "PROJECT NOTE    (FD_NBK):      /hpc/group/igvf/kk319/repo/Proj_IGVF_BlueSTARR/notebooks\n",
      "PROJECT DOCS    (FD_DOC):      /hpc/group/igvf/kk319/repo/Proj_IGVF_BlueSTARR/docs\n",
      "PROJECT LOG     (FD_LOG):      /hpc/group/igvf/kk319/repo/Proj_IGVF_BlueSTARR/log\n",
      "PROJECT REF     (FD_REF):      /hpc/group/igvf/kk319/repo/Proj_IGVF_BlueSTARR/references\n",
      "PROJECT IMAGE   (FP_PRJ_SIF):  /hpc/group/igvf/kk319/container/project/singularity_proj_igvf_bluestarr.sif\n",
      "PROJECT CONF.   (FP_CNF):      /hpc/group/igvf/kk319/repo/Proj_IGVF_BlueSTARR/scripts/config_project.sh\n",
      "PROJECT APP     (FP_APP):      /hpc/group/igvf/kk319/repo/Proj_IGVF_BlueSTARR/scripts/run_script.sh\n",
      "\n"
     ]
    }
   ],
   "source": [
    "source ../run_config_project.sh\n",
    "show_env"
   ]
  },
  {
   "cell_type": "code",
   "execution_count": 3,
   "id": "e1d4c12f-e1d7-4e11-af92-81025b62d8ae",
   "metadata": {},
   "outputs": [
    {
     "name": "stdout",
     "output_type": "stream",
     "text": [
      "#!/bin/bash\n",
      "\n",
      "#########################################\n",
      "### Wrapper of project container\n",
      "### =====================================\n",
      "\n",
      "### container image\n",
      "DIR=\"/hpc/group/igvf/kk319/container/project\"\n",
      "IMG=\"singularity_proj_igvf_bluestarr.sif\"\n",
      "APP=\"${DIR}/${IMG}\"\n",
      "\n",
      "### get command and arguments\n",
      "### stored in an array to preserve each argument exactly as-is\n",
      "CMD=(\"$@\")\n",
      "\n",
      "### execute the command\n",
      "singularity exec \\\n",
      "    --env NUMBA_CACHE_DIR=/tmp \\\n",
      "    -B ${PWD} \\\n",
      "    -B /hpc:/hpc \\\n",
      "    -B /datacommons:/datacommons \\\n",
      "    ${APP} \"${CMD[@]}\"\n"
     ]
    }
   ],
   "source": [
    "cat ${FP_APP}"
   ]
  },
  {
   "cell_type": "code",
   "execution_count": 4,
   "id": "a8230f23-2b1c-4bb1-b4a8-5260889c6eb3",
   "metadata": {},
   "outputs": [
    {
     "name": "stdout",
     "output_type": "stream",
     "text": [
      "setup_biocontainer_samtools_sh.ipynb  test_genome_py.ipynb\n",
      "setup_genome_hg38_sh.ipynb\t      test_genome_sh.ipynb\n",
      "setup_uscs_binaryies_sh.ipynb\t      test_run_script_sh.ipynb\n",
      "test_display_runtime_sh.ipynb\n"
     ]
    }
   ],
   "source": [
    "${FP_APP} ls"
   ]
  },
  {
   "cell_type": "code",
   "execution_count": 11,
   "id": "c86f26e7-8071-45dc-afea-62e939127d7a",
   "metadata": {},
   "outputs": [
    {
     "name": "stdout",
     "output_type": "stream",
     "text": [
      "3.13.5 | packaged by Anaconda, Inc. | (main, Jun 12 2025, 16:09:02) [GCC 11.2.0]\n"
     ]
    }
   ],
   "source": [
    "python -c 'import sys; print(sys.version)'"
   ]
  },
  {
   "cell_type": "code",
   "execution_count": 5,
   "id": "415b134c-2a9b-4d27-a2c8-8eb5527ddaca",
   "metadata": {},
   "outputs": [
    {
     "name": "stdout",
     "output_type": "stream",
     "text": [
      "3.11.6 | packaged by conda-forge | (main, Oct  3 2023, 10:40:35) [GCC 12.3.0]\n"
     ]
    }
   ],
   "source": [
    "${FP_APP} python -c 'import sys; print(sys.version)'"
   ]
  },
  {
   "cell_type": "code",
   "execution_count": 6,
   "id": "aa294fa6-a689-4946-b8a3-11beda37df6a",
   "metadata": {},
   "outputs": [
    {
     "name": "stdout",
     "output_type": "stream",
     "text": [
      "               _                           \n",
      "platform       x86_64-pc-linux-gnu         \n",
      "arch           x86_64                      \n",
      "os             linux-gnu                   \n",
      "system         x86_64, linux-gnu           \n",
      "status                                     \n",
      "major          4                           \n",
      "minor          5.1                         \n",
      "year           2025                        \n",
      "month          06                          \n",
      "day            13                          \n",
      "svn rev        88306                       \n",
      "language       R                           \n",
      "version.string R version 4.5.1 (2025-06-13)\n",
      "nickname       Great Square Root           \n"
     ]
    }
   ],
   "source": [
    "${FP_APP} Rscript -e 'print(R.version)'"
   ]
  },
  {
   "cell_type": "code",
   "execution_count": null,
   "id": "c62d19a5-c62b-4136-9b2f-f35517bfa1c1",
   "metadata": {},
   "outputs": [],
   "source": []
  },
  {
   "cell_type": "code",
   "execution_count": null,
   "id": "97bf6d86-064c-4ed9-b90c-d880d15d6a58",
   "metadata": {},
   "outputs": [],
   "source": []
  },
  {
   "cell_type": "code",
   "execution_count": null,
   "id": "73c441f4-eedd-4fc4-9197-3ba5b4982c26",
   "metadata": {},
   "outputs": [],
   "source": []
  },
  {
   "cell_type": "markdown",
   "id": "b0aa8a0c-859f-4417-96a7-1a91c0acf9f8",
   "metadata": {},
   "source": [
    "```\n",
    "$ srun -A majoroslab -p scavenger -c 1 --mem=1G bash -c \"hostname\"\n",
    "> dcc-velmeshevlab-01\n",
    "\n",
    "$ srun -A majoroslab -p common -c 1 --mem=1G bash -c \"hostname\"\n",
    "> dcc-core-46\n",
    "\n",
    "$ srun -A majoroslab -p gpu-common -c 1 --mem=1G bash -c \"hostname\"\n",
    "> dcc-core-gpu-42\n",
    "\n",
    "$ srun -A majoroslab -p igvf -c 1 --mem=1G bash -c \"hostname\"\n",
    "> dcc-allenlab-01\n",
    "\n",
    "$ srun -A majoroslab -p biostat -c 1 --mem=1G bash -c \"hostname\"\n",
    "> srun: error: Unable to allocate resources: Invalid account or account/partition combination specified\n",
    "\n",
    "srun -A majoroslab -p biostat-gpu -c 1 --mem=1G bash -c \"hostname\"\n",
    "> srun: error: Unable to allocate resources\n",
    "```"
   ]
  },
  {
   "cell_type": "markdown",
   "id": "a745ddcc-537b-4ca6-b5e9-7cc502eb86ef",
   "metadata": {},
   "source": [
    "```\n",
    "$ srun -A biostat -p scavenger -c 1 --mem=1G bash -c \"hostname\"\n",
    "> dcc-velmeshevlab-01\n",
    "\n",
    "$ srun -A biostat -p common -c 1 --mem=1G bash -c \"hostname\"\n",
    "> dcc-core-46\n",
    "\n",
    "$ srun -A biostat -p biostat -c 1 --mem=1G bash -c \"hostname\"\n",
    "> dcc-biostat-21\n",
    "\n",
    "$ srun -A biostat -p biostat-gpu -c 1 --mem=1G bash -c \"hostname\"\n",
    "> dcc-biostat-gpu-14\n",
    "```"
   ]
  },
  {
   "cell_type": "markdown",
   "id": "8452ca1e-7d5d-4bcb-b4c9-44412f37405b",
   "metadata": {},
   "source": [
    "## CPU"
   ]
  },
  {
   "cell_type": "code",
   "execution_count": 16,
   "id": "98c1b70d-532e-4895-9f5d-04879bb75bf1",
   "metadata": {},
   "outputs": [
    {
     "name": "stdout",
     "output_type": "stream",
     "text": [
      "#!/bin/bash\n",
      "\n",
      "# ---- start message ----\n",
      "timer_start=`date +%s`\n",
      "echo \"Hostname:          \" $(hostname)\n",
      "echo \"Slurm Array Index: \" ${SLURM_ARRAY_TASK_ID-NA}\n",
      "echo \"Time Stamp:        \" $(date +\"%m-%d-%y+%T\")\n",
      "echo\n",
      "\n",
      "# ---- setup env ----\n",
      "# load helper functions\n",
      "source fun_utils.sh\n",
      "\n",
      "# ---- execute ----\n",
      "echo \"Env (Python)\"\n",
      "python  -c \"import sys; print(sys.version)\"\n",
      "echo\n",
      "\n",
      "echo \"Env (R)\"\n",
      "Rscript -e 'print(R.version)'\n",
      "echo\n",
      "\n",
      "# ---- end message ----\n",
      "timer=`date +%s`\n",
      "runtime=$(( timer - timer_start ))\n",
      "echo\n",
      "echo 'Done!'\n",
      "echo \"Run Time: $(displaytime ${runtime})\"\n",
      "echo\n"
     ]
    }
   ],
   "source": [
    "FP_EXE=${FD_EXE}/test_script_cpu.sh\n",
    "chmod +x ${FP_EXE}\n",
    "cat ${FP_EXE}"
   ]
  },
  {
   "cell_type": "markdown",
   "id": "8f0a2060-6543-42db-8407-52486d589637",
   "metadata": {},
   "source": [
    "**Scavenger**"
   ]
  },
  {
   "cell_type": "code",
   "execution_count": 17,
   "id": "c9d4ce3e-cae0-4e90-9d81-ef679d5879ff",
   "metadata": {},
   "outputs": [
    {
     "name": "stdout",
     "output_type": "stream",
     "text": [
      "Submitted batch job 37581379\n",
      "\n"
     ]
    }
   ],
   "source": [
    "FP_LOG=${FD_LOG}/test_run_script_cpu.txt\n",
    "\n",
    "sbatch \\\n",
    "    -A biostat   \\\n",
    "    -p scavenger \\\n",
    "    --cpus-per-task 1 \\\n",
    "    --mem 2G \\\n",
    "    --output ${FP_LOG} \\\n",
    "    --chdir ${FD_EXE}  \\\n",
    "    ${FP_APP} ${FP_EXE}\n",
    "echo"
   ]
  },
  {
   "cell_type": "code",
   "execution_count": 18,
   "id": "ac1a135e-1b98-4776-83f3-876175a7549e",
   "metadata": {},
   "outputs": [
    {
     "name": "stdout",
     "output_type": "stream",
     "text": [
      "Hostname:           dcc-youlab-01\n",
      "Slurm Array Index:  NA\n",
      "Time Stamp:         10-01-25+17:11:17\n",
      "\n",
      "Env (Python)\n",
      "3.11.6 | packaged by conda-forge | (main, Oct  3 2023, 10:40:35) [GCC 12.3.0]\n",
      "\n",
      "Env (R)\n",
      "               _                           \n",
      "platform       x86_64-pc-linux-gnu         \n",
      "arch           x86_64                      \n",
      "os             linux-gnu                   \n",
      "system         x86_64, linux-gnu           \n",
      "status                                     \n",
      "major          4                           \n",
      "minor          5.1                         \n",
      "year           2025                        \n",
      "month          06                          \n",
      "day            13                          \n",
      "svn rev        88306                       \n",
      "language       R                           \n",
      "version.string R version 4.5.1 (2025-06-13)\n",
      "nickname       Great Square Root           \n",
      "\n",
      "\n",
      "Done!\n",
      "Run Time: 3 seconds\n",
      "\n"
     ]
    }
   ],
   "source": [
    "cat ${FD_LOG}/test_run_script_cpu.txt"
   ]
  },
  {
   "cell_type": "markdown",
   "id": "18c5e944-fe8a-462e-b0ed-74a091388ebb",
   "metadata": {},
   "source": [
    "**igvf**"
   ]
  },
  {
   "cell_type": "code",
   "execution_count": 19,
   "id": "1a4ec39a-9027-46ae-888a-9058930225e3",
   "metadata": {},
   "outputs": [
    {
     "name": "stdout",
     "output_type": "stream",
     "text": [
      "PARTITION AVAIL TIMELIMIT NODES CPUS(A/I/O/T) GRES\n",
      "igvf up 30-00:00:00 1 0/92/0/92 (null)\n"
     ]
    }
   ],
   "source": [
    "sinfo -p igvf -o \"%P %a %l %D %C %G\""
   ]
  },
  {
   "cell_type": "code",
   "execution_count": 20,
   "id": "24bb637d-4770-42b9-aebc-355c6da22464",
   "metadata": {},
   "outputs": [
    {
     "name": "stdout",
     "output_type": "stream",
     "text": [
      "Submitted batch job 37581518\n",
      "\n"
     ]
    }
   ],
   "source": [
    "FP_LOG=${FD_LOG}/test_run_script_cpu.txt\n",
    "\n",
    "sbatch \\\n",
    "    -A majoroslab \\\n",
    "    -p igvf       \\\n",
    "    --cpus-per-task 1 \\\n",
    "    --mem 2G \\\n",
    "    --output ${FP_LOG} \\\n",
    "    --chdir ${FD_EXE}  \\\n",
    "    ${FP_APP} ${FP_EXE}\n",
    "echo"
   ]
  },
  {
   "cell_type": "code",
   "execution_count": 21,
   "id": "0d959831-2797-4673-8c1f-a9b16a45d5ee",
   "metadata": {},
   "outputs": [
    {
     "name": "stdout",
     "output_type": "stream",
     "text": [
      "Hostname:           dcc-allenlab-01\n",
      "Slurm Array Index:  NA\n",
      "Time Stamp:         10-01-25+17:15:09\n",
      "\n",
      "Env (Python)\n",
      "3.11.6 | packaged by conda-forge | (main, Oct  3 2023, 10:40:35) [GCC 12.3.0]\n",
      "\n",
      "Env (R)\n",
      "               _                           \n",
      "platform       x86_64-pc-linux-gnu         \n",
      "arch           x86_64                      \n",
      "os             linux-gnu                   \n",
      "system         x86_64, linux-gnu           \n",
      "status                                     \n",
      "major          4                           \n",
      "minor          5.1                         \n",
      "year           2025                        \n",
      "month          06                          \n",
      "day            13                          \n",
      "svn rev        88306                       \n",
      "language       R                           \n",
      "version.string R version 4.5.1 (2025-06-13)\n",
      "nickname       Great Square Root           \n",
      "\n",
      "\n",
      "Done!\n",
      "Run Time: 1 seconds\n",
      "\n"
     ]
    }
   ],
   "source": [
    "cat ${FD_LOG}/test_run_script_cpu.txt"
   ]
  },
  {
   "cell_type": "markdown",
   "id": "672a7e42-3a70-409f-b640-e3639ba297f3",
   "metadata": {},
   "source": [
    "**Final version**"
   ]
  },
  {
   "cell_type": "code",
   "execution_count": 27,
   "id": "993e50d8-888c-4f5d-ae01-c6cb82ee5a4a",
   "metadata": {},
   "outputs": [
    {
     "name": "stdout",
     "output_type": "stream",
     "text": [
      "Submitted batch job 37582530\n",
      "\n"
     ]
    }
   ],
   "source": [
    "FP_LOG=${FD_LOG}/test_run_script_cpu.txt\n",
    "\n",
    "sbatch \\\n",
    "    -A majoroslab \\\n",
    "    -p igvf,scavenger,common \\\n",
    "    --cpus-per-task 1 \\\n",
    "    --mem 2G \\\n",
    "    --output ${FP_LOG} \\\n",
    "    --chdir ${FD_EXE}  \\\n",
    "    ${FP_APP} ${FP_EXE}\n",
    "echo"
   ]
  },
  {
   "cell_type": "code",
   "execution_count": 28,
   "id": "bec9376f-c140-40e8-948d-70a71c965a3d",
   "metadata": {},
   "outputs": [
    {
     "name": "stdout",
     "output_type": "stream",
     "text": [
      "Hostname:           dcc-allenlab-01\n",
      "Slurm Array Index:  NA\n",
      "Time Stamp:         10-01-25+17:41:07\n",
      "\n",
      "Env (Python)\n",
      "3.11.6 | packaged by conda-forge | (main, Oct  3 2023, 10:40:35) [GCC 12.3.0]\n",
      "\n",
      "Env (R)\n",
      "               _                           \n",
      "platform       x86_64-pc-linux-gnu         \n",
      "arch           x86_64                      \n",
      "os             linux-gnu                   \n",
      "system         x86_64, linux-gnu           \n",
      "status                                     \n",
      "major          4                           \n",
      "minor          5.1                         \n",
      "year           2025                        \n",
      "month          06                          \n",
      "day            13                          \n",
      "svn rev        88306                       \n",
      "language       R                           \n",
      "version.string R version 4.5.1 (2025-06-13)\n",
      "nickname       Great Square Root           \n",
      "\n",
      "\n",
      "Done!\n",
      "Run Time: 0 seconds\n",
      "\n"
     ]
    }
   ],
   "source": [
    "cat ${FD_LOG}/test_run_script_cpu.txt"
   ]
  },
  {
   "cell_type": "code",
   "execution_count": 29,
   "id": "d5fccc80-e2f0-4cc2-8ad8-16ea66c00fc5",
   "metadata": {},
   "outputs": [
    {
     "name": "stdout",
     "output_type": "stream",
     "text": [
      "Submitted batch job 37582958\n",
      "\n"
     ]
    }
   ],
   "source": [
    "# Define usable partitions\n",
    "ARR_PARTS=(igvf scavenger common)\n",
    "\n",
    "# Join into comma-separated string\n",
    "TXT_PARTS=$(IFS=,; echo \"${ARR_PARTS[*]}\")\n",
    "\n",
    "# set log file\n",
    "FP_LOG=${FD_LOG}/test_run_script_cpu.txt\n",
    "\n",
    "# Submit job to any of the partitions\n",
    "sbatch \\\n",
    "    -A majoroslab \\\n",
    "    -p \"${TXT_PARTS}\" \\\n",
    "    --cpus-per-task 1 \\\n",
    "    --mem 2G \\\n",
    "    --output ${FP_LOG} \\\n",
    "    --chdir ${FD_EXE}  \\\n",
    "    ${FP_APP} ${FP_EXE}\n",
    "echo"
   ]
  },
  {
   "cell_type": "code",
   "execution_count": 31,
   "id": "78c9f6f9-bbd4-403b-b187-41f5fcc2eb43",
   "metadata": {},
   "outputs": [
    {
     "name": "stdout",
     "output_type": "stream",
     "text": [
      "Hostname:           dcc-allenlab-01\n",
      "Slurm Array Index:  NA\n",
      "Time Stamp:         10-01-25+17:51:10\n",
      "\n",
      "Env (Python)\n",
      "3.11.6 | packaged by conda-forge | (main, Oct  3 2023, 10:40:35) [GCC 12.3.0]\n",
      "\n",
      "Env (R)\n",
      "               _                           \n",
      "platform       x86_64-pc-linux-gnu         \n",
      "arch           x86_64                      \n",
      "os             linux-gnu                   \n",
      "system         x86_64, linux-gnu           \n",
      "status                                     \n",
      "major          4                           \n",
      "minor          5.1                         \n",
      "year           2025                        \n",
      "month          06                          \n",
      "day            13                          \n",
      "svn rev        88306                       \n",
      "language       R                           \n",
      "version.string R version 4.5.1 (2025-06-13)\n",
      "nickname       Great Square Root           \n",
      "\n",
      "\n",
      "Done!\n",
      "Run Time: 0 seconds\n",
      "\n"
     ]
    }
   ],
   "source": [
    "cat ${FD_LOG}/test_run_script_cpu.txt"
   ]
  },
  {
   "cell_type": "markdown",
   "id": "0c3b345d-cb31-443b-9b02-fe9fd21526fe",
   "metadata": {},
   "source": [
    "## GPU"
   ]
  },
  {
   "cell_type": "markdown",
   "id": "e85fecfe-105b-4627-aedd-eeab265239b9",
   "metadata": {},
   "source": [
    "```\n",
    "#SBATCH -p gpu-common,scavenger-gpu,biostat-gpu,majoroslab-gpu,igvf-gpu\n",
    "```"
   ]
  },
  {
   "cell_type": "code",
   "execution_count": null,
   "id": "11ece97a-1e9e-486d-a44a-7d20e885cffe",
   "metadata": {},
   "outputs": [],
   "source": []
  }
 ],
 "metadata": {
  "kernelspec": {
   "display_name": "Bash",
   "language": "bash",
   "name": "bash"
  },
  "language_info": {
   "codemirror_mode": "shell",
   "file_extension": ".sh",
   "mimetype": "text/x-sh",
   "name": "bash"
  }
 },
 "nbformat": 4,
 "nbformat_minor": 5
}
