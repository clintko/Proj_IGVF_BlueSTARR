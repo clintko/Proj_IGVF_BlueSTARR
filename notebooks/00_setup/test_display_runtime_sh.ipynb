{
 "cells": [
  {
   "cell_type": "code",
   "execution_count": 1,
   "id": "f75d1f3f-5bbb-4f5a-83e6-5d6522b5cb31",
   "metadata": {},
   "outputs": [],
   "source": []
  },
  {
   "cell_type": "code",
   "execution_count": null,
   "id": "dac88647-1347-4839-9522-1c8b18d1c7c5",
   "metadata": {},
   "outputs": [],
   "source": []
  },
  {
   "cell_type": "markdown",
   "id": "6aabbe82-d32e-4e6e-9511-041e6da05082",
   "metadata": {},
   "source": [
    "```\n",
    "#!/bin/bash\n",
    "#SBATCH -J test_alphagenome_dnaclient\n",
    "#SBATCH -A majoroslab                \n",
    "#SBATCH -p igvf                      \n",
    "#SBATCH --cpus-per-task=1 \n",
    "#SBATCH --mem=2G                   \n",
    "#SBATCH -o /hpc/group/igvf/kk319/repo/Proj_IGVF_BlueSTARR/log/test.display.runtime.out \n",
    "#SBATCH -e /hpc/group/igvf/kk319/repo/Proj_IGVF_BlueSTARR/log/test.display.runtime.err\n",
    "#SBATCH --chdir=/hpc/group/igvf/kk319/repo/Proj_IGVF_BlueSTARR/scripts\n",
    "\n",
    "set -euo pipefail\n",
    "\n",
    "### print start message\n",
    "timer_start=`date +%s`\n",
    "echo \"Hostname:          \" $(hostname)\n",
    "echo \"Slurm Array Index: \" ${SLURM_ARRAY_TASK_ID}\n",
    "echo \"Time Stamp:        \" $(date +\"%m-%d-%y+%T\")\n",
    "echo\n",
    "\n",
    "### setup env:\n",
    "###     get project root path\n",
    "###     load helper functions\n",
    "source config_project.sh\n",
    "```"
   ]
  },
  {
   "cell_type": "code",
   "execution_count": 5,
   "id": "299cf4af-8344-4f23-a65a-8fa486b77c82",
   "metadata": {},
   "outputs": [
    {
     "name": "stdout",
     "output_type": "stream",
     "text": [
      "Submitted batch job 34295954\n"
     ]
    }
   ],
   "source": [
    "FD_EXE=/hpc/group/igvf/kk319/repo/Proj_IGVF_BlueSTARR/scripts\n",
    "FD_LOG=/hpc/group/igvf/kk319/repo/Proj_IGVF_BlueSTARR/log\n",
    "FN_LOG_OUT=\"test.display.runtime.out\"\n",
    "FP_LOG_OUT=${FD_LOG}/${FN_LOG_OUT}\n",
    "FN_LOG_ERR=\"test.display.runtime.err\"\n",
    "FP_LOG_ERR=${FD_LOG}/${FN_LOG_ERR}\n",
    "\n",
    "sbatch \\\n",
    "    -A majoroslab \\\n",
    "    -p igvf \\\n",
    "    --cpus-per-task 2 \\\n",
    "    --mem 4G \\\n",
    "    --output ${FP_LOG_OUT} \\\n",
    "    --error  ${FP_LOG_ERR} \\\n",
    "    --chdir  ${FD_EXE} << 'EOF'\n",
    "#!/bin/bash\n",
    "set -euo pipefail\n",
    "\n",
    "# ---- start message ----\n",
    "timer_start=`date +%s`\n",
    "echo \"Hostname:          \" $(hostname)\n",
    "echo \"Slurm Array Index: \" ${SLURM_ARRAY_TASK_ID-NA}\n",
    "echo \"Time Stamp:        \" $(date +\"%m-%d-%y+%T\")\n",
    "echo\n",
    "\n",
    "# ---- setup env ----\n",
    "#     get project root path\n",
    "#     load helper functions\n",
    "source config_project.sh\n",
    "\n",
    "# ---- end message ----\n",
    "timer=`date +%s`\n",
    "runtime=$(( timer - timer_start ))\n",
    "echo\n",
    "echo 'Done!'\n",
    "echo \"Run Time: $(displaytime ${runtime})\"\n",
    "EOF"
   ]
  },
  {
   "cell_type": "code",
   "execution_count": 6,
   "id": "03ab4725-0e1d-4dbb-b849-7bd81f709834",
   "metadata": {},
   "outputs": [
    {
     "name": "stdout",
     "output_type": "stream",
     "text": [
      "Hostname:           dcc-allenlab-01\n",
      "Slurm Array Index:  NA\n",
      "Time Stamp:         08-21-25+09:34:44\n",
      "\n",
      "\n",
      "Done!\n",
      "Run Time: 0 seconds\n"
     ]
    }
   ],
   "source": [
    "cat ${FP_LOG_OUT}"
   ]
  },
  {
   "cell_type": "code",
   "execution_count": 7,
   "id": "39a5482c-22e4-4f6f-82c6-bac6f72e8acc",
   "metadata": {},
   "outputs": [],
   "source": [
    "cat ${FP_LOG_ERR}"
   ]
  }
 ],
 "metadata": {
  "kernelspec": {
   "display_name": "Bash",
   "language": "bash",
   "name": "bash"
  },
  "language_info": {
   "codemirror_mode": "shell",
   "file_extension": ".sh",
   "mimetype": "text/x-sh",
   "name": "bash"
  }
 },
 "nbformat": 4,
 "nbformat_minor": 5
}
