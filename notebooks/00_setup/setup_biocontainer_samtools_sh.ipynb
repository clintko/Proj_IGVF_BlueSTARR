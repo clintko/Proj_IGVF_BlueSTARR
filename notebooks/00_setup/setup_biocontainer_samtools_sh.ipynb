{
 "cells": [
  {
   "cell_type": "raw",
   "id": "e03f44f0-6956-46a7-a81c-4e9c0d87048d",
   "metadata": {},
   "source": [
    "---\n",
    "title: Setup Tools\n",
    "subtitle: Get samtools\n",
    "format:\n",
    "    html:\n",
    "        code-fold:  true\n",
    "        code-tools: true\n",
    "---"
   ]
  },
  {
   "cell_type": "markdown",
   "id": "5273c49b-8270-4555-8835-d8393382a91c",
   "metadata": {},
   "source": [
    "**Set environment**"
   ]
  },
  {
   "cell_type": "code",
   "execution_count": 1,
   "id": "6d73ae01-7ba4-42b0-971f-b146755302de",
   "metadata": {},
   "outputs": [
    {
     "name": "stdout",
     "output_type": "stream",
     "text": [
      "BASE DIRECTORY (FD_BASE):      /hpc/group/igvf/kk319\n",
      "REPO DIRECTORY (FD_REPO):      /hpc/group/igvf/kk319/repo\n",
      "WORK DIRECTORY (FD_WORK):      /hpc/group/igvf/kk319/work\n",
      "DATA DIRECTORY (FD_DATA):      /hpc/group/igvf/kk319/data\n",
      "CONTAINER DIR. (FD_SING):      /hpc/group/igvf/kk319/container\n",
      "\n",
      "You are working with           \n",
      "PATH OF PROJECT (FD_PRJ):      /hpc/group/igvf/kk319/repo/Proj_IGVF_BlueSTARR\n",
      "PROJECT RESULTS (FD_RES):      /hpc/group/igvf/kk319/repo/Proj_IGVF_BlueSTARR/results\n",
      "PROJECT SCRIPTS (FD_EXE):      /hpc/group/igvf/kk319/repo/Proj_IGVF_BlueSTARR/scripts\n",
      "PROJECT DATA    (FD_DAT):      /hpc/group/igvf/kk319/repo/Proj_IGVF_BlueSTARR/data\n",
      "PROJECT NOTE    (FD_NBK):      /hpc/group/igvf/kk319/repo/Proj_IGVF_BlueSTARR/notebooks\n",
      "PROJECT DOCS    (FD_DOC):      /hpc/group/igvf/kk319/repo/Proj_IGVF_BlueSTARR/docs\n",
      "PROJECT LOG     (FD_LOG):      /hpc/group/igvf/kk319/repo/Proj_IGVF_BlueSTARR/log\n",
      "PROJECT REF     (FD_REF):      /hpc/group/igvf/kk319/repo/Proj_IGVF_BlueSTARR/references\n",
      "PROJECT IMAGE   (FP_PRJ_SIF):  /hpc/group/igvf/kk319/container/project/singularity_proj_igvf_bluestarr.sif\n",
      "PROJECT CONF.   (FP_CNF):      /hpc/group/igvf/kk319/repo/Proj_IGVF_BlueSTARR/scripts/config_project.sh\n",
      "\n"
     ]
    }
   ],
   "source": [
    "source ../run_config_project.sh\n",
    "show_env"
   ]
  },
  {
   "cell_type": "markdown",
   "id": "6fec2692-51fa-4c44-a620-89f2f0b09cc8",
   "metadata": {},
   "source": [
    "## Download the container"
   ]
  },
  {
   "cell_type": "markdown",
   "id": "9d365662-36d9-4282-8bb7-adea08dd226a",
   "metadata": {},
   "source": [
    "**https://biocontainers.pro/tools/samtools**"
   ]
  },
  {
   "cell_type": "code",
   "execution_count": 2,
   "id": "a2c4390c-c676-4585-b628-057d5fa8f1ec",
   "metadata": {},
   "outputs": [
    {
     "name": "stdout",
     "output_type": "stream",
     "text": [
      "\u001b[0m\u001b[01;34marchive\u001b[0m  \u001b[01;34mbiocontainer\u001b[0m  \u001b[01;34mhome\u001b[0m  \u001b[01;34mproject\u001b[0m  \u001b[01;34mtoolbox\u001b[0m\n"
     ]
    }
   ],
   "source": [
    "ls ${FD_SING}"
   ]
  },
  {
   "cell_type": "code",
   "execution_count": 4,
   "id": "6e87f9ba-2c57-4db7-bea7-8fcfa9eef2cb",
   "metadata": {},
   "outputs": [
    {
     "name": "stdout",
     "output_type": "stream",
     "text": [
      "\u001b[34mINFO:   \u001b[0m Downloading network image\n",
      "143.7KiB / 24.3MiB [-------------------------------------] 1 % 249.0 KiB/s 1m39s\n",
      "\u001b[1A\u001b[J239.7KiB / 24.3MiB [-------------------------------------] 1 % 333.4 KiB/s 1m14s\n",
      "\u001b[1A\u001b[J367.7KiB / 24.3MiB [>--------------------------------------] 1 % 423.2 KiB/s 57s\n",
      "\u001b[1A\u001b[J495.7KiB / 24.3MiB [>--------------------------------------] 2 % 486.7 KiB/s 50s\n",
      "\u001b[1A\u001b[J639.7KiB / 24.3MiB [>--------------------------------------] 3 % 547.3 KiB/s 44s\n",
      "\u001b[1A\u001b[J799.7KiB / 24.3MiB [>--------------------------------------] 3 % 606.6 KiB/s 39s\n",
      "\u001b[1A\u001b[J975.7KiB / 24.3MiB [=>-------------------------------------] 4 % 664.5 KiB/s 36s\n",
      "\u001b[1A\u001b[J1.1MiB / 24.3MiB [=>---------------------------------------] 5 % 711.6 KiB/s 33s\n",
      "\u001b[1A\u001b[J1.3MiB / 24.3MiB [=>---------------------------------------] 5 % 768.6 KiB/s 30s\n",
      "\u001b[1A\u001b[J1.5MiB / 24.3MiB [==>--------------------------------------] 6 % 817.2 KiB/s 28s\n",
      "\u001b[1A\u001b[J1.7MiB / 24.3MiB [==>--------------------------------------] 7 % 858.4 KiB/s 26s\n",
      "\u001b[1A\u001b[J2.0MiB / 24.3MiB [==>--------------------------------------] 8 % 901.3 KiB/s 25s\n",
      "\u001b[1A\u001b[J2.2MiB / 24.3MiB [===>-------------------------------------] 9 % 938.7 KiB/s 24s\n",
      "\u001b[1A\u001b[J2.4MiB / 24.3MiB [===>------------------------------------] 10 % 978.1 KiB/s 22s\n",
      "\u001b[1A\u001b[J2.6MiB / 24.3MiB [===>-----------------------------------] 11 % 1012.9 KiB/s 21s\n",
      "\u001b[1A\u001b[J2.9MiB / 24.3MiB [====>-------------------------------------] 12 % 1.0 MiB/s 20s\n",
      "\u001b[1A\u001b[J3.2MiB / 24.3MiB [====>-------------------------------------] 13 % 1.1 MiB/s 19s\n",
      "\u001b[1A\u001b[J3.4MiB / 24.3MiB [=====>------------------------------------] 14 % 1.1 MiB/s 19s\n",
      "\u001b[1A\u001b[J3.7MiB / 24.3MiB [=====>------------------------------------] 15 % 1.1 MiB/s 18s\n",
      "\u001b[1A\u001b[J4.0MiB / 24.3MiB [======>-----------------------------------] 16 % 1.2 MiB/s 17s\n",
      "\u001b[1A\u001b[J4.3MiB / 24.3MiB [======>-----------------------------------] 18 % 1.2 MiB/s 16s\n",
      "\u001b[1A\u001b[J4.6MiB / 24.3MiB [=======>----------------------------------] 19 % 1.2 MiB/s 15s\n",
      "\u001b[1A\u001b[J4.9MiB / 24.3MiB [========>---------------------------------] 20 % 1.3 MiB/s 15s\n",
      "\u001b[1A\u001b[J5.3MiB / 24.3MiB [========>---------------------------------] 22 % 1.3 MiB/s 14s\n",
      "\u001b[1A\u001b[J5.6MiB / 24.3MiB [=========>--------------------------------] 23 % 1.3 MiB/s 13s\n",
      "\u001b[1A\u001b[J6.0MiB / 24.3MiB [=========>--------------------------------] 25 % 1.4 MiB/s 13s\n",
      "\u001b[1A\u001b[J6.3MiB / 24.3MiB [==========>-------------------------------] 26 % 1.4 MiB/s 12s\n",
      "\u001b[1A\u001b[J6.6MiB / 24.3MiB [==========>-------------------------------] 27 % 1.4 MiB/s 12s\n",
      "\u001b[1A\u001b[J7.0MiB / 24.3MiB [===========>------------------------------] 29 % 1.5 MiB/s 11s\n",
      "\u001b[1A\u001b[J7.3MiB / 24.3MiB [============>-----------------------------] 30 % 1.5 MiB/s 11s\n",
      "\u001b[1A\u001b[J7.7MiB / 24.3MiB [============>-----------------------------] 32 % 1.5 MiB/s 10s\n",
      "\u001b[1A\u001b[J8.1MiB / 24.3MiB [=============>----------------------------] 33 % 1.5 MiB/s 10s\n",
      "\u001b[1A\u001b[J8.4MiB / 24.3MiB [==============>---------------------------] 35 % 1.6 MiB/s 10s\n",
      "\u001b[1A\u001b[J8.8MiB / 24.3MiB [===============>---------------------------] 36 % 1.6 MiB/s 9s\n",
      "\u001b[1A\u001b[J9.0MiB / 24.3MiB [===============>---------------------------] 37 % 1.6 MiB/s 9s\n",
      "\u001b[1A\u001b[J9.2MiB / 24.3MiB [===============>---------------------------] 38 % 1.6 MiB/s 9s\n",
      "\u001b[1A\u001b[J9.5MiB / 24.3MiB [================>--------------------------] 39 % 1.6 MiB/s 9s\n",
      "\u001b[1A\u001b[J9.8MiB / 24.3MiB [================>--------------------------] 40 % 1.6 MiB/s 9s\n",
      "\u001b[1A\u001b[J10.0MiB / 24.3MiB [================>-------------------------] 41 % 1.6 MiB/s 8s\n",
      "\u001b[1A\u001b[J10.3MiB / 24.3MiB [=================>------------------------] 42 % 1.6 MiB/s 8s\n",
      "\u001b[1A\u001b[J10.6MiB / 24.3MiB [=================>------------------------] 43 % 1.6 MiB/s 8s\n",
      "\u001b[1A\u001b[J10.8MiB / 24.3MiB [==================>-----------------------] 45 % 1.6 MiB/s 8s\n",
      "\u001b[1A\u001b[J11.1MiB / 24.3MiB [==================>-----------------------] 46 % 1.6 MiB/s 8s\n",
      "\u001b[1A\u001b[J11.4MiB / 24.3MiB [===================>----------------------] 47 % 1.6 MiB/s 7s\n",
      "\u001b[1A\u001b[J11.7MiB / 24.3MiB [===================>----------------------] 48 % 1.6 MiB/s 7s\n",
      "\u001b[1A\u001b[J12.0MiB / 24.3MiB [====================>---------------------] 49 % 1.6 MiB/s 7s\n",
      "\u001b[1A\u001b[J12.3MiB / 24.3MiB [====================>---------------------] 50 % 1.6 MiB/s 7s\n",
      "\u001b[1A\u001b[J12.6MiB / 24.3MiB [=====================>--------------------] 52 % 1.7 MiB/s 7s\n",
      "\u001b[1A\u001b[J12.9MiB / 24.3MiB [=====================>--------------------] 53 % 1.7 MiB/s 6s\n",
      "\u001b[1A\u001b[J13.2MiB / 24.3MiB [======================>-------------------] 54 % 1.7 MiB/s 6s\n",
      "\u001b[1A\u001b[J13.5MiB / 24.3MiB [======================>-------------------] 56 % 1.7 MiB/s 6s\n",
      "\u001b[1A\u001b[J13.9MiB / 24.3MiB [=======================>------------------] 57 % 1.7 MiB/s 6s\n",
      "\u001b[1A\u001b[J14.2MiB / 24.3MiB [========================>-----------------] 58 % 1.7 MiB/s 5s\n",
      "\u001b[1A\u001b[J14.5MiB / 24.3MiB [========================>-----------------] 60 % 1.7 MiB/s 5s\n",
      "\u001b[1A\u001b[J14.9MiB / 24.3MiB [=========================>----------------] 61 % 1.7 MiB/s 5s\n",
      "\u001b[1A\u001b[J15.2MiB / 24.3MiB [=========================>----------------] 63 % 1.7 MiB/s 5s\n",
      "\u001b[1A\u001b[J15.6MiB / 24.3MiB [==========================>---------------] 64 % 1.7 MiB/s 5s\n",
      "\u001b[1A\u001b[J15.9MiB / 24.3MiB [==========================>---------------] 65 % 1.7 MiB/s 4s\n",
      "\u001b[1A\u001b[J16.3MiB / 24.3MiB [===========================>--------------] 67 % 1.8 MiB/s 4s\n",
      "\u001b[1A\u001b[J16.7MiB / 24.3MiB [============================>-------------] 68 % 1.8 MiB/s 4s\n",
      "\u001b[1A\u001b[J17.0MiB / 24.3MiB [============================>-------------] 70 % 1.8 MiB/s 4s\n",
      "\u001b[1A\u001b[J17.4MiB / 24.3MiB [=============================>------------] 72 % 1.8 MiB/s 3s\n",
      "\u001b[1A\u001b[J17.8MiB / 24.3MiB [==============================>-----------] 73 % 1.8 MiB/s 3s\n",
      "\u001b[1A\u001b[J18.2MiB / 24.3MiB [==============================>-----------] 75 % 1.8 MiB/s 3s\n",
      "\u001b[1A\u001b[J18.6MiB / 24.3MiB [===============================>----------] 76 % 1.8 MiB/s 3s\n",
      "\u001b[1A\u001b[J19.0MiB / 24.3MiB [================================>---------] 78 % 1.8 MiB/s 2s\n",
      "\u001b[1A\u001b[J19.4MiB / 24.3MiB [================================>---------] 80 % 1.9 MiB/s 2s\n",
      "\u001b[1A\u001b[J19.8MiB / 24.3MiB [=================================>--------] 81 % 1.9 MiB/s 2s\n",
      "\u001b[1A\u001b[J20.2MiB / 24.3MiB [==================================>-------] 83 % 1.9 MiB/s 2s\n",
      "\u001b[1A\u001b[J20.2MiB / 24.3MiB [==================================>-------] 83 % 1.9 MiB/s 2s\n",
      "\u001b[1A\u001b[J20.6MiB / 24.3MiB [===================================>------] 85 % 1.9 MiB/s 1s\n",
      "\u001b[1A\u001b[J21.1MiB / 24.3MiB [===================================>------] 87 % 1.9 MiB/s 1s\n",
      "\u001b[1A\u001b[J21.5MiB / 24.3MiB [====================================>-----] 88 % 1.9 MiB/s 1s\n",
      "\u001b[1A\u001b[J22.0MiB / 24.3MiB [=====================================>----] 90 % 1.9 MiB/s 1s\n",
      "\u001b[1A\u001b[J22.4MiB / 24.3MiB [======================================>---] 92 % 1.9 MiB/s 1s\n",
      "\u001b[1A\u001b[J22.8MiB / 24.3MiB [======================================>---] 94 % 1.9 MiB/s 0s\n",
      "\u001b[1A\u001b[J23.2MiB / 24.3MiB [=======================================>--] 96 % 1.9 MiB/s 0s\n",
      "\u001b[1A\u001b[J23.7MiB / 24.3MiB [========================================>-] 97 % 2.0 MiB/s 0s\n",
      "\u001b[1A\u001b[J24.2MiB / 24.3MiB [=========================================>] 99 % 2.0 MiB/s 0s\n",
      "\u001b[1A\u001b[J24.3MiB / 24.3MiB [=========================================] 100 % 2.0 MiB/s 0s\n",
      "\u001b[1A\u001b[J24.3MiB / 24.3MiB [=========================================] 100 % 2.0 MiB/s 0s\n",
      "\u001b[1A\u001b[J24.3MiB / 24.3MiB [=========================================] 100 % 2.0 MiB/s 0s\n"
     ]
    }
   ],
   "source": [
    "URL=\"https://depot.galaxyproject.org/singularity/samtools:1.21--h96c455f_1\"\n",
    "DIR=${FD_SING}/biocontainer\n",
    "\n",
    "#singularity pull --dir ${URL}\n",
    "singularity pull \"${DIR}/samtools-1.21.sif\" \"${URL}\""
   ]
  },
  {
   "cell_type": "markdown",
   "id": "a95e2479-b233-4f47-88a0-7648bd485ad0",
   "metadata": {},
   "source": [
    "## Wrap up the container"
   ]
  },
  {
   "cell_type": "markdown",
   "id": "5ab3e478-0550-45aa-99cd-7a1885a2e7e3",
   "metadata": {},
   "source": [
    "```\n",
    "#!/bin/bash\n",
    "\n",
    "#########################################\n",
    "### Wrapper of biocontainer: samtools\n",
    "### =====================================\n",
    "\n",
    "### container image\n",
    "DIR=\"/hpc/group/igvf/kk319/container/biocontainer\"\n",
    "IMG=\"samtools-1.21.sif\"\n",
    "APP=\"${DIR}/${IMG}\"\n",
    "\n",
    "### get command and arguments\n",
    "### stored in an array to preserve each argument exactly as-is\n",
    "CMD=\"samtools\"\n",
    "ARG=(\"$@\")\n",
    "\n",
    "### execute the command\n",
    "singularity exec \\\n",
    "    -B ${PWD} \\\n",
    "    -B /hpc:/hpc \\\n",
    "    -B /datacommons:/datacommons \\\n",
    "    ${APP} ${CMD} \"${ARG[@]}\"\n",
    "```"
   ]
  },
  {
   "cell_type": "code",
   "execution_count": 9,
   "id": "46852c56-ca54-4b8d-948b-d1bcc2b001d1",
   "metadata": {},
   "outputs": [
    {
     "name": "stdout",
     "output_type": "stream",
     "text": [
      "#!/bin/bash\n",
      "\n",
      "#########################################\n",
      "### Wrapper of biocontainer: samtools\n",
      "### =====================================\n",
      "\n",
      "### container image\n",
      "DIR=\"/hpc/group/igvf/kk319/container/biocontainer\"\n",
      "IMG=\"samtools-1.21.sif\"\n",
      "APP=\"${DIR}/${IMG}\"\n",
      "\n",
      "### get command and arguments\n",
      "### stored in an array to preserve each argument exactly as-is\n",
      "CMD=\"samtools\"\n",
      "ARG=(\"$@\")\n",
      "\n",
      "### execute the command\n",
      "singularity exec \\\n",
      "    -B \"${PWD}\" \\\n",
      "    -B \"/hpc:/hpc\" \\\n",
      "    -B \"/datacommons:/datacommons\" \\\n",
      "    \"${APP}\" ${CMD} \"${ARG[@]}\"\n"
     ]
    }
   ],
   "source": [
    "cat ${FD_BINS}/samtools"
   ]
  },
  {
   "cell_type": "code",
   "execution_count": 10,
   "id": "00757b03-a6b9-4173-812f-61d78d6058f1",
   "metadata": {},
   "outputs": [
    {
     "name": "stdout",
     "output_type": "stream",
     "text": [
      "\n",
      "Program: samtools (Tools for alignments in the SAM format)\n",
      "Version: 1.21 (using htslib 1.21)\n",
      "\n",
      "Usage:   samtools <command> [options]\n",
      "\n",
      "Commands:\n",
      "  -- Indexing\n",
      "     dict           create a sequence dictionary file\n",
      "     faidx          index/extract FASTA\n",
      "     fqidx          index/extract FASTQ\n",
      "     index          index alignment\n",
      "\n",
      "  -- Editing\n",
      "     calmd          recalculate MD/NM tags and '=' bases\n",
      "     fixmate        fix mate information\n",
      "     reheader       replace BAM header\n",
      "     targetcut      cut fosmid regions (for fosmid pool only)\n",
      "     addreplacerg   adds or replaces RG tags\n",
      "     markdup        mark duplicates\n",
      "     ampliconclip   clip oligos from the end of reads\n",
      "\n",
      "  -- File operations\n",
      "     collate        shuffle and group alignments by name\n",
      "     cat            concatenate BAMs\n",
      "     consensus      produce a consensus Pileup/FASTA/FASTQ\n",
      "     merge          merge sorted alignments\n",
      "     mpileup        multi-way pileup\n",
      "     sort           sort alignment file\n",
      "     split          splits a file by read group\n",
      "     quickcheck     quickly check if SAM/BAM/CRAM file appears intact\n",
      "     fastq          converts a BAM to a FASTQ\n",
      "     fasta          converts a BAM to a FASTA\n",
      "     import         Converts FASTA or FASTQ files to SAM/BAM/CRAM\n",
      "     reference      Generates a reference from aligned data\n",
      "     reset          Reverts aligner changes in reads\n",
      "\n",
      "  -- Statistics\n",
      "     bedcov         read depth per BED region\n",
      "     coverage       alignment depth and percent coverage\n",
      "     depth          compute the depth\n",
      "     flagstat       simple stats\n",
      "     idxstats       BAM index stats\n",
      "     cram-size      list CRAM Content-ID and Data-Series sizes\n",
      "     phase          phase heterozygotes\n",
      "     stats          generate stats (former bamcheck)\n",
      "     ampliconstats  generate amplicon specific stats\n",
      "\n",
      "  -- Viewing\n",
      "     flags          explain BAM flags\n",
      "     head           header viewer\n",
      "     tview          text alignment viewer\n",
      "     view           SAM<->BAM<->CRAM conversion\n",
      "     depad          convert padded BAM to unpadded BAM\n",
      "     samples        list the samples in a set of SAM/BAM/CRAM files\n",
      "\n",
      "  -- Misc\n",
      "     help [cmd]     display this help message or help for [cmd]\n",
      "     version        detailed version information\n",
      "\n"
     ]
    }
   ],
   "source": [
    "chmod +x ${FD_BINS}/samtools\n",
    "${FD_BINS}/samtools --help"
   ]
  },
  {
   "cell_type": "code",
   "execution_count": null,
   "id": "eb4a30dd-67df-42f1-8b02-ffc8b03f8e4f",
   "metadata": {},
   "outputs": [],
   "source": []
  }
 ],
 "metadata": {
  "kernelspec": {
   "display_name": "Bash",
   "language": "bash",
   "name": "bash"
  },
  "language_info": {
   "codemirror_mode": "shell",
   "file_extension": ".sh",
   "mimetype": "text/x-sh",
   "name": "bash"
  }
 },
 "nbformat": 4,
 "nbformat_minor": 5
}
