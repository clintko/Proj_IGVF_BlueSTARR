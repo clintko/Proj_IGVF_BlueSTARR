{
 "cells": [
  {
   "cell_type": "raw",
   "id": "c1c553c0-c5bd-4e17-9130-07a320dc67f3",
   "metadata": {},
   "source": [
    "---\n",
    "title: Test Alphagenome\n",
    "subtitle: Test to run alphagenome on a variant\n",
    "format:\n",
    "    html:\n",
    "        code-fold:  true\n",
    "        code-tools: true\n",
    "---"
   ]
  },
  {
   "cell_type": "markdown",
   "id": "a4ff5de6-2988-4de2-b1dd-c08e77a0d51b",
   "metadata": {},
   "source": [
    "**Set environment**"
   ]
  },
  {
   "cell_type": "code",
   "execution_count": 1,
   "id": "e65d9a8e-c38a-4c55-bd0c-8f761d68b711",
   "metadata": {},
   "outputs": [
    {
     "name": "stdout",
     "output_type": "stream",
     "text": [
      "BASE DIRECTORY (FD_BASE): /hpc/group/igvf/kk319 \n",
      "REPO DIRECTORY (FD_REPO): /hpc/group/igvf/kk319/repo \n",
      "WORK DIRECTORY (FD_WORK): /hpc/group/igvf/kk319/work \n",
      "DATA DIRECTORY (FD_DATA): /hpc/group/igvf/kk319/data \n",
      "\n",
      "You are working with      IGVF BlueSTARR \n",
      "PATH OF PROJECT (FD_PRJ): /hpc/group/igvf/kk319/repo/Proj_IGVF_BlueSTARR \n",
      "PROJECT RESULTS (FD_RES): /hpc/group/igvf/kk319/repo/Proj_IGVF_BlueSTARR/results \n",
      "PROJECT SCRIPTS (FD_EXE): /hpc/group/igvf/kk319/repo/Proj_IGVF_BlueSTARR/scripts \n",
      "PROJECT DATA    (FD_DAT): /hpc/group/igvf/kk319/repo/Proj_IGVF_BlueSTARR/data \n",
      "PROJECT NOTE    (FD_NBK): /hpc/group/igvf/kk319/repo/Proj_IGVF_BlueSTARR/notebooks \n",
      "PROJECT DOCS    (FD_DOC): /hpc/group/igvf/kk319/repo/Proj_IGVF_BlueSTARR/docs \n",
      "PROJECT LOG     (FD_LOG): /hpc/group/igvf/kk319/repo/Proj_IGVF_BlueSTARR/log \n",
      "PROJECT REF     (FD_REF): /hpc/group/igvf/kk319/repo/Proj_IGVF_BlueSTARR/references \n",
      "\n"
     ]
    }
   ],
   "source": [
    "suppressMessages(suppressWarnings(source(\"../run_config_project.R\")))\n",
    "show_env()"
   ]
  },
  {
   "cell_type": "code",
   "execution_count": null,
   "id": "f8b6b27a-ba5f-4a00-a9ac-ac044971d22f",
   "metadata": {},
   "outputs": [],
   "source": []
  },
  {
   "cell_type": "code",
   "execution_count": null,
   "id": "5dace6bf-acf2-4d29-bee8-3733b9cc4bee",
   "metadata": {},
   "outputs": [],
   "source": []
  },
  {
   "cell_type": "code",
   "execution_count": null,
   "id": "aa4d010f-dcd6-45de-82d7-e97c66f09434",
   "metadata": {},
   "outputs": [],
   "source": []
  },
  {
   "cell_type": "code",
   "execution_count": 3,
   "id": "8c24c613-ca60-4756-b8ac-92c918eede84",
   "metadata": {},
   "outputs": [
    {
     "name": "stdout",
     "output_type": "stream",
     "text": [
      "result.alphagenome.variant.chunk.01.tsv \n",
      "result.alphagenome.variant.chunk.02.tsv \n",
      "result.alphagenome.variant.chunk.03.tsv \n",
      "result.alphagenome.variant.chunk.04.tsv \n",
      "result.alphagenome.variant.chunk.05.tsv \n",
      "result.alphagenome.variant.chunk.05.tsv.errors \n",
      "result.alphagenome.variant.chunk.06.tsv.errors \n",
      "result.alphagenome.variant.chunk.07.tsv.errors \n",
      "result.alphagenome.variant.chunk.08.tsv.errors \n",
      "result.alphagenome.variant.chunk.09.tsv \n",
      "result.alphagenome.variant.chunk.09.tsv.errors \n",
      "result.alphagenome.variant.chunk.10.tsv \n",
      "result.alphagenome.variant.chunk.11.tsv \n",
      "result.alphagenome.variant.chunk.12.tsv \n",
      "result.alphagenome.variant.chunk.12.tsv.errors \n",
      "result.alphagenome.variant.chunk.13.tsv.errors \n",
      "result.alphagenome.variant.chunk.14.tsv.errors \n",
      "result.alphagenome.variant.chunk.15.tsv.errors \n",
      "result.alphagenome.variant.chunk.16.tsv.errors \n",
      "result.alphagenome.variant.chunk.17.tsv \n",
      "result.alphagenome.variant.chunk.17.tsv.errors \n",
      "result.alphagenome.variant.chunk.18.tsv \n",
      "result.alphagenome.variant.chunk.19.tsv \n",
      "result.alphagenome.variant.chunk.19.tsv.errors \n",
      "result.alphagenome.variant.chunk.20.tsv.errors \n",
      "result.alphagenome.variant.chunk.21.tsv.errors \n",
      "result.alphagenome.variant.chunk.22.tsv.errors \n",
      "result.alphagenome.variant.chunk.23.tsv.errors \n",
      "result.alphagenome.variant.chunk.24.tsv.errors \n",
      "result.alphagenome.variant.chunk.25.tsv.errors \n",
      "result.alphagenome.variant.chunk.26.tsv.errors \n",
      "result.alphagenome.variant.chunk.27.tsv.errors \n",
      "result.alphagenome.variant.chunk.28.tsv.errors \n",
      "result.alphagenome.variant.chunk.29.tsv.errors \n",
      "result.alphagenome.variant.chunk.30.tsv \n",
      "result.alphagenome.variant.chunk.30.tsv.errors \n",
      "result.alphagenome.variant.chunk.31.tsv \n",
      "result.alphagenome.variant.chunk.32.tsv \n",
      "result.alphagenome.variant.chunk.33.tsv \n",
      "result.alphagenome.variant.chunk.34.tsv \n",
      "result.alphagenome.variant.chunk.35.tsv \n",
      "result.alphagenome.variant.chunk.36.tsv \n",
      "result.alphagenome.variant.chunk.37.tsv \n",
      "result.alphagenome.variant.chunk.38.tsv \n",
      "result.alphagenome.variant.chunk.39.tsv \n",
      "result.alphagenome.variant.chunk.40.tsv \n",
      "result.alphagenome.variant.test.chunk_100.tsv \n",
      "result.alphagenome.variant.test.chunk_1000.tsv \n",
      "result.alphagenome.variant.test.example.tsv \n",
      "variant.chunk.01.tsv \n",
      "variant.chunk.02.tsv \n",
      "variant.chunk.03.tsv \n",
      "variant.chunk.04.tsv \n",
      "variant.chunk.05.tsv \n",
      "variant.chunk.06.tsv \n",
      "variant.chunk.07.tsv \n",
      "variant.chunk.08.tsv \n",
      "variant.chunk.09.tsv \n",
      "variant.chunk.10.tsv \n",
      "variant.chunk.11.tsv \n",
      "variant.chunk.12.tsv \n",
      "variant.chunk.13.tsv \n",
      "variant.chunk.14.tsv \n",
      "variant.chunk.15.tsv \n",
      "variant.chunk.16.tsv \n",
      "variant.chunk.17.tsv \n",
      "variant.chunk.18.tsv \n",
      "variant.chunk.19.tsv \n",
      "variant.chunk.20.tsv \n",
      "variant.chunk.21.tsv \n",
      "variant.chunk.22.tsv \n",
      "variant.chunk.23.tsv \n",
      "variant.chunk.24.tsv \n",
      "variant.chunk.25.tsv \n",
      "variant.chunk.26.tsv \n",
      "variant.chunk.27.tsv \n",
      "variant.chunk.28.tsv \n",
      "variant.chunk.29.tsv \n",
      "variant.chunk.30.tsv \n",
      "variant.chunk.31.tsv \n",
      "variant.chunk.32.tsv \n",
      "variant.chunk.33.tsv \n",
      "variant.chunk.34.tsv \n",
      "variant.chunk.35.tsv \n",
      "variant.chunk.36.tsv \n",
      "variant.chunk.37.tsv \n",
      "variant.chunk.38.tsv \n",
      "variant.chunk.39.tsv \n",
      "variant.chunk.40.tsv \n",
      "variant.test.chunk_100.tsv \n",
      "variant.test.chunk_1000.tsv \n",
      "variant.test.example.tsv \n"
     ]
    }
   ],
   "source": [
    "txt_fdiry = file.path(FD_RES, \"predict_variant_kircher2019\")\n",
    "vec = dir(txt_fdiry)\n",
    "for(txt in vec){cat(txt, \"\\n\")}"
   ]
  },
  {
   "cell_type": "code",
   "execution_count": 9,
   "id": "87b2b2a8-4907-4718-9d8b-42bfef2584b4",
   "metadata": {},
   "outputs": [
    {
     "name": "stdout",
     "output_type": "stream",
     "text": [
      "/hpc/group/igvf/kk319/repo/Proj_IGVF_BlueSTARR/results/predict_variant_kircher2019/result.alphagenome.variant.chunk.01.tsv \n",
      "/hpc/group/igvf/kk319/repo/Proj_IGVF_BlueSTARR/results/predict_variant_kircher2019/result.alphagenome.variant.chunk.02.tsv \n",
      "/hpc/group/igvf/kk319/repo/Proj_IGVF_BlueSTARR/results/predict_variant_kircher2019/result.alphagenome.variant.chunk.03.tsv \n",
      "/hpc/group/igvf/kk319/repo/Proj_IGVF_BlueSTARR/results/predict_variant_kircher2019/result.alphagenome.variant.chunk.04.tsv \n",
      "/hpc/group/igvf/kk319/repo/Proj_IGVF_BlueSTARR/results/predict_variant_kircher2019/result.alphagenome.variant.chunk.05.tsv \n",
      "/hpc/group/igvf/kk319/repo/Proj_IGVF_BlueSTARR/results/predict_variant_kircher2019/result.alphagenome.variant.chunk.09.tsv \n",
      "/hpc/group/igvf/kk319/repo/Proj_IGVF_BlueSTARR/results/predict_variant_kircher2019/result.alphagenome.variant.chunk.10.tsv \n",
      "/hpc/group/igvf/kk319/repo/Proj_IGVF_BlueSTARR/results/predict_variant_kircher2019/result.alphagenome.variant.chunk.11.tsv \n",
      "/hpc/group/igvf/kk319/repo/Proj_IGVF_BlueSTARR/results/predict_variant_kircher2019/result.alphagenome.variant.chunk.12.tsv \n",
      "/hpc/group/igvf/kk319/repo/Proj_IGVF_BlueSTARR/results/predict_variant_kircher2019/result.alphagenome.variant.chunk.17.tsv \n",
      "/hpc/group/igvf/kk319/repo/Proj_IGVF_BlueSTARR/results/predict_variant_kircher2019/result.alphagenome.variant.chunk.18.tsv \n",
      "/hpc/group/igvf/kk319/repo/Proj_IGVF_BlueSTARR/results/predict_variant_kircher2019/result.alphagenome.variant.chunk.19.tsv \n",
      "/hpc/group/igvf/kk319/repo/Proj_IGVF_BlueSTARR/results/predict_variant_kircher2019/result.alphagenome.variant.chunk.30.tsv \n",
      "/hpc/group/igvf/kk319/repo/Proj_IGVF_BlueSTARR/results/predict_variant_kircher2019/result.alphagenome.variant.chunk.31.tsv \n",
      "/hpc/group/igvf/kk319/repo/Proj_IGVF_BlueSTARR/results/predict_variant_kircher2019/result.alphagenome.variant.chunk.32.tsv \n",
      "/hpc/group/igvf/kk319/repo/Proj_IGVF_BlueSTARR/results/predict_variant_kircher2019/result.alphagenome.variant.chunk.33.tsv \n",
      "/hpc/group/igvf/kk319/repo/Proj_IGVF_BlueSTARR/results/predict_variant_kircher2019/result.alphagenome.variant.chunk.34.tsv \n",
      "/hpc/group/igvf/kk319/repo/Proj_IGVF_BlueSTARR/results/predict_variant_kircher2019/result.alphagenome.variant.chunk.35.tsv \n",
      "/hpc/group/igvf/kk319/repo/Proj_IGVF_BlueSTARR/results/predict_variant_kircher2019/result.alphagenome.variant.chunk.36.tsv \n",
      "/hpc/group/igvf/kk319/repo/Proj_IGVF_BlueSTARR/results/predict_variant_kircher2019/result.alphagenome.variant.chunk.37.tsv \n",
      "/hpc/group/igvf/kk319/repo/Proj_IGVF_BlueSTARR/results/predict_variant_kircher2019/result.alphagenome.variant.chunk.38.tsv \n",
      "/hpc/group/igvf/kk319/repo/Proj_IGVF_BlueSTARR/results/predict_variant_kircher2019/result.alphagenome.variant.chunk.39.tsv \n",
      "/hpc/group/igvf/kk319/repo/Proj_IGVF_BlueSTARR/results/predict_variant_kircher2019/result.alphagenome.variant.chunk.40.tsv \n"
     ]
    }
   ],
   "source": [
    "txt_fdiry = file.path(FD_RES, \"predict_variant_kircher2019\")\n",
    "txt_fname = \"result.alphagenome.variant.chunk.*.tsv\"\n",
    "txt_fglob = file.path(txt_fdiry, txt_fname)\n",
    "\n",
    "vec_txt_fpath = Sys.glob(txt_fglob)\n",
    "\n",
    "\n",
    "vec = vec_txt_fpath\n",
    "for(txt in vec){cat(txt, \"\\n\")}"
   ]
  },
  {
   "cell_type": "code",
   "execution_count": 22,
   "id": "65674111-eaa1-4e8c-8569-ad90b2bf5613",
   "metadata": {},
   "outputs": [
    {
     "name": "stdout",
     "output_type": "stream",
     "text": [
      "[1] 39376     5\n"
     ]
    },
    {
     "data": {
      "text/html": [
       "<table class=\"dataframe\">\n",
       "<caption>A tibble: 6 × 5</caption>\n",
       "<thead>\n",
       "\t<tr><th scope=col>Region</th><th scope=col>Position</th><th scope=col>Ref</th><th scope=col>Alt</th><th scope=col>Variant_ID</th></tr>\n",
       "\t<tr><th scope=col>&lt;chr&gt;</th><th scope=col>&lt;dbl&gt;</th><th scope=col>&lt;chr&gt;</th><th scope=col>&lt;chr&gt;</th><th scope=col>&lt;chr&gt;</th></tr>\n",
       "</thead>\n",
       "<tbody>\n",
       "\t<tr><td>chr11:5227021-5227208</td><td>5227021</td><td>G</td><td>G</td><td>chr11:5227022:G&gt;G</td></tr>\n",
       "\t<tr><td>chr11:5227021-5227208</td><td>5227021</td><td>G</td><td>C</td><td>chr11:5227022:G&gt;C</td></tr>\n",
       "\t<tr><td>chr11:5227021-5227208</td><td>5227021</td><td>G</td><td>A</td><td>chr11:5227022:G&gt;A</td></tr>\n",
       "\t<tr><td>chr11:5227021-5227208</td><td>5227021</td><td>G</td><td>T</td><td>chr11:5227022:G&gt;T</td></tr>\n",
       "\t<tr><td>chr11:5227021-5227208</td><td>5227022</td><td>G</td><td>G</td><td>chr11:5227023:G&gt;G</td></tr>\n",
       "\t<tr><td>chr11:5227021-5227208</td><td>5227022</td><td>G</td><td>C</td><td>chr11:5227023:G&gt;C</td></tr>\n",
       "</tbody>\n",
       "</table>\n"
      ],
      "text/latex": [
       "A tibble: 6 × 5\n",
       "\\begin{tabular}{lllll}\n",
       " Region & Position & Ref & Alt & Variant\\_ID\\\\\n",
       " <chr> & <dbl> & <chr> & <chr> & <chr>\\\\\n",
       "\\hline\n",
       "\t chr11:5227021-5227208 & 5227021 & G & G & chr11:5227022:G>G\\\\\n",
       "\t chr11:5227021-5227208 & 5227021 & G & C & chr11:5227022:G>C\\\\\n",
       "\t chr11:5227021-5227208 & 5227021 & G & A & chr11:5227022:G>A\\\\\n",
       "\t chr11:5227021-5227208 & 5227021 & G & T & chr11:5227022:G>T\\\\\n",
       "\t chr11:5227021-5227208 & 5227022 & G & G & chr11:5227023:G>G\\\\\n",
       "\t chr11:5227021-5227208 & 5227022 & G & C & chr11:5227023:G>C\\\\\n",
       "\\end{tabular}\n"
      ],
      "text/markdown": [
       "\n",
       "A tibble: 6 × 5\n",
       "\n",
       "| Region &lt;chr&gt; | Position &lt;dbl&gt; | Ref &lt;chr&gt; | Alt &lt;chr&gt; | Variant_ID &lt;chr&gt; |\n",
       "|---|---|---|---|---|\n",
       "| chr11:5227021-5227208 | 5227021 | G | G | chr11:5227022:G&gt;G |\n",
       "| chr11:5227021-5227208 | 5227021 | G | C | chr11:5227022:G&gt;C |\n",
       "| chr11:5227021-5227208 | 5227021 | G | A | chr11:5227022:G&gt;A |\n",
       "| chr11:5227021-5227208 | 5227021 | G | T | chr11:5227022:G&gt;T |\n",
       "| chr11:5227021-5227208 | 5227022 | G | G | chr11:5227023:G&gt;G |\n",
       "| chr11:5227021-5227208 | 5227022 | G | C | chr11:5227023:G&gt;C |\n",
       "\n"
      ],
      "text/plain": [
       "  Region                Position Ref Alt Variant_ID       \n",
       "1 chr11:5227021-5227208 5227021  G   G   chr11:5227022:G>G\n",
       "2 chr11:5227021-5227208 5227021  G   C   chr11:5227022:G>C\n",
       "3 chr11:5227021-5227208 5227021  G   A   chr11:5227022:G>A\n",
       "4 chr11:5227021-5227208 5227021  G   T   chr11:5227022:G>T\n",
       "5 chr11:5227021-5227208 5227022  G   G   chr11:5227023:G>G\n",
       "6 chr11:5227021-5227208 5227022  G   C   chr11:5227023:G>C"
      ]
     },
     "metadata": {},
     "output_type": "display_data"
    }
   ],
   "source": [
    "### set file directory\n",
    "txt_fdiry = file.path(FD_RES, \"predict_variant_kircher2019\")\n",
    "txt_fname = \"variant.chunk.*.tsv\"\n",
    "txt_fglob = file.path(txt_fdiry, txt_fname)\n",
    "\n",
    "vec_txt_fpath = Sys.glob(txt_fglob)\n",
    "\n",
    "### read tables\n",
    "lst = lapply(vec_txt_fpath, function(txt_fpath){\n",
    "    dat = read_tsv(txt_fpath, col_names = FALSE, show_col_types = FALSE)\n",
    "    return(dat)\n",
    "})\n",
    "\n",
    "###\n",
    "vec = c(\"Region\", \"Position\", \"Ref\", \"Alt\")\n",
    "dat = bind_rows(lst)\n",
    "colnames(dat) = vec\n",
    "\n",
    "### set variant ID\n",
    "vec = c(\"Region\", \"Position\", \"Ref\", \"Alt\", \"Variant_ID\")\n",
    "dat = dat %>% \n",
    "    tidyr::separate(col = \"Region\", into = c(\"Chrom\", \"ChromStart\", \"ChromEnd\"), remove = FALSE) %>%\n",
    "    dplyr::mutate(Variant_ID = paste0(Chrom, \":\", Position+1, \":\", Ref, \">\", Alt)) %>%\n",
    "    dplyr::select(all_of(vec))\n",
    "\n",
    "### assign and show\n",
    "dat_region_variant_position = dat\n",
    "print(dim(dat))\n",
    "head(dat)"
   ]
  },
  {
   "cell_type": "code",
   "execution_count": 23,
   "id": "84775308-1734-4eee-b874-90700bca51c1",
   "metadata": {},
   "outputs": [
    {
     "name": "stdout",
     "output_type": "stream",
     "text": [
      "[1] 69012    25\n"
     ]
    },
    {
     "data": {
      "text/html": [
       "<table class=\"dataframe\">\n",
       "<caption>A tibble: 6 × 25</caption>\n",
       "<thead>\n",
       "\t<tr><th scope=col>variant_id</th><th scope=col>scored_interval</th><th scope=col>gene_id</th><th scope=col>gene_name</th><th scope=col>gene_type</th><th scope=col>gene_strand</th><th scope=col>junction_Start</th><th scope=col>junction_End</th><th scope=col>output_type</th><th scope=col>variant_scorer</th><th scope=col>⋯</th><th scope=col>biosample_type</th><th scope=col>gtex_tissue</th><th scope=col>raw_score</th><th scope=col>quantile_score</th><th scope=col>Region</th><th scope=col>Position</th><th scope=col>Ref</th><th scope=col>Alt</th><th scope=col>Length</th><th scope=col>Scorer</th></tr>\n",
       "\t<tr><th scope=col>&lt;chr&gt;</th><th scope=col>&lt;chr&gt;</th><th scope=col>&lt;chr&gt;</th><th scope=col>&lt;chr&gt;</th><th scope=col>&lt;chr&gt;</th><th scope=col>&lt;chr&gt;</th><th scope=col>&lt;lgl&gt;</th><th scope=col>&lt;lgl&gt;</th><th scope=col>&lt;chr&gt;</th><th scope=col>&lt;chr&gt;</th><th scope=col>⋯</th><th scope=col>&lt;chr&gt;</th><th scope=col>&lt;lgl&gt;</th><th scope=col>&lt;dbl&gt;</th><th scope=col>&lt;dbl&gt;</th><th scope=col>&lt;chr&gt;</th><th scope=col>&lt;dbl&gt;</th><th scope=col>&lt;chr&gt;</th><th scope=col>&lt;chr&gt;</th><th scope=col>&lt;dbl&gt;</th><th scope=col>&lt;chr&gt;</th></tr>\n",
       "</thead>\n",
       "<tbody>\n",
       "\t<tr><td>chr11:5227022:G&gt;G</td><td>chr11:5225998-5228046:.</td><td>ENSG00000244734</td><td>HBB</td><td>protein_coding</td><td>-</td><td>NA</td><td>NA</td><td>RNA_SEQ</td><td>GeneMaskLFCScorer(requested_output=RNA_SEQ)</td><td>⋯</td><td>cell_line</td><td>NA</td><td> 0.00000000</td><td> 1.137757e-12</td><td>chr11:5227021-5227208</td><td>5227021</td><td>G</td><td>G</td><td>2048</td><td>RNA_SEQ</td></tr>\n",
       "\t<tr><td>chr11:5227022:G&gt;G</td><td>chr11:5225998-5228046:.</td><td>ENSG00000244734</td><td>HBB</td><td>protein_coding</td><td>-</td><td>NA</td><td>NA</td><td>RNA_SEQ</td><td>GeneMaskLFCScorer(requested_output=RNA_SEQ)</td><td>⋯</td><td>cell_line</td><td>NA</td><td> 0.00000000</td><td> 1.137757e-12</td><td>chr11:5227021-5227208</td><td>5227021</td><td>G</td><td>G</td><td>2048</td><td>RNA_SEQ</td></tr>\n",
       "\t<tr><td>chr11:5227022:G&gt;G</td><td>chr11:5225998-5228046:.</td><td>ENSG00000244734</td><td>HBB</td><td>protein_coding</td><td>-</td><td>NA</td><td>NA</td><td>RNA_SEQ</td><td>GeneMaskLFCScorer(requested_output=RNA_SEQ)</td><td>⋯</td><td>cell_line</td><td>NA</td><td> 0.00000000</td><td> 1.137757e-12</td><td>chr11:5227021-5227208</td><td>5227021</td><td>G</td><td>G</td><td>2048</td><td>RNA_SEQ</td></tr>\n",
       "\t<tr><td>chr11:5227022:G&gt;C</td><td>chr11:5225998-5228046:.</td><td>ENSG00000244734</td><td>HBB</td><td>protein_coding</td><td>-</td><td>NA</td><td>NA</td><td>RNA_SEQ</td><td>GeneMaskLFCScorer(requested_output=RNA_SEQ)</td><td>⋯</td><td>cell_line</td><td>NA</td><td>-0.04630470</td><td>-9.995797e-01</td><td>chr11:5227021-5227208</td><td>5227021</td><td>G</td><td>C</td><td>2048</td><td>RNA_SEQ</td></tr>\n",
       "\t<tr><td>chr11:5227022:G&gt;C</td><td>chr11:5225998-5228046:.</td><td>ENSG00000244734</td><td>HBB</td><td>protein_coding</td><td>-</td><td>NA</td><td>NA</td><td>RNA_SEQ</td><td>GeneMaskLFCScorer(requested_output=RNA_SEQ)</td><td>⋯</td><td>cell_line</td><td>NA</td><td>-0.02306795</td><td>-9.990577e-01</td><td>chr11:5227021-5227208</td><td>5227021</td><td>G</td><td>C</td><td>2048</td><td>RNA_SEQ</td></tr>\n",
       "\t<tr><td>chr11:5227022:G&gt;C</td><td>chr11:5225998-5228046:.</td><td>ENSG00000244734</td><td>HBB</td><td>protein_coding</td><td>-</td><td>NA</td><td>NA</td><td>RNA_SEQ</td><td>GeneMaskLFCScorer(requested_output=RNA_SEQ)</td><td>⋯</td><td>cell_line</td><td>NA</td><td>-0.04114437</td><td>-9.995283e-01</td><td>chr11:5227021-5227208</td><td>5227021</td><td>G</td><td>C</td><td>2048</td><td>RNA_SEQ</td></tr>\n",
       "</tbody>\n",
       "</table>\n"
      ],
      "text/latex": [
       "A tibble: 6 × 25\n",
       "\\begin{tabular}{lllllllllllllllllllll}\n",
       " variant\\_id & scored\\_interval & gene\\_id & gene\\_name & gene\\_type & gene\\_strand & junction\\_Start & junction\\_End & output\\_type & variant\\_scorer & ⋯ & biosample\\_type & gtex\\_tissue & raw\\_score & quantile\\_score & Region & Position & Ref & Alt & Length & Scorer\\\\\n",
       " <chr> & <chr> & <chr> & <chr> & <chr> & <chr> & <lgl> & <lgl> & <chr> & <chr> & ⋯ & <chr> & <lgl> & <dbl> & <dbl> & <chr> & <dbl> & <chr> & <chr> & <dbl> & <chr>\\\\\n",
       "\\hline\n",
       "\t chr11:5227022:G>G & chr11:5225998-5228046:. & ENSG00000244734 & HBB & protein\\_coding & - & NA & NA & RNA\\_SEQ & GeneMaskLFCScorer(requested\\_output=RNA\\_SEQ) & ⋯ & cell\\_line & NA &  0.00000000 &  1.137757e-12 & chr11:5227021-5227208 & 5227021 & G & G & 2048 & RNA\\_SEQ\\\\\n",
       "\t chr11:5227022:G>G & chr11:5225998-5228046:. & ENSG00000244734 & HBB & protein\\_coding & - & NA & NA & RNA\\_SEQ & GeneMaskLFCScorer(requested\\_output=RNA\\_SEQ) & ⋯ & cell\\_line & NA &  0.00000000 &  1.137757e-12 & chr11:5227021-5227208 & 5227021 & G & G & 2048 & RNA\\_SEQ\\\\\n",
       "\t chr11:5227022:G>G & chr11:5225998-5228046:. & ENSG00000244734 & HBB & protein\\_coding & - & NA & NA & RNA\\_SEQ & GeneMaskLFCScorer(requested\\_output=RNA\\_SEQ) & ⋯ & cell\\_line & NA &  0.00000000 &  1.137757e-12 & chr11:5227021-5227208 & 5227021 & G & G & 2048 & RNA\\_SEQ\\\\\n",
       "\t chr11:5227022:G>C & chr11:5225998-5228046:. & ENSG00000244734 & HBB & protein\\_coding & - & NA & NA & RNA\\_SEQ & GeneMaskLFCScorer(requested\\_output=RNA\\_SEQ) & ⋯ & cell\\_line & NA & -0.04630470 & -9.995797e-01 & chr11:5227021-5227208 & 5227021 & G & C & 2048 & RNA\\_SEQ\\\\\n",
       "\t chr11:5227022:G>C & chr11:5225998-5228046:. & ENSG00000244734 & HBB & protein\\_coding & - & NA & NA & RNA\\_SEQ & GeneMaskLFCScorer(requested\\_output=RNA\\_SEQ) & ⋯ & cell\\_line & NA & -0.02306795 & -9.990577e-01 & chr11:5227021-5227208 & 5227021 & G & C & 2048 & RNA\\_SEQ\\\\\n",
       "\t chr11:5227022:G>C & chr11:5225998-5228046:. & ENSG00000244734 & HBB & protein\\_coding & - & NA & NA & RNA\\_SEQ & GeneMaskLFCScorer(requested\\_output=RNA\\_SEQ) & ⋯ & cell\\_line & NA & -0.04114437 & -9.995283e-01 & chr11:5227021-5227208 & 5227021 & G & C & 2048 & RNA\\_SEQ\\\\\n",
       "\\end{tabular}\n"
      ],
      "text/markdown": [
       "\n",
       "A tibble: 6 × 25\n",
       "\n",
       "| variant_id &lt;chr&gt; | scored_interval &lt;chr&gt; | gene_id &lt;chr&gt; | gene_name &lt;chr&gt; | gene_type &lt;chr&gt; | gene_strand &lt;chr&gt; | junction_Start &lt;lgl&gt; | junction_End &lt;lgl&gt; | output_type &lt;chr&gt; | variant_scorer &lt;chr&gt; | ⋯ ⋯ | biosample_type &lt;chr&gt; | gtex_tissue &lt;lgl&gt; | raw_score &lt;dbl&gt; | quantile_score &lt;dbl&gt; | Region &lt;chr&gt; | Position &lt;dbl&gt; | Ref &lt;chr&gt; | Alt &lt;chr&gt; | Length &lt;dbl&gt; | Scorer &lt;chr&gt; |\n",
       "|---|---|---|---|---|---|---|---|---|---|---|---|---|---|---|---|---|---|---|---|---|\n",
       "| chr11:5227022:G&gt;G | chr11:5225998-5228046:. | ENSG00000244734 | HBB | protein_coding | - | NA | NA | RNA_SEQ | GeneMaskLFCScorer(requested_output=RNA_SEQ) | ⋯ | cell_line | NA |  0.00000000 |  1.137757e-12 | chr11:5227021-5227208 | 5227021 | G | G | 2048 | RNA_SEQ |\n",
       "| chr11:5227022:G&gt;G | chr11:5225998-5228046:. | ENSG00000244734 | HBB | protein_coding | - | NA | NA | RNA_SEQ | GeneMaskLFCScorer(requested_output=RNA_SEQ) | ⋯ | cell_line | NA |  0.00000000 |  1.137757e-12 | chr11:5227021-5227208 | 5227021 | G | G | 2048 | RNA_SEQ |\n",
       "| chr11:5227022:G&gt;G | chr11:5225998-5228046:. | ENSG00000244734 | HBB | protein_coding | - | NA | NA | RNA_SEQ | GeneMaskLFCScorer(requested_output=RNA_SEQ) | ⋯ | cell_line | NA |  0.00000000 |  1.137757e-12 | chr11:5227021-5227208 | 5227021 | G | G | 2048 | RNA_SEQ |\n",
       "| chr11:5227022:G&gt;C | chr11:5225998-5228046:. | ENSG00000244734 | HBB | protein_coding | - | NA | NA | RNA_SEQ | GeneMaskLFCScorer(requested_output=RNA_SEQ) | ⋯ | cell_line | NA | -0.04630470 | -9.995797e-01 | chr11:5227021-5227208 | 5227021 | G | C | 2048 | RNA_SEQ |\n",
       "| chr11:5227022:G&gt;C | chr11:5225998-5228046:. | ENSG00000244734 | HBB | protein_coding | - | NA | NA | RNA_SEQ | GeneMaskLFCScorer(requested_output=RNA_SEQ) | ⋯ | cell_line | NA | -0.02306795 | -9.990577e-01 | chr11:5227021-5227208 | 5227021 | G | C | 2048 | RNA_SEQ |\n",
       "| chr11:5227022:G&gt;C | chr11:5225998-5228046:. | ENSG00000244734 | HBB | protein_coding | - | NA | NA | RNA_SEQ | GeneMaskLFCScorer(requested_output=RNA_SEQ) | ⋯ | cell_line | NA | -0.04114437 | -9.995283e-01 | chr11:5227021-5227208 | 5227021 | G | C | 2048 | RNA_SEQ |\n",
       "\n"
      ],
      "text/plain": [
       "  variant_id        scored_interval         gene_id         gene_name\n",
       "1 chr11:5227022:G>G chr11:5225998-5228046:. ENSG00000244734 HBB      \n",
       "2 chr11:5227022:G>G chr11:5225998-5228046:. ENSG00000244734 HBB      \n",
       "3 chr11:5227022:G>G chr11:5225998-5228046:. ENSG00000244734 HBB      \n",
       "4 chr11:5227022:G>C chr11:5225998-5228046:. ENSG00000244734 HBB      \n",
       "5 chr11:5227022:G>C chr11:5225998-5228046:. ENSG00000244734 HBB      \n",
       "6 chr11:5227022:G>C chr11:5225998-5228046:. ENSG00000244734 HBB      \n",
       "  gene_type      gene_strand junction_Start junction_End output_type\n",
       "1 protein_coding -           NA             NA           RNA_SEQ    \n",
       "2 protein_coding -           NA             NA           RNA_SEQ    \n",
       "3 protein_coding -           NA             NA           RNA_SEQ    \n",
       "4 protein_coding -           NA             NA           RNA_SEQ    \n",
       "5 protein_coding -           NA             NA           RNA_SEQ    \n",
       "6 protein_coding -           NA             NA           RNA_SEQ    \n",
       "  variant_scorer                              ⋯ biosample_type gtex_tissue\n",
       "1 GeneMaskLFCScorer(requested_output=RNA_SEQ) ⋯ cell_line      NA         \n",
       "2 GeneMaskLFCScorer(requested_output=RNA_SEQ) ⋯ cell_line      NA         \n",
       "3 GeneMaskLFCScorer(requested_output=RNA_SEQ) ⋯ cell_line      NA         \n",
       "4 GeneMaskLFCScorer(requested_output=RNA_SEQ) ⋯ cell_line      NA         \n",
       "5 GeneMaskLFCScorer(requested_output=RNA_SEQ) ⋯ cell_line      NA         \n",
       "6 GeneMaskLFCScorer(requested_output=RNA_SEQ) ⋯ cell_line      NA         \n",
       "  raw_score   quantile_score Region                Position Ref Alt Length\n",
       "1  0.00000000  1.137757e-12  chr11:5227021-5227208 5227021  G   G   2048  \n",
       "2  0.00000000  1.137757e-12  chr11:5227021-5227208 5227021  G   G   2048  \n",
       "3  0.00000000  1.137757e-12  chr11:5227021-5227208 5227021  G   G   2048  \n",
       "4 -0.04630470 -9.995797e-01  chr11:5227021-5227208 5227021  G   C   2048  \n",
       "5 -0.02306795 -9.990577e-01  chr11:5227021-5227208 5227021  G   C   2048  \n",
       "6 -0.04114437 -9.995283e-01  chr11:5227021-5227208 5227021  G   C   2048  \n",
       "  Scorer \n",
       "1 RNA_SEQ\n",
       "2 RNA_SEQ\n",
       "3 RNA_SEQ\n",
       "4 RNA_SEQ\n",
       "5 RNA_SEQ\n",
       "6 RNA_SEQ"
      ]
     },
     "metadata": {},
     "output_type": "display_data"
    }
   ],
   "source": [
    "### set file directory\n",
    "txt_fdiry = file.path(FD_RES, \"predict_variant_kircher2019\")\n",
    "txt_fname = \"result.alphagenome.variant.chunk.*.tsv\"\n",
    "txt_fglob = file.path(txt_fdiry, txt_fname)\n",
    "\n",
    "vec_txt_fpath = Sys.glob(txt_fglob)\n",
    "\n",
    "### read tables\n",
    "lst = lapply(vec_txt_fpath, function(txt_fpath){\n",
    "    dat = read_tsv(txt_fpath, show_col_types = FALSE)\n",
    "    return(dat)\n",
    "})\n",
    "dat = bind_rows(lst)\n",
    "\n",
    "\n",
    "### assign and show\n",
    "dat_region_variant_prediction = dat\n",
    "print(dim(dat))\n",
    "head(dat)"
   ]
  },
  {
   "cell_type": "markdown",
   "id": "ac0f041f-489a-467a-be82-f4a3fcc7e2a0",
   "metadata": {},
   "source": [
    "**Check:**"
   ]
  },
  {
   "cell_type": "code",
   "execution_count": 35,
   "id": "f8c43600-250c-4ca5-99a9-60ffde2dc707",
   "metadata": {},
   "outputs": [
    {
     "data": {
      "text/html": [
       "<style>\n",
       ".list-inline {list-style: none; margin:0; padding: 0}\n",
       ".list-inline>li {display: inline-block}\n",
       ".list-inline>li:not(:last-child)::after {content: \"\\00b7\"; padding: 0 .5ex}\n",
       "</style>\n",
       "<ol class=list-inline><li>'variant_id'</li><li>'scored_interval'</li><li>'gene_id'</li><li>'gene_name'</li><li>'gene_type'</li><li>'gene_strand'</li><li>'junction_Start'</li><li>'junction_End'</li><li>'output_type'</li><li>'variant_scorer'</li><li>'track_name'</li><li>'track_strand'</li><li>'Assay title'</li><li>'ontology_curie'</li><li>'biosample_name'</li><li>'biosample_type'</li><li>'gtex_tissue'</li><li>'raw_score'</li><li>'quantile_score'</li><li>'Region'</li><li>'Position'</li><li>'Ref'</li><li>'Alt'</li><li>'Length'</li><li>'Scorer'</li></ol>\n"
      ],
      "text/latex": [
       "\\begin{enumerate*}\n",
       "\\item 'variant\\_id'\n",
       "\\item 'scored\\_interval'\n",
       "\\item 'gene\\_id'\n",
       "\\item 'gene\\_name'\n",
       "\\item 'gene\\_type'\n",
       "\\item 'gene\\_strand'\n",
       "\\item 'junction\\_Start'\n",
       "\\item 'junction\\_End'\n",
       "\\item 'output\\_type'\n",
       "\\item 'variant\\_scorer'\n",
       "\\item 'track\\_name'\n",
       "\\item 'track\\_strand'\n",
       "\\item 'Assay title'\n",
       "\\item 'ontology\\_curie'\n",
       "\\item 'biosample\\_name'\n",
       "\\item 'biosample\\_type'\n",
       "\\item 'gtex\\_tissue'\n",
       "\\item 'raw\\_score'\n",
       "\\item 'quantile\\_score'\n",
       "\\item 'Region'\n",
       "\\item 'Position'\n",
       "\\item 'Ref'\n",
       "\\item 'Alt'\n",
       "\\item 'Length'\n",
       "\\item 'Scorer'\n",
       "\\end{enumerate*}\n"
      ],
      "text/markdown": [
       "1. 'variant_id'\n",
       "2. 'scored_interval'\n",
       "3. 'gene_id'\n",
       "4. 'gene_name'\n",
       "5. 'gene_type'\n",
       "6. 'gene_strand'\n",
       "7. 'junction_Start'\n",
       "8. 'junction_End'\n",
       "9. 'output_type'\n",
       "10. 'variant_scorer'\n",
       "11. 'track_name'\n",
       "12. 'track_strand'\n",
       "13. 'Assay title'\n",
       "14. 'ontology_curie'\n",
       "15. 'biosample_name'\n",
       "16. 'biosample_type'\n",
       "17. 'gtex_tissue'\n",
       "18. 'raw_score'\n",
       "19. 'quantile_score'\n",
       "20. 'Region'\n",
       "21. 'Position'\n",
       "22. 'Ref'\n",
       "23. 'Alt'\n",
       "24. 'Length'\n",
       "25. 'Scorer'\n",
       "\n",
       "\n"
      ],
      "text/plain": [
       " [1] \"variant_id\"      \"scored_interval\" \"gene_id\"         \"gene_name\"      \n",
       " [5] \"gene_type\"       \"gene_strand\"     \"junction_Start\"  \"junction_End\"   \n",
       " [9] \"output_type\"     \"variant_scorer\"  \"track_name\"      \"track_strand\"   \n",
       "[13] \"Assay title\"     \"ontology_curie\"  \"biosample_name\"  \"biosample_type\" \n",
       "[17] \"gtex_tissue\"     \"raw_score\"       \"quantile_score\"  \"Region\"         \n",
       "[21] \"Position\"        \"Ref\"             \"Alt\"             \"Length\"         \n",
       "[25] \"Scorer\"         "
      ]
     },
     "metadata": {},
     "output_type": "display_data"
    }
   ],
   "source": [
    "dat = dat_region_variant_prediction\n",
    "colnames(dat)"
   ]
  },
  {
   "cell_type": "code",
   "execution_count": 36,
   "id": "998c21c3-b759-4c1b-9a4b-506fbf4ba8c4",
   "metadata": {},
   "outputs": [
    {
     "data": {
      "text/plain": [
       "\n",
       " K562 \n",
       "69012 "
      ]
     },
     "metadata": {},
     "output_type": "display_data"
    }
   ],
   "source": [
    "dat = dat_region_variant_prediction\n",
    "table(dat$biosample_name)"
   ]
  },
  {
   "cell_type": "code",
   "execution_count": 37,
   "id": "43ae0f28-35ae-4183-ac57-7e9c4a7bada5",
   "metadata": {},
   "outputs": [
    {
     "data": {
      "text/html": [
       "'/hpc/group/igvf/kk319/repo/Proj_IGVF_BlueSTARR/scripts'"
      ],
      "text/latex": [
       "'/hpc/group/igvf/kk319/repo/Proj\\_IGVF\\_BlueSTARR/scripts'"
      ],
      "text/markdown": [
       "'/hpc/group/igvf/kk319/repo/Proj_IGVF_BlueSTARR/scripts'"
      ],
      "text/plain": [
       "[1] \"/hpc/group/igvf/kk319/repo/Proj_IGVF_BlueSTARR/scripts\""
      ]
     },
     "metadata": {},
     "output_type": "display_data"
    }
   ],
   "source": [
    "FD_EXE"
   ]
  },
  {
   "cell_type": "code",
   "execution_count": null,
   "id": "e01c8dc5-f36b-473f-853a-7dd2885784e6",
   "metadata": {},
   "outputs": [],
   "source": []
  },
  {
   "cell_type": "code",
   "execution_count": null,
   "id": "b573793a-a0f3-496c-9bbf-b3fb78eaae14",
   "metadata": {},
   "outputs": [],
   "source": []
  },
  {
   "cell_type": "code",
   "execution_count": 27,
   "id": "2d4cf8b9-37a6-4053-8fa6-614901a4fa04",
   "metadata": {},
   "outputs": [
    {
     "name": "stdout",
     "output_type": "stream",
     "text": [
      "[1] 23004     9\n"
     ]
    },
    {
     "data": {
      "text/html": [
       "<table class=\"dataframe\">\n",
       "<caption>A tibble: 6 × 9</caption>\n",
       "<thead>\n",
       "\t<tr><th scope=col>Region</th><th scope=col>Position</th><th scope=col>Ref</th><th scope=col>Alt</th><th scope=col>Scored_Interval</th><th scope=col>Output_Type</th><th scope=col>Gene_Name</th><th scope=col>Raw_Score</th><th scope=col>Quantile_Score</th></tr>\n",
       "\t<tr><th scope=col>&lt;chr&gt;</th><th scope=col>&lt;dbl&gt;</th><th scope=col>&lt;chr&gt;</th><th scope=col>&lt;chr&gt;</th><th scope=col>&lt;chr&gt;</th><th scope=col>&lt;chr&gt;</th><th scope=col>&lt;chr&gt;</th><th scope=col>&lt;dbl&gt;</th><th scope=col>&lt;dbl&gt;</th></tr>\n",
       "</thead>\n",
       "<tbody>\n",
       "\t<tr><td>chr10:46046243-46046538</td><td>46046243</td><td>A</td><td>A</td><td>chr10:46045220-46047268:.</td><td>RNA_SEQ</td><td>MSMB</td><td>0.000000000</td><td>1.137757e-12</td></tr>\n",
       "\t<tr><td>chr10:46046243-46046538</td><td>46046243</td><td>A</td><td>C</td><td>chr10:46045220-46047268:.</td><td>RNA_SEQ</td><td>MSMB</td><td>0.039475124</td><td>9.994492e-01</td></tr>\n",
       "\t<tr><td>chr10:46046243-46046538</td><td>46046243</td><td>A</td><td>G</td><td>chr10:46045220-46047268:.</td><td>RNA_SEQ</td><td>MSMB</td><td>0.041171392</td><td>9.994457e-01</td></tr>\n",
       "\t<tr><td>chr10:46046243-46046538</td><td>46046243</td><td>A</td><td>T</td><td>chr10:46045220-46047268:.</td><td>RNA_SEQ</td><td>MSMB</td><td>0.005814075</td><td>9.372583e-01</td></tr>\n",
       "\t<tr><td>chr10:46046243-46046538</td><td>46046244</td><td>A</td><td>A</td><td>chr10:46045221-46047269:.</td><td>RNA_SEQ</td><td>MSMB</td><td>0.000000000</td><td>1.137757e-12</td></tr>\n",
       "\t<tr><td>chr10:46046243-46046538</td><td>46046244</td><td>A</td><td>C</td><td>chr10:46045221-46047269:.</td><td>RNA_SEQ</td><td>MSMB</td><td>0.011524677</td><td>8.124835e-01</td></tr>\n",
       "</tbody>\n",
       "</table>\n"
      ],
      "text/latex": [
       "A tibble: 6 × 9\n",
       "\\begin{tabular}{lllllllll}\n",
       " Region & Position & Ref & Alt & Scored\\_Interval & Output\\_Type & Gene\\_Name & Raw\\_Score & Quantile\\_Score\\\\\n",
       " <chr> & <dbl> & <chr> & <chr> & <chr> & <chr> & <chr> & <dbl> & <dbl>\\\\\n",
       "\\hline\n",
       "\t chr10:46046243-46046538 & 46046243 & A & A & chr10:46045220-46047268:. & RNA\\_SEQ & MSMB & 0.000000000 & 1.137757e-12\\\\\n",
       "\t chr10:46046243-46046538 & 46046243 & A & C & chr10:46045220-46047268:. & RNA\\_SEQ & MSMB & 0.039475124 & 9.994492e-01\\\\\n",
       "\t chr10:46046243-46046538 & 46046243 & A & G & chr10:46045220-46047268:. & RNA\\_SEQ & MSMB & 0.041171392 & 9.994457e-01\\\\\n",
       "\t chr10:46046243-46046538 & 46046243 & A & T & chr10:46045220-46047268:. & RNA\\_SEQ & MSMB & 0.005814075 & 9.372583e-01\\\\\n",
       "\t chr10:46046243-46046538 & 46046244 & A & A & chr10:46045221-46047269:. & RNA\\_SEQ & MSMB & 0.000000000 & 1.137757e-12\\\\\n",
       "\t chr10:46046243-46046538 & 46046244 & A & C & chr10:46045221-46047269:. & RNA\\_SEQ & MSMB & 0.011524677 & 8.124835e-01\\\\\n",
       "\\end{tabular}\n"
      ],
      "text/markdown": [
       "\n",
       "A tibble: 6 × 9\n",
       "\n",
       "| Region &lt;chr&gt; | Position &lt;dbl&gt; | Ref &lt;chr&gt; | Alt &lt;chr&gt; | Scored_Interval &lt;chr&gt; | Output_Type &lt;chr&gt; | Gene_Name &lt;chr&gt; | Raw_Score &lt;dbl&gt; | Quantile_Score &lt;dbl&gt; |\n",
       "|---|---|---|---|---|---|---|---|---|\n",
       "| chr10:46046243-46046538 | 46046243 | A | A | chr10:46045220-46047268:. | RNA_SEQ | MSMB | 0.000000000 | 1.137757e-12 |\n",
       "| chr10:46046243-46046538 | 46046243 | A | C | chr10:46045220-46047268:. | RNA_SEQ | MSMB | 0.039475124 | 9.994492e-01 |\n",
       "| chr10:46046243-46046538 | 46046243 | A | G | chr10:46045220-46047268:. | RNA_SEQ | MSMB | 0.041171392 | 9.994457e-01 |\n",
       "| chr10:46046243-46046538 | 46046243 | A | T | chr10:46045220-46047268:. | RNA_SEQ | MSMB | 0.005814075 | 9.372583e-01 |\n",
       "| chr10:46046243-46046538 | 46046244 | A | A | chr10:46045221-46047269:. | RNA_SEQ | MSMB | 0.000000000 | 1.137757e-12 |\n",
       "| chr10:46046243-46046538 | 46046244 | A | C | chr10:46045221-46047269:. | RNA_SEQ | MSMB | 0.011524677 | 8.124835e-01 |\n",
       "\n"
      ],
      "text/plain": [
       "  Region                  Position Ref Alt Scored_Interval          \n",
       "1 chr10:46046243-46046538 46046243 A   A   chr10:46045220-46047268:.\n",
       "2 chr10:46046243-46046538 46046243 A   C   chr10:46045220-46047268:.\n",
       "3 chr10:46046243-46046538 46046243 A   G   chr10:46045220-46047268:.\n",
       "4 chr10:46046243-46046538 46046243 A   T   chr10:46045220-46047268:.\n",
       "5 chr10:46046243-46046538 46046244 A   A   chr10:46045221-46047269:.\n",
       "6 chr10:46046243-46046538 46046244 A   C   chr10:46045221-46047269:.\n",
       "  Output_Type Gene_Name Raw_Score   Quantile_Score\n",
       "1 RNA_SEQ     MSMB      0.000000000 1.137757e-12  \n",
       "2 RNA_SEQ     MSMB      0.039475124 9.994492e-01  \n",
       "3 RNA_SEQ     MSMB      0.041171392 9.994457e-01  \n",
       "4 RNA_SEQ     MSMB      0.005814075 9.372583e-01  \n",
       "5 RNA_SEQ     MSMB      0.000000000 1.137757e-12  \n",
       "6 RNA_SEQ     MSMB      0.011524677 8.124835e-01  "
      ]
     },
     "metadata": {},
     "output_type": "display_data"
    }
   ],
   "source": [
    "dat = dat_region_variant_prediction\n",
    "dat = dat %>%\n",
    "    dplyr::select(\n",
    "        Region, Position, Ref, Alt,\n",
    "        variant_id, scored_interval, output_type, gene_name,\n",
    "        raw_score, quantile_score\n",
    "    )\n",
    "\n",
    "###\n",
    "vec = c(\n",
    "    \"Scored_Interval\" = \"scored_interval\",\n",
    "    \"Output_Type\"     = \"output_type\",\n",
    "    \"Gene_Name\"       = \"gene_name\", \n",
    "    \"Raw_Score\"       = \"raw_score\",\n",
    "    \"Quantile_Score\"  = \"quantile_score\" \n",
    ")\n",
    "dat = dat %>% dplyr::rename(all_of(vec))\n",
    "\n",
    "### \n",
    "dat = dat %>% \n",
    "    dplyr::group_by(Region, Position, Ref, Alt, Scored_Interval, Output_Type, Gene_Name) %>% \n",
    "    dplyr::summarise(\n",
    "        Raw_Score      = mean(Raw_Score),\n",
    "        Quantile_Score = mean(Quantile_Score),\n",
    "        .groups = \"drop\"\n",
    "    )\n",
    "\n",
    "### assign and show\n",
    "dat_region_variant_prediction_arrange = dat\n",
    "print(dim(dat))\n",
    "head(dat)"
   ]
  },
  {
   "cell_type": "code",
   "execution_count": 28,
   "id": "16acb7a0-e0ad-4400-99c6-971886ebd6e9",
   "metadata": {},
   "outputs": [
    {
     "data": {
      "text/html": [
       "<style>\n",
       ".list-inline {list-style: none; margin:0; padding: 0}\n",
       ".list-inline>li {display: inline-block}\n",
       ".list-inline>li:not(:last-child)::after {content: \"\\00b7\"; padding: 0 .5ex}\n",
       "</style>\n",
       "<ol class=list-inline><li>39376</li><li>5</li></ol>\n"
      ],
      "text/latex": [
       "\\begin{enumerate*}\n",
       "\\item 39376\n",
       "\\item 5\n",
       "\\end{enumerate*}\n"
      ],
      "text/markdown": [
       "1. 39376\n",
       "2. 5\n",
       "\n",
       "\n"
      ],
      "text/plain": [
       "[1] 39376     5"
      ]
     },
     "metadata": {},
     "output_type": "display_data"
    }
   ],
   "source": [
    "dat = dat_region_variant_position\n",
    "dim(dat)"
   ]
  },
  {
   "cell_type": "code",
   "execution_count": 29,
   "id": "d53f4ae3-36d5-4dab-96f3-f61def8c6704",
   "metadata": {},
   "outputs": [
    {
     "data": {
      "text/html": [
       "<style>\n",
       ".list-inline {list-style: none; margin:0; padding: 0}\n",
       ".list-inline>li {display: inline-block}\n",
       ".list-inline>li:not(:last-child)::after {content: \"\\00b7\"; padding: 0 .5ex}\n",
       "</style>\n",
       "<ol class=list-inline><li>23004</li><li>9</li></ol>\n"
      ],
      "text/latex": [
       "\\begin{enumerate*}\n",
       "\\item 23004\n",
       "\\item 9\n",
       "\\end{enumerate*}\n"
      ],
      "text/markdown": [
       "1. 23004\n",
       "2. 9\n",
       "\n",
       "\n"
      ],
      "text/plain": [
       "[1] 23004     9"
      ]
     },
     "metadata": {},
     "output_type": "display_data"
    }
   ],
   "source": [
    "dat = dat_region_variant_prediction_arrange\n",
    "dim(dat)"
   ]
  },
  {
   "cell_type": "code",
   "execution_count": 30,
   "id": "920c8686-229e-4af6-ab66-a45cdce86e58",
   "metadata": {},
   "outputs": [
    {
     "name": "stdout",
     "output_type": "stream",
     "text": [
      "[1] 42916    10\n"
     ]
    },
    {
     "data": {
      "text/html": [
       "<table class=\"dataframe\">\n",
       "<caption>A tibble: 6 × 10</caption>\n",
       "<thead>\n",
       "\t<tr><th scope=col>Region</th><th scope=col>Position</th><th scope=col>Ref</th><th scope=col>Alt</th><th scope=col>Variant_ID</th><th scope=col>Scored_Interval</th><th scope=col>Output_Type</th><th scope=col>Gene_Name</th><th scope=col>Raw_Score</th><th scope=col>Quantile_Score</th></tr>\n",
       "\t<tr><th scope=col>&lt;chr&gt;</th><th scope=col>&lt;dbl&gt;</th><th scope=col>&lt;chr&gt;</th><th scope=col>&lt;chr&gt;</th><th scope=col>&lt;chr&gt;</th><th scope=col>&lt;chr&gt;</th><th scope=col>&lt;chr&gt;</th><th scope=col>&lt;chr&gt;</th><th scope=col>&lt;dbl&gt;</th><th scope=col>&lt;dbl&gt;</th></tr>\n",
       "</thead>\n",
       "<tbody>\n",
       "\t<tr><td>chr11:5227021-5227208</td><td>5227021</td><td>G</td><td>G</td><td>chr11:5227022:G&gt;G</td><td>chr11:5225998-5228046:.</td><td>RNA_SEQ</td><td>HBB</td><td> 0.00000000</td><td> 1.137757e-12</td></tr>\n",
       "\t<tr><td>chr11:5227021-5227208</td><td>5227021</td><td>G</td><td>C</td><td>chr11:5227022:G&gt;C</td><td>chr11:5225998-5228046:.</td><td>RNA_SEQ</td><td>HBB</td><td>-0.03683901</td><td>-9.993886e-01</td></tr>\n",
       "\t<tr><td>chr11:5227021-5227208</td><td>5227021</td><td>G</td><td>A</td><td>chr11:5227022:G&gt;A</td><td>chr11:5225998-5228046:.</td><td>RNA_SEQ</td><td>HBB</td><td>-0.01459456</td><td>-9.887586e-01</td></tr>\n",
       "\t<tr><td>chr11:5227021-5227208</td><td>5227021</td><td>G</td><td>T</td><td>chr11:5227022:G&gt;T</td><td>chr11:5225998-5228046:.</td><td>RNA_SEQ</td><td>HBB</td><td>-0.05359872</td><td>-9.996582e-01</td></tr>\n",
       "\t<tr><td>chr11:5227021-5227208</td><td>5227022</td><td>G</td><td>G</td><td>chr11:5227023:G&gt;G</td><td>chr11:5225999-5228047:.</td><td>RNA_SEQ</td><td>HBB</td><td> 0.00000000</td><td> 1.137757e-12</td></tr>\n",
       "\t<tr><td>chr11:5227021-5227208</td><td>5227022</td><td>G</td><td>C</td><td>chr11:5227023:G&gt;C</td><td>chr11:5225999-5228047:.</td><td>RNA_SEQ</td><td>HBB</td><td>-0.01282835</td><td>-9.670226e-01</td></tr>\n",
       "</tbody>\n",
       "</table>\n"
      ],
      "text/latex": [
       "A tibble: 6 × 10\n",
       "\\begin{tabular}{llllllllll}\n",
       " Region & Position & Ref & Alt & Variant\\_ID & Scored\\_Interval & Output\\_Type & Gene\\_Name & Raw\\_Score & Quantile\\_Score\\\\\n",
       " <chr> & <dbl> & <chr> & <chr> & <chr> & <chr> & <chr> & <chr> & <dbl> & <dbl>\\\\\n",
       "\\hline\n",
       "\t chr11:5227021-5227208 & 5227021 & G & G & chr11:5227022:G>G & chr11:5225998-5228046:. & RNA\\_SEQ & HBB &  0.00000000 &  1.137757e-12\\\\\n",
       "\t chr11:5227021-5227208 & 5227021 & G & C & chr11:5227022:G>C & chr11:5225998-5228046:. & RNA\\_SEQ & HBB & -0.03683901 & -9.993886e-01\\\\\n",
       "\t chr11:5227021-5227208 & 5227021 & G & A & chr11:5227022:G>A & chr11:5225998-5228046:. & RNA\\_SEQ & HBB & -0.01459456 & -9.887586e-01\\\\\n",
       "\t chr11:5227021-5227208 & 5227021 & G & T & chr11:5227022:G>T & chr11:5225998-5228046:. & RNA\\_SEQ & HBB & -0.05359872 & -9.996582e-01\\\\\n",
       "\t chr11:5227021-5227208 & 5227022 & G & G & chr11:5227023:G>G & chr11:5225999-5228047:. & RNA\\_SEQ & HBB &  0.00000000 &  1.137757e-12\\\\\n",
       "\t chr11:5227021-5227208 & 5227022 & G & C & chr11:5227023:G>C & chr11:5225999-5228047:. & RNA\\_SEQ & HBB & -0.01282835 & -9.670226e-01\\\\\n",
       "\\end{tabular}\n"
      ],
      "text/markdown": [
       "\n",
       "A tibble: 6 × 10\n",
       "\n",
       "| Region &lt;chr&gt; | Position &lt;dbl&gt; | Ref &lt;chr&gt; | Alt &lt;chr&gt; | Variant_ID &lt;chr&gt; | Scored_Interval &lt;chr&gt; | Output_Type &lt;chr&gt; | Gene_Name &lt;chr&gt; | Raw_Score &lt;dbl&gt; | Quantile_Score &lt;dbl&gt; |\n",
       "|---|---|---|---|---|---|---|---|---|---|\n",
       "| chr11:5227021-5227208 | 5227021 | G | G | chr11:5227022:G&gt;G | chr11:5225998-5228046:. | RNA_SEQ | HBB |  0.00000000 |  1.137757e-12 |\n",
       "| chr11:5227021-5227208 | 5227021 | G | C | chr11:5227022:G&gt;C | chr11:5225998-5228046:. | RNA_SEQ | HBB | -0.03683901 | -9.993886e-01 |\n",
       "| chr11:5227021-5227208 | 5227021 | G | A | chr11:5227022:G&gt;A | chr11:5225998-5228046:. | RNA_SEQ | HBB | -0.01459456 | -9.887586e-01 |\n",
       "| chr11:5227021-5227208 | 5227021 | G | T | chr11:5227022:G&gt;T | chr11:5225998-5228046:. | RNA_SEQ | HBB | -0.05359872 | -9.996582e-01 |\n",
       "| chr11:5227021-5227208 | 5227022 | G | G | chr11:5227023:G&gt;G | chr11:5225999-5228047:. | RNA_SEQ | HBB |  0.00000000 |  1.137757e-12 |\n",
       "| chr11:5227021-5227208 | 5227022 | G | C | chr11:5227023:G&gt;C | chr11:5225999-5228047:. | RNA_SEQ | HBB | -0.01282835 | -9.670226e-01 |\n",
       "\n"
      ],
      "text/plain": [
       "  Region                Position Ref Alt Variant_ID       \n",
       "1 chr11:5227021-5227208 5227021  G   G   chr11:5227022:G>G\n",
       "2 chr11:5227021-5227208 5227021  G   C   chr11:5227022:G>C\n",
       "3 chr11:5227021-5227208 5227021  G   A   chr11:5227022:G>A\n",
       "4 chr11:5227021-5227208 5227021  G   T   chr11:5227022:G>T\n",
       "5 chr11:5227021-5227208 5227022  G   G   chr11:5227023:G>G\n",
       "6 chr11:5227021-5227208 5227022  G   C   chr11:5227023:G>C\n",
       "  Scored_Interval         Output_Type Gene_Name Raw_Score   Quantile_Score\n",
       "1 chr11:5225998-5228046:. RNA_SEQ     HBB        0.00000000  1.137757e-12 \n",
       "2 chr11:5225998-5228046:. RNA_SEQ     HBB       -0.03683901 -9.993886e-01 \n",
       "3 chr11:5225998-5228046:. RNA_SEQ     HBB       -0.01459456 -9.887586e-01 \n",
       "4 chr11:5225998-5228046:. RNA_SEQ     HBB       -0.05359872 -9.996582e-01 \n",
       "5 chr11:5225999-5228047:. RNA_SEQ     HBB        0.00000000  1.137757e-12 \n",
       "6 chr11:5225999-5228047:. RNA_SEQ     HBB       -0.01282835 -9.670226e-01 "
      ]
     },
     "metadata": {},
     "output_type": "display_data"
    }
   ],
   "source": [
    "###\n",
    "vec = c(\"Region\", \"Position\", \"Ref\", \"Alt\")\n",
    "dat = dplyr::left_join(\n",
    "    dat_region_variant_position, \n",
    "    dat_region_variant_prediction_arrange, \n",
    "    by = vec)\n",
    "\n",
    "### assign and show\n",
    "dat_region_variant_merge = dat\n",
    "print(dim(dat))\n",
    "head(dat)"
   ]
  },
  {
   "cell_type": "code",
   "execution_count": null,
   "id": "158e07f9-77f7-4b08-a8eb-6a317bf0dab4",
   "metadata": {},
   "outputs": [],
   "source": []
  },
  {
   "cell_type": "code",
   "execution_count": null,
   "id": "ef389632-c190-4a64-9a78-6877bb444c35",
   "metadata": {},
   "outputs": [],
   "source": []
  },
  {
   "cell_type": "code",
   "execution_count": null,
   "id": "dd50d0cc-5786-4d41-adda-88b559f5a406",
   "metadata": {},
   "outputs": [],
   "source": []
  },
  {
   "cell_type": "code",
   "execution_count": 33,
   "id": "be0a264f-1827-4517-918f-892a19391e54",
   "metadata": {},
   "outputs": [
    {
     "name": "stdout",
     "output_type": "stream",
     "text": [
      "[1] 39376     5\n"
     ]
    },
    {
     "data": {
      "text/plain": [
       "\n",
       "    1     2 \n",
       "35836  3540 "
      ]
     },
     "metadata": {},
     "output_type": "display_data"
    }
   ],
   "source": [
    "dat = dat_region_variant_merge\n",
    "dat = dat %>% \n",
    "    dplyr::group_by(Region, Position, Ref, Alt) %>% \n",
    "    dplyr::summarise(Count = n(), .groups = \"drop\")\n",
    "\n",
    "print(dim(dat))\n",
    "table(dat$Count)"
   ]
  },
  {
   "cell_type": "code",
   "execution_count": null,
   "id": "479c53ac-58ed-4f6c-8688-e01b77ce9ed5",
   "metadata": {},
   "outputs": [],
   "source": []
  },
  {
   "cell_type": "code",
   "execution_count": null,
   "id": "96fa3bea-e18d-4a15-81fd-1f11a4f7bdc6",
   "metadata": {},
   "outputs": [],
   "source": []
  },
  {
   "cell_type": "code",
   "execution_count": null,
   "id": "62859379-3c05-47ab-a22d-ce28c2d20ca4",
   "metadata": {},
   "outputs": [],
   "source": []
  },
  {
   "cell_type": "code",
   "execution_count": 34,
   "id": "1bbe0fa0-9b58-4b71-a2b2-d1d513032386",
   "metadata": {},
   "outputs": [],
   "source": [
    "txt_fdiry = file.path(FD_RES, \"predict_variant_kircher2019\")\n",
    "txt_fname = \"result.alphagenome.variant.summary.tsv\"\n",
    "txt_fpath = file.path(txt_fdiry, txt_fname)\n",
    "\n",
    "dat = dat_region_variant_merge\n",
    "write_tsv(dat, txt_fpath)"
   ]
  },
  {
   "cell_type": "code",
   "execution_count": null,
   "id": "168b1f0b-452c-440d-b26c-eb237568c8a2",
   "metadata": {},
   "outputs": [],
   "source": []
  },
  {
   "cell_type": "code",
   "execution_count": null,
   "id": "7e157013-5d73-4447-9568-b336fdf6f099",
   "metadata": {},
   "outputs": [],
   "source": []
  }
 ],
 "metadata": {
  "kernelspec": {
   "display_name": "R",
   "language": "R",
   "name": "ir"
  },
  "language_info": {
   "codemirror_mode": "r",
   "file_extension": ".r",
   "mimetype": "text/x-r-source",
   "name": "R",
   "pygments_lexer": "r",
   "version": "4.5.1"
  }
 },
 "nbformat": 4,
 "nbformat_minor": 5
}
