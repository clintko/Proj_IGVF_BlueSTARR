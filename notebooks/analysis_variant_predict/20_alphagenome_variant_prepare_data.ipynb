{
 "cells": [
  {
   "cell_type": "raw",
   "id": "8c07cacd-164b-4211-bc7a-7d0a1abb50e7",
   "metadata": {},
   "source": [
    "---\n",
    "title: Test Alphagenome\n",
    "subtitle: Test to run alphagenome on a variant\n",
    "format:\n",
    "    html:\n",
    "        code-fold:  true\n",
    "        code-tools: true\n",
    "---"
   ]
  },
  {
   "cell_type": "markdown",
   "id": "535f2368-9c8b-4af6-a675-be66ca5e2d6f",
   "metadata": {},
   "source": [
    "**Set environment**"
   ]
  },
  {
   "cell_type": "code",
   "execution_count": 1,
   "id": "9e97062a-0841-4554-ad30-23be258945a4",
   "metadata": {},
   "outputs": [
    {
     "name": "stdout",
     "output_type": "stream",
     "text": [
      "BASE DIRECTORY (FD_BASE):      /hpc/group/igvf/kk319\n",
      "REPO DIRECTORY (FD_REPO):      /hpc/group/igvf/kk319/repo\n",
      "WORK DIRECTORY (FD_WORK):      /hpc/group/igvf/kk319/work\n",
      "DATA DIRECTORY (FD_DATA):      /hpc/group/igvf/kk319/data\n",
      "CONTAINER DIR. (FD_SING):      /hpc/group/igvf/kk319/container\n",
      "\n",
      "You are working with           \n",
      "PATH OF PROJECT (FD_PRJ):      /hpc/group/igvf/kk319/repo/Proj_IGVF_BlueSTARR\n",
      "PROJECT RESULTS (FD_RES):      /hpc/group/igvf/kk319/repo/Proj_IGVF_BlueSTARR/results\n",
      "PROJECT SCRIPTS (FD_EXE):      /hpc/group/igvf/kk319/repo/Proj_IGVF_BlueSTARR/scripts\n",
      "PROJECT DATA    (FD_DAT):      /hpc/group/igvf/kk319/repo/Proj_IGVF_BlueSTARR/data\n",
      "PROJECT NOTE    (FD_NBK):      /hpc/group/igvf/kk319/repo/Proj_IGVF_BlueSTARR/notebooks\n",
      "PROJECT DOCS    (FD_DOC):      /hpc/group/igvf/kk319/repo/Proj_IGVF_BlueSTARR/docs\n",
      "PROJECT LOG     (FD_LOG):      /hpc/group/igvf/kk319/repo/Proj_IGVF_BlueSTARR/log\n",
      "PROJECT REF     (FD_REF):      /hpc/group/igvf/kk319/repo/Proj_IGVF_BlueSTARR/references\n",
      "PROJECT IMAGE   (FP_PRJ_SIF):  /hpc/group/igvf/kk319/container/project/singularity_proj_igvf_bluestarr.sif\n",
      "PROJECT CONF.   (FP_CNF):      /hpc/group/igvf/kk319/repo/Proj_IGVF_BlueSTARR/scripts/config_project.sh\n",
      "\n"
     ]
    }
   ],
   "source": [
    "source ../run_config_project.sh\n",
    "show_env"
   ]
  },
  {
   "cell_type": "markdown",
   "id": "5ed5dff9-f187-4ab9-b960-2e49647b69e9",
   "metadata": {},
   "source": [
    "## Get Kircher region chunk data"
   ]
  },
  {
   "cell_type": "markdown",
   "id": "69d37734-44f9-4615-b83c-14e748ee4ef6",
   "metadata": {},
   "source": [
    "**Prepare data**"
   ]
  },
  {
   "cell_type": "code",
   "execution_count": 2,
   "id": "018c3827-452c-49d4-bbd6-3e1d1a4c8df0",
   "metadata": {},
   "outputs": [
    {
     "name": "stdout",
     "output_type": "stream",
     "text": [
      "chr11:5227021-5227208\t5227021:ref=G:G,C,A,T\t5227022:ref=G:G,C,A,T\t5227023:ref=T:G,C,A,T\t5227024:ref=G:G,C,A,T\t5227025:ref=T:G,C,A,T\t5227026:ref=C:G,C,A,T\t5227027:ref=T:G,C,A,T\t5227028:ref=G:G,C,A,T\t5227029:ref=T:G,C,A,T\t5227030:ref=T:G,C,A,T\t5227031:ref=T:G,C,A,T\t5227032:ref=G:G,C,A,T\t5227033:ref=A:G,C,A,T\t5227034:ref=G:G,C,A,T\t5227035:ref=G:G,C,A,T\t5227036:ref=T:G,C,A,T\t5227037:ref=T:G,C,A,T\t5227038:ref=G:G,C,A,T\t5227039:ref=C:G,C,A,T\t5227040:ref=T:G,C,A,T\t5227041:ref=A:G,C,A,T\t5227042:ref=G:G,C,A,T\t5227043:ref=T:G,C,A,T\t5227044:ref=G:G,C,A,T\t5227045:ref=A:G,C,A,T\t5227046:ref=A:G,C,A,T\t5227047:ref=C:G,C,A,T\t5227048:ref=A:G,C,A,T\t5227049:ref=C:G,C,A,T\t5227050:ref=A:G,C,A,T\t5227051:ref=G:G,C,A,T\t5227052:ref=T:G,C,A,T\t5227053:ref=T:G,C,A,T\t5227054:ref=G:G,C,A,T\t5227055:ref=T:G,C,A,T\t5227056:ref=G:G,C,A,T\t5227057:ref=T:G,C,A,T\t5227058:ref=C:G,C,A,T\t5227059:ref=A:G,C,A,T\t5227060:ref=G:G,C,A,T\t5227061:ref=A:G,C,A,T\t5227062:ref=A:G,C,A,T\t5227063:ref=G:G,C,A,T\t5227064:ref=C:G,C,A,T\t5227065:ref=A:G,C,A,T\t5227066:ref=A:G,C,A,T\t5227067:ref=A:G,C,A,T\t5227068:ref=T:G,C,A,T\t5227069:ref=G:G,C,A,T\t5227070:ref=T:G,C,A,T\t5227071:ref=A:G,C,A,T\t5227072:ref=A:G,C,A,T\t5227073:ref=G:G,C,A,T\t5227074:ref=C:G,C,A,T\t5227075:ref=A:G,C,A,T\t5227076:ref=A:G,C,A,T\t5227077:ref=T:G,C,A,T\t5227078:ref=A:G,C,A,T\t5227079:ref=G:G,C,A,T\t5227080:ref=A:G,C,A,T\t5227081:ref=T:G,C,A,T\t5227082:ref=G:G,C,A,T\t5227083:ref=G:G,C,A,T\t5227084:ref=C:G,C,A,T\t5227085:ref=T:G,C,A,T\t5227086:ref=C:G,C,A,T\t5227087:ref=T:G,C,A,T\t5227088:ref=G:G,C,A,T\t5227089:ref=C:G,C,A,T\t5227090:ref=C:G,C,A,T\t5227091:ref=C:G,C,A,T\t5227092:ref=T:G,C,A,T\t5227093:ref=G:G,C,A,T\t5227094:ref=A:G,C,A,T\t5227095:ref=C:G,C,A,T\t5227096:ref=T:G,C,A,T\t5227097:ref=T:G,C,A,T\t5227098:ref=T:G,C,A,T\t5227099:ref=T:G,C,A,T\t5227100:ref=A:G,C,A,T\t5227101:ref=T:G,C,A,T\t5227102:ref=G:G,C,A,T\t5227103:ref=C:G,C,A,T\t5227104:ref=C:G,C,A,T\t5227105:ref=C:G,C,A,T\t5227106:ref=A:G,C,A,T\t5227107:ref=G:G,C,A,T\t5227108:ref=C:G,C,A,T\t5227109:ref=C:G,C,A,T\t5227110:ref=C:G,C,A,T\t5227111:ref=T:G,C,A,T\t5227112:ref=G:G,C,A,T\t5227113:ref=G:G,C,A,T\t5227114:ref=C:G,C,A,T\t5227115:ref=T:G,C,A,T\t5227116:ref=C:G,C,A,T\t5227117:ref=C:G,C,A,T\t5227118:ref=T:G,C,A,T\t5227119:ref=G:G,C,A,T\t5227120:ref=C:G,C,A,T\t5227121:ref=C:G,C,A,T\t5227122:ref=C:G,C,A,T\t5227123:ref=T:G,C,A,T\t5227124:ref=C:G,C,A,T\t5227125:ref=C:G,C,A,T\t5227126:ref=C:G,C,A,T\t5227127:ref=T:G,C,A,T\t5227128:ref=G:G,C,A,T\t5227129:ref=C:G,C,A,T\t5227130:ref=T:G,C,A,T\t5227131:ref=C:G,C,A,T\t5227132:ref=C:G,C,A,T\t5227133:ref=T:G,C,A,T\t5227134:ref=G:G,C,A,T\t5227135:ref=G:G,C,A,T\t5227136:ref=G:G,C,A,T\t5227137:ref=A:G,C,A,T\t5227138:ref=G:G,C,A,T\t5227139:ref=T:G,C,A,T\t5227140:ref=A:G,C,A,T\t5227141:ref=G:G,C,A,T\t5227142:ref=A:G,C,A,T\t5227143:ref=T:G,C,A,T\t5227144:ref=T:G,C,A,T\t5227145:ref=G:G,C,A,T\t5227146:ref=G:G,C,A,T\t5227147:ref=C:G,C,A,T\t5227148:ref=C:G,C,A,T\t5227149:ref=A:G,C,A,T\t5227150:ref=A:G,C,A,T\t5227151:ref=C:G,C,A,T\t5227152:ref=C:G,C,A,T\t5227153:ref=C:G,C,A,T\t5227154:ref=T:G,C,A,T\t5227155:ref=A:G,C,A,T\t5227156:ref=G:G,C,A,T\t5227157:ref=G:G,C,A,T\t5227158:ref=G:G,C,A,T\t5227159:ref=T:G,C,A,T\t5227160:ref=G:G,C,A,T\t5227161:ref=T:G,C,A,T\t5227162:ref=G:G,C,A,T\t5227163:ref=G:G,C,A,T\t5227164:ref=C:G,C,A,T\t5227165:ref=T:G,C,A,T\t5227166:ref=C:G,C,A,T\t5227167:ref=C:G,C,A,T\t5227168:ref=A:G,C,A,T\t5227169:ref=C:G,C,A,T\t5227170:ref=A:G,C,A,T\t5227171:ref=G:G,C,A,T\t5227172:ref=G:G,C,A,T\t5227173:ref=G:G,C,A,T\t5227174:ref=T:G,C,A,T\t5227175:ref=G:G,C,A,T\t5227176:ref=A:G,C,A,T\t5227177:ref=G:G,C,A,T\t5227178:ref=G:G,C,A,T\t5227179:ref=T:G,C,A,T\t5227180:ref=C:G,C,A,T\t5227181:ref=T:G,C,A,T\t5227182:ref=A:G,C,A,T\t5227183:ref=A:G,C,A,T\t5227184:ref=G:G,C,A,T\t5227185:ref=T:G,C,A,T\t5227186:ref=G:G,C,A,T\t5227187:ref=A:G,C,A,T\t5227188:ref=T:G,C,A,T\t5227189:ref=G:G,C,A,T\t5227190:ref=A:G,C,A,T\t5227191:ref=C:G,C,A,T\t5227192:ref=A:G,C,A,T\t5227193:ref=G:G,C,A,T\t5227194:ref=C:G,C,A,T\t5227195:ref=C:G,C,A,T\t5227196:ref=G:G,C,A,T\t5227197:ref=T:G,C,A,T\t5227198:ref=A:G,C,A,T\t5227199:ref=C:G,C,A,T\t5227200:ref=C:G,C,A,T\t5227201:ref=T:G,C,A,T\t5227202:ref=G:G,C,A,T\t5227203:ref=T:G,C,A,T\t5227204:ref=C:G,C,A,T\t5227205:ref=C:G,C,A,T\t5227206:ref=T:G,C,A,T\t5227207:ref=T:G,C,A,T\t\n"
     ]
    }
   ],
   "source": [
    "FD_INP=\"/hpc/group/igvf/K562/mdl_eval/BlueSTARR_vs_DeltaSVM/Kircher_entire_regions\"\n",
    "FN_INP=\"Kircher_region_chunk.txt\"\n",
    "FP_INP=${FD_INP}/${FN_INP}\n",
    "\n",
    "head -n 1 ${FP_INP}"
   ]
  },
  {
   "cell_type": "markdown",
   "id": "4a8282c0-c553-437d-845d-36efcaf24952",
   "metadata": {},
   "source": [
    "**Copy file**"
   ]
  },
  {
   "cell_type": "code",
   "execution_count": 3,
   "id": "06d96026-2b34-4f44-abca-119d91a9590e",
   "metadata": {},
   "outputs": [],
   "source": [
    "### set input file\n",
    "FD_INP=\"/hpc/group/igvf/K562/mdl_eval/BlueSTARR_vs_DeltaSVM/Kircher_entire_regions\"\n",
    "FN_INP=\"Kircher_region_chunk.txt\"\n",
    "FP_INP=${FD_INP}/${FN_INP}\n",
    "\n",
    "### set output directory\n",
    "FD_OUT=${FD_DAT}/\"kircher2019\"\n",
    "\n",
    "### copy file\n",
    "cp ${FP_INP} ${FD_OUT}/"
   ]
  },
  {
   "cell_type": "markdown",
   "id": "b9b8ee00-3e11-454a-aaa6-a71f34db057d",
   "metadata": {},
   "source": [
    "**Check results**"
   ]
  },
  {
   "cell_type": "code",
   "execution_count": 5,
   "id": "7b1a318d-fd36-4ddd-8498-c66869fee898",
   "metadata": {},
   "outputs": [
    {
     "name": "stdout",
     "output_type": "stream",
     "text": [
      "Input file:\n",
      "45 /hpc/group/igvf/K562/mdl_eval/BlueSTARR_vs_DeltaSVM/Kircher_entire_regions/Kircher_region_chunk.txt\n",
      "chr11:5227021-5227208\t5227021:ref=G:G,C,A,T\t5227022:ref=G:G,C,A,T\t5227023:ref=T:G,C,A,T\t5227024:ref=G:G,C,A,T\t5227025:ref=T:G,C,A,T\t5227026:ref=C:G,C,A,T\t5227027:ref=T:G,C,A,T\t5227028:ref=G:G,C,A,T\t5227029:ref=T:G,C,A,T\t5227030:ref=T:G,C,A,T\t5227031:ref=T:G,C,A,T\t5227032:ref=G:G,C,A,T\t5227033:ref=A:G,C,A,T\t5227034:ref=G:G,C,A,T\t5227035:ref=G:G,C,A,T\t5227036:ref=T:G,C,A,T\t5227037:ref=T:G,C,A,T\t5227038:ref=G:G,C,A,T\t5227039:ref=C:G,C,A,T\t5227040:ref=T:G,C,A,T\t5227041:ref=A:G,C,A,T\t5227042:ref=G:G,C,A,T\t5227043:ref=T:G,C,A,T\t5227044:ref=G:G,C,A,T\t5227045:ref=A:G,C,A,T\t5227046:ref=A:G,C,A,T\t5227047:ref=C:G,C,A,T\t5227048:ref=A:G,C,A,T\t5227049:ref=C:G,C,A,T\t5227050:ref=A:G,C,A,T\t5227051:ref=G:G,C,A,T\t5227052:ref=T:G,C,A,T\t5227053:ref=T:G,C,A,T\t5227054:ref=G:G,C,A,T\t5227055:ref=T:G,C,A,T\t5227056:ref=G:G,C,A,T\t5227057:ref=T:G,C,A,T\t5227058:ref=C:G,C,A,T\t5227059:ref=A:G,C,A,T\t5227060:ref=G:G,C,A,T\t5227061:ref=A:G,C,A,T\t5227062:ref=A:G,C,A,T\t5227063:ref=G:G,C,A,T\t5227064:ref=C:G,C,A,T\t5227065:ref=A:G,C,A,T\t5227066:ref=A:G,C,A,T\t5227067:ref=A:G,C,A,T\t5227068:ref=T:G,C,A,T\t5227069:ref=G:G,C,A,T\t5227070:ref=T:G,C,A,T\t5227071:ref=A:G,C,A,T\t5227072:ref=A:G,C,A,T\t5227073:ref=G:G,C,A,T\t5227074:ref=C:G,C,A,T\t5227075:ref=A:G,C,A,T\t5227076:ref=A:G,C,A,T\t5227077:ref=T:G,C,A,T\t5227078:ref=A:G,C,A,T\t5227079:ref=G:G,C,A,T\t5227080:ref=A:G,C,A,T\t5227081:ref=T:G,C,A,T\t5227082:ref=G:G,C,A,T\t5227083:ref=G:G,C,A,T\t5227084:ref=C:G,C,A,T\t5227085:ref=T:G,C,A,T\t5227086:ref=C:G,C,A,T\t5227087:ref=T:G,C,A,T\t5227088:ref=G:G,C,A,T\t5227089:ref=C:G,C,A,T\t5227090:ref=C:G,C,A,T\t5227091:ref=C:G,C,A,T\t5227092:ref=T:G,C,A,T\t5227093:ref=G:G,C,A,T\t5227094:ref=A:G,C,A,T\t5227095:ref=C:G,C,A,T\t5227096:ref=T:G,C,A,T\t5227097:ref=T:G,C,A,T\t5227098:ref=T:G,C,A,T\t5227099:ref=T:G,C,A,T\t5227100:ref=A:G,C,A,T\t5227101:ref=T:G,C,A,T\t5227102:ref=G:G,C,A,T\t5227103:ref=C:G,C,A,T\t5227104:ref=C:G,C,A,T\t5227105:ref=C:G,C,A,T\t5227106:ref=A:G,C,A,T\t5227107:ref=G:G,C,A,T\t5227108:ref=C:G,C,A,T\t5227109:ref=C:G,C,A,T\t5227110:ref=C:G,C,A,T\t5227111:ref=T:G,C,A,T\t5227112:ref=G:G,C,A,T\t5227113:ref=G:G,C,A,T\t5227114:ref=C:G,C,A,T\t5227115:ref=T:G,C,A,T\t5227116:ref=C:G,C,A,T\t5227117:ref=C:G,C,A,T\t5227118:ref=T:G,C,A,T\t5227119:ref=G:G,C,A,T\t5227120:ref=C:G,C,A,T\t5227121:ref=C:G,C,A,T\t5227122:ref=C:G,C,A,T\t5227123:ref=T:G,C,A,T\t5227124:ref=C:G,C,A,T\t5227125:ref=C:G,C,A,T\t5227126:ref=C:G,C,A,T\t5227127:ref=T:G,C,A,T\t5227128:ref=G:G,C,A,T\t5227129:ref=C:G,C,A,T\t5227130:ref=T:G,C,A,T\t5227131:ref=C:G,C,A,T\t5227132:ref=C:G,C,A,T\t5227133:ref=T:G,C,A,T\t5227134:ref=G:G,C,A,T\t5227135:ref=G:G,C,A,T\t5227136:ref=G:G,C,A,T\t5227137:ref=A:G,C,A,T\t5227138:ref=G:G,C,A,T\t5227139:ref=T:G,C,A,T\t5227140:ref=A:G,C,A,T\t5227141:ref=G:G,C,A,T\t5227142:ref=A:G,C,A,T\t5227143:ref=T:G,C,A,T\t5227144:ref=T:G,C,A,T\t5227145:ref=G:G,C,A,T\t5227146:ref=G:G,C,A,T\t5227147:ref=C:G,C,A,T\t5227148:ref=C:G,C,A,T\t5227149:ref=A:G,C,A,T\t5227150:ref=A:G,C,A,T\t5227151:ref=C:G,C,A,T\t5227152:ref=C:G,C,A,T\t5227153:ref=C:G,C,A,T\t5227154:ref=T:G,C,A,T\t5227155:ref=A:G,C,A,T\t5227156:ref=G:G,C,A,T\t5227157:ref=G:G,C,A,T\t5227158:ref=G:G,C,A,T\t5227159:ref=T:G,C,A,T\t5227160:ref=G:G,C,A,T\t5227161:ref=T:G,C,A,T\t5227162:ref=G:G,C,A,T\t5227163:ref=G:G,C,A,T\t5227164:ref=C:G,C,A,T\t5227165:ref=T:G,C,A,T\t5227166:ref=C:G,C,A,T\t5227167:ref=C:G,C,A,T\t5227168:ref=A:G,C,A,T\t5227169:ref=C:G,C,A,T\t5227170:ref=A:G,C,A,T\t5227171:ref=G:G,C,A,T\t5227172:ref=G:G,C,A,T\t5227173:ref=G:G,C,A,T\t5227174:ref=T:G,C,A,T\t5227175:ref=G:G,C,A,T\t5227176:ref=A:G,C,A,T\t5227177:ref=G:G,C,A,T\t5227178:ref=G:G,C,A,T\t5227179:ref=T:G,C,A,T\t5227180:ref=C:G,C,A,T\t5227181:ref=T:G,C,A,T\t5227182:ref=A:G,C,A,T\t5227183:ref=A:G,C,A,T\t5227184:ref=G:G,C,A,T\t5227185:ref=T:G,C,A,T\t5227186:ref=G:G,C,A,T\t5227187:ref=A:G,C,A,T\t5227188:ref=T:G,C,A,T\t5227189:ref=G:G,C,A,T\t5227190:ref=A:G,C,A,T\t5227191:ref=C:G,C,A,T\t5227192:ref=A:G,C,A,T\t5227193:ref=G:G,C,A,T\t5227194:ref=C:G,C,A,T\t5227195:ref=C:G,C,A,T\t5227196:ref=G:G,C,A,T\t5227197:ref=T:G,C,A,T\t5227198:ref=A:G,C,A,T\t5227199:ref=C:G,C,A,T\t5227200:ref=C:G,C,A,T\t5227201:ref=T:G,C,A,T\t5227202:ref=G:G,C,A,T\t5227203:ref=T:G,C,A,T\t5227204:ref=C:G,C,A,T\t5227205:ref=C:G,C,A,T\t5227206:ref=T:G,C,A,T\t5227207:ref=T:G,C,A,T\t\n",
      "\n",
      "Output file:\n",
      "45 /hpc/group/igvf/kk319/repo/Proj_IGVF_BlueSTARR/data/kircher2019/Kircher_region_chunk.txt\n",
      "chr11:5227021-5227208\t5227021:ref=G:G,C,A,T\t5227022:ref=G:G,C,A,T\t5227023:ref=T:G,C,A,T\t5227024:ref=G:G,C,A,T\t5227025:ref=T:G,C,A,T\t5227026:ref=C:G,C,A,T\t5227027:ref=T:G,C,A,T\t5227028:ref=G:G,C,A,T\t5227029:ref=T:G,C,A,T\t5227030:ref=T:G,C,A,T\t5227031:ref=T:G,C,A,T\t5227032:ref=G:G,C,A,T\t5227033:ref=A:G,C,A,T\t5227034:ref=G:G,C,A,T\t5227035:ref=G:G,C,A,T\t5227036:ref=T:G,C,A,T\t5227037:ref=T:G,C,A,T\t5227038:ref=G:G,C,A,T\t5227039:ref=C:G,C,A,T\t5227040:ref=T:G,C,A,T\t5227041:ref=A:G,C,A,T\t5227042:ref=G:G,C,A,T\t5227043:ref=T:G,C,A,T\t5227044:ref=G:G,C,A,T\t5227045:ref=A:G,C,A,T\t5227046:ref=A:G,C,A,T\t5227047:ref=C:G,C,A,T\t5227048:ref=A:G,C,A,T\t5227049:ref=C:G,C,A,T\t5227050:ref=A:G,C,A,T\t5227051:ref=G:G,C,A,T\t5227052:ref=T:G,C,A,T\t5227053:ref=T:G,C,A,T\t5227054:ref=G:G,C,A,T\t5227055:ref=T:G,C,A,T\t5227056:ref=G:G,C,A,T\t5227057:ref=T:G,C,A,T\t5227058:ref=C:G,C,A,T\t5227059:ref=A:G,C,A,T\t5227060:ref=G:G,C,A,T\t5227061:ref=A:G,C,A,T\t5227062:ref=A:G,C,A,T\t5227063:ref=G:G,C,A,T\t5227064:ref=C:G,C,A,T\t5227065:ref=A:G,C,A,T\t5227066:ref=A:G,C,A,T\t5227067:ref=A:G,C,A,T\t5227068:ref=T:G,C,A,T\t5227069:ref=G:G,C,A,T\t5227070:ref=T:G,C,A,T\t5227071:ref=A:G,C,A,T\t5227072:ref=A:G,C,A,T\t5227073:ref=G:G,C,A,T\t5227074:ref=C:G,C,A,T\t5227075:ref=A:G,C,A,T\t5227076:ref=A:G,C,A,T\t5227077:ref=T:G,C,A,T\t5227078:ref=A:G,C,A,T\t5227079:ref=G:G,C,A,T\t5227080:ref=A:G,C,A,T\t5227081:ref=T:G,C,A,T\t5227082:ref=G:G,C,A,T\t5227083:ref=G:G,C,A,T\t5227084:ref=C:G,C,A,T\t5227085:ref=T:G,C,A,T\t5227086:ref=C:G,C,A,T\t5227087:ref=T:G,C,A,T\t5227088:ref=G:G,C,A,T\t5227089:ref=C:G,C,A,T\t5227090:ref=C:G,C,A,T\t5227091:ref=C:G,C,A,T\t5227092:ref=T:G,C,A,T\t5227093:ref=G:G,C,A,T\t5227094:ref=A:G,C,A,T\t5227095:ref=C:G,C,A,T\t5227096:ref=T:G,C,A,T\t5227097:ref=T:G,C,A,T\t5227098:ref=T:G,C,A,T\t5227099:ref=T:G,C,A,T\t5227100:ref=A:G,C,A,T\t5227101:ref=T:G,C,A,T\t5227102:ref=G:G,C,A,T\t5227103:ref=C:G,C,A,T\t5227104:ref=C:G,C,A,T\t5227105:ref=C:G,C,A,T\t5227106:ref=A:G,C,A,T\t5227107:ref=G:G,C,A,T\t5227108:ref=C:G,C,A,T\t5227109:ref=C:G,C,A,T\t5227110:ref=C:G,C,A,T\t5227111:ref=T:G,C,A,T\t5227112:ref=G:G,C,A,T\t5227113:ref=G:G,C,A,T\t5227114:ref=C:G,C,A,T\t5227115:ref=T:G,C,A,T\t5227116:ref=C:G,C,A,T\t5227117:ref=C:G,C,A,T\t5227118:ref=T:G,C,A,T\t5227119:ref=G:G,C,A,T\t5227120:ref=C:G,C,A,T\t5227121:ref=C:G,C,A,T\t5227122:ref=C:G,C,A,T\t5227123:ref=T:G,C,A,T\t5227124:ref=C:G,C,A,T\t5227125:ref=C:G,C,A,T\t5227126:ref=C:G,C,A,T\t5227127:ref=T:G,C,A,T\t5227128:ref=G:G,C,A,T\t5227129:ref=C:G,C,A,T\t5227130:ref=T:G,C,A,T\t5227131:ref=C:G,C,A,T\t5227132:ref=C:G,C,A,T\t5227133:ref=T:G,C,A,T\t5227134:ref=G:G,C,A,T\t5227135:ref=G:G,C,A,T\t5227136:ref=G:G,C,A,T\t5227137:ref=A:G,C,A,T\t5227138:ref=G:G,C,A,T\t5227139:ref=T:G,C,A,T\t5227140:ref=A:G,C,A,T\t5227141:ref=G:G,C,A,T\t5227142:ref=A:G,C,A,T\t5227143:ref=T:G,C,A,T\t5227144:ref=T:G,C,A,T\t5227145:ref=G:G,C,A,T\t5227146:ref=G:G,C,A,T\t5227147:ref=C:G,C,A,T\t5227148:ref=C:G,C,A,T\t5227149:ref=A:G,C,A,T\t5227150:ref=A:G,C,A,T\t5227151:ref=C:G,C,A,T\t5227152:ref=C:G,C,A,T\t5227153:ref=C:G,C,A,T\t5227154:ref=T:G,C,A,T\t5227155:ref=A:G,C,A,T\t5227156:ref=G:G,C,A,T\t5227157:ref=G:G,C,A,T\t5227158:ref=G:G,C,A,T\t5227159:ref=T:G,C,A,T\t5227160:ref=G:G,C,A,T\t5227161:ref=T:G,C,A,T\t5227162:ref=G:G,C,A,T\t5227163:ref=G:G,C,A,T\t5227164:ref=C:G,C,A,T\t5227165:ref=T:G,C,A,T\t5227166:ref=C:G,C,A,T\t5227167:ref=C:G,C,A,T\t5227168:ref=A:G,C,A,T\t5227169:ref=C:G,C,A,T\t5227170:ref=A:G,C,A,T\t5227171:ref=G:G,C,A,T\t5227172:ref=G:G,C,A,T\t5227173:ref=G:G,C,A,T\t5227174:ref=T:G,C,A,T\t5227175:ref=G:G,C,A,T\t5227176:ref=A:G,C,A,T\t5227177:ref=G:G,C,A,T\t5227178:ref=G:G,C,A,T\t5227179:ref=T:G,C,A,T\t5227180:ref=C:G,C,A,T\t5227181:ref=T:G,C,A,T\t5227182:ref=A:G,C,A,T\t5227183:ref=A:G,C,A,T\t5227184:ref=G:G,C,A,T\t5227185:ref=T:G,C,A,T\t5227186:ref=G:G,C,A,T\t5227187:ref=A:G,C,A,T\t5227188:ref=T:G,C,A,T\t5227189:ref=G:G,C,A,T\t5227190:ref=A:G,C,A,T\t5227191:ref=C:G,C,A,T\t5227192:ref=A:G,C,A,T\t5227193:ref=G:G,C,A,T\t5227194:ref=C:G,C,A,T\t5227195:ref=C:G,C,A,T\t5227196:ref=G:G,C,A,T\t5227197:ref=T:G,C,A,T\t5227198:ref=A:G,C,A,T\t5227199:ref=C:G,C,A,T\t5227200:ref=C:G,C,A,T\t5227201:ref=T:G,C,A,T\t5227202:ref=G:G,C,A,T\t5227203:ref=T:G,C,A,T\t5227204:ref=C:G,C,A,T\t5227205:ref=C:G,C,A,T\t5227206:ref=T:G,C,A,T\t5227207:ref=T:G,C,A,T\t\n"
     ]
    }
   ],
   "source": [
    "FD_OUT=${FD_DAT}/\"kircher2019\"\n",
    "FN_OUT=\"Kircher_region_chunk.txt\"\n",
    "FP_OUT=${FD_OUT}/${FN_OUT}\n",
    "\n",
    "echo \"Input file:\"\n",
    "wc -l ${FP_INP}\n",
    "head -n 1 ${FP_INP}\n",
    "echo\n",
    "echo \"Output file:\"\n",
    "wc -l ${FP_OUT}\n",
    "head -n 1 ${FP_OUT}"
   ]
  }
 ],
 "metadata": {
  "kernelspec": {
   "display_name": "Bash",
   "language": "bash",
   "name": "bash"
  },
  "language_info": {
   "codemirror_mode": "shell",
   "file_extension": ".sh",
   "mimetype": "text/x-sh",
   "name": "bash"
  }
 },
 "nbformat": 4,
 "nbformat_minor": 5
}
