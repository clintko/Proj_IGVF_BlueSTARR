{
 "cells": [
  {
   "cell_type": "raw",
   "id": "c1c553c0-c5bd-4e17-9130-07a320dc67f3",
   "metadata": {},
   "source": [
    "---\n",
    "title: Test Alphagenome\n",
    "subtitle: Test to run alphagenome on a variant\n",
    "format:\n",
    "    html:\n",
    "        code-fold:  true\n",
    "        code-tools: true\n",
    "---"
   ]
  },
  {
   "cell_type": "markdown",
   "id": "a4ff5de6-2988-4de2-b1dd-c08e77a0d51b",
   "metadata": {},
   "source": [
    "**Set environment**"
   ]
  },
  {
   "cell_type": "code",
   "execution_count": 1,
   "id": "e65d9a8e-c38a-4c55-bd0c-8f761d68b711",
   "metadata": {},
   "outputs": [
    {
     "name": "stdout",
     "output_type": "stream",
     "text": [
      "BASE DIRECTORY (FD_BASE): /hpc/group/igvf/kk319 \n",
      "REPO DIRECTORY (FD_REPO): /hpc/group/igvf/kk319/repo \n",
      "WORK DIRECTORY (FD_WORK): /hpc/group/igvf/kk319/work \n",
      "DATA DIRECTORY (FD_DATA): /hpc/group/igvf/kk319/data \n",
      "\n",
      "You are working with      IGVF BlueSTARR \n",
      "PATH OF PROJECT (FD_PRJ): /hpc/group/igvf/kk319/repo/Proj_IGVF_BlueSTARR \n",
      "PROJECT RESULTS (FD_RES): /hpc/group/igvf/kk319/repo/Proj_IGVF_BlueSTARR/results \n",
      "PROJECT SCRIPTS (FD_EXE): /hpc/group/igvf/kk319/repo/Proj_IGVF_BlueSTARR/scripts \n",
      "PROJECT DATA    (FD_DAT): /hpc/group/igvf/kk319/repo/Proj_IGVF_BlueSTARR/data \n",
      "PROJECT NOTE    (FD_NBK): /hpc/group/igvf/kk319/repo/Proj_IGVF_BlueSTARR/notebooks \n",
      "PROJECT DOCS    (FD_DOC): /hpc/group/igvf/kk319/repo/Proj_IGVF_BlueSTARR/docs \n",
      "PROJECT LOG     (FD_LOG): /hpc/group/igvf/kk319/repo/Proj_IGVF_BlueSTARR/log \n",
      "PROJECT REF     (FD_REF): /hpc/group/igvf/kk319/repo/Proj_IGVF_BlueSTARR/references \n",
      "\n"
     ]
    }
   ],
   "source": [
    "suppressMessages(suppressWarnings(source(\"../run_config_project.R\")))\n",
    "show_env()"
   ]
  },
  {
   "cell_type": "code",
   "execution_count": null,
   "id": "f8b6b27a-ba5f-4a00-a9ac-ac044971d22f",
   "metadata": {},
   "outputs": [],
   "source": []
  },
  {
   "cell_type": "code",
   "execution_count": null,
   "id": "5dace6bf-acf2-4d29-bee8-3733b9cc4bee",
   "metadata": {},
   "outputs": [],
   "source": []
  },
  {
   "cell_type": "code",
   "execution_count": null,
   "id": "aa4d010f-dcd6-45de-82d7-e97c66f09434",
   "metadata": {},
   "outputs": [],
   "source": []
  },
  {
   "cell_type": "code",
   "execution_count": 4,
   "id": "8c24c613-ca60-4756-b8ac-92c918eede84",
   "metadata": {},
   "outputs": [
    {
     "name": "stdout",
     "output_type": "stream",
     "text": [
      "result.alphagenome.K562.ATAC.2KB.variant.chunk.01.tsv \n",
      "result.alphagenome.K562.ATAC.2KB.variant.chunk.02.tsv \n",
      "result.alphagenome.K562.ATAC.2KB.variant.chunk.03.tsv \n",
      "result.alphagenome.K562.ATAC.2KB.variant.chunk.04.tsv \n",
      "result.alphagenome.K562.ATAC.2KB.variant.chunk.05.tsv \n",
      "result.alphagenome.K562.ATAC.2KB.variant.chunk.06.tsv \n",
      "result.alphagenome.K562.ATAC.2KB.variant.chunk.07.tsv \n",
      "result.alphagenome.K562.ATAC.2KB.variant.chunk.08.tsv \n",
      "result.alphagenome.K562.ATAC.2KB.variant.chunk.09.tsv \n",
      "result.alphagenome.K562.ATAC.2KB.variant.chunk.10.tsv \n",
      "result.alphagenome.K562.ATAC.2KB.variant.chunk.11.tsv \n",
      "result.alphagenome.K562.ATAC.2KB.variant.chunk.12.tsv \n",
      "result.alphagenome.K562.ATAC.2KB.variant.chunk.13.tsv \n",
      "result.alphagenome.K562.ATAC.2KB.variant.chunk.14.tsv \n",
      "result.alphagenome.K562.ATAC.2KB.variant.chunk.15.tsv \n",
      "result.alphagenome.K562.ATAC.2KB.variant.chunk.16.tsv \n",
      "result.alphagenome.K562.ATAC.2KB.variant.chunk.17.tsv \n",
      "result.alphagenome.K562.ATAC.2KB.variant.chunk.18.tsv \n",
      "result.alphagenome.K562.ATAC.2KB.variant.chunk.19.tsv \n",
      "result.alphagenome.K562.ATAC.2KB.variant.chunk.20.tsv \n",
      "result.alphagenome.K562.ATAC.2KB.variant.chunk.21.tsv \n",
      "result.alphagenome.K562.ATAC.2KB.variant.chunk.22.tsv \n",
      "result.alphagenome.K562.ATAC.2KB.variant.chunk.23.tsv \n",
      "result.alphagenome.K562.ATAC.2KB.variant.chunk.24.tsv \n",
      "result.alphagenome.K562.ATAC.2KB.variant.chunk.25.tsv \n",
      "result.alphagenome.K562.ATAC.2KB.variant.chunk.26.tsv \n",
      "result.alphagenome.K562.ATAC.2KB.variant.chunk.27.tsv \n",
      "result.alphagenome.K562.ATAC.2KB.variant.chunk.28.tsv \n",
      "result.alphagenome.K562.ATAC.2KB.variant.chunk.29.tsv \n",
      "result.alphagenome.K562.ATAC.2KB.variant.chunk.30.tsv \n",
      "result.alphagenome.K562.ATAC.2KB.variant.chunk.31.tsv \n",
      "result.alphagenome.K562.ATAC.2KB.variant.chunk.32.tsv \n",
      "result.alphagenome.K562.ATAC.2KB.variant.chunk.33.tsv \n",
      "result.alphagenome.K562.ATAC.2KB.variant.chunk.34.tsv \n",
      "result.alphagenome.K562.ATAC.2KB.variant.chunk.35.tsv \n",
      "result.alphagenome.K562.ATAC.2KB.variant.chunk.36.tsv \n",
      "result.alphagenome.K562.ATAC.2KB.variant.chunk.37.tsv \n",
      "result.alphagenome.K562.ATAC.2KB.variant.chunk.38.tsv \n",
      "result.alphagenome.K562.ATAC.2KB.variant.chunk.39.tsv \n",
      "result.alphagenome.K562.ATAC.2KB.variant.chunk.40.tsv \n",
      "result.alphagenome.variant.chunk.01.tsv \n",
      "result.alphagenome.variant.chunk.02.tsv \n",
      "result.alphagenome.variant.chunk.03.tsv \n",
      "result.alphagenome.variant.chunk.04.tsv \n",
      "result.alphagenome.variant.chunk.05.tsv \n",
      "result.alphagenome.variant.chunk.05.tsv.errors \n",
      "result.alphagenome.variant.chunk.06.tsv.errors \n",
      "result.alphagenome.variant.chunk.07.tsv.errors \n",
      "result.alphagenome.variant.chunk.08.tsv.errors \n",
      "result.alphagenome.variant.chunk.09.tsv \n",
      "result.alphagenome.variant.chunk.09.tsv.errors \n",
      "result.alphagenome.variant.chunk.10.tsv \n",
      "result.alphagenome.variant.chunk.11.tsv \n",
      "result.alphagenome.variant.chunk.12.tsv \n",
      "result.alphagenome.variant.chunk.12.tsv.errors \n",
      "result.alphagenome.variant.chunk.13.tsv.errors \n",
      "result.alphagenome.variant.chunk.14.tsv.errors \n",
      "result.alphagenome.variant.chunk.15.tsv.errors \n",
      "result.alphagenome.variant.chunk.16.tsv.errors \n",
      "result.alphagenome.variant.chunk.17.tsv \n",
      "result.alphagenome.variant.chunk.17.tsv.errors \n",
      "result.alphagenome.variant.chunk.18.tsv \n",
      "result.alphagenome.variant.chunk.19.tsv \n",
      "result.alphagenome.variant.chunk.19.tsv.errors \n",
      "result.alphagenome.variant.chunk.20.tsv.errors \n",
      "result.alphagenome.variant.chunk.21.tsv.errors \n",
      "result.alphagenome.variant.chunk.22.tsv.errors \n",
      "result.alphagenome.variant.chunk.23.tsv.errors \n",
      "result.alphagenome.variant.chunk.24.tsv.errors \n",
      "result.alphagenome.variant.chunk.25.tsv.errors \n",
      "result.alphagenome.variant.chunk.26.tsv.errors \n",
      "result.alphagenome.variant.chunk.27.tsv.errors \n",
      "result.alphagenome.variant.chunk.28.tsv.errors \n",
      "result.alphagenome.variant.chunk.29.tsv.errors \n",
      "result.alphagenome.variant.chunk.30.tsv \n",
      "result.alphagenome.variant.chunk.30.tsv.errors \n",
      "result.alphagenome.variant.chunk.31.tsv \n",
      "result.alphagenome.variant.chunk.32.tsv \n",
      "result.alphagenome.variant.chunk.33.tsv \n",
      "result.alphagenome.variant.chunk.34.tsv \n",
      "result.alphagenome.variant.chunk.35.tsv \n",
      "result.alphagenome.variant.chunk.36.tsv \n",
      "result.alphagenome.variant.chunk.37.tsv \n",
      "result.alphagenome.variant.chunk.38.tsv \n",
      "result.alphagenome.variant.chunk.39.tsv \n",
      "result.alphagenome.variant.chunk.40.tsv \n",
      "result.alphagenome.variant.summary.tsv \n",
      "result.alphagenome.variant.test.chunk_100.tsv \n",
      "result.alphagenome.variant.test.chunk_1000.tsv \n",
      "result.alphagenome.variant.test.example.tsv \n",
      "variant.chunk.01.tsv \n",
      "variant.chunk.02.tsv \n",
      "variant.chunk.03.tsv \n",
      "variant.chunk.04.tsv \n",
      "variant.chunk.05.tsv \n",
      "variant.chunk.06.tsv \n",
      "variant.chunk.07.tsv \n",
      "variant.chunk.08.tsv \n",
      "variant.chunk.09.tsv \n",
      "variant.chunk.10.tsv \n",
      "variant.chunk.11.tsv \n",
      "variant.chunk.12.tsv \n",
      "variant.chunk.13.tsv \n",
      "variant.chunk.14.tsv \n",
      "variant.chunk.15.tsv \n",
      "variant.chunk.16.tsv \n",
      "variant.chunk.17.tsv \n",
      "variant.chunk.18.tsv \n",
      "variant.chunk.19.tsv \n",
      "variant.chunk.20.tsv \n",
      "variant.chunk.21.tsv \n",
      "variant.chunk.22.tsv \n",
      "variant.chunk.23.tsv \n",
      "variant.chunk.24.tsv \n",
      "variant.chunk.25.tsv \n",
      "variant.chunk.26.tsv \n",
      "variant.chunk.27.tsv \n",
      "variant.chunk.28.tsv \n",
      "variant.chunk.29.tsv \n",
      "variant.chunk.30.tsv \n",
      "variant.chunk.31.tsv \n",
      "variant.chunk.32.tsv \n",
      "variant.chunk.33.tsv \n",
      "variant.chunk.34.tsv \n",
      "variant.chunk.35.tsv \n",
      "variant.chunk.36.tsv \n",
      "variant.chunk.37.tsv \n",
      "variant.chunk.38.tsv \n",
      "variant.chunk.39.tsv \n",
      "variant.chunk.40.tsv \n",
      "variant.test.chunk_100.tsv \n",
      "variant.test.chunk_1000.tsv \n",
      "variant.test.example.tsv \n"
     ]
    }
   ],
   "source": [
    "txt_fdiry = file.path(FD_RES, \"predict_variant_kircher2019\")\n",
    "vec = dir(txt_fdiry)\n",
    "for(txt in vec){cat(txt, \"\\n\")}"
   ]
  },
  {
   "cell_type": "code",
   "execution_count": 3,
   "id": "87b2b2a8-4907-4718-9d8b-42bfef2584b4",
   "metadata": {},
   "outputs": [
    {
     "name": "stdout",
     "output_type": "stream",
     "text": [
      "result.alphagenome.variant.chunk.01.tsv \n",
      "result.alphagenome.variant.chunk.02.tsv \n",
      "result.alphagenome.variant.chunk.03.tsv \n",
      "result.alphagenome.variant.chunk.04.tsv \n",
      "result.alphagenome.variant.chunk.05.tsv \n",
      "result.alphagenome.variant.chunk.09.tsv \n",
      "result.alphagenome.variant.chunk.10.tsv \n",
      "result.alphagenome.variant.chunk.11.tsv \n",
      "result.alphagenome.variant.chunk.12.tsv \n",
      "result.alphagenome.variant.chunk.17.tsv \n",
      "result.alphagenome.variant.chunk.18.tsv \n",
      "result.alphagenome.variant.chunk.19.tsv \n",
      "result.alphagenome.variant.chunk.30.tsv \n",
      "result.alphagenome.variant.chunk.31.tsv \n",
      "result.alphagenome.variant.chunk.32.tsv \n",
      "result.alphagenome.variant.chunk.33.tsv \n",
      "result.alphagenome.variant.chunk.34.tsv \n",
      "result.alphagenome.variant.chunk.35.tsv \n",
      "result.alphagenome.variant.chunk.36.tsv \n",
      "result.alphagenome.variant.chunk.37.tsv \n",
      "result.alphagenome.variant.chunk.38.tsv \n",
      "result.alphagenome.variant.chunk.39.tsv \n",
      "result.alphagenome.variant.chunk.40.tsv \n"
     ]
    }
   ],
   "source": [
    "txt_fdiry = file.path(FD_RES, \"predict_variant_kircher2019\")\n",
    "txt_fname = \"result.alphagenome.variant.chunk.*.tsv\"\n",
    "txt_fglob = file.path(txt_fdiry, txt_fname)\n",
    "\n",
    "vec_txt_fpath = Sys.glob(txt_fglob)\n",
    "vec_txt_fname = basename(vec_txt_fpath)\n",
    "\n",
    "vec = vec_txt_fname\n",
    "for(txt in vec){cat(txt, \"\\n\")}"
   ]
  },
  {
   "cell_type": "code",
   "execution_count": 5,
   "id": "69ab343d-8ace-4d5e-93fe-96dd188d07fd",
   "metadata": {},
   "outputs": [
    {
     "name": "stdout",
     "output_type": "stream",
     "text": [
      "result.alphagenome.K562.ATAC.2KB.variant.chunk.01.tsv \n",
      "result.alphagenome.K562.ATAC.2KB.variant.chunk.02.tsv \n",
      "result.alphagenome.K562.ATAC.2KB.variant.chunk.03.tsv \n",
      "result.alphagenome.K562.ATAC.2KB.variant.chunk.04.tsv \n",
      "result.alphagenome.K562.ATAC.2KB.variant.chunk.05.tsv \n",
      "result.alphagenome.K562.ATAC.2KB.variant.chunk.06.tsv \n",
      "result.alphagenome.K562.ATAC.2KB.variant.chunk.07.tsv \n",
      "result.alphagenome.K562.ATAC.2KB.variant.chunk.08.tsv \n",
      "result.alphagenome.K562.ATAC.2KB.variant.chunk.09.tsv \n",
      "result.alphagenome.K562.ATAC.2KB.variant.chunk.10.tsv \n",
      "result.alphagenome.K562.ATAC.2KB.variant.chunk.11.tsv \n",
      "result.alphagenome.K562.ATAC.2KB.variant.chunk.12.tsv \n",
      "result.alphagenome.K562.ATAC.2KB.variant.chunk.13.tsv \n",
      "result.alphagenome.K562.ATAC.2KB.variant.chunk.14.tsv \n",
      "result.alphagenome.K562.ATAC.2KB.variant.chunk.15.tsv \n",
      "result.alphagenome.K562.ATAC.2KB.variant.chunk.16.tsv \n",
      "result.alphagenome.K562.ATAC.2KB.variant.chunk.17.tsv \n",
      "result.alphagenome.K562.ATAC.2KB.variant.chunk.18.tsv \n",
      "result.alphagenome.K562.ATAC.2KB.variant.chunk.19.tsv \n",
      "result.alphagenome.K562.ATAC.2KB.variant.chunk.20.tsv \n",
      "result.alphagenome.K562.ATAC.2KB.variant.chunk.21.tsv \n",
      "result.alphagenome.K562.ATAC.2KB.variant.chunk.22.tsv \n",
      "result.alphagenome.K562.ATAC.2KB.variant.chunk.23.tsv \n",
      "result.alphagenome.K562.ATAC.2KB.variant.chunk.24.tsv \n",
      "result.alphagenome.K562.ATAC.2KB.variant.chunk.25.tsv \n",
      "result.alphagenome.K562.ATAC.2KB.variant.chunk.26.tsv \n",
      "result.alphagenome.K562.ATAC.2KB.variant.chunk.27.tsv \n",
      "result.alphagenome.K562.ATAC.2KB.variant.chunk.28.tsv \n",
      "result.alphagenome.K562.ATAC.2KB.variant.chunk.29.tsv \n",
      "result.alphagenome.K562.ATAC.2KB.variant.chunk.30.tsv \n",
      "result.alphagenome.K562.ATAC.2KB.variant.chunk.31.tsv \n",
      "result.alphagenome.K562.ATAC.2KB.variant.chunk.32.tsv \n",
      "result.alphagenome.K562.ATAC.2KB.variant.chunk.33.tsv \n",
      "result.alphagenome.K562.ATAC.2KB.variant.chunk.34.tsv \n",
      "result.alphagenome.K562.ATAC.2KB.variant.chunk.35.tsv \n",
      "result.alphagenome.K562.ATAC.2KB.variant.chunk.36.tsv \n",
      "result.alphagenome.K562.ATAC.2KB.variant.chunk.37.tsv \n",
      "result.alphagenome.K562.ATAC.2KB.variant.chunk.38.tsv \n",
      "result.alphagenome.K562.ATAC.2KB.variant.chunk.39.tsv \n",
      "result.alphagenome.K562.ATAC.2KB.variant.chunk.40.tsv \n"
     ]
    }
   ],
   "source": [
    "txt_fdiry = file.path(FD_RES, \"predict_variant_kircher2019\")\n",
    "txt_fname = \"result.alphagenome.K562.ATAC.2KB.variant.chunk.*.tsv\"\n",
    "txt_fglob = file.path(txt_fdiry, txt_fname)\n",
    "\n",
    "vec_txt_fpath = Sys.glob(txt_fglob)\n",
    "vec_txt_fname = basename(vec_txt_fpath)\n",
    "\n",
    "vec = vec_txt_fname\n",
    "for(txt in vec){cat(txt, \"\\n\")}"
   ]
  },
  {
   "cell_type": "code",
   "execution_count": null,
   "id": "b932c439-fdb6-46a1-ab1a-86c51734e197",
   "metadata": {},
   "outputs": [],
   "source": []
  },
  {
   "cell_type": "code",
   "execution_count": null,
   "id": "ad5593bf-71e3-4b4f-8dcd-33933e911f18",
   "metadata": {},
   "outputs": [],
   "source": []
  },
  {
   "cell_type": "markdown",
   "id": "424ff3d4-a333-48ef-b9bd-1da4407e9972",
   "metadata": {},
   "source": [
    "## Test import"
   ]
  },
  {
   "cell_type": "code",
   "execution_count": 9,
   "id": "1362a30a-03c3-4fcd-bf32-aae9dc014909",
   "metadata": {},
   "outputs": [
    {
     "data": {
      "text/html": [
       "<table class=\"dataframe\">\n",
       "<caption>A tibble: 6 × 24</caption>\n",
       "<thead>\n",
       "\t<tr><th scope=col>variant_id</th><th scope=col>scored_interval</th><th scope=col>gene_id</th><th scope=col>gene_name</th><th scope=col>gene_type</th><th scope=col>gene_strand</th><th scope=col>junction_Start</th><th scope=col>junction_End</th><th scope=col>output_type</th><th scope=col>variant_scorer</th><th scope=col>⋯</th><th scope=col>biosample_name</th><th scope=col>biosample_type</th><th scope=col>raw_score</th><th scope=col>quantile_score</th><th scope=col>Region</th><th scope=col>Position</th><th scope=col>Ref</th><th scope=col>Alt</th><th scope=col>Length</th><th scope=col>Scorer</th></tr>\n",
       "\t<tr><th scope=col>&lt;chr&gt;</th><th scope=col>&lt;chr&gt;</th><th scope=col>&lt;lgl&gt;</th><th scope=col>&lt;lgl&gt;</th><th scope=col>&lt;lgl&gt;</th><th scope=col>&lt;lgl&gt;</th><th scope=col>&lt;lgl&gt;</th><th scope=col>&lt;lgl&gt;</th><th scope=col>&lt;chr&gt;</th><th scope=col>&lt;chr&gt;</th><th scope=col>⋯</th><th scope=col>&lt;chr&gt;</th><th scope=col>&lt;chr&gt;</th><th scope=col>&lt;dbl&gt;</th><th scope=col>&lt;dbl&gt;</th><th scope=col>&lt;chr&gt;</th><th scope=col>&lt;dbl&gt;</th><th scope=col>&lt;chr&gt;</th><th scope=col>&lt;chr&gt;</th><th scope=col>&lt;dbl&gt;</th><th scope=col>&lt;chr&gt;</th></tr>\n",
       "</thead>\n",
       "<tbody>\n",
       "\t<tr><td>chr11:5227022:G&gt;G</td><td>chr11:5225998-5228046:.</td><td>NA</td><td>NA</td><td>NA</td><td>NA</td><td>NA</td><td>NA</td><td>ATAC</td><td>CenterMaskScorer(requested_output=ATAC, width=501, aggregation_type=DIFF_LOG2_SUM)</td><td>⋯</td><td>K562</td><td>cell_line</td><td> 0.00000000</td><td>-0.01153548</td><td>chr11:5227021-5227208</td><td>5227021</td><td>G</td><td>G</td><td>2048</td><td>ATAC</td></tr>\n",
       "\t<tr><td>chr11:5227022:G&gt;C</td><td>chr11:5225998-5228046:.</td><td>NA</td><td>NA</td><td>NA</td><td>NA</td><td>NA</td><td>NA</td><td>ATAC</td><td>CenterMaskScorer(requested_output=ATAC, width=501, aggregation_type=DIFF_LOG2_SUM)</td><td>⋯</td><td>K562</td><td>cell_line</td><td>-0.01440668</td><td>-0.43125670</td><td>chr11:5227021-5227208</td><td>5227021</td><td>G</td><td>C</td><td>2048</td><td>ATAC</td></tr>\n",
       "\t<tr><td>chr11:5227022:G&gt;A</td><td>chr11:5225998-5228046:.</td><td>NA</td><td>NA</td><td>NA</td><td>NA</td><td>NA</td><td>NA</td><td>ATAC</td><td>CenterMaskScorer(requested_output=ATAC, width=501, aggregation_type=DIFF_LOG2_SUM)</td><td>⋯</td><td>K562</td><td>cell_line</td><td> 0.03563738</td><td> 0.73794450</td><td>chr11:5227021-5227208</td><td>5227021</td><td>G</td><td>A</td><td>2048</td><td>ATAC</td></tr>\n",
       "\t<tr><td>chr11:5227022:G&gt;T</td><td>chr11:5225998-5228046:.</td><td>NA</td><td>NA</td><td>NA</td><td>NA</td><td>NA</td><td>NA</td><td>ATAC</td><td>CenterMaskScorer(requested_output=ATAC, width=501, aggregation_type=DIFF_LOG2_SUM)</td><td>⋯</td><td>K562</td><td>cell_line</td><td>-0.03108215</td><td>-0.71620387</td><td>chr11:5227021-5227208</td><td>5227021</td><td>G</td><td>T</td><td>2048</td><td>ATAC</td></tr>\n",
       "\t<tr><td>chr11:5227023:G&gt;G</td><td>chr11:5225999-5228047:.</td><td>NA</td><td>NA</td><td>NA</td><td>NA</td><td>NA</td><td>NA</td><td>ATAC</td><td>CenterMaskScorer(requested_output=ATAC, width=501, aggregation_type=DIFF_LOG2_SUM)</td><td>⋯</td><td>K562</td><td>cell_line</td><td> 0.00000000</td><td>-0.01153548</td><td>chr11:5227021-5227208</td><td>5227022</td><td>G</td><td>G</td><td>2048</td><td>ATAC</td></tr>\n",
       "\t<tr><td>chr11:5227023:G&gt;C</td><td>chr11:5225999-5228047:.</td><td>NA</td><td>NA</td><td>NA</td><td>NA</td><td>NA</td><td>NA</td><td>ATAC</td><td>CenterMaskScorer(requested_output=ATAC, width=501, aggregation_type=DIFF_LOG2_SUM)</td><td>⋯</td><td>K562</td><td>cell_line</td><td> 0.03704786</td><td> 0.75330776</td><td>chr11:5227021-5227208</td><td>5227022</td><td>G</td><td>C</td><td>2048</td><td>ATAC</td></tr>\n",
       "</tbody>\n",
       "</table>\n"
      ],
      "text/latex": [
       "A tibble: 6 × 24\n",
       "\\begin{tabular}{lllllllllllllllllllll}\n",
       " variant\\_id & scored\\_interval & gene\\_id & gene\\_name & gene\\_type & gene\\_strand & junction\\_Start & junction\\_End & output\\_type & variant\\_scorer & ⋯ & biosample\\_name & biosample\\_type & raw\\_score & quantile\\_score & Region & Position & Ref & Alt & Length & Scorer\\\\\n",
       " <chr> & <chr> & <lgl> & <lgl> & <lgl> & <lgl> & <lgl> & <lgl> & <chr> & <chr> & ⋯ & <chr> & <chr> & <dbl> & <dbl> & <chr> & <dbl> & <chr> & <chr> & <dbl> & <chr>\\\\\n",
       "\\hline\n",
       "\t chr11:5227022:G>G & chr11:5225998-5228046:. & NA & NA & NA & NA & NA & NA & ATAC & CenterMaskScorer(requested\\_output=ATAC, width=501, aggregation\\_type=DIFF\\_LOG2\\_SUM) & ⋯ & K562 & cell\\_line &  0.00000000 & -0.01153548 & chr11:5227021-5227208 & 5227021 & G & G & 2048 & ATAC\\\\\n",
       "\t chr11:5227022:G>C & chr11:5225998-5228046:. & NA & NA & NA & NA & NA & NA & ATAC & CenterMaskScorer(requested\\_output=ATAC, width=501, aggregation\\_type=DIFF\\_LOG2\\_SUM) & ⋯ & K562 & cell\\_line & -0.01440668 & -0.43125670 & chr11:5227021-5227208 & 5227021 & G & C & 2048 & ATAC\\\\\n",
       "\t chr11:5227022:G>A & chr11:5225998-5228046:. & NA & NA & NA & NA & NA & NA & ATAC & CenterMaskScorer(requested\\_output=ATAC, width=501, aggregation\\_type=DIFF\\_LOG2\\_SUM) & ⋯ & K562 & cell\\_line &  0.03563738 &  0.73794450 & chr11:5227021-5227208 & 5227021 & G & A & 2048 & ATAC\\\\\n",
       "\t chr11:5227022:G>T & chr11:5225998-5228046:. & NA & NA & NA & NA & NA & NA & ATAC & CenterMaskScorer(requested\\_output=ATAC, width=501, aggregation\\_type=DIFF\\_LOG2\\_SUM) & ⋯ & K562 & cell\\_line & -0.03108215 & -0.71620387 & chr11:5227021-5227208 & 5227021 & G & T & 2048 & ATAC\\\\\n",
       "\t chr11:5227023:G>G & chr11:5225999-5228047:. & NA & NA & NA & NA & NA & NA & ATAC & CenterMaskScorer(requested\\_output=ATAC, width=501, aggregation\\_type=DIFF\\_LOG2\\_SUM) & ⋯ & K562 & cell\\_line &  0.00000000 & -0.01153548 & chr11:5227021-5227208 & 5227022 & G & G & 2048 & ATAC\\\\\n",
       "\t chr11:5227023:G>C & chr11:5225999-5228047:. & NA & NA & NA & NA & NA & NA & ATAC & CenterMaskScorer(requested\\_output=ATAC, width=501, aggregation\\_type=DIFF\\_LOG2\\_SUM) & ⋯ & K562 & cell\\_line &  0.03704786 &  0.75330776 & chr11:5227021-5227208 & 5227022 & G & C & 2048 & ATAC\\\\\n",
       "\\end{tabular}\n"
      ],
      "text/markdown": [
       "\n",
       "A tibble: 6 × 24\n",
       "\n",
       "| variant_id &lt;chr&gt; | scored_interval &lt;chr&gt; | gene_id &lt;lgl&gt; | gene_name &lt;lgl&gt; | gene_type &lt;lgl&gt; | gene_strand &lt;lgl&gt; | junction_Start &lt;lgl&gt; | junction_End &lt;lgl&gt; | output_type &lt;chr&gt; | variant_scorer &lt;chr&gt; | ⋯ ⋯ | biosample_name &lt;chr&gt; | biosample_type &lt;chr&gt; | raw_score &lt;dbl&gt; | quantile_score &lt;dbl&gt; | Region &lt;chr&gt; | Position &lt;dbl&gt; | Ref &lt;chr&gt; | Alt &lt;chr&gt; | Length &lt;dbl&gt; | Scorer &lt;chr&gt; |\n",
       "|---|---|---|---|---|---|---|---|---|---|---|---|---|---|---|---|---|---|---|---|---|\n",
       "| chr11:5227022:G&gt;G | chr11:5225998-5228046:. | NA | NA | NA | NA | NA | NA | ATAC | CenterMaskScorer(requested_output=ATAC, width=501, aggregation_type=DIFF_LOG2_SUM) | ⋯ | K562 | cell_line |  0.00000000 | -0.01153548 | chr11:5227021-5227208 | 5227021 | G | G | 2048 | ATAC |\n",
       "| chr11:5227022:G&gt;C | chr11:5225998-5228046:. | NA | NA | NA | NA | NA | NA | ATAC | CenterMaskScorer(requested_output=ATAC, width=501, aggregation_type=DIFF_LOG2_SUM) | ⋯ | K562 | cell_line | -0.01440668 | -0.43125670 | chr11:5227021-5227208 | 5227021 | G | C | 2048 | ATAC |\n",
       "| chr11:5227022:G&gt;A | chr11:5225998-5228046:. | NA | NA | NA | NA | NA | NA | ATAC | CenterMaskScorer(requested_output=ATAC, width=501, aggregation_type=DIFF_LOG2_SUM) | ⋯ | K562 | cell_line |  0.03563738 |  0.73794450 | chr11:5227021-5227208 | 5227021 | G | A | 2048 | ATAC |\n",
       "| chr11:5227022:G&gt;T | chr11:5225998-5228046:. | NA | NA | NA | NA | NA | NA | ATAC | CenterMaskScorer(requested_output=ATAC, width=501, aggregation_type=DIFF_LOG2_SUM) | ⋯ | K562 | cell_line | -0.03108215 | -0.71620387 | chr11:5227021-5227208 | 5227021 | G | T | 2048 | ATAC |\n",
       "| chr11:5227023:G&gt;G | chr11:5225999-5228047:. | NA | NA | NA | NA | NA | NA | ATAC | CenterMaskScorer(requested_output=ATAC, width=501, aggregation_type=DIFF_LOG2_SUM) | ⋯ | K562 | cell_line |  0.00000000 | -0.01153548 | chr11:5227021-5227208 | 5227022 | G | G | 2048 | ATAC |\n",
       "| chr11:5227023:G&gt;C | chr11:5225999-5228047:. | NA | NA | NA | NA | NA | NA | ATAC | CenterMaskScorer(requested_output=ATAC, width=501, aggregation_type=DIFF_LOG2_SUM) | ⋯ | K562 | cell_line |  0.03704786 |  0.75330776 | chr11:5227021-5227208 | 5227022 | G | C | 2048 | ATAC |\n",
       "\n"
      ],
      "text/plain": [
       "  variant_id        scored_interval         gene_id gene_name gene_type\n",
       "1 chr11:5227022:G>G chr11:5225998-5228046:. NA      NA        NA       \n",
       "2 chr11:5227022:G>C chr11:5225998-5228046:. NA      NA        NA       \n",
       "3 chr11:5227022:G>A chr11:5225998-5228046:. NA      NA        NA       \n",
       "4 chr11:5227022:G>T chr11:5225998-5228046:. NA      NA        NA       \n",
       "5 chr11:5227023:G>G chr11:5225999-5228047:. NA      NA        NA       \n",
       "6 chr11:5227023:G>C chr11:5225999-5228047:. NA      NA        NA       \n",
       "  gene_strand junction_Start junction_End output_type\n",
       "1 NA          NA             NA           ATAC       \n",
       "2 NA          NA             NA           ATAC       \n",
       "3 NA          NA             NA           ATAC       \n",
       "4 NA          NA             NA           ATAC       \n",
       "5 NA          NA             NA           ATAC       \n",
       "6 NA          NA             NA           ATAC       \n",
       "  variant_scorer                                                                    \n",
       "1 CenterMaskScorer(requested_output=ATAC, width=501, aggregation_type=DIFF_LOG2_SUM)\n",
       "2 CenterMaskScorer(requested_output=ATAC, width=501, aggregation_type=DIFF_LOG2_SUM)\n",
       "3 CenterMaskScorer(requested_output=ATAC, width=501, aggregation_type=DIFF_LOG2_SUM)\n",
       "4 CenterMaskScorer(requested_output=ATAC, width=501, aggregation_type=DIFF_LOG2_SUM)\n",
       "5 CenterMaskScorer(requested_output=ATAC, width=501, aggregation_type=DIFF_LOG2_SUM)\n",
       "6 CenterMaskScorer(requested_output=ATAC, width=501, aggregation_type=DIFF_LOG2_SUM)\n",
       "  ⋯ biosample_name biosample_type raw_score   quantile_score\n",
       "1 ⋯ K562           cell_line       0.00000000 -0.01153548   \n",
       "2 ⋯ K562           cell_line      -0.01440668 -0.43125670   \n",
       "3 ⋯ K562           cell_line       0.03563738  0.73794450   \n",
       "4 ⋯ K562           cell_line      -0.03108215 -0.71620387   \n",
       "5 ⋯ K562           cell_line       0.00000000 -0.01153548   \n",
       "6 ⋯ K562           cell_line       0.03704786  0.75330776   \n",
       "  Region                Position Ref Alt Length Scorer\n",
       "1 chr11:5227021-5227208 5227021  G   G   2048   ATAC  \n",
       "2 chr11:5227021-5227208 5227021  G   C   2048   ATAC  \n",
       "3 chr11:5227021-5227208 5227021  G   A   2048   ATAC  \n",
       "4 chr11:5227021-5227208 5227021  G   T   2048   ATAC  \n",
       "5 chr11:5227021-5227208 5227022  G   G   2048   ATAC  \n",
       "6 chr11:5227021-5227208 5227022  G   C   2048   ATAC  "
      ]
     },
     "metadata": {},
     "output_type": "display_data"
    }
   ],
   "source": [
    "txt_fdiry = file.path(FD_RES, \"predict_variant_kircher2019\")\n",
    "txt_fname = \"result.alphagenome.K562.ATAC.2KB.variant.chunk.01.tsv\"\n",
    "txt_fpath = file.path(txt_fdiry, txt_fname)\n",
    "\n",
    "dat = read_tsv(txt_fpath, show_col_types = FALSE)\n",
    "head(dat)"
   ]
  },
  {
   "cell_type": "code",
   "execution_count": null,
   "id": "4ac2aae6-5a38-4682-bfb8-05db96b6bebc",
   "metadata": {},
   "outputs": [],
   "source": []
  },
  {
   "cell_type": "code",
   "execution_count": null,
   "id": "d73c9993-6084-4fac-8d3e-8d0abb796243",
   "metadata": {},
   "outputs": [],
   "source": []
  },
  {
   "cell_type": "code",
   "execution_count": null,
   "id": "2dbad2a3-d8b4-4fbf-bf2b-3740bf7edc8d",
   "metadata": {},
   "outputs": [],
   "source": []
  },
  {
   "cell_type": "code",
   "execution_count": 12,
   "id": "65674111-eaa1-4e8c-8569-ad90b2bf5613",
   "metadata": {},
   "outputs": [
    {
     "name": "stdout",
     "output_type": "stream",
     "text": [
      "[1] 39376     5\n"
     ]
    },
    {
     "data": {
      "text/html": [
       "<table class=\"dataframe\">\n",
       "<caption>A tibble: 6 × 5</caption>\n",
       "<thead>\n",
       "\t<tr><th scope=col>Region</th><th scope=col>Position</th><th scope=col>Ref</th><th scope=col>Alt</th><th scope=col>Variant_ID</th></tr>\n",
       "\t<tr><th scope=col>&lt;chr&gt;</th><th scope=col>&lt;dbl&gt;</th><th scope=col>&lt;chr&gt;</th><th scope=col>&lt;chr&gt;</th><th scope=col>&lt;chr&gt;</th></tr>\n",
       "</thead>\n",
       "<tbody>\n",
       "\t<tr><td>chr11:5227021-5227208</td><td>5227021</td><td>G</td><td>G</td><td>chr11:5227022:G&gt;G</td></tr>\n",
       "\t<tr><td>chr11:5227021-5227208</td><td>5227021</td><td>G</td><td>C</td><td>chr11:5227022:G&gt;C</td></tr>\n",
       "\t<tr><td>chr11:5227021-5227208</td><td>5227021</td><td>G</td><td>A</td><td>chr11:5227022:G&gt;A</td></tr>\n",
       "\t<tr><td>chr11:5227021-5227208</td><td>5227021</td><td>G</td><td>T</td><td>chr11:5227022:G&gt;T</td></tr>\n",
       "\t<tr><td>chr11:5227021-5227208</td><td>5227022</td><td>G</td><td>G</td><td>chr11:5227023:G&gt;G</td></tr>\n",
       "\t<tr><td>chr11:5227021-5227208</td><td>5227022</td><td>G</td><td>C</td><td>chr11:5227023:G&gt;C</td></tr>\n",
       "</tbody>\n",
       "</table>\n"
      ],
      "text/latex": [
       "A tibble: 6 × 5\n",
       "\\begin{tabular}{lllll}\n",
       " Region & Position & Ref & Alt & Variant\\_ID\\\\\n",
       " <chr> & <dbl> & <chr> & <chr> & <chr>\\\\\n",
       "\\hline\n",
       "\t chr11:5227021-5227208 & 5227021 & G & G & chr11:5227022:G>G\\\\\n",
       "\t chr11:5227021-5227208 & 5227021 & G & C & chr11:5227022:G>C\\\\\n",
       "\t chr11:5227021-5227208 & 5227021 & G & A & chr11:5227022:G>A\\\\\n",
       "\t chr11:5227021-5227208 & 5227021 & G & T & chr11:5227022:G>T\\\\\n",
       "\t chr11:5227021-5227208 & 5227022 & G & G & chr11:5227023:G>G\\\\\n",
       "\t chr11:5227021-5227208 & 5227022 & G & C & chr11:5227023:G>C\\\\\n",
       "\\end{tabular}\n"
      ],
      "text/markdown": [
       "\n",
       "A tibble: 6 × 5\n",
       "\n",
       "| Region &lt;chr&gt; | Position &lt;dbl&gt; | Ref &lt;chr&gt; | Alt &lt;chr&gt; | Variant_ID &lt;chr&gt; |\n",
       "|---|---|---|---|---|\n",
       "| chr11:5227021-5227208 | 5227021 | G | G | chr11:5227022:G&gt;G |\n",
       "| chr11:5227021-5227208 | 5227021 | G | C | chr11:5227022:G&gt;C |\n",
       "| chr11:5227021-5227208 | 5227021 | G | A | chr11:5227022:G&gt;A |\n",
       "| chr11:5227021-5227208 | 5227021 | G | T | chr11:5227022:G&gt;T |\n",
       "| chr11:5227021-5227208 | 5227022 | G | G | chr11:5227023:G&gt;G |\n",
       "| chr11:5227021-5227208 | 5227022 | G | C | chr11:5227023:G&gt;C |\n",
       "\n"
      ],
      "text/plain": [
       "  Region                Position Ref Alt Variant_ID       \n",
       "1 chr11:5227021-5227208 5227021  G   G   chr11:5227022:G>G\n",
       "2 chr11:5227021-5227208 5227021  G   C   chr11:5227022:G>C\n",
       "3 chr11:5227021-5227208 5227021  G   A   chr11:5227022:G>A\n",
       "4 chr11:5227021-5227208 5227021  G   T   chr11:5227022:G>T\n",
       "5 chr11:5227021-5227208 5227022  G   G   chr11:5227023:G>G\n",
       "6 chr11:5227021-5227208 5227022  G   C   chr11:5227023:G>C"
      ]
     },
     "metadata": {},
     "output_type": "display_data"
    }
   ],
   "source": [
    "### set file directory\n",
    "txt_fdiry = file.path(FD_RES, \"predict_variant_kircher2019\")\n",
    "txt_fname = \"variant.chunk.*.tsv\"\n",
    "txt_fglob = file.path(txt_fdiry, txt_fname)\n",
    "\n",
    "vec_txt_fpath = Sys.glob(txt_fglob)\n",
    "\n",
    "### read tables\n",
    "lst = lapply(vec_txt_fpath, function(txt_fpath){\n",
    "    dat = read_tsv(txt_fpath, col_names = FALSE, show_col_types = FALSE)\n",
    "    return(dat)\n",
    "})\n",
    "\n",
    "###\n",
    "vec = c(\"Region\", \"Position\", \"Ref\", \"Alt\")\n",
    "dat = bind_rows(lst)\n",
    "colnames(dat) = vec\n",
    "\n",
    "### set variant ID\n",
    "vec = c(\"Region\", \"Position\", \"Ref\", \"Alt\", \"Variant_ID\")\n",
    "dat = dat %>% \n",
    "    tidyr::separate(col = \"Region\", into = c(\"Chrom\", \"ChromStart\", \"ChromEnd\"), remove = FALSE) %>%\n",
    "    dplyr::mutate(Variant_ID = paste0(Chrom, \":\", Position+1, \":\", Ref, \">\", Alt)) %>%\n",
    "    dplyr::select(all_of(vec))\n",
    "\n",
    "### assign and show\n",
    "dat_region_variant_position = dat\n",
    "print(dim(dat))\n",
    "head(dat)"
   ]
  },
  {
   "cell_type": "code",
   "execution_count": 14,
   "id": "84775308-1734-4eee-b874-90700bca51c1",
   "metadata": {},
   "outputs": [
    {
     "name": "stdout",
     "output_type": "stream",
     "text": [
      "[1] 39376    24\n"
     ]
    },
    {
     "data": {
      "text/html": [
       "<table>\n",
       " <thead>\n",
       "  <tr>\n",
       "   <th style=\"text-align:left;\"> variant_id </th>\n",
       "   <th style=\"text-align:left;\"> scored_interval </th>\n",
       "   <th style=\"text-align:left;\"> gene_id </th>\n",
       "   <th style=\"text-align:left;\"> gene_name </th>\n",
       "   <th style=\"text-align:left;\"> gene_type </th>\n",
       "   <th style=\"text-align:left;\"> gene_strand </th>\n",
       "   <th style=\"text-align:left;\"> junction_Start </th>\n",
       "   <th style=\"text-align:left;\"> junction_End </th>\n",
       "   <th style=\"text-align:left;\"> output_type </th>\n",
       "   <th style=\"text-align:left;\"> variant_scorer </th>\n",
       "   <th style=\"text-align:left;\"> track_name </th>\n",
       "   <th style=\"text-align:left;\"> track_strand </th>\n",
       "   <th style=\"text-align:left;\"> Assay title </th>\n",
       "   <th style=\"text-align:left;\"> ontology_curie </th>\n",
       "   <th style=\"text-align:left;\"> biosample_name </th>\n",
       "   <th style=\"text-align:left;\"> biosample_type </th>\n",
       "   <th style=\"text-align:right;\"> raw_score </th>\n",
       "   <th style=\"text-align:right;\"> quantile_score </th>\n",
       "   <th style=\"text-align:left;\"> Region </th>\n",
       "   <th style=\"text-align:right;\"> Position </th>\n",
       "   <th style=\"text-align:left;\"> Ref </th>\n",
       "   <th style=\"text-align:left;\"> Alt </th>\n",
       "   <th style=\"text-align:right;\"> Length </th>\n",
       "   <th style=\"text-align:left;\"> Scorer </th>\n",
       "  </tr>\n",
       " </thead>\n",
       "<tbody>\n",
       "  <tr>\n",
       "   <td style=\"text-align:left;\"> chr11:5227022:G&gt;G </td>\n",
       "   <td style=\"text-align:left;\"> chr11:5225998-5228046:. </td>\n",
       "   <td style=\"text-align:left;\"> NA </td>\n",
       "   <td style=\"text-align:left;\"> NA </td>\n",
       "   <td style=\"text-align:left;\"> NA </td>\n",
       "   <td style=\"text-align:left;\"> NA </td>\n",
       "   <td style=\"text-align:left;\"> NA </td>\n",
       "   <td style=\"text-align:left;\"> NA </td>\n",
       "   <td style=\"text-align:left;\"> ATAC </td>\n",
       "   <td style=\"text-align:left;\"> CenterMaskScorer(requested_output=ATAC, width=501, aggregation_type=DIFF_LOG2_SUM) </td>\n",
       "   <td style=\"text-align:left;\"> EFO:0002067 ATAC-seq </td>\n",
       "   <td style=\"text-align:left;\"> . </td>\n",
       "   <td style=\"text-align:left;\"> ATAC-seq </td>\n",
       "   <td style=\"text-align:left;\"> EFO:0002067 </td>\n",
       "   <td style=\"text-align:left;\"> K562 </td>\n",
       "   <td style=\"text-align:left;\"> cell_line </td>\n",
       "   <td style=\"text-align:right;\"> 0.0000000 </td>\n",
       "   <td style=\"text-align:right;\"> -0.0115355 </td>\n",
       "   <td style=\"text-align:left;\"> chr11:5227021-5227208 </td>\n",
       "   <td style=\"text-align:right;\"> 5227021 </td>\n",
       "   <td style=\"text-align:left;\"> G </td>\n",
       "   <td style=\"text-align:left;\"> G </td>\n",
       "   <td style=\"text-align:right;\"> 2048 </td>\n",
       "   <td style=\"text-align:left;\"> ATAC </td>\n",
       "  </tr>\n",
       "  <tr>\n",
       "   <td style=\"text-align:left;\"> chr11:5227022:G&gt;C </td>\n",
       "   <td style=\"text-align:left;\"> chr11:5225998-5228046:. </td>\n",
       "   <td style=\"text-align:left;\"> NA </td>\n",
       "   <td style=\"text-align:left;\"> NA </td>\n",
       "   <td style=\"text-align:left;\"> NA </td>\n",
       "   <td style=\"text-align:left;\"> NA </td>\n",
       "   <td style=\"text-align:left;\"> NA </td>\n",
       "   <td style=\"text-align:left;\"> NA </td>\n",
       "   <td style=\"text-align:left;\"> ATAC </td>\n",
       "   <td style=\"text-align:left;\"> CenterMaskScorer(requested_output=ATAC, width=501, aggregation_type=DIFF_LOG2_SUM) </td>\n",
       "   <td style=\"text-align:left;\"> EFO:0002067 ATAC-seq </td>\n",
       "   <td style=\"text-align:left;\"> . </td>\n",
       "   <td style=\"text-align:left;\"> ATAC-seq </td>\n",
       "   <td style=\"text-align:left;\"> EFO:0002067 </td>\n",
       "   <td style=\"text-align:left;\"> K562 </td>\n",
       "   <td style=\"text-align:left;\"> cell_line </td>\n",
       "   <td style=\"text-align:right;\"> -0.0144067 </td>\n",
       "   <td style=\"text-align:right;\"> -0.4312567 </td>\n",
       "   <td style=\"text-align:left;\"> chr11:5227021-5227208 </td>\n",
       "   <td style=\"text-align:right;\"> 5227021 </td>\n",
       "   <td style=\"text-align:left;\"> G </td>\n",
       "   <td style=\"text-align:left;\"> C </td>\n",
       "   <td style=\"text-align:right;\"> 2048 </td>\n",
       "   <td style=\"text-align:left;\"> ATAC </td>\n",
       "  </tr>\n",
       "  <tr>\n",
       "   <td style=\"text-align:left;\"> chr11:5227022:G&gt;A </td>\n",
       "   <td style=\"text-align:left;\"> chr11:5225998-5228046:. </td>\n",
       "   <td style=\"text-align:left;\"> NA </td>\n",
       "   <td style=\"text-align:left;\"> NA </td>\n",
       "   <td style=\"text-align:left;\"> NA </td>\n",
       "   <td style=\"text-align:left;\"> NA </td>\n",
       "   <td style=\"text-align:left;\"> NA </td>\n",
       "   <td style=\"text-align:left;\"> NA </td>\n",
       "   <td style=\"text-align:left;\"> ATAC </td>\n",
       "   <td style=\"text-align:left;\"> CenterMaskScorer(requested_output=ATAC, width=501, aggregation_type=DIFF_LOG2_SUM) </td>\n",
       "   <td style=\"text-align:left;\"> EFO:0002067 ATAC-seq </td>\n",
       "   <td style=\"text-align:left;\"> . </td>\n",
       "   <td style=\"text-align:left;\"> ATAC-seq </td>\n",
       "   <td style=\"text-align:left;\"> EFO:0002067 </td>\n",
       "   <td style=\"text-align:left;\"> K562 </td>\n",
       "   <td style=\"text-align:left;\"> cell_line </td>\n",
       "   <td style=\"text-align:right;\"> 0.0356374 </td>\n",
       "   <td style=\"text-align:right;\"> 0.7379445 </td>\n",
       "   <td style=\"text-align:left;\"> chr11:5227021-5227208 </td>\n",
       "   <td style=\"text-align:right;\"> 5227021 </td>\n",
       "   <td style=\"text-align:left;\"> G </td>\n",
       "   <td style=\"text-align:left;\"> A </td>\n",
       "   <td style=\"text-align:right;\"> 2048 </td>\n",
       "   <td style=\"text-align:left;\"> ATAC </td>\n",
       "  </tr>\n",
       "</tbody>\n",
       "</table>"
      ]
     },
     "metadata": {},
     "output_type": "display_data"
    }
   ],
   "source": [
    "### set file directory\n",
    "txt_fdiry = file.path(FD_RES, \"predict_variant_kircher2019\")\n",
    "txt_fname = \"result.alphagenome.K562.ATAC.2KB.variant.chunk.*.tsv\"\n",
    "txt_fglob = file.path(txt_fdiry, txt_fname)\n",
    "\n",
    "vec_txt_fpath = Sys.glob(txt_fglob)\n",
    "\n",
    "### read tables\n",
    "lst = lapply(vec_txt_fpath, function(txt_fpath){\n",
    "    dat = read_tsv(txt_fpath, show_col_types = FALSE)\n",
    "    return(dat)\n",
    "})\n",
    "dat = bind_rows(lst)\n",
    "\n",
    "\n",
    "### assign and show\n",
    "dat_region_variant_prediction = dat\n",
    "print(dim(dat))\n",
    "fun_display_table(head(dat, 3))"
   ]
  },
  {
   "cell_type": "markdown",
   "id": "ac0f041f-489a-467a-be82-f4a3fcc7e2a0",
   "metadata": {},
   "source": [
    "**Check:**"
   ]
  },
  {
   "cell_type": "code",
   "execution_count": 15,
   "id": "f8c43600-250c-4ca5-99a9-60ffde2dc707",
   "metadata": {},
   "outputs": [
    {
     "data": {
      "text/html": [
       "<style>\n",
       ".list-inline {list-style: none; margin:0; padding: 0}\n",
       ".list-inline>li {display: inline-block}\n",
       ".list-inline>li:not(:last-child)::after {content: \"\\00b7\"; padding: 0 .5ex}\n",
       "</style>\n",
       "<ol class=list-inline><li>'variant_id'</li><li>'scored_interval'</li><li>'gene_id'</li><li>'gene_name'</li><li>'gene_type'</li><li>'gene_strand'</li><li>'junction_Start'</li><li>'junction_End'</li><li>'output_type'</li><li>'variant_scorer'</li><li>'track_name'</li><li>'track_strand'</li><li>'Assay title'</li><li>'ontology_curie'</li><li>'biosample_name'</li><li>'biosample_type'</li><li>'raw_score'</li><li>'quantile_score'</li><li>'Region'</li><li>'Position'</li><li>'Ref'</li><li>'Alt'</li><li>'Length'</li><li>'Scorer'</li></ol>\n"
      ],
      "text/latex": [
       "\\begin{enumerate*}\n",
       "\\item 'variant\\_id'\n",
       "\\item 'scored\\_interval'\n",
       "\\item 'gene\\_id'\n",
       "\\item 'gene\\_name'\n",
       "\\item 'gene\\_type'\n",
       "\\item 'gene\\_strand'\n",
       "\\item 'junction\\_Start'\n",
       "\\item 'junction\\_End'\n",
       "\\item 'output\\_type'\n",
       "\\item 'variant\\_scorer'\n",
       "\\item 'track\\_name'\n",
       "\\item 'track\\_strand'\n",
       "\\item 'Assay title'\n",
       "\\item 'ontology\\_curie'\n",
       "\\item 'biosample\\_name'\n",
       "\\item 'biosample\\_type'\n",
       "\\item 'raw\\_score'\n",
       "\\item 'quantile\\_score'\n",
       "\\item 'Region'\n",
       "\\item 'Position'\n",
       "\\item 'Ref'\n",
       "\\item 'Alt'\n",
       "\\item 'Length'\n",
       "\\item 'Scorer'\n",
       "\\end{enumerate*}\n"
      ],
      "text/markdown": [
       "1. 'variant_id'\n",
       "2. 'scored_interval'\n",
       "3. 'gene_id'\n",
       "4. 'gene_name'\n",
       "5. 'gene_type'\n",
       "6. 'gene_strand'\n",
       "7. 'junction_Start'\n",
       "8. 'junction_End'\n",
       "9. 'output_type'\n",
       "10. 'variant_scorer'\n",
       "11. 'track_name'\n",
       "12. 'track_strand'\n",
       "13. 'Assay title'\n",
       "14. 'ontology_curie'\n",
       "15. 'biosample_name'\n",
       "16. 'biosample_type'\n",
       "17. 'raw_score'\n",
       "18. 'quantile_score'\n",
       "19. 'Region'\n",
       "20. 'Position'\n",
       "21. 'Ref'\n",
       "22. 'Alt'\n",
       "23. 'Length'\n",
       "24. 'Scorer'\n",
       "\n",
       "\n"
      ],
      "text/plain": [
       " [1] \"variant_id\"      \"scored_interval\" \"gene_id\"         \"gene_name\"      \n",
       " [5] \"gene_type\"       \"gene_strand\"     \"junction_Start\"  \"junction_End\"   \n",
       " [9] \"output_type\"     \"variant_scorer\"  \"track_name\"      \"track_strand\"   \n",
       "[13] \"Assay title\"     \"ontology_curie\"  \"biosample_name\"  \"biosample_type\" \n",
       "[17] \"raw_score\"       \"quantile_score\"  \"Region\"          \"Position\"       \n",
       "[21] \"Ref\"             \"Alt\"             \"Length\"          \"Scorer\"         "
      ]
     },
     "metadata": {},
     "output_type": "display_data"
    }
   ],
   "source": [
    "dat = dat_region_variant_prediction\n",
    "colnames(dat)"
   ]
  },
  {
   "cell_type": "code",
   "execution_count": 16,
   "id": "998c21c3-b759-4c1b-9a4b-506fbf4ba8c4",
   "metadata": {},
   "outputs": [
    {
     "data": {
      "text/plain": [
       "\n",
       " K562 \n",
       "39376 "
      ]
     },
     "metadata": {},
     "output_type": "display_data"
    }
   ],
   "source": [
    "dat = dat_region_variant_prediction\n",
    "table(dat$biosample_name)"
   ]
  },
  {
   "cell_type": "code",
   "execution_count": 17,
   "id": "43ae0f28-35ae-4183-ac57-7e9c4a7bada5",
   "metadata": {},
   "outputs": [
    {
     "data": {
      "text/html": [
       "'/hpc/group/igvf/kk319/repo/Proj_IGVF_BlueSTARR/scripts'"
      ],
      "text/latex": [
       "'/hpc/group/igvf/kk319/repo/Proj\\_IGVF\\_BlueSTARR/scripts'"
      ],
      "text/markdown": [
       "'/hpc/group/igvf/kk319/repo/Proj_IGVF_BlueSTARR/scripts'"
      ],
      "text/plain": [
       "[1] \"/hpc/group/igvf/kk319/repo/Proj_IGVF_BlueSTARR/scripts\""
      ]
     },
     "metadata": {},
     "output_type": "display_data"
    }
   ],
   "source": [
    "FD_EXE"
   ]
  },
  {
   "cell_type": "code",
   "execution_count": null,
   "id": "e01c8dc5-f36b-473f-853a-7dd2885784e6",
   "metadata": {},
   "outputs": [],
   "source": []
  },
  {
   "cell_type": "code",
   "execution_count": null,
   "id": "b573793a-a0f3-496c-9bbf-b3fb78eaae14",
   "metadata": {},
   "outputs": [],
   "source": []
  },
  {
   "cell_type": "code",
   "execution_count": 18,
   "id": "2d4cf8b9-37a6-4053-8fa6-614901a4fa04",
   "metadata": {},
   "outputs": [
    {
     "name": "stdout",
     "output_type": "stream",
     "text": [
      "[1] 39376     9\n"
     ]
    },
    {
     "data": {
      "text/html": [
       "<table class=\"dataframe\">\n",
       "<caption>A tibble: 6 × 9</caption>\n",
       "<thead>\n",
       "\t<tr><th scope=col>Region</th><th scope=col>Position</th><th scope=col>Ref</th><th scope=col>Alt</th><th scope=col>Scored_Interval</th><th scope=col>Output_Type</th><th scope=col>Gene_Name</th><th scope=col>Raw_Score</th><th scope=col>Quantile_Score</th></tr>\n",
       "\t<tr><th scope=col>&lt;chr&gt;</th><th scope=col>&lt;dbl&gt;</th><th scope=col>&lt;chr&gt;</th><th scope=col>&lt;chr&gt;</th><th scope=col>&lt;chr&gt;</th><th scope=col>&lt;chr&gt;</th><th scope=col>&lt;lgl&gt;</th><th scope=col>&lt;dbl&gt;</th><th scope=col>&lt;dbl&gt;</th></tr>\n",
       "</thead>\n",
       "<tbody>\n",
       "\t<tr><td>chr10:112998239-112998439</td><td>112998239</td><td>A</td><td>A</td><td>chr10:112997216-112999264:.</td><td>ATAC</td><td>NA</td><td>0.00000000</td><td>-0.01153548</td></tr>\n",
       "\t<tr><td>chr10:112998239-112998439</td><td>112998239</td><td>A</td><td>C</td><td>chr10:112997216-112999264:.</td><td>ATAC</td><td>NA</td><td>0.08310509</td><td> 0.93341140</td></tr>\n",
       "\t<tr><td>chr10:112998239-112998439</td><td>112998239</td><td>A</td><td>G</td><td>chr10:112997216-112999264:.</td><td>ATAC</td><td>NA</td><td>0.11516476</td><td> 0.96204376</td></tr>\n",
       "\t<tr><td>chr10:112998239-112998439</td><td>112998239</td><td>A</td><td>T</td><td>chr10:112997216-112999264:.</td><td>ATAC</td><td>NA</td><td>0.08254147</td><td> 0.93191016</td></tr>\n",
       "\t<tr><td>chr10:112998239-112998439</td><td>112998240</td><td>G</td><td>A</td><td>chr10:112997217-112999265:.</td><td>ATAC</td><td>NA</td><td>0.09442997</td><td> 0.94676600</td></tr>\n",
       "\t<tr><td>chr10:112998239-112998439</td><td>112998240</td><td>G</td><td>C</td><td>chr10:112997217-112999265:.</td><td>ATAC</td><td>NA</td><td>0.08638907</td><td> 0.93772584</td></tr>\n",
       "</tbody>\n",
       "</table>\n"
      ],
      "text/latex": [
       "A tibble: 6 × 9\n",
       "\\begin{tabular}{lllllllll}\n",
       " Region & Position & Ref & Alt & Scored\\_Interval & Output\\_Type & Gene\\_Name & Raw\\_Score & Quantile\\_Score\\\\\n",
       " <chr> & <dbl> & <chr> & <chr> & <chr> & <chr> & <lgl> & <dbl> & <dbl>\\\\\n",
       "\\hline\n",
       "\t chr10:112998239-112998439 & 112998239 & A & A & chr10:112997216-112999264:. & ATAC & NA & 0.00000000 & -0.01153548\\\\\n",
       "\t chr10:112998239-112998439 & 112998239 & A & C & chr10:112997216-112999264:. & ATAC & NA & 0.08310509 &  0.93341140\\\\\n",
       "\t chr10:112998239-112998439 & 112998239 & A & G & chr10:112997216-112999264:. & ATAC & NA & 0.11516476 &  0.96204376\\\\\n",
       "\t chr10:112998239-112998439 & 112998239 & A & T & chr10:112997216-112999264:. & ATAC & NA & 0.08254147 &  0.93191016\\\\\n",
       "\t chr10:112998239-112998439 & 112998240 & G & A & chr10:112997217-112999265:. & ATAC & NA & 0.09442997 &  0.94676600\\\\\n",
       "\t chr10:112998239-112998439 & 112998240 & G & C & chr10:112997217-112999265:. & ATAC & NA & 0.08638907 &  0.93772584\\\\\n",
       "\\end{tabular}\n"
      ],
      "text/markdown": [
       "\n",
       "A tibble: 6 × 9\n",
       "\n",
       "| Region &lt;chr&gt; | Position &lt;dbl&gt; | Ref &lt;chr&gt; | Alt &lt;chr&gt; | Scored_Interval &lt;chr&gt; | Output_Type &lt;chr&gt; | Gene_Name &lt;lgl&gt; | Raw_Score &lt;dbl&gt; | Quantile_Score &lt;dbl&gt; |\n",
       "|---|---|---|---|---|---|---|---|---|\n",
       "| chr10:112998239-112998439 | 112998239 | A | A | chr10:112997216-112999264:. | ATAC | NA | 0.00000000 | -0.01153548 |\n",
       "| chr10:112998239-112998439 | 112998239 | A | C | chr10:112997216-112999264:. | ATAC | NA | 0.08310509 |  0.93341140 |\n",
       "| chr10:112998239-112998439 | 112998239 | A | G | chr10:112997216-112999264:. | ATAC | NA | 0.11516476 |  0.96204376 |\n",
       "| chr10:112998239-112998439 | 112998239 | A | T | chr10:112997216-112999264:. | ATAC | NA | 0.08254147 |  0.93191016 |\n",
       "| chr10:112998239-112998439 | 112998240 | G | A | chr10:112997217-112999265:. | ATAC | NA | 0.09442997 |  0.94676600 |\n",
       "| chr10:112998239-112998439 | 112998240 | G | C | chr10:112997217-112999265:. | ATAC | NA | 0.08638907 |  0.93772584 |\n",
       "\n"
      ],
      "text/plain": [
       "  Region                    Position  Ref Alt Scored_Interval            \n",
       "1 chr10:112998239-112998439 112998239 A   A   chr10:112997216-112999264:.\n",
       "2 chr10:112998239-112998439 112998239 A   C   chr10:112997216-112999264:.\n",
       "3 chr10:112998239-112998439 112998239 A   G   chr10:112997216-112999264:.\n",
       "4 chr10:112998239-112998439 112998239 A   T   chr10:112997216-112999264:.\n",
       "5 chr10:112998239-112998439 112998240 G   A   chr10:112997217-112999265:.\n",
       "6 chr10:112998239-112998439 112998240 G   C   chr10:112997217-112999265:.\n",
       "  Output_Type Gene_Name Raw_Score  Quantile_Score\n",
       "1 ATAC        NA        0.00000000 -0.01153548   \n",
       "2 ATAC        NA        0.08310509  0.93341140   \n",
       "3 ATAC        NA        0.11516476  0.96204376   \n",
       "4 ATAC        NA        0.08254147  0.93191016   \n",
       "5 ATAC        NA        0.09442997  0.94676600   \n",
       "6 ATAC        NA        0.08638907  0.93772584   "
      ]
     },
     "metadata": {},
     "output_type": "display_data"
    }
   ],
   "source": [
    "dat = dat_region_variant_prediction\n",
    "dat = dat %>%\n",
    "    dplyr::select(\n",
    "        Region, Position, Ref, Alt,\n",
    "        variant_id, scored_interval, output_type, gene_name,\n",
    "        raw_score, quantile_score\n",
    "    )\n",
    "\n",
    "###\n",
    "vec = c(\n",
    "    \"Scored_Interval\" = \"scored_interval\",\n",
    "    \"Output_Type\"     = \"output_type\",\n",
    "    \"Gene_Name\"       = \"gene_name\", \n",
    "    \"Raw_Score\"       = \"raw_score\",\n",
    "    \"Quantile_Score\"  = \"quantile_score\" \n",
    ")\n",
    "dat = dat %>% dplyr::rename(all_of(vec))\n",
    "\n",
    "### \n",
    "dat = dat %>% \n",
    "    dplyr::group_by(Region, Position, Ref, Alt, Scored_Interval, Output_Type, Gene_Name) %>% \n",
    "    dplyr::summarise(\n",
    "        Raw_Score      = mean(Raw_Score),\n",
    "        Quantile_Score = mean(Quantile_Score),\n",
    "        .groups = \"drop\"\n",
    "    )\n",
    "\n",
    "### assign and show\n",
    "dat_region_variant_prediction_arrange = dat\n",
    "print(dim(dat))\n",
    "head(dat)"
   ]
  },
  {
   "cell_type": "code",
   "execution_count": 19,
   "id": "16acb7a0-e0ad-4400-99c6-971886ebd6e9",
   "metadata": {},
   "outputs": [
    {
     "data": {
      "text/html": [
       "<style>\n",
       ".list-inline {list-style: none; margin:0; padding: 0}\n",
       ".list-inline>li {display: inline-block}\n",
       ".list-inline>li:not(:last-child)::after {content: \"\\00b7\"; padding: 0 .5ex}\n",
       "</style>\n",
       "<ol class=list-inline><li>39376</li><li>5</li></ol>\n"
      ],
      "text/latex": [
       "\\begin{enumerate*}\n",
       "\\item 39376\n",
       "\\item 5\n",
       "\\end{enumerate*}\n"
      ],
      "text/markdown": [
       "1. 39376\n",
       "2. 5\n",
       "\n",
       "\n"
      ],
      "text/plain": [
       "[1] 39376     5"
      ]
     },
     "metadata": {},
     "output_type": "display_data"
    }
   ],
   "source": [
    "dat = dat_region_variant_position\n",
    "dim(dat)"
   ]
  },
  {
   "cell_type": "code",
   "execution_count": 20,
   "id": "d53f4ae3-36d5-4dab-96f3-f61def8c6704",
   "metadata": {},
   "outputs": [
    {
     "data": {
      "text/html": [
       "<style>\n",
       ".list-inline {list-style: none; margin:0; padding: 0}\n",
       ".list-inline>li {display: inline-block}\n",
       ".list-inline>li:not(:last-child)::after {content: \"\\00b7\"; padding: 0 .5ex}\n",
       "</style>\n",
       "<ol class=list-inline><li>39376</li><li>9</li></ol>\n"
      ],
      "text/latex": [
       "\\begin{enumerate*}\n",
       "\\item 39376\n",
       "\\item 9\n",
       "\\end{enumerate*}\n"
      ],
      "text/markdown": [
       "1. 39376\n",
       "2. 9\n",
       "\n",
       "\n"
      ],
      "text/plain": [
       "[1] 39376     9"
      ]
     },
     "metadata": {},
     "output_type": "display_data"
    }
   ],
   "source": [
    "dat = dat_region_variant_prediction_arrange\n",
    "dim(dat)"
   ]
  },
  {
   "cell_type": "code",
   "execution_count": 21,
   "id": "920c8686-229e-4af6-ab66-a45cdce86e58",
   "metadata": {},
   "outputs": [
    {
     "name": "stdout",
     "output_type": "stream",
     "text": [
      "[1] 39376    10\n"
     ]
    },
    {
     "data": {
      "text/html": [
       "<table class=\"dataframe\">\n",
       "<caption>A tibble: 6 × 10</caption>\n",
       "<thead>\n",
       "\t<tr><th scope=col>Region</th><th scope=col>Position</th><th scope=col>Ref</th><th scope=col>Alt</th><th scope=col>Variant_ID</th><th scope=col>Scored_Interval</th><th scope=col>Output_Type</th><th scope=col>Gene_Name</th><th scope=col>Raw_Score</th><th scope=col>Quantile_Score</th></tr>\n",
       "\t<tr><th scope=col>&lt;chr&gt;</th><th scope=col>&lt;dbl&gt;</th><th scope=col>&lt;chr&gt;</th><th scope=col>&lt;chr&gt;</th><th scope=col>&lt;chr&gt;</th><th scope=col>&lt;chr&gt;</th><th scope=col>&lt;chr&gt;</th><th scope=col>&lt;lgl&gt;</th><th scope=col>&lt;dbl&gt;</th><th scope=col>&lt;dbl&gt;</th></tr>\n",
       "</thead>\n",
       "<tbody>\n",
       "\t<tr><td>chr11:5227021-5227208</td><td>5227021</td><td>G</td><td>G</td><td>chr11:5227022:G&gt;G</td><td>chr11:5225998-5228046:.</td><td>ATAC</td><td>NA</td><td> 0.00000000</td><td>-0.01153548</td></tr>\n",
       "\t<tr><td>chr11:5227021-5227208</td><td>5227021</td><td>G</td><td>C</td><td>chr11:5227022:G&gt;C</td><td>chr11:5225998-5228046:.</td><td>ATAC</td><td>NA</td><td>-0.01440668</td><td>-0.43125670</td></tr>\n",
       "\t<tr><td>chr11:5227021-5227208</td><td>5227021</td><td>G</td><td>A</td><td>chr11:5227022:G&gt;A</td><td>chr11:5225998-5228046:.</td><td>ATAC</td><td>NA</td><td> 0.03563738</td><td> 0.73794450</td></tr>\n",
       "\t<tr><td>chr11:5227021-5227208</td><td>5227021</td><td>G</td><td>T</td><td>chr11:5227022:G&gt;T</td><td>chr11:5225998-5228046:.</td><td>ATAC</td><td>NA</td><td>-0.03108215</td><td>-0.71620387</td></tr>\n",
       "\t<tr><td>chr11:5227021-5227208</td><td>5227022</td><td>G</td><td>G</td><td>chr11:5227023:G&gt;G</td><td>chr11:5225999-5228047:.</td><td>ATAC</td><td>NA</td><td> 0.00000000</td><td>-0.01153548</td></tr>\n",
       "\t<tr><td>chr11:5227021-5227208</td><td>5227022</td><td>G</td><td>C</td><td>chr11:5227023:G&gt;C</td><td>chr11:5225999-5228047:.</td><td>ATAC</td><td>NA</td><td> 0.03704786</td><td> 0.75330776</td></tr>\n",
       "</tbody>\n",
       "</table>\n"
      ],
      "text/latex": [
       "A tibble: 6 × 10\n",
       "\\begin{tabular}{llllllllll}\n",
       " Region & Position & Ref & Alt & Variant\\_ID & Scored\\_Interval & Output\\_Type & Gene\\_Name & Raw\\_Score & Quantile\\_Score\\\\\n",
       " <chr> & <dbl> & <chr> & <chr> & <chr> & <chr> & <chr> & <lgl> & <dbl> & <dbl>\\\\\n",
       "\\hline\n",
       "\t chr11:5227021-5227208 & 5227021 & G & G & chr11:5227022:G>G & chr11:5225998-5228046:. & ATAC & NA &  0.00000000 & -0.01153548\\\\\n",
       "\t chr11:5227021-5227208 & 5227021 & G & C & chr11:5227022:G>C & chr11:5225998-5228046:. & ATAC & NA & -0.01440668 & -0.43125670\\\\\n",
       "\t chr11:5227021-5227208 & 5227021 & G & A & chr11:5227022:G>A & chr11:5225998-5228046:. & ATAC & NA &  0.03563738 &  0.73794450\\\\\n",
       "\t chr11:5227021-5227208 & 5227021 & G & T & chr11:5227022:G>T & chr11:5225998-5228046:. & ATAC & NA & -0.03108215 & -0.71620387\\\\\n",
       "\t chr11:5227021-5227208 & 5227022 & G & G & chr11:5227023:G>G & chr11:5225999-5228047:. & ATAC & NA &  0.00000000 & -0.01153548\\\\\n",
       "\t chr11:5227021-5227208 & 5227022 & G & C & chr11:5227023:G>C & chr11:5225999-5228047:. & ATAC & NA &  0.03704786 &  0.75330776\\\\\n",
       "\\end{tabular}\n"
      ],
      "text/markdown": [
       "\n",
       "A tibble: 6 × 10\n",
       "\n",
       "| Region &lt;chr&gt; | Position &lt;dbl&gt; | Ref &lt;chr&gt; | Alt &lt;chr&gt; | Variant_ID &lt;chr&gt; | Scored_Interval &lt;chr&gt; | Output_Type &lt;chr&gt; | Gene_Name &lt;lgl&gt; | Raw_Score &lt;dbl&gt; | Quantile_Score &lt;dbl&gt; |\n",
       "|---|---|---|---|---|---|---|---|---|---|\n",
       "| chr11:5227021-5227208 | 5227021 | G | G | chr11:5227022:G&gt;G | chr11:5225998-5228046:. | ATAC | NA |  0.00000000 | -0.01153548 |\n",
       "| chr11:5227021-5227208 | 5227021 | G | C | chr11:5227022:G&gt;C | chr11:5225998-5228046:. | ATAC | NA | -0.01440668 | -0.43125670 |\n",
       "| chr11:5227021-5227208 | 5227021 | G | A | chr11:5227022:G&gt;A | chr11:5225998-5228046:. | ATAC | NA |  0.03563738 |  0.73794450 |\n",
       "| chr11:5227021-5227208 | 5227021 | G | T | chr11:5227022:G&gt;T | chr11:5225998-5228046:. | ATAC | NA | -0.03108215 | -0.71620387 |\n",
       "| chr11:5227021-5227208 | 5227022 | G | G | chr11:5227023:G&gt;G | chr11:5225999-5228047:. | ATAC | NA |  0.00000000 | -0.01153548 |\n",
       "| chr11:5227021-5227208 | 5227022 | G | C | chr11:5227023:G&gt;C | chr11:5225999-5228047:. | ATAC | NA |  0.03704786 |  0.75330776 |\n",
       "\n"
      ],
      "text/plain": [
       "  Region                Position Ref Alt Variant_ID       \n",
       "1 chr11:5227021-5227208 5227021  G   G   chr11:5227022:G>G\n",
       "2 chr11:5227021-5227208 5227021  G   C   chr11:5227022:G>C\n",
       "3 chr11:5227021-5227208 5227021  G   A   chr11:5227022:G>A\n",
       "4 chr11:5227021-5227208 5227021  G   T   chr11:5227022:G>T\n",
       "5 chr11:5227021-5227208 5227022  G   G   chr11:5227023:G>G\n",
       "6 chr11:5227021-5227208 5227022  G   C   chr11:5227023:G>C\n",
       "  Scored_Interval         Output_Type Gene_Name Raw_Score   Quantile_Score\n",
       "1 chr11:5225998-5228046:. ATAC        NA         0.00000000 -0.01153548   \n",
       "2 chr11:5225998-5228046:. ATAC        NA        -0.01440668 -0.43125670   \n",
       "3 chr11:5225998-5228046:. ATAC        NA         0.03563738  0.73794450   \n",
       "4 chr11:5225998-5228046:. ATAC        NA        -0.03108215 -0.71620387   \n",
       "5 chr11:5225999-5228047:. ATAC        NA         0.00000000 -0.01153548   \n",
       "6 chr11:5225999-5228047:. ATAC        NA         0.03704786  0.75330776   "
      ]
     },
     "metadata": {},
     "output_type": "display_data"
    }
   ],
   "source": [
    "###\n",
    "vec = c(\"Region\", \"Position\", \"Ref\", \"Alt\")\n",
    "dat = dplyr::left_join(\n",
    "    dat_region_variant_position, \n",
    "    dat_region_variant_prediction_arrange, \n",
    "    by = vec)\n",
    "\n",
    "### assign and show\n",
    "dat_region_variant_merge = dat\n",
    "print(dim(dat))\n",
    "head(dat)"
   ]
  },
  {
   "cell_type": "code",
   "execution_count": null,
   "id": "158e07f9-77f7-4b08-a8eb-6a317bf0dab4",
   "metadata": {},
   "outputs": [],
   "source": []
  },
  {
   "cell_type": "code",
   "execution_count": null,
   "id": "ef389632-c190-4a64-9a78-6877bb444c35",
   "metadata": {},
   "outputs": [],
   "source": []
  },
  {
   "cell_type": "code",
   "execution_count": null,
   "id": "dd50d0cc-5786-4d41-adda-88b559f5a406",
   "metadata": {},
   "outputs": [],
   "source": []
  },
  {
   "cell_type": "code",
   "execution_count": 22,
   "id": "be0a264f-1827-4517-918f-892a19391e54",
   "metadata": {},
   "outputs": [
    {
     "name": "stdout",
     "output_type": "stream",
     "text": [
      "[1] 39376     5\n"
     ]
    },
    {
     "data": {
      "text/plain": [
       "\n",
       "    1 \n",
       "39376 "
      ]
     },
     "metadata": {},
     "output_type": "display_data"
    }
   ],
   "source": [
    "dat = dat_region_variant_merge\n",
    "dat = dat %>% \n",
    "    dplyr::group_by(Region, Position, Ref, Alt) %>% \n",
    "    dplyr::summarise(Count = n(), .groups = \"drop\")\n",
    "\n",
    "print(dim(dat))\n",
    "table(dat$Count)"
   ]
  },
  {
   "cell_type": "code",
   "execution_count": null,
   "id": "479c53ac-58ed-4f6c-8688-e01b77ce9ed5",
   "metadata": {},
   "outputs": [],
   "source": []
  },
  {
   "cell_type": "code",
   "execution_count": null,
   "id": "96fa3bea-e18d-4a15-81fd-1f11a4f7bdc6",
   "metadata": {},
   "outputs": [],
   "source": []
  },
  {
   "cell_type": "code",
   "execution_count": null,
   "id": "62859379-3c05-47ab-a22d-ce28c2d20ca4",
   "metadata": {},
   "outputs": [],
   "source": []
  },
  {
   "cell_type": "code",
   "execution_count": 23,
   "id": "1bbe0fa0-9b58-4b71-a2b2-d1d513032386",
   "metadata": {},
   "outputs": [],
   "source": [
    "txt_fdiry = file.path(FD_RES, \"predict_variant_kircher2019\")\n",
    "txt_fname = \"result.alphagenome.K562.ATAC.2KB.variant.summary.tsv\"\n",
    "txt_fpath = file.path(txt_fdiry, txt_fname)\n",
    "\n",
    "dat = dat_region_variant_merge\n",
    "write_tsv(dat, txt_fpath)"
   ]
  },
  {
   "cell_type": "code",
   "execution_count": null,
   "id": "168b1f0b-452c-440d-b26c-eb237568c8a2",
   "metadata": {},
   "outputs": [],
   "source": []
  },
  {
   "cell_type": "code",
   "execution_count": null,
   "id": "7e157013-5d73-4447-9568-b336fdf6f099",
   "metadata": {},
   "outputs": [],
   "source": []
  }
 ],
 "metadata": {
  "kernelspec": {
   "display_name": "R",
   "language": "R",
   "name": "ir"
  },
  "language_info": {
   "codemirror_mode": "r",
   "file_extension": ".r",
   "mimetype": "text/x-r-source",
   "name": "R",
   "pygments_lexer": "r",
   "version": "4.5.1"
  }
 },
 "nbformat": 4,
 "nbformat_minor": 5
}
