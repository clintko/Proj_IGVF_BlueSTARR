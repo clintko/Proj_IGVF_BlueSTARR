{
 "cells": [
  {
   "cell_type": "raw",
   "id": "86f45c24-6383-4bf9-a016-7d69cfee958f",
   "metadata": {},
   "source": [
    "---\n",
    "title: Test Alphagenome\n",
    "subtitle: Test to run alphagenome on a variant\n",
    "format:\n",
    "    html:\n",
    "        code-fold:  true\n",
    "        code-tools: true\n",
    "---"
   ]
  },
  {
   "cell_type": "markdown",
   "id": "c31485d0-1fda-4d29-9103-c93982eefd23",
   "metadata": {},
   "source": [
    "**Set environment**"
   ]
  },
  {
   "cell_type": "code",
   "execution_count": 12,
   "id": "f6fc0f4b-2d22-448f-bbb6-e143137adcc7",
   "metadata": {},
   "outputs": [],
   "source": [
    "import numpy  as np\n",
    "import pandas as pd\n",
    "import os\n",
    "import re"
   ]
  },
  {
   "cell_type": "code",
   "execution_count": 22,
   "id": "29682630-f93b-4173-8d7c-bb97d554ae7a",
   "metadata": {},
   "outputs": [],
   "source": [
    "from alphagenome.data   import genome\n",
    "from alphagenome.models import dna_client, variant_scorers"
   ]
  },
  {
   "cell_type": "markdown",
   "id": "14c1f98c-ffa7-4e13-a759-1b337a73672e",
   "metadata": {},
   "source": [
    "**Load model**"
   ]
  },
  {
   "cell_type": "code",
   "execution_count": 5,
   "id": "5a1b4896-7be7-4fe9-b10a-e19848a01203",
   "metadata": {},
   "outputs": [
    {
     "name": "stdout",
     "output_type": "stream",
     "text": [
      "<alphagenome.models.dna_client.DnaClient object at 0x7f9bf0a00d90>\n"
     ]
    }
   ],
   "source": [
    "### get api key\n",
    "from config_params import ALPHAGENOME_API_KEY\n",
    "os.environ[\"ALPHAGENOME_API_KEY\"] = ALPHAGENOME_API_KEY\n",
    "\n",
    "### load model\n",
    "dna_model = dna_client.create(os.environ[\"ALPHAGENOME_API_KEY\"])\n",
    "print(dna_model)"
   ]
  },
  {
   "cell_type": "code",
   "execution_count": 56,
   "id": "d702ddea-5e5d-4730-bc93-edd04e9026ef",
   "metadata": {},
   "outputs": [],
   "source": [
    "# Initialize an empty dictionary to serve as a variant effect prediction cache.\n",
    "_prediction_cache = {}"
   ]
  },
  {
   "cell_type": "markdown",
   "id": "2e3da4a4-c01b-4839-88aa-2549e1fb342b",
   "metadata": {},
   "source": [
    "## Define interval from a variant"
   ]
  },
  {
   "cell_type": "code",
   "execution_count": 29,
   "id": "a8820b5f-4218-4e19-afd9-ca2ac61b982d",
   "metadata": {},
   "outputs": [],
   "source": [
    "organism = dna_client.Organism.HOMO_SAPIENS"
   ]
  },
  {
   "cell_type": "code",
   "execution_count": 43,
   "id": "d8c88538-0f0d-487f-9927-6cc43b572890",
   "metadata": {},
   "outputs": [],
   "source": [
    "txt_region = \"chr11:5227021-5227208\"\n",
    "txt_chrom_name, txt_chrom_start, txt_chrom_end = re.split(\"[:\\-]\", txt_region)\n",
    "\n",
    "num_chrom_start = int(txt_chrom_start)\n",
    "num_chrom_end   = int(txt_chrom_end)\n",
    "num_length = num_chrom_end - num_chrom_start"
   ]
  },
  {
   "cell_type": "code",
   "execution_count": 48,
   "id": "e4b8fa6f-7948-4e4b-b76e-b87e20e38371",
   "metadata": {},
   "outputs": [],
   "source": [
    "num_variant_position_0base = 5227021\n",
    "txt_variant_reference_base = \"G\"\n",
    "txt_variant_alternate_base = \"A\"\n",
    "\n",
    "num_variant_position_1base = num_variant_position_0base + 1"
   ]
  },
  {
   "cell_type": "code",
   "execution_count": 49,
   "id": "c59ffc1e-ae99-45a3-8aab-679670bb6957",
   "metadata": {},
   "outputs": [
    {
     "name": "stdout",
     "output_type": "stream",
     "text": [
      "chr11:5227022:G>A\n"
     ]
    }
   ],
   "source": [
    "variant = genome.Variant(\n",
    "    chromosome = txt_chrom_name,\n",
    "    position   = num_variant_position_1base,\n",
    "    reference_bases = txt_variant_reference_base,\n",
    "    alternate_bases = txt_variant_alternate_base,\n",
    ")\n",
    "print(variant)"
   ]
  },
  {
   "cell_type": "code",
   "execution_count": 50,
   "id": "1e101c5d-7514-4fb0-b647-e02760019b1f",
   "metadata": {},
   "outputs": [
    {
     "data": {
      "text/plain": [
       "{'SEQUENCE_LENGTH_2KB': 2048,\n",
       " 'SEQUENCE_LENGTH_16KB': 16384,\n",
       " 'SEQUENCE_LENGTH_100KB': 131072,\n",
       " 'SEQUENCE_LENGTH_500KB': 524288,\n",
       " 'SEQUENCE_LENGTH_1MB': 1048576}"
      ]
     },
     "execution_count": 50,
     "metadata": {},
     "output_type": "execute_result"
    }
   ],
   "source": [
    "dna_client.SUPPORTED_SEQUENCE_LENGTHS"
   ]
  },
  {
   "cell_type": "code",
   "execution_count": 51,
   "id": "fa0ef351-e5aa-4384-ac84-cb18ea9030fa",
   "metadata": {},
   "outputs": [
    {
     "name": "stdout",
     "output_type": "stream",
     "text": [
      "2048\n"
     ]
    }
   ],
   "source": [
    "### Specify length of sequence around variant to predict:\n",
    "txt_sequence_length = '2KB'  # [\"2KB\", \"16KB\", \"100KB\", \"500KB\", \"1MB\"]\n",
    "num_sequence_length = dna_client.SUPPORTED_SEQUENCE_LENGTHS[\n",
    "    f'SEQUENCE_LENGTH_{txt_sequence_length}'\n",
    "]\n",
    "print(num_sequence_length)"
   ]
  },
  {
   "cell_type": "code",
   "execution_count": 52,
   "id": "f3c8de5a-4e63-4368-9878-d3d59ece25e1",
   "metadata": {},
   "outputs": [
    {
     "data": {
      "text/plain": [
       "Interval(chromosome='chr11', start=5227021, end=5227022, strand='.', name='')"
      ]
     },
     "execution_count": 52,
     "metadata": {},
     "output_type": "execute_result"
    }
   ],
   "source": [
    "variant.reference_interval"
   ]
  },
  {
   "cell_type": "code",
   "execution_count": 100,
   "id": "6ecdc875-e599-4d44-932a-04a95c775806",
   "metadata": {},
   "outputs": [
    {
     "name": "stdout",
     "output_type": "stream",
     "text": [
      "chr11:5227021-5229069:.\n"
     ]
    }
   ],
   "source": [
    "interval = genome.Interval(\n",
    "    chromosome = txt_chrom_name, \n",
    "    start      = num_chrom_start, \n",
    "    end        = num_chrom_start + num_sequence_length)\n",
    "print(interval)"
   ]
  },
  {
   "cell_type": "code",
   "execution_count": 54,
   "id": "ec491598-10e6-4ac9-b2b3-13318ec3c8bc",
   "metadata": {},
   "outputs": [
    {
     "name": "stdout",
     "output_type": "stream",
     "text": [
      "chr11:5225998-5228046:.\n"
     ]
    }
   ],
   "source": [
    "# The input interval is derived from the variant (centered on it).\n",
    "interval = variant.reference_interval.resize(sequence_length)\n",
    "print(interval)"
   ]
  },
  {
   "cell_type": "markdown",
   "id": "6844e62a-53c5-49b3-9073-ebaeef0cf566",
   "metadata": {},
   "source": [
    "## Genomic region"
   ]
  },
  {
   "cell_type": "markdown",
   "id": "a0a7af19-743b-45c1-8b67-5e2a0dbee99c",
   "metadata": {},
   "source": [
    "[FAQ — AlphaGenome](https://www.alphagenomedocs.com/faqs.html)"
   ]
  },
  {
   "cell_type": "markdown",
   "id": "eeec348d-e8e5-4643-930c-469ab41c765f",
   "metadata": {},
   "source": [
    "Using the genome.Interval class, which is initialized with a chromosome, a start, and an end position.\n",
    "\n",
    "> AlphaGenome classes such as genome.Interval uses 0-based indexing, consistent with the underlying Python implementations.\n",
    "> \n",
    "> This means an genome.Interval includes the base pair at the start position up to the base pair at the end-1 position.\n",
    "For example, to specify the first base pair of chromosome 1, use genome.Interval('chr1', 0, 1). This interval has a width of 1, and contains only the base pair at the first position of chromosome 1.\n",
    "> \n",
    "> To interpret interval overlaps, remember that 0-based indexing excludes the base pair at the end position itself, such that genome.Interval('chr1', 0, 1).overlaps(genome.Interval('chr1', 1, 2)) returns False."
   ]
  },
  {
   "cell_type": "markdown",
   "id": "3f30c893-d3bc-4463-943a-e3b693b9100a",
   "metadata": {},
   "source": [
    "## Genomic variant\n",
    "\n",
    "[Essential commands — AlphaGenome](https://www.alphagenomedocs.com/colabs/essential_commands.html?utm_source=chatgpt.com)\n",
    "\n",
    "> This variant changes the base A to a C at position 10_000 on chromosome 3. Note that the position attribute is 1-based to maintain compatibility with common public variant formats (see FAQ for more info.)"
   ]
  },
  {
   "cell_type": "code",
   "execution_count": 62,
   "id": "261e6178-2119-47b7-ac1d-a4046ecaf24d",
   "metadata": {},
   "outputs": [
    {
     "data": {
      "text/plain": [
       "CenterMaskScorer(requested_output=ATAC, width=501, aggregation_type=DIFF_LOG2_SUM)"
      ]
     },
     "execution_count": 62,
     "metadata": {},
     "output_type": "execute_result"
    }
   ],
   "source": [
    "variant_scorers.RECOMMENDED_VARIANT_SCORERS[\"ATAC\"]"
   ]
  },
  {
   "cell_type": "code",
   "execution_count": 101,
   "id": "0b2be205-a629-401b-826b-f59d066bd0b5",
   "metadata": {},
   "outputs": [
    {
     "data": {
      "text/html": [
       "<div>\n",
       "<style scoped>\n",
       "    .dataframe tbody tr th:only-of-type {\n",
       "        vertical-align: middle;\n",
       "    }\n",
       "\n",
       "    .dataframe tbody tr th {\n",
       "        vertical-align: top;\n",
       "    }\n",
       "\n",
       "    .dataframe thead th {\n",
       "        text-align: right;\n",
       "    }\n",
       "</style>\n",
       "<table border=\"1\" class=\"dataframe\">\n",
       "  <thead>\n",
       "    <tr style=\"text-align: right;\">\n",
       "      <th></th>\n",
       "      <th>variant_id</th>\n",
       "      <th>scored_interval</th>\n",
       "      <th>gene_id</th>\n",
       "      <th>gene_name</th>\n",
       "      <th>gene_type</th>\n",
       "      <th>gene_strand</th>\n",
       "      <th>junction_Start</th>\n",
       "      <th>junction_End</th>\n",
       "      <th>output_type</th>\n",
       "      <th>variant_scorer</th>\n",
       "      <th>track_name</th>\n",
       "      <th>track_strand</th>\n",
       "      <th>Assay title</th>\n",
       "      <th>ontology_curie</th>\n",
       "      <th>biosample_name</th>\n",
       "      <th>biosample_type</th>\n",
       "      <th>raw_score</th>\n",
       "      <th>quantile_score</th>\n",
       "    </tr>\n",
       "  </thead>\n",
       "  <tbody>\n",
       "    <tr>\n",
       "      <th>0</th>\n",
       "      <td>chr11:5227022:G&gt;A</td>\n",
       "      <td>chr11:5227021-5229069:.</td>\n",
       "      <td>None</td>\n",
       "      <td>None</td>\n",
       "      <td>None</td>\n",
       "      <td>None</td>\n",
       "      <td>None</td>\n",
       "      <td>None</td>\n",
       "      <td>ATAC</td>\n",
       "      <td>CenterMaskScorer(requested_output=ATAC, width=...</td>\n",
       "      <td>CL:0000084 ATAC-seq</td>\n",
       "      <td>.</td>\n",
       "      <td>ATAC-seq</td>\n",
       "      <td>CL:0000084</td>\n",
       "      <td>T-cell</td>\n",
       "      <td>primary_cell</td>\n",
       "      <td>-0.001603</td>\n",
       "      <td>-0.137554</td>\n",
       "    </tr>\n",
       "    <tr>\n",
       "      <th>1</th>\n",
       "      <td>chr11:5227022:G&gt;A</td>\n",
       "      <td>chr11:5227021-5229069:.</td>\n",
       "      <td>None</td>\n",
       "      <td>None</td>\n",
       "      <td>None</td>\n",
       "      <td>None</td>\n",
       "      <td>None</td>\n",
       "      <td>None</td>\n",
       "      <td>ATAC</td>\n",
       "      <td>CenterMaskScorer(requested_output=ATAC, width=...</td>\n",
       "      <td>CL:0000100 ATAC-seq</td>\n",
       "      <td>.</td>\n",
       "      <td>ATAC-seq</td>\n",
       "      <td>CL:0000100</td>\n",
       "      <td>motor neuron</td>\n",
       "      <td>in_vitro_differentiated_cells</td>\n",
       "      <td>0.043250</td>\n",
       "      <td>0.674555</td>\n",
       "    </tr>\n",
       "    <tr>\n",
       "      <th>2</th>\n",
       "      <td>chr11:5227022:G&gt;A</td>\n",
       "      <td>chr11:5227021-5229069:.</td>\n",
       "      <td>None</td>\n",
       "      <td>None</td>\n",
       "      <td>None</td>\n",
       "      <td>None</td>\n",
       "      <td>None</td>\n",
       "      <td>None</td>\n",
       "      <td>ATAC</td>\n",
       "      <td>CenterMaskScorer(requested_output=ATAC, width=...</td>\n",
       "      <td>CL:0000236 ATAC-seq</td>\n",
       "      <td>.</td>\n",
       "      <td>ATAC-seq</td>\n",
       "      <td>CL:0000236</td>\n",
       "      <td>B cell</td>\n",
       "      <td>primary_cell</td>\n",
       "      <td>-0.000247</td>\n",
       "      <td>-0.080577</td>\n",
       "    </tr>\n",
       "    <tr>\n",
       "      <th>3</th>\n",
       "      <td>chr11:5227022:G&gt;A</td>\n",
       "      <td>chr11:5227021-5229069:.</td>\n",
       "      <td>None</td>\n",
       "      <td>None</td>\n",
       "      <td>None</td>\n",
       "      <td>None</td>\n",
       "      <td>None</td>\n",
       "      <td>None</td>\n",
       "      <td>ATAC</td>\n",
       "      <td>CenterMaskScorer(requested_output=ATAC, width=...</td>\n",
       "      <td>CL:0000623 ATAC-seq</td>\n",
       "      <td>.</td>\n",
       "      <td>ATAC-seq</td>\n",
       "      <td>CL:0000623</td>\n",
       "      <td>natural killer cell</td>\n",
       "      <td>primary_cell</td>\n",
       "      <td>-0.000209</td>\n",
       "      <td>-0.080577</td>\n",
       "    </tr>\n",
       "    <tr>\n",
       "      <th>4</th>\n",
       "      <td>chr11:5227022:G&gt;A</td>\n",
       "      <td>chr11:5227021-5229069:.</td>\n",
       "      <td>None</td>\n",
       "      <td>None</td>\n",
       "      <td>None</td>\n",
       "      <td>None</td>\n",
       "      <td>None</td>\n",
       "      <td>None</td>\n",
       "      <td>ATAC</td>\n",
       "      <td>CenterMaskScorer(requested_output=ATAC, width=...</td>\n",
       "      <td>CL:0000624 ATAC-seq</td>\n",
       "      <td>.</td>\n",
       "      <td>ATAC-seq</td>\n",
       "      <td>CL:0000624</td>\n",
       "      <td>CD4-positive, alpha-beta T cell</td>\n",
       "      <td>primary_cell</td>\n",
       "      <td>0.005339</td>\n",
       "      <td>0.160114</td>\n",
       "    </tr>\n",
       "  </tbody>\n",
       "</table>\n",
       "</div>"
      ],
      "text/plain": [
       "          variant_id          scored_interval gene_id gene_name gene_type  \\\n",
       "0  chr11:5227022:G>A  chr11:5227021-5229069:.    None      None      None   \n",
       "1  chr11:5227022:G>A  chr11:5227021-5229069:.    None      None      None   \n",
       "2  chr11:5227022:G>A  chr11:5227021-5229069:.    None      None      None   \n",
       "3  chr11:5227022:G>A  chr11:5227021-5229069:.    None      None      None   \n",
       "4  chr11:5227022:G>A  chr11:5227021-5229069:.    None      None      None   \n",
       "\n",
       "  gene_strand junction_Start junction_End output_type  \\\n",
       "0        None           None         None        ATAC   \n",
       "1        None           None         None        ATAC   \n",
       "2        None           None         None        ATAC   \n",
       "3        None           None         None        ATAC   \n",
       "4        None           None         None        ATAC   \n",
       "\n",
       "                                      variant_scorer           track_name  \\\n",
       "0  CenterMaskScorer(requested_output=ATAC, width=...  CL:0000084 ATAC-seq   \n",
       "1  CenterMaskScorer(requested_output=ATAC, width=...  CL:0000100 ATAC-seq   \n",
       "2  CenterMaskScorer(requested_output=ATAC, width=...  CL:0000236 ATAC-seq   \n",
       "3  CenterMaskScorer(requested_output=ATAC, width=...  CL:0000623 ATAC-seq   \n",
       "4  CenterMaskScorer(requested_output=ATAC, width=...  CL:0000624 ATAC-seq   \n",
       "\n",
       "  track_strand Assay title ontology_curie                   biosample_name  \\\n",
       "0            .    ATAC-seq     CL:0000084                           T-cell   \n",
       "1            .    ATAC-seq     CL:0000100                     motor neuron   \n",
       "2            .    ATAC-seq     CL:0000236                           B cell   \n",
       "3            .    ATAC-seq     CL:0000623              natural killer cell   \n",
       "4            .    ATAC-seq     CL:0000624  CD4-positive, alpha-beta T cell   \n",
       "\n",
       "                  biosample_type  raw_score  quantile_score  \n",
       "0                   primary_cell  -0.001603       -0.137554  \n",
       "1  in_vitro_differentiated_cells   0.043250        0.674555  \n",
       "2                   primary_cell  -0.000247       -0.080577  \n",
       "3                   primary_cell  -0.000209       -0.080577  \n",
       "4                   primary_cell   0.005339        0.160114  "
      ]
     },
     "execution_count": 101,
     "metadata": {},
     "output_type": "execute_result"
    }
   ],
   "source": [
    "###\n",
    "variant_scores = dna_model.score_variant(\n",
    "    interval = interval,\n",
    "    variant  = variant,\n",
    "    variant_scorers = [variant_scorers.RECOMMENDED_VARIANT_SCORERS[\"ATAC\"]]\n",
    "    #variant_scorers = list(variant_scorers.RECOMMENDED_VARIANT_SCORERS.values()),\n",
    ")\n",
    "\n",
    "dat_scores = variant_scorers.tidy_scores(variant_scores)\n",
    "dat_scores.head()"
   ]
  },
  {
   "cell_type": "code",
   "execution_count": 102,
   "id": "f422dac8-b077-4f08-8f31-6911ff2b7e84",
   "metadata": {},
   "outputs": [
    {
     "data": {
      "text/html": [
       "<div>\n",
       "<style scoped>\n",
       "    .dataframe tbody tr th:only-of-type {\n",
       "        vertical-align: middle;\n",
       "    }\n",
       "\n",
       "    .dataframe tbody tr th {\n",
       "        vertical-align: top;\n",
       "    }\n",
       "\n",
       "    .dataframe thead th {\n",
       "        text-align: right;\n",
       "    }\n",
       "</style>\n",
       "<table border=\"1\" class=\"dataframe\">\n",
       "  <thead>\n",
       "    <tr style=\"text-align: right;\">\n",
       "      <th></th>\n",
       "      <th>variant_id</th>\n",
       "      <th>scored_interval</th>\n",
       "      <th>output_type</th>\n",
       "      <th>variant_scorer</th>\n",
       "      <th>biosample_name</th>\n",
       "      <th>raw_score</th>\n",
       "      <th>quantile_score</th>\n",
       "    </tr>\n",
       "  </thead>\n",
       "  <tbody>\n",
       "    <tr>\n",
       "      <th>60</th>\n",
       "      <td>chr11:5227022:G&gt;A</td>\n",
       "      <td>chr11:5227021-5229069:.</td>\n",
       "      <td>ATAC</td>\n",
       "      <td>CenterMaskScorer(requested_output=ATAC, width=...</td>\n",
       "      <td>K562</td>\n",
       "      <td>0.033792</td>\n",
       "      <td>0.721776</td>\n",
       "    </tr>\n",
       "  </tbody>\n",
       "</table>\n",
       "</div>"
      ],
      "text/plain": [
       "           variant_id          scored_interval output_type  \\\n",
       "60  chr11:5227022:G>A  chr11:5227021-5229069:.        ATAC   \n",
       "\n",
       "                                       variant_scorer biosample_name  \\\n",
       "60  CenterMaskScorer(requested_output=ATAC, width=...           K562   \n",
       "\n",
       "    raw_score  quantile_score  \n",
       "60   0.033792        0.721776  "
      ]
     },
     "execution_count": 102,
     "metadata": {},
     "output_type": "execute_result"
    }
   ],
   "source": [
    "dat = dat_scores.loc[\n",
    "    dat_scores[\"biosample_name\"] == \"K562\",\n",
    "    [\n",
    "        \"variant_id\",\n",
    "        \"scored_interval\",\n",
    "        \"output_type\",\n",
    "        \"variant_scorer\",\n",
    "        \"biosample_name\",\n",
    "        \"raw_score\",\n",
    "        \"quantile_score\",\n",
    "    ]\n",
    "]\n",
    "dat"
   ]
  },
  {
   "cell_type": "code",
   "execution_count": null,
   "id": "34b73738-2815-4051-be2f-f0bda99342e4",
   "metadata": {},
   "outputs": [],
   "source": []
  },
  {
   "cell_type": "code",
   "execution_count": null,
   "id": "ed70c5e9-0983-49f8-b50a-bd79226aae2a",
   "metadata": {},
   "outputs": [],
   "source": []
  },
  {
   "cell_type": "code",
   "execution_count": 58,
   "id": "e4efdcc2-d9ed-4720-ad6f-2aa09868fc9d",
   "metadata": {},
   "outputs": [],
   "source": [
    "def _predict_variant_cached(\n",
    "    interval, variant, organism, requested_outputs, ontology_terms\n",
    "):\n",
    "    \"\"\"Cache wrapper of dna_model.predict_variant.\"\"\"\n",
    "    # Create a unique key from the function arguments.\n",
    "    cache_key = (\n",
    "        str(interval),\n",
    "        str(variant),\n",
    "        str(organism),\n",
    "        tuple(requested_outputs),\n",
    "        tuple(ontology_terms),\n",
    "    )\n",
    "    \n",
    "    # Check if the result is already in the cache.\n",
    "    if cache_key in _prediction_cache:\n",
    "        return _prediction_cache[cache_key]\n",
    "    \n",
    "    # If not, compute the prediction and store it in the cache.\n",
    "    result = dna_model.predict_variant(\n",
    "        interval=interval,\n",
    "        variant=variant,\n",
    "        organism=organism,\n",
    "        requested_outputs=requested_outputs,\n",
    "        ontology_terms=ontology_terms,\n",
    "    )\n",
    "    _prediction_cache[cache_key] = result\n",
    "    \n",
    "    return result"
   ]
  },
  {
   "cell_type": "markdown",
   "id": "70dbf122-a9e4-44da-b4f6-378c60798237",
   "metadata": {},
   "source": [
    "```\n",
    "EFO:0001187 → HeLa cell line\n",
    "EFO:0002067 → K562 cell line\n",
    "EFO:0002784 → GM12878 lymphoblastoid cell line\n",
    "```"
   ]
  },
  {
   "cell_type": "code",
   "execution_count": 103,
   "id": "54fbb649-a817-4769-9bff-113292ace74d",
   "metadata": {},
   "outputs": [
    {
     "data": {
      "text/plain": [
       "[ATAC,\n",
       " CAGE,\n",
       " DNASE,\n",
       " RNA_SEQ,\n",
       " CHIP_HISTONE,\n",
       " CHIP_TF,\n",
       " SPLICE_SITES,\n",
       " SPLICE_SITE_USAGE,\n",
       " SPLICE_JUNCTIONS,\n",
       " CONTACT_MAPS,\n",
       " PROCAP]"
      ]
     },
     "execution_count": 103,
     "metadata": {},
     "output_type": "execute_result"
    }
   ],
   "source": [
    "list(dna_client.OutputType)"
   ]
  },
  {
   "cell_type": "code",
   "execution_count": 104,
   "id": "65e3db2e-33a9-4f9a-a1db-71c1ca572dd4",
   "metadata": {},
   "outputs": [
    {
     "data": {
      "text/plain": [
       "ATAC"
      ]
     },
     "execution_count": 104,
     "metadata": {},
     "output_type": "execute_result"
    }
   ],
   "source": [
    "[*dna_client.OutputType][0]"
   ]
  },
  {
   "cell_type": "code",
   "execution_count": 105,
   "id": "624ab0aa-2e46-4eea-bc5b-973e232019f6",
   "metadata": {},
   "outputs": [],
   "source": [
    "output = _predict_variant_cached(\n",
    "    interval=interval,\n",
    "    variant=variant,\n",
    "    organism=organism,\n",
    "    requested_outputs=[[*dna_client.OutputType][0]],\n",
    "    ontology_terms=[\"EFO:0002067\"],\n",
    ")"
   ]
  },
  {
   "cell_type": "code",
   "execution_count": 106,
   "id": "53bfb230-41bf-4b7e-bae2-def536dad200",
   "metadata": {},
   "outputs": [
    {
     "name": "stdout",
     "output_type": "stream",
     "text": [
      "501\n"
     ]
    }
   ],
   "source": [
    "scorer = variant_scorers.RECOMMENDED_VARIANT_SCORERS[\"ATAC\"]\n",
    "mask_width = scorer.width\n",
    "print(mask_width)"
   ]
  },
  {
   "cell_type": "code",
   "execution_count": 112,
   "id": "102e3248-e092-4ead-b4b1-65037468ac59",
   "metadata": {},
   "outputs": [
    {
     "data": {
      "text/plain": [
       "DIFF_LOG2_SUM"
      ]
     },
     "execution_count": 112,
     "metadata": {},
     "output_type": "execute_result"
    }
   ],
   "source": [
    "scorer.aggregation_type"
   ]
  },
  {
   "cell_type": "code",
   "execution_count": 107,
   "id": "be6b665c-8f75-412c-8933-eaae051ae2f0",
   "metadata": {},
   "outputs": [],
   "source": [
    "ref = output.reference\n",
    "alt = output.alternate"
   ]
  },
  {
   "cell_type": "code",
   "execution_count": 108,
   "id": "085ee417-c26d-47d7-984b-ae73ef44db6a",
   "metadata": {},
   "outputs": [
    {
     "data": {
      "text/plain": [
       "(2048, 1)"
      ]
     },
     "execution_count": 108,
     "metadata": {},
     "output_type": "execute_result"
    }
   ],
   "source": [
    "ref.atac.values.shape"
   ]
  },
  {
   "cell_type": "code",
   "execution_count": 109,
   "id": "e564c740-6ce6-432e-8897-fd3e3c1a22e9",
   "metadata": {},
   "outputs": [
    {
     "data": {
      "text/plain": [
       "array([0.00854492, 0.0390625 , 0.00335693, ..., 0.01928711, 0.0168457 ,\n",
       "       0.01794434], dtype=float32)"
      ]
     },
     "execution_count": 109,
     "metadata": {},
     "output_type": "execute_result"
    }
   ],
   "source": [
    "track_idx = 0\n",
    "ref_signal = ref.atac.values[:, track_idx]\n",
    "alt_signal = alt.atac.values[:, track_idx]\n",
    "\n",
    "ref_signal"
   ]
  },
  {
   "cell_type": "code",
   "execution_count": 111,
   "id": "9f574517-067b-4aa6-8ef9-5591c9b0a51f",
   "metadata": {},
   "outputs": [
    {
     "data": {
      "text/plain": [
       "0.17733383"
      ]
     },
     "execution_count": 111,
     "metadata": {},
     "output_type": "execute_result"
    }
   ],
   "source": [
    "scorer = variant_scorers.RECOMMENDED_VARIANT_SCORERS[\"ATAC\"]\n",
    "mask_width = scorer.width   # bp\n",
    "\n",
    "# Get center index in the array\n",
    "center_idx = len(ref_signal) // 2\n",
    "half_mask = mask_width // 2\n",
    "mask_slice = slice(center_idx - half_mask, center_idx + half_mask)\n",
    "\n",
    "# Now calculate in the masked region\n",
    "raw_score = alt_signal[mask_slice].sum() - ref_signal[mask_slice].sum()\n",
    "raw_score"
   ]
  },
  {
   "cell_type": "code",
   "execution_count": 114,
   "id": "3df17b31-89bb-4212-8ed2-2f6cb154c0ae",
   "metadata": {},
   "outputs": [
    {
     "data": {
      "text/plain": [
       "0.02855767090331529"
      ]
     },
     "execution_count": 114,
     "metadata": {},
     "output_type": "execute_result"
    }
   ],
   "source": [
    "eps = 1e-6  # small pseudocount; AlphaGenome uses a tiny epsilon internally\n",
    "S_ref = float(ref_signal[mask_slice].sum())\n",
    "S_alt = float(alt_signal[mask_slice].sum())\n",
    "raw_score_manual = np.log2(S_alt + eps) - np.log2(S_ref + eps)\n",
    "raw_score_manual"
   ]
  },
  {
   "cell_type": "code",
   "execution_count": null,
   "id": "728a33ec-a388-4d3e-be16-ee1d9cdd09ab",
   "metadata": {},
   "outputs": [],
   "source": []
  },
  {
   "cell_type": "code",
   "execution_count": null,
   "id": "f678a4af-863b-47e7-be1e-9ce8ad0d2a1d",
   "metadata": {},
   "outputs": [],
   "source": []
  }
 ],
 "metadata": {
  "kernelspec": {
   "display_name": "Python 3 (ipykernel)",
   "language": "python",
   "name": "python3"
  },
  "language_info": {
   "codemirror_mode": {
    "name": "ipython",
    "version": 3
   },
   "file_extension": ".py",
   "mimetype": "text/x-python",
   "name": "python",
   "nbconvert_exporter": "python",
   "pygments_lexer": "ipython3",
   "version": "3.11.6"
  }
 },
 "nbformat": 4,
 "nbformat_minor": 5
}
