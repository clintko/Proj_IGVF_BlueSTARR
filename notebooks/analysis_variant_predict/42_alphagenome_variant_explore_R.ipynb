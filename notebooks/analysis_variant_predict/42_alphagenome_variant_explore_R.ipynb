{
 "cells": [
  {
   "cell_type": "raw",
   "id": "6228420b-2c16-4c3b-ae4d-7670018ea8e0",
   "metadata": {},
   "source": [
    "---\n",
    "title: Test Alphagenome\n",
    "subtitle: Test to run alphagenome on a variant\n",
    "format:\n",
    "    html:\n",
    "        code-fold:  true\n",
    "        code-tools: true\n",
    "---"
   ]
  },
  {
   "cell_type": "markdown",
   "id": "bc27064d-dfd7-4b03-8fff-bc24db734b6e",
   "metadata": {},
   "source": [
    "**Set environment**"
   ]
  },
  {
   "cell_type": "code",
   "execution_count": 1,
   "id": "6cb16247-ca4c-461a-b78a-6ccc204f06f7",
   "metadata": {},
   "outputs": [
    {
     "name": "stdout",
     "output_type": "stream",
     "text": [
      "BASE DIRECTORY (FD_BASE): /hpc/group/igvf/kk319 \n",
      "REPO DIRECTORY (FD_REPO): /hpc/group/igvf/kk319/repo \n",
      "WORK DIRECTORY (FD_WORK): /hpc/group/igvf/kk319/work \n",
      "DATA DIRECTORY (FD_DATA): /hpc/group/igvf/kk319/data \n",
      "\n",
      "You are working with      IGVF BlueSTARR \n",
      "PATH OF PROJECT (FD_PRJ): /hpc/group/igvf/kk319/repo/Proj_IGVF_BlueSTARR \n",
      "PROJECT RESULTS (FD_RES): /hpc/group/igvf/kk319/repo/Proj_IGVF_BlueSTARR/results \n",
      "PROJECT SCRIPTS (FD_EXE): /hpc/group/igvf/kk319/repo/Proj_IGVF_BlueSTARR/scripts \n",
      "PROJECT DATA    (FD_DAT): /hpc/group/igvf/kk319/repo/Proj_IGVF_BlueSTARR/data \n",
      "PROJECT NOTE    (FD_NBK): /hpc/group/igvf/kk319/repo/Proj_IGVF_BlueSTARR/notebooks \n",
      "PROJECT DOCS    (FD_DOC): /hpc/group/igvf/kk319/repo/Proj_IGVF_BlueSTARR/docs \n",
      "PROJECT LOG     (FD_LOG): /hpc/group/igvf/kk319/repo/Proj_IGVF_BlueSTARR/log \n",
      "PROJECT REF     (FD_REF): /hpc/group/igvf/kk319/repo/Proj_IGVF_BlueSTARR/references \n",
      "\n"
     ]
    }
   ],
   "source": [
    "suppressMessages(suppressWarnings(source(\"../run_config_project.R\")))\n",
    "show_env()"
   ]
  },
  {
   "cell_type": "markdown",
   "id": "a68227ce-146d-41ac-b1b6-7040034ba281",
   "metadata": {},
   "source": [
    "## Import data"
   ]
  },
  {
   "cell_type": "code",
   "execution_count": 13,
   "id": "fefaf844-de87-4fd5-bdc3-3dae7aca0f04",
   "metadata": {},
   "outputs": [
    {
     "name": "stdout",
     "output_type": "stream",
     "text": [
      "[1] 42916    10\n"
     ]
    },
    {
     "data": {
      "text/html": [
       "<table>\n",
       " <thead>\n",
       "  <tr>\n",
       "   <th style=\"text-align:left;\"> Region </th>\n",
       "   <th style=\"text-align:right;\"> Position </th>\n",
       "   <th style=\"text-align:left;\"> Ref </th>\n",
       "   <th style=\"text-align:left;\"> Alt </th>\n",
       "   <th style=\"text-align:left;\"> Variant_ID </th>\n",
       "   <th style=\"text-align:left;\"> Scored_Interval </th>\n",
       "   <th style=\"text-align:left;\"> Output_Type </th>\n",
       "   <th style=\"text-align:left;\"> Gene_Name </th>\n",
       "   <th style=\"text-align:right;\"> Raw_Score </th>\n",
       "   <th style=\"text-align:right;\"> Quantile_Score </th>\n",
       "  </tr>\n",
       " </thead>\n",
       "<tbody>\n",
       "  <tr>\n",
       "   <td style=\"text-align:left;\"> chr11:5227021-5227208 </td>\n",
       "   <td style=\"text-align:right;\"> 5227021 </td>\n",
       "   <td style=\"text-align:left;\"> G </td>\n",
       "   <td style=\"text-align:left;\"> G </td>\n",
       "   <td style=\"text-align:left;\"> chr11:5227022:G&gt;G </td>\n",
       "   <td style=\"text-align:left;\"> chr11:5225998-5228046:. </td>\n",
       "   <td style=\"text-align:left;\"> RNA_SEQ </td>\n",
       "   <td style=\"text-align:left;\"> HBB </td>\n",
       "   <td style=\"text-align:right;\"> 0.0000000 </td>\n",
       "   <td style=\"text-align:right;\"> 0.0000000 </td>\n",
       "  </tr>\n",
       "  <tr>\n",
       "   <td style=\"text-align:left;\"> chr11:5227021-5227208 </td>\n",
       "   <td style=\"text-align:right;\"> 5227021 </td>\n",
       "   <td style=\"text-align:left;\"> G </td>\n",
       "   <td style=\"text-align:left;\"> C </td>\n",
       "   <td style=\"text-align:left;\"> chr11:5227022:G&gt;C </td>\n",
       "   <td style=\"text-align:left;\"> chr11:5225998-5228046:. </td>\n",
       "   <td style=\"text-align:left;\"> RNA_SEQ </td>\n",
       "   <td style=\"text-align:left;\"> HBB </td>\n",
       "   <td style=\"text-align:right;\"> -0.0368390 </td>\n",
       "   <td style=\"text-align:right;\"> -0.9993886 </td>\n",
       "  </tr>\n",
       "  <tr>\n",
       "   <td style=\"text-align:left;\"> chr11:5227021-5227208 </td>\n",
       "   <td style=\"text-align:right;\"> 5227021 </td>\n",
       "   <td style=\"text-align:left;\"> G </td>\n",
       "   <td style=\"text-align:left;\"> A </td>\n",
       "   <td style=\"text-align:left;\"> chr11:5227022:G&gt;A </td>\n",
       "   <td style=\"text-align:left;\"> chr11:5225998-5228046:. </td>\n",
       "   <td style=\"text-align:left;\"> RNA_SEQ </td>\n",
       "   <td style=\"text-align:left;\"> HBB </td>\n",
       "   <td style=\"text-align:right;\"> -0.0145946 </td>\n",
       "   <td style=\"text-align:right;\"> -0.9887586 </td>\n",
       "  </tr>\n",
       "</tbody>\n",
       "</table>"
      ]
     },
     "metadata": {},
     "output_type": "display_data"
    }
   ],
   "source": [
    "### set file directory\n",
    "txt_fdiry = file.path(FD_RES, \"predict_variant_kircher2019\")\n",
    "txt_fname = \"result.alphagenome.variant.summary.tsv\"\n",
    "txt_fpath = file.path(txt_fdiry, txt_fname)\n",
    "\n",
    "### read table\n",
    "dat = read_tsv(txt_fpath, show_col_types = FALSE)\n",
    "\n",
    "### assign and show\n",
    "dat_region_variant_summary = dat\n",
    "print(dim(dat))\n",
    "fun_display_table(head(dat, 3))"
   ]
  },
  {
   "cell_type": "markdown",
   "id": "0c7ed08d-b1c2-46a8-975e-70de3105476f",
   "metadata": {},
   "source": [
    "## Explore: Regions and variants"
   ]
  },
  {
   "cell_type": "code",
   "execution_count": null,
   "id": "b91b752e-54e1-4f68-8789-327b0443b334",
   "metadata": {},
   "outputs": [],
   "source": []
  },
  {
   "cell_type": "code",
   "execution_count": 4,
   "id": "70741548-aa4b-409e-9d6c-246f2e2c2837",
   "metadata": {},
   "outputs": [
    {
     "name": "stdout",
     "output_type": "stream",
     "text": [
      "#Region:   45 \n",
      "#Position: 9844 \n",
      "#Position: 39376 \n"
     ]
    }
   ],
   "source": [
    "dat = dat_region_variant_summary\n",
    "tmp = dat %>% dplyr::select(Region, Position) %>% dplyr::distinct()\n",
    "\n",
    "vec = unique(tmp$Region)\n",
    "cat(\"#Region:  \", length(vec), \"\\n\")\n",
    "cat(\"#Position:\", nrow(tmp),   \"\\n\")\n",
    "\n",
    "vec = unique(dat$Variant_ID)\n",
    "cat(\"#Position:\", length(vec), \"\\n\")"
   ]
  },
  {
   "cell_type": "markdown",
   "id": "2a994002-64cf-4766-8021-d12f30a5f229",
   "metadata": {},
   "source": [
    "## Explore: Missing values"
   ]
  },
  {
   "cell_type": "code",
   "execution_count": 43,
   "id": "812cb01f-726c-46c8-8a22-97ac5c39b524",
   "metadata": {},
   "outputs": [
    {
     "name": "stdout",
     "output_type": "stream",
     "text": [
      "[1] 9844    3\n",
      "\n",
      "FALSE  TRUE \n",
      " 4866  4978 \n"
     ]
    }
   ],
   "source": [
    "dat = dat_region_variant_summary\n",
    "dat = dat %>% dplyr::mutate(IsNa = is.na(Raw_Score))\n",
    "dat = dat %>% dplyr::select(Region, Position, IsNa) %>% dplyr::distinct()\n",
    "print(dim(dat))\n",
    "\n",
    "res = table(dat$IsNa)\n",
    "print(res)"
   ]
  },
  {
   "cell_type": "code",
   "execution_count": 38,
   "id": "ec946140-88af-4f5f-9b22-7c67096ef912",
   "metadata": {},
   "outputs": [],
   "source": [
    "fun_region_label = function(num_count_total, num_count_missing){\n",
    "    if (num_count_total == num_count_missing){\n",
    "        return(\"All missing\")\n",
    "    }\n",
    "\n",
    "    if (num_count_missing == 0){\n",
    "        return(\"No missing\")\n",
    "    }\n",
    "\n",
    "    if (num_count_total > num_count_missing){\n",
    "        return(\"Partially missing\")\n",
    "    }\n",
    "}"
   ]
  },
  {
   "cell_type": "code",
   "execution_count": 41,
   "id": "d8448dc8-4069-4705-9238-7a390e51b299",
   "metadata": {},
   "outputs": [
    {
     "name": "stdout",
     "output_type": "stream",
     "text": [
      "[1] 45  4\n",
      "\n",
      "      All missing        No missing Partially missing \n",
      "               22                22                 1 \n"
     ]
    },
    {
     "data": {
      "text/plain": [
       "\n",
       "\n",
       "|Region                    | Count Position Total| Count Position Missing|Label             |\n",
       "|:-------------------------|--------------------:|----------------------:|:-----------------|\n",
       "|chr10:112998239-112998439 |                  200|                    200|All missing       |\n",
       "|chr10:112998439-112998639 |                  200|                    200|All missing       |\n",
       "|chr10:112998639-112998839 |                  200|                    200|All missing       |\n",
       "|chr10:43086478-43086678   |                  200|                    200|All missing       |\n",
       "|chr10:43086678-43086878   |                  200|                    200|All missing       |\n",
       "|chr10:43086878-43087078   |                  200|                    200|All missing       |\n",
       "|chr10:46046243-46046538   |                  295|                      0|No missing        |\n",
       "|chr10:46046538-46046834   |                  296|                      0|No missing        |\n",
       "|chr11:5227021-5227208     |                  187|                      0|No missing        |\n",
       "|chr11:5249804-5250078     |                  274|                      0|No missing        |\n",
       "|chr19:11089230-11089389   |                  159|                      0|No missing        |\n",
       "|chr19:11089389-11089548   |                  159|                      0|No missing        |\n",
       "|chr1:109274650-109274850  |                  200|                    200|All missing       |\n",
       "|chr1:109274850-109275050  |                  200|                    200|All missing       |\n",
       "|chr1:109275050-109275251  |                  201|                    201|All missing       |\n",
       "|chr1:155301394-155301629  |                  235|                      0|No missing        |\n",
       "|chr1:155301629-155301864  |                  235|                      0|No missing        |\n",
       "|chr1:209815789-209815989  |                  200|                    200|All missing       |\n",
       "|chr1:209815989-209816189  |                  200|                    200|All missing       |\n",
       "|chr1:209816189-209816390  |                  201|                    201|All missing       |\n",
       "|chr20:44355519-44355804   |                  285|                      0|No missing        |\n",
       "|chr22:19723265-19723457   |                  192|                      0|No missing        |\n",
       "|chr22:19723457-19723650   |                  193|                      0|No missing        |\n",
       "|chr2:161238407-161238702  |                  295|                    295|All missing       |\n",
       "|chr2:161238702-161238998  |                  296|                    296|All missing       |\n",
       "|chr2:60494939-60495139    |                  200|                      0|No missing        |\n",
       "|chr2:60495139-60495339    |                  200|                      0|No missing        |\n",
       "|chr2:60495339-60495539    |                  200|                      0|No missing        |\n",
       "|chr5:1294988-1295247      |                  259|                      0|No missing        |\n",
       "|chr6:37807498-37807787    |                  289|                    289|All missing       |\n",
       "|chr6:37807787-37808077    |                  290|                    290|All missing       |\n",
       "|chr6:396142-396367        |                  225|                    225|All missing       |\n",
       "|chr6:396367-396593        |                  226|                    226|All missing       |\n",
       "|chr7:156791118-156791361  |                  243|                    243|All missing       |\n",
       "|chr7:156791361-156791604  |                  243|                    243|All missing       |\n",
       "|chr8:127400828-127401028  |                  200|                      0|No missing        |\n",
       "|chr8:127401028-127401228  |                  200|                      0|No missing        |\n",
       "|chr8:127401228-127401428  |                  200|                      6|Partially missing |\n",
       "|chr8:127519269-127519500  |                  231|                    231|All missing       |\n",
       "|chr8:127519500-127519732  |                  232|                    232|All missing       |\n",
       "|chr9:97853254-97853454    |                  200|                      0|No missing        |\n",
       "|chr9:97853454-97853654    |                  200|                      0|No missing        |\n",
       "|chr9:97853654-97853854    |                  200|                      0|No missing        |\n",
       "|chrX:139530462-139530613  |                  151|                      0|No missing        |\n",
       "|chrX:139530613-139530765  |                  152|                      0|No missing        |"
      ]
     },
     "metadata": {},
     "output_type": "display_data"
    }
   ],
   "source": [
    "dat = dat_region_variant_summary\n",
    "dat = dat %>% dplyr::mutate(IsNa = is.na(Raw_Score))\n",
    "dat = dat %>% dplyr::select(Region, Position, IsNa) %>% dplyr::distinct()\n",
    "dat = dat %>% \n",
    "    dplyr::group_by(Region) %>% \n",
    "    dplyr::summarise(\n",
    "        `Count Position Total`   = n(), \n",
    "        `Count Position Missing` = sum(IsNa),\n",
    "        .groups = \"drop\"\n",
    "    )\n",
    "\n",
    "dat = dat %>%\n",
    "    dplyr::rowwise() %>%\n",
    "    dplyr::mutate(Label = fun_region_label(`Count Position Total`, `Count Position Missing`)) %>%\n",
    "    dplyr::ungroup()\n",
    "\n",
    "print(dim(dat))\n",
    "\n",
    "res = table(dat$Label)\n",
    "print(res)\n",
    "\n",
    "fun_markdown_table(dat)"
   ]
  },
  {
   "cell_type": "code",
   "execution_count": null,
   "id": "eddc3866-7773-4ee7-a1b3-1b8f8a0c3bbc",
   "metadata": {},
   "outputs": [],
   "source": [
    "dat = dat_region_variant_summary\n",
    "dat = dat %>% dplyr::mutate(IsNa = is.na(Raw_Score))\n",
    "dat = dat %>% dplyr::select(Region, Position, IsNa) %>% dplyr::distinct()\n",
    "dat = dat %>% \n",
    "    dplyr::group_by(Region) %>% \n",
    "    dplyr::summarise(\n",
    "        `Count Position Total`   = n(), \n",
    "        `Count Position Missing` = sum(IsNa),\n",
    "        .groups = \"drop\"\n",
    "    )\n",
    "print(dim(dat))\n",
    "fun_markdown_table(dat)"
   ]
  },
  {
   "cell_type": "code",
   "execution_count": null,
   "id": "8697bb8f-55df-4871-afe4-01695365a39f",
   "metadata": {},
   "outputs": [],
   "source": []
  },
  {
   "cell_type": "markdown",
   "id": "be87fd66-f638-4453-b5ee-594c1142c41c",
   "metadata": {},
   "source": [
    "## Explore: Gene target"
   ]
  },
  {
   "cell_type": "code",
   "execution_count": 18,
   "id": "5c076eda-4c68-491b-ad33-5c2fc4738060",
   "metadata": {},
   "outputs": [
    {
     "data": {
      "text/plain": [
       "\n",
       "\n",
       "|Region                   |Gene_Name       |\n",
       "|:------------------------|:---------------|\n",
       "|chr11:5227021-5227208    |HBB             |\n",
       "|chr11:5249804-5250078    |HBG1            |\n",
       "|chr20:44355519-44355804  |HNF4A           |\n",
       "|chr20:44355519-44355804  |R3HDML-AS1      |\n",
       "|chr5:1294988-1295247     |TERT            |\n",
       "|chrX:139530462-139530613 |F9              |\n",
       "|chrX:139530613-139530765 |F9              |\n",
       "|chr2:60494939-60495139   |ENSG00000233953 |\n",
       "|chr2:60495139-60495339   |ENSG00000233953 |\n",
       "|chr2:60495339-60495539   |ENSG00000233953 |\n",
       "|chr8:127400828-127401028 |CCAT2           |\n",
       "|chr8:127401028-127401228 |CCAT2           |\n",
       "|chr8:127401228-127401428 |CCAT2           |\n",
       "|chr9:97853254-97853454   |FOXE1           |\n",
       "|chr9:97853254-97853454   |PTCSC2          |\n",
       "|chr9:97853454-97853654   |FOXE1           |\n",
       "|chr9:97853454-97853654   |PTCSC2          |\n",
       "|chr9:97853654-97853854   |FOXE1           |\n",
       "|chr9:97853654-97853854   |PTCSC2          |\n",
       "|chr22:19723265-19723457  |GP1BB           |\n",
       "|chr22:19723457-19723650  |GP1BB           |\n",
       "|chr19:11089230-11089389  |LDLR            |\n",
       "|chr19:11089389-11089548  |LDLR            |\n",
       "|chr10:46046243-46046538  |MSMB            |\n",
       "|chr10:46046538-46046834  |MSMB            |\n",
       "|chr1:155301394-155301629 |PKLR            |\n",
       "|chr1:155301629-155301864 |PKLR            |"
      ]
     },
     "metadata": {},
     "output_type": "display_data"
    }
   ],
   "source": [
    "dat = dat_region_variant_summary\n",
    "dat = dat %>% dplyr::select(Region, Gene_Name) %>% dplyr::distinct() %>% tidyr::drop_na()\n",
    "fun_markdown_table(dat)"
   ]
  },
  {
   "cell_type": "code",
   "execution_count": 19,
   "id": "f54561c7-f482-42d8-a366-89c7221c6f60",
   "metadata": {},
   "outputs": [
    {
     "name": "stdout",
     "output_type": "stream",
     "text": [
      "[1] 23  2\n"
     ]
    },
    {
     "data": {
      "text/plain": [
       "\n",
       " 1  2 \n",
       "19  4 "
      ]
     },
     "metadata": {},
     "output_type": "display_data"
    }
   ],
   "source": [
    "dat = dat_region_variant_summary\n",
    "dat = dat %>% dplyr::select(Region, Gene_Name) %>% dplyr::distinct() %>% tidyr::drop_na()\n",
    "dat = dat %>% \n",
    "    dplyr::group_by(Region) %>% \n",
    "    dplyr::summarise(Count = n(), .groups = \"drop\")\n",
    "\n",
    "print(dim(dat))\n",
    "table(dat$Count)"
   ]
  },
  {
   "cell_type": "markdown",
   "id": "0ebdd7c0-9c00-4426-acb6-3a1274d5a76a",
   "metadata": {},
   "source": [
    "## Explore: Score distribution"
   ]
  },
  {
   "cell_type": "code",
   "execution_count": 44,
   "id": "8d4f3784-125d-4fc4-a1d9-0e0b2e1855ea",
   "metadata": {},
   "outputs": [
    {
     "name": "stdout",
     "output_type": "stream",
     "text": [
      "[1] 17253    10\n"
     ]
    }
   ],
   "source": [
    "dat = dat_region_variant_summary\n",
    "dat = dat %>% tidyr::drop_na()\n",
    "dat = dat %>% dplyr::filter(Ref != Alt)\n",
    "print(dim(dat))"
   ]
  },
  {
   "cell_type": "code",
   "execution_count": 9,
   "id": "2986b087-9bbf-4671-bfe1-ab37933c2fd3",
   "metadata": {},
   "outputs": [
    {
     "data": {
      "image/png": "[encoded data removed]",
      "text/plain": [
       "plot without title"
      ]
     },
     "metadata": {
      "image/png": {
       "height": 240,
       "width": 420
      }
     },
     "output_type": "display_data"
    }
   ],
   "source": [
    "dat = dat_region_variant_summary\n",
    "dat = dat %>% tidyr::drop_na()\n",
    "dat = dat %>% dplyr::filter(Ref != Alt)\n",
    "\n",
    "gpt = ggplot(dat, aes(x=Raw_Score)) +\n",
    "    geom_histogram(bins = 70) +\n",
    "    theme_cowplot() +\n",
    "    background_grid()\n",
    "\n",
    "options(repr.plot.height=4, repr.plot.width=7)\n",
    "print(gpt)"
   ]
  },
  {
   "cell_type": "code",
   "execution_count": 10,
   "id": "dc13f20e-9d2f-4a0f-9f5c-9cdd56dc8e78",
   "metadata": {},
   "outputs": [
    {
     "data": {
      "image/png": "[encoded data removed]",
      "text/plain": [
       "plot without title"
      ]
     },
     "metadata": {
      "image/png": {
       "height": 240,
       "width": 420
      }
     },
     "output_type": "display_data"
    }
   ],
   "source": [
    "dat = dat_region_variant_summary\n",
    "dat = dat %>% tidyr::drop_na()\n",
    "dat = dat %>% dplyr::filter(Ref != Alt)\n",
    "\n",
    "gpt = ggplot(dat, aes(x=Quantile_Score)) +\n",
    "    geom_histogram(bins = 70) +\n",
    "    theme_cowplot() +\n",
    "    background_grid()\n",
    "\n",
    "options(repr.plot.height=4, repr.plot.width=7)\n",
    "print(gpt)"
   ]
  },
  {
   "cell_type": "code",
   "execution_count": null,
   "id": "be33e131-36d9-48c9-8e31-4d600d612840",
   "metadata": {},
   "outputs": [],
   "source": []
  }
 ],
 "metadata": {
  "kernelspec": {
   "display_name": "R",
   "language": "R",
   "name": "ir"
  },
  "language_info": {
   "codemirror_mode": "r",
   "file_extension": ".r",
   "mimetype": "text/x-r-source",
   "name": "R",
   "pygments_lexer": "r",
   "version": "4.5.1"
  }
 },
 "nbformat": 4,
 "nbformat_minor": 5
}
