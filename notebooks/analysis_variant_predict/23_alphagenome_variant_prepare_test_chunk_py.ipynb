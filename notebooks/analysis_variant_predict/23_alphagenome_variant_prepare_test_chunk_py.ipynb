{
 "cells": [
  {
   "cell_type": "raw",
   "id": "0e2359f9-4ad5-486c-b67c-905a3ecc5ed5",
   "metadata": {},
   "source": [
    "---\n",
    "title: Test Alphagenome\n",
    "subtitle: Test to run alphagenome on a variant\n",
    "format:\n",
    "    html:\n",
    "        code-fold:  true\n",
    "        code-tools: true\n",
    "---"
   ]
  },
  {
   "cell_type": "markdown",
   "id": "54f20573-e81c-4f05-b659-4c2504aea094",
   "metadata": {},
   "source": [
    "**Set environment**"
   ]
  },
  {
   "cell_type": "code",
   "execution_count": 1,
   "id": "683e7ebf-da35-4a89-9a48-7bef5e124498",
   "metadata": {},
   "outputs": [],
   "source": [
    "import numpy  as np\n",
    "import pandas as pd\n",
    "import itertools as it\n",
    "import os, re\n",
    "import csv"
   ]
  },
  {
   "cell_type": "code",
   "execution_count": 2,
   "id": "58b94d10-166a-463c-9b1f-6e019d6366bb",
   "metadata": {},
   "outputs": [
    {
     "name": "stdout",
     "output_type": "stream",
     "text": [
      "BASE DIRECTORY (FD_BASE): /hpc/group/igvf/kk319\n",
      "REPO DIRECTORY (FD_REPO): /hpc/group/igvf/kk319/repo\n",
      "WORK DIRECTORY (FD_WORK): /hpc/group/igvf/kk319/work\n",
      "DATA DIRECTORY (FD_DATA): /hpc/group/igvf/kk319/data\n",
      "\n",
      "\n",
      "You are working with      IGVF BlueSTARR\n",
      "PATH OF PROJECT (FD_PRJ): /hpc/group/igvf/kk319/repo/Proj_IGVF_BlueSTARR\n",
      "PROJECT RESULTS (FD_RES): /hpc/group/igvf/kk319/repo/Proj_IGVF_BlueSTARR/results\n",
      "PROJECT SCRIPTS (FD_EXE): /hpc/group/igvf/kk319/repo/Proj_IGVF_BlueSTARR/scripts\n",
      "PROJECT DATA    (FD_DAT): /hpc/group/igvf/kk319/repo/Proj_IGVF_BlueSTARR/data\n",
      "PROJECT NOTE    (FD_NBK): /hpc/group/igvf/kk319/repo/Proj_IGVF_BlueSTARR/notebooks\n",
      "PROJECT DOCS    (FD_DOC): /hpc/group/igvf/kk319/repo/Proj_IGVF_BlueSTARR/docs\n",
      "PROJECT LOG     (FD_LOG): /hpc/group/igvf/kk319/repo/Proj_IGVF_BlueSTARR/log\n",
      "PROJECT REF     (FD_REF): /hpc/group/igvf/kk319/repo/Proj_IGVF_BlueSTARR/references\n",
      "\n"
     ]
    }
   ],
   "source": [
    "%run ../run_config_project.py\n",
    "show_env()"
   ]
  },
  {
   "cell_type": "markdown",
   "id": "7edcb930-b5a1-4674-9b48-93ab27a7fd4c",
   "metadata": {},
   "source": [
    "## Import one line"
   ]
  },
  {
   "cell_type": "code",
   "execution_count": 3,
   "id": "bab082d5-48f1-4ddc-a521-c64366a1980f",
   "metadata": {},
   "outputs": [
    {
     "data": {
      "text/plain": [
       "['Kircher_region_chunk.txt']"
      ]
     },
     "execution_count": 3,
     "metadata": {},
     "output_type": "execute_result"
    }
   ],
   "source": [
    "#txt_fdiry = \"/hpc/group/igvf/kk319/repo/Proj_IGVF_BlueSTARR/shared/igvf_bluestarr_revathy\"\n",
    "#txt_fdiry = os.path.join(FD_PRJ, \"shared\", \"igvf_bluestarr_revathy\")\n",
    "txt_fdiry = os.path.join(FD_DAT, \"kircher2019\")\n",
    "os.listdir(txt_fdiry)"
   ]
  },
  {
   "cell_type": "code",
   "execution_count": 4,
   "id": "3e566ac9-4c4e-4785-bfff-84ab12fe3181",
   "metadata": {},
   "outputs": [],
   "source": [
    "txt_fdiry = os.path.join(FD_DAT, \"kircher2019\")\n",
    "txt_fname = \"Kircher_region_chunk.txt\"\n",
    "txt_fpath = os.path.join(txt_fdiry, txt_fname)\n",
    "\n",
    "with open(txt_fpath, \"r\") as file:\n",
    "    line = next(file)"
   ]
  },
  {
   "cell_type": "code",
   "execution_count": 5,
   "id": "2d344ff0-adf4-435c-b66a-426cfeab8108",
   "metadata": {},
   "outputs": [
    {
     "data": {
      "text/plain": [
       "'chr11:5227021-5227208\\t5227021:ref=G:G,C,A,T\\t5227022:ref=G:G,C,A,T\\t5227023:ref=T:G,C,A,T\\t5227024:ref=G:G,C,A,T\\t5227025:ref=T:G,C,A,T\\t5227026:ref=C:G,C,A,T\\t5227027:ref=T:G,C,A,T\\t5227028:ref=G:G,C,A,T\\t5227029:ref=T:G,C,A,T\\t5227030:ref=T:G,C,A,T\\t5227031:ref=T:G,C,A,T\\t5227032:ref=G:G,C,A,T\\t5227033:ref=A:G,C,A,T\\t5227034:ref=G:G,C,A,T\\t5227035:ref=G:G,C,A,T\\t5227036:ref=T:G,C,A,T\\t5227037:ref=T:G,C,A,T\\t5227038:ref=G:G,C,A,T\\t5227039:ref=C:G,C,A,T\\t5227040:ref=T:G,C,A,T\\t5227041:ref=A:G,C,A,T\\t5227042:ref=G:G,C,A,T\\t5227043:ref=T:G,C,A,T\\t5227044:ref=G:G,C,A,T\\t5227045:ref=A:G,C,A,T\\t5227046:ref=A:G,C,A,T\\t5227047:ref=C:G,C,A,T\\t5227048:ref=A:G,C,A,T\\t5227049:ref=C:G,C,A,T\\t5227050:ref=A:G,C,A,T\\t5227051:ref=G:G,C,A,T\\t5227052:ref=T:G,C,A,T\\t5227053:ref=T:G,C,A,T\\t5227054:ref=G:G,C,A,T\\t5227055:ref=T:G,C,A,T\\t5227056:ref=G:G,C,A,T\\t5227057:ref=T:G,C,A,T\\t5227058:ref=C:G,C,A,T\\t5227059:ref=A:G,C,A,T\\t5227060:ref=G:G,C,A,T\\t5227061:ref=A:G,C,A,T\\t5227062:ref=A:G,C,A,T\\t5227063:ref=G:G,C,A,T\\t5227064:ref=C:G,C,A,T\\t5227065:ref=A:G,C,A,T\\t5227066:ref=A:G,C,A,T\\t5227067:ref=A:G,C,A,T\\t5227068:ref=T:G,C,A,T\\t5227069:ref=G:G,C,A,T\\t5227070:ref=T:G,C,A,T\\t5227071:ref=A:G,C,A,T\\t5227072:ref=A:G,C,A,T\\t5227073:ref=G:G,C,A,T\\t5227074:ref=C:G,C,A,T\\t5227075:ref=A:G,C,A,T\\t5227076:ref=A:G,C,A,T\\t5227077:ref=T:G,C,A,T\\t5227078:ref=A:G,C,A,T\\t5227079:ref=G:G,C,A,T\\t5227080:ref=A:G,C,A,T\\t5227081:ref=T:G,C,A,T\\t5227082:ref=G:G,C,A,T\\t5227083:ref=G:G,C,A,T\\t5227084:ref=C:G,C,A,T\\t5227085:ref=T:G,C,A,T\\t5227086:ref=C:G,C,A,T\\t5227087:ref=T:G,C,A,T\\t5227088:ref=G:G,C,A,T\\t5227089:ref=C:G,C,A,T\\t5227090:ref=C:G,C,A,T\\t5227091:ref=C:G,C,A,T\\t5227092:ref=T:G,C,A,T\\t5227093:ref=G:G,C,A,T\\t5227094:ref=A:G,C,A,T\\t5227095:ref=C:G,C,A,T\\t5227096:ref=T:G,C,A,T\\t5227097:ref=T:G,C,A,T\\t5227098:ref=T:G,C,A,T\\t5227099:ref=T:G,C,A,T\\t5227100:ref=A:G,C,A,T\\t5227101:ref=T:G,C,A,T\\t5227102:ref=G:G,C,A,T\\t5227103:ref=C:G,C,A,T\\t5227104:ref=C:G,C,A,T\\t5227105:ref=C:G,C,A,T\\t5227106:ref=A:G,C,A,T\\t5227107:ref=G:G,C,A,T\\t5227108:ref=C:G,C,A,T\\t5227109:ref=C:G,C,A,T\\t5227110:ref=C:G,C,A,T\\t5227111:ref=T:G,C,A,T\\t5227112:ref=G:G,C,A,T\\t5227113:ref=G:G,C,A,T\\t5227114:ref=C:G,C,A,T\\t5227115:ref=T:G,C,A,T\\t5227116:ref=C:G,C,A,T\\t5227117:ref=C:G,C,A,T\\t5227118:ref=T:G,C,A,T\\t5227119:ref=G:G,C,A,T\\t5227120:ref=C:G,C,A,T\\t5227121:ref=C:G,C,A,T\\t5227122:ref=C:G,C,A,T\\t5227123:ref=T:G,C,A,T\\t5227124:ref=C:G,C,A,T\\t5227125:ref=C:G,C,A,T\\t5227126:ref=C:G,C,A,T\\t5227127:ref=T:G,C,A,T\\t5227128:ref=G:G,C,A,T\\t5227129:ref=C:G,C,A,T\\t5227130:ref=T:G,C,A,T\\t5227131:ref=C:G,C,A,T\\t5227132:ref=C:G,C,A,T\\t5227133:ref=T:G,C,A,T\\t5227134:ref=G:G,C,A,T\\t5227135:ref=G:G,C,A,T\\t5227136:ref=G:G,C,A,T\\t5227137:ref=A:G,C,A,T\\t5227138:ref=G:G,C,A,T\\t5227139:ref=T:G,C,A,T\\t5227140:ref=A:G,C,A,T\\t5227141:ref=G:G,C,A,T\\t5227142:ref=A:G,C,A,T\\t5227143:ref=T:G,C,A,T\\t5227144:ref=T:G,C,A,T\\t5227145:ref=G:G,C,A,T\\t5227146:ref=G:G,C,A,T\\t5227147:ref=C:G,C,A,T\\t5227148:ref=C:G,C,A,T\\t5227149:ref=A:G,C,A,T\\t5227150:ref=A:G,C,A,T\\t5227151:ref=C:G,C,A,T\\t5227152:ref=C:G,C,A,T\\t5227153:ref=C:G,C,A,T\\t5227154:ref=T:G,C,A,T\\t5227155:ref=A:G,C,A,T\\t5227156:ref=G:G,C,A,T\\t5227157:ref=G:G,C,A,T\\t5227158:ref=G:G,C,A,T\\t5227159:ref=T:G,C,A,T\\t5227160:ref=G:G,C,A,T\\t5227161:ref=T:G,C,A,T\\t5227162:ref=G:G,C,A,T\\t5227163:ref=G:G,C,A,T\\t5227164:ref=C:G,C,A,T\\t5227165:ref=T:G,C,A,T\\t5227166:ref=C:G,C,A,T\\t5227167:ref=C:G,C,A,T\\t5227168:ref=A:G,C,A,T\\t5227169:ref=C:G,C,A,T\\t5227170:ref=A:G,C,A,T\\t5227171:ref=G:G,C,A,T\\t5227172:ref=G:G,C,A,T\\t5227173:ref=G:G,C,A,T\\t5227174:ref=T:G,C,A,T\\t5227175:ref=G:G,C,A,T\\t5227176:ref=A:G,C,A,T\\t5227177:ref=G:G,C,A,T\\t5227178:ref=G:G,C,A,T\\t5227179:ref=T:G,C,A,T\\t5227180:ref=C:G,C,A,T\\t5227181:ref=T:G,C,A,T\\t5227182:ref=A:G,C,A,T\\t5227183:ref=A:G,C,A,T\\t5227184:ref=G:G,C,A,T\\t5227185:ref=T:G,C,A,T\\t5227186:ref=G:G,C,A,T\\t5227187:ref=A:G,C,A,T\\t5227188:ref=T:G,C,A,T\\t5227189:ref=G:G,C,A,T\\t5227190:ref=A:G,C,A,T\\t5227191:ref=C:G,C,A,T\\t5227192:ref=A:G,C,A,T\\t5227193:ref=G:G,C,A,T\\t5227194:ref=C:G,C,A,T\\t5227195:ref=C:G,C,A,T\\t5227196:ref=G:G,C,A,T\\t5227197:ref=T:G,C,A,T\\t5227198:ref=A:G,C,A,T\\t5227199:ref=C:G,C,A,T\\t5227200:ref=C:G,C,A,T\\t5227201:ref=T:G,C,A,T\\t5227202:ref=G:G,C,A,T\\t5227203:ref=T:G,C,A,T\\t5227204:ref=C:G,C,A,T\\t5227205:ref=C:G,C,A,T\\t5227206:ref=T:G,C,A,T\\t5227207:ref=T:G,C,A,T\\t\\n'"
      ]
     },
     "execution_count": 5,
     "metadata": {},
     "output_type": "execute_result"
    }
   ],
   "source": [
    "line"
   ]
  },
  {
   "cell_type": "markdown",
   "id": "dad7ca37-701d-4f6d-867c-31f7df50461b",
   "metadata": {},
   "source": [
    "## Helper function"
   ]
  },
  {
   "cell_type": "code",
   "execution_count": 6,
   "id": "a5d77c23-9a5f-42dd-abbd-83bbed7a3d53",
   "metadata": {},
   "outputs": [],
   "source": [
    "def gen_parse_variant_line(txt_line: str):\n",
    "    \"\"\"parse a line of Kircher chunk file, get region, parse variants and yield\"\"\"\n",
    "    ### parse each line\n",
    "    lst_txt_parsed = txt_line.rstrip(\"\\n\").split(\"\\t\")\n",
    "    parse_variant  = re.compile(r\"^(\\d+):ref=([ACGTN]+):([ACGTN](?:,[ACGTN])*)$\")\n",
    "    \n",
    "    ### get region\n",
    "    txt_region = lst_txt_parsed[0]  # e.g., \"chr11:5227021-5227208\"\n",
    "\n",
    "    ### parse variants at each location\n",
    "    for txt in lst_txt_parsed[1:]:\n",
    "        ### parse variant\n",
    "        txt_variant = parse_variant.match(txt)\n",
    "        if not txt_variant:\n",
    "            continue\n",
    "            \n",
    "        ### get position and ref/alt base\n",
    "        num_pos          = int(txt_variant.group(1))\n",
    "        txt_base_ref     = txt_variant.group(2)\n",
    "        vec_txt_base_alt = txt_variant.group(3).split(\",\")  # includes REF again in your file\n",
    "        \n",
    "        for txt_base_alt in vec_txt_base_alt:\n",
    "            yield (txt_region, num_pos, txt_base_ref, txt_base_alt)\n",
    "\n",
    "def gen_parse_variant_file(txt_path: str):\n",
    "    \"\"\"get Kircher chunk file, parse each line, and yield each variant\"\"\"\n",
    "    with open(txt_path) as file:\n",
    "        for txt_line in file:\n",
    "            yield from gen_parse_variant_line(txt_line)"
   ]
  },
  {
   "cell_type": "markdown",
   "id": "3403bbae-5dc5-4b72-9d0d-3a2d4be10b09",
   "metadata": {},
   "source": [
    "## Test simple line"
   ]
  },
  {
   "cell_type": "code",
   "execution_count": 7,
   "id": "93b99141-afee-4b4e-8921-71e8c51a9e21",
   "metadata": {},
   "outputs": [
    {
     "name": "stdout",
     "output_type": "stream",
     "text": [
      "('chr11:5227021-5227208', 5227021, 'G', 'G')\n",
      "('chr11:5227021-5227208', 5227021, 'G', 'C')\n",
      "('chr11:5227021-5227208', 5227021, 'G', 'A')\n",
      "('chr11:5227021-5227208', 5227021, 'G', 'T')\n",
      "('chr11:5227021-5227208', 5227022, 'G', 'G')\n",
      "('chr11:5227021-5227208', 5227022, 'G', 'C')\n",
      "('chr11:5227021-5227208', 5227022, 'G', 'A')\n",
      "('chr11:5227021-5227208', 5227022, 'G', 'T')\n",
      "('chr11:5227021-5227208', 5227023, 'T', 'G')\n",
      "('chr11:5227021-5227208', 5227023, 'T', 'C')\n"
     ]
    }
   ],
   "source": [
    "gen = gen_parse_variant_line(line)\n",
    "for row in it.islice(gen, 10):\n",
    "    print(row)"
   ]
  },
  {
   "cell_type": "markdown",
   "id": "68f2e38c-fb57-4602-8d92-9e2e434d0f37",
   "metadata": {},
   "source": [
    "## Test whole file"
   ]
  },
  {
   "cell_type": "code",
   "execution_count": 8,
   "id": "01841f57-27ca-4098-bb6a-f09aefcf0339",
   "metadata": {},
   "outputs": [
    {
     "name": "stdout",
     "output_type": "stream",
     "text": [
      "('chr11:5227021-5227208', 5227021, 'G', 'G')\n",
      "('chr11:5227021-5227208', 5227021, 'G', 'C')\n",
      "('chr11:5227021-5227208', 5227021, 'G', 'A')\n",
      "('chr11:5227021-5227208', 5227021, 'G', 'T')\n",
      "('chr11:5227021-5227208', 5227022, 'G', 'G')\n",
      "('chr11:5227021-5227208', 5227022, 'G', 'C')\n",
      "('chr11:5227021-5227208', 5227022, 'G', 'A')\n",
      "('chr11:5227021-5227208', 5227022, 'G', 'T')\n",
      "('chr11:5227021-5227208', 5227023, 'T', 'G')\n",
      "('chr11:5227021-5227208', 5227023, 'T', 'C')\n"
     ]
    }
   ],
   "source": [
    "txt_fdiry = os.path.join(FD_DAT, \"kircher2019\")\n",
    "txt_fname = \"Kircher_region_chunk.txt\"\n",
    "txt_fpath = os.path.join(txt_fdiry, txt_fname)\n",
    "\n",
    "gen = gen_parse_variant_file(txt_fpath)\n",
    "gen = it.islice(gen, 10)\n",
    "for row in gen:\n",
    "    print(row)"
   ]
  },
  {
   "cell_type": "markdown",
   "id": "7a242c56-9698-4e22-a97c-322fb20c06a5",
   "metadata": {},
   "source": [
    "**Total number of variants**"
   ]
  },
  {
   "cell_type": "code",
   "execution_count": 11,
   "id": "9149ebb9-36fe-4c63-b01e-e3f102fa3150",
   "metadata": {},
   "outputs": [
    {
     "name": "stdout",
     "output_type": "stream",
     "text": [
      "39376\n"
     ]
    }
   ],
   "source": [
    "txt_fdiry = os.path.join(FD_DAT, \"kircher2019\")\n",
    "txt_fname = \"Kircher_region_chunk.txt\"\n",
    "txt_fpath = os.path.join(txt_fdiry, txt_fname)\n",
    "\n",
    "gen = gen_parse_variant_file(txt_fpath)\n",
    "num = sum(1 for _ in gen)\n",
    "print(num)"
   ]
  },
  {
   "cell_type": "markdown",
   "id": "e144c10b-76c3-410f-838c-b208555e6b65",
   "metadata": {},
   "source": [
    "**Total number of positions**"
   ]
  },
  {
   "cell_type": "code",
   "execution_count": 14,
   "id": "5e7495b3-5596-40c8-ab8d-56b95d9e25fa",
   "metadata": {},
   "outputs": [
    {
     "data": {
      "text/plain": [
       "9844.0"
      ]
     },
     "execution_count": 14,
     "metadata": {},
     "output_type": "execute_result"
    }
   ],
   "source": [
    "num / 4"
   ]
  },
  {
   "cell_type": "markdown",
   "id": "f932e084-9bb4-4d51-ad77-2f0f86ae0d51",
   "metadata": {},
   "source": [
    "## Export test chunk"
   ]
  },
  {
   "cell_type": "code",
   "execution_count": 9,
   "id": "bf90aeb5-5bf4-4044-85fa-d179c7d21546",
   "metadata": {},
   "outputs": [],
   "source": [
    "### get a chunk with 100 variants\n",
    "txt_fdiry = os.path.join(FD_DAT, \"kircher2019\")\n",
    "txt_fname = \"Kircher_region_chunk.txt\"\n",
    "txt_fpath = os.path.join(txt_fdiry, txt_fname)\n",
    "\n",
    "gen = gen_parse_variant_file(txt_fpath)\n",
    "gen = it.islice(gen, 100)\n",
    "\n",
    "### export\n",
    "txt_fdiry = os.path.join(FD_RES, \"predict_variant_kircher2019\")\n",
    "txt_fname = \"variant.test.chunk_100.tsv\"\n",
    "txt_fpath = os.path.join(txt_fdiry, txt_fname)\n",
    "\n",
    "with open(txt_fpath, \"w\", newline=\"\") as fout:\n",
    "    writer = csv.writer(fout, delimiter=\"\\t\")\n",
    "    \n",
    "    for row in gen:\n",
    "        writer.writerow(row)"
   ]
  },
  {
   "cell_type": "code",
   "execution_count": 10,
   "id": "8189d0d8-242d-499c-a8dc-155eb9cf001a",
   "metadata": {},
   "outputs": [],
   "source": [
    "### get a chunk with 1000 variants\n",
    "txt_fdiry = os.path.join(FD_DAT, \"kircher2019\")\n",
    "txt_fname = \"Kircher_region_chunk.txt\"\n",
    "txt_fpath = os.path.join(txt_fdiry, txt_fname)\n",
    "\n",
    "gen = gen_parse_variant_file(txt_fpath)\n",
    "gen = it.islice(gen, 1000)\n",
    "\n",
    "### export\n",
    "txt_fdiry = os.path.join(FD_RES, \"predict_variant_kircher2019\")\n",
    "txt_fname = \"variant.test.chunk_1000.tsv\"\n",
    "txt_fpath = os.path.join(txt_fdiry, txt_fname)\n",
    "\n",
    "with open(txt_fpath, \"w\", newline=\"\") as fout:\n",
    "    writer = csv.writer(fout, delimiter=\"\\t\")\n",
    "    \n",
    "    for row in gen:\n",
    "        writer.writerow(row)"
   ]
  },
  {
   "cell_type": "code",
   "execution_count": null,
   "id": "f8caa514-3836-4a1e-b419-7814de55a135",
   "metadata": {},
   "outputs": [],
   "source": []
  },
  {
   "cell_type": "code",
   "execution_count": null,
   "id": "b21421dd-46dc-4350-b4e9-4eb260a8f8f0",
   "metadata": {},
   "outputs": [],
   "source": []
  }
 ],
 "metadata": {
  "kernelspec": {
   "display_name": "Python 3 (ipykernel)",
   "language": "python",
   "name": "python3"
  },
  "language_info": {
   "codemirror_mode": {
    "name": "ipython",
    "version": 3
   },
   "file_extension": ".py",
   "mimetype": "text/x-python",
   "name": "python",
   "nbconvert_exporter": "python",
   "pygments_lexer": "ipython3",
   "version": "3.11.6"
  }
 },
 "nbformat": 4,
 "nbformat_minor": 5
}
