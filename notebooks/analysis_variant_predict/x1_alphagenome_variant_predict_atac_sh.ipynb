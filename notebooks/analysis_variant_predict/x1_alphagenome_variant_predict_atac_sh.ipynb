{
 "cells": [
  {
   "cell_type": "raw",
   "id": "632fb7d3-4392-4906-83a3-4f70e742cc84",
   "metadata": {},
   "source": [
    "---\n",
    "title: Test alphagenome variant prediction\n",
    "subtitle: test runtime\n",
    "format:\n",
    "    html:\n",
    "        code-fold:  true\n",
    "        code-tools: true\n",
    "---"
   ]
  },
  {
   "cell_type": "markdown",
   "id": "0cd121ec-a10f-404f-92f2-1365b70626a3",
   "metadata": {},
   "source": [
    "**Set environment**"
   ]
  },
  {
   "cell_type": "code",
   "execution_count": 1,
   "id": "ee4385ea-683b-41fd-a6e3-92c715b6b9fd",
   "metadata": {},
   "outputs": [
    {
     "name": "stdout",
     "output_type": "stream",
     "text": [
      "BASE DIRECTORY (FD_BASE):      /hpc/group/igvf/kk319\n",
      "REPO DIRECTORY (FD_REPO):      /hpc/group/igvf/kk319/repo\n",
      "WORK DIRECTORY (FD_WORK):      /hpc/group/igvf/kk319/work\n",
      "DATA DIRECTORY (FD_DATA):      /hpc/group/igvf/kk319/data\n",
      "CONTAINER DIR. (FD_SING):      /hpc/group/igvf/kk319/container\n",
      "\n",
      "You are working with           \n",
      "PATH OF PROJECT (FD_PRJ):      /hpc/group/igvf/kk319/repo/Proj_IGVF_BlueSTARR\n",
      "PROJECT RESULTS (FD_RES):      /hpc/group/igvf/kk319/repo/Proj_IGVF_BlueSTARR/results\n",
      "PROJECT SCRIPTS (FD_EXE):      /hpc/group/igvf/kk319/repo/Proj_IGVF_BlueSTARR/scripts\n",
      "PROJECT DATA    (FD_DAT):      /hpc/group/igvf/kk319/repo/Proj_IGVF_BlueSTARR/data\n",
      "PROJECT NOTE    (FD_NBK):      /hpc/group/igvf/kk319/repo/Proj_IGVF_BlueSTARR/notebooks\n",
      "PROJECT DOCS    (FD_DOC):      /hpc/group/igvf/kk319/repo/Proj_IGVF_BlueSTARR/docs\n",
      "PROJECT LOG     (FD_LOG):      /hpc/group/igvf/kk319/repo/Proj_IGVF_BlueSTARR/log\n",
      "PROJECT REF     (FD_REF):      /hpc/group/igvf/kk319/repo/Proj_IGVF_BlueSTARR/references\n",
      "PROJECT IMAGE   (FP_PRJ_SIF):  /hpc/group/igvf/kk319/container/project/singularity_proj_igvf_bluestarr.sif\n",
      "PROJECT CONF.   (FP_CNF):      /hpc/group/igvf/kk319/repo/Proj_IGVF_BlueSTARR/scripts/config_project.sh\n",
      "\n"
     ]
    }
   ],
   "source": [
    "source ../run_config_project.sh\n",
    "show_env"
   ]
  },
  {
   "cell_type": "markdown",
   "id": "65f50d46-175e-48fd-976e-798b460b1b61",
   "metadata": {},
   "source": [
    "## Prepare"
   ]
  },
  {
   "cell_type": "code",
   "execution_count": 5,
   "id": "12a795fa-ca4e-443f-b304-52342d72e135",
   "metadata": {},
   "outputs": [
    {
     "name": "stdout",
     "output_type": "stream",
     "text": [
      "/hpc/group/igvf/kk319/repo/Proj_IGVF_BlueSTARR/results/predict_variant_kircher2019/variant.chunk.01.tsv\n",
      "/hpc/group/igvf/kk319/repo/Proj_IGVF_BlueSTARR/results/predict_variant_kircher2019/variant.chunk.02.tsv\n",
      "/hpc/group/igvf/kk319/repo/Proj_IGVF_BlueSTARR/results/predict_variant_kircher2019/variant.chunk.03.tsv\n",
      "/hpc/group/igvf/kk319/repo/Proj_IGVF_BlueSTARR/results/predict_variant_kircher2019/variant.chunk.04.tsv\n",
      "/hpc/group/igvf/kk319/repo/Proj_IGVF_BlueSTARR/results/predict_variant_kircher2019/variant.chunk.05.tsv\n",
      "/hpc/group/igvf/kk319/repo/Proj_IGVF_BlueSTARR/results/predict_variant_kircher2019/variant.chunk.06.tsv\n",
      "/hpc/group/igvf/kk319/repo/Proj_IGVF_BlueSTARR/results/predict_variant_kircher2019/variant.chunk.07.tsv\n",
      "/hpc/group/igvf/kk319/repo/Proj_IGVF_BlueSTARR/results/predict_variant_kircher2019/variant.chunk.08.tsv\n",
      "/hpc/group/igvf/kk319/repo/Proj_IGVF_BlueSTARR/results/predict_variant_kircher2019/variant.chunk.09.tsv\n",
      "/hpc/group/igvf/kk319/repo/Proj_IGVF_BlueSTARR/results/predict_variant_kircher2019/variant.chunk.10.tsv\n",
      "/hpc/group/igvf/kk319/repo/Proj_IGVF_BlueSTARR/results/predict_variant_kircher2019/variant.chunk.11.tsv\n",
      "/hpc/group/igvf/kk319/repo/Proj_IGVF_BlueSTARR/results/predict_variant_kircher2019/variant.chunk.12.tsv\n",
      "/hpc/group/igvf/kk319/repo/Proj_IGVF_BlueSTARR/results/predict_variant_kircher2019/variant.chunk.13.tsv\n",
      "/hpc/group/igvf/kk319/repo/Proj_IGVF_BlueSTARR/results/predict_variant_kircher2019/variant.chunk.14.tsv\n",
      "/hpc/group/igvf/kk319/repo/Proj_IGVF_BlueSTARR/results/predict_variant_kircher2019/variant.chunk.15.tsv\n",
      "/hpc/group/igvf/kk319/repo/Proj_IGVF_BlueSTARR/results/predict_variant_kircher2019/variant.chunk.16.tsv\n",
      "/hpc/group/igvf/kk319/repo/Proj_IGVF_BlueSTARR/results/predict_variant_kircher2019/variant.chunk.17.tsv\n",
      "/hpc/group/igvf/kk319/repo/Proj_IGVF_BlueSTARR/results/predict_variant_kircher2019/variant.chunk.18.tsv\n",
      "/hpc/group/igvf/kk319/repo/Proj_IGVF_BlueSTARR/results/predict_variant_kircher2019/variant.chunk.19.tsv\n",
      "/hpc/group/igvf/kk319/repo/Proj_IGVF_BlueSTARR/results/predict_variant_kircher2019/variant.chunk.20.tsv\n",
      "/hpc/group/igvf/kk319/repo/Proj_IGVF_BlueSTARR/results/predict_variant_kircher2019/variant.chunk.21.tsv\n",
      "/hpc/group/igvf/kk319/repo/Proj_IGVF_BlueSTARR/results/predict_variant_kircher2019/variant.chunk.22.tsv\n",
      "/hpc/group/igvf/kk319/repo/Proj_IGVF_BlueSTARR/results/predict_variant_kircher2019/variant.chunk.23.tsv\n",
      "/hpc/group/igvf/kk319/repo/Proj_IGVF_BlueSTARR/results/predict_variant_kircher2019/variant.chunk.24.tsv\n",
      "/hpc/group/igvf/kk319/repo/Proj_IGVF_BlueSTARR/results/predict_variant_kircher2019/variant.chunk.25.tsv\n",
      "/hpc/group/igvf/kk319/repo/Proj_IGVF_BlueSTARR/results/predict_variant_kircher2019/variant.chunk.26.tsv\n",
      "/hpc/group/igvf/kk319/repo/Proj_IGVF_BlueSTARR/results/predict_variant_kircher2019/variant.chunk.27.tsv\n",
      "/hpc/group/igvf/kk319/repo/Proj_IGVF_BlueSTARR/results/predict_variant_kircher2019/variant.chunk.28.tsv\n",
      "/hpc/group/igvf/kk319/repo/Proj_IGVF_BlueSTARR/results/predict_variant_kircher2019/variant.chunk.29.tsv\n",
      "/hpc/group/igvf/kk319/repo/Proj_IGVF_BlueSTARR/results/predict_variant_kircher2019/variant.chunk.30.tsv\n",
      "/hpc/group/igvf/kk319/repo/Proj_IGVF_BlueSTARR/results/predict_variant_kircher2019/variant.chunk.31.tsv\n",
      "/hpc/group/igvf/kk319/repo/Proj_IGVF_BlueSTARR/results/predict_variant_kircher2019/variant.chunk.32.tsv\n",
      "/hpc/group/igvf/kk319/repo/Proj_IGVF_BlueSTARR/results/predict_variant_kircher2019/variant.chunk.33.tsv\n",
      "/hpc/group/igvf/kk319/repo/Proj_IGVF_BlueSTARR/results/predict_variant_kircher2019/variant.chunk.34.tsv\n",
      "/hpc/group/igvf/kk319/repo/Proj_IGVF_BlueSTARR/results/predict_variant_kircher2019/variant.chunk.35.tsv\n",
      "/hpc/group/igvf/kk319/repo/Proj_IGVF_BlueSTARR/results/predict_variant_kircher2019/variant.chunk.36.tsv\n",
      "/hpc/group/igvf/kk319/repo/Proj_IGVF_BlueSTARR/results/predict_variant_kircher2019/variant.chunk.37.tsv\n",
      "/hpc/group/igvf/kk319/repo/Proj_IGVF_BlueSTARR/results/predict_variant_kircher2019/variant.chunk.38.tsv\n",
      "/hpc/group/igvf/kk319/repo/Proj_IGVF_BlueSTARR/results/predict_variant_kircher2019/variant.chunk.39.tsv\n",
      "/hpc/group/igvf/kk319/repo/Proj_IGVF_BlueSTARR/results/predict_variant_kircher2019/variant.chunk.40.tsv\n"
     ]
    }
   ],
   "source": [
    "#ls ${FD_RES}/predict_variant_kircher201\n",
    "FD_INP=${FD_RES}/predict_variant_kircher2019\n",
    "ls ${FD_INP}/variant.chunk.*.tsv"
   ]
  },
  {
   "cell_type": "markdown",
   "id": "03786592-e157-47e3-bb38-e9400338050c",
   "metadata": {},
   "source": [
    "## Test loop"
   ]
  },
  {
   "cell_type": "code",
   "execution_count": 10,
   "id": "a0f10a58-f957-4c2b-978c-8584d16db252",
   "metadata": {},
   "outputs": [
    {
     "name": "stdout",
     "output_type": "stream",
     "text": [
      "result.alphagenome.K562.ATAC.2KB.variant.chunk..tsv\n",
      "run_alphagenome.K562.ATAC.2KB.variant.chunk.01.out\n",
      "result.alphagenome.K562.ATAC.2KB.variant.chunk..tsv\n",
      "run_alphagenome.K562.ATAC.2KB.variant.chunk.02.out\n",
      "result.alphagenome.K562.ATAC.2KB.variant.chunk..tsv\n",
      "run_alphagenome.K562.ATAC.2KB.variant.chunk.03.out\n",
      "result.alphagenome.K562.ATAC.2KB.variant.chunk..tsv\n",
      "run_alphagenome.K562.ATAC.2KB.variant.chunk.04.out\n",
      "result.alphagenome.K562.ATAC.2KB.variant.chunk..tsv\n",
      "run_alphagenome.K562.ATAC.2KB.variant.chunk.05.out\n",
      "result.alphagenome.K562.ATAC.2KB.variant.chunk..tsv\n",
      "run_alphagenome.K562.ATAC.2KB.variant.chunk.06.out\n",
      "result.alphagenome.K562.ATAC.2KB.variant.chunk..tsv\n",
      "run_alphagenome.K562.ATAC.2KB.variant.chunk.07.out\n",
      "result.alphagenome.K562.ATAC.2KB.variant.chunk..tsv\n",
      "run_alphagenome.K562.ATAC.2KB.variant.chunk.08.out\n",
      "result.alphagenome.K562.ATAC.2KB.variant.chunk..tsv\n",
      "run_alphagenome.K562.ATAC.2KB.variant.chunk.09.out\n",
      "result.alphagenome.K562.ATAC.2KB.variant.chunk..tsv\n",
      "run_alphagenome.K562.ATAC.2KB.variant.chunk.10.out\n",
      "result.alphagenome.K562.ATAC.2KB.variant.chunk..tsv\n",
      "run_alphagenome.K562.ATAC.2KB.variant.chunk.11.out\n",
      "result.alphagenome.K562.ATAC.2KB.variant.chunk..tsv\n",
      "run_alphagenome.K562.ATAC.2KB.variant.chunk.12.out\n",
      "result.alphagenome.K562.ATAC.2KB.variant.chunk..tsv\n",
      "run_alphagenome.K562.ATAC.2KB.variant.chunk.13.out\n",
      "result.alphagenome.K562.ATAC.2KB.variant.chunk..tsv\n",
      "run_alphagenome.K562.ATAC.2KB.variant.chunk.14.out\n",
      "result.alphagenome.K562.ATAC.2KB.variant.chunk..tsv\n",
      "run_alphagenome.K562.ATAC.2KB.variant.chunk.15.out\n",
      "result.alphagenome.K562.ATAC.2KB.variant.chunk..tsv\n",
      "run_alphagenome.K562.ATAC.2KB.variant.chunk.16.out\n",
      "result.alphagenome.K562.ATAC.2KB.variant.chunk..tsv\n",
      "run_alphagenome.K562.ATAC.2KB.variant.chunk.17.out\n",
      "result.alphagenome.K562.ATAC.2KB.variant.chunk..tsv\n",
      "run_alphagenome.K562.ATAC.2KB.variant.chunk.18.out\n",
      "result.alphagenome.K562.ATAC.2KB.variant.chunk..tsv\n",
      "run_alphagenome.K562.ATAC.2KB.variant.chunk.19.out\n",
      "result.alphagenome.K562.ATAC.2KB.variant.chunk..tsv\n",
      "run_alphagenome.K562.ATAC.2KB.variant.chunk.20.out\n",
      "result.alphagenome.K562.ATAC.2KB.variant.chunk..tsv\n",
      "run_alphagenome.K562.ATAC.2KB.variant.chunk.21.out\n",
      "result.alphagenome.K562.ATAC.2KB.variant.chunk..tsv\n",
      "run_alphagenome.K562.ATAC.2KB.variant.chunk.22.out\n",
      "result.alphagenome.K562.ATAC.2KB.variant.chunk..tsv\n",
      "run_alphagenome.K562.ATAC.2KB.variant.chunk.23.out\n",
      "result.alphagenome.K562.ATAC.2KB.variant.chunk..tsv\n",
      "run_alphagenome.K562.ATAC.2KB.variant.chunk.24.out\n",
      "result.alphagenome.K562.ATAC.2KB.variant.chunk..tsv\n",
      "run_alphagenome.K562.ATAC.2KB.variant.chunk.25.out\n",
      "result.alphagenome.K562.ATAC.2KB.variant.chunk..tsv\n",
      "run_alphagenome.K562.ATAC.2KB.variant.chunk.26.out\n",
      "result.alphagenome.K562.ATAC.2KB.variant.chunk..tsv\n",
      "run_alphagenome.K562.ATAC.2KB.variant.chunk.27.out\n",
      "result.alphagenome.K562.ATAC.2KB.variant.chunk..tsv\n",
      "run_alphagenome.K562.ATAC.2KB.variant.chunk.28.out\n",
      "result.alphagenome.K562.ATAC.2KB.variant.chunk..tsv\n",
      "run_alphagenome.K562.ATAC.2KB.variant.chunk.29.out\n",
      "result.alphagenome.K562.ATAC.2KB.variant.chunk..tsv\n",
      "run_alphagenome.K562.ATAC.2KB.variant.chunk.30.out\n",
      "result.alphagenome.K562.ATAC.2KB.variant.chunk..tsv\n",
      "run_alphagenome.K562.ATAC.2KB.variant.chunk.31.out\n",
      "result.alphagenome.K562.ATAC.2KB.variant.chunk..tsv\n",
      "run_alphagenome.K562.ATAC.2KB.variant.chunk.32.out\n",
      "result.alphagenome.K562.ATAC.2KB.variant.chunk..tsv\n",
      "run_alphagenome.K562.ATAC.2KB.variant.chunk.33.out\n",
      "result.alphagenome.K562.ATAC.2KB.variant.chunk..tsv\n",
      "run_alphagenome.K562.ATAC.2KB.variant.chunk.34.out\n",
      "result.alphagenome.K562.ATAC.2KB.variant.chunk..tsv\n",
      "run_alphagenome.K562.ATAC.2KB.variant.chunk.35.out\n",
      "result.alphagenome.K562.ATAC.2KB.variant.chunk..tsv\n",
      "run_alphagenome.K562.ATAC.2KB.variant.chunk.36.out\n",
      "result.alphagenome.K562.ATAC.2KB.variant.chunk..tsv\n",
      "run_alphagenome.K562.ATAC.2KB.variant.chunk.37.out\n",
      "result.alphagenome.K562.ATAC.2KB.variant.chunk..tsv\n",
      "run_alphagenome.K562.ATAC.2KB.variant.chunk.38.out\n",
      "result.alphagenome.K562.ATAC.2KB.variant.chunk..tsv\n",
      "run_alphagenome.K562.ATAC.2KB.variant.chunk.39.out\n",
      "result.alphagenome.K562.ATAC.2KB.variant.chunk..tsv\n",
      "run_alphagenome.K562.ATAC.2KB.variant.chunk.40.out\n"
     ]
    }
   ],
   "source": [
    "### set script\n",
    "FN_EXE=\"run_alphagenome_variant_prediction.sh\"\n",
    "FP_EXE=${FD_EXE}/${FN_EXE}\n",
    "\n",
    "### set arguments\n",
    "SCORER=\"ATAC\"\n",
    "LENGTH=\"2KB\"\n",
    "BIOSAM=\"K562\"\n",
    "\n",
    "### get input files\n",
    "FD_INP=${FD_RES}/predict_variant_kircher2019\n",
    "FP_INPS=($(ls ${FD_INP}/variant.chunk.*.tsv))\n",
    "\n",
    "for FP_INP in ${FP_INPS[@]}; do\n",
    "    ### set file directory\n",
    "    FN_INP=$(basename ${FP_INP})\n",
    "    FD_OUT=${FD_INP}\n",
    "    FN_OUT=\"result.alphagenome.${BIOSAM}.${SCORER}.${LENGTH}.variant.chunk.${i}.tsv\"\n",
    "    FP_OUT=${FD_OUT}/${FN_OUT}\n",
    "    \n",
    "    ### set log file\n",
    "    PREFIX=${FN_INP%.*}\n",
    "    FN_LOG_PRE=\"run_alphagenome.${BIOSAM}.${SCORER}.${LENGTH}.${PREFIX}\"\n",
    "    FN_LOG_OUT=\"${FN_LOG_PRE}.out\"\n",
    "    FP_LOG_OUT=${FD_LOG}/${FN_LOG_OUT}\n",
    "    FN_LOG_ERR=\"${FN_LOG_PRE}.err\"\n",
    "    FP_LOG_ERR=${FD_LOG}/${FN_LOG_ERR}\n",
    "    \n",
    "    echo ${FN_OUT}\n",
    "    echo ${FN_LOG_OUT}\n",
    "done"
   ]
  },
  {
   "cell_type": "markdown",
   "id": "5b0a1617-dd57-40d6-8dd9-aec6f144a070",
   "metadata": {},
   "source": [
    "## Execute"
   ]
  },
  {
   "cell_type": "code",
   "execution_count": 11,
   "id": "5f013897-35f0-4fdb-8574-deb18f74cb21",
   "metadata": {},
   "outputs": [
    {
     "name": "stdout",
     "output_type": "stream",
     "text": [
      "Submitted batch job 36394778\n",
      "All jobs submitted!\n"
     ]
    }
   ],
   "source": [
    "### set script\n",
    "FN_EXE=\"run_alphagenome_variant_prediction.sh\"\n",
    "FP_EXE=${FD_EXE}/${FN_EXE}\n",
    "chmod +x ${FP_EXE}\n",
    "\n",
    "### set input file directory\n",
    "FD_INP=${FD_RES}/predict_variant_kircher2019\n",
    "\n",
    "### set arguments\n",
    "SCORER=\"ATAC\"\n",
    "LENGTH=\"2KB\"\n",
    "BIOSAM=\"K562\"\n",
    "\n",
    "### set log file prefix\n",
    "FN_LOG_PRE=\"run_alphagenome.${BIOSAM}.${SCORER}.${LENGTH}.variant.chunk\"\n",
    "\n",
    "# at most 4 tasks at once; adjust %4 as needed\n",
    "sbatch \\\n",
    "    -A majoroslab \\\n",
    "    -p igvf \\\n",
    "    --array=1-40%4 \\\n",
    "    --cpus-per-task=2 \\\n",
    "    --mem=4G \\\n",
    "    -o ${FD_LOG}/${FN_LOG_PRE}.%a.out \\\n",
    "    -e ${FD_LOG}/${FN_LOG_PRE}.%a.err \\\n",
    "    --chdir ${FD_EXE} \\\n",
    "    --export=ALL,FD_INP=${FD_INP},FP_EXE=${FP_EXE},SCORER=${SCORER},LENGTH=${LENGTH},BIOSAM=${BIOSAM} \\\n",
    "    --wrap '\n",
    "i=$(printf \"%02d\" ${SLURM_ARRAY_TASK_ID})\n",
    "FN_INP=\"variant.chunk.${i}.tsv\"\n",
    "FN_OUT=\"result.alphagenome.${BIOSAM}.${SCORER}.${LENGTH}.variant.chunk.${i}.tsv\"\n",
    "FP_INP=${FD_INP}/${FN_INP}\n",
    "FP_OUT=${FD_INP}/${FN_OUT}\n",
    "${FP_EXE} ${FP_INP} ${FP_OUT} ${LENGTH} ${SCORER} ${BIOSAM}\n",
    "'\n",
    "\n",
    "echo \"All jobs submitted!\""
   ]
  },
  {
   "cell_type": "markdown",
   "id": "10666d6c-f861-46d3-bfd1-84a9c963468b",
   "metadata": {},
   "source": [
    "## Check results"
   ]
  },
  {
   "cell_type": "code",
   "execution_count": 6,
   "id": "3fd0bb13-4e8f-4f12-8adb-ca857be1f755",
   "metadata": {},
   "outputs": [],
   "source": [
    "FN_LOG_PRE=\"run_alphagenome.variant.chunk\""
   ]
  },
  {
   "cell_type": "code",
   "execution_count": 12,
   "id": "533968cf-08f3-40b1-a8cc-778dddf9de79",
   "metadata": {},
   "outputs": [],
   "source": [
    "IDX=15"
   ]
  },
  {
   "cell_type": "code",
   "execution_count": 13,
   "id": "48a98146-2b24-4ea6-b8eb-b9f52400df9b",
   "metadata": {},
   "outputs": [
    {
     "name": "stdout",
     "output_type": "stream",
     "text": [
      "Hostname:           dcc-allenlab-01\n",
      "Slurm Array Index:  15\n",
      "Time Stamp:         08-27-25+22:22:17\n",
      "\n",
      "Input:  /hpc/group/igvf/kk319/repo/Proj_IGVF_BlueSTARR/results/predict_variant_kircher2019/variant.chunk.15.tsv\n",
      "\n",
      "show first few lines of input\n",
      "chr1:209815789-209815989\t209815867\tT\tG\n",
      "chr1:209815789-209815989\t209815867\tT\tC\n",
      "chr1:209815789-209815989\t209815867\tT\tA\n",
      "\n",
      "\n",
      "Output:  /hpc/group/igvf/kk319/repo/Proj_IGVF_BlueSTARR/results/predict_variant_kircher2019/result.alphagenome.variant.chunk.15.tsv\n",
      "\n",
      "show first few lines of output:\n",
      "\n",
      "\n",
      "Done!\n",
      "Run Time: 7 minutes and 32 seconds\n",
      "\n"
     ]
    }
   ],
   "source": [
    "cat ${FD_LOG}/${FN_LOG_PRE}.${IDX}.out"
   ]
  },
  {
   "cell_type": "code",
   "execution_count": 14,
   "id": "6826ace9-c2d3-4909-b213-6152b875fd44",
   "metadata": {},
   "outputs": [
    {
     "name": "stdout",
     "output_type": "stream",
     "text": [
      "/usr/local/lib/python3.11/site-packages/google/protobuf/runtime_version.py:98: UserWarning: Protobuf gencode version 5.27.2 is exactly one major version older than the runtime version 6.31.1 at alphagenome/protos/dna_model.proto. Please update the gencode to avoid compatibility violations in the next runtime release.\n",
      "  warnings.warn(\n",
      "/usr/local/lib/python3.11/site-packages/google/protobuf/runtime_version.py:98: UserWarning: Protobuf gencode version 5.27.2 is exactly one major version older than the runtime version 6.31.1 at alphagenome/protos/tensor.proto. Please update the gencode to avoid compatibility violations in the next runtime release.\n",
      "  warnings.warn(\n",
      "cat: /hpc/group/igvf/kk319/repo/Proj_IGVF_BlueSTARR/results/predict_variant_kircher2019/result.alphagenome.variant.chunk.15.tsv: No such file or directory\n"
     ]
    }
   ],
   "source": [
    "cat ${FD_LOG}/${FN_LOG_PRE}.${IDX}.err"
   ]
  },
  {
   "cell_type": "code",
   "execution_count": 15,
   "id": "0fb421b7-68e5-4763-b555-6bee0e7885ec",
   "metadata": {},
   "outputs": [
    {
     "name": "stdout",
     "output_type": "stream",
     "text": [
      "cat: /hpc/group/igvf/kk319/repo/Proj_IGVF_BlueSTARR/results/predict_variant_kircher2019/result.alphagenome.variant.chunk.15.tsv: No such file or directory\n",
      "0\n"
     ]
    }
   ],
   "source": [
    "FPATH=\"${FD_INP}/result.alphagenome.variant.chunk.${IDX}.tsv\"\n",
    "cat ${FPATH} | wc -l"
   ]
  },
  {
   "cell_type": "code",
   "execution_count": 16,
   "id": "391adeed-ee13-4247-9020-a5bf03fb1e29",
   "metadata": {},
   "outputs": [
    {
     "name": "stdout",
     "output_type": "stream",
     "text": [
      "1000\n"
     ]
    }
   ],
   "source": [
    "FPATH=\"${FD_INP}/result.alphagenome.variant.chunk.${IDX}.tsv.errors\"\n",
    "cat ${FPATH} | wc -l"
   ]
  },
  {
   "cell_type": "code",
   "execution_count": null,
   "id": "9fed2f0c-241f-449b-9db6-2f263467e868",
   "metadata": {},
   "outputs": [],
   "source": []
  },
  {
   "cell_type": "code",
   "execution_count": null,
   "id": "618031a0-2e1b-4e2c-925b-0f170c709b78",
   "metadata": {},
   "outputs": [],
   "source": []
  },
  {
   "cell_type": "code",
   "execution_count": null,
   "id": "2a92aef8-cc66-4020-b6d2-7d950ddca06c",
   "metadata": {},
   "outputs": [],
   "source": []
  },
  {
   "cell_type": "code",
   "execution_count": 8,
   "id": "9d931577-990c-4c92-9bb9-fe95c37c6387",
   "metadata": {},
   "outputs": [
    {
     "name": "stdout",
     "output_type": "stream",
     "text": [
      "alphagenome.runtime.variant.test_chunk_1000.err\n",
      "alphagenome.runtime.variant.test_chunk_1000.out\n",
      "alphagenome.runtime.variant.test_chunk_100.err\n",
      "alphagenome.runtime.variant.test_chunk_100.out\n",
      "alphagenome.runtime.variant.test_example.err\n",
      "alphagenome.runtime.variant.test_example.out\n",
      "run_alphagenome.variant.test.chunk_1000.err\n",
      "run_alphagenome.variant.test.chunk_1000.out\n",
      "run_alphagenome.variant.test.chunk_100.err\n",
      "run_alphagenome.variant.test.chunk_100.out\n",
      "run_alphagenome.variant.test.example.err\n",
      "run_alphagenome.variant.test.example.out\n",
      "test.alphagenome.dnaclient.err\n",
      "test.alphagenome.dnaclient.heredoc.err\n",
      "test.alphagenome.dnaclient.heredoc.out\n",
      "test.alphagenome.dnaclient.out\n",
      "test.alphagenome.runtime.err\n",
      "test.alphagenome.runtime.out\n",
      "test.display.runtime.err\n",
      "test.display.runtime.out\n"
     ]
    }
   ],
   "source": [
    "ls ${FD_LOG}"
   ]
  },
  {
   "cell_type": "code",
   "execution_count": 9,
   "id": "2060551e-0c86-4b15-aa95-1108e2a69828",
   "metadata": {},
   "outputs": [
    {
     "name": "stdout",
     "output_type": "stream",
     "text": [
      "result.alphagenome.variant.test.chunk_1000.tsv  variant.chunk.21.tsv\n",
      "result.alphagenome.variant.test.chunk_100.tsv   variant.chunk.22.tsv\n",
      "result.alphagenome.variant.test.example.tsv     variant.chunk.23.tsv\n",
      "variant.chunk.01.tsv                            variant.chunk.24.tsv\n",
      "variant.chunk.02.tsv                            variant.chunk.25.tsv\n",
      "variant.chunk.03.tsv                            variant.chunk.26.tsv\n",
      "variant.chunk.04.tsv                            variant.chunk.27.tsv\n",
      "variant.chunk.05.tsv                            variant.chunk.28.tsv\n",
      "variant.chunk.06.tsv                            variant.chunk.29.tsv\n",
      "variant.chunk.07.tsv                            variant.chunk.30.tsv\n",
      "variant.chunk.08.tsv                            variant.chunk.31.tsv\n",
      "variant.chunk.09.tsv                            variant.chunk.32.tsv\n",
      "variant.chunk.10.tsv                            variant.chunk.33.tsv\n",
      "variant.chunk.11.tsv                            variant.chunk.34.tsv\n",
      "variant.chunk.12.tsv                            variant.chunk.35.tsv\n",
      "variant.chunk.13.tsv                            variant.chunk.36.tsv\n",
      "variant.chunk.14.tsv                            variant.chunk.37.tsv\n",
      "variant.chunk.15.tsv                            variant.chunk.38.tsv\n",
      "variant.chunk.16.tsv                            variant.chunk.39.tsv\n",
      "variant.chunk.17.tsv                            variant.chunk.40.tsv\n",
      "variant.chunk.18.tsv                            variant.test.chunk_1000.tsv\n",
      "variant.chunk.19.tsv                            variant.test.chunk_100.tsv\n",
      "variant.chunk.20.tsv                            variant.test.example.tsv\n"
     ]
    }
   ],
   "source": [
    "FD_INP=${FD_RES}/predict_variant_kircher2019\n",
    "ls ${FD_INP}"
   ]
  },
  {
   "cell_type": "code",
   "execution_count": 10,
   "id": "5399980a-3ff5-4a03-ac02-fc57ff72de78",
   "metadata": {},
   "outputs": [],
   "source": [
    "#FD_INP=${FD_RES}/predict_variant_kircher2019\n",
    "#rm ${FD_INP}/result.alphagenome.variant.chunk.*.tsv\n",
    "#rm ${FD_INP}/result.alphagenome.variant.chunk.*.tsv.errors\n",
    "\n",
    "#rm ${FD_LOG}/run_alphagenome.variant.chunk*"
   ]
  },
  {
   "cell_type": "code",
   "execution_count": null,
   "id": "1e04118e-b411-4009-9392-f08c6a8b93a6",
   "metadata": {},
   "outputs": [],
   "source": []
  },
  {
   "cell_type": "code",
   "execution_count": null,
   "id": "1aa91182-8dd0-4716-ba6b-4c1b5fc1681b",
   "metadata": {},
   "outputs": [],
   "source": []
  },
  {
   "cell_type": "code",
   "execution_count": null,
   "id": "a70a99cc-f287-4e65-a423-1c77595aa722",
   "metadata": {},
   "outputs": [],
   "source": []
  },
  {
   "cell_type": "code",
   "execution_count": null,
   "id": "d27738be-a085-42b2-8229-f035f2a35d18",
   "metadata": {},
   "outputs": [],
   "source": []
  },
  {
   "cell_type": "markdown",
   "id": "06c16bb5-94f4-4119-9975-937868883943",
   "metadata": {},
   "source": [
    "## Merge results"
   ]
  },
  {
   "cell_type": "code",
   "execution_count": 15,
   "id": "32a417db-c841-45e6-9a59-de4649ec7469",
   "metadata": {},
   "outputs": [
    {
     "name": "stdout",
     "output_type": "stream",
     "text": [
      "/hpc/group/igvf/kk319/repo/Proj_IGVF_BlueSTARR/results/predict_variant_kircher2019/result.alphagenome.variant.chunk.01.tsv\n",
      "/hpc/group/igvf/kk319/repo/Proj_IGVF_BlueSTARR/results/predict_variant_kircher2019/result.alphagenome.variant.chunk.02.tsv\n",
      "/hpc/group/igvf/kk319/repo/Proj_IGVF_BlueSTARR/results/predict_variant_kircher2019/result.alphagenome.variant.chunk.03.tsv\n",
      "/hpc/group/igvf/kk319/repo/Proj_IGVF_BlueSTARR/results/predict_variant_kircher2019/result.alphagenome.variant.chunk.04.tsv\n",
      "/hpc/group/igvf/kk319/repo/Proj_IGVF_BlueSTARR/results/predict_variant_kircher2019/result.alphagenome.variant.chunk.05.tsv\n",
      "/hpc/group/igvf/kk319/repo/Proj_IGVF_BlueSTARR/results/predict_variant_kircher2019/result.alphagenome.variant.chunk.10.tsv\n",
      "/hpc/group/igvf/kk319/repo/Proj_IGVF_BlueSTARR/results/predict_variant_kircher2019/result.alphagenome.variant.chunk.11.tsv\n",
      "/hpc/group/igvf/kk319/repo/Proj_IGVF_BlueSTARR/results/predict_variant_kircher2019/result.alphagenome.variant.chunk.12.tsv\n",
      "/hpc/group/igvf/kk319/repo/Proj_IGVF_BlueSTARR/results/predict_variant_kircher2019/result.alphagenome.variant.chunk.18.tsv\n",
      "/hpc/group/igvf/kk319/repo/Proj_IGVF_BlueSTARR/results/predict_variant_kircher2019/result.alphagenome.variant.chunk.19.tsv\n",
      "/hpc/group/igvf/kk319/repo/Proj_IGVF_BlueSTARR/results/predict_variant_kircher2019/result.alphagenome.variant.chunk.31.tsv\n",
      "/hpc/group/igvf/kk319/repo/Proj_IGVF_BlueSTARR/results/predict_variant_kircher2019/result.alphagenome.variant.chunk.32.tsv\n",
      "/hpc/group/igvf/kk319/repo/Proj_IGVF_BlueSTARR/results/predict_variant_kircher2019/result.alphagenome.variant.chunk.33.tsv\n",
      "/hpc/group/igvf/kk319/repo/Proj_IGVF_BlueSTARR/results/predict_variant_kircher2019/result.alphagenome.variant.chunk.34.tsv\n",
      "/hpc/group/igvf/kk319/repo/Proj_IGVF_BlueSTARR/results/predict_variant_kircher2019/result.alphagenome.variant.chunk.40.tsv\n"
     ]
    }
   ],
   "source": [
    "FD_INP=${FD_RES}/predict_variant_kircher2019\n",
    "ls ${FD_INP}/result.alphagenome.variant.chunk.*.tsv"
   ]
  },
  {
   "cell_type": "code",
   "execution_count": 16,
   "id": "47eb3e83-1e4d-4045-ab0f-482e43f24826",
   "metadata": {},
   "outputs": [
    {
     "name": "stdout",
     "output_type": "stream",
     "text": [
      "Merged all results...\n",
      "\n"
     ]
    }
   ],
   "source": [
    "### set input/output file directory\n",
    "FD_INP=${FD_RES}/predict_variant_kircher2019\n",
    "FN_OUT=result.alphagenome.variant.chunk.all.tsv\n",
    "FP_OUT=${FD_INP}/${FN_OUT}\n",
    "\n",
    "### copy the first file with column names\n",
    "echo \"Merged all results...\"\n",
    "FP_FIRST=$(ls -1 ${FD_INP}/result.alphagenome.variant.chunk.*.tsv | head -n 1)\n",
    "cat ${FP_FIRST} > ${FP_OUT}\n",
    "\n",
    "### for the rest, copy without column names\n",
    "for FP_INP in ${FD_INP}/result.alphagenome.variant.chunk.*.tsv; do\n",
    "    [[ \"${FP_INP}\" == \"${FP_FIRST}\" ]] && continue\n",
    "    awk \"FNR==1{next}1\" \"${FP_INP}\" >> \"${FP_OUT}\"\n",
    "done\n",
    "echo \"Done\""
   ]
  },
  {
   "cell_type": "code",
   "execution_count": null,
   "id": "76953863-882e-4e46-948a-9245dccb0daf",
   "metadata": {},
   "outputs": [
    {
     "name": "stdout",
     "output_type": "stream",
     "text": [
      "/hpc/group/igvf/kk319/repo/Proj_IGVF_BlueSTARR/results/predict_variant_kircher2019/result.alphagenome.variant.chunk.all.tsv\n"
     ]
    }
   ],
   "source": [
    "echo ${FP_OUT}\n",
    "cat  ${FP_OUT} | wc -l"
   ]
  },
  {
   "cell_type": "code",
   "execution_count": null,
   "id": "ca5c9850-75c7-4104-a440-8790e1b30e81",
   "metadata": {},
   "outputs": [],
   "source": [
    "echo"
   ]
  },
  {
   "cell_type": "code",
   "execution_count": null,
   "id": "444b201b-f3a7-4651-9ad9-53ae946dbad6",
   "metadata": {},
   "outputs": [],
   "source": []
  },
  {
   "cell_type": "code",
   "execution_count": null,
   "id": "118cfb0f-75b2-40bf-be7f-691c849a9794",
   "metadata": {},
   "outputs": [],
   "source": []
  },
  {
   "cell_type": "code",
   "execution_count": 5,
   "id": "479d3617-8762-4735-b0f1-73072ca8a2fb",
   "metadata": {},
   "outputs": [
    {
     "name": "stdout",
     "output_type": "stream",
     "text": [
      "Submitted batch job 34482890\n",
      "Submitted batch job 34482891\n",
      "Submitted batch job 34482892\n",
      "Submitted batch job 34482893\n",
      "Submitted batch job 34482894\n",
      "Submitted batch job 34482895\n",
      "Submitted batch job 34482896\n",
      "Submitted batch job 34482897\n",
      "Submitted batch job 34482898\n",
      "Submitted batch job 34482899\n",
      "Submitted batch job 34482900\n",
      "Submitted batch job 34482901\n",
      "Submitted batch job 34482903\n",
      "Submitted batch job 34482904\n",
      "Submitted batch job 34482905\n",
      "Submitted batch job 34482906\n",
      "Submitted batch job 34482907\n",
      "Submitted batch job 34482908\n",
      "Submitted batch job 34482909\n",
      "Submitted batch job 34482910\n",
      "Submitted batch job 34482911\n",
      "Submitted batch job 34482912\n",
      "Submitted batch job 34482913\n",
      "Submitted batch job 34482914\n",
      "Submitted batch job 34482915\n",
      "Submitted batch job 34482916\n",
      "Submitted batch job 34482917\n",
      "Submitted batch job 34482918\n",
      "Submitted batch job 34482919\n",
      "Submitted batch job 34482920\n",
      "Submitted batch job 34482921\n",
      "Submitted batch job 34482922\n",
      "Submitted batch job 34482923\n",
      "Submitted batch job 34482924\n",
      "Submitted batch job 34482928\n",
      "Submitted batch job 34482929\n",
      "Submitted batch job 34482930\n",
      "Submitted batch job 34482931\n",
      "Submitted batch job 34482932\n",
      "Submitted batch job 34482933\n"
     ]
    }
   ],
   "source": [
    "### set script\n",
    "FN_EXE=\"run_alphagenome_variant_prediction.sh\"\n",
    "FP_EXE=${FD_EXE}/${FN_EXE}\n",
    "\n",
    "### get input files\n",
    "FD_INP=${FD_RES}/predict_variant_kircher2019\n",
    "FP_INPS=($(ls ${FD_INP}/variant.chunk.*.tsv))\n",
    "\n",
    "for FP_INP in ${FP_INPS[@]}; do\n",
    "    ### set file directory\n",
    "    FN_INP=$(basename ${FP_INP})\n",
    "    FD_OUT=${FD_INP}\n",
    "    FN_OUT=\"result.alphagenome.${FN_INP}\"\n",
    "    FP_OUT=${FD_OUT}/${FN_OUT}\n",
    "    \n",
    "    ### set log file\n",
    "    PREFIX=${FN_INP%.*}\n",
    "    FN_LOG_PRE=\"run_alphagenome.${PREFIX}\"\n",
    "    FN_LOG_OUT=\"${FN_LOG_PRE}.out\"\n",
    "    FP_LOG_OUT=${FD_LOG}/${FN_LOG_OUT}\n",
    "    FN_LOG_ERR=\"${FN_LOG_PRE}.err\"\n",
    "    FP_LOG_ERR=${FD_LOG}/${FN_LOG_ERR}\n",
    "    \n",
    "    ### execute\n",
    "    sbatch \\\n",
    "        -A majoroslab \\\n",
    "        -p igvf \\\n",
    "        --cpus-per-task 2 \\\n",
    "        --mem 4G \\\n",
    "        --output ${FP_LOG_OUT} \\\n",
    "        --error  ${FP_LOG_ERR} \\\n",
    "        --chdir  ${FD_EXE} \\\n",
    "        ${FP_EXE} ${FP_INP} ${FP_OUT} \"2KB\" \"RNA_SEQ\" \"K562\"\n",
    "\n",
    "    ### Add a small delay between submissions to avoid overwhelming the scheduler\n",
    "    sleep 0.1\n",
    "done\n",
    "\n",
    "echo \"All jobs submitted!\""
   ]
  },
  {
   "cell_type": "markdown",
   "id": "1d218b16-69c9-49c9-8328-74ec8bc92b1f",
   "metadata": {},
   "source": [
    "## Check results"
   ]
  },
  {
   "cell_type": "code",
   "execution_count": 7,
   "id": "860cd768-61de-4e3b-92d7-9b500cb2ab0d",
   "metadata": {},
   "outputs": [
    {
     "name": "stdout",
     "output_type": "stream",
     "text": [
      "/hpc/group/igvf/kk319/repo/Proj_IGVF_BlueSTARR/log/run_alphagenome.variant.chunk.40.out\n",
      "Hostname:           dcc-allenlab-01\n",
      "Slurm Array Index:  NA\n",
      "Time Stamp:         08-25-25+17:10:41\n",
      "\n",
      "Input:  /hpc/group/igvf/kk319/repo/Proj_IGVF_BlueSTARR/results/predict_variant_kircher2019/variant.chunk.40.tsv\n",
      "\n",
      "show first few lines of input\n",
      "chr1:155301629-155301864\t155301770\tG\tG\n",
      "chr1:155301629-155301864\t155301770\tG\tC\n",
      "chr1:155301629-155301864\t155301770\tG\tA\n",
      "\n",
      "\n",
      "Output:  /hpc/group/igvf/kk319/repo/Proj_IGVF_BlueSTARR/results/predict_variant_kircher2019/result.alphagenome.variant.chunk.40.tsv\n",
      "\n",
      "show first few lines of output:\n",
      "\n",
      "\n",
      "Done!\n",
      "Run Time: 16 seconds\n",
      "\n"
     ]
    }
   ],
   "source": [
    "echo ${FP_LOG_OUT}\n",
    "cat  ${FP_LOG_OUT}"
   ]
  },
  {
   "cell_type": "code",
   "execution_count": 8,
   "id": "a7ae8ca1-38bf-4554-96e8-655546e4a4cb",
   "metadata": {},
   "outputs": [
    {
     "name": "stdout",
     "output_type": "stream",
     "text": [
      "/hpc/group/igvf/kk319/repo/Proj_IGVF_BlueSTARR/log/run_alphagenome.variant.chunk.40.err\n",
      "/usr/local/lib/python3.11/site-packages/google/protobuf/runtime_version.py:98: UserWarning: Protobuf gencode version 5.27.2 is exactly one major version older than the runtime version 6.31.1 at alphagenome/protos/dna_model.proto. Please update the gencode to avoid compatibility violations in the next runtime release.\n",
      "  warnings.warn(\n",
      "/usr/local/lib/python3.11/site-packages/google/protobuf/runtime_version.py:98: UserWarning: Protobuf gencode version 5.27.2 is exactly one major version older than the runtime version 6.31.1 at alphagenome/protos/tensor.proto. Please update the gencode to avoid compatibility violations in the next runtime release.\n",
      "  warnings.warn(\n",
      "Traceback (most recent call last):\n",
      "  File \"/hpc/group/igvf/kk319/repo/Proj_IGVF_BlueSTARR/scripts/run_alphagenome_variant_prediction.py\", line 130, in <module>\n",
      "    main(args)\n",
      "  File \"/hpc/group/igvf/kk319/repo/Proj_IGVF_BlueSTARR/scripts/run_alphagenome_variant_prediction.py\", line 85, in main\n",
      "    variant_scores = dna_model.score_variant(\n",
      "                     ^^^^^^^^^^^^^^^^^^^^^^^^\n",
      "  File \"/usr/local/lib/python3.11/site-packages/alphagenome/models/dna_client.py\", line 120, in wrapper\n",
      "    raise e\n",
      "  File \"/usr/local/lib/python3.11/site-packages/alphagenome/models/dna_client.py\", line 116, in wrapper\n",
      "    return function(*args, **kwargs)\n",
      "           ^^^^^^^^^^^^^^^^^^^^^^^^^\n",
      "  File \"/usr/local/lib/python3.11/site-packages/alphagenome/models/dna_client.py\", line 1002, in score_variant\n",
      "    variant_outputs = _make_score_variant_output(responses, interval)\n",
      "                      ^^^^^^^^^^^^^^^^^^^^^^^^^^^^^^^^^^^^^^^^^^^^^^^\n",
      "  File \"/usr/local/lib/python3.11/site-packages/alphagenome/models/dna_client.py\", line 438, in _make_score_variant_output\n",
      "    for response in responses:\n",
      "  File \"/usr/local/lib/python3.11/site-packages/grpc/_channel.py\", line 543, in __next__\n",
      "    return self._next()\n",
      "           ^^^^^^^^^^^^\n",
      "  File \"/usr/local/lib/python3.11/site-packages/grpc/_channel.py\", line 969, in _next\n",
      "    raise self\n",
      "grpc._channel._MultiThreadedRendezvous: <_MultiThreadedRendezvous of RPC that terminated with:\n",
      "\tstatus = StatusCode.RESOURCE_EXHAUSTED\n",
      "\tdetails = \"Quota exceeded for quota metric 'AlphaGenome Prediction Requests' and limit 'AlphaGenome prediction requests per minute' of service 'gdmscience.googleapis.com' for consumer 'project_number:685594926211'.\"\n",
      "\tdebug_error_string = \"UNKNOWN:Error received from peer ipv4:172.253.63.95:443 {grpc_message:\"Quota exceeded for quota metric \\'AlphaGenome Prediction Requests\\' and limit \\'AlphaGenome prediction requests per minute\\' of service \\'gdmscience.googleapis.com\\' for consumer \\'project_number:685594926211\\'.\", grpc_status:8}\"\n",
      ">\n",
      "cat: /hpc/group/igvf/kk319/repo/Proj_IGVF_BlueSTARR/results/predict_variant_kircher2019/result.alphagenome.variant.chunk.40.tsv: No such file or directory\n"
     ]
    }
   ],
   "source": [
    "echo ${FP_LOG_ERR}\n",
    "cat  ${FP_LOG_ERR}"
   ]
  },
  {
   "cell_type": "code",
   "execution_count": null,
   "id": "1eb79465-438c-40a1-b7bb-ad7b3074c37d",
   "metadata": {},
   "outputs": [],
   "source": []
  },
  {
   "cell_type": "code",
   "execution_count": null,
   "id": "e854f16a-a8f4-4e2f-84cf-d7ea94467dc5",
   "metadata": {},
   "outputs": [],
   "source": [
    "### set script\n",
    "FN_EXE=\"run_alphagenome_variant_prediction.sh\"\n",
    "FP_EXE=${FD_EXE}/${FN_EXE}\n",
    "\n",
    "### get input files\n",
    "FD_INP=${FD_RES}/predict_variant_kircher2019\n",
    "FP_INPS=($(ls ${FD_INP}/variant.chunk.*.tsv))\n",
    "\n",
    "for FP_INP in ${FP_INPS[@]}; do\n",
    "    ### set file directory\n",
    "    FN_INP=$(basename ${FP_INP})\n",
    "    FD_OUT=${FD_INP}\n",
    "    FN_OUT=run_alphagenome.${FN_INP}\n",
    "    FP_OUT=${FD_OUT}/${FN_OUT}\n",
    "    \n",
    "    ### set log file\n",
    "    PREFIX=${FN_INP%.*}\n",
    "    FN_LOG_PRE=\"run_alphagenome.${PREFIX}\"\n",
    "    FN_LOG_OUT=\"${FN_LOG_PRE}.out\"\n",
    "    FP_LOG_OUT=${FD_LOG}/${FN_LOG_OUT}\n",
    "    FN_LOG_ERR=\"${FN_LOG_PRE}.err\"\n",
    "    FP_LOG_ERR=${FD_LOG}/${FN_LOG_ERR}\n",
    "    \n",
    "    ### execute\n",
    "    sbatch \\\n",
    "        -A majoroslab \\\n",
    "        -p igvf \\\n",
    "        --cpus-per-task 2 \\\n",
    "        --mem 4G \\\n",
    "        --output ${FP_LOG_OUT} \\\n",
    "        --error  ${FP_LOG_ERR} \\\n",
    "        --chdir  ${FD_EXE} \\\n",
    "        ${FP_EXE} ${FP_INP} ${FP_OUT} \"2KB\" \"RNA_SEQ\" \"K562\"\n",
    "\n",
    "    ### Add a small delay between submissions to avoid overwhelming the scheduler\n",
    "    sleep 0.1\n",
    "done\n",
    "\n",
    "echo \"All jobs submitted.\""
   ]
  },
  {
   "cell_type": "raw",
   "id": "09f70b5a-e5a1-4446-861a-f4e7d67bcc22",
   "metadata": {},
   "source": [
    "### set script\n",
    "FN_EXE=\"run_alphagenome_variant_prediction.sh\"\n",
    "FP_EXE=${FD_EXE}/${FN_EXE}\n",
    "\n",
    "### get input files\n",
    "FD_INP=${FD_RES}/predict_variant_kircher2019\n",
    "FP_INPS=($(ls ${FD_INP}/variant.chunk.*.tsv))\n",
    "\n",
    "for FP_INP in ${FP_INPS[@]}; do\n",
    "    ### set file directory\n",
    "    FN_INP=$(basename ${FP_INP})\n",
    "    FD_OUT=${FD_INP}\n",
    "    FN_OUT=run_alphagenome.${FN_INP}\n",
    "    FP_OUT=${FD_OUT}/${FN_OUT}\n",
    "    \n",
    "    ### set log file\n",
    "    PREFIX=${FN_INP%.*}\n",
    "    FN_LOG_PRE=\"run_alphagenome.${PREFIX}\"\n",
    "    FN_LOG_OUT=\"${FN_LOG_PRE}.out\"\n",
    "    FP_LOG_OUT=${FD_LOG}/${FN_LOG_OUT}\n",
    "    FN_LOG_ERR=\"${FN_LOG_PRE}.err\"\n",
    "    FP_LOG_ERR=${FD_LOG}/${FN_LOG_ERR}\n",
    "    \n",
    "    ### execute\n",
    "    sbatch \\\n",
    "        -A majoroslab \\\n",
    "        -p igvf \\\n",
    "        --cpus-per-task 2 \\\n",
    "        --mem 4G \\\n",
    "        --output ${FP_LOG_OUT} \\\n",
    "        --error  ${FP_LOG_ERR} \\\n",
    "        --chdir  ${FD_EXE} \\\n",
    "        ${FP_EXE} ${FP_INP} ${FP_OUT} \"2KB\" \"RNA_SEQ\" \"K562\"\n",
    "\n",
    "    ### Add a small delay between submissions to avoid overwhelming the scheduler\n",
    "    sleep 0.1\n",
    "done\n",
    "\n",
    "echo \"All jobs submitted.\""
   ]
  },
  {
   "cell_type": "code",
   "execution_count": 12,
   "id": "9d8e3b3d-a18e-477f-81e6-cae600cf4f9e",
   "metadata": {},
   "outputs": [
    {
     "name": "stdout",
     "output_type": "stream",
     "text": [
      "run_alphagenome.variant.chunk.01.tsv\n",
      "run_alphagenome.variant.chunk.01.out\n",
      "run_alphagenome.variant.chunk.02.tsv\n",
      "run_alphagenome.variant.chunk.02.out\n",
      "run_alphagenome.variant.chunk.03.tsv\n",
      "run_alphagenome.variant.chunk.03.out\n",
      "run_alphagenome.variant.chunk.04.tsv\n",
      "run_alphagenome.variant.chunk.04.out\n",
      "run_alphagenome.variant.chunk.05.tsv\n",
      "run_alphagenome.variant.chunk.05.out\n",
      "run_alphagenome.variant.chunk.06.tsv\n",
      "run_alphagenome.variant.chunk.06.out\n",
      "run_alphagenome.variant.chunk.07.tsv\n",
      "run_alphagenome.variant.chunk.07.out\n",
      "run_alphagenome.variant.chunk.08.tsv\n",
      "run_alphagenome.variant.chunk.08.out\n",
      "run_alphagenome.variant.chunk.09.tsv\n",
      "run_alphagenome.variant.chunk.09.out\n",
      "run_alphagenome.variant.chunk.10.tsv\n",
      "run_alphagenome.variant.chunk.10.out\n",
      "run_alphagenome.variant.chunk.11.tsv\n",
      "run_alphagenome.variant.chunk.11.out\n",
      "run_alphagenome.variant.chunk.12.tsv\n",
      "run_alphagenome.variant.chunk.12.out\n",
      "run_alphagenome.variant.chunk.13.tsv\n",
      "run_alphagenome.variant.chunk.13.out\n",
      "run_alphagenome.variant.chunk.14.tsv\n",
      "run_alphagenome.variant.chunk.14.out\n",
      "run_alphagenome.variant.chunk.15.tsv\n",
      "run_alphagenome.variant.chunk.15.out\n",
      "run_alphagenome.variant.chunk.16.tsv\n",
      "run_alphagenome.variant.chunk.16.out\n",
      "run_alphagenome.variant.chunk.17.tsv\n",
      "run_alphagenome.variant.chunk.17.out\n",
      "run_alphagenome.variant.chunk.18.tsv\n",
      "run_alphagenome.variant.chunk.18.out\n",
      "run_alphagenome.variant.chunk.19.tsv\n",
      "run_alphagenome.variant.chunk.19.out\n",
      "run_alphagenome.variant.chunk.20.tsv\n",
      "run_alphagenome.variant.chunk.20.out\n",
      "run_alphagenome.variant.chunk.21.tsv\n",
      "run_alphagenome.variant.chunk.21.out\n",
      "run_alphagenome.variant.chunk.22.tsv\n",
      "run_alphagenome.variant.chunk.22.out\n",
      "run_alphagenome.variant.chunk.23.tsv\n",
      "run_alphagenome.variant.chunk.23.out\n",
      "run_alphagenome.variant.chunk.24.tsv\n",
      "run_alphagenome.variant.chunk.24.out\n",
      "run_alphagenome.variant.chunk.25.tsv\n",
      "run_alphagenome.variant.chunk.25.out\n",
      "run_alphagenome.variant.chunk.26.tsv\n",
      "run_alphagenome.variant.chunk.26.out\n",
      "run_alphagenome.variant.chunk.27.tsv\n",
      "run_alphagenome.variant.chunk.27.out\n",
      "run_alphagenome.variant.chunk.28.tsv\n",
      "run_alphagenome.variant.chunk.28.out\n",
      "run_alphagenome.variant.chunk.29.tsv\n",
      "run_alphagenome.variant.chunk.29.out\n",
      "run_alphagenome.variant.chunk.30.tsv\n",
      "run_alphagenome.variant.chunk.30.out\n",
      "run_alphagenome.variant.chunk.31.tsv\n",
      "run_alphagenome.variant.chunk.31.out\n",
      "run_alphagenome.variant.chunk.32.tsv\n",
      "run_alphagenome.variant.chunk.32.out\n",
      "run_alphagenome.variant.chunk.33.tsv\n",
      "run_alphagenome.variant.chunk.33.out\n",
      "run_alphagenome.variant.chunk.34.tsv\n",
      "run_alphagenome.variant.chunk.34.out\n",
      "run_alphagenome.variant.chunk.35.tsv\n",
      "run_alphagenome.variant.chunk.35.out\n",
      "run_alphagenome.variant.chunk.36.tsv\n",
      "run_alphagenome.variant.chunk.36.out\n",
      "run_alphagenome.variant.chunk.37.tsv\n",
      "run_alphagenome.variant.chunk.37.out\n",
      "run_alphagenome.variant.chunk.38.tsv\n",
      "run_alphagenome.variant.chunk.38.out\n",
      "run_alphagenome.variant.chunk.39.tsv\n",
      "run_alphagenome.variant.chunk.39.out\n",
      "run_alphagenome.variant.chunk.40.tsv\n",
      "run_alphagenome.variant.chunk.40.out\n"
     ]
    }
   ],
   "source": [
    "### set script\n",
    "FN_EXE=\"run_alphagenome_variant_prediction.sh\"\n",
    "FP_EXE=${FD_EXE}/${FN_EXE}\n",
    "\n",
    "### get input files\n",
    "FD_INP=${FD_RES}/predict_variant_kircher2019\n",
    "FP_INPS=($(ls ${FD_INP}/variant.chunk.*.tsv))\n",
    "\n",
    "for FP_INP in ${FP_INPS[@]}; do\n",
    "    ### set file directory\n",
    "    FN_INP=$(basename ${FP_INP})\n",
    "    FD_OUT=${FD_INP}\n",
    "    FN_OUT=run_alphagenome.${FN_INP}\n",
    "    FP_OUT=${FD_OUT}/${FN_OUT}\n",
    "    \n",
    "    ### set log file\n",
    "    PREFIX=${FN_INP%.*}\n",
    "    FN_LOG_PRE=\"run_alphagenome.${PREFIX}\"\n",
    "    FN_LOG_OUT=\"${FN_LOG_PRE}.out\"\n",
    "    FP_LOG_OUT=${FD_LOG}/${FN_LOG_OUT}\n",
    "    FN_LOG_ERR=\"${FN_LOG_PRE}.err\"\n",
    "    FP_LOG_ERR=${FD_LOG}/${FN_LOG_ERR}\n",
    "    \n",
    "    echo ${FN_OUT}\n",
    "    echo ${FN_LOG_OUT}\n",
    "done"
   ]
  },
  {
   "cell_type": "code",
   "execution_count": null,
   "id": "e93c6f60-48f4-4e31-b0a5-779865ecba55",
   "metadata": {},
   "outputs": [],
   "source": []
  },
  {
   "cell_type": "code",
   "execution_count": null,
   "id": "c1187cf5-d199-4f76-8f45-2f289189b2bd",
   "metadata": {},
   "outputs": [],
   "source": []
  },
  {
   "cell_type": "code",
   "execution_count": 9,
   "id": "2fca1cbf-be9c-4ea5-87ae-be29b02541c0",
   "metadata": {},
   "outputs": [
    {
     "name": "stdout",
     "output_type": "stream",
     "text": [
      "/usr/local/lib/python3.11/site-packages/google/protobuf/runtime_version.py:98: UserWarning: Protobuf gencode version 5.27.2 is exactly one major version older than the runtime version 6.31.1 at alphagenome/protos/dna_model.proto. Please update the gencode to avoid compatibility violations in the next runtime release.\n",
      "  warnings.warn(\n",
      "/usr/local/lib/python3.11/site-packages/google/protobuf/runtime_version.py:98: UserWarning: Protobuf gencode version 5.27.2 is exactly one major version older than the runtime version 6.31.1 at alphagenome/protos/tensor.proto. Please update the gencode to avoid compatibility violations in the next runtime release.\n",
      "  warnings.warn(\n",
      "usage: run_alphagenome_variant_prediction.py [-h] -i INPUT -o OUTPUT\n",
      "                                             [-s {2KB,16KB,100KB,500KB,1MB}]\n",
      "                                             [-c {ATAC,CONTACT_MAPS,DNASE,CHIP_TF,CHIP_HISTONE,CAGE,PROCAP,RNA_SEQ,RNA_SEQ_ACTIVE,SPLICE_SITES,SPLICE_SITE_USAGE,SPLICE_JUNCTIONS,POLYADENYLATION,ATAC_ACTIVE,DNASE_ACTIVE,CHIP_TF_ACTIVE,CHIP_HISTONE_ACTIVE,CAGE_ACTIVE,PROCAP_ACTIVE}]\n",
      "                                             [-b BIOSAMPLE]\n",
      "\n",
      "AlphaGenome variant scoring\n",
      "\n",
      "options:\n",
      "  -h, --help            show this help message and exit\n",
      "  -i INPUT, --input INPUT\n",
      "                        Input TSV file with columns: Region, Position, Ref,\n",
      "                        Alt\n",
      "  -o OUTPUT, --output OUTPUT\n",
      "                        Output TSV file for predictions\n",
      "  -s {2KB,16KB,100KB,500KB,1MB}, --seqlen {2KB,16KB,100KB,500KB,1MB}\n",
      "                        Sequence length around variant\n",
      "  -c {ATAC,CONTACT_MAPS,DNASE,CHIP_TF,CHIP_HISTONE,CAGE,PROCAP,RNA_SEQ,RNA_SEQ_ACTIVE,SPLICE_SITES,SPLICE_SITE_USAGE,SPLICE_JUNCTIONS,POLYADENYLATION,ATAC_ACTIVE,DNASE_ACTIVE,CHIP_TF_ACTIVE,CHIP_HISTONE_ACTIVE,CAGE_ACTIVE,PROCAP_ACTIVE}, --scorer {ATAC,CONTACT_MAPS,DNASE,CHIP_TF,CHIP_HISTONE,CAGE,PROCAP,RNA_SEQ,RNA_SEQ_ACTIVE,SPLICE_SITES,SPLICE_SITE_USAGE,SPLICE_JUNCTIONS,POLYADENYLATION,ATAC_ACTIVE,DNASE_ACTIVE,CHIP_TF_ACTIVE,CHIP_HISTONE_ACTIVE,CAGE_ACTIVE,PROCAP_ACTIVE}\n",
      "                        Which variant scorer to use\n",
      "  -b BIOSAMPLE, --biosample BIOSAMPLE\n",
      "                        Optional biosample filter, e.g. K562\n"
     ]
    }
   ],
   "source": [
    "run_alphagenome python ${FD_EXE}/run_alphagenome_variant_prediction.py -h"
   ]
  },
  {
   "cell_type": "code",
   "execution_count": null,
   "id": "eb700e3c-97ec-435b-9b68-25a9d387abe0",
   "metadata": {},
   "outputs": [],
   "source": []
  },
  {
   "cell_type": "code",
   "execution_count": 10,
   "id": "bc9dfcf5-ffeb-455f-85f3-0c42f4ebca66",
   "metadata": {},
   "outputs": [
    {
     "name": "stdout",
     "output_type": "stream",
     "text": [
      "chr11:5227021-5227208\t5227021\tG\tC\n",
      "chr11:5227021-5227208\t5227021\tG\tC\n",
      "chr11:5227021-5227208\t5227021\tG\tC\n",
      "chr11:5227021-5227208\t5227021\tG\tC\n",
      "chr11:5227021-5227208\t5227021\tG\tC\n",
      "chr11:5227021-5227208\t5227021\tG\tC\n",
      "chr11:5227021-5227208\t5227021\tG\tC\n",
      "chr11:5227021-5227208\t5227021\tG\tC\n",
      "chr11:5227021-5227208\t5227021\tG\tC\n",
      "chr11:5227021-5227208\t5227021\tG\tC\n"
     ]
    }
   ],
   "source": [
    "FD_INP=${FD_RES}/predict_variant_alphagenome\n",
    "FN_INP=\"variant_test_example.tsv\"\n",
    "FP_INP=${FD_INP}/${FN_INP}\n",
    "cat ${FP_INP}"
   ]
  },
  {
   "cell_type": "code",
   "execution_count": 14,
   "id": "fa308e30-c4d3-4564-9ef9-d837affb5aaa",
   "metadata": {},
   "outputs": [
    {
     "name": "stdout",
     "output_type": "stream",
     "text": [
      "Submitted batch job 34430573\n"
     ]
    }
   ],
   "source": [
    "FD_INP=${FD_RES}/predict_variant_alphagenome\n",
    "FN_INP=\"variant_test_example.tsv\"\n",
    "FP_INP=${FD_INP}/${FN_INP}\n",
    "\n",
    "FD_OUT=${FD_INP}\n",
    "FN_OUT=\"result.variant.test_example.tsv\"\n",
    "FP_OUT=${FD_OUT}/${FN_OUT}\n",
    "\n",
    "FN_EXE=\"run_alphagenome_variant_prediction.sh\"\n",
    "FP_EXE=${FD_EXE}/${FN_EXE}\n",
    "\n",
    "FN_LOG_OUT=\"alphagenome.runtime.variant.test_example.out\"\n",
    "FP_LOG_OUT=${FD_LOG}/${FN_LOG_OUT}\n",
    "FN_LOG_ERR=\"alphagenome.runtime.variant.test_example.err\"\n",
    "FP_LOG_ERR=${FD_LOG}/${FN_LOG_ERR}\n",
    "\n",
    "sbatch \\\n",
    "    -A majoroslab \\\n",
    "    -p igvf \\\n",
    "    --cpus-per-task 2 \\\n",
    "    --mem 4G \\\n",
    "    --output ${FP_LOG_OUT} \\\n",
    "    --error  ${FP_LOG_ERR} \\\n",
    "    --chdir  ${FD_EXE} \\\n",
    "    ${FP_EXE} ${FP_INP} ${FP_OUT} \"2KB\" \"RNA_SEQ\" \"K562\""
   ]
  },
  {
   "cell_type": "code",
   "execution_count": 15,
   "id": "c4ce822a-49a6-4b97-a050-23e19af0db45",
   "metadata": {},
   "outputs": [
    {
     "name": "stdout",
     "output_type": "stream",
     "text": [
      "Hostname:           dcc-allenlab-01\n",
      "Slurm Array Index:  NA\n",
      "Time Stamp:         08-24-25+22:27:49\n",
      "\n",
      "Input:  /hpc/group/igvf/kk319/repo/Proj_IGVF_BlueSTARR/results/predict_variant_alphagenome/variant_test_example.tsv\n",
      "\n",
      "show first few lines of input\n",
      "chr11:5227021-5227208\t5227021\tG\tC\n",
      "chr11:5227021-5227208\t5227021\tG\tC\n",
      "chr11:5227021-5227208\t5227021\tG\tC\n",
      "chr11:5227021-5227208\t5227021\tG\tC\n",
      "chr11:5227021-5227208\t5227021\tG\tC\n",
      "chr11:5227021-5227208\t5227021\tG\tC\n",
      "chr11:5227021-5227208\t5227021\tG\tC\n",
      "chr11:5227021-5227208\t5227021\tG\tC\n",
      "chr11:5227021-5227208\t5227021\tG\tC\n",
      "chr11:5227021-5227208\t5227021\tG\tC\n",
      "\n",
      "\n",
      "Output:  /hpc/group/igvf/kk319/repo/Proj_IGVF_BlueSTARR/results/predict_variant_alphagenome/result.variant.test_example.tsv\n",
      "\n",
      "show first few lines of output:\n",
      "variant_id\tscored_interval\tgene_id\tgene_name\tgene_type\tgene_strand\tjunction_Start\tjunction_End\toutput_type\tvariant_scorer\ttrack_name\ttrack_strand\tAssay title\tontology_curie\tbiosample_name\tbiosample_type\tgtex_tissue\traw_score\tquantile_score\n",
      "chr11:5227022:G>C\tchr11:5225998-5228046:.\tENSG00000244734\tHBB\tprotein_coding\t-\t\t\tRNA_SEQ\tGeneMaskLFCScorer(requested_output=RNA_SEQ)\tEFO:0002067 polyA plus RNA-seq\t-\tpolyA plus RNA-seq\tEFO:0002067\tK562\tcell_line\t\t-0.046304703\t-0.99957967\n",
      "chr11:5227022:G>C\tchr11:5225998-5228046:.\tENSG00000244734\tHBB\tprotein_coding\t-\t\t\tRNA_SEQ\tGeneMaskLFCScorer(requested_output=RNA_SEQ)\tEFO:0002067 total RNA-seq\t-\ttotal RNA-seq\tEFO:0002067\tK562\tcell_line\t\t-0.023067951\t-0.9990577\n",
      "chr11:5227022:G>C\tchr11:5225998-5228046:.\tENSG00000244734\tHBB\tprotein_coding\t-\t\t\tRNA_SEQ\tGeneMaskLFCScorer(requested_output=RNA_SEQ)\tEFO:0002067 polyA plus RNA-seq\t.\tpolyA plus RNA-seq\tEFO:0002067\tK562\tcell_line\t\t-0.04114437\t-0.9995283\n",
      "chr11:5227022:G>C\tchr11:5225998-5228046:.\tENSG00000244734\tHBB\tprotein_coding\t-\t\t\tRNA_SEQ\tGeneMaskLFCScorer(requested_output=RNA_SEQ)\tEFO:0002067 polyA plus RNA-seq\t-\tpolyA plus RNA-seq\tEFO:0002067\tK562\tcell_line\t\t-0.046304703\t-0.99957967\n",
      "chr11:5227022:G>C\tchr11:5225998-5228046:.\tENSG00000244734\tHBB\tprotein_coding\t-\t\t\tRNA_SEQ\tGeneMaskLFCScorer(requested_output=RNA_SEQ)\tEFO:0002067 total RNA-seq\t-\ttotal RNA-seq\tEFO:0002067\tK562\tcell_line\t\t-0.023067951\t-0.9990577\n",
      "chr11:5227022:G>C\tchr11:5225998-5228046:.\tENSG00000244734\tHBB\tprotein_coding\t-\t\t\tRNA_SEQ\tGeneMaskLFCScorer(requested_output=RNA_SEQ)\tEFO:0002067 polyA plus RNA-seq\t.\tpolyA plus RNA-seq\tEFO:0002067\tK562\tcell_line\t\t-0.04114437\t-0.9995283\n",
      "chr11:5227022:G>C\tchr11:5225998-5228046:.\tENSG00000244734\tHBB\tprotein_coding\t-\t\t\tRNA_SEQ\tGeneMaskLFCScorer(requested_output=RNA_SEQ)\tEFO:0002067 polyA plus RNA-seq\t-\tpolyA plus RNA-seq\tEFO:0002067\tK562\tcell_line\t\t-0.046304703\t-0.99957967\n",
      "chr11:5227022:G>C\tchr11:5225998-5228046:.\tENSG00000244734\tHBB\tprotein_coding\t-\t\t\tRNA_SEQ\tGeneMaskLFCScorer(requested_output=RNA_SEQ)\tEFO:0002067 total RNA-seq\t-\ttotal RNA-seq\tEFO:0002067\tK562\tcell_line\t\t-0.023067951\t-0.9990577\n",
      "chr11:5227022:G>C\tchr11:5225998-5228046:.\tENSG00000244734\tHBB\tprotein_coding\t-\t\t\tRNA_SEQ\tGeneMaskLFCScorer(requested_output=RNA_SEQ)\tEFO:0002067 polyA plus RNA-seq\t.\tpolyA plus RNA-seq\tEFO:0002067\tK562\tcell_line\t\t-0.04114437\t-0.9995283\n",
      "\n",
      "\n",
      "Done!\n",
      "Run Time: 5 seconds\n",
      "\n"
     ]
    }
   ],
   "source": [
    "cat ${FP_LOG_OUT}"
   ]
  },
  {
   "cell_type": "code",
   "execution_count": 16,
   "id": "fc7881c6-dbb5-45d5-8f9f-6292e61dedb6",
   "metadata": {},
   "outputs": [
    {
     "name": "stdout",
     "output_type": "stream",
     "text": [
      "/usr/local/lib/python3.11/site-packages/google/protobuf/runtime_version.py:98: UserWarning: Protobuf gencode version 5.27.2 is exactly one major version older than the runtime version 6.31.1 at alphagenome/protos/dna_model.proto. Please update the gencode to avoid compatibility violations in the next runtime release.\n",
      "  warnings.warn(\n",
      "/usr/local/lib/python3.11/site-packages/google/protobuf/runtime_version.py:98: UserWarning: Protobuf gencode version 5.27.2 is exactly one major version older than the runtime version 6.31.1 at alphagenome/protos/tensor.proto. Please update the gencode to avoid compatibility violations in the next runtime release.\n",
      "  warnings.warn(\n"
     ]
    }
   ],
   "source": [
    "cat ${FP_LOG_ERR}"
   ]
  },
  {
   "cell_type": "code",
   "execution_count": null,
   "id": "7b0c467b-5bc5-4140-b2d3-f41095f51ce7",
   "metadata": {},
   "outputs": [],
   "source": []
  },
  {
   "cell_type": "code",
   "execution_count": 17,
   "id": "d7835ab0-8ede-4dbb-ad15-1e71fdcaa821",
   "metadata": {},
   "outputs": [
    {
     "name": "stdout",
     "output_type": "stream",
     "text": [
      "Submitted batch job 34430588\n"
     ]
    }
   ],
   "source": [
    "FD_INP=${FD_RES}/predict_variant_alphagenome\n",
    "FN_INP=\"variant_test_chunk_100.tsv\"\n",
    "FP_INP=${FD_INP}/${FN_INP}\n",
    "\n",
    "FD_OUT=${FD_INP}\n",
    "FN_OUT=\"result.variant.test_chunk_100.tsv\"\n",
    "FP_OUT=${FD_OUT}/${FN_OUT}\n",
    "\n",
    "FN_EXE=\"run_alphagenome_variant_prediction.sh\"\n",
    "FP_EXE=${FD_EXE}/${FN_EXE}\n",
    "\n",
    "FN_LOG_OUT=\"alphagenome.runtime.variant.test_chunk_100.out\"\n",
    "FP_LOG_OUT=${FD_LOG}/${FN_LOG_OUT}\n",
    "FN_LOG_ERR=\"alphagenome.runtime.variant.test_chunk_100.err\"\n",
    "FP_LOG_ERR=${FD_LOG}/${FN_LOG_ERR}\n",
    "\n",
    "sbatch \\\n",
    "    -A majoroslab \\\n",
    "    -p igvf \\\n",
    "    --cpus-per-task 2 \\\n",
    "    --mem 4G \\\n",
    "    --output ${FP_LOG_OUT} \\\n",
    "    --error  ${FP_LOG_ERR} \\\n",
    "    --chdir  ${FD_EXE} \\\n",
    "    ${FP_EXE} ${FP_INP} ${FP_OUT} \"2KB\" \"RNA_SEQ\" \"K562\""
   ]
  },
  {
   "cell_type": "code",
   "execution_count": 19,
   "id": "15e313f6-e414-45b5-a13f-d528e0c67118",
   "metadata": {},
   "outputs": [
    {
     "name": "stdout",
     "output_type": "stream",
     "text": [
      "Hostname:           dcc-allenlab-01\n",
      "Slurm Array Index:  NA\n",
      "Time Stamp:         08-24-25+22:31:03\n",
      "\n",
      "Input:  /hpc/group/igvf/kk319/repo/Proj_IGVF_BlueSTARR/results/predict_variant_alphagenome/variant_test_chunk_100.tsv\n",
      "\n",
      "show first few lines of input\n",
      "chr11:5227021-5227208\t5227021\tG\tG\n",
      "chr11:5227021-5227208\t5227021\tG\tC\n",
      "chr11:5227021-5227208\t5227021\tG\tA\n",
      "chr11:5227021-5227208\t5227021\tG\tT\n",
      "chr11:5227021-5227208\t5227022\tG\tG\n",
      "chr11:5227021-5227208\t5227022\tG\tC\n",
      "chr11:5227021-5227208\t5227022\tG\tA\n",
      "chr11:5227021-5227208\t5227022\tG\tT\n",
      "chr11:5227021-5227208\t5227023\tT\tG\n",
      "chr11:5227021-5227208\t5227023\tT\tC\n",
      "\n",
      "\n",
      "Output:  /hpc/group/igvf/kk319/repo/Proj_IGVF_BlueSTARR/results/predict_variant_alphagenome/result.variant.test_chunk_100.tsv\n",
      "\n",
      "show first few lines of output:\n",
      "variant_id\tscored_interval\tgene_id\tgene_name\tgene_type\tgene_strand\tjunction_Start\tjunction_End\toutput_type\tvariant_scorer\ttrack_name\ttrack_strand\tAssay title\tontology_curie\tbiosample_name\tbiosample_type\tgtex_tissue\traw_score\tquantile_score\n",
      "chr11:5227022:G>G\tchr11:5225998-5228046:.\tENSG00000244734\tHBB\tprotein_coding\t-\t\t\tRNA_SEQ\tGeneMaskLFCScorer(requested_output=RNA_SEQ)\tEFO:0002067 polyA plus RNA-seq\t-\tpolyA plus RNA-seq\tEFO:0002067\tK562\tcell_line\t\t0.0\t1.1377566e-12\n",
      "chr11:5227022:G>G\tchr11:5225998-5228046:.\tENSG00000244734\tHBB\tprotein_coding\t-\t\t\tRNA_SEQ\tGeneMaskLFCScorer(requested_output=RNA_SEQ)\tEFO:0002067 total RNA-seq\t-\ttotal RNA-seq\tEFO:0002067\tK562\tcell_line\t\t0.0\t1.1377566e-12\n",
      "chr11:5227022:G>G\tchr11:5225998-5228046:.\tENSG00000244734\tHBB\tprotein_coding\t-\t\t\tRNA_SEQ\tGeneMaskLFCScorer(requested_output=RNA_SEQ)\tEFO:0002067 polyA plus RNA-seq\t.\tpolyA plus RNA-seq\tEFO:0002067\tK562\tcell_line\t\t0.0\t1.1377566e-12\n",
      "chr11:5227022:G>C\tchr11:5225998-5228046:.\tENSG00000244734\tHBB\tprotein_coding\t-\t\t\tRNA_SEQ\tGeneMaskLFCScorer(requested_output=RNA_SEQ)\tEFO:0002067 polyA plus RNA-seq\t-\tpolyA plus RNA-seq\tEFO:0002067\tK562\tcell_line\t\t-0.046304703\t-0.99957967\n",
      "chr11:5227022:G>C\tchr11:5225998-5228046:.\tENSG00000244734\tHBB\tprotein_coding\t-\t\t\tRNA_SEQ\tGeneMaskLFCScorer(requested_output=RNA_SEQ)\tEFO:0002067 total RNA-seq\t-\ttotal RNA-seq\tEFO:0002067\tK562\tcell_line\t\t-0.023067951\t-0.9990577\n",
      "chr11:5227022:G>C\tchr11:5225998-5228046:.\tENSG00000244734\tHBB\tprotein_coding\t-\t\t\tRNA_SEQ\tGeneMaskLFCScorer(requested_output=RNA_SEQ)\tEFO:0002067 polyA plus RNA-seq\t.\tpolyA plus RNA-seq\tEFO:0002067\tK562\tcell_line\t\t-0.04114437\t-0.9995283\n",
      "chr11:5227022:G>A\tchr11:5225998-5228046:.\tENSG00000244734\tHBB\tprotein_coding\t-\t\t\tRNA_SEQ\tGeneMaskLFCScorer(requested_output=RNA_SEQ)\tEFO:0002067 polyA plus RNA-seq\t-\tpolyA plus RNA-seq\tEFO:0002067\tK562\tcell_line\t\t-0.027581692\t-0.99916035\n",
      "chr11:5227022:G>A\tchr11:5225998-5228046:.\tENSG00000244734\tHBB\tprotein_coding\t-\t\t\tRNA_SEQ\tGeneMaskLFCScorer(requested_output=RNA_SEQ)\tEFO:0002067 total RNA-seq\t-\ttotal RNA-seq\tEFO:0002067\tK562\tcell_line\t\t-0.005818367\t-0.9747807\n",
      "chr11:5227022:G>A\tchr11:5225998-5228046:.\tENSG00000244734\tHBB\tprotein_coding\t-\t\t\tRNA_SEQ\tGeneMaskLFCScorer(requested_output=RNA_SEQ)\tEFO:0002067 polyA plus RNA-seq\t.\tpolyA plus RNA-seq\tEFO:0002067\tK562\tcell_line\t\t-0.010383606\t-0.9923346\n"
     ]
    }
   ],
   "source": [
    "cat ${FP_LOG_OUT}"
   ]
  },
  {
   "cell_type": "code",
   "execution_count": 20,
   "id": "f3f7c728-1051-4802-8789-0ef2c136bf4d",
   "metadata": {},
   "outputs": [
    {
     "name": "stdout",
     "output_type": "stream",
     "text": [
      "/usr/local/lib/python3.11/site-packages/google/protobuf/runtime_version.py:98: UserWarning: Protobuf gencode version 5.27.2 is exactly one major version older than the runtime version 6.31.1 at alphagenome/protos/dna_model.proto. Please update the gencode to avoid compatibility violations in the next runtime release.\n",
      "  warnings.warn(\n",
      "/usr/local/lib/python3.11/site-packages/google/protobuf/runtime_version.py:98: UserWarning: Protobuf gencode version 5.27.2 is exactly one major version older than the runtime version 6.31.1 at alphagenome/protos/tensor.proto. Please update the gencode to avoid compatibility violations in the next runtime release.\n",
      "  warnings.warn(\n"
     ]
    }
   ],
   "source": [
    "cat ${FP_LOG_ERR}"
   ]
  },
  {
   "cell_type": "code",
   "execution_count": null,
   "id": "4c39db4f-826c-4d28-b77d-da22c464423a",
   "metadata": {},
   "outputs": [],
   "source": []
  },
  {
   "cell_type": "code",
   "execution_count": 21,
   "id": "e9fb96c6-c75b-4222-aec7-f7b81246e289",
   "metadata": {},
   "outputs": [
    {
     "name": "stdout",
     "output_type": "stream",
     "text": [
      "Submitted batch job 34431010\n"
     ]
    }
   ],
   "source": [
    "FD_INP=${FD_RES}/predict_variant_alphagenome\n",
    "FN_INP=\"variant_test_chunk_100.tsv\"\n",
    "FP_INP=${FD_INP}/${FN_INP}\n",
    "\n",
    "FD_OUT=${FD_INP}\n",
    "FN_OUT=\"result.variant.test_chunk_100.tsv\"\n",
    "FP_OUT=${FD_OUT}/${FN_OUT}\n",
    "\n",
    "FN_EXE=\"run_alphagenome_variant_prediction.sh\"\n",
    "FP_EXE=${FD_EXE}/${FN_EXE}\n",
    "\n",
    "FN_LOG_OUT=\"alphagenome.runtime.variant.test_chunk_100.out\"\n",
    "FP_LOG_OUT=${FD_LOG}/${FN_LOG_OUT}\n",
    "FN_LOG_ERR=\"alphagenome.runtime.variant.test_chunk_100.err\"\n",
    "FP_LOG_ERR=${FD_LOG}/${FN_LOG_ERR}\n",
    "\n",
    "sbatch \\\n",
    "    -A majoroslab \\\n",
    "    -p igvf \\\n",
    "    --cpus-per-task 2 \\\n",
    "    --mem 4G \\\n",
    "    --output ${FP_LOG_OUT} \\\n",
    "    --error  ${FP_LOG_ERR} \\\n",
    "    --chdir  ${FD_EXE} \\\n",
    "    ${FP_EXE} ${FP_INP} ${FP_OUT} \"2KB\" \"RNA_SEQ\" \"K562\""
   ]
  },
  {
   "cell_type": "code",
   "execution_count": 22,
   "id": "2cfea77b-bab0-44ef-be4d-4602ec7599cb",
   "metadata": {},
   "outputs": [
    {
     "name": "stdout",
     "output_type": "stream",
     "text": [
      "Hostname:           dcc-allenlab-01\n",
      "Slurm Array Index:  NA\n",
      "Time Stamp:         08-24-25+22:40:40\n",
      "\n",
      "Input:  /hpc/group/igvf/kk319/repo/Proj_IGVF_BlueSTARR/results/predict_variant_alphagenome/variant_test_chunk_100.tsv\n",
      "\n",
      "show first few lines of input\n",
      "chr11:5227021-5227208\t5227021\tG\tG\n",
      "chr11:5227021-5227208\t5227021\tG\tC\n",
      "chr11:5227021-5227208\t5227021\tG\tA\n",
      "chr11:5227021-5227208\t5227021\tG\tT\n",
      "chr11:5227021-5227208\t5227022\tG\tG\n",
      "chr11:5227021-5227208\t5227022\tG\tC\n",
      "chr11:5227021-5227208\t5227022\tG\tA\n",
      "chr11:5227021-5227208\t5227022\tG\tT\n",
      "chr11:5227021-5227208\t5227023\tT\tG\n",
      "chr11:5227021-5227208\t5227023\tT\tC\n",
      "\n",
      "\n",
      "Output:  /hpc/group/igvf/kk319/repo/Proj_IGVF_BlueSTARR/results/predict_variant_alphagenome/result.variant.test_chunk_100.tsv\n",
      "\n",
      "show first few lines of output:\n",
      "variant_id\tscored_interval\tgene_id\tgene_name\tgene_type\tgene_strand\tjunction_Start\tjunction_End\toutput_type\tvariant_scorer\ttrack_name\ttrack_strand\tAssay title\tontology_curie\tbiosample_name\tbiosample_type\tgtex_tissue\traw_score\tquantile_score\n",
      "chr11:5227022:G>G\tchr11:5225998-5228046:.\tENSG00000244734\tHBB\tprotein_coding\t-\t\t\tRNA_SEQ\tGeneMaskLFCScorer(requested_output=RNA_SEQ)\tEFO:0002067 polyA plus RNA-seq\t-\tpolyA plus RNA-seq\tEFO:0002067\tK562\tcell_line\t\t0.0\t1.1377566e-12\n",
      "chr11:5227022:G>G\tchr11:5225998-5228046:.\tENSG00000244734\tHBB\tprotein_coding\t-\t\t\tRNA_SEQ\tGeneMaskLFCScorer(requested_output=RNA_SEQ)\tEFO:0002067 total RNA-seq\t-\ttotal RNA-seq\tEFO:0002067\tK562\tcell_line\t\t0.0\t1.1377566e-12\n",
      "chr11:5227022:G>G\tchr11:5225998-5228046:.\tENSG00000244734\tHBB\tprotein_coding\t-\t\t\tRNA_SEQ\tGeneMaskLFCScorer(requested_output=RNA_SEQ)\tEFO:0002067 polyA plus RNA-seq\t.\tpolyA plus RNA-seq\tEFO:0002067\tK562\tcell_line\t\t0.0\t1.1377566e-12\n",
      "chr11:5227022:G>C\tchr11:5225998-5228046:.\tENSG00000244734\tHBB\tprotein_coding\t-\t\t\tRNA_SEQ\tGeneMaskLFCScorer(requested_output=RNA_SEQ)\tEFO:0002067 polyA plus RNA-seq\t-\tpolyA plus RNA-seq\tEFO:0002067\tK562\tcell_line\t\t-0.046304703\t-0.99957967\n",
      "chr11:5227022:G>C\tchr11:5225998-5228046:.\tENSG00000244734\tHBB\tprotein_coding\t-\t\t\tRNA_SEQ\tGeneMaskLFCScorer(requested_output=RNA_SEQ)\tEFO:0002067 total RNA-seq\t-\ttotal RNA-seq\tEFO:0002067\tK562\tcell_line\t\t-0.023067951\t-0.9990577\n",
      "chr11:5227022:G>C\tchr11:5225998-5228046:.\tENSG00000244734\tHBB\tprotein_coding\t-\t\t\tRNA_SEQ\tGeneMaskLFCScorer(requested_output=RNA_SEQ)\tEFO:0002067 polyA plus RNA-seq\t.\tpolyA plus RNA-seq\tEFO:0002067\tK562\tcell_line\t\t-0.04114437\t-0.9995283\n",
      "chr11:5227022:G>A\tchr11:5225998-5228046:.\tENSG00000244734\tHBB\tprotein_coding\t-\t\t\tRNA_SEQ\tGeneMaskLFCScorer(requested_output=RNA_SEQ)\tEFO:0002067 polyA plus RNA-seq\t-\tpolyA plus RNA-seq\tEFO:0002067\tK562\tcell_line\t\t-0.027581692\t-0.99916035\n",
      "chr11:5227022:G>A\tchr11:5225998-5228046:.\tENSG00000244734\tHBB\tprotein_coding\t-\t\t\tRNA_SEQ\tGeneMaskLFCScorer(requested_output=RNA_SEQ)\tEFO:0002067 total RNA-seq\t-\ttotal RNA-seq\tEFO:0002067\tK562\tcell_line\t\t-0.005818367\t-0.9747807\n",
      "chr11:5227022:G>A\tchr11:5225998-5228046:.\tENSG00000244734\tHBB\tprotein_coding\t-\t\t\tRNA_SEQ\tGeneMaskLFCScorer(requested_output=RNA_SEQ)\tEFO:0002067 polyA plus RNA-seq\t.\tpolyA plus RNA-seq\tEFO:0002067\tK562\tcell_line\t\t-0.010383606\t-0.9923346\n",
      "\n",
      "\n",
      "Done!\n",
      "Run Time: 18 seconds\n",
      "\n"
     ]
    }
   ],
   "source": [
    "cat ${FP_LOG_OUT}"
   ]
  },
  {
   "cell_type": "code",
   "execution_count": 23,
   "id": "f1116377-2156-41f2-9143-b3ed7385a728",
   "metadata": {},
   "outputs": [
    {
     "name": "stdout",
     "output_type": "stream",
     "text": [
      "Submitted batch job 34431019\n"
     ]
    }
   ],
   "source": [
    "FD_INP=${FD_RES}/predict_variant_alphagenome\n",
    "FN_INP=\"variant_test_chunk_1000.tsv\"\n",
    "FP_INP=${FD_INP}/${FN_INP}\n",
    "\n",
    "FD_OUT=${FD_INP}\n",
    "FN_OUT=\"result.variant.test_chunk_1000.tsv\"\n",
    "FP_OUT=${FD_OUT}/${FN_OUT}\n",
    "\n",
    "FN_EXE=\"run_alphagenome_variant_prediction.sh\"\n",
    "FP_EXE=${FD_EXE}/${FN_EXE}\n",
    "\n",
    "FN_LOG_PRE=\"alphagenome.runtime.variant.test_chunk_1000\"\n",
    "FN_LOG_OUT=\"${FN_LOG_PRE}.out\"\n",
    "FP_LOG_OUT=${FD_LOG}/${FN_LOG_OUT}\n",
    "FN_LOG_ERR=\"${FN_LOG_PRE}.err\"\n",
    "FP_LOG_ERR=${FD_LOG}/${FN_LOG_ERR}\n",
    "\n",
    "sbatch \\\n",
    "    -A majoroslab \\\n",
    "    -p igvf \\\n",
    "    --cpus-per-task 2 \\\n",
    "    --mem 4G \\\n",
    "    --output ${FP_LOG_OUT} \\\n",
    "    --error  ${FP_LOG_ERR} \\\n",
    "    --chdir  ${FD_EXE} \\\n",
    "    ${FP_EXE} ${FP_INP} ${FP_OUT} \"2KB\" \"RNA_SEQ\" \"K562\""
   ]
  },
  {
   "cell_type": "code",
   "execution_count": null,
   "id": "3bb3d114-0ba3-461d-8b2e-66c2ec9011b6",
   "metadata": {},
   "outputs": [],
   "source": []
  },
  {
   "cell_type": "code",
   "execution_count": null,
   "id": "c772dec7-895d-46cb-ae99-5d2c1e73caab",
   "metadata": {},
   "outputs": [],
   "source": []
  },
  {
   "cell_type": "code",
   "execution_count": 12,
   "id": "0df05fea-648d-4db9-a45b-9a481abb0b0a",
   "metadata": {},
   "outputs": [
    {
     "name": "stdout",
     "output_type": "stream",
     "text": [
      "Submitted batch job 34297518\n"
     ]
    }
   ],
   "source": [
    "FD_INP=${FD_RES}/predict_variant_alphagenome\n",
    "FN_INP=\"variant_test_example.tsv\"\n",
    "FP_INP=${FD_INP}/${FN_INP}\n",
    "\n",
    "FD_OUT=${FD_INP}\n",
    "FN_OUT=\"result.variant.test_example.tsv\"\n",
    "FP_OUT=${FD_OUT}/${FN_OUT}\n",
    "\n",
    "#FD_EXE=/hpc/group/igvf/kk319/repo/Proj_IGVF_BlueSTARR/scripts\n",
    "#FD_LOG=/hpc/group/igvf/kk319/repo/Proj_IGVF_BlueSTARR/log\n",
    "\n",
    "FN_EXE=\"run_alphagenome_variant_prediction.sh\"\n",
    "FP_EXE=${FD_EXE}/${FN_EXE}\n",
    "\n",
    "FN_LOG_OUT=\"alphagenome.runtime.variant.test_example.out\"\n",
    "FP_LOG_OUT=${FD_LOG}/${FN_LOG_OUT}\n",
    "FN_LOG_ERR=\"alphagenome.runtime.variant.test_example.err\"\n",
    "FP_LOG_ERR=${FD_LOG}/${FN_LOG_ERR}\n",
    "\n",
    "sbatch \\\n",
    "    -A majoroslab \\\n",
    "    -p igvf \\\n",
    "    --cpus-per-task 2 \\\n",
    "    --mem 4G \\\n",
    "    --output ${FP_LOG_OUT} \\\n",
    "    --error  ${FP_LOG_ERR} \\\n",
    "    --chdir  ${FD_EXE} << 'EOF'\n",
    "#!/bin/bash\n",
    "set -euo pipefail\n",
    "\n",
    "# ---- start message ----\n",
    "timer_start=`date +%s`\n",
    "echo \"Hostname:          \" $(hostname)\n",
    "echo \"Slurm Array Index: \" ${SLURM_ARRAY_TASK_ID-NA}\n",
    "echo \"Time Stamp:        \" $(date +\"%m-%d-%y+%T\")\n",
    "echo\n",
    "\n",
    "# ---- setup env ----\n",
    "#     get project root path\n",
    "#     load helper functions\n",
    "source config_project.sh\n",
    "\n",
    "# ---- show input ----\n",
    "echo \"Input: \" ${FP_INP1}\n",
    "echo\n",
    "echo \"show first few lines of input\"\n",
    "fun_cat ${FP_INP} | head\n",
    "echo\n",
    "\n",
    "# ---- execute ----\n",
    "run_alphagenome python run_alphagenome_variant_prediction.py \\\n",
    "    -i ${FP_INP} \\\n",
    "    -o ${FP_OUT} \\\n",
    "    -s \"2KB\" \\\n",
    "    -c \"RNA_SEQ\" \\\n",
    "    -b \"k562\"\n",
    "\n",
    "# ---- show input ----\n",
    "echo\n",
    "echo \"Output: \" ${FP_OUT}\n",
    "echo\n",
    "echo \"show first few lines of output:\"\n",
    "fun_cat ${FP_OUT} | head\n",
    "echo\n",
    "\n",
    "# ---- end message ----\n",
    "timer=`date +%s`\n",
    "runtime=$(( timer - timer_start ))\n",
    "echo\n",
    "echo 'Done!'\n",
    "echo \"Run Time: $(displaytime ${runtime})\"\n",
    "EOF"
   ]
  },
  {
   "cell_type": "code",
   "execution_count": 13,
   "id": "20a375ae-4dc6-40ee-81e5-2b1d5864c12c",
   "metadata": {},
   "outputs": [
    {
     "name": "stdout",
     "output_type": "stream",
     "text": [
      "Hostname:           dcc-allenlab-01\n",
      "Slurm Array Index:  NA\n",
      "Time Stamp:         08-21-25+10:16:22\n",
      "\n",
      "<alphagenome.models.dna_client.DnaClient object at 0x7fc6688e9e10>\n",
      "chrom=chr11, start=5227021, end=5227208, pos=5227021, ref=G, alt=C\n",
      "chr11:5227022:G>C\n",
      "chr11:5225998-5228046:.\n",
      "           variant_id          scored_interval  ... raw_score quantile_score\n",
      "60  chr11:5227022:G>C  chr11:5225998-5228046:.  ... -0.014407      -0.431257\n",
      "\n",
      "[1 rows x 7 columns]\n",
      "chrom=chr11, start=5227021, end=5227208, pos=5227021, ref=G, alt=C\n",
      "chr11:5227022:G>C\n",
      "chr11:5225998-5228046:.\n",
      "           variant_id          scored_interval  ... raw_score quantile_score\n",
      "60  chr11:5227022:G>C  chr11:5225998-5228046:.  ... -0.014407      -0.431257\n",
      "\n",
      "[1 rows x 7 columns]\n",
      "chrom=chr11, start=5227021, end=5227208, pos=5227021, ref=G, alt=C\n",
      "chr11:5227022:G>C\n",
      "chr11:5225998-5228046:.\n",
      "           variant_id          scored_interval  ... raw_score quantile_score\n",
      "60  chr11:5227022:G>C  chr11:5225998-5228046:.  ... -0.014407      -0.431257\n",
      "\n",
      "[1 rows x 7 columns]\n",
      "chrom=chr11, start=5227021, end=5227208, pos=5227021, ref=G, alt=C\n",
      "chr11:5227022:G>C\n",
      "chr11:5225998-5228046:.\n",
      "           variant_id          scored_interval  ... raw_score quantile_score\n",
      "60  chr11:5227022:G>C  chr11:5225998-5228046:.  ... -0.014407      -0.431257\n",
      "\n",
      "[1 rows x 7 columns]\n",
      "chrom=chr11, start=5227021, end=5227208, pos=5227021, ref=G, alt=C\n",
      "chr11:5227022:G>C\n",
      "chr11:5225998-5228046:.\n",
      "           variant_id          scored_interval  ... raw_score quantile_score\n",
      "60  chr11:5227022:G>C  chr11:5225998-5228046:.  ... -0.014407      -0.431257\n",
      "\n",
      "[1 rows x 7 columns]\n",
      "chrom=chr11, start=5227021, end=5227208, pos=5227021, ref=G, alt=C\n",
      "chr11:5227022:G>C\n",
      "chr11:5225998-5228046:.\n",
      "           variant_id          scored_interval  ... raw_score quantile_score\n",
      "60  chr11:5227022:G>C  chr11:5225998-5228046:.  ... -0.014407      -0.431257\n",
      "\n",
      "[1 rows x 7 columns]\n",
      "chrom=chr11, start=5227021, end=5227208, pos=5227021, ref=G, alt=C\n",
      "chr11:5227022:G>C\n",
      "chr11:5225998-5228046:.\n",
      "           variant_id          scored_interval  ... raw_score quantile_score\n",
      "60  chr11:5227022:G>C  chr11:5225998-5228046:.  ... -0.014407      -0.431257\n",
      "\n",
      "[1 rows x 7 columns]\n",
      "chrom=chr11, start=5227021, end=5227208, pos=5227021, ref=G, alt=C\n",
      "chr11:5227022:G>C\n",
      "chr11:5225998-5228046:.\n",
      "           variant_id          scored_interval  ... raw_score quantile_score\n",
      "60  chr11:5227022:G>C  chr11:5225998-5228046:.  ... -0.014407      -0.431257\n",
      "\n",
      "[1 rows x 7 columns]\n",
      "chrom=chr11, start=5227021, end=5227208, pos=5227021, ref=G, alt=C\n",
      "chr11:5227022:G>C\n",
      "chr11:5225998-5228046:.\n",
      "           variant_id          scored_interval  ... raw_score quantile_score\n",
      "60  chr11:5227022:G>C  chr11:5225998-5228046:.  ... -0.014407      -0.431257\n",
      "\n",
      "[1 rows x 7 columns]\n",
      "chrom=chr11, start=5227021, end=5227208, pos=5227021, ref=G, alt=C\n",
      "chr11:5227022:G>C\n",
      "chr11:5225998-5228046:.\n",
      "           variant_id          scored_interval  ... raw_score quantile_score\n",
      "60  chr11:5227022:G>C  chr11:5225998-5228046:.  ... -0.014407      -0.431257\n",
      "\n",
      "[1 rows x 7 columns]\n",
      "\n",
      "Done!\n",
      "Run Time: 5 seconds\n"
     ]
    }
   ],
   "source": [
    "cat ${FP_LOG_OUT}"
   ]
  },
  {
   "cell_type": "code",
   "execution_count": 14,
   "id": "e8bb058d-8613-4971-bea1-d7d92861cf84",
   "metadata": {},
   "outputs": [
    {
     "name": "stdout",
     "output_type": "stream",
     "text": [
      "/usr/local/lib/python3.11/site-packages/google/protobuf/runtime_version.py:98: UserWarning: Protobuf gencode version 5.27.2 is exactly one major version older than the runtime version 6.31.1 at alphagenome/protos/dna_model.proto. Please update the gencode to avoid compatibility violations in the next runtime release.\n",
      "  warnings.warn(\n",
      "/usr/local/lib/python3.11/site-packages/google/protobuf/runtime_version.py:98: UserWarning: Protobuf gencode version 5.27.2 is exactly one major version older than the runtime version 6.31.1 at alphagenome/protos/tensor.proto. Please update the gencode to avoid compatibility violations in the next runtime release.\n",
      "  warnings.warn(\n"
     ]
    }
   ],
   "source": [
    "cat ${FP_LOG_ERR}"
   ]
  },
  {
   "cell_type": "code",
   "execution_count": null,
   "id": "f5a0fffc-4e00-4dcf-9849-855abc7a34c4",
   "metadata": {},
   "outputs": [],
   "source": []
  }
 ],
 "metadata": {
  "kernelspec": {
   "display_name": "Bash",
   "language": "bash",
   "name": "bash"
  },
  "language_info": {
   "codemirror_mode": "shell",
   "file_extension": ".sh",
   "mimetype": "text/x-sh",
   "name": "bash"
  }
 },
 "nbformat": 4,
 "nbformat_minor": 5
}
