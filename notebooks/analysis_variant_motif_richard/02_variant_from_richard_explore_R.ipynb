{
 "cells": [
  {
   "cell_type": "raw",
   "id": "10e5ba52-ba9f-4497-8397-4083885d0164",
   "metadata": {},
   "source": [
    "---\n",
    "title: Variant results from Richard 02\n",
    "subtitle: Explore tables \n",
    "format:\n",
    "    html:\n",
    "        code-fold:  true\n",
    "        code-tools: true\n",
    "---"
   ]
  },
  {
   "cell_type": "markdown",
   "id": "3a9182f2-cfcf-4ea3-b296-7495b5e6cb56",
   "metadata": {},
   "source": [
    "**Set environment**"
   ]
  },
  {
   "cell_type": "code",
   "execution_count": 1,
   "id": "a5f0750e-7019-49b0-ab54-7ca48ce15250",
   "metadata": {},
   "outputs": [
    {
     "name": "stdout",
     "output_type": "stream",
     "text": [
      "BASE DIRECTORY (FD_BASE): /hpc/group/igvf/kk319 \n",
      "REPO DIRECTORY (FD_REPO): /hpc/group/igvf/kk319/repo \n",
      "WORK DIRECTORY (FD_WORK): /hpc/group/igvf/kk319/work \n",
      "DATA DIRECTORY (FD_DATA): /hpc/group/igvf/kk319/data \n",
      "\n",
      "You are working with      IGVF BlueSTARR \n",
      "PATH OF PROJECT (FD_PRJ): /hpc/group/igvf/kk319/repo/Proj_IGVF_BlueSTARR \n",
      "PROJECT RESULTS (FD_RES): /hpc/group/igvf/kk319/repo/Proj_IGVF_BlueSTARR/results \n",
      "PROJECT SCRIPTS (FD_EXE): /hpc/group/igvf/kk319/repo/Proj_IGVF_BlueSTARR/scripts \n",
      "PROJECT DATA    (FD_DAT): /hpc/group/igvf/kk319/repo/Proj_IGVF_BlueSTARR/data \n",
      "PROJECT NOTE    (FD_NBK): /hpc/group/igvf/kk319/repo/Proj_IGVF_BlueSTARR/notebooks \n",
      "PROJECT DOCS    (FD_DOC): /hpc/group/igvf/kk319/repo/Proj_IGVF_BlueSTARR/docs \n",
      "PROJECT LOG     (FD_LOG): /hpc/group/igvf/kk319/repo/Proj_IGVF_BlueSTARR/log \n",
      "PROJECT REF     (FD_REF): /hpc/group/igvf/kk319/repo/Proj_IGVF_BlueSTARR/references \n",
      "\n"
     ]
    }
   ],
   "source": [
    "suppressMessages(suppressWarnings(source(\"../run_config_project.R\")))\n",
    "show_env()"
   ]
  },
  {
   "cell_type": "markdown",
   "id": "12588042-948d-4b38-9ec8-222211171d18",
   "metadata": {},
   "source": [
    "## Import data"
   ]
  },
  {
   "cell_type": "markdown",
   "id": "8451d775-5e1c-4356-b5cc-82b12046b16f",
   "metadata": {},
   "source": [
    "**Check file existence**"
   ]
  },
  {
   "cell_type": "code",
   "execution_count": 3,
   "id": "4cb57237-2c51-4a79-a0ff-f2cc082b5b86",
   "metadata": {},
   "outputs": [
    {
     "name": "stdout",
     "output_type": "stream",
     "text": [
      "annotated_snv_sites_filtered.tsv.gz \n",
      "annotated_snv_sites.tsv.gz \n",
      "regions_GoF_only.fasta.gz \n",
      "regions.fasta.gz \n"
     ]
    }
   ],
   "source": [
    "### set file directory\n",
    "txt_fdiry = file.path(FD_DAT, \"variant_bluestarr_richard\", \"closed\")\n",
    "vec = dir(txt_fdiry)\n",
    "for (txt in vec){cat(txt, \"\\n\")}"
   ]
  },
  {
   "cell_type": "markdown",
   "id": "3c0696dd-93fc-4fde-8d46-9aeee551290f",
   "metadata": {},
   "source": [
    "**Import table**"
   ]
  },
  {
   "cell_type": "code",
   "execution_count": 5,
   "id": "2a7faadc-ad7e-4ae8-867a-f163490a0856",
   "metadata": {},
   "outputs": [
    {
     "name": "stdout",
     "output_type": "stream",
     "text": [
      "[1] 1885038       6\n"
     ]
    },
    {
     "data": {
      "text/html": [
       "<table>\n",
       " <thead>\n",
       "  <tr>\n",
       "   <th style=\"text-align:left;\"> region </th>\n",
       "   <th style=\"text-align:right;\"> pos0 </th>\n",
       "   <th style=\"text-align:right;\"> delta </th>\n",
       "   <th style=\"text-align:left;\"> ref </th>\n",
       "   <th style=\"text-align:left;\"> obs </th>\n",
       "   <th style=\"text-align:left;\"> unobs </th>\n",
       "  </tr>\n",
       " </thead>\n",
       "<tbody>\n",
       "  <tr>\n",
       "   <td style=\"text-align:left;\"> chr4:74487576-74488141 </td>\n",
       "   <td style=\"text-align:right;\"> 74487586 </td>\n",
       "   <td style=\"text-align:right;\"> 0.9649841 </td>\n",
       "   <td style=\"text-align:left;\"> A </td>\n",
       "   <td style=\"text-align:left;\"> G </td>\n",
       "   <td style=\"text-align:left;\"> C </td>\n",
       "  </tr>\n",
       "  <tr>\n",
       "   <td style=\"text-align:left;\"> chr9:135685425-135685942 </td>\n",
       "   <td style=\"text-align:right;\"> 135685432 </td>\n",
       "   <td style=\"text-align:right;\"> 0.9454227 </td>\n",
       "   <td style=\"text-align:left;\"> G </td>\n",
       "   <td style=\"text-align:left;\"> G </td>\n",
       "   <td style=\"text-align:left;\"> C </td>\n",
       "  </tr>\n",
       "  <tr>\n",
       "   <td style=\"text-align:left;\"> chr1:173251481-173251541 </td>\n",
       "   <td style=\"text-align:right;\"> 173251490 </td>\n",
       "   <td style=\"text-align:right;\"> 0.9101272 </td>\n",
       "   <td style=\"text-align:left;\"> G </td>\n",
       "   <td style=\"text-align:left;\"> G </td>\n",
       "   <td style=\"text-align:left;\"> C </td>\n",
       "  </tr>\n",
       "</tbody>\n",
       "</table>"
      ]
     },
     "metadata": {},
     "output_type": "display_data"
    }
   ],
   "source": [
    "### set file directory\n",
    "txt_fdiry = file.path(FD_DAT, \"variant_bluestarr_richard\", \"closed\")\n",
    "txt_fname = \"annotated_snv_sites.tsv.gz\"\n",
    "txt_fpath = file.path(txt_fdiry, txt_fname)\n",
    "\n",
    "### read table\n",
    "dat = read_tsv(txt_fpath, show_col_types = FALSE)\n",
    "\n",
    "### assign and show\n",
    "dat_region_variant_unfilter = dat\n",
    "print(dim(dat))\n",
    "fun_display_table(head(dat, 3))"
   ]
  },
  {
   "cell_type": "code",
   "execution_count": 4,
   "id": "50bedab7-9bf7-4ddb-914b-b06fc8dec83e",
   "metadata": {},
   "outputs": [
    {
     "name": "stdout",
     "output_type": "stream",
     "text": [
      "[1] 1884977       6\n"
     ]
    },
    {
     "data": {
      "text/html": [
       "<table>\n",
       " <thead>\n",
       "  <tr>\n",
       "   <th style=\"text-align:left;\"> region </th>\n",
       "   <th style=\"text-align:right;\"> pos0 </th>\n",
       "   <th style=\"text-align:right;\"> delta </th>\n",
       "   <th style=\"text-align:left;\"> ref </th>\n",
       "   <th style=\"text-align:left;\"> obs </th>\n",
       "   <th style=\"text-align:left;\"> unobs </th>\n",
       "  </tr>\n",
       " </thead>\n",
       "<tbody>\n",
       "  <tr>\n",
       "   <td style=\"text-align:left;\"> chr4:74487576-74488141 </td>\n",
       "   <td style=\"text-align:right;\"> 74487586 </td>\n",
       "   <td style=\"text-align:right;\"> 0.9649841 </td>\n",
       "   <td style=\"text-align:left;\"> A </td>\n",
       "   <td style=\"text-align:left;\"> G </td>\n",
       "   <td style=\"text-align:left;\"> C </td>\n",
       "  </tr>\n",
       "  <tr>\n",
       "   <td style=\"text-align:left;\"> chr9:135685425-135685942 </td>\n",
       "   <td style=\"text-align:right;\"> 135685432 </td>\n",
       "   <td style=\"text-align:right;\"> 0.9454227 </td>\n",
       "   <td style=\"text-align:left;\"> G </td>\n",
       "   <td style=\"text-align:left;\"> G </td>\n",
       "   <td style=\"text-align:left;\"> C </td>\n",
       "  </tr>\n",
       "  <tr>\n",
       "   <td style=\"text-align:left;\"> chr1:173251481-173251541 </td>\n",
       "   <td style=\"text-align:right;\"> 173251490 </td>\n",
       "   <td style=\"text-align:right;\"> 0.9101272 </td>\n",
       "   <td style=\"text-align:left;\"> G </td>\n",
       "   <td style=\"text-align:left;\"> G </td>\n",
       "   <td style=\"text-align:left;\"> C </td>\n",
       "  </tr>\n",
       "</tbody>\n",
       "</table>"
      ]
     },
     "metadata": {},
     "output_type": "display_data"
    }
   ],
   "source": [
    "### set file directory\n",
    "txt_fdiry = file.path(FD_DAT, \"variant_bluestarr_richard\", \"closed\")\n",
    "txt_fname = \"annotated_snv_sites_filtered.tsv.gz\"\n",
    "txt_fpath = file.path(txt_fdiry, txt_fname)\n",
    "\n",
    "### read table\n",
    "dat = read_tsv(txt_fpath, show_col_types = FALSE)\n",
    "\n",
    "### assign and show\n",
    "dat_region_variant_filter = dat\n",
    "print(dim(dat))\n",
    "fun_display_table(head(dat, 3))"
   ]
  },
  {
   "cell_type": "markdown",
   "id": "f68c4b1e-f56c-417d-ba81-fa8a0ef5c36a",
   "metadata": {},
   "source": [
    "**Check table**"
   ]
  },
  {
   "cell_type": "code",
   "execution_count": 6,
   "id": "bed17c77-b2d5-4a39-97e7-386bb535d3d4",
   "metadata": {},
   "outputs": [
    {
     "data": {
      "text/html": [
       "FALSE"
      ],
      "text/latex": [
       "FALSE"
      ],
      "text/markdown": [
       "FALSE"
      ],
      "text/plain": [
       "[1] FALSE"
      ]
     },
     "metadata": {},
     "output_type": "display_data"
    }
   ],
   "source": [
    "dat = dat_region_variant_unfilter\n",
    "cat(\"Missing?\", any(is.na(dat)))"
   ]
  },
  {
   "cell_type": "code",
   "execution_count": 8,
   "id": "5e6cf5e6-18ab-463d-a6fc-d3a4e6d2f0e9",
   "metadata": {},
   "outputs": [
    {
     "name": "stdout",
     "output_type": "stream",
     "text": [
      "Missing? FALSE"
     ]
    }
   ],
   "source": [
    "dat = dat_region_variant_filter\n",
    "cat(\"Missing?\", any(is.na(dat)))"
   ]
  },
  {
   "cell_type": "code",
   "execution_count": 11,
   "id": "6b8e612b-54cd-40a0-9874-960da59c3630",
   "metadata": {},
   "outputs": [
    {
     "data": {
      "text/html": [
       "61"
      ],
      "text/latex": [
       "61"
      ],
      "text/markdown": [
       "61"
      ],
      "text/plain": [
       "[1] 61"
      ]
     },
     "metadata": {},
     "output_type": "display_data"
    }
   ],
   "source": [
    "1885038 - 1884977"
   ]
  },
  {
   "cell_type": "markdown",
   "id": "cd6120ba-8a11-4758-b162-7af76c6ca9a8",
   "metadata": {},
   "source": [
    "## Explore: Distribution of delta"
   ]
  },
  {
   "cell_type": "code",
   "execution_count": 9,
   "id": "c0e4ba01-6ae6-4fd9-b48b-0a728e7b5c24",
   "metadata": {},
   "outputs": [
    {
     "data": {
      "text/plain": [
       "    Min.  1st Qu.   Median     Mean  3rd Qu.     Max. \n",
       "0.000000 0.002268 0.005376 0.008106 0.010677 0.964984 "
      ]
     },
     "metadata": {},
     "output_type": "display_data"
    }
   ],
   "source": [
    "dat = dat_region_variant_unfilter\n",
    "summary(dat$delta)"
   ]
  },
  {
   "cell_type": "code",
   "execution_count": 10,
   "id": "cddd5c37-50ad-47ea-a16d-b2cea1d1d6df",
   "metadata": {},
   "outputs": [
    {
     "data": {
      "text/plain": [
       "    Min.  1st Qu.   Median     Mean  3rd Qu.     Max. \n",
       "0.000000 0.002268 0.005376 0.008106 0.010677 0.964984 "
      ]
     },
     "metadata": {},
     "output_type": "display_data"
    }
   ],
   "source": [
    "dat = dat_region_variant_filter\n",
    "summary(dat$delta)"
   ]
  },
  {
   "cell_type": "code",
   "execution_count": 13,
   "id": "dfd8cb81-812a-43fd-b30c-354fbd890303",
   "metadata": {},
   "outputs": [
    {
     "data": {
      "image/png": "[encoded data removed]",
      "text/plain": [
       "plot without title"
      ]
     },
     "metadata": {
      "image/png": {
       "height": 240,
       "width": 420
      }
     },
     "output_type": "display_data"
    }
   ],
   "source": [
    "dat = dat_region_variant_filter\n",
    "gpt = ggplot(dat, aes(x=delta)) +\n",
    "    geom_histogram(bins = 50) +\n",
    "    theme_cowplot() +\n",
    "    background_grid()\n",
    "\n",
    "options(repr.plot.height=4, repr.plot.width=7)\n",
    "print(gpt)"
   ]
  },
  {
   "cell_type": "code",
   "execution_count": 17,
   "id": "e941f9fe-abd1-4046-adbc-2055cdbd0392",
   "metadata": {},
   "outputs": [
    {
     "name": "stderr",
     "output_type": "stream",
     "text": [
      "Warning message:\n",
      "“\u001b[1m\u001b[22mRemoved 11073 rows containing non-finite outside the scale range (`stat_bin()`).”\n",
      "Warning message:\n",
      "“\u001b[1m\u001b[22mRemoved 2 rows containing missing values or values outside the scale range (`geom_bar()`).”\n"
     ]
    },
    {
     "data": {
      "image/png": "[encoded data removed]",
      "text/plain": [
       "plot without title"
      ]
     },
     "metadata": {
      "image/png": {
       "height": 240,
       "width": 420
      }
     },
     "output_type": "display_data"
    }
   ],
   "source": [
    "dat = dat_region_variant_filter\n",
    "gpt = ggplot(dat, aes(x=delta)) +\n",
    "    geom_histogram(bins = 70) +\n",
    "    theme_cowplot() +\n",
    "    background_grid() +\n",
    "    xlim(0, 0.05)\n",
    "\n",
    "options(repr.plot.height=4, repr.plot.width=7)\n",
    "print(gpt)"
   ]
  },
  {
   "cell_type": "code",
   "execution_count": 18,
   "id": "e487f548-d6f4-402b-bd42-85a72720707d",
   "metadata": {},
   "outputs": [
    {
     "name": "stderr",
     "output_type": "stream",
     "text": [
      "Warning message in scale_x_log10():\n",
      "“\u001b[1m\u001b[22m\u001b[32mlog-10\u001b[39m transformation introduced infinite values.”\n",
      "Warning message:\n",
      "“\u001b[1m\u001b[22mRemoved 6 rows containing non-finite outside the scale range (`stat_bin()`).”\n"
     ]
    },
    {
     "data": {
      "image/png": "[encoded data removed]",
      "text/plain": [
       "plot without title"
      ]
     },
     "metadata": {
      "image/png": {
       "height": 240,
       "width": 420
      }
     },
     "output_type": "display_data"
    }
   ],
   "source": [
    "dat = dat_region_variant_filter\n",
    "gpt = ggplot(dat, aes(x=delta)) +\n",
    "    geom_histogram(bins = 100) +\n",
    "    theme_cowplot() +\n",
    "    background_grid() +\n",
    "    scale_x_log10()\n",
    "\n",
    "options(repr.plot.height=4, repr.plot.width=7)\n",
    "print(gpt)"
   ]
  },
  {
   "cell_type": "code",
   "execution_count": null,
   "id": "d0038686-388b-4c17-b810-772e61011da4",
   "metadata": {},
   "outputs": [],
   "source": []
  }
 ],
 "metadata": {
  "kernelspec": {
   "display_name": "R",
   "language": "R",
   "name": "ir"
  },
  "language_info": {
   "codemirror_mode": "r",
   "file_extension": ".r",
   "mimetype": "text/x-r-source",
   "name": "R",
   "pygments_lexer": "r",
   "version": "4.5.1"
  }
 },
 "nbformat": 4,
 "nbformat_minor": 5
}
