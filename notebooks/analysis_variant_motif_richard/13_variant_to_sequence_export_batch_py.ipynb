{
 "cells": [
  {
   "cell_type": "raw",
   "id": "ee90c485-32ea-4a98-9677-5947c8a66397",
   "metadata": {},
   "source": [
    "---\n",
    "title: Get sequence of variants 03\n",
    "subtitle: Create batches of sequence for later parallelization\n",
    "format:\n",
    "    html:\n",
    "        code-fold:  true\n",
    "        code-tools: true\n",
    "---"
   ]
  },
  {
   "cell_type": "markdown",
   "id": "c3f7b4d0-c307-4fc8-ae1a-9feb4b01b19d",
   "metadata": {},
   "source": [
    "**Set environment**"
   ]
  },
  {
   "cell_type": "code",
   "execution_count": 1,
   "id": "e676468d-1df3-4544-8c8d-f15147d2d139",
   "metadata": {},
   "outputs": [],
   "source": [
    "import numpy  as np\n",
    "import pandas as pd\n",
    "import os\n",
    "\n",
    "from Bio import SeqIO"
   ]
  },
  {
   "cell_type": "code",
   "execution_count": 2,
   "id": "b29b0a24-7d75-4ba2-9946-1be4c81125da",
   "metadata": {},
   "outputs": [
    {
     "name": "stdout",
     "output_type": "stream",
     "text": [
      "BASE DIRECTORY (FD_BASE): /hpc/group/igvf/kk319\n",
      "REPO DIRECTORY (FD_REPO): /hpc/group/igvf/kk319/repo\n",
      "WORK DIRECTORY (FD_WORK): /hpc/group/igvf/kk319/work\n",
      "DATA DIRECTORY (FD_DATA): /hpc/group/igvf/kk319/data\n",
      "\n",
      "\n",
      "You are working with      IGVF BlueSTARR\n",
      "PATH OF PROJECT (FD_PRJ): /hpc/group/igvf/kk319/repo/Proj_IGVF_BlueSTARR\n",
      "PROJECT RESULTS (FD_RES): /hpc/group/igvf/kk319/repo/Proj_IGVF_BlueSTARR/results\n",
      "PROJECT SCRIPTS (FD_EXE): /hpc/group/igvf/kk319/repo/Proj_IGVF_BlueSTARR/scripts\n",
      "PROJECT DATA    (FD_DAT): /hpc/group/igvf/kk319/repo/Proj_IGVF_BlueSTARR/data\n",
      "PROJECT NOTE    (FD_NBK): /hpc/group/igvf/kk319/repo/Proj_IGVF_BlueSTARR/notebooks\n",
      "PROJECT DOCS    (FD_DOC): /hpc/group/igvf/kk319/repo/Proj_IGVF_BlueSTARR/docs\n",
      "PROJECT LOG     (FD_LOG): /hpc/group/igvf/kk319/repo/Proj_IGVF_BlueSTARR/log\n",
      "PROJECT REF     (FD_REF): /hpc/group/igvf/kk319/repo/Proj_IGVF_BlueSTARR/references\n",
      "\n"
     ]
    }
   ],
   "source": [
    "%run ../run_config_project.py\n",
    "show_env()"
   ]
  },
  {
   "cell_type": "markdown",
   "id": "c6cfd6de-8ac6-4c13-8695-5b80bb6c0750",
   "metadata": {},
   "source": [
    "## Import data"
   ]
  },
  {
   "cell_type": "markdown",
   "id": "33e9859c-052e-4c46-8527-92d0c9782c5d",
   "metadata": {},
   "source": [
    "**Check file existent**"
   ]
  },
  {
   "cell_type": "code",
   "execution_count": 3,
   "id": "ec9532c4-f379-4f95-95de-156d8ee58c12",
   "metadata": {},
   "outputs": [
    {
     "name": "stdout",
     "output_type": "stream",
     "text": [
      "env: FD_RES=/hpc/group/igvf/kk319/repo/Proj_IGVF_BlueSTARR/results\n"
     ]
    }
   ],
   "source": [
    "%env FD_RES={FD_RES}"
   ]
  },
  {
   "cell_type": "code",
   "execution_count": 4,
   "id": "3cfc1080-f4f3-41b8-9252-7d3817a14731",
   "metadata": {},
   "outputs": [
    {
     "name": "stdout",
     "output_type": "stream",
     "text": [
      "test_seq.fa\n",
      "test_seq.fa.fai\n",
      "test_variants.fa\n",
      "test_variants.fa.fai\n",
      "variant_closed_gof_bluestarr_flank35_obs.fa\n",
      "variant_closed_gof_bluestarr_flank35_ref.fa\n",
      "variant_closed_gof_bluestarr_flank35_unobs.fa\n",
      "variant_closed_gof_bluestarr.tsv.gz\n",
      "variant_closed_gof_bluestarr_withseq_flank35.tsv.gz\n"
     ]
    }
   ],
   "source": [
    "%%bash\n",
    "ls ${FD_RES}/analysis_variant_motif_richard"
   ]
  },
  {
   "cell_type": "markdown",
   "id": "4581b268-6d13-4e98-90b5-406496b07c20",
   "metadata": {},
   "source": [
    "**Import data**"
   ]
  },
  {
   "cell_type": "code",
   "execution_count": 5,
   "id": "b65bfbff-84d9-4dfe-85f9-ea974bd8d417",
   "metadata": {},
   "outputs": [],
   "source": [
    "### set file directory\n",
    "txt_fdiry = os.path.join(FD_RES, \"analysis_variant_motif_richard\")\n",
    "\n",
    "txt_fpath_ref   = os.path.join(txt_fdiry, \"variant_closed_gof_bluestarr_flank35_ref.fa\")\n",
    "txt_fpath_obs   = os.path.join(txt_fdiry, \"variant_closed_gof_bluestarr_flank35_obs.fa\")\n",
    "txt_fpath_unobs = os.path.join(txt_fdiry, \"variant_closed_gof_bluestarr_flank35_unobs.fa\")\n",
    "\n",
    "### import data\n",
    "lst_seq_ref   = list(SeqIO.parse(txt_fpath_ref,   \"fasta\"))\n",
    "lst_seq_obs   = list(SeqIO.parse(txt_fpath_obs,   \"fasta\"))\n",
    "lst_seq_unobs = list(SeqIO.parse(txt_fpath_unobs, \"fasta\"))"
   ]
  },
  {
   "cell_type": "markdown",
   "id": "264d9366-7372-4f55-afc9-e27c7716ed25",
   "metadata": {},
   "source": [
    "**check data**"
   ]
  },
  {
   "cell_type": "code",
   "execution_count": 13,
   "id": "572b1adc-f250-4273-a480-b8e6d3127d73",
   "metadata": {},
   "outputs": [
    {
     "name": "stdout",
     "output_type": "stream",
     "text": [
      "<class 'Bio.SeqRecord.SeqRecord'>\n"
     ]
    }
   ],
   "source": [
    "print(type(lst_seq_ref[0]))"
   ]
  },
  {
   "cell_type": "code",
   "execution_count": 6,
   "id": "755ae0b9-4b0d-4819-91ab-061ba7f7a70a",
   "metadata": {},
   "outputs": [
    {
     "name": "stdout",
     "output_type": "stream",
     "text": [
      "ID: chr4:74487586:A:G:C\n",
      "Name: chr4:74487586:A:G:C\n",
      "Description: chr4:74487586:A:G:C\n",
      "Number of features: 0\n",
      "Seq('ACATGTGTGTATGCTTGTCTATATACACTGTATGAAGCAAGAGGAGAAAATACT...ACT')\n"
     ]
    }
   ],
   "source": [
    "print(lst_seq_ref[0])"
   ]
  },
  {
   "cell_type": "code",
   "execution_count": 7,
   "id": "2ba767e6-3bae-4594-b346-5acc831cfd3c",
   "metadata": {},
   "outputs": [
    {
     "name": "stdout",
     "output_type": "stream",
     "text": [
      "ID: chr4:74487586:A:G:C\n",
      "Name: chr4:74487586:A:G:C\n",
      "Description: chr4:74487586:A:G:C\n",
      "Number of features: 0\n",
      "Seq('ACATGTGTGTATGCTTGTCTATATACACTGTATGAGGCAAGAGGAGAAAATACT...ACT')\n"
     ]
    }
   ],
   "source": [
    "print(lst_seq_obs[0])"
   ]
  },
  {
   "cell_type": "code",
   "execution_count": 8,
   "id": "5069f109-aa09-46d5-a9ed-65f9ff2f6a54",
   "metadata": {},
   "outputs": [
    {
     "name": "stdout",
     "output_type": "stream",
     "text": [
      "ID: chr4:74487586:A:G:C\n",
      "Name: chr4:74487586:A:G:C\n",
      "Description: chr4:74487586:A:G:C\n",
      "Number of features: 0\n",
      "Seq('ACATGTGTGTATGCTTGTCTATATACACTGTATGACGCAAGAGGAGAAAATACT...ACT')\n"
     ]
    }
   ],
   "source": [
    "print(lst_seq_unobs[0])"
   ]
  },
  {
   "cell_type": "code",
   "execution_count": 9,
   "id": "8345cb39-aaca-4808-9156-a9e81fa306c6",
   "metadata": {},
   "outputs": [
    {
     "name": "stdout",
     "output_type": "stream",
     "text": [
      "Total variants: 1884977\n"
     ]
    }
   ],
   "source": [
    "### check data\n",
    "assert len(lst_seq_ref) == len(lst_seq_obs) == len(lst_seq_unobs)\n",
    "num_total = len(lst_seq_ref)\n",
    "print(\"Total variants:\", num_total)"
   ]
  },
  {
   "cell_type": "markdown",
   "id": "d98e7da9-8f80-4022-9b79-e89de4438f9a",
   "metadata": {},
   "source": [
    "## Extract test batches of 1k/10k sequences for each fasta"
   ]
  },
  {
   "cell_type": "code",
   "execution_count": 10,
   "id": "0ce00fda-d9ff-41a2-aaee-4d40f38c66fc",
   "metadata": {},
   "outputs": [],
   "source": [
    "### Output folder for dev batches\n",
    "txt_fdiry_batch = os.path.join(FD_RES, \"analysis_variant_motif_richard\", \"batches_dev\")\n",
    "os.makedirs(txt_fdiry_batch, exist_ok=True)\n",
    "\n",
    "### define batch sizes\n",
    "lst_num_batch_size = [1000, 10000]\n",
    "\n",
    "### define file name prefix\n",
    "txt_prefix = \"variant_closed_gof_bluestarr_flank35\""
   ]
  },
  {
   "cell_type": "code",
   "execution_count": 12,
   "id": "70cfdf7d-6f36-4dbe-993c-be33966af439",
   "metadata": {},
   "outputs": [
    {
     "name": "stdout",
     "output_type": "stream",
     "text": [
      "Wrote dev batch of 1000 sequences to /hpc/group/igvf/kk319/repo/Proj_IGVF_BlueSTARR/results/analysis_variant_motif_richard/batches_dev\n",
      "Wrote dev batch of 10000 sequences to /hpc/group/igvf/kk319/repo/Proj_IGVF_BlueSTARR/results/analysis_variant_motif_richard/batches_dev\n"
     ]
    }
   ],
   "source": [
    "### create dev batches\n",
    "for num_batch_size in lst_num_batch_size:\n",
    "    \n",
    "    # slice the first N records\n",
    "    lst_batch_ref   = lst_seq_ref[:num_batch_size]\n",
    "    lst_batch_obs   = lst_seq_obs[:num_batch_size]\n",
    "    lst_batch_unobs = lst_seq_unobs[:num_batch_size]\n",
    "\n",
    "    # set file names\n",
    "    txt_fpath_out_ref   = os.path.join(txt_fdiry_batch, f\"{txt_prefix}_dev{num_batch_size}_ref.fa\")\n",
    "    txt_fpath_out_obs   = os.path.join(txt_fdiry_batch, f\"{txt_prefix}_dev{num_batch_size}_obs.fa\")\n",
    "    txt_fpath_out_unobs = os.path.join(txt_fdiry_batch, f\"{txt_prefix}_dev{num_batch_size}_unobs.fa\")\n",
    "\n",
    "    # Write\n",
    "    SeqIO.write(lst_batch_ref,   txt_fpath_out_ref,   \"fasta\")\n",
    "    SeqIO.write(lst_batch_obs,   txt_fpath_out_obs,   \"fasta\")\n",
    "    SeqIO.write(lst_batch_unobs, txt_fpath_out_unobs, \"fasta\")\n",
    "\n",
    "    print(f\"Wrote dev batch of {num_batch_size} sequences to {txt_fdiry_batch}\")"
   ]
  },
  {
   "cell_type": "code",
   "execution_count": null,
   "id": "31e0554e-bd85-4e98-8d9a-1bd0ca891146",
   "metadata": {},
   "outputs": [],
   "source": []
  },
  {
   "cell_type": "code",
   "execution_count": null,
   "id": "1764369e-fc5c-4f82-8d01-8c19a8ddee1e",
   "metadata": {},
   "outputs": [],
   "source": []
  },
  {
   "cell_type": "code",
   "execution_count": null,
   "id": "8da4c24b-fa11-446b-bfcf-d96c5c114a78",
   "metadata": {},
   "outputs": [],
   "source": []
  },
  {
   "cell_type": "code",
   "execution_count": 5,
   "id": "f5ddc068-e8cc-497f-a4bf-3d9994866b70",
   "metadata": {},
   "outputs": [
    {
     "name": "stdout",
     "output_type": "stream",
     "text": [
      "(1884977, 17)\n"
     ]
    },
    {
     "data": {
      "text/html": [
       "<div>\n",
       "<style scoped>\n",
       "    .dataframe tbody tr th:only-of-type {\n",
       "        vertical-align: middle;\n",
       "    }\n",
       "\n",
       "    .dataframe tbody tr th {\n",
       "        vertical-align: top;\n",
       "    }\n",
       "\n",
       "    .dataframe thead th {\n",
       "        text-align: right;\n",
       "    }\n",
       "</style>\n",
       "<table border=\"1\" class=\"dataframe\">\n",
       "  <thead>\n",
       "    <tr style=\"text-align: right;\">\n",
       "      <th></th>\n",
       "      <th>Chrom</th>\n",
       "      <th>ChromStart</th>\n",
       "      <th>ChromEnd</th>\n",
       "      <th>Region</th>\n",
       "      <th>Variant_ID</th>\n",
       "      <th>Pos0</th>\n",
       "      <th>Ref</th>\n",
       "      <th>Obs</th>\n",
       "      <th>Unobs</th>\n",
       "      <th>Delta</th>\n",
       "      <th>Flank</th>\n",
       "      <th>Interval</th>\n",
       "      <th>Seq_Length</th>\n",
       "      <th>Seq_Ref</th>\n",
       "      <th>Seq_Obs</th>\n",
       "      <th>Seq_Unobs</th>\n",
       "      <th>Check_RefMatch</th>\n",
       "    </tr>\n",
       "  </thead>\n",
       "  <tbody>\n",
       "    <tr>\n",
       "      <th>0</th>\n",
       "      <td>chr4</td>\n",
       "      <td>74487576</td>\n",
       "      <td>74488141</td>\n",
       "      <td>chr4:74487576-74488141</td>\n",
       "      <td>chr4:74487586:A:G:C</td>\n",
       "      <td>74487586</td>\n",
       "      <td>A</td>\n",
       "      <td>G</td>\n",
       "      <td>C</td>\n",
       "      <td>0.964984</td>\n",
       "      <td>35</td>\n",
       "      <td>chr4:74487551-74487622</td>\n",
       "      <td>71</td>\n",
       "      <td>ACATGTGTGTATGCTTGTCTATATACACTGTATGAAGCAAGAGGAG...</td>\n",
       "      <td>ACATGTGTGTATGCTTGTCTATATACACTGTATGAGGCAAGAGGAG...</td>\n",
       "      <td>ACATGTGTGTATGCTTGTCTATATACACTGTATGACGCAAGAGGAG...</td>\n",
       "      <td>True</td>\n",
       "    </tr>\n",
       "    <tr>\n",
       "      <th>1</th>\n",
       "      <td>chr9</td>\n",
       "      <td>135685425</td>\n",
       "      <td>135685942</td>\n",
       "      <td>chr9:135685425-135685942</td>\n",
       "      <td>chr9:135685432:G:G:C</td>\n",
       "      <td>135685432</td>\n",
       "      <td>G</td>\n",
       "      <td>G</td>\n",
       "      <td>C</td>\n",
       "      <td>0.945423</td>\n",
       "      <td>35</td>\n",
       "      <td>chr9:135685397-135685468</td>\n",
       "      <td>71</td>\n",
       "      <td>CCGGGGACACATCCCCCAGGAAACCTCTGGGCTGAGGCAACACCAA...</td>\n",
       "      <td>CCGGGGACACATCCCCCAGGAAACCTCTGGGCTGAGGCAACACCAA...</td>\n",
       "      <td>CCGGGGACACATCCCCCAGGAAACCTCTGGGCTGACGCAACACCAA...</td>\n",
       "      <td>True</td>\n",
       "    </tr>\n",
       "    <tr>\n",
       "      <th>2</th>\n",
       "      <td>chr1</td>\n",
       "      <td>173251481</td>\n",
       "      <td>173251541</td>\n",
       "      <td>chr1:173251481-173251541</td>\n",
       "      <td>chr1:173251490:G:G:C</td>\n",
       "      <td>173251490</td>\n",
       "      <td>G</td>\n",
       "      <td>G</td>\n",
       "      <td>C</td>\n",
       "      <td>0.910127</td>\n",
       "      <td>35</td>\n",
       "      <td>chr1:173251455-173251526</td>\n",
       "      <td>71</td>\n",
       "      <td>ACATAGTACTCAATACCTATTTGGTGAATAGATGAGGCAATCTCAC...</td>\n",
       "      <td>ACATAGTACTCAATACCTATTTGGTGAATAGATGAGGCAATCTCAC...</td>\n",
       "      <td>ACATAGTACTCAATACCTATTTGGTGAATAGATGACGCAATCTCAC...</td>\n",
       "      <td>True</td>\n",
       "    </tr>\n",
       "    <tr>\n",
       "      <th>3</th>\n",
       "      <td>chr1</td>\n",
       "      <td>147523084</td>\n",
       "      <td>147523503</td>\n",
       "      <td>chr1:147523084-147523503</td>\n",
       "      <td>chr1:147523391:G:G:C</td>\n",
       "      <td>147523391</td>\n",
       "      <td>G</td>\n",
       "      <td>G</td>\n",
       "      <td>C</td>\n",
       "      <td>0.908800</td>\n",
       "      <td>35</td>\n",
       "      <td>chr1:147523356-147523427</td>\n",
       "      <td>71</td>\n",
       "      <td>ATTTTTAAAAGTTCAGGTAGTTTAAAGATGGCTGAGGCAATGCAAT...</td>\n",
       "      <td>ATTTTTAAAAGTTCAGGTAGTTTAAAGATGGCTGAGGCAATGCAAT...</td>\n",
       "      <td>ATTTTTAAAAGTTCAGGTAGTTTAAAGATGGCTGACGCAATGCAAT...</td>\n",
       "      <td>True</td>\n",
       "    </tr>\n",
       "    <tr>\n",
       "      <th>4</th>\n",
       "      <td>chr18</td>\n",
       "      <td>54580694</td>\n",
       "      <td>54581420</td>\n",
       "      <td>chr18:54580694-54581420</td>\n",
       "      <td>chr18:54580749:A:G:T</td>\n",
       "      <td>54580749</td>\n",
       "      <td>A</td>\n",
       "      <td>G</td>\n",
       "      <td>T</td>\n",
       "      <td>0.862296</td>\n",
       "      <td>35</td>\n",
       "      <td>chr18:54580714-54580785</td>\n",
       "      <td>71</td>\n",
       "      <td>TGTTTAGCTAACAGAAATACTTCAGCAGAGCCTGAAGCAATGGCCA...</td>\n",
       "      <td>TGTTTAGCTAACAGAAATACTTCAGCAGAGCCTGAGGCAATGGCCA...</td>\n",
       "      <td>TGTTTAGCTAACAGAAATACTTCAGCAGAGCCTGATGCAATGGCCA...</td>\n",
       "      <td>True</td>\n",
       "    </tr>\n",
       "  </tbody>\n",
       "</table>\n",
       "</div>"
      ],
      "text/plain": [
       "   Chrom  ChromStart   ChromEnd                    Region  \\\n",
       "0   chr4    74487576   74488141    chr4:74487576-74488141   \n",
       "1   chr9   135685425  135685942  chr9:135685425-135685942   \n",
       "2   chr1   173251481  173251541  chr1:173251481-173251541   \n",
       "3   chr1   147523084  147523503  chr1:147523084-147523503   \n",
       "4  chr18    54580694   54581420   chr18:54580694-54581420   \n",
       "\n",
       "             Variant_ID       Pos0 Ref Obs Unobs     Delta  Flank  \\\n",
       "0   chr4:74487586:A:G:C   74487586   A   G     C  0.964984     35   \n",
       "1  chr9:135685432:G:G:C  135685432   G   G     C  0.945423     35   \n",
       "2  chr1:173251490:G:G:C  173251490   G   G     C  0.910127     35   \n",
       "3  chr1:147523391:G:G:C  147523391   G   G     C  0.908800     35   \n",
       "4  chr18:54580749:A:G:T   54580749   A   G     T  0.862296     35   \n",
       "\n",
       "                   Interval  Seq_Length  \\\n",
       "0    chr4:74487551-74487622          71   \n",
       "1  chr9:135685397-135685468          71   \n",
       "2  chr1:173251455-173251526          71   \n",
       "3  chr1:147523356-147523427          71   \n",
       "4   chr18:54580714-54580785          71   \n",
       "\n",
       "                                             Seq_Ref  \\\n",
       "0  ACATGTGTGTATGCTTGTCTATATACACTGTATGAAGCAAGAGGAG...   \n",
       "1  CCGGGGACACATCCCCCAGGAAACCTCTGGGCTGAGGCAACACCAA...   \n",
       "2  ACATAGTACTCAATACCTATTTGGTGAATAGATGAGGCAATCTCAC...   \n",
       "3  ATTTTTAAAAGTTCAGGTAGTTTAAAGATGGCTGAGGCAATGCAAT...   \n",
       "4  TGTTTAGCTAACAGAAATACTTCAGCAGAGCCTGAAGCAATGGCCA...   \n",
       "\n",
       "                                             Seq_Obs  \\\n",
       "0  ACATGTGTGTATGCTTGTCTATATACACTGTATGAGGCAAGAGGAG...   \n",
       "1  CCGGGGACACATCCCCCAGGAAACCTCTGGGCTGAGGCAACACCAA...   \n",
       "2  ACATAGTACTCAATACCTATTTGGTGAATAGATGAGGCAATCTCAC...   \n",
       "3  ATTTTTAAAAGTTCAGGTAGTTTAAAGATGGCTGAGGCAATGCAAT...   \n",
       "4  TGTTTAGCTAACAGAAATACTTCAGCAGAGCCTGAGGCAATGGCCA...   \n",
       "\n",
       "                                           Seq_Unobs  Check_RefMatch  \n",
       "0  ACATGTGTGTATGCTTGTCTATATACACTGTATGACGCAAGAGGAG...            True  \n",
       "1  CCGGGGACACATCCCCCAGGAAACCTCTGGGCTGACGCAACACCAA...            True  \n",
       "2  ACATAGTACTCAATACCTATTTGGTGAATAGATGACGCAATCTCAC...            True  \n",
       "3  ATTTTTAAAAGTTCAGGTAGTTTAAAGATGGCTGACGCAATGCAAT...            True  \n",
       "4  TGTTTAGCTAACAGAAATACTTCAGCAGAGCCTGATGCAATGGCCA...            True  "
      ]
     },
     "execution_count": 5,
     "metadata": {},
     "output_type": "execute_result"
    }
   ],
   "source": [
    "### set file directory\n",
    "txt_fdiry = os.path.join(FD_RES, \"analysis_variant_motif_richard\")\n",
    "txt_fname = \"variant_closed_gof_bluestarr_withseq_flank35.tsv.gz\"\n",
    "txt_fpath = os.path.join(txt_fdiry, txt_fname)\n",
    "\n",
    "### read table\n",
    "dat = pd.read_csv(txt_fpath, sep = \"\\t\")\n",
    "\n",
    "### assign and show\n",
    "dat_variant_withseq = dat\n",
    "print(dat.shape)\n",
    "dat.head()"
   ]
  }
 ],
 "metadata": {
  "kernelspec": {
   "display_name": "Python 3 (ipykernel)",
   "language": "python",
   "name": "python3"
  },
  "language_info": {
   "codemirror_mode": {
    "name": "ipython",
    "version": 3
   },
   "file_extension": ".py",
   "mimetype": "text/x-python",
   "name": "python",
   "nbconvert_exporter": "python",
   "pygments_lexer": "ipython3",
   "version": "3.11.6"
  }
 },
 "nbformat": 4,
 "nbformat_minor": 5
}
