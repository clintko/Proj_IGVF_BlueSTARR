{
 "cells": [
  {
   "cell_type": "raw",
   "id": "1665abb5-ef7f-4c27-8d3b-c8ccaadb5eef",
   "metadata": {},
   "source": [
    "---\n",
    "title: Variant results from Richard 01\n",
    "subtitle: Explore and get the files \n",
    "format:\n",
    "    html:\n",
    "        code-fold:  true\n",
    "        code-tools: true\n",
    "---"
   ]
  },
  {
   "cell_type": "markdown",
   "id": "dd06a454-882d-4162-ad26-199abd61837e",
   "metadata": {},
   "source": [
    "**Set environment**"
   ]
  },
  {
   "cell_type": "code",
   "execution_count": 1,
   "id": "3c7af029-b56d-414f-9e2b-d85534d2b1a8",
   "metadata": {},
   "outputs": [
    {
     "name": "stdout",
     "output_type": "stream",
     "text": [
      "BASE DIRECTORY (FD_BASE):      /hpc/group/igvf/kk319\n",
      "REPO DIRECTORY (FD_REPO):      /hpc/group/igvf/kk319/repo\n",
      "WORK DIRECTORY (FD_WORK):      /hpc/group/igvf/kk319/work\n",
      "DATA DIRECTORY (FD_DATA):      /hpc/group/igvf/kk319/data\n",
      "CONTAINER DIR. (FD_SING):      /hpc/group/igvf/kk319/container\n",
      "\n",
      "You are working with           \n",
      "PATH OF PROJECT (FD_PRJ):      /hpc/group/igvf/kk319/repo/Proj_IGVF_BlueSTARR\n",
      "PROJECT RESULTS (FD_RES):      /hpc/group/igvf/kk319/repo/Proj_IGVF_BlueSTARR/results\n",
      "PROJECT SCRIPTS (FD_EXE):      /hpc/group/igvf/kk319/repo/Proj_IGVF_BlueSTARR/scripts\n",
      "PROJECT DATA    (FD_DAT):      /hpc/group/igvf/kk319/repo/Proj_IGVF_BlueSTARR/data\n",
      "PROJECT NOTE    (FD_NBK):      /hpc/group/igvf/kk319/repo/Proj_IGVF_BlueSTARR/notebooks\n",
      "PROJECT DOCS    (FD_DOC):      /hpc/group/igvf/kk319/repo/Proj_IGVF_BlueSTARR/docs\n",
      "PROJECT LOG     (FD_LOG):      /hpc/group/igvf/kk319/repo/Proj_IGVF_BlueSTARR/log\n",
      "PROJECT REF     (FD_REF):      /hpc/group/igvf/kk319/repo/Proj_IGVF_BlueSTARR/references\n",
      "PROJECT IMAGE   (FP_PRJ_SIF):  /hpc/group/igvf/kk319/container/project/singularity_proj_igvf_bluestarr.sif\n",
      "PROJECT CONF.   (FP_CNF):      /hpc/group/igvf/kk319/repo/Proj_IGVF_BlueSTARR/scripts/config_project.sh\n",
      "\n"
     ]
    }
   ],
   "source": [
    "source ../run_config_project.sh\n",
    "show_env"
   ]
  },
  {
   "cell_type": "markdown",
   "id": "e8e3fa80-e875-43c7-9b23-cf1835ed27c5",
   "metadata": {},
   "source": [
    "## Variant results from Richard analysis"
   ]
  },
  {
   "cell_type": "code",
   "execution_count": 2,
   "id": "ffb26ba3-b095-41a7-a0f8-8d2403c0a060",
   "metadata": {},
   "outputs": [
    {
     "name": "stdout",
     "output_type": "stream",
     "text": [
      "\u001b[0m\u001b[01;34mclosed\u001b[0m  \u001b[01;34mopen\u001b[0m  \u001b[01;34mscripts\u001b[0m\n"
     ]
    }
   ],
   "source": [
    "ls /hpc/group/igvf/richard/BlueSTARR_pipeline/share_data"
   ]
  },
  {
   "cell_type": "code",
   "execution_count": 3,
   "id": "a47eee23-8141-428d-925f-f140f84b1d2b",
   "metadata": {},
   "outputs": [
    {
     "name": "stdout",
     "output_type": "stream",
     "text": [
      "\u001b[0m\u001b[01;32mannotated_snv_sites_filtered.tsv.gz\u001b[0m  \u001b[01;32mregions.fasta.gz\u001b[0m\n",
      "\u001b[01;32mannotated_snv_sites.tsv.gz\u001b[0m           \u001b[01;32mregions_GoF_only.fasta.gz\u001b[0m\n"
     ]
    }
   ],
   "source": [
    "ls /hpc/group/igvf/richard/BlueSTARR_pipeline/share_data/closed"
   ]
  },
  {
   "cell_type": "code",
   "execution_count": 4,
   "id": "452a3ca8-1946-453b-838d-0b0b93ac7629",
   "metadata": {},
   "outputs": [
    {
     "name": "stdout",
     "output_type": "stream",
     "text": [
      "\u001b[0m\u001b[01;32mannotated_snv_sites_filtered.tsv.gz\u001b[0m  \u001b[01;32mregions.fasta.gz\u001b[0m\n",
      "\u001b[01;32mannotated_snv_sites.tsv.gz\u001b[0m           \u001b[01;32mregions_GoF_only.fasta.gz\u001b[0m\n"
     ]
    }
   ],
   "source": [
    "ls /hpc/group/igvf/richard/BlueSTARR_pipeline/share_data/open"
   ]
  },
  {
   "cell_type": "code",
   "execution_count": 5,
   "id": "d6cdbef0-28fa-44af-b16d-16d17c3654a5",
   "metadata": {},
   "outputs": [
    {
     "name": "stdout",
     "output_type": "stream",
     "text": [
      "count_snvs.py  \u001b[0m\u001b[01;32mfilter_fasta.py\u001b[0m  \u001b[01;32msubset_fasta.py\u001b[0m\n"
     ]
    }
   ],
   "source": [
    "ls /hpc/group/igvf/richard/BlueSTARR_pipeline/share_data/scripts"
   ]
  },
  {
   "cell_type": "markdown",
   "id": "84ec0ecc-a9bb-4d41-ba04-915356d574fe",
   "metadata": {},
   "source": [
    "## Explore files"
   ]
  },
  {
   "cell_type": "markdown",
   "id": "4a7117ef-9edd-472e-9187-8f639765dd96",
   "metadata": {},
   "source": [
    "Gain-of-function mutation from observed to unobserved predicted using BlueSTARR. \n",
    "\n",
    "According to Richard:\n",
    "- \"region\" specifies the full region that the site is located in and matches the region names in \"regions_GoF_only.fasta.gz\".\n",
    "- \"pos0\" is the 0-indexed position of the site in question.\n",
    "- \"delta\" is the difference between the unobserved and observed BlueSTARR values (unobserved - observed). These are still on the log scale.\n",
    "- \"ref\" is the reference allele at \"pos0\"\n",
    "- \"obs\" is the observed allele used for \"delta\". It is sometimes the same as \"ref\". When it isn't, it means the allele is for an SNV\n",
    "- \"unobs\" is the unobserved allele used for \"delta\"."
   ]
  },
  {
   "cell_type": "code",
   "execution_count": 6,
   "id": "0bf7830b-619c-4e04-9078-3e67992db35e",
   "metadata": {},
   "outputs": [
    {
     "name": "stdout",
     "output_type": "stream",
     "text": [
      "region\tpos0\tdelta\tref\tobs\tunobs\n",
      "chr4:74487576-74488141\t74487586\t0.96498407\tA\tG\tC\n",
      "chr9:135685425-135685942\t135685432\t0.94542273\tG\tG\tC\n",
      "chr1:173251481-173251541\t173251490\t0.91012724\tG\tG\tC\n",
      "chr1:147523084-147523503\t147523391\t0.90880011\tG\tG\tC\n",
      "chr18:54580694-54581420\t54580749\t0.86229593\tA\tG\tT\n",
      "chr7:80949320-80949853\t80949454\t0.83933777\tA\tG\tC\n",
      "chr15:42051436-42051627\t42051620\t0.81431348\tA\tG\tC\n",
      "chr6:126250489-126251013\t126250573\t0.81378914\tG\tG\tT\n",
      "chr2:6817975-6818483\t6818290\t0.76336799\tC\tC\tG\n"
     ]
    }
   ],
   "source": [
    "TXT_FDIRY=\"/hpc/group/igvf/richard/BlueSTARR_pipeline/share_data/closed\"\n",
    "TXT_FNAME=\"annotated_snv_sites.tsv.gz\"\n",
    "TXT_FPATH=${TXT_FDIRY}/${TXT_FNAME}\n",
    "\n",
    "fun_cat ${TXT_FPATH} | head"
   ]
  },
  {
   "cell_type": "code",
   "execution_count": 7,
   "id": "396fb9f5-e850-41c9-b751-5d4468932977",
   "metadata": {},
   "outputs": [
    {
     "name": "stdout",
     "output_type": "stream",
     "text": [
      "region\tpos0\tdelta\tref\tobs\tunobs\n",
      "chr4:74487576-74488141\t74487586\t0.96498407\tA\tG\tC\n",
      "chr9:135685425-135685942\t135685432\t0.94542273\tG\tG\tC\n",
      "chr1:173251481-173251541\t173251490\t0.91012724\tG\tG\tC\n",
      "chr1:147523084-147523503\t147523391\t0.90880011\tG\tG\tC\n",
      "chr18:54580694-54581420\t54580749\t0.86229593\tA\tG\tT\n",
      "chr7:80949320-80949853\t80949454\t0.83933777\tA\tG\tC\n",
      "chr15:42051436-42051627\t42051620\t0.81431348\tA\tG\tC\n",
      "chr6:126250489-126251013\t126250573\t0.81378914\tG\tG\tT\n",
      "chr2:6817975-6818483\t6818290\t0.76336799\tC\tC\tG\n"
     ]
    }
   ],
   "source": [
    "TXT_FDIRY=\"/hpc/group/igvf/richard/BlueSTARR_pipeline/share_data/closed\"\n",
    "TXT_FNAME=\"annotated_snv_sites_filtered.tsv.gz\"\n",
    "TXT_FPATH=${TXT_FDIRY}/${TXT_FNAME}\n",
    "\n",
    "fun_cat ${TXT_FPATH} | head"
   ]
  },
  {
   "cell_type": "markdown",
   "id": "79d3b6ea-21cf-4c1c-a88d-441c06e46d12",
   "metadata": {},
   "source": [
    "It turns out the filtering does not change much of the variants. There about <100 differences before and after filtering."
   ]
  },
  {
   "cell_type": "code",
   "execution_count": 8,
   "id": "d81d0fe6-5e6f-420c-9742-4e0d9fc57fe7",
   "metadata": {},
   "outputs": [
    {
     "name": "stdout",
     "output_type": "stream",
     "text": [
      "1885039\n"
     ]
    }
   ],
   "source": [
    "TXT_FDIRY=\"/hpc/group/igvf/richard/BlueSTARR_pipeline/share_data/closed\"\n",
    "TXT_FNAME=\"annotated_snv_sites.tsv.gz\"\n",
    "TXT_FPATH=${TXT_FDIRY}/${TXT_FNAME}\n",
    "\n",
    "fun_cat ${TXT_FPATH} | wc -l"
   ]
  },
  {
   "cell_type": "code",
   "execution_count": 9,
   "id": "3722e51a-a3fd-4273-8874-cc0084a0b77b",
   "metadata": {},
   "outputs": [
    {
     "name": "stdout",
     "output_type": "stream",
     "text": [
      "1884978\n"
     ]
    }
   ],
   "source": [
    "TXT_FDIRY=\"/hpc/group/igvf/richard/BlueSTARR_pipeline/share_data/closed\"\n",
    "TXT_FNAME=\"annotated_snv_sites_filtered.tsv.gz\"\n",
    "TXT_FPATH=${TXT_FDIRY}/${TXT_FNAME}\n",
    "\n",
    "fun_cat ${TXT_FPATH} | wc -l"
   ]
  },
  {
   "cell_type": "markdown",
   "id": "a2e67ad7-cba7-4cae-9d18-bf391609e6af",
   "metadata": {},
   "source": [
    "According to Richard:\n",
    "> \"regions_GoF_only.fasta.gz\" contains every sequence used in the delta file. The rows are in pairs where the\n",
    "first starts with \">\" followed by the region specification. The second row in the pair is the genomic sequence for that region. These match \"region\" found in the delta file exactly."
   ]
  },
  {
   "cell_type": "code",
   "execution_count": 10,
   "id": "710c086c-7694-4ffe-928f-2564dff5e84d",
   "metadata": {},
   "outputs": [
    {
     "name": "stdout",
     "output_type": "stream",
     "text": [
      ">chr1:901241-901362\n",
      "GTGTATGTAAAGTGAAAACAGAGAGAGTACAAGAAAAGAGGGAAACCAGGGGCTCAGTGGAGGTGGGCAGGGGCTGGTCCATGTGCATTCAGCCCACCTGGTTGGCAGCTGCCCAGGTGTC\n",
      ">chr1:901596-901671\n",
      "GTGGGAGCCACAGCAGTGTTCGTTTTACTATTGCTGGGCCTGTAAATGGAGCGTTTTATCTTTTTCGTCAGCTGG\n",
      ">chr1:902804-902969\n",
      "CCCCCCTCACCTGAGTTCTGGGAGGTCAATCCAGGTTCAAGATTCCTCCTTTGAAAGGTAGACTGGATTTGGATACAGAGGGTGCCCATGCGTGAGGGGACGAGGGGGCCCGGGATGCGGGTCCGTGTGAGGGGCTGAAGAGTTGCCCCTGTGCTAGTCAGTGCC\n",
      ">chr1:903780-903849\n",
      "GCAGCCCTAGGCGCAGCGGTGCAAGGAGAGCCACATTTACCCCTGGCGCTGCACGGCCCTGAGGCTGGG\n",
      ">chr1:915976-916247\n",
      "CGATTCCTCCTGCATCCTCTGTCGGGATGTCTGGATTCCAGAGTCCCCACCCTGATTTTCCAACCTTGCCTCAGCCTTGGCTTCTCCCTTTTGGGGTGGGACAGGGAACCCCAGCAGCAGGTGTATGAGGGCATGAGAGGGCAGGAGGTGCCCTATGCCTACCCGCCAGACCAGGGCCCCAGCCCTGGACACAGGGAGAGAGCATGAGCGCTGTTCCTGCTCCCACTCCCTCATCTGAGCAGGTGCTCCCAGGTACAGGTGCCGAGTCCCA\n"
     ]
    }
   ],
   "source": [
    "TXT_FDIRY=\"/hpc/group/igvf/richard/BlueSTARR_pipeline/share_data/closed\"\n",
    "TXT_FNAME=\"regions.fasta.gz\"\n",
    "TXT_FPATH=${TXT_FDIRY}/${TXT_FNAME}\n",
    "\n",
    "fun_cat ${TXT_FPATH} | head"
   ]
  },
  {
   "cell_type": "markdown",
   "id": "0bcc3aca-3cd3-4e7e-a239-6c8dd02768cc",
   "metadata": {},
   "source": [
    "## Copy the files to the data folder for later analysis"
   ]
  },
  {
   "cell_type": "code",
   "execution_count": 11,
   "id": "37e6b175-dab9-487b-8b91-5a03dcbc4db9",
   "metadata": {},
   "outputs": [
    {
     "name": "stdout",
     "output_type": "stream",
     "text": [
      "\u001b[0m\u001b[01;34m/hpc/group/igvf/kk319/repo/Proj_IGVF_BlueSTARR/data/variant_bluestarr_richard\u001b[0m\n"
     ]
    }
   ],
   "source": [
    "ls -d ${FD_DAT}/variant_bluestarr_richard"
   ]
  },
  {
   "cell_type": "code",
   "execution_count": 12,
   "id": "51a03d8d-986c-4808-87ea-c775f4777e70",
   "metadata": {},
   "outputs": [
    {
     "name": "stdout",
     "output_type": "stream",
     "text": [
      "\u001b[0m\u001b[01;34mclosed\u001b[0m  \u001b[01;34mopen\u001b[0m  \u001b[01;34mscripts\u001b[0m\n"
     ]
    }
   ],
   "source": [
    "cp -r \\\n",
    "    /hpc/group/igvf/richard/BlueSTARR_pipeline/share_data/. \\\n",
    "    ${FD_DAT}/variant_bluestarr_richard\n",
    "\n",
    "ls ${FD_DAT}/variant_bluestarr_richard"
   ]
  },
  {
   "cell_type": "code",
   "execution_count": 13,
   "id": "8868d189-ea98-49fe-bf26-1403703615ca",
   "metadata": {},
   "outputs": [
    {
     "name": "stdout",
     "output_type": "stream",
     "text": [
      "\u001b[0m\u001b[01;32mannotated_snv_sites_filtered.tsv.gz\u001b[0m  \u001b[01;32mregions.fasta.gz\u001b[0m\n",
      "\u001b[01;32mannotated_snv_sites.tsv.gz\u001b[0m           \u001b[01;32mregions_GoF_only.fasta.gz\u001b[0m\n"
     ]
    }
   ],
   "source": [
    "ls ${FD_DAT}/variant_bluestarr_richard/closed"
   ]
  },
  {
   "cell_type": "code",
   "execution_count": null,
   "id": "74a79a6e-dfa7-41c3-acd7-8e597c70f908",
   "metadata": {},
   "outputs": [],
   "source": []
  }
 ],
 "metadata": {
  "kernelspec": {
   "display_name": "Bash",
   "language": "bash",
   "name": "bash"
  },
  "language_info": {
   "codemirror_mode": "shell",
   "file_extension": ".sh",
   "mimetype": "text/x-sh",
   "name": "bash"
  }
 },
 "nbformat": 4,
 "nbformat_minor": 5
}
