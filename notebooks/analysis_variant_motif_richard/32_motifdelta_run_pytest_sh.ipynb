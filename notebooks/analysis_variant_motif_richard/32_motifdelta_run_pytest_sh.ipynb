{
 "cells": [
  {
   "cell_type": "raw",
   "id": "e21ab21f-8acd-4dc0-aacc-948ae8b7c46e",
   "metadata": {},
   "source": [
    "---\n",
    "title: Variant results from Richard 01\n",
    "subtitle: Explore and get the files \n",
    "format:\n",
    "    html:\n",
    "        code-fold:  true\n",
    "        code-tools: true\n",
    "---"
   ]
  },
  {
   "cell_type": "markdown",
   "id": "9da0d8f0-c397-4a53-881d-918000bfa254",
   "metadata": {},
   "source": [
    "**Set environment**"
   ]
  },
  {
   "cell_type": "code",
   "execution_count": 1,
   "id": "86f2558d-510a-486b-a93e-4d0864fdd053",
   "metadata": {},
   "outputs": [
    {
     "name": "stdout",
     "output_type": "stream",
     "text": [
      "BASE DIRECTORY (FD_BASE):      /hpc/group/igvf/kk319\n",
      "REPO DIRECTORY (FD_REPO):      /hpc/group/igvf/kk319/repo\n",
      "WORK DIRECTORY (FD_WORK):      /hpc/group/igvf/kk319/work\n",
      "DATA DIRECTORY (FD_DATA):      /hpc/group/igvf/kk319/data\n",
      "CONTAINER DIR. (FD_SING):      /hpc/group/igvf/kk319/container\n",
      "\n",
      "You are working with           \n",
      "PATH OF PROJECT (FD_PRJ):      /hpc/group/igvf/kk319/repo/Proj_IGVF_BlueSTARR\n",
      "PROJECT RESULTS (FD_RES):      /hpc/group/igvf/kk319/repo/Proj_IGVF_BlueSTARR/results\n",
      "PROJECT SCRIPTS (FD_EXE):      /hpc/group/igvf/kk319/repo/Proj_IGVF_BlueSTARR/scripts\n",
      "PROJECT DATA    (FD_DAT):      /hpc/group/igvf/kk319/repo/Proj_IGVF_BlueSTARR/data\n",
      "PROJECT NOTE    (FD_NBK):      /hpc/group/igvf/kk319/repo/Proj_IGVF_BlueSTARR/notebooks\n",
      "PROJECT DOCS    (FD_DOC):      /hpc/group/igvf/kk319/repo/Proj_IGVF_BlueSTARR/docs\n",
      "PROJECT LOG     (FD_LOG):      /hpc/group/igvf/kk319/repo/Proj_IGVF_BlueSTARR/log\n",
      "PROJECT REF     (FD_REF):      /hpc/group/igvf/kk319/repo/Proj_IGVF_BlueSTARR/references\n",
      "PROJECT IMAGE   (FP_PRJ_SIF):  /hpc/group/igvf/kk319/container/project/singularity_proj_igvf_bluestarr.sif\n",
      "PROJECT CONF.   (FP_CNF):      /hpc/group/igvf/kk319/repo/Proj_IGVF_BlueSTARR/scripts/config_project.sh\n",
      "PROJECT APP     (FP_APP):      /hpc/group/igvf/kk319/repo/Proj_IGVF_BlueSTARR/scripts/run_script.sh\n",
      "\n"
     ]
    }
   ],
   "source": [
    "source ../run_config_project.sh\n",
    "show_env"
   ]
  },
  {
   "cell_type": "code",
   "execution_count": 6,
   "id": "1fd25062-372d-405f-8670-2548d493c0b2",
   "metadata": {},
   "outputs": [
    {
     "name": "stdout",
     "output_type": "stream",
     "text": [
      "\u001b[1m============================= test session starts ==============================\u001b[0m\n",
      "platform linux -- Python 3.11.6, pytest-8.4.2, pluggy-1.6.0 -- /opt/conda/bin/python\n",
      "cachedir: .pytest_cache\n",
      "rootdir: /hpc/group/igvf/kk319/repo/Proj_IGVF_BlueSTARR\n",
      "plugins: anyio-4.0.0, jaxtyping-0.3.3, typeguard-4.4.4, zarr-3.1.3\n",
      "collected 3 items                                                              \u001b[0m\n",
      "\n",
      "../../scripts/tests/test_encode.py::test_one_hot_case01_encode \u001b[32mPASSED\u001b[0m\u001b[32m    [ 33%]\u001b[0m\n",
      "../../scripts/tests/test_encode.py::test_one_hot_case02_decode \u001b[32mPASSED\u001b[0m\u001b[32m    [ 66%]\u001b[0m\n",
      "../../scripts/tests/test_encode.py::test_one_hot_case03_unknown_bases \u001b[32mPASSED\u001b[0m\u001b[32m [100%]\u001b[0m\n",
      "\n",
      "\u001b[32m============================== \u001b[32m\u001b[1m3 passed\u001b[0m\u001b[32m in 0.04s\u001b[0m\u001b[32m ===============================\u001b[0m\n"
     ]
    }
   ],
   "source": [
    "${FP_APP} python -m pytest -v ${FD_EXE}/tests/test_encode.py"
   ]
  },
  {
   "cell_type": "code",
   "execution_count": 9,
   "id": "2701c639-ffbd-4476-b300-b3a255438be8",
   "metadata": {},
   "outputs": [
    {
     "name": "stdout",
     "output_type": "stream",
     "text": [
      "\u001b[1m============================= test session starts ==============================\u001b[0m\n",
      "platform linux -- Python 3.11.6, pytest-8.4.2, pluggy-1.6.0 -- /opt/conda/bin/python\n",
      "cachedir: .pytest_cache\n",
      "rootdir: /hpc/group/igvf/kk319/repo/Proj_IGVF_BlueSTARR\n",
      "plugins: anyio-4.0.0, jaxtyping-0.3.3, typeguard-4.4.4, zarr-3.1.3\n",
      "collected 5 items                                                              \u001b[0m\n",
      "\n",
      "../../scripts/tests/test_rc.py::test_reverse_complement_sequence_basic \u001b[32mPASSED\u001b[0m\u001b[32m [ 20%]\u001b[0m\n",
      "../../scripts/tests/test_rc.py::test_reverse_complement_sequence_case_insensitive \u001b[32mPASSED\u001b[0m\u001b[32m [ 40%]\u001b[0m\n",
      "../../scripts/tests/test_rc.py::test_reverse_complement_matrix_matches_string \u001b[32mPASSED\u001b[0m\u001b[32m [ 60%]\u001b[0m\n",
      "../../scripts/tests/test_rc.py::test_reverse_complement_matrix_shape \u001b[32mPASSED\u001b[0m\u001b[32m [ 80%]\u001b[0m\n",
      "../../scripts/tests/test_rc.py::test_reverse_complement_matrix_double_rc_is_identity \u001b[32mPASSED\u001b[0m\u001b[32m [100%]\u001b[0m\n",
      "\n",
      "\u001b[32m============================== \u001b[32m\u001b[1m5 passed\u001b[0m\u001b[32m in 0.07s\u001b[0m\u001b[32m ===============================\u001b[0m\n"
     ]
    }
   ],
   "source": [
    "${FP_APP} python -m pytest -v ${FD_EXE}/tests/test_rc.py"
   ]
  },
  {
   "cell_type": "code",
   "execution_count": null,
   "id": "83ebc8a5-e2aa-45b4-a207-d9c9bcf1dbeb",
   "metadata": {},
   "outputs": [],
   "source": []
  }
 ],
 "metadata": {
  "kernelspec": {
   "display_name": "Bash",
   "language": "bash",
   "name": "bash"
  },
  "language_info": {
   "codemirror_mode": "shell",
   "file_extension": ".sh",
   "mimetype": "text/x-sh",
   "name": "bash"
  }
 },
 "nbformat": 4,
 "nbformat_minor": 5
}
