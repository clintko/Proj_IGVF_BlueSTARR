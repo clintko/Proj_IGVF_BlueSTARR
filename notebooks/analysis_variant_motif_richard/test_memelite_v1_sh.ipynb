{
 "cells": [
  {
   "cell_type": "code",
   "execution_count": 5,
   "id": "273bfd9f-59cf-4316-b462-007f732e9d4a",
   "metadata": {},
   "outputs": [
    {
     "name": "stdout",
     "output_type": "stream",
     "text": [
      "explore_richard_data.R.ipynb  test_memelite_PY.ipynb  test_memelite_SH.ipynb\n"
     ]
    }
   ],
   "source": [
    "run_memelite ls"
   ]
  },
  {
   "cell_type": "code",
   "execution_count": 9,
   "id": "7331bdd8-6d8e-4801-b098-e8239e9ac930",
   "metadata": {},
   "outputs": [
    {
     "name": "stdout",
     "output_type": "stream",
     "text": [
      "run_memelite python -c \"from memelite import fimo; print('FIMO works')\"\n",
      "FIMO works\n"
     ]
    }
   ],
   "source": [
    "run_memelite python -c \"from memelite import fimo; print('FIMO works!')\""
   ]
  },
  {
   "cell_type": "code",
   "execution_count": 10,
   "id": "7546a967-b02d-4f9c-b9b0-9a931632d5ac",
   "metadata": {},
   "outputs": [
    {
     "name": "stdout",
     "output_type": "stream",
     "text": [
      "FIMO works!\n"
     ]
    }
   ],
   "source": [
    "run_memelite python -c 'from memelite import fimo; print(\"FIMO works!\")'"
   ]
  },
  {
   "cell_type": "code",
   "execution_count": 19,
   "id": "766cfba7-3e06-46fc-a663-cae16783e79b",
   "metadata": {},
   "outputs": [
    {
     "name": "stdout",
     "output_type": "stream",
     "text": [
      "['MA0002.3 Runx1']\n"
     ]
    }
   ],
   "source": [
    "run_memelite python - <<'EOF'\n",
    "from memelite.io import read_meme\n",
    "motifs = read_meme(\"/hpc/group/igvf/kk319/data/jaspar2024/JASPAR2024_CORE_vertebrates_non-redundant.meme\")\n",
    "print([m for m in motifs.keys() if \"Runx1\" in m])\n",
    "EOF"
   ]
  },
  {
   "cell_type": "code",
   "execution_count": 17,
   "id": "2c594a9a-dbff-43fc-999e-2e7a77630c38",
   "metadata": {},
   "outputs": [
    {
     "name": "stdout",
     "output_type": "stream",
     "text": [
      "<stdin>:9: FutureWarning: The behavior of DataFrame concatenation with empty or all-NA entries is deprecated. In a future version, this will no longer exclude empty or all-NA columns when determining the result dtypes. To retain the old behavior, exclude the relevant entries before the concat operation.\n",
      "Empty DataFrame\n",
      "Columns: [motif_name, motif_idx, sequence_name, start, end, strand, score, p-value]\n",
      "Index: []\n"
     ]
    }
   ],
   "source": [
    "run_memelite python - <<'EOF'\n",
    "from memelite import fimo\n",
    "import pandas as pd\n",
    "\n",
    "motif_file = \"/hpc/group/igvf/kk319/data/jaspar2024/JASPAR2024_CORE_vertebrates_non-redundant.meme\"\n",
    "fasta_file = \"/hpc/group/igvf/kk319/repo/Proj_IGVF_BlueSTARR/results/analysis_variant_delta_motif/test_seq.fa\"\n",
    "\n",
    "# Run with relaxed threshold\n",
    "hits = fimo(motif_file, fasta_file)\n",
    "df = pd.concat(hits, ignore_index=True)\n",
    "\n",
    "print(df[df[\"motif_name\"].str.contains(\"RUNX1\")].head(10))\n",
    "EOF"
   ]
  },
  {
   "cell_type": "code",
   "execution_count": 24,
   "id": "f443a75f-c0dc-4d52-a534-999effaa406a",
   "metadata": {},
   "outputs": [
    {
     "name": "stdout",
     "output_type": "stream",
     "text": [
      "seq1 | length=20 | motif_len=9 | n_scores=12\n",
      "scores: [2.6805, 2.12, 5.726000000000001, 1.5825, 2.344, 2.6445000000000003, 0.8505, 1.8989999999999998, 1.2530000000000001, 0.9884999999999999, 0.7105, 2.3145]\n",
      "max: 5.726000000000001\n",
      "------------------------------------------------------------\n",
      "seq2 | length=21 | motif_len=9 | n_scores=13\n",
      "scores: [2.5905, 2.2350000000000003, 2.3385, 1.769, 1.438, 2.1094999999999997, 2.194, 3.1265, 2.489, 5.5955, 1.7435, 3.36, 4.484]\n",
      "max: 5.5955\n",
      "------------------------------------------------------------\n"
     ]
    }
   ],
   "source": [
    "run_memelite python - <<'EOF'\n",
    "import numpy as np\n",
    "from memelite.io import read_meme\n",
    "from memelite.utils import one_hot_encode\n",
    "from Bio import SeqIO\n",
    "\n",
    "MEME = \"/hpc/group/igvf/kk319/data/jaspar2024/JASPAR2024_CORE_vertebrates_non-redundant.meme\"\n",
    "FA   = \"/hpc/group/igvf/kk319/repo/Proj_IGVF_BlueSTARR/results/analysis_variant_delta_motif/test_seq.fa\"\n",
    "\n",
    "# Load motifs (keys look like \"MA0002.3 Runx1\")\n",
    "motifs = read_meme(MEME)\n",
    "key = \"MA0002.3 Runx1\"\n",
    "assert key in motifs, f\"{key} not found; available example keys: {list(motifs.keys())[:5]}\"\n",
    "\n",
    "# PWM from JASPAR is (4, W) -> transpose to (W, 4)\n",
    "motif_pwm = motifs[key].T\n",
    "motif_len = motif_pwm.shape[0]  # W\n",
    "\n",
    "def scan_motif_on_sequence(seq_str, pwm_Wx4):\n",
    "    # one_hot_encode returns (4, L) -> transpose to (L, 4)\n",
    "    X = one_hot_encode(seq_str).T\n",
    "    L = X.shape[0]\n",
    "    W = pwm_Wx4.shape[0]\n",
    "    scores = []\n",
    "    for i in range(L - W + 1):\n",
    "        window = X[i:i+W, :]          # (W, 4)\n",
    "        s = np.sum(window * pwm_Wx4)  # elementwise + sum\n",
    "        scores.append(float(s))\n",
    "    return scores\n",
    "\n",
    "for rec in SeqIO.parse(FA, \"fasta\"):\n",
    "    scores = scan_motif_on_sequence(str(rec.seq), motif_pwm)\n",
    "    print(f\"{rec.id} | length={len(rec.seq)} | motif_len={motif_len} | n_scores={len(scores)}\")\n",
    "    print(\"scores:\", scores)\n",
    "    print(\"max:\", max(scores) if scores else None)\n",
    "    print(\"-\"*60)\n",
    "EOF"
   ]
  },
  {
   "cell_type": "code",
   "execution_count": null,
   "id": "91d56acf-d053-4057-bba5-50fdec78a30c",
   "metadata": {},
   "outputs": [],
   "source": [
    "run_memelite python - <<'EOF'\n",
    "import numpy as np\n",
    "from memelite.io import read_meme\n",
    "from memelite.utils import one_hot_encode\n",
    "from Bio import SeqIO\n",
    "\n",
    "MEME = \"/hpc/group/igvf/kk319/data/jaspar2024/JASPAR2024_CORE_vertebrates_non-redundant.meme\"\n",
    "FA   = \"/hpc/group/igvf/kk319/repo/Proj_IGVF_BlueSTARR/results/analysis_variant_delta_motif/test_seq.fa\"\n",
    "\n",
    "# Load motifs (keys look like \"MA0002.3 Runx1\")\n",
    "motifs = read_meme(MEME)\n",
    "key = \"MA0002.3 Runx1\"\n",
    "assert key in motifs, f\"{key} not found; available example keys: {list(motifs.keys())[:5]}\"\n",
    "\n",
    "# PWM from JASPAR is (4, W) -> transpose to (W, 4)\n",
    "motif_pwm = motifs[key].T\n",
    "motif_len = motif_pwm.shape[0]  # W\n",
    "\n",
    "def scan_motif_on_sequence(seq_str, pwm_Wx4):\n",
    "    # one_hot_encode returns (4, L) -> transpose to (L, 4)\n",
    "    X = one_hot_encode(seq_str).T\n",
    "    L = X.shape[0]\n",
    "    W = pwm_Wx4.shape[0]\n",
    "    scores = []\n",
    "    for i in range(L - W + 1):\n",
    "        window = X[i:i+W, :]          # (W, 4)\n",
    "        s = np.sum(window * pwm_Wx4)  # elementwise + sum\n",
    "        scores.append(float(s))\n",
    "    return scores\n",
    "\n",
    "for rec in SeqIO.parse(FA, \"fasta\"):\n",
    "    scores = scan_motif_on_sequence(str(rec.seq), motif_pwm)\n",
    "    print(f\"{rec.id} | length={len(rec.seq)} | motif_len={motif_len} | n_scores={len(scores)}\")\n",
    "    print(\"scores:\", scores)\n",
    "    print(\"max:\", max(scores) if scores else None)\n",
    "    print(\"-\"*60)\n",
    "EOF"
   ]
  },
  {
   "cell_type": "code",
   "execution_count": 4,
   "id": "f60ae3b7-b419-4835-afc4-a31ccc40c586",
   "metadata": {},
   "outputs": [
    {
     "name": "stdout",
     "output_type": "stream",
     "text": [
      "<class 'numpy.ndarray'>\n",
      "(4, 9)\n"
     ]
    }
   ],
   "source": [
    "run_memelite python - <<'EOF'\n",
    "import numpy as np\n",
    "from memelite.io    import read_meme\n",
    "from memelite.utils import one_hot_encode\n",
    "\n",
    "# \n",
    "txt_fpath_meme = \"/hpc/group/igvf/kk319/data/jaspar2024/JASPAR2024_CORE_vertebrates_non-redundant.meme\"\n",
    "\n",
    "# Example usage:\n",
    "dct_motif_import = read_meme(txt_fpath_meme)\n",
    "mat_motif_select = dct_motif_import[\"MA0002.3 Runx1\"]\n",
    "\n",
    "print(type(mat_motif_select))\n",
    "print(mat_motif_select.shape)\n",
    "EOF"
   ]
  },
  {
   "cell_type": "code",
   "execution_count": null,
   "id": "72187b06-6ea1-4117-bc13-7319aa0e9331",
   "metadata": {},
   "outputs": [],
   "source": [
    "run_memelite python - <<'EOF'\n",
    "import numpy as np\n",
    "from memelite.io import read_meme\n",
    "from memelite.utils import one_hot_encode\n",
    "\n",
    "def pwm_to_logodds_Wx4(pwm_4xW, bg=(0.25,0.25,0.25,0.25), eps=1e-6):\n",
    "    pwm = np.clip(pwm_4xW.astype(float), eps, 1.0)\n",
    "    lod = np.log2(pwm / np.array(bg)[:,None])\n",
    "    return lod.T  # (W,4)\n",
    "\n",
    "def scan_motif_vector(seq_str, pwm_Wx4):\n",
    "    X = one_hot_encode(seq_str).T  # (L,4)\n",
    "    L, W = X.shape[0], pwm_Wx4.shape[0]\n",
    "    return [float(np.sum(X[i:i+W,:] * pwm_Wx4)) for i in range(L - W + 1)]\n",
    "\n",
    "# Example usage:\n",
    "motifs = read_meme(\"/path/JASPAR2024_CORE_vertebrates_non-redundant.meme\")\n",
    "pwm_Wx4 = pwm_to_logodds_Wx4(motifs[\"MA0002.3 Runx1\"])\n",
    "scores = scan_motif_vector(\"AAATGTGGTAACCCATGCGT\", pwm_Wx4)\n",
    "print(scores)  # vector of per-position scores\n",
    "EOF"
   ]
  }
 ],
 "metadata": {
  "kernelspec": {
   "display_name": "Bash",
   "language": "bash",
   "name": "bash"
  },
  "language_info": {
   "codemirror_mode": "shell",
   "file_extension": ".sh",
   "mimetype": "text/x-sh",
   "name": "bash"
  }
 },
 "nbformat": 4,
 "nbformat_minor": 5
}
