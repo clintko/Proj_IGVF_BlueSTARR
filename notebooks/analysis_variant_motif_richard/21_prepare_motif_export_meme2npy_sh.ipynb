{
 "cells": [
  {
   "cell_type": "raw",
   "id": "1e7a289f-e627-4d1c-8570-3ae2e774affd",
   "metadata": {},
   "source": [
    "---\n",
    "title: Variant results from Richard 01\n",
    "subtitle: Explore and get the files \n",
    "format:\n",
    "    html:\n",
    "        code-fold:  true\n",
    "        code-tools: true\n",
    "---"
   ]
  },
  {
   "cell_type": "markdown",
   "id": "d5dbb0dd-30d3-479b-a73c-07afa8469100",
   "metadata": {},
   "source": [
    "**Set environment**"
   ]
  },
  {
   "cell_type": "code",
   "execution_count": 1,
   "id": "732ec911-ee7d-41a2-af92-5a10adbc4dae",
   "metadata": {},
   "outputs": [
    {
     "name": "stdout",
     "output_type": "stream",
     "text": [
      "BASE DIRECTORY (FD_BASE):      /hpc/group/igvf/kk319\n",
      "REPO DIRECTORY (FD_REPO):      /hpc/group/igvf/kk319/repo\n",
      "WORK DIRECTORY (FD_WORK):      /hpc/group/igvf/kk319/work\n",
      "DATA DIRECTORY (FD_DATA):      /hpc/group/igvf/kk319/data\n",
      "CONTAINER DIR. (FD_SING):      /hpc/group/igvf/kk319/container\n",
      "\n",
      "You are working with           \n",
      "PATH OF PROJECT (FD_PRJ):      /hpc/group/igvf/kk319/repo/Proj_IGVF_BlueSTARR\n",
      "PROJECT RESULTS (FD_RES):      /hpc/group/igvf/kk319/repo/Proj_IGVF_BlueSTARR/results\n",
      "PROJECT SCRIPTS (FD_EXE):      /hpc/group/igvf/kk319/repo/Proj_IGVF_BlueSTARR/scripts\n",
      "PROJECT DATA    (FD_DAT):      /hpc/group/igvf/kk319/repo/Proj_IGVF_BlueSTARR/data\n",
      "PROJECT NOTE    (FD_NBK):      /hpc/group/igvf/kk319/repo/Proj_IGVF_BlueSTARR/notebooks\n",
      "PROJECT DOCS    (FD_DOC):      /hpc/group/igvf/kk319/repo/Proj_IGVF_BlueSTARR/docs\n",
      "PROJECT LOG     (FD_LOG):      /hpc/group/igvf/kk319/repo/Proj_IGVF_BlueSTARR/log\n",
      "PROJECT REF     (FD_REF):      /hpc/group/igvf/kk319/repo/Proj_IGVF_BlueSTARR/references\n",
      "PROJECT IMAGE   (FP_PRJ_SIF):  /hpc/group/igvf/kk319/container/project/singularity_proj_igvf_bluestarr.sif\n",
      "PROJECT CONF.   (FP_CNF):      /hpc/group/igvf/kk319/repo/Proj_IGVF_BlueSTARR/scripts/config_project.sh\n",
      "\n"
     ]
    }
   ],
   "source": [
    "source ../run_config_project.sh\n",
    "show_env"
   ]
  },
  {
   "cell_type": "markdown",
   "id": "1621f084-bfa6-4e6c-bb24-30cae4d8ea35",
   "metadata": {},
   "source": [
    "## Explore motif"
   ]
  },
  {
   "cell_type": "markdown",
   "id": "6c8db00f-16e9-4f1c-b5b7-e451fd18050b",
   "metadata": {},
   "source": [
    "```\n",
    "MEME version 4\n",
    "\n",
    "ALPHABET= ACGT\n",
    "\n",
    "Background letter frequencies\n",
    "A 0.25 C 0.25 G 0.25 T 0.25\n",
    "```"
   ]
  },
  {
   "cell_type": "code",
   "execution_count": 2,
   "id": "777f1f6f-7440-4b9a-889b-dff8509e8ac5",
   "metadata": {},
   "outputs": [
    {
     "name": "stdout",
     "output_type": "stream",
     "text": [
      "MEME version 4\n",
      "\n",
      "ALPHABET= ACGT\n",
      "\n",
      "strands: + -\n",
      "\n",
      "Background letter frequencies\n",
      "A 0.25 C 0.25 G 0.25 T 0.25\n",
      "\n",
      "MOTIF MA0002.3 Runx1\n",
      "letter-probability matrix: alength= 4 w= 9 nsites= 2000 E= 0\n",
      " 0.061500  0.536000  0.074500  0.328000\n",
      " 0.028500  0.000000  0.003500  0.968000\n",
      " 0.000000  0.037500  0.936000  0.026500\n",
      " 0.043500  0.063500  0.035000  0.858000\n",
      " 0.000000  0.000000  0.993500  0.006500\n",
      " 0.008500  0.021000  0.924000  0.046500\n",
      " 0.005000  0.200000  0.125500  0.669500\n",
      " 0.065500  0.231500  0.040500  0.662500\n",
      " 0.250000  0.079000  0.144500  0.526500\n",
      "URL http://jaspar.genereg.net/matrix/MA0002.3\n",
      "\n"
     ]
    }
   ],
   "source": [
    "TXT_FDIRY=${FD_DATA}/jaspar2024\n",
    "TXT_FNAME=\"JASPAR2024_CORE_vertebrates_non-redundant.meme\"\n",
    "TXT_FPATH=${TXT_FDIRY}/${TXT_FNAME}\n",
    "\n",
    "cat ${TXT_FPATH} | head -n 22"
   ]
  },
  {
   "cell_type": "markdown",
   "id": "b3668d49-96cc-44b8-9850-b7c16cc2e2b3",
   "metadata": {},
   "source": [
    "## Export motif to numpy array"
   ]
  },
  {
   "cell_type": "code",
   "execution_count": 5,
   "id": "37647bd8-0aa9-4198-94cc-38a871a64250",
   "metadata": {},
   "outputs": [
    {
     "name": "stdout",
     "output_type": "stream",
     "text": [
      "Saved 879 motifs -> /hpc/group/igvf/kk319/data/jaspar2024/JASPAR2024_CORE_vertebrates_non-redundant.npz\n"
     ]
    }
   ],
   "source": [
    "run_memelite python - <<'EOF'\n",
    "import numpy as np\n",
    "import os\n",
    "\n",
    "from memelite.io import read_meme\n",
    "\n",
    "def pwm_to_logodds(arr_motif_pwm, bg=(0.25,0.25,0.25,0.25), eps=1e-6):\n",
    "    \"\"\"\n",
    "    Convert PWM (W,4) to log-odds (W,4).\n",
    "\n",
    "    Parameters\n",
    "    ----------\n",
    "    arr_motif_pwm : \n",
    "        Motif pwm matrix of shape (W,4).\n",
    "\n",
    "    Returns\n",
    "    -------\n",
    "    np.ndarray\n",
    "        Motif log-odds matrix of shape (W,4).\n",
    "    \"\"\"\n",
    "    # Ensure dtype and clip to avoid log2(0) = -inf\n",
    "    arr_motif_pwm = arr_motif_pwm.astype(float)\n",
    "    arr_motif_pwm = np.clip(arr_motif_pwm, eps, 1.0)\n",
    "\n",
    "    # calculate the log-odds scores relative to background\n",
    "    arr_motif_lod = np.log2(arr_motif_pwm / np.array(bg)[None,:])\n",
    "    return arr_motif_lod\n",
    "\n",
    "def main(txt_fpath_inp, txt_fpath_out, bg=(0.25,0.25,0.25,0.25)):\n",
    "    \"\"\"Main function\"\"\"\n",
    "    \n",
    "    ### import meme\n",
    "    dct_arr_motif_pwm_4xW = read_meme(txt_fpath_inp)\n",
    "\n",
    "    ### convert PWM to log-odds\n",
    "    ### Note: motif from meme file with shape (4, W)\n",
    "    dct_arr_motif_pwm_Wx4 = dict()\n",
    "    dct_arr_motif_lod_Wx4 = dict()\n",
    "    \n",
    "    for txt_motif_name, arr_motif_pwm_4xW in dct_arr_motif_pwm_4xW.items():\n",
    "        ### convert pwm (4,W) -> pwm (W,4) -> log-odds (W,4)\n",
    "        arr_motif_pwm_Wx4 = arr_motif_pwm_4xW.T.astype(float)\n",
    "        arr_motif_lod_Wx4 = pwm_to_logodds(arr_motif_pwm_Wx4, bg=bg)\n",
    "\n",
    "        ### collect results\n",
    "        dct_arr_motif_pwm_Wx4[txt_motif_name] = arr_motif_pwm_Wx4\n",
    "        dct_arr_motif_lod_Wx4[txt_motif_name] = arr_motif_lod_Wx4\n",
    "\n",
    "    ### export motif pwm and log-odds\n",
    "    np.savez_compressed(\n",
    "        txt_fpath_out,\n",
    "        pwms  = np.array(dct_arr_motif_pwm_Wx4, dtype=object),  # dict of {motif_name: (W,4)}\n",
    "        lods  = np.array(dct_arr_motif_lod_Wx4, dtype=object),  # dict of {motif_name: (W,4)}\n",
    "        bg    = np.array(bg, dtype=np.float32),                 # background probs (A,C,G,T)\n",
    "        names = np.array(list(dct_arr_motif_pwm_Wx4.keys()), dtype=object),  # motif names\n",
    "        alphabet=\"ACGT\",\n",
    "    )\n",
    "\n",
    "    print(f\"Saved {len(dct_arr_motif_pwm_4xW)} motifs -> {txt_fpath_out}\")\n",
    "    \n",
    "if __name__ == \"__main__\":\n",
    "\n",
    "    ### Define input/output file path\n",
    "    txt_fdiry = \"/hpc/group/igvf/kk319/data/jaspar2024\"\n",
    "    \n",
    "    txt_fname_inp = \"JASPAR2024_CORE_vertebrates_non-redundant.meme\"\n",
    "    txt_fpath_inp = os.path.join(txt_fdiry, txt_fname_inp)\n",
    "\n",
    "    txt_fname_out = \"JASPAR2024_CORE_vertebrates_non-redundant.npz\"\n",
    "    txt_fpath_out = os.path.join(txt_fdiry, txt_fname_out)\n",
    "    \n",
    "    ### Run main function\n",
    "    main(txt_fpath_inp, txt_fpath_out)\n",
    "\n",
    "EOF"
   ]
  },
  {
   "cell_type": "code",
   "execution_count": null,
   "id": "3958c7cf-1dae-4bc6-9339-073c9a4ca0af",
   "metadata": {},
   "outputs": [],
   "source": []
  }
 ],
 "metadata": {
  "kernelspec": {
   "display_name": "Bash",
   "language": "bash",
   "name": "bash"
  },
  "language_info": {
   "codemirror_mode": "shell",
   "file_extension": ".sh",
   "mimetype": "text/x-sh",
   "name": "bash"
  }
 },
 "nbformat": 4,
 "nbformat_minor": 5
}
