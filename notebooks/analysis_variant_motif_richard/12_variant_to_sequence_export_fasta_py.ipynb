{
 "cells": [
  {
   "cell_type": "raw",
   "id": "c0ad035c-00c6-4ca4-88b4-62f35d5dd08c",
   "metadata": {},
   "source": [
    "---\n",
    "title: Get sequence of variants 02\n",
    "subtitle: Export sequence for observed/unobserved alleles into fasta files\n",
    "format:\n",
    "    html:\n",
    "        code-fold:  true\n",
    "        code-tools: true\n",
    "---"
   ]
  },
  {
   "cell_type": "markdown",
   "id": "7ff292de-bbf4-4eb7-998c-95b035eb7212",
   "metadata": {},
   "source": [
    "**Set environment**"
   ]
  },
  {
   "cell_type": "code",
   "execution_count": 1,
   "id": "6aab9a44-11eb-4326-8794-b549a00d3a43",
   "metadata": {},
   "outputs": [],
   "source": [
    "import numpy  as np\n",
    "import pandas as pd\n",
    "import os\n",
    "\n",
    "from Bio.Seq       import Seq\n",
    "from Bio.SeqRecord import SeqRecord\n",
    "from Bio           import SeqIO"
   ]
  },
  {
   "cell_type": "code",
   "execution_count": 2,
   "id": "49db0587-048a-4ab1-9d3d-d7b873cb81f6",
   "metadata": {},
   "outputs": [
    {
     "name": "stdout",
     "output_type": "stream",
     "text": [
      "BASE DIRECTORY (FD_BASE): /hpc/group/igvf/kk319\n",
      "REPO DIRECTORY (FD_REPO): /hpc/group/igvf/kk319/repo\n",
      "WORK DIRECTORY (FD_WORK): /hpc/group/igvf/kk319/work\n",
      "DATA DIRECTORY (FD_DATA): /hpc/group/igvf/kk319/data\n",
      "\n",
      "\n",
      "You are working with      IGVF BlueSTARR\n",
      "PATH OF PROJECT (FD_PRJ): /hpc/group/igvf/kk319/repo/Proj_IGVF_BlueSTARR\n",
      "PROJECT RESULTS (FD_RES): /hpc/group/igvf/kk319/repo/Proj_IGVF_BlueSTARR/results\n",
      "PROJECT SCRIPTS (FD_EXE): /hpc/group/igvf/kk319/repo/Proj_IGVF_BlueSTARR/scripts\n",
      "PROJECT DATA    (FD_DAT): /hpc/group/igvf/kk319/repo/Proj_IGVF_BlueSTARR/data\n",
      "PROJECT NOTE    (FD_NBK): /hpc/group/igvf/kk319/repo/Proj_IGVF_BlueSTARR/notebooks\n",
      "PROJECT DOCS    (FD_DOC): /hpc/group/igvf/kk319/repo/Proj_IGVF_BlueSTARR/docs\n",
      "PROJECT LOG     (FD_LOG): /hpc/group/igvf/kk319/repo/Proj_IGVF_BlueSTARR/log\n",
      "PROJECT REF     (FD_REF): /hpc/group/igvf/kk319/repo/Proj_IGVF_BlueSTARR/references\n",
      "\n"
     ]
    }
   ],
   "source": [
    "%run ../run_config_project.py\n",
    "show_env()"
   ]
  },
  {
   "cell_type": "markdown",
   "id": "9802bcac-87cc-4d0d-a913-8820cd3fa77c",
   "metadata": {},
   "source": [
    "## Import data"
   ]
  },
  {
   "cell_type": "markdown",
   "id": "809a9426-403e-4f7a-80bc-753c5208d926",
   "metadata": {},
   "source": [
    "**Check file existent**"
   ]
  },
  {
   "cell_type": "code",
   "execution_count": 3,
   "id": "9456f068-5ed3-4410-bd79-c7c1d78f5cce",
   "metadata": {},
   "outputs": [
    {
     "name": "stdout",
     "output_type": "stream",
     "text": [
      "env: FD_RES=/hpc/group/igvf/kk319/repo/Proj_IGVF_BlueSTARR/results\n"
     ]
    }
   ],
   "source": [
    "%env FD_RES={FD_RES}"
   ]
  },
  {
   "cell_type": "code",
   "execution_count": 4,
   "id": "bc15b338-1adb-449f-bcbc-f6ff8d2aa789",
   "metadata": {},
   "outputs": [
    {
     "name": "stdout",
     "output_type": "stream",
     "text": [
      "test_seq.fa\n",
      "test_seq.fa.fai\n",
      "test_variants.fa\n",
      "test_variants.fa.fai\n",
      "variant_closed_gof_bluestarr.tsv.gz\n",
      "variant_closed_gof_bluestarr_withseq_flank35.tsv.gz\n"
     ]
    }
   ],
   "source": [
    "%%bash\n",
    "ls ${FD_RES}/analysis_variant_motif_richard"
   ]
  },
  {
   "cell_type": "markdown",
   "id": "c2603e49-a3bb-43fc-9d1b-581487d17ada",
   "metadata": {},
   "source": [
    "**Import table**"
   ]
  },
  {
   "cell_type": "code",
   "execution_count": 5,
   "id": "8c771dcb-5e06-405b-9f2c-25c322195080",
   "metadata": {},
   "outputs": [
    {
     "name": "stdout",
     "output_type": "stream",
     "text": [
      "(1884977, 17)\n"
     ]
    },
    {
     "data": {
      "text/html": [
       "<div>\n",
       "<style scoped>\n",
       "    .dataframe tbody tr th:only-of-type {\n",
       "        vertical-align: middle;\n",
       "    }\n",
       "\n",
       "    .dataframe tbody tr th {\n",
       "        vertical-align: top;\n",
       "    }\n",
       "\n",
       "    .dataframe thead th {\n",
       "        text-align: right;\n",
       "    }\n",
       "</style>\n",
       "<table border=\"1\" class=\"dataframe\">\n",
       "  <thead>\n",
       "    <tr style=\"text-align: right;\">\n",
       "      <th></th>\n",
       "      <th>Chrom</th>\n",
       "      <th>ChromStart</th>\n",
       "      <th>ChromEnd</th>\n",
       "      <th>Region</th>\n",
       "      <th>Variant_ID</th>\n",
       "      <th>Pos0</th>\n",
       "      <th>Ref</th>\n",
       "      <th>Obs</th>\n",
       "      <th>Unobs</th>\n",
       "      <th>Delta</th>\n",
       "      <th>Flank</th>\n",
       "      <th>Interval</th>\n",
       "      <th>Seq_Length</th>\n",
       "      <th>Seq_Ref</th>\n",
       "      <th>Seq_Obs</th>\n",
       "      <th>Seq_Unobs</th>\n",
       "      <th>Check_RefMatch</th>\n",
       "    </tr>\n",
       "  </thead>\n",
       "  <tbody>\n",
       "    <tr>\n",
       "      <th>0</th>\n",
       "      <td>chr4</td>\n",
       "      <td>74487576</td>\n",
       "      <td>74488141</td>\n",
       "      <td>chr4:74487576-74488141</td>\n",
       "      <td>chr4:74487586:A:G:C</td>\n",
       "      <td>74487586</td>\n",
       "      <td>A</td>\n",
       "      <td>G</td>\n",
       "      <td>C</td>\n",
       "      <td>0.964984</td>\n",
       "      <td>35</td>\n",
       "      <td>chr4:74487551-74487622</td>\n",
       "      <td>71</td>\n",
       "      <td>ACATGTGTGTATGCTTGTCTATATACACTGTATGAAGCAAGAGGAG...</td>\n",
       "      <td>ACATGTGTGTATGCTTGTCTATATACACTGTATGAGGCAAGAGGAG...</td>\n",
       "      <td>ACATGTGTGTATGCTTGTCTATATACACTGTATGACGCAAGAGGAG...</td>\n",
       "      <td>True</td>\n",
       "    </tr>\n",
       "    <tr>\n",
       "      <th>1</th>\n",
       "      <td>chr9</td>\n",
       "      <td>135685425</td>\n",
       "      <td>135685942</td>\n",
       "      <td>chr9:135685425-135685942</td>\n",
       "      <td>chr9:135685432:G:G:C</td>\n",
       "      <td>135685432</td>\n",
       "      <td>G</td>\n",
       "      <td>G</td>\n",
       "      <td>C</td>\n",
       "      <td>0.945423</td>\n",
       "      <td>35</td>\n",
       "      <td>chr9:135685397-135685468</td>\n",
       "      <td>71</td>\n",
       "      <td>CCGGGGACACATCCCCCAGGAAACCTCTGGGCTGAGGCAACACCAA...</td>\n",
       "      <td>CCGGGGACACATCCCCCAGGAAACCTCTGGGCTGAGGCAACACCAA...</td>\n",
       "      <td>CCGGGGACACATCCCCCAGGAAACCTCTGGGCTGACGCAACACCAA...</td>\n",
       "      <td>True</td>\n",
       "    </tr>\n",
       "    <tr>\n",
       "      <th>2</th>\n",
       "      <td>chr1</td>\n",
       "      <td>173251481</td>\n",
       "      <td>173251541</td>\n",
       "      <td>chr1:173251481-173251541</td>\n",
       "      <td>chr1:173251490:G:G:C</td>\n",
       "      <td>173251490</td>\n",
       "      <td>G</td>\n",
       "      <td>G</td>\n",
       "      <td>C</td>\n",
       "      <td>0.910127</td>\n",
       "      <td>35</td>\n",
       "      <td>chr1:173251455-173251526</td>\n",
       "      <td>71</td>\n",
       "      <td>ACATAGTACTCAATACCTATTTGGTGAATAGATGAGGCAATCTCAC...</td>\n",
       "      <td>ACATAGTACTCAATACCTATTTGGTGAATAGATGAGGCAATCTCAC...</td>\n",
       "      <td>ACATAGTACTCAATACCTATTTGGTGAATAGATGACGCAATCTCAC...</td>\n",
       "      <td>True</td>\n",
       "    </tr>\n",
       "    <tr>\n",
       "      <th>3</th>\n",
       "      <td>chr1</td>\n",
       "      <td>147523084</td>\n",
       "      <td>147523503</td>\n",
       "      <td>chr1:147523084-147523503</td>\n",
       "      <td>chr1:147523391:G:G:C</td>\n",
       "      <td>147523391</td>\n",
       "      <td>G</td>\n",
       "      <td>G</td>\n",
       "      <td>C</td>\n",
       "      <td>0.908800</td>\n",
       "      <td>35</td>\n",
       "      <td>chr1:147523356-147523427</td>\n",
       "      <td>71</td>\n",
       "      <td>ATTTTTAAAAGTTCAGGTAGTTTAAAGATGGCTGAGGCAATGCAAT...</td>\n",
       "      <td>ATTTTTAAAAGTTCAGGTAGTTTAAAGATGGCTGAGGCAATGCAAT...</td>\n",
       "      <td>ATTTTTAAAAGTTCAGGTAGTTTAAAGATGGCTGACGCAATGCAAT...</td>\n",
       "      <td>True</td>\n",
       "    </tr>\n",
       "    <tr>\n",
       "      <th>4</th>\n",
       "      <td>chr18</td>\n",
       "      <td>54580694</td>\n",
       "      <td>54581420</td>\n",
       "      <td>chr18:54580694-54581420</td>\n",
       "      <td>chr18:54580749:A:G:T</td>\n",
       "      <td>54580749</td>\n",
       "      <td>A</td>\n",
       "      <td>G</td>\n",
       "      <td>T</td>\n",
       "      <td>0.862296</td>\n",
       "      <td>35</td>\n",
       "      <td>chr18:54580714-54580785</td>\n",
       "      <td>71</td>\n",
       "      <td>TGTTTAGCTAACAGAAATACTTCAGCAGAGCCTGAAGCAATGGCCA...</td>\n",
       "      <td>TGTTTAGCTAACAGAAATACTTCAGCAGAGCCTGAGGCAATGGCCA...</td>\n",
       "      <td>TGTTTAGCTAACAGAAATACTTCAGCAGAGCCTGATGCAATGGCCA...</td>\n",
       "      <td>True</td>\n",
       "    </tr>\n",
       "  </tbody>\n",
       "</table>\n",
       "</div>"
      ],
      "text/plain": [
       "   Chrom  ChromStart   ChromEnd                    Region  \\\n",
       "0   chr4    74487576   74488141    chr4:74487576-74488141   \n",
       "1   chr9   135685425  135685942  chr9:135685425-135685942   \n",
       "2   chr1   173251481  173251541  chr1:173251481-173251541   \n",
       "3   chr1   147523084  147523503  chr1:147523084-147523503   \n",
       "4  chr18    54580694   54581420   chr18:54580694-54581420   \n",
       "\n",
       "             Variant_ID       Pos0 Ref Obs Unobs     Delta  Flank  \\\n",
       "0   chr4:74487586:A:G:C   74487586   A   G     C  0.964984     35   \n",
       "1  chr9:135685432:G:G:C  135685432   G   G     C  0.945423     35   \n",
       "2  chr1:173251490:G:G:C  173251490   G   G     C  0.910127     35   \n",
       "3  chr1:147523391:G:G:C  147523391   G   G     C  0.908800     35   \n",
       "4  chr18:54580749:A:G:T   54580749   A   G     T  0.862296     35   \n",
       "\n",
       "                   Interval  Seq_Length  \\\n",
       "0    chr4:74487551-74487622          71   \n",
       "1  chr9:135685397-135685468          71   \n",
       "2  chr1:173251455-173251526          71   \n",
       "3  chr1:147523356-147523427          71   \n",
       "4   chr18:54580714-54580785          71   \n",
       "\n",
       "                                             Seq_Ref  \\\n",
       "0  ACATGTGTGTATGCTTGTCTATATACACTGTATGAAGCAAGAGGAG...   \n",
       "1  CCGGGGACACATCCCCCAGGAAACCTCTGGGCTGAGGCAACACCAA...   \n",
       "2  ACATAGTACTCAATACCTATTTGGTGAATAGATGAGGCAATCTCAC...   \n",
       "3  ATTTTTAAAAGTTCAGGTAGTTTAAAGATGGCTGAGGCAATGCAAT...   \n",
       "4  TGTTTAGCTAACAGAAATACTTCAGCAGAGCCTGAAGCAATGGCCA...   \n",
       "\n",
       "                                             Seq_Obs  \\\n",
       "0  ACATGTGTGTATGCTTGTCTATATACACTGTATGAGGCAAGAGGAG...   \n",
       "1  CCGGGGACACATCCCCCAGGAAACCTCTGGGCTGAGGCAACACCAA...   \n",
       "2  ACATAGTACTCAATACCTATTTGGTGAATAGATGAGGCAATCTCAC...   \n",
       "3  ATTTTTAAAAGTTCAGGTAGTTTAAAGATGGCTGAGGCAATGCAAT...   \n",
       "4  TGTTTAGCTAACAGAAATACTTCAGCAGAGCCTGAGGCAATGGCCA...   \n",
       "\n",
       "                                           Seq_Unobs  Check_RefMatch  \n",
       "0  ACATGTGTGTATGCTTGTCTATATACACTGTATGACGCAAGAGGAG...            True  \n",
       "1  CCGGGGACACATCCCCCAGGAAACCTCTGGGCTGACGCAACACCAA...            True  \n",
       "2  ACATAGTACTCAATACCTATTTGGTGAATAGATGACGCAATCTCAC...            True  \n",
       "3  ATTTTTAAAAGTTCAGGTAGTTTAAAGATGGCTGACGCAATGCAAT...            True  \n",
       "4  TGTTTAGCTAACAGAAATACTTCAGCAGAGCCTGATGCAATGGCCA...            True  "
      ]
     },
     "execution_count": 5,
     "metadata": {},
     "output_type": "execute_result"
    }
   ],
   "source": [
    "### set file directory\n",
    "txt_fdiry = os.path.join(FD_RES, \"analysis_variant_motif_richard\")\n",
    "txt_fname = \"variant_closed_gof_bluestarr_withseq_flank35.tsv.gz\"\n",
    "txt_fpath = os.path.join(txt_fdiry, txt_fname)\n",
    "\n",
    "### read table\n",
    "dat = pd.read_csv(txt_fpath, sep = \"\\t\")\n",
    "\n",
    "### assign and show\n",
    "dat_variant_withseq = dat\n",
    "print(dat.shape)\n",
    "dat.head()"
   ]
  },
  {
   "cell_type": "markdown",
   "id": "e6a41078-4550-4735-b6ff-4421067f8720",
   "metadata": {},
   "source": [
    "## Helper function"
   ]
  },
  {
   "cell_type": "markdown",
   "id": "4afbae8f-4cf3-404a-ba97-79301050a751",
   "metadata": {},
   "source": [
    "**Test**"
   ]
  },
  {
   "cell_type": "code",
   "execution_count": 6,
   "id": "d8e43947-8ab2-439b-adf1-7aae18eeb094",
   "metadata": {},
   "outputs": [
    {
     "data": {
      "text/plain": [
       "0     chr4:74487586:A:G:C\n",
       "1    chr9:135685432:G:G:C\n",
       "2    chr1:173251490:G:G:C\n",
       "3    chr1:147523391:G:G:C\n",
       "4    chr18:54580749:A:G:T\n",
       "Name: Variant_ID, dtype: object"
      ]
     },
     "execution_count": 6,
     "metadata": {},
     "output_type": "execute_result"
    }
   ],
   "source": [
    "dat[\"Variant_ID\"].head()"
   ]
  },
  {
   "cell_type": "code",
   "execution_count": 7,
   "id": "9b80801c-56c9-447c-9066-bf92b34de8e0",
   "metadata": {},
   "outputs": [
    {
     "data": {
      "text/plain": [
       "0    ACATGTGTGTATGCTTGTCTATATACACTGTATGAAGCAAGAGGAG...\n",
       "1    CCGGGGACACATCCCCCAGGAAACCTCTGGGCTGAGGCAACACCAA...\n",
       "2    ACATAGTACTCAATACCTATTTGGTGAATAGATGAGGCAATCTCAC...\n",
       "3    ATTTTTAAAAGTTCAGGTAGTTTAAAGATGGCTGAGGCAATGCAAT...\n",
       "4    TGTTTAGCTAACAGAAATACTTCAGCAGAGCCTGAAGCAATGGCCA...\n",
       "Name: Seq_Ref, dtype: object"
      ]
     },
     "execution_count": 7,
     "metadata": {},
     "output_type": "execute_result"
    }
   ],
   "source": [
    "dat[\"Seq_Ref\"].head()"
   ]
  },
  {
   "cell_type": "code",
   "execution_count": 8,
   "id": "9b0591dc-5a83-496c-a088-7517442f7ef8",
   "metadata": {},
   "outputs": [
    {
     "name": "stdout",
     "output_type": "stream",
     "text": [
      "ACATGTGTGTATGCTTGTCTATATACACTGTATGAAGCAAGAGGAGAAAATACTCATGAATTCTAGGAACT\n",
      "ACATGTGTGTATGCTTGTCTATATACACTGTATGAAGCAAGAGGAGAAAATACTCATGAATTCTAGGAACT\n",
      "<class 'Bio.Seq.Seq'>\n"
     ]
    }
   ],
   "source": [
    "seq = dat[\"Seq_Ref\"][0]\n",
    "print(seq)\n",
    "\n",
    "seq = Seq(seq)\n",
    "print(seq)\n",
    "print(type(seq))"
   ]
  },
  {
   "cell_type": "code",
   "execution_count": 9,
   "id": "82ec86b0-e2ae-4584-96c4-1fb883607b1a",
   "metadata": {},
   "outputs": [
    {
     "name": "stdout",
     "output_type": "stream",
     "text": [
      "ID: chr4:74487586:A:G:C\n",
      "Name: <unknown name>\n",
      "Number of features: 0\n",
      "Seq('ACATGTGTGTATGCTTGTCTATATACACTGTATGAAGCAAGAGGAGAAAATACT...ACT')\n"
     ]
    }
   ],
   "source": [
    "idx = dat[\"Variant_ID\"][0]\n",
    "seq = dat[\"Seq_Ref\"][0]\n",
    "seq = SeqRecord(Seq(seq), id=idx, description=\"\")\n",
    "print(seq)"
   ]
  },
  {
   "cell_type": "markdown",
   "id": "ffc941d0-284e-4b11-b137-120152d8d78a",
   "metadata": {},
   "source": [
    "**FASTA writer using Biopython**"
   ]
  },
  {
   "cell_type": "code",
   "execution_count": 10,
   "id": "2c9ce580-48e6-4649-94ef-03ff6a11cba9",
   "metadata": {},
   "outputs": [],
   "source": [
    "def write_fasta_biopython(txt_fpath, vec_txt_index, vec_txt_sequence):\n",
    "    lst_seq_record = [\n",
    "        SeqRecord(Seq(seq), id=idx, description=\"\")\n",
    "        for idx, seq in zip(vec_txt_index, vec_txt_sequence)\n",
    "    ]\n",
    "    SeqIO.write(lst_seq_record, txt_fpath, \"fasta\")"
   ]
  },
  {
   "cell_type": "markdown",
   "id": "2d19fbd6-39e0-4f85-b9b2-cf3ca0658645",
   "metadata": {},
   "source": [
    "## Export sequences in fasta files"
   ]
  },
  {
   "cell_type": "markdown",
   "id": "2822d12e-565a-427d-b38f-690a1f2ea5dc",
   "metadata": {},
   "source": [
    "**Set file paths**"
   ]
  },
  {
   "cell_type": "code",
   "execution_count": 11,
   "id": "f36fede6-f145-45d0-a3ad-36cb86053343",
   "metadata": {},
   "outputs": [],
   "source": [
    "txt_fdiry       = os.path.join(FD_RES,    \"analysis_variant_motif_richard\")\n",
    "txt_fpath_ref   = os.path.join(txt_fdiry, \"variant_closed_gof_bluestarr_flank35_ref.fa\")\n",
    "txt_fpath_obs   = os.path.join(txt_fdiry, \"variant_closed_gof_bluestarr_flank35_obs.fa\")\n",
    "txt_fpath_unobs = os.path.join(txt_fdiry, \"variant_closed_gof_bluestarr_flank35_unobs.fa\")"
   ]
  },
  {
   "cell_type": "markdown",
   "id": "15426b06-dfea-4c69-83c4-d5dbb5a92632",
   "metadata": {},
   "source": [
    "**Export files**"
   ]
  },
  {
   "cell_type": "code",
   "execution_count": 12,
   "id": "bbc8464d-d683-4b58-a64f-f9eb9056d2df",
   "metadata": {},
   "outputs": [
    {
     "name": "stdout",
     "output_type": "stream",
     "text": [
      "Wrote Ref FASTA: /hpc/group/igvf/kk319/repo/Proj_IGVF_BlueSTARR/results/analysis_variant_motif_richard/variant_closed_gof_bluestarr_flank35_ref.fa\n",
      "Wrote Obs FASTA: /hpc/group/igvf/kk319/repo/Proj_IGVF_BlueSTARR/results/analysis_variant_motif_richard/variant_closed_gof_bluestarr_flank35_obs.fa\n",
      "Wrote Unobs FASTA: /hpc/group/igvf/kk319/repo/Proj_IGVF_BlueSTARR/results/analysis_variant_motif_richard/variant_closed_gof_bluestarr_flank35_unobs.fa\n"
     ]
    }
   ],
   "source": [
    "### write Ref sequences\n",
    "write_fasta_biopython(txt_fpath_ref, dat[\"Variant_ID\"], dat[\"Seq_Ref\"])\n",
    "print(\"Wrote Ref FASTA:\", txt_fpath_ref)\n",
    "\n",
    "### write Obs sequences\n",
    "write_fasta_biopython(txt_fpath_obs, dat[\"Variant_ID\"], dat[\"Seq_Obs\"])\n",
    "print(\"Wrote Obs FASTA:\", txt_fpath_obs)\n",
    "\n",
    "### write Unobs sequences\n",
    "write_fasta_biopython(txt_fpath_unobs, dat[\"Variant_ID\"], dat[\"Seq_Unobs\"])\n",
    "print(\"Wrote Unobs FASTA:\", txt_fpath_unobs)"
   ]
  },
  {
   "cell_type": "markdown",
   "id": "8dc80599-f351-41c0-bda5-7395f0fe9f7c",
   "metadata": {},
   "source": [
    "**Double check the export**"
   ]
  },
  {
   "cell_type": "code",
   "execution_count": 13,
   "id": "483d022a-731e-4a06-a6c1-bad3dba9c7f8",
   "metadata": {},
   "outputs": [],
   "source": [
    "def qc_fasta_against_table(txt_fpath, vec_txt_index, vec_txt_sequence, n_check=5):\n",
    "    \"\"\"\n",
    "    Read FASTA back in and check against original table.\n",
    "    \"\"\"\n",
    "    ### import fasta file\n",
    "    records = list(SeqIO.parse(txt_fpath, \"fasta\"))\n",
    "    print(f\"Read {len(records)} records from {os.path.basename(txt_fpath)}\")\n",
    "\n",
    "    # QC: same number of sequences\n",
    "    if len(records) != len(vec_txt_index):\n",
    "        print(\"Length mismatch: FASTA vs DataFrame\")\n",
    "    else:\n",
    "        print(\"Record count matches DataFrame\")\n",
    "\n",
    "    # QC: compare a few records\n",
    "    for rec, idx, seq in zip(records[:n_check], vec_txt_index[:n_check], vec_txt_sequence[:n_check]):\n",
    "        print(f\"\\nID (FASTA): {rec.id}\")\n",
    "        print(f\"ID (Table): {idx}\")\n",
    "        print(\"Match ID?   \", rec.id == idx)\n",
    "\n",
    "        print(f\"Seq length: {len(rec.seq)} vs {len(seq)}\")\n",
    "        print(\"Match Seq?  \", str(rec.seq) == seq)"
   ]
  },
  {
   "cell_type": "code",
   "execution_count": 14,
   "id": "d200f665-a2fa-465f-a53d-cec0592527df",
   "metadata": {},
   "outputs": [
    {
     "name": "stdout",
     "output_type": "stream",
     "text": [
      "Read 1884977 records from variant_closed_gof_bluestarr_flank35_ref.fa\n",
      "Record count matches DataFrame\n",
      "\n",
      "ID (FASTA): chr4:74487586:A:G:C\n",
      "ID (Table): chr4:74487586:A:G:C\n",
      "Match ID?    True\n",
      "Seq length: 71 vs 71\n",
      "Match Seq?   True\n",
      "\n",
      "ID (FASTA): chr9:135685432:G:G:C\n",
      "ID (Table): chr9:135685432:G:G:C\n",
      "Match ID?    True\n",
      "Seq length: 71 vs 71\n",
      "Match Seq?   True\n",
      "\n",
      "ID (FASTA): chr1:173251490:G:G:C\n",
      "ID (Table): chr1:173251490:G:G:C\n",
      "Match ID?    True\n",
      "Seq length: 71 vs 71\n",
      "Match Seq?   True\n",
      "\n",
      "ID (FASTA): chr1:147523391:G:G:C\n",
      "ID (Table): chr1:147523391:G:G:C\n",
      "Match ID?    True\n",
      "Seq length: 71 vs 71\n",
      "Match Seq?   True\n",
      "\n",
      "ID (FASTA): chr18:54580749:A:G:T\n",
      "ID (Table): chr18:54580749:A:G:T\n",
      "Match ID?    True\n",
      "Seq length: 71 vs 71\n",
      "Match Seq?   True\n"
     ]
    }
   ],
   "source": [
    "### check for Ref FASTA\n",
    "qc_fasta_against_table(\n",
    "    txt_fpath_ref,\n",
    "    dat[\"Variant_ID\"].values,\n",
    "    dat[\"Seq_Ref\"].values\n",
    ")"
   ]
  },
  {
   "cell_type": "code",
   "execution_count": 15,
   "id": "eca52208-f7fc-46eb-a4b9-84f45e6cc0b1",
   "metadata": {},
   "outputs": [
    {
     "name": "stdout",
     "output_type": "stream",
     "text": [
      "Read 1884977 records from variant_closed_gof_bluestarr_flank35_obs.fa\n",
      "Record count matches DataFrame\n",
      "\n",
      "ID (FASTA): chr4:74487586:A:G:C\n",
      "ID (Table): chr4:74487586:A:G:C\n",
      "Match ID?    True\n",
      "Seq length: 71 vs 71\n",
      "Match Seq?   True\n",
      "\n",
      "ID (FASTA): chr9:135685432:G:G:C\n",
      "ID (Table): chr9:135685432:G:G:C\n",
      "Match ID?    True\n",
      "Seq length: 71 vs 71\n",
      "Match Seq?   True\n",
      "\n",
      "ID (FASTA): chr1:173251490:G:G:C\n",
      "ID (Table): chr1:173251490:G:G:C\n",
      "Match ID?    True\n",
      "Seq length: 71 vs 71\n",
      "Match Seq?   True\n",
      "\n",
      "ID (FASTA): chr1:147523391:G:G:C\n",
      "ID (Table): chr1:147523391:G:G:C\n",
      "Match ID?    True\n",
      "Seq length: 71 vs 71\n",
      "Match Seq?   True\n",
      "\n",
      "ID (FASTA): chr18:54580749:A:G:T\n",
      "ID (Table): chr18:54580749:A:G:T\n",
      "Match ID?    True\n",
      "Seq length: 71 vs 71\n",
      "Match Seq?   True\n"
     ]
    }
   ],
   "source": [
    "### check for Obs FASTA\n",
    "qc_fasta_against_table(\n",
    "    txt_fpath_obs,\n",
    "    dat[\"Variant_ID\"].values,\n",
    "    dat[\"Seq_Obs\"].values\n",
    ")"
   ]
  },
  {
   "cell_type": "code",
   "execution_count": 16,
   "id": "fecb3d36-6219-453c-9ad7-d95c77d5e353",
   "metadata": {},
   "outputs": [
    {
     "name": "stdout",
     "output_type": "stream",
     "text": [
      "Read 1884977 records from variant_closed_gof_bluestarr_flank35_unobs.fa\n",
      "Record count matches DataFrame\n",
      "\n",
      "ID (FASTA): chr4:74487586:A:G:C\n",
      "ID (Table): chr4:74487586:A:G:C\n",
      "Match ID?    True\n",
      "Seq length: 71 vs 71\n",
      "Match Seq?   True\n",
      "\n",
      "ID (FASTA): chr9:135685432:G:G:C\n",
      "ID (Table): chr9:135685432:G:G:C\n",
      "Match ID?    True\n",
      "Seq length: 71 vs 71\n",
      "Match Seq?   True\n",
      "\n",
      "ID (FASTA): chr1:173251490:G:G:C\n",
      "ID (Table): chr1:173251490:G:G:C\n",
      "Match ID?    True\n",
      "Seq length: 71 vs 71\n",
      "Match Seq?   True\n",
      "\n",
      "ID (FASTA): chr1:147523391:G:G:C\n",
      "ID (Table): chr1:147523391:G:G:C\n",
      "Match ID?    True\n",
      "Seq length: 71 vs 71\n",
      "Match Seq?   True\n",
      "\n",
      "ID (FASTA): chr18:54580749:A:G:T\n",
      "ID (Table): chr18:54580749:A:G:T\n",
      "Match ID?    True\n",
      "Seq length: 71 vs 71\n",
      "Match Seq?   True\n"
     ]
    }
   ],
   "source": [
    "### check for Unobs FASTA\n",
    "qc_fasta_against_table(\n",
    "    txt_fpath_unobs,\n",
    "    dat[\"Variant_ID\"].values,\n",
    "    dat[\"Seq_Unobs\"].values\n",
    ")"
   ]
  },
  {
   "cell_type": "code",
   "execution_count": null,
   "id": "df27569e-85e4-4672-8acb-0c3acfbe3113",
   "metadata": {},
   "outputs": [],
   "source": []
  }
 ],
 "metadata": {
  "kernelspec": {
   "display_name": "Python 3 (ipykernel)",
   "language": "python",
   "name": "python3"
  },
  "language_info": {
   "codemirror_mode": {
    "name": "ipython",
    "version": 3
   },
   "file_extension": ".py",
   "mimetype": "text/x-python",
   "name": "python",
   "nbconvert_exporter": "python",
   "pygments_lexer": "ipython3",
   "version": "3.11.6"
  }
 },
 "nbformat": 4,
 "nbformat_minor": 5
}
