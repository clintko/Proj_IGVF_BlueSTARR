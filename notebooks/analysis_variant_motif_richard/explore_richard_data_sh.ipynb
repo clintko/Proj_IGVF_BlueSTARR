{
 "cells": [
  {
   "cell_type": "code",
   "execution_count": 1,
   "id": "458802d8-1220-477d-9806-4a7e24c4b8e3",
   "metadata": {},
   "outputs": [
    {
     "name": "stdout",
     "output_type": "stream",
     "text": [
      "\u001b[0m\u001b[01;34mclosed\u001b[0m  \u001b[01;34mopen\u001b[0m  \u001b[01;34mscripts\u001b[0m\n"
     ]
    }
   ],
   "source": [
    "ls /hpc/group/igvf/richard/BlueSTARR_pipeline/share_data"
   ]
  },
  {
   "cell_type": "code",
   "execution_count": 2,
   "id": "2c8303fb-5445-4046-82f5-d139caade7b4",
   "metadata": {},
   "outputs": [
    {
     "name": "stdout",
     "output_type": "stream",
     "text": [
      "\u001b[0m\u001b[01;32mannotated_snv_sites_filtered.tsv.gz\u001b[0m  \u001b[01;32mregions.fasta.gz\u001b[0m\n",
      "\u001b[01;32mannotated_snv_sites.tsv.gz\u001b[0m           \u001b[01;32mregions_GoF_only.fasta.gz\u001b[0m\n"
     ]
    }
   ],
   "source": [
    "TXT_FDIRY=/hpc/group/igvf/richard/BlueSTARR_pipeline/share_data\n",
    "TXT_FDIRY=${TXT_FDIRY}/closed\n",
    "ls ${TXT_FDIRY}"
   ]
  },
  {
   "cell_type": "code",
   "execution_count": 10,
   "id": "69c6311d-f900-40ae-b75d-b2eb0c881c08",
   "metadata": {},
   "outputs": [
    {
     "name": "stdout",
     "output_type": "stream",
     "text": [
      "1885039\n",
      "\n",
      "region\tpos0\tdelta\tref\tobs\tunobs\n",
      "chr4:74487576-74488141\t74487586\t0.96498407\tA\tG\tC\n",
      "chr9:135685425-135685942\t135685432\t0.94542273\tG\tG\tC\n",
      "chr1:173251481-173251541\t173251490\t0.91012724\tG\tG\tC\n",
      "chr1:147523084-147523503\t147523391\t0.90880011\tG\tG\tC\n",
      "chr18:54580694-54581420\t54580749\t0.86229593\tA\tG\tT\n",
      "chr7:80949320-80949853\t80949454\t0.83933777\tA\tG\tC\n",
      "chr15:42051436-42051627\t42051620\t0.81431348\tA\tG\tC\n",
      "chr6:126250489-126251013\t126250573\t0.81378914\tG\tG\tT\n",
      "chr2:6817975-6818483\t6818290\t0.76336799\tC\tC\tG\n"
     ]
    }
   ],
   "source": [
    "TXT_FDIRY=/hpc/group/igvf/richard/BlueSTARR_pipeline/share_data\n",
    "TXT_FDIRY=${TXT_FDIRY}/closed\n",
    "TXT_FNAME=\"annotated_snv_sites.tsv.gz\"\n",
    "TXT_FPATH=${TXT_FDIRY}/${TXT_FNAME}\n",
    "\n",
    "zcat ${TXT_FPATH} | wc -l\n",
    "echo \n",
    "zcat ${TXT_FPATH} | head"
   ]
  },
  {
   "cell_type": "code",
   "execution_count": null,
   "id": "3ade9906-6f06-4fab-92a6-1fae5ba8f631",
   "metadata": {},
   "outputs": [],
   "source": []
  },
  {
   "cell_type": "code",
   "execution_count": 11,
   "id": "7208ceff-0dca-41eb-a022-d84b00959c0a",
   "metadata": {},
   "outputs": [
    {
     "name": "stdout",
     "output_type": "stream",
     "text": [
      "1884978\n",
      "\n",
      "region\tpos0\tdelta\tref\tobs\tunobs\n",
      "chr4:74487576-74488141\t74487586\t0.96498407\tA\tG\tC\n",
      "chr9:135685425-135685942\t135685432\t0.94542273\tG\tG\tC\n",
      "chr1:173251481-173251541\t173251490\t0.91012724\tG\tG\tC\n",
      "chr1:147523084-147523503\t147523391\t0.90880011\tG\tG\tC\n",
      "chr18:54580694-54581420\t54580749\t0.86229593\tA\tG\tT\n",
      "chr7:80949320-80949853\t80949454\t0.83933777\tA\tG\tC\n",
      "chr15:42051436-42051627\t42051620\t0.81431348\tA\tG\tC\n",
      "chr6:126250489-126251013\t126250573\t0.81378914\tG\tG\tT\n",
      "chr2:6817975-6818483\t6818290\t0.76336799\tC\tC\tG\n"
     ]
    }
   ],
   "source": [
    "TXT_FDIRY=/hpc/group/igvf/richard/BlueSTARR_pipeline/share_data\n",
    "TXT_FDIRY=${TXT_FDIRY}/closed\n",
    "TXT_FNAME=\"annotated_snv_sites_filtered.tsv.gz\"\n",
    "TXT_FPATH=${TXT_FDIRY}/${TXT_FNAME}\n",
    "\n",
    "zcat ${TXT_FPATH} | wc -l\n",
    "echo \n",
    "zcat ${TXT_FPATH} | head"
   ]
  },
  {
   "cell_type": "code",
   "execution_count": 4,
   "id": "e51fc269-8921-42e9-af53-0b4a0c08832f",
   "metadata": {},
   "outputs": [
    {
     "name": "stdout",
     "output_type": "stream",
     "text": [
      ">chr1:901241-901362\n",
      "GTGTATGTAAAGTGAAAACAGAGAGAGTACAAGAAAAGAGGGAAACCAGGGGCTCAGTGGAGGTGGGCAGGGGCTGGTCCATGTGCATTCAGCCCACCTGGTTGGCAGCTGCCCAGGTGTC\n",
      ">chr1:901596-901671\n",
      "GTGGGAGCCACAGCAGTGTTCGTTTTACTATTGCTGGGCCTGTAAATGGAGCGTTTTATCTTTTTCGTCAGCTGG\n",
      ">chr1:902804-902969\n",
      "CCCCCCTCACCTGAGTTCTGGGAGGTCAATCCAGGTTCAAGATTCCTCCTTTGAAAGGTAGACTGGATTTGGATACAGAGGGTGCCCATGCGTGAGGGGACGAGGGGGCCCGGGATGCGGGTCCGTGTGAGGGGCTGAAGAGTTGCCCCTGTGCTAGTCAGTGCC\n",
      ">chr1:903780-903849\n",
      "GCAGCCCTAGGCGCAGCGGTGCAAGGAGAGCCACATTTACCCCTGGCGCTGCACGGCCCTGAGGCTGGG\n",
      ">chr1:915976-916247\n",
      "CGATTCCTCCTGCATCCTCTGTCGGGATGTCTGGATTCCAGAGTCCCCACCCTGATTTTCCAACCTTGCCTCAGCCTTGGCTTCTCCCTTTTGGGGTGGGACAGGGAACCCCAGCAGCAGGTGTATGAGGGCATGAGAGGGCAGGAGGTGCCCTATGCCTACCCGCCAGACCAGGGCCCCAGCCCTGGACACAGGGAGAGAGCATGAGCGCTGTTCCTGCTCCCACTCCCTCATCTGAGCAGGTGCTCCCAGGTACAGGTGCCGAGTCCCA\n"
     ]
    }
   ],
   "source": [
    "TXT_FDIRY=/hpc/group/igvf/richard/BlueSTARR_pipeline/share_data\n",
    "TXT_FDIRY=${TXT_FDIRY}/closed\n",
    "TXT_FNAME=\"regions_GoF_only.fasta.gz\"\n",
    "TXT_FPATH=${TXT_FDIRY}/${TXT_FNAME}\n",
    "\n",
    "zcat ${TXT_FPATH} | head"
   ]
  },
  {
   "cell_type": "code",
   "execution_count": null,
   "id": "b95a85e1-67fc-43dc-9330-4f8c82ac69de",
   "metadata": {},
   "outputs": [],
   "source": []
  },
  {
   "cell_type": "code",
   "execution_count": null,
   "id": "f46fb6d4-c147-4267-aee3-d64670240964",
   "metadata": {},
   "outputs": [],
   "source": []
  },
  {
   "cell_type": "markdown",
   "id": "0dd1cba0-1573-435f-a6a9-e129dc0fd1a2",
   "metadata": {},
   "source": [
    "**UCSC tool (0-based start, end-exclusive)**"
   ]
  },
  {
   "cell_type": "code",
   "execution_count": 5,
   "id": "fcda30f1-65f8-4301-aadb-a3298d06cf0a",
   "metadata": {},
   "outputs": [
    {
     "name": "stdout",
     "output_type": "stream",
     "text": [
      "hg38.2bit         hg38.fa      \u001b[0m\u001b[01;31mhg38.fa.gz\u001b[0m   md5sum.txt\n",
      "hg38.chrom.sizes  hg38.fa.fai  md5sum.hg38\n"
     ]
    }
   ],
   "source": [
    "FD_GEN=${FD_DATA}/genome/hg38\n",
    "ls ${FD_GEN}"
   ]
  },
  {
   "cell_type": "code",
   "execution_count": 7,
   "id": "28439fe9-9603-41d2-9284-f64e86ad164f",
   "metadata": {},
   "outputs": [
    {
     "name": "stdout",
     "output_type": "stream",
     "text": [
      ">chr1:901241-901362\n",
      "GTGTATGTAAAGTGAAAACAGAGAGAGTACAAGAAAAGAGGGAAACCAGG\n",
      "GGCTCAGTGGAGGTGGGCAGGGGCTGGTCCATGTGCATTCAGCCCACCTG\n",
      "GTTGGCAGCTGCCCAGGTGTC\n"
     ]
    }
   ],
   "source": [
    "FD_GEN=${FD_DATA}/genome/hg38\n",
    "FN_GEN=\"hg38.2bit\"\n",
    "FP_GEN=${FD_GEN}/${FN_GEN}\n",
    "\n",
    "twoBitToFa ${FP_GEN}:chr1:901241-901362 stdout"
   ]
  },
  {
   "cell_type": "code",
   "execution_count": 8,
   "id": "a7af68a3-29a5-4206-b878-f2869af2483c",
   "metadata": {},
   "outputs": [
    {
     "name": "stdout",
     "output_type": "stream",
     "text": [
      ">chr1:901596-901671\n",
      "GTGGGAGCCACAGCAGTGTTCGTTTTACTATTGCTGGGCCTGTAAATGGA\n",
      "GCGTTTTATCTTTTTCGTCAGCTGG\n"
     ]
    }
   ],
   "source": [
    "FD_GEN=${FD_DATA}/genome/hg38\n",
    "FN_GEN=\"hg38.2bit\"\n",
    "FP_GEN=${FD_GEN}/${FN_GEN}\n",
    "\n",
    "twoBitToFa ${FP_GEN}:chr1:901596-901671 stdout"
   ]
  },
  {
   "cell_type": "code",
   "execution_count": null,
   "id": "ec11cc3e-6990-4e51-8dc0-207b011808da",
   "metadata": {},
   "outputs": [],
   "source": []
  },
  {
   "cell_type": "code",
   "execution_count": null,
   "id": "af134146-ce28-4cf0-b2bc-432d3ac076b3",
   "metadata": {},
   "outputs": [],
   "source": []
  }
 ],
 "metadata": {
  "kernelspec": {
   "display_name": "Bash",
   "language": "bash",
   "name": "bash"
  },
  "language_info": {
   "codemirror_mode": "shell",
   "file_extension": ".sh",
   "mimetype": "text/x-sh",
   "name": "bash"
  }
 },
 "nbformat": 4,
 "nbformat_minor": 5
}
