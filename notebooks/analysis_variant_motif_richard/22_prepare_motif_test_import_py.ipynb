{
 "cells": [
  {
   "cell_type": "raw",
   "id": "27c7a0f3-2629-453f-bc5a-31450b5a01f3",
   "metadata": {},
   "source": [
    "---\n",
    "title: Get sequence of variants 02\n",
    "subtitle: Export sequence for observed/unobserved alleles into fasta files\n",
    "format:\n",
    "    html:\n",
    "        code-fold:  true\n",
    "        code-tools: true\n",
    "---"
   ]
  },
  {
   "cell_type": "markdown",
   "id": "46694cd7-7b56-4685-90bc-af3ea5567161",
   "metadata": {},
   "source": [
    "**Set environment**"
   ]
  },
  {
   "cell_type": "code",
   "execution_count": 1,
   "id": "6de280d7-a30e-4c62-a7ca-9bb40bdfa01d",
   "metadata": {},
   "outputs": [],
   "source": [
    "import numpy as np"
   ]
  },
  {
   "cell_type": "code",
   "execution_count": 2,
   "id": "129b0a6e-4db5-48c2-821b-6fd13e4f1845",
   "metadata": {},
   "outputs": [
    {
     "name": "stdout",
     "output_type": "stream",
     "text": [
      "BASE DIRECTORY (FD_BASE): /hpc/group/igvf/kk319\n",
      "REPO DIRECTORY (FD_REPO): /hpc/group/igvf/kk319/repo\n",
      "WORK DIRECTORY (FD_WORK): /hpc/group/igvf/kk319/work\n",
      "DATA DIRECTORY (FD_DATA): /hpc/group/igvf/kk319/data\n",
      "\n",
      "\n",
      "You are working with      IGVF BlueSTARR\n",
      "PATH OF PROJECT (FD_PRJ): /hpc/group/igvf/kk319/repo/Proj_IGVF_BlueSTARR\n",
      "PROJECT RESULTS (FD_RES): /hpc/group/igvf/kk319/repo/Proj_IGVF_BlueSTARR/results\n",
      "PROJECT SCRIPTS (FD_EXE): /hpc/group/igvf/kk319/repo/Proj_IGVF_BlueSTARR/scripts\n",
      "PROJECT DATA    (FD_DAT): /hpc/group/igvf/kk319/repo/Proj_IGVF_BlueSTARR/data\n",
      "PROJECT NOTE    (FD_NBK): /hpc/group/igvf/kk319/repo/Proj_IGVF_BlueSTARR/notebooks\n",
      "PROJECT DOCS    (FD_DOC): /hpc/group/igvf/kk319/repo/Proj_IGVF_BlueSTARR/docs\n",
      "PROJECT LOG     (FD_LOG): /hpc/group/igvf/kk319/repo/Proj_IGVF_BlueSTARR/log\n",
      "PROJECT REF     (FD_REF): /hpc/group/igvf/kk319/repo/Proj_IGVF_BlueSTARR/references\n",
      "\n"
     ]
    }
   ],
   "source": [
    "%run ../run_config_project.py\n",
    "show_env()"
   ]
  },
  {
   "cell_type": "markdown",
   "id": "a237eba2-a7b7-4091-bf1c-86e1d7061b59",
   "metadata": {},
   "source": [
    "## Import data"
   ]
  },
  {
   "cell_type": "markdown",
   "id": "3eafb39a-1607-463e-a8e3-ad637fd9a28e",
   "metadata": {},
   "source": [
    "**Check file existent**"
   ]
  },
  {
   "cell_type": "code",
   "execution_count": 3,
   "id": "d25b003d-682d-446d-ad62-9a991165114a",
   "metadata": {},
   "outputs": [
    {
     "name": "stdout",
     "output_type": "stream",
     "text": [
      "env: FD_DATA=/hpc/group/igvf/kk319/data\n"
     ]
    }
   ],
   "source": [
    "%env FD_DATA={FD_DATA}"
   ]
  },
  {
   "cell_type": "code",
   "execution_count": 4,
   "id": "1266c519-dc65-4ab0-822b-bf2becb5479c",
   "metadata": {},
   "outputs": [
    {
     "name": "stdout",
     "output_type": "stream",
     "text": [
      "JASPAR2024_CORE_non-redundant_pfms_jaspar.zip\n",
      "JASPAR2024_CORE_non-redundant_pfms_meme.zip\n",
      "JASPAR2024_CORE_non-redundant_pfms_transfac.zip\n",
      "JASPAR2024_CORE_vertebrates_meme\n",
      "JASPAR2024_CORE_vertebrates_non-redundant.meme\n",
      "JASPAR2024_CORE_vertebrates_non-redundant.npz\n",
      "JASPAR2024_CORE_vertebrates_non-redundant_pfms_jaspar.zip\n",
      "JASPAR2024_CORE_vertebrates_non-redundant_pfms_meme.zip\n",
      "JASPAR2024_CORE_vertebrates_non-redundant_pfms_transfac.zip\n"
     ]
    }
   ],
   "source": [
    "%%bash\n",
    "ls ${FD_DATA}/jaspar2024"
   ]
  },
  {
   "cell_type": "markdown",
   "id": "13783e66-d12c-4557-b162-dfba6979fbe9",
   "metadata": {},
   "source": [
    "**Import data**"
   ]
  },
  {
   "cell_type": "code",
   "execution_count": 5,
   "id": "a2bb8eab-df83-422f-a6e8-c9df04bea534",
   "metadata": {},
   "outputs": [],
   "source": [
    "### set file directory\n",
    "txt_fdiry = \"/hpc/group/igvf/kk319/data/jaspar2024\"\n",
    "txt_fname = \"JASPAR2024_CORE_vertebrates_non-redundant.npz\"\n",
    "#txt_fname = \"JASPAR2024_CORE_vertebrates_non-redundant.meme\"\n",
    "txt_fpath = os.path.join(txt_fdiry, txt_fname)\n",
    "\n",
    "### import data\n",
    "data = np.load(txt_fpath, allow_pickle=True)"
   ]
  },
  {
   "cell_type": "markdown",
   "id": "c3de0932-c89c-4e67-90fb-cef8be81f715",
   "metadata": {},
   "source": [
    "## Explore data"
   ]
  },
  {
   "cell_type": "markdown",
   "id": "e91ddaaa-c92d-46b9-a493-4b08280d2b43",
   "metadata": {},
   "source": [
    "**Data type**"
   ]
  },
  {
   "cell_type": "code",
   "execution_count": 6,
   "id": "37fba88c-a95c-4cc6-856c-850d50c96c10",
   "metadata": {},
   "outputs": [
    {
     "data": {
      "text/plain": [
       "numpy.lib.npyio.NpzFile"
      ]
     },
     "execution_count": 6,
     "metadata": {},
     "output_type": "execute_result"
    }
   ],
   "source": [
    "type(data)"
   ]
  },
  {
   "cell_type": "code",
   "execution_count": 7,
   "id": "2c86e25c-00e4-423a-94e0-d536e8c3c9da",
   "metadata": {},
   "outputs": [
    {
     "name": "stdout",
     "output_type": "stream",
     "text": [
      "<class 'dict'>\n",
      "<class 'dict'>\n",
      "<class 'numpy.ndarray'>\n",
      "<class 'numpy.ndarray'>\n",
      "<class 'numpy.ndarray'>\n"
     ]
    }
   ],
   "source": [
    "obj_motif_pwms = data[\"pwms\"].item() # dict {name: (W,4)}\n",
    "obj_motif_lods = data[\"lods\"].item() # dict {name: (W,4)}\n",
    "obj_motif_bg   = data[\"bg\"]\n",
    "vec_motif_name = data[\"names\"]\n",
    "txt_alphabet   = data[\"alphabet\"]\n",
    "\n",
    "print(type(obj_motif_pwms))\n",
    "print(type(obj_motif_lods))\n",
    "print(type(obj_motif_bg))\n",
    "print(type(vec_motif_name))\n",
    "print(type(txt_alphabet))"
   ]
  },
  {
   "cell_type": "markdown",
   "id": "da1a7da9-9da6-4219-bb6e-633f33ea627d",
   "metadata": {},
   "source": [
    "**Meta data**"
   ]
  },
  {
   "cell_type": "code",
   "execution_count": 8,
   "id": "6766de7c-a7e4-4cd0-920c-a6dc01d01aac",
   "metadata": {},
   "outputs": [
    {
     "name": "stdout",
     "output_type": "stream",
     "text": [
      "#{Motifs}:  879 motifs\n",
      "Alphabet:   ACGT\n",
      "Background: [0.25 0.25 0.25 0.25]\n",
      "Motif name:\n",
      "['MA0002.3 Runx1' 'MA0003.5 TFAP2A' 'MA0004.1 Arnt' 'MA0006.2 Ahr::Arnt'\n",
      " 'MA0007.4 Ar' 'MA0009.2 TBXT'] ...\n"
     ]
    }
   ],
   "source": [
    "print(\"#{Motifs}: \", len(obj_motif_pwms), \"motifs\")\n",
    "print(\"Alphabet:  \", txt_alphabet)\n",
    "print(\"Background:\", obj_motif_bg)\n",
    "print(\"Motif name:\")\n",
    "print(vec_motif_name[:6], \"...\")"
   ]
  },
  {
   "cell_type": "markdown",
   "id": "aed11863-5234-4e37-bdc4-874df4d7f3a5",
   "metadata": {},
   "source": [
    "**Motif matrix**"
   ]
  },
  {
   "cell_type": "code",
   "execution_count": 9,
   "id": "e4f5afc8-2fb4-481a-80d8-9b34381fa600",
   "metadata": {},
   "outputs": [
    {
     "name": "stdout",
     "output_type": "stream",
     "text": [
      "Runx1 shape: (9, 4)\n",
      "\n",
      "Runx1 PWM:\n",
      "[[0.0615 0.536  0.0745 0.328 ]\n",
      " [0.0285 0.     0.0035 0.968 ]\n",
      " [0.     0.0375 0.936  0.0265]\n",
      " [0.0435 0.0635 0.035  0.858 ]\n",
      " [0.     0.     0.9935 0.0065]\n",
      " [0.0085 0.021  0.924  0.0465]\n",
      " [0.005  0.2    0.1255 0.6695]\n",
      " [0.0655 0.2315 0.0405 0.6625]\n",
      " [0.25   0.079  0.1445 0.5265]]\n",
      "\n",
      "Runx1 log-odds:\n",
      "[[ -2.02326978   1.10030491  -1.74661576   0.39176772]\n",
      " [ -3.13289427 -17.93156857  -6.15842936   1.95307895]\n",
      " [-17.93156857  -2.73696559   1.90458043  -3.23786383]\n",
      " [ -2.52284079  -1.9770996   -2.83650127   1.77904955]\n",
      " [-17.93156857 -17.93156857   1.99059187  -5.26534457]\n",
      " [ -4.87832144  -3.57346686   1.88596476  -2.42662547]\n",
      " [ -5.64385619  -0.32192809  -0.99424073   1.42115596]\n",
      " [ -1.93236128  -0.1109159   -2.62593428   1.40599236]\n",
      " [  0.          -1.66200354  -0.7908586    1.07450544]]\n"
     ]
    }
   ],
   "source": [
    "txt_motif_name = \"MA0002.3 Runx1\"\n",
    "\n",
    "print(\"Runx1 shape:\", obj_motif_pwms[txt_motif_name].shape);     print()\n",
    "print(\"Runx1 PWM:\");      print(obj_motif_pwms[txt_motif_name]); print()\n",
    "print(\"Runx1 log-odds:\"); print(obj_motif_lods[txt_motif_name])"
   ]
  }
 ],
 "metadata": {
  "kernelspec": {
   "display_name": "Python 3 (ipykernel)",
   "language": "python",
   "name": "python3"
  },
  "language_info": {
   "codemirror_mode": {
    "name": "ipython",
    "version": 3
   },
   "file_extension": ".py",
   "mimetype": "text/x-python",
   "name": "python",
   "nbconvert_exporter": "python",
   "pygments_lexer": "ipython3",
   "version": "3.11.6"
  }
 },
 "nbformat": 4,
 "nbformat_minor": 5
}
