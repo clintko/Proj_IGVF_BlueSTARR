{
 "cells": [
  {
   "cell_type": "code",
   "execution_count": null,
   "id": "933e7ffc-f168-4514-9aa8-5418bbd00293",
   "metadata": {},
   "outputs": [],
   "source": [
    "from concurrent.futures import ProcessPoolExecutor, as_completed\n",
    "\n",
    "def scan_one_motif(mkey_pwm_tuple, seq):\n",
    "    mkey, pwm = mkey_pwm_tuple\n",
    "    scores = scan_motif_vector(seq, pwm)\n",
    "    return mkey, scores\n",
    "\n",
    "motifs = {k: pwm_to_logodds_Wx4(m) for k,m in read_meme(MEME).items()}\n",
    "seq = \"AAATGTGGTAACCCATGCGT\"\n",
    "\n",
    "results = {}\n",
    "with ProcessPoolExecutor(max_workers=8) as exe:  # adjust workers\n",
    "    futures = [exe.submit(scan_one_motif, (mkey, pwm), seq) for mkey, pwm in motifs.items()]\n",
    "    for fut in as_completed(futures):\n",
    "        mkey, scores = fut.result()\n",
    "        results[mkey] = scores\n",
    "\n",
    "print(\"Scanned\", len(results), \"motifs in parallel\")"
   ]
  },
  {
   "cell_type": "code",
   "execution_count": null,
   "id": "91fb640f-629c-4c72-b4f0-c8ce5f448634",
   "metadata": {},
   "outputs": [],
   "source": [
    "from joblib import Parallel, delayed\n",
    "\n",
    "def scan_one(mkey, pwm, seq):\n",
    "    return mkey, scan_motif_vector(seq, pwm)\n",
    "\n",
    "motifs = {k: pwm_to_logodds_Wx4(m) for k,m in read_meme(MEME).items()}\n",
    "seq = \"AAATGTGGTAACCCATGCGT\"\n",
    "\n",
    "results = Parallel(n_jobs=8)(\n",
    "    delayed(scan_one)(mkey, pwm, seq) for mkey, pwm in motifs.items()\n",
    ")\n",
    "\n",
    "results = dict(results)  # convert to dictionary"
   ]
  }
 ],
 "metadata": {
  "kernelspec": {
   "display_name": "Python 3 (ipykernel)",
   "language": "python",
   "name": "python3"
  },
  "language_info": {
   "codemirror_mode": {
    "name": "ipython",
    "version": 3
   },
   "file_extension": ".py",
   "mimetype": "text/x-python",
   "name": "python",
   "nbconvert_exporter": "python",
   "pygments_lexer": "ipython3",
   "version": "3.11.6"
  }
 },
 "nbformat": 4,
 "nbformat_minor": 5
}
