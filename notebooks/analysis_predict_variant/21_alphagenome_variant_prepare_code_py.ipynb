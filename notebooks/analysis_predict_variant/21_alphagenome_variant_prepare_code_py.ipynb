{
 "cells": [
  {
   "cell_type": "raw",
   "id": "86f45c24-6383-4bf9-a016-7d69cfee958f",
   "metadata": {},
   "source": [
    "---\n",
    "title: Test Alphagenome\n",
    "subtitle: Test to run alphagenome on a variant\n",
    "format:\n",
    "    html:\n",
    "        code-fold:  true\n",
    "        code-tools: true\n",
    "---"
   ]
  },
  {
   "cell_type": "markdown",
   "id": "c31485d0-1fda-4d29-9103-c93982eefd23",
   "metadata": {},
   "source": [
    "**Set environment**"
   ]
  },
  {
   "cell_type": "code",
   "execution_count": 1,
   "id": "f6fc0f4b-2d22-448f-bbb6-e143137adcc7",
   "metadata": {},
   "outputs": [],
   "source": [
    "import numpy  as np\n",
    "import pandas as pd\n",
    "import os\n",
    "import re"
   ]
  },
  {
   "cell_type": "code",
   "execution_count": 2,
   "id": "29682630-f93b-4173-8d7c-bb97d554ae7a",
   "metadata": {},
   "outputs": [
    {
     "name": "stderr",
     "output_type": "stream",
     "text": [
      "/opt/conda/lib/python3.11/site-packages/google/protobuf/runtime_version.py:98: UserWarning: Protobuf gencode version 5.27.2 is exactly one major version older than the runtime version 6.31.1 at alphagenome/protos/dna_model.proto. Please update the gencode to avoid compatibility violations in the next runtime release.\n",
      "  warnings.warn(\n",
      "/opt/conda/lib/python3.11/site-packages/google/protobuf/runtime_version.py:98: UserWarning: Protobuf gencode version 5.27.2 is exactly one major version older than the runtime version 6.31.1 at alphagenome/protos/tensor.proto. Please update the gencode to avoid compatibility violations in the next runtime release.\n",
      "  warnings.warn(\n"
     ]
    }
   ],
   "source": [
    "from alphagenome.data   import genome\n",
    "from alphagenome.models import dna_client, variant_scorers"
   ]
  },
  {
   "cell_type": "markdown",
   "id": "14c1f98c-ffa7-4e13-a759-1b337a73672e",
   "metadata": {},
   "source": [
    "**Load model**"
   ]
  },
  {
   "cell_type": "code",
   "execution_count": 3,
   "id": "5a1b4896-7be7-4fe9-b10a-e19848a01203",
   "metadata": {},
   "outputs": [
    {
     "name": "stdout",
     "output_type": "stream",
     "text": [
      "<alphagenome.models.dna_client.DnaClient object at 0x7f917f8c9b90>\n"
     ]
    }
   ],
   "source": [
    "### get api key\n",
    "from config_params import ALPHAGENOME_API_KEY\n",
    "os.environ[\"ALPHAGENOME_API_KEY\"] = ALPHAGENOME_API_KEY\n",
    "\n",
    "### load model\n",
    "dna_model = dna_client.create(os.environ[\"ALPHAGENOME_API_KEY\"])\n",
    "print(dna_model)"
   ]
  },
  {
   "cell_type": "code",
   "execution_count": 4,
   "id": "d702ddea-5e5d-4730-bc93-edd04e9026ef",
   "metadata": {},
   "outputs": [],
   "source": [
    "# Initialize an empty dictionary to serve as a variant effect prediction cache.\n",
    "_prediction_cache = {}"
   ]
  },
  {
   "cell_type": "code",
   "execution_count": 5,
   "id": "a8820b5f-4218-4e19-afd9-ca2ac61b982d",
   "metadata": {},
   "outputs": [],
   "source": [
    "organism = dna_client.Organism.HOMO_SAPIENS"
   ]
  },
  {
   "cell_type": "markdown",
   "id": "2e3da4a4-c01b-4839-88aa-2549e1fb342b",
   "metadata": {},
   "source": [
    "## Define a genomic variant"
   ]
  },
  {
   "cell_type": "markdown",
   "id": "3f30c893-d3bc-4463-943a-e3b693b9100a",
   "metadata": {},
   "source": [
    "[Essential commands — AlphaGenome](https://www.alphagenomedocs.com/colabs/essential_commands.html?utm_source=chatgpt.com)\n",
    "```\n",
    "variant = genome.Variant(\n",
    "    chromosome='chr3', position=10_000, reference_bases='A', alternate_bases='C'\n",
    ")\n",
    "```\n",
    "> This variant changes the base A to a C at position 10_000 on chromosome 3. Note that the position attribute is 1-based to maintain compatibility with common public variant formats (see FAQ for more info.)"
   ]
  },
  {
   "cell_type": "code",
   "execution_count": 6,
   "id": "d8c88538-0f0d-487f-9927-6cc43b572890",
   "metadata": {},
   "outputs": [],
   "source": [
    "txt_region = \"chr11:5227021-5227208\"\n",
    "txt_chrom_name, txt_chrom_start, txt_chrom_end = re.split(\"[:\\-]\", txt_region)\n",
    "\n",
    "num_chrom_start = int(txt_chrom_start)\n",
    "num_chrom_end   = int(txt_chrom_end)\n",
    "num_length = num_chrom_end - num_chrom_start"
   ]
  },
  {
   "cell_type": "code",
   "execution_count": 7,
   "id": "e4b8fa6f-7948-4e4b-b76e-b87e20e38371",
   "metadata": {},
   "outputs": [],
   "source": [
    "num_variant_position_0base = 5227021\n",
    "txt_variant_reference_base = \"G\"\n",
    "txt_variant_alternate_base = \"A\"\n",
    "\n",
    "num_variant_position_1base = num_variant_position_0base + 1"
   ]
  },
  {
   "cell_type": "code",
   "execution_count": 8,
   "id": "c59ffc1e-ae99-45a3-8aab-679670bb6957",
   "metadata": {},
   "outputs": [
    {
     "name": "stdout",
     "output_type": "stream",
     "text": [
      "chr11:5227022:G>A\n"
     ]
    }
   ],
   "source": [
    "variant = genome.Variant(\n",
    "    chromosome = txt_chrom_name,\n",
    "    position   = num_variant_position_1base,\n",
    "    reference_bases = txt_variant_reference_base,\n",
    "    alternate_bases = txt_variant_alternate_base,\n",
    ")\n",
    "print(variant)"
   ]
  },
  {
   "cell_type": "markdown",
   "id": "42656811-4c9f-413d-8205-b52af13e681d",
   "metadata": {},
   "source": [
    "## Set genomic region based on the variant"
   ]
  },
  {
   "cell_type": "markdown",
   "id": "eeec348d-e8e5-4643-930c-469ab41c765f",
   "metadata": {},
   "source": [
    "[FAQ — AlphaGenome](https://www.alphagenomedocs.com/faqs.html)\n",
    "\n",
    "Using the genome.Interval class, which is initialized with a chromosome, a start, and an end position.\n",
    "\n",
    "> AlphaGenome classes such as genome.Interval uses 0-based indexing, consistent with the underlying Python implementations.\n",
    "> \n",
    "> This means an genome.Interval includes the base pair at the start position up to the base pair at the end-1 position.\n",
    "For example, to specify the first base pair of chromosome 1, use genome.Interval('chr1', 0, 1). This interval has a width of 1, and contains only the base pair at the first position of chromosome 1.\n",
    "> \n",
    "> To interpret interval overlaps, remember that 0-based indexing excludes the base pair at the end position itself, such that genome.Interval('chr1', 0, 1).overlaps(genome.Interval('chr1', 1, 2)) returns False."
   ]
  },
  {
   "cell_type": "code",
   "execution_count": 9,
   "id": "1e101c5d-7514-4fb0-b647-e02760019b1f",
   "metadata": {},
   "outputs": [
    {
     "data": {
      "text/plain": [
       "{'SEQUENCE_LENGTH_2KB': 2048,\n",
       " 'SEQUENCE_LENGTH_16KB': 16384,\n",
       " 'SEQUENCE_LENGTH_100KB': 131072,\n",
       " 'SEQUENCE_LENGTH_500KB': 524288,\n",
       " 'SEQUENCE_LENGTH_1MB': 1048576}"
      ]
     },
     "execution_count": 9,
     "metadata": {},
     "output_type": "execute_result"
    }
   ],
   "source": [
    "dna_client.SUPPORTED_SEQUENCE_LENGTHS"
   ]
  },
  {
   "cell_type": "code",
   "execution_count": 10,
   "id": "fa0ef351-e5aa-4384-ac84-cb18ea9030fa",
   "metadata": {},
   "outputs": [
    {
     "name": "stdout",
     "output_type": "stream",
     "text": [
      "2048\n"
     ]
    }
   ],
   "source": [
    "### Specify length of sequence around variant to predict:\n",
    "txt_sequence_length = '2KB'  # [\"2KB\", \"16KB\", \"100KB\", \"500KB\", \"1MB\"]\n",
    "num_sequence_length = dna_client.SUPPORTED_SEQUENCE_LENGTHS[\n",
    "    f'SEQUENCE_LENGTH_{txt_sequence_length}'\n",
    "]\n",
    "print(num_sequence_length)"
   ]
  },
  {
   "cell_type": "code",
   "execution_count": 11,
   "id": "f3c8de5a-4e63-4368-9878-d3d59ece25e1",
   "metadata": {},
   "outputs": [
    {
     "data": {
      "text/plain": [
       "Interval(chromosome='chr11', start=5227021, end=5227022, strand='.', name='')"
      ]
     },
     "execution_count": 11,
     "metadata": {},
     "output_type": "execute_result"
    }
   ],
   "source": [
    "variant.reference_interval"
   ]
  },
  {
   "cell_type": "markdown",
   "id": "3824899a-4654-4fd3-9a9d-0a7ca33b772d",
   "metadata": {},
   "source": [
    "```\n",
    "### Mannual set interval\n",
    "interval = genome.Interval(\n",
    "    chromosome = txt_chrom_name, \n",
    "    start      = num_chrom_start, \n",
    "    end        = num_chrom_start + num_sequence_length)\n",
    "print(interval)\n",
    "```"
   ]
  },
  {
   "cell_type": "code",
   "execution_count": 12,
   "id": "ec491598-10e6-4ac9-b2b3-13318ec3c8bc",
   "metadata": {},
   "outputs": [
    {
     "name": "stdout",
     "output_type": "stream",
     "text": [
      "chr11:5225998-5228046:.\n"
     ]
    }
   ],
   "source": [
    "# The input interval is derived from the variant (centered on it).\n",
    "interval = variant.reference_interval.resize(num_sequence_length)\n",
    "print(interval)"
   ]
  },
  {
   "cell_type": "markdown",
   "id": "f8aed30f-0741-42fe-8d83-589fdc1b736f",
   "metadata": {},
   "source": [
    "## Perform prediction"
   ]
  },
  {
   "cell_type": "markdown",
   "id": "d3e962b7-35c0-4aa7-a4d6-f1188d72ae58",
   "metadata": {},
   "source": [
    "**Predict score types**"
   ]
  },
  {
   "cell_type": "code",
   "execution_count": 13,
   "id": "5c90643b-b172-48a7-8f38-2cf40d441026",
   "metadata": {},
   "outputs": [
    {
     "data": {
      "text/plain": [
       "immutabledict({'ATAC': CenterMaskScorer(requested_output=ATAC, width=501, aggregation_type=DIFF_LOG2_SUM), 'CONTACT_MAPS': ContactMapScorer(), 'DNASE': CenterMaskScorer(requested_output=DNASE, width=501, aggregation_type=DIFF_LOG2_SUM), 'CHIP_TF': CenterMaskScorer(requested_output=CHIP_TF, width=501, aggregation_type=DIFF_LOG2_SUM), 'CHIP_HISTONE': CenterMaskScorer(requested_output=CHIP_HISTONE, width=2001, aggregation_type=DIFF_LOG2_SUM), 'CAGE': CenterMaskScorer(requested_output=CAGE, width=501, aggregation_type=DIFF_LOG2_SUM), 'PROCAP': CenterMaskScorer(requested_output=PROCAP, width=501, aggregation_type=DIFF_LOG2_SUM), 'RNA_SEQ': GeneMaskLFCScorer(requested_output=RNA_SEQ), 'RNA_SEQ_ACTIVE': GeneMaskActiveScorer(requested_output=RNA_SEQ), 'SPLICE_SITES': GeneMaskSplicingScorer(requested_output=SPLICE_SITES, width=None), 'SPLICE_SITE_USAGE': GeneMaskSplicingScorer(requested_output=SPLICE_SITE_USAGE, width=None), 'SPLICE_JUNCTIONS': SpliceJunctionScorer(), 'POLYADENYLATION': PolyadenylationScorer(), 'ATAC_ACTIVE': CenterMaskScorer(requested_output=ATAC, width=501, aggregation_type=ACTIVE_SUM), 'DNASE_ACTIVE': CenterMaskScorer(requested_output=DNASE, width=501, aggregation_type=ACTIVE_SUM), 'CHIP_TF_ACTIVE': CenterMaskScorer(requested_output=CHIP_TF, width=501, aggregation_type=ACTIVE_SUM), 'CHIP_HISTONE_ACTIVE': CenterMaskScorer(requested_output=CHIP_HISTONE, width=2001, aggregation_type=ACTIVE_SUM), 'CAGE_ACTIVE': CenterMaskScorer(requested_output=CAGE, width=501, aggregation_type=ACTIVE_SUM), 'PROCAP_ACTIVE': CenterMaskScorer(requested_output=PROCAP, width=501, aggregation_type=ACTIVE_SUM)})"
      ]
     },
     "execution_count": 13,
     "metadata": {},
     "output_type": "execute_result"
    }
   ],
   "source": [
    "variant_scorers.RECOMMENDED_VARIANT_SCORERS"
   ]
  },
  {
   "cell_type": "code",
   "execution_count": 14,
   "id": "261e6178-2119-47b7-ac1d-a4046ecaf24d",
   "metadata": {},
   "outputs": [
    {
     "data": {
      "text/plain": [
       "CenterMaskScorer(requested_output=ATAC, width=501, aggregation_type=DIFF_LOG2_SUM)"
      ]
     },
     "execution_count": 14,
     "metadata": {},
     "output_type": "execute_result"
    }
   ],
   "source": [
    "variant_scorers.RECOMMENDED_VARIANT_SCORERS[\"ATAC\"]"
   ]
  },
  {
   "cell_type": "code",
   "execution_count": 15,
   "id": "33357bc9-a1fc-4387-b1b9-cbc4b00a98af",
   "metadata": {},
   "outputs": [
    {
     "data": {
      "text/plain": [
       "GeneMaskLFCScorer(requested_output=RNA_SEQ)"
      ]
     },
     "execution_count": 15,
     "metadata": {},
     "output_type": "execute_result"
    }
   ],
   "source": [
    "variant_scorers.RECOMMENDED_VARIANT_SCORERS[\"RNA_SEQ\"]"
   ]
  },
  {
   "cell_type": "markdown",
   "id": "6c9972de-af7e-4e40-a8bc-1bf91549846a",
   "metadata": {},
   "source": [
    "**Perform prediction**"
   ]
  },
  {
   "cell_type": "code",
   "execution_count": 16,
   "id": "0b2be205-a629-401b-826b-f59d066bd0b5",
   "metadata": {},
   "outputs": [
    {
     "data": {
      "text/html": [
       "<div>\n",
       "<style scoped>\n",
       "    .dataframe tbody tr th:only-of-type {\n",
       "        vertical-align: middle;\n",
       "    }\n",
       "\n",
       "    .dataframe tbody tr th {\n",
       "        vertical-align: top;\n",
       "    }\n",
       "\n",
       "    .dataframe thead th {\n",
       "        text-align: right;\n",
       "    }\n",
       "</style>\n",
       "<table border=\"1\" class=\"dataframe\">\n",
       "  <thead>\n",
       "    <tr style=\"text-align: right;\">\n",
       "      <th></th>\n",
       "      <th>variant_id</th>\n",
       "      <th>scored_interval</th>\n",
       "      <th>gene_id</th>\n",
       "      <th>gene_name</th>\n",
       "      <th>gene_type</th>\n",
       "      <th>gene_strand</th>\n",
       "      <th>junction_Start</th>\n",
       "      <th>junction_End</th>\n",
       "      <th>output_type</th>\n",
       "      <th>variant_scorer</th>\n",
       "      <th>track_name</th>\n",
       "      <th>track_strand</th>\n",
       "      <th>Assay title</th>\n",
       "      <th>ontology_curie</th>\n",
       "      <th>biosample_name</th>\n",
       "      <th>biosample_type</th>\n",
       "      <th>gtex_tissue</th>\n",
       "      <th>raw_score</th>\n",
       "      <th>quantile_score</th>\n",
       "    </tr>\n",
       "  </thead>\n",
       "  <tbody>\n",
       "    <tr>\n",
       "      <th>0</th>\n",
       "      <td>chr11:5227022:G&gt;A</td>\n",
       "      <td>chr11:5225998-5228046:.</td>\n",
       "      <td>ENSG00000244734</td>\n",
       "      <td>HBB</td>\n",
       "      <td>protein_coding</td>\n",
       "      <td>-</td>\n",
       "      <td>None</td>\n",
       "      <td>None</td>\n",
       "      <td>RNA_SEQ</td>\n",
       "      <td>GeneMaskLFCScorer(requested_output=RNA_SEQ)</td>\n",
       "      <td>CL:0000047 polyA plus RNA-seq</td>\n",
       "      <td>-</td>\n",
       "      <td>polyA plus RNA-seq</td>\n",
       "      <td>CL:0000047</td>\n",
       "      <td>neuronal stem cell</td>\n",
       "      <td>in_vitro_differentiated_cells</td>\n",
       "      <td></td>\n",
       "      <td>-0.003360</td>\n",
       "      <td>-0.918669</td>\n",
       "    </tr>\n",
       "    <tr>\n",
       "      <th>1</th>\n",
       "      <td>chr11:5227022:G&gt;A</td>\n",
       "      <td>chr11:5225998-5228046:.</td>\n",
       "      <td>ENSG00000244734</td>\n",
       "      <td>HBB</td>\n",
       "      <td>protein_coding</td>\n",
       "      <td>-</td>\n",
       "      <td>None</td>\n",
       "      <td>None</td>\n",
       "      <td>RNA_SEQ</td>\n",
       "      <td>GeneMaskLFCScorer(requested_output=RNA_SEQ)</td>\n",
       "      <td>CL:0000062 total RNA-seq</td>\n",
       "      <td>-</td>\n",
       "      <td>total RNA-seq</td>\n",
       "      <td>CL:0000062</td>\n",
       "      <td>osteoblast</td>\n",
       "      <td>primary_cell</td>\n",
       "      <td></td>\n",
       "      <td>-0.053278</td>\n",
       "      <td>-0.999837</td>\n",
       "    </tr>\n",
       "    <tr>\n",
       "      <th>2</th>\n",
       "      <td>chr11:5227022:G&gt;A</td>\n",
       "      <td>chr11:5225998-5228046:.</td>\n",
       "      <td>ENSG00000244734</td>\n",
       "      <td>HBB</td>\n",
       "      <td>protein_coding</td>\n",
       "      <td>-</td>\n",
       "      <td>None</td>\n",
       "      <td>None</td>\n",
       "      <td>RNA_SEQ</td>\n",
       "      <td>GeneMaskLFCScorer(requested_output=RNA_SEQ)</td>\n",
       "      <td>CL:0000084 polyA plus RNA-seq</td>\n",
       "      <td>-</td>\n",
       "      <td>polyA plus RNA-seq</td>\n",
       "      <td>CL:0000084</td>\n",
       "      <td>T-cell</td>\n",
       "      <td>primary_cell</td>\n",
       "      <td></td>\n",
       "      <td>-0.095105</td>\n",
       "      <td>-0.999899</td>\n",
       "    </tr>\n",
       "    <tr>\n",
       "      <th>3</th>\n",
       "      <td>chr11:5227022:G&gt;A</td>\n",
       "      <td>chr11:5225998-5228046:.</td>\n",
       "      <td>ENSG00000244734</td>\n",
       "      <td>HBB</td>\n",
       "      <td>protein_coding</td>\n",
       "      <td>-</td>\n",
       "      <td>None</td>\n",
       "      <td>None</td>\n",
       "      <td>RNA_SEQ</td>\n",
       "      <td>GeneMaskLFCScorer(requested_output=RNA_SEQ)</td>\n",
       "      <td>CL:0000084 total RNA-seq</td>\n",
       "      <td>-</td>\n",
       "      <td>total RNA-seq</td>\n",
       "      <td>CL:0000084</td>\n",
       "      <td>T-cell</td>\n",
       "      <td>primary_cell</td>\n",
       "      <td></td>\n",
       "      <td>-0.108720</td>\n",
       "      <td>-0.999918</td>\n",
       "    </tr>\n",
       "    <tr>\n",
       "      <th>4</th>\n",
       "      <td>chr11:5227022:G&gt;A</td>\n",
       "      <td>chr11:5225998-5228046:.</td>\n",
       "      <td>ENSG00000244734</td>\n",
       "      <td>HBB</td>\n",
       "      <td>protein_coding</td>\n",
       "      <td>-</td>\n",
       "      <td>None</td>\n",
       "      <td>None</td>\n",
       "      <td>RNA_SEQ</td>\n",
       "      <td>GeneMaskLFCScorer(requested_output=RNA_SEQ)</td>\n",
       "      <td>CL:0000115 total RNA-seq</td>\n",
       "      <td>-</td>\n",
       "      <td>total RNA-seq</td>\n",
       "      <td>CL:0000115</td>\n",
       "      <td>endothelial cell</td>\n",
       "      <td>in_vitro_differentiated_cells</td>\n",
       "      <td></td>\n",
       "      <td>-0.004680</td>\n",
       "      <td>-0.976447</td>\n",
       "    </tr>\n",
       "  </tbody>\n",
       "</table>\n",
       "</div>"
      ],
      "text/plain": [
       "          variant_id          scored_interval          gene_id gene_name  \\\n",
       "0  chr11:5227022:G>A  chr11:5225998-5228046:.  ENSG00000244734       HBB   \n",
       "1  chr11:5227022:G>A  chr11:5225998-5228046:.  ENSG00000244734       HBB   \n",
       "2  chr11:5227022:G>A  chr11:5225998-5228046:.  ENSG00000244734       HBB   \n",
       "3  chr11:5227022:G>A  chr11:5225998-5228046:.  ENSG00000244734       HBB   \n",
       "4  chr11:5227022:G>A  chr11:5225998-5228046:.  ENSG00000244734       HBB   \n",
       "\n",
       "        gene_type gene_strand junction_Start junction_End output_type  \\\n",
       "0  protein_coding           -           None         None     RNA_SEQ   \n",
       "1  protein_coding           -           None         None     RNA_SEQ   \n",
       "2  protein_coding           -           None         None     RNA_SEQ   \n",
       "3  protein_coding           -           None         None     RNA_SEQ   \n",
       "4  protein_coding           -           None         None     RNA_SEQ   \n",
       "\n",
       "                                variant_scorer                     track_name  \\\n",
       "0  GeneMaskLFCScorer(requested_output=RNA_SEQ)  CL:0000047 polyA plus RNA-seq   \n",
       "1  GeneMaskLFCScorer(requested_output=RNA_SEQ)       CL:0000062 total RNA-seq   \n",
       "2  GeneMaskLFCScorer(requested_output=RNA_SEQ)  CL:0000084 polyA plus RNA-seq   \n",
       "3  GeneMaskLFCScorer(requested_output=RNA_SEQ)       CL:0000084 total RNA-seq   \n",
       "4  GeneMaskLFCScorer(requested_output=RNA_SEQ)       CL:0000115 total RNA-seq   \n",
       "\n",
       "  track_strand         Assay title ontology_curie      biosample_name  \\\n",
       "0            -  polyA plus RNA-seq     CL:0000047  neuronal stem cell   \n",
       "1            -       total RNA-seq     CL:0000062          osteoblast   \n",
       "2            -  polyA plus RNA-seq     CL:0000084              T-cell   \n",
       "3            -       total RNA-seq     CL:0000084              T-cell   \n",
       "4            -       total RNA-seq     CL:0000115    endothelial cell   \n",
       "\n",
       "                  biosample_type gtex_tissue  raw_score  quantile_score  \n",
       "0  in_vitro_differentiated_cells              -0.003360       -0.918669  \n",
       "1                   primary_cell              -0.053278       -0.999837  \n",
       "2                   primary_cell              -0.095105       -0.999899  \n",
       "3                   primary_cell              -0.108720       -0.999918  \n",
       "4  in_vitro_differentiated_cells              -0.004680       -0.976447  "
      ]
     },
     "execution_count": 16,
     "metadata": {},
     "output_type": "execute_result"
    }
   ],
   "source": [
    "### perform prediction\n",
    "variant_scores = dna_model.score_variant(\n",
    "    interval = interval,\n",
    "    variant  = variant,\n",
    "    variant_scorers = [variant_scorers.RECOMMENDED_VARIANT_SCORERS[\"RNA_SEQ\"]]\n",
    "    #variant_scorers = list(variant_scorers.RECOMMENDED_VARIANT_SCORERS.values()),\n",
    ")\n",
    "\n",
    "dat_scores = variant_scorers.tidy_scores(variant_scores)\n",
    "dat_scores.head()"
   ]
  },
  {
   "cell_type": "code",
   "execution_count": 17,
   "id": "2e016bc6-dbaa-4a5f-8887-c276ae31022b",
   "metadata": {},
   "outputs": [
    {
     "data": {
      "text/html": [
       "<div>\n",
       "<style scoped>\n",
       "    .dataframe tbody tr th:only-of-type {\n",
       "        vertical-align: middle;\n",
       "    }\n",
       "\n",
       "    .dataframe tbody tr th {\n",
       "        vertical-align: top;\n",
       "    }\n",
       "\n",
       "    .dataframe thead th {\n",
       "        text-align: right;\n",
       "    }\n",
       "</style>\n",
       "<table border=\"1\" class=\"dataframe\">\n",
       "  <thead>\n",
       "    <tr style=\"text-align: right;\">\n",
       "      <th></th>\n",
       "      <th>variant_id</th>\n",
       "      <th>scored_interval</th>\n",
       "      <th>gene_id</th>\n",
       "      <th>gene_name</th>\n",
       "      <th>gene_type</th>\n",
       "      <th>gene_strand</th>\n",
       "      <th>junction_Start</th>\n",
       "      <th>junction_End</th>\n",
       "      <th>output_type</th>\n",
       "      <th>variant_scorer</th>\n",
       "      <th>track_name</th>\n",
       "      <th>track_strand</th>\n",
       "      <th>Assay title</th>\n",
       "      <th>ontology_curie</th>\n",
       "      <th>biosample_name</th>\n",
       "      <th>biosample_type</th>\n",
       "      <th>gtex_tissue</th>\n",
       "      <th>raw_score</th>\n",
       "      <th>quantile_score</th>\n",
       "    </tr>\n",
       "  </thead>\n",
       "  <tbody>\n",
       "    <tr>\n",
       "      <th>119</th>\n",
       "      <td>chr11:5227022:G&gt;A</td>\n",
       "      <td>chr11:5225998-5228046:.</td>\n",
       "      <td>ENSG00000244734</td>\n",
       "      <td>HBB</td>\n",
       "      <td>protein_coding</td>\n",
       "      <td>-</td>\n",
       "      <td>None</td>\n",
       "      <td>None</td>\n",
       "      <td>RNA_SEQ</td>\n",
       "      <td>GeneMaskLFCScorer(requested_output=RNA_SEQ)</td>\n",
       "      <td>EFO:0002067 polyA plus RNA-seq</td>\n",
       "      <td>-</td>\n",
       "      <td>polyA plus RNA-seq</td>\n",
       "      <td>EFO:0002067</td>\n",
       "      <td>K562</td>\n",
       "      <td>cell_line</td>\n",
       "      <td></td>\n",
       "      <td>-0.027582</td>\n",
       "      <td>-0.999160</td>\n",
       "    </tr>\n",
       "    <tr>\n",
       "      <th>120</th>\n",
       "      <td>chr11:5227022:G&gt;A</td>\n",
       "      <td>chr11:5225998-5228046:.</td>\n",
       "      <td>ENSG00000244734</td>\n",
       "      <td>HBB</td>\n",
       "      <td>protein_coding</td>\n",
       "      <td>-</td>\n",
       "      <td>None</td>\n",
       "      <td>None</td>\n",
       "      <td>RNA_SEQ</td>\n",
       "      <td>GeneMaskLFCScorer(requested_output=RNA_SEQ)</td>\n",
       "      <td>EFO:0002067 total RNA-seq</td>\n",
       "      <td>-</td>\n",
       "      <td>total RNA-seq</td>\n",
       "      <td>EFO:0002067</td>\n",
       "      <td>K562</td>\n",
       "      <td>cell_line</td>\n",
       "      <td></td>\n",
       "      <td>-0.005818</td>\n",
       "      <td>-0.974781</td>\n",
       "    </tr>\n",
       "    <tr>\n",
       "      <th>300</th>\n",
       "      <td>chr11:5227022:G&gt;A</td>\n",
       "      <td>chr11:5225998-5228046:.</td>\n",
       "      <td>ENSG00000244734</td>\n",
       "      <td>HBB</td>\n",
       "      <td>protein_coding</td>\n",
       "      <td>-</td>\n",
       "      <td>None</td>\n",
       "      <td>None</td>\n",
       "      <td>RNA_SEQ</td>\n",
       "      <td>GeneMaskLFCScorer(requested_output=RNA_SEQ)</td>\n",
       "      <td>EFO:0002067 polyA plus RNA-seq</td>\n",
       "      <td>.</td>\n",
       "      <td>polyA plus RNA-seq</td>\n",
       "      <td>EFO:0002067</td>\n",
       "      <td>K562</td>\n",
       "      <td>cell_line</td>\n",
       "      <td></td>\n",
       "      <td>-0.010384</td>\n",
       "      <td>-0.992335</td>\n",
       "    </tr>\n",
       "  </tbody>\n",
       "</table>\n",
       "</div>"
      ],
      "text/plain": [
       "            variant_id          scored_interval          gene_id gene_name  \\\n",
       "119  chr11:5227022:G>A  chr11:5225998-5228046:.  ENSG00000244734       HBB   \n",
       "120  chr11:5227022:G>A  chr11:5225998-5228046:.  ENSG00000244734       HBB   \n",
       "300  chr11:5227022:G>A  chr11:5225998-5228046:.  ENSG00000244734       HBB   \n",
       "\n",
       "          gene_type gene_strand junction_Start junction_End output_type  \\\n",
       "119  protein_coding           -           None         None     RNA_SEQ   \n",
       "120  protein_coding           -           None         None     RNA_SEQ   \n",
       "300  protein_coding           -           None         None     RNA_SEQ   \n",
       "\n",
       "                                  variant_scorer  \\\n",
       "119  GeneMaskLFCScorer(requested_output=RNA_SEQ)   \n",
       "120  GeneMaskLFCScorer(requested_output=RNA_SEQ)   \n",
       "300  GeneMaskLFCScorer(requested_output=RNA_SEQ)   \n",
       "\n",
       "                         track_name track_strand         Assay title  \\\n",
       "119  EFO:0002067 polyA plus RNA-seq            -  polyA plus RNA-seq   \n",
       "120       EFO:0002067 total RNA-seq            -       total RNA-seq   \n",
       "300  EFO:0002067 polyA plus RNA-seq            .  polyA plus RNA-seq   \n",
       "\n",
       "    ontology_curie biosample_name biosample_type gtex_tissue  raw_score  \\\n",
       "119    EFO:0002067           K562      cell_line              -0.027582   \n",
       "120    EFO:0002067           K562      cell_line              -0.005818   \n",
       "300    EFO:0002067           K562      cell_line              -0.010384   \n",
       "\n",
       "     quantile_score  \n",
       "119       -0.999160  \n",
       "120       -0.974781  \n",
       "300       -0.992335  "
      ]
     },
     "execution_count": 17,
     "metadata": {},
     "output_type": "execute_result"
    }
   ],
   "source": [
    "dat = dat_scores.loc[dat_scores[\"biosample_name\"] == \"K562\"]\n",
    "dat"
   ]
  },
  {
   "cell_type": "code",
   "execution_count": 22,
   "id": "cb7b118b-079c-43e1-a3c3-0d9848e3e7d1",
   "metadata": {},
   "outputs": [
    {
     "data": {
      "text/html": [
       "<div>\n",
       "<style scoped>\n",
       "    .dataframe tbody tr th:only-of-type {\n",
       "        vertical-align: middle;\n",
       "    }\n",
       "\n",
       "    .dataframe tbody tr th {\n",
       "        vertical-align: top;\n",
       "    }\n",
       "\n",
       "    .dataframe thead th {\n",
       "        text-align: right;\n",
       "    }\n",
       "</style>\n",
       "<table border=\"1\" class=\"dataframe\">\n",
       "  <thead>\n",
       "    <tr style=\"text-align: right;\">\n",
       "      <th></th>\n",
       "      <th>variant_id</th>\n",
       "      <th>scored_interval</th>\n",
       "      <th>gene_id</th>\n",
       "      <th>gene_name</th>\n",
       "      <th>gene_type</th>\n",
       "      <th>gene_strand</th>\n",
       "      <th>junction_Start</th>\n",
       "      <th>junction_End</th>\n",
       "      <th>output_type</th>\n",
       "      <th>variant_scorer</th>\n",
       "      <th>...</th>\n",
       "      <th>biosample_type</th>\n",
       "      <th>gtex_tissue</th>\n",
       "      <th>raw_score</th>\n",
       "      <th>quantile_score</th>\n",
       "      <th>Region</th>\n",
       "      <th>Position</th>\n",
       "      <th>Ref</th>\n",
       "      <th>Alt</th>\n",
       "      <th>Length</th>\n",
       "      <th>Scorer</th>\n",
       "    </tr>\n",
       "  </thead>\n",
       "  <tbody>\n",
       "    <tr>\n",
       "      <th>119</th>\n",
       "      <td>chr11:5227022:G&gt;A</td>\n",
       "      <td>chr11:5225998-5228046:.</td>\n",
       "      <td>ENSG00000244734</td>\n",
       "      <td>HBB</td>\n",
       "      <td>protein_coding</td>\n",
       "      <td>-</td>\n",
       "      <td>None</td>\n",
       "      <td>None</td>\n",
       "      <td>RNA_SEQ</td>\n",
       "      <td>GeneMaskLFCScorer(requested_output=RNA_SEQ)</td>\n",
       "      <td>...</td>\n",
       "      <td>cell_line</td>\n",
       "      <td></td>\n",
       "      <td>-0.027582</td>\n",
       "      <td>-0.999160</td>\n",
       "      <td>chr11:5227021-5227208</td>\n",
       "      <td>5227021</td>\n",
       "      <td>G</td>\n",
       "      <td>A</td>\n",
       "      <td>2048</td>\n",
       "      <td>RNA_SEQ</td>\n",
       "    </tr>\n",
       "    <tr>\n",
       "      <th>120</th>\n",
       "      <td>chr11:5227022:G&gt;A</td>\n",
       "      <td>chr11:5225998-5228046:.</td>\n",
       "      <td>ENSG00000244734</td>\n",
       "      <td>HBB</td>\n",
       "      <td>protein_coding</td>\n",
       "      <td>-</td>\n",
       "      <td>None</td>\n",
       "      <td>None</td>\n",
       "      <td>RNA_SEQ</td>\n",
       "      <td>GeneMaskLFCScorer(requested_output=RNA_SEQ)</td>\n",
       "      <td>...</td>\n",
       "      <td>cell_line</td>\n",
       "      <td></td>\n",
       "      <td>-0.005818</td>\n",
       "      <td>-0.974781</td>\n",
       "      <td>chr11:5227021-5227208</td>\n",
       "      <td>5227021</td>\n",
       "      <td>G</td>\n",
       "      <td>A</td>\n",
       "      <td>2048</td>\n",
       "      <td>RNA_SEQ</td>\n",
       "    </tr>\n",
       "    <tr>\n",
       "      <th>300</th>\n",
       "      <td>chr11:5227022:G&gt;A</td>\n",
       "      <td>chr11:5225998-5228046:.</td>\n",
       "      <td>ENSG00000244734</td>\n",
       "      <td>HBB</td>\n",
       "      <td>protein_coding</td>\n",
       "      <td>-</td>\n",
       "      <td>None</td>\n",
       "      <td>None</td>\n",
       "      <td>RNA_SEQ</td>\n",
       "      <td>GeneMaskLFCScorer(requested_output=RNA_SEQ)</td>\n",
       "      <td>...</td>\n",
       "      <td>cell_line</td>\n",
       "      <td></td>\n",
       "      <td>-0.010384</td>\n",
       "      <td>-0.992335</td>\n",
       "      <td>chr11:5227021-5227208</td>\n",
       "      <td>5227021</td>\n",
       "      <td>G</td>\n",
       "      <td>A</td>\n",
       "      <td>2048</td>\n",
       "      <td>RNA_SEQ</td>\n",
       "    </tr>\n",
       "  </tbody>\n",
       "</table>\n",
       "<p>3 rows × 25 columns</p>\n",
       "</div>"
      ],
      "text/plain": [
       "            variant_id          scored_interval          gene_id gene_name  \\\n",
       "119  chr11:5227022:G>A  chr11:5225998-5228046:.  ENSG00000244734       HBB   \n",
       "120  chr11:5227022:G>A  chr11:5225998-5228046:.  ENSG00000244734       HBB   \n",
       "300  chr11:5227022:G>A  chr11:5225998-5228046:.  ENSG00000244734       HBB   \n",
       "\n",
       "          gene_type gene_strand junction_Start junction_End output_type  \\\n",
       "119  protein_coding           -           None         None     RNA_SEQ   \n",
       "120  protein_coding           -           None         None     RNA_SEQ   \n",
       "300  protein_coding           -           None         None     RNA_SEQ   \n",
       "\n",
       "                                  variant_scorer  ... biosample_type  \\\n",
       "119  GeneMaskLFCScorer(requested_output=RNA_SEQ)  ...      cell_line   \n",
       "120  GeneMaskLFCScorer(requested_output=RNA_SEQ)  ...      cell_line   \n",
       "300  GeneMaskLFCScorer(requested_output=RNA_SEQ)  ...      cell_line   \n",
       "\n",
       "    gtex_tissue raw_score quantile_score                 Region Position Ref  \\\n",
       "119             -0.027582      -0.999160  chr11:5227021-5227208  5227021   G   \n",
       "120             -0.005818      -0.974781  chr11:5227021-5227208  5227021   G   \n",
       "300             -0.010384      -0.992335  chr11:5227021-5227208  5227021   G   \n",
       "\n",
       "     Alt  Length   Scorer  \n",
       "119    A    2048  RNA_SEQ  \n",
       "120    A    2048  RNA_SEQ  \n",
       "300    A    2048  RNA_SEQ  \n",
       "\n",
       "[3 rows x 25 columns]"
      ]
     },
     "execution_count": 22,
     "metadata": {},
     "output_type": "execute_result"
    }
   ],
   "source": [
    "dat = dat_scores\n",
    "dat = dat.loc[dat_scores[\"biosample_name\"] == \"K562\"]\n",
    "dat = dat.assign(\n",
    "    Region   = txt_region,\n",
    "    Position = num_variant_position_0base,\n",
    "    Ref = txt_variant_reference_base,\n",
    "    Alt = txt_variant_alternate_base,\n",
    "    Length = num_sequence_length,\n",
    "    Scorer = \"RNA_SEQ\"\n",
    ")\n",
    "dat"
   ]
  },
  {
   "cell_type": "code",
   "execution_count": 23,
   "id": "f422dac8-b077-4f08-8f31-6911ff2b7e84",
   "metadata": {},
   "outputs": [
    {
     "data": {
      "text/html": [
       "<div>\n",
       "<style scoped>\n",
       "    .dataframe tbody tr th:only-of-type {\n",
       "        vertical-align: middle;\n",
       "    }\n",
       "\n",
       "    .dataframe tbody tr th {\n",
       "        vertical-align: top;\n",
       "    }\n",
       "\n",
       "    .dataframe thead th {\n",
       "        text-align: right;\n",
       "    }\n",
       "</style>\n",
       "<table border=\"1\" class=\"dataframe\">\n",
       "  <thead>\n",
       "    <tr style=\"text-align: right;\">\n",
       "      <th></th>\n",
       "      <th>variant_id</th>\n",
       "      <th>scored_interval</th>\n",
       "      <th>output_type</th>\n",
       "      <th>variant_scorer</th>\n",
       "      <th>biosample_name</th>\n",
       "      <th>raw_score</th>\n",
       "      <th>quantile_score</th>\n",
       "    </tr>\n",
       "  </thead>\n",
       "  <tbody>\n",
       "    <tr>\n",
       "      <th>119</th>\n",
       "      <td>chr11:5227022:G&gt;A</td>\n",
       "      <td>chr11:5225998-5228046:.</td>\n",
       "      <td>RNA_SEQ</td>\n",
       "      <td>GeneMaskLFCScorer(requested_output=RNA_SEQ)</td>\n",
       "      <td>K562</td>\n",
       "      <td>-0.027582</td>\n",
       "      <td>-0.999160</td>\n",
       "    </tr>\n",
       "    <tr>\n",
       "      <th>120</th>\n",
       "      <td>chr11:5227022:G&gt;A</td>\n",
       "      <td>chr11:5225998-5228046:.</td>\n",
       "      <td>RNA_SEQ</td>\n",
       "      <td>GeneMaskLFCScorer(requested_output=RNA_SEQ)</td>\n",
       "      <td>K562</td>\n",
       "      <td>-0.005818</td>\n",
       "      <td>-0.974781</td>\n",
       "    </tr>\n",
       "    <tr>\n",
       "      <th>300</th>\n",
       "      <td>chr11:5227022:G&gt;A</td>\n",
       "      <td>chr11:5225998-5228046:.</td>\n",
       "      <td>RNA_SEQ</td>\n",
       "      <td>GeneMaskLFCScorer(requested_output=RNA_SEQ)</td>\n",
       "      <td>K562</td>\n",
       "      <td>-0.010384</td>\n",
       "      <td>-0.992335</td>\n",
       "    </tr>\n",
       "  </tbody>\n",
       "</table>\n",
       "</div>"
      ],
      "text/plain": [
       "            variant_id          scored_interval output_type  \\\n",
       "119  chr11:5227022:G>A  chr11:5225998-5228046:.     RNA_SEQ   \n",
       "120  chr11:5227022:G>A  chr11:5225998-5228046:.     RNA_SEQ   \n",
       "300  chr11:5227022:G>A  chr11:5225998-5228046:.     RNA_SEQ   \n",
       "\n",
       "                                  variant_scorer biosample_name  raw_score  \\\n",
       "119  GeneMaskLFCScorer(requested_output=RNA_SEQ)           K562  -0.027582   \n",
       "120  GeneMaskLFCScorer(requested_output=RNA_SEQ)           K562  -0.005818   \n",
       "300  GeneMaskLFCScorer(requested_output=RNA_SEQ)           K562  -0.010384   \n",
       "\n",
       "     quantile_score  \n",
       "119       -0.999160  \n",
       "120       -0.974781  \n",
       "300       -0.992335  "
      ]
     },
     "execution_count": 23,
     "metadata": {},
     "output_type": "execute_result"
    }
   ],
   "source": [
    "dat = dat_scores.loc[\n",
    "    dat_scores[\"biosample_name\"] == \"K562\",\n",
    "    [\n",
    "        \"variant_id\",\n",
    "        \"scored_interval\",\n",
    "        \"output_type\",\n",
    "        \"variant_scorer\",\n",
    "        \"biosample_name\",\n",
    "        \"raw_score\",\n",
    "        \"quantile_score\",\n",
    "    ]\n",
    "]\n",
    "dat"
   ]
  },
  {
   "cell_type": "code",
   "execution_count": null,
   "id": "7d108093-b219-4a22-ac49-6983a3bb568b",
   "metadata": {},
   "outputs": [],
   "source": []
  }
 ],
 "metadata": {
  "kernelspec": {
   "display_name": "Python 3 (ipykernel)",
   "language": "python",
   "name": "python3"
  },
  "language_info": {
   "codemirror_mode": {
    "name": "ipython",
    "version": 3
   },
   "file_extension": ".py",
   "mimetype": "text/x-python",
   "name": "python",
   "nbconvert_exporter": "python",
   "pygments_lexer": "ipython3",
   "version": "3.11.6"
  }
 },
 "nbformat": 4,
 "nbformat_minor": 5
}
