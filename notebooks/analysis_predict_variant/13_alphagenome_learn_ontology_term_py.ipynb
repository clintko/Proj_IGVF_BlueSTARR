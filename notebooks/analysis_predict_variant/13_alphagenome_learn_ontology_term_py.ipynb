{
 "cells": [
  {
   "cell_type": "raw",
   "id": "ce2d6b76-ae7f-43df-ab82-a614dfae7f51",
   "metadata": {},
   "source": [
    "---\n",
    "title: Test Alphagenome\n",
    "subtitle: Test to run alphagenome on a variant\n",
    "format:\n",
    "    html:\n",
    "        code-fold:  true\n",
    "        code-tools: true\n",
    "---"
   ]
  },
  {
   "cell_type": "code",
   "execution_count": 2,
   "id": "11dbea7d-7e3a-48b5-9d42-da2136f92ab4",
   "metadata": {},
   "outputs": [
    {
     "name": "stderr",
     "output_type": "stream",
     "text": [
      "/opt/conda/lib/python3.11/site-packages/google/protobuf/runtime_version.py:98: UserWarning: Protobuf gencode version 5.27.2 is exactly one major version older than the runtime version 6.31.1 at alphagenome/protos/dna_model.proto. Please update the gencode to avoid compatibility violations in the next runtime release.\n",
      "  warnings.warn(\n",
      "/opt/conda/lib/python3.11/site-packages/google/protobuf/runtime_version.py:98: UserWarning: Protobuf gencode version 5.27.2 is exactly one major version older than the runtime version 6.31.1 at alphagenome/protos/tensor.proto. Please update the gencode to avoid compatibility violations in the next runtime release.\n",
      "  warnings.warn(\n"
     ]
    }
   ],
   "source": [
    "from alphagenome.data import genome\n",
    "from alphagenome.models import dna_client"
   ]
  },
  {
   "cell_type": "code",
   "execution_count": null,
   "id": "4458bd3a-32cc-48fa-a0c4-f6a42cefab96",
   "metadata": {},
   "outputs": [],
   "source": []
  },
  {
   "cell_type": "code",
   "execution_count": 4,
   "id": "396cf560-6eea-47d6-8a40-3c7b21dc45df",
   "metadata": {},
   "outputs": [
    {
     "ename": "NameError",
     "evalue": "name 'dna_model' is not defined",
     "output_type": "error",
     "traceback": [
      "\u001b[0;31m---------------------------------------------------------------------------\u001b[0m",
      "\u001b[0;31mNameError\u001b[0m                                 Traceback (most recent call last)",
      "Cell \u001b[0;32mIn[4], line 10\u001b[0m\n\u001b[1;32m      7\u001b[0m dummy_int \u001b[38;5;241m=\u001b[39m dummy_var\u001b[38;5;241m.\u001b[39mreference_interval\u001b[38;5;241m.\u001b[39mresize(seq_len)\n\u001b[1;32m      9\u001b[0m \u001b[38;5;66;03m# Request just 1–2 modalities to minimize compute; CAGE + RNA_SEQ are good for breadth.\u001b[39;00m\n\u001b[0;32m---> 10\u001b[0m output \u001b[38;5;241m=\u001b[39m \u001b[43mdna_model\u001b[49m\u001b[38;5;241m.\u001b[39mpredict_variant(\n\u001b[1;32m     11\u001b[0m     interval\u001b[38;5;241m=\u001b[39mdummy_int,\n\u001b[1;32m     12\u001b[0m     variant\u001b[38;5;241m=\u001b[39mdummy_var,\n\u001b[1;32m     13\u001b[0m     organism\u001b[38;5;241m=\u001b[39morganism,                     \u001b[38;5;66;03m# your enum from earlier\u001b[39;00m\n\u001b[1;32m     14\u001b[0m     requested_outputs\u001b[38;5;241m=\u001b[39m[\n\u001b[1;32m     15\u001b[0m         dna_client\u001b[38;5;241m.\u001b[39mOutputType\u001b[38;5;241m.\u001b[39mCAGE,\n\u001b[1;32m     16\u001b[0m         dna_client\u001b[38;5;241m.\u001b[39mOutputType\u001b[38;5;241m.\u001b[39mRNA_SEQ,\n\u001b[1;32m     17\u001b[0m     ],\n\u001b[1;32m     18\u001b[0m     ontology_terms\u001b[38;5;241m=\u001b[39m\u001b[38;5;28;01mNone\u001b[39;00m,                   \u001b[38;5;66;03m# IMPORTANT: discover across\u001b[39;00m\n\u001b[1;32m     19\u001b[0m )\n",
      "\u001b[0;31mNameError\u001b[0m: name 'dna_model' is not defined"
     ]
    }
   ],
   "source": [
    "# Use a tiny window to keep it fast\n",
    "seq_len = dna_client.SUPPORTED_SEQUENCE_LENGTHS[\"SEQUENCE_LENGTH_2KB\"]\n",
    "\n",
    "# Any valid variant/interval will do; we just need the object to query tracks.\n",
    "# (Use your current variant/interval if you already have them.)\n",
    "dummy_var = genome.Variant(chromosome=\"chr1\", position=1_000_000, reference_bases=\"A\", alternate_bases=\"G\")\n",
    "dummy_int = dummy_var.reference_interval.resize(seq_len)\n",
    "\n",
    "# Request just 1–2 modalities to minimize compute; CAGE + RNA_SEQ are good for breadth.\n",
    "output = dna_model.predict_variant(\n",
    "    interval=dummy_int,\n",
    "    variant=dummy_var,\n",
    "    organism=organism,                     # your enum from earlier\n",
    "    requested_outputs=[\n",
    "        dna_client.OutputType.CAGE,\n",
    "        dna_client.OutputType.RNA_SEQ,\n",
    "    ],\n",
    "    ontology_terms=None,                   # IMPORTANT: discover across\n",
    ")"
   ]
  },
  {
   "cell_type": "code",
   "execution_count": null,
   "id": "a1f71d1f-2ee8-4873-ae9a-31a89ae34e5e",
   "metadata": {},
   "outputs": [],
   "source": [
    "import pandas as pd\n",
    "\n",
    "def _safe_meta(t):\n",
    "    if t is None or getattr(t, \"values\", None) is None or t.values.shape[-1] == 0:\n",
    "        return pd.DataFrame(columns=[\"output_type\",\"biosample_name\",\"ontology_curie\",\"biosample_type\",\"strand\",\"name\"])\n",
    "    m = t.metadata.copy()\n",
    "    # ensure common columns exist\n",
    "    for col in [\"biosample_name\",\"ontology_curie\",\"biosample_type\",\"strand\",\"name\"]:\n",
    "        if col not in m.columns:\n",
    "            m[col] = pd.NA\n",
    "    return m"
   ]
  }
 ],
 "metadata": {
  "kernelspec": {
   "display_name": "Python 3 (ipykernel)",
   "language": "python",
   "name": "python3"
  },
  "language_info": {
   "codemirror_mode": {
    "name": "ipython",
    "version": 3
   },
   "file_extension": ".py",
   "mimetype": "text/x-python",
   "name": "python",
   "nbconvert_exporter": "python",
   "pygments_lexer": "ipython3",
   "version": "3.11.6"
  }
 },
 "nbformat": 4,
 "nbformat_minor": 5
}
