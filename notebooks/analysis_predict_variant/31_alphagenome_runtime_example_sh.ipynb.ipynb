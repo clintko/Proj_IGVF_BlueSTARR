{
 "cells": [
  {
   "cell_type": "raw",
   "id": "dda15fbd-ed8b-469a-96d2-71a5afbc1ba5",
   "metadata": {},
   "source": [
    "---\n",
    "title: Test alphagenome variant prediction\n",
    "subtitle: test runtime\n",
    "format:\n",
    "    html:\n",
    "        code-fold:  true\n",
    "        code-tools: true\n",
    "---"
   ]
  },
  {
   "cell_type": "markdown",
   "id": "9934d0cd-07cb-4be7-8724-fa84a5c4e3b5",
   "metadata": {},
   "source": [
    "**Set environment**"
   ]
  },
  {
   "cell_type": "code",
   "execution_count": 1,
   "id": "0c65b6f1-06d4-49cb-8925-9e7be572d5e8",
   "metadata": {},
   "outputs": [
    {
     "name": "stdout",
     "output_type": "stream",
     "text": [
      "BASE DIRECTORY (FD_BASE):      /hpc/group/igvf/kk319\n",
      "REPO DIRECTORY (FD_REPO):      /hpc/group/igvf/kk319/repo\n",
      "WORK DIRECTORY (FD_WORK):      /hpc/group/igvf/kk319/work\n",
      "DATA DIRECTORY (FD_DATA):      /hpc/group/igvf/kk319/data\n",
      "CONTAINER DIR. (FD_SING):      /hpc/group/igvf/kk319/container\n",
      "\n",
      "You are working with           \n",
      "PATH OF PROJECT (FD_PRJ):      /hpc/group/igvf/kk319/repo/Proj_IGVF_BlueSTARR\n",
      "PROJECT RESULTS (FD_RES):      /hpc/group/igvf/kk319/repo/Proj_IGVF_BlueSTARR/results\n",
      "PROJECT SCRIPTS (FD_EXE):      /hpc/group/igvf/kk319/repo/Proj_IGVF_BlueSTARR/scripts\n",
      "PROJECT DATA    (FD_DAT):      /hpc/group/igvf/kk319/repo/Proj_IGVF_BlueSTARR/data\n",
      "PROJECT NOTE    (FD_NBK):      /hpc/group/igvf/kk319/repo/Proj_IGVF_BlueSTARR/notebooks\n",
      "PROJECT DOCS    (FD_DOC):      /hpc/group/igvf/kk319/repo/Proj_IGVF_BlueSTARR/docs\n",
      "PROJECT LOG     (FD_LOG):      /hpc/group/igvf/kk319/repo/Proj_IGVF_BlueSTARR/log\n",
      "PROJECT REF     (FD_REF):      /hpc/group/igvf/kk319/repo/Proj_IGVF_BlueSTARR/references\n",
      "PROJECT IMAGE   (FP_PRJ_SIF):  /hpc/group/igvf/kk319/container/project/singularity_proj_igvf_bluestarr.sif\n",
      "PROJECT CONF.   (FP_CNF):      /hpc/group/igvf/kk319/repo/Proj_IGVF_BlueSTARR/scripts/config_project.sh\n",
      "\n"
     ]
    }
   ],
   "source": [
    "source ../run_config_project.sh\n",
    "show_env"
   ]
  },
  {
   "cell_type": "markdown",
   "id": "bfe53815-c5f7-4f18-8a10-58990ed87e78",
   "metadata": {},
   "source": [
    "## Prepare"
   ]
  },
  {
   "cell_type": "code",
   "execution_count": 2,
   "id": "149b7c99-d4f9-4ed2-a923-9f2d83b27cce",
   "metadata": {},
   "outputs": [
    {
     "name": "stdout",
     "output_type": "stream",
     "text": [
      "result.alphagenome.variant.test.chunk_100.tsv  variant.chunk.22.tsv\n",
      "result.alphagenome.variant.test.example.tsv    variant.chunk.23.tsv\n",
      "variant.chunk.01.tsv                           variant.chunk.24.tsv\n",
      "variant.chunk.02.tsv                           variant.chunk.25.tsv\n",
      "variant.chunk.03.tsv                           variant.chunk.26.tsv\n",
      "variant.chunk.04.tsv                           variant.chunk.27.tsv\n",
      "variant.chunk.05.tsv                           variant.chunk.28.tsv\n",
      "variant.chunk.06.tsv                           variant.chunk.29.tsv\n",
      "variant.chunk.07.tsv                           variant.chunk.30.tsv\n",
      "variant.chunk.08.tsv                           variant.chunk.31.tsv\n",
      "variant.chunk.09.tsv                           variant.chunk.32.tsv\n",
      "variant.chunk.10.tsv                           variant.chunk.33.tsv\n",
      "variant.chunk.11.tsv                           variant.chunk.34.tsv\n",
      "variant.chunk.12.tsv                           variant.chunk.35.tsv\n",
      "variant.chunk.13.tsv                           variant.chunk.36.tsv\n",
      "variant.chunk.14.tsv                           variant.chunk.37.tsv\n",
      "variant.chunk.15.tsv                           variant.chunk.38.tsv\n",
      "variant.chunk.16.tsv                           variant.chunk.39.tsv\n",
      "variant.chunk.17.tsv                           variant.chunk.40.tsv\n",
      "variant.chunk.18.tsv                           variant.test.chunk_1000.tsv\n",
      "variant.chunk.19.tsv                           variant.test.chunk_100.tsv\n",
      "variant.chunk.20.tsv                           variant.test.example.tsv\n",
      "variant.chunk.21.tsv\n"
     ]
    }
   ],
   "source": [
    "ls ${FD_RES}/predict_variant_kircher2019"
   ]
  },
  {
   "cell_type": "markdown",
   "id": "d150d078-ffa0-47e3-a862-9e942c83e1ce",
   "metadata": {},
   "source": [
    "## Execute"
   ]
  },
  {
   "cell_type": "markdown",
   "id": "a16b8f1e-a10f-4ce1-af09-a635d6be8f8d",
   "metadata": {},
   "source": [
    "### Run example variants"
   ]
  },
  {
   "cell_type": "code",
   "execution_count": 3,
   "id": "4946cf34-e3bf-43fd-a4c2-94b7bc7ace1a",
   "metadata": {},
   "outputs": [
    {
     "name": "stdout",
     "output_type": "stream",
     "text": [
      "Submitted batch job 34482673\n"
     ]
    }
   ],
   "source": [
    "### set script\n",
    "FN_EXE=\"run_alphagenome_variant_prediction.sh\"\n",
    "FP_EXE=${FD_EXE}/${FN_EXE}\n",
    "\n",
    "### get input file\n",
    "FD_INP=${FD_RES}/predict_variant_kircher2019\n",
    "FN_INP=\"variant.test.example.tsv\"\n",
    "FP_INP=${FD_INP}/${FN_INP}\n",
    "\n",
    "### set file directory\n",
    "FD_OUT=${FD_INP}\n",
    "FN_OUT=\"result.alphagenome.${FN_INP}\"\n",
    "FP_OUT=${FD_OUT}/${FN_OUT}\n",
    "\n",
    "### set log file\n",
    "PREFIX=${FN_INP%.*}\n",
    "FN_LOG_PRE=\"run_alphagenome.${PREFIX}\"\n",
    "FN_LOG_OUT=\"${FN_LOG_PRE}.out\"\n",
    "FP_LOG_OUT=${FD_LOG}/${FN_LOG_OUT}\n",
    "FN_LOG_ERR=\"${FN_LOG_PRE}.err\"\n",
    "FP_LOG_ERR=${FD_LOG}/${FN_LOG_ERR}\n",
    "\n",
    "### execute\n",
    "sbatch \\\n",
    "    -A majoroslab \\\n",
    "    -p igvf \\\n",
    "    --cpus-per-task 2 \\\n",
    "    --mem 4G \\\n",
    "    --output ${FP_LOG_OUT} \\\n",
    "    --error  ${FP_LOG_ERR} \\\n",
    "    --chdir  ${FD_EXE} \\\n",
    "    ${FP_EXE} ${FP_INP} ${FP_OUT} \"2KB\" \"RNA_SEQ\" \"K562\""
   ]
  },
  {
   "cell_type": "markdown",
   "id": "74336b68-f48f-4bac-903b-7912b4eb9793",
   "metadata": {},
   "source": [
    "**Check results**"
   ]
  },
  {
   "cell_type": "code",
   "execution_count": 4,
   "id": "e28abd2c-fc67-4a99-a26b-1d2c2f68dade",
   "metadata": {},
   "outputs": [
    {
     "name": "stdout",
     "output_type": "stream",
     "text": [
      "/hpc/group/igvf/kk319/repo/Proj_IGVF_BlueSTARR/log/run_alphagenome.variant.test.example.out\n",
      "Hostname:           dcc-allenlab-01\n",
      "Slurm Array Index:  NA\n",
      "Time Stamp:         08-25-25+17:04:51\n",
      "\n",
      "Input:  /hpc/group/igvf/kk319/repo/Proj_IGVF_BlueSTARR/results/predict_variant_kircher2019/variant.test.example.tsv\n",
      "\n",
      "show first few lines of input\n",
      "chr11:5227021-5227208\t5227021\tG\tC\n",
      "chr11:5227021-5227208\t5227021\tG\tC\n",
      "chr11:5227021-5227208\t5227021\tG\tC\n",
      "\n",
      "\n",
      "Output:  /hpc/group/igvf/kk319/repo/Proj_IGVF_BlueSTARR/results/predict_variant_kircher2019/result.alphagenome.variant.test.example.tsv\n",
      "\n",
      "show first few lines of output:\n",
      "variant_id\tscored_interval\tgene_id\tgene_name\tgene_type\tgene_strand\tjunction_Start\tjunction_End\toutput_type\tvariant_scorer\ttrack_name\ttrack_strand\tAssay title\tontology_curie\tbiosample_name\tbiosample_type\tgtex_tissue\traw_score\tquantile_score\tRegion\tPosition\tRef\tAlt\tLength\tScorer\n",
      "chr11:5227022:G>C\tchr11:5225998-5228046:.\tENSG00000244734\tHBB\tprotein_coding\t-\t\t\tRNA_SEQ\tGeneMaskLFCScorer(requested_output=RNA_SEQ)\tEFO:0002067 polyA plus RNA-seq\t-\tpolyA plus RNA-seq\tEFO:0002067\tK562\tcell_line\t\t-0.046304703\t-0.99957967\tchr11:5227021-5227208\t5227021\tG\tC\t2048\tRNA_SEQ\n",
      "chr11:5227022:G>C\tchr11:5225998-5228046:.\tENSG00000244734\tHBB\tprotein_coding\t-\t\t\tRNA_SEQ\tGeneMaskLFCScorer(requested_output=RNA_SEQ)\tEFO:0002067 total RNA-seq\t-\ttotal RNA-seq\tEFO:0002067\tK562\tcell_line\t\t-0.023067951\t-0.9990577\tchr11:5227021-5227208\t5227021\tG\tC\t2048\tRNA_SEQ\n",
      "\n",
      "\n",
      "Done!\n",
      "Run Time: 4 seconds\n",
      "\n"
     ]
    }
   ],
   "source": [
    "echo ${FP_LOG_OUT}\n",
    "cat  ${FP_LOG_OUT}"
   ]
  },
  {
   "cell_type": "code",
   "execution_count": 5,
   "id": "902bbb6d-4b8b-4c04-85a9-2abe436dc12a",
   "metadata": {},
   "outputs": [
    {
     "name": "stdout",
     "output_type": "stream",
     "text": [
      "/hpc/group/igvf/kk319/repo/Proj_IGVF_BlueSTARR/log/run_alphagenome.variant.test.example.err\n",
      "/usr/local/lib/python3.11/site-packages/google/protobuf/runtime_version.py:98: UserWarning: Protobuf gencode version 5.27.2 is exactly one major version older than the runtime version 6.31.1 at alphagenome/protos/dna_model.proto. Please update the gencode to avoid compatibility violations in the next runtime release.\n",
      "  warnings.warn(\n",
      "/usr/local/lib/python3.11/site-packages/google/protobuf/runtime_version.py:98: UserWarning: Protobuf gencode version 5.27.2 is exactly one major version older than the runtime version 6.31.1 at alphagenome/protos/tensor.proto. Please update the gencode to avoid compatibility violations in the next runtime release.\n",
      "  warnings.warn(\n"
     ]
    }
   ],
   "source": [
    "echo ${FP_LOG_ERR}\n",
    "cat  ${FP_LOG_ERR}"
   ]
  },
  {
   "cell_type": "markdown",
   "id": "0779699d-49a7-4ffc-b061-9c99999582f7",
   "metadata": {},
   "source": [
    "### Run test variants with chunk 100"
   ]
  },
  {
   "cell_type": "code",
   "execution_count": 6,
   "id": "c3381efa-1ed8-42e9-88a3-58aa54002266",
   "metadata": {},
   "outputs": [
    {
     "name": "stdout",
     "output_type": "stream",
     "text": [
      "Submitted batch job 34482709\n"
     ]
    }
   ],
   "source": [
    "### set script\n",
    "FN_EXE=\"run_alphagenome_variant_prediction.sh\"\n",
    "FP_EXE=${FD_EXE}/${FN_EXE}\n",
    "\n",
    "### get input file\n",
    "FD_INP=${FD_RES}/predict_variant_kircher2019\n",
    "FN_INP=\"variant.test.chunk_100.tsv\"\n",
    "FP_INP=${FD_INP}/${FN_INP}\n",
    "\n",
    "### set file directory\n",
    "FD_OUT=${FD_INP}\n",
    "FN_OUT=\"result.alphagenome.${FN_INP}\"\n",
    "FP_OUT=${FD_OUT}/${FN_OUT}\n",
    "\n",
    "### set log file\n",
    "PREFIX=${FN_INP%.*}\n",
    "FN_LOG_PRE=\"run_alphagenome.${PREFIX}\"\n",
    "FN_LOG_OUT=\"${FN_LOG_PRE}.out\"\n",
    "FP_LOG_OUT=${FD_LOG}/${FN_LOG_OUT}\n",
    "FN_LOG_ERR=\"${FN_LOG_PRE}.err\"\n",
    "FP_LOG_ERR=${FD_LOG}/${FN_LOG_ERR}\n",
    "\n",
    "### execute\n",
    "sbatch \\\n",
    "    -A majoroslab \\\n",
    "    -p igvf \\\n",
    "    --cpus-per-task 2 \\\n",
    "    --mem 4G \\\n",
    "    --output ${FP_LOG_OUT} \\\n",
    "    --error  ${FP_LOG_ERR} \\\n",
    "    --chdir  ${FD_EXE} \\\n",
    "    ${FP_EXE} ${FP_INP} ${FP_OUT} \"2KB\" \"RNA_SEQ\" \"K562\""
   ]
  },
  {
   "cell_type": "markdown",
   "id": "17e2d9e1-7095-4dbd-8a33-62e51278f9f2",
   "metadata": {},
   "source": [
    "**Check results**"
   ]
  },
  {
   "cell_type": "code",
   "execution_count": 7,
   "id": "9fc20c47-5f97-42e1-b168-c68751763d65",
   "metadata": {},
   "outputs": [
    {
     "name": "stdout",
     "output_type": "stream",
     "text": [
      "/hpc/group/igvf/kk319/repo/Proj_IGVF_BlueSTARR/log/run_alphagenome.variant.test.chunk_100.out\n",
      "Hostname:           dcc-allenlab-01\n",
      "Slurm Array Index:  NA\n",
      "Time Stamp:         08-25-25+17:05:22\n",
      "\n",
      "Input:  /hpc/group/igvf/kk319/repo/Proj_IGVF_BlueSTARR/results/predict_variant_kircher2019/variant.test.chunk_100.tsv\n",
      "\n",
      "show first few lines of input\n",
      "chr11:5227021-5227208\t5227021\tG\tG\n",
      "chr11:5227021-5227208\t5227021\tG\tC\n",
      "chr11:5227021-5227208\t5227021\tG\tA\n",
      "\n",
      "\n",
      "Output:  /hpc/group/igvf/kk319/repo/Proj_IGVF_BlueSTARR/results/predict_variant_kircher2019/result.alphagenome.variant.test.chunk_100.tsv\n",
      "\n",
      "show first few lines of output:\n",
      "variant_id\tscored_interval\tgene_id\tgene_name\tgene_type\tgene_strand\tjunction_Start\tjunction_End\toutput_type\tvariant_scorer\ttrack_name\ttrack_strand\tAssay title\tontology_curie\tbiosample_name\tbiosample_type\tgtex_tissue\traw_score\tquantile_score\tRegion\tPosition\tRef\tAlt\tLength\tScorer\n",
      "chr11:5227022:G>G\tchr11:5225998-5228046:.\tENSG00000244734\tHBB\tprotein_coding\t-\t\t\tRNA_SEQ\tGeneMaskLFCScorer(requested_output=RNA_SEQ)\tEFO:0002067 polyA plus RNA-seq\t-\tpolyA plus RNA-seq\tEFO:0002067\tK562\tcell_line\t\t0.0\t1.1377566e-12\tchr11:5227021-5227208\t5227021\tG\tG\t2048\tRNA_SEQ\n",
      "chr11:5227022:G>G\tchr11:5225998-5228046:.\tENSG00000244734\tHBB\tprotein_coding\t-\t\t\tRNA_SEQ\tGeneMaskLFCScorer(requested_output=RNA_SEQ)\tEFO:0002067 total RNA-seq\t-\ttotal RNA-seq\tEFO:0002067\tK562\tcell_line\t\t0.0\t1.1377566e-12\tchr11:5227021-5227208\t5227021\tG\tG\t2048\tRNA_SEQ\n",
      "\n",
      "\n",
      "Done!\n",
      "Run Time: 17 seconds\n",
      "\n"
     ]
    }
   ],
   "source": [
    "echo ${FP_LOG_OUT}\n",
    "cat  ${FP_LOG_OUT}"
   ]
  },
  {
   "cell_type": "markdown",
   "id": "c3f8ecea-98d9-499d-a379-dd6b268c0012",
   "metadata": {},
   "source": [
    "### Run test variants with chunk 1000"
   ]
  },
  {
   "cell_type": "code",
   "execution_count": 8,
   "id": "f0071650-4b00-4019-ab74-c7cfd2061e98",
   "metadata": {},
   "outputs": [
    {
     "name": "stdout",
     "output_type": "stream",
     "text": [
      "Submitted batch job 34482718\n"
     ]
    }
   ],
   "source": [
    "### set script\n",
    "FN_EXE=\"run_alphagenome_variant_prediction.sh\"\n",
    "FP_EXE=${FD_EXE}/${FN_EXE}\n",
    "\n",
    "### get input file\n",
    "FD_INP=${FD_RES}/predict_variant_kircher2019\n",
    "FN_INP=\"variant.test.chunk_1000.tsv\"\n",
    "FP_INP=${FD_INP}/${FN_INP}\n",
    "\n",
    "### set file directory\n",
    "FD_OUT=${FD_INP}\n",
    "FN_OUT=\"result.alphagenome.${FN_INP}\"\n",
    "FP_OUT=${FD_OUT}/${FN_OUT}\n",
    "\n",
    "### set log file\n",
    "PREFIX=${FN_INP%.*}\n",
    "FN_LOG_PRE=\"run_alphagenome.${PREFIX}\"\n",
    "FN_LOG_OUT=\"${FN_LOG_PRE}.out\"\n",
    "FP_LOG_OUT=${FD_LOG}/${FN_LOG_OUT}\n",
    "FN_LOG_ERR=\"${FN_LOG_PRE}.err\"\n",
    "FP_LOG_ERR=${FD_LOG}/${FN_LOG_ERR}\n",
    "\n",
    "### execute\n",
    "sbatch \\\n",
    "    -A majoroslab \\\n",
    "    -p igvf \\\n",
    "    --cpus-per-task 2 \\\n",
    "    --mem 4G \\\n",
    "    --output ${FP_LOG_OUT} \\\n",
    "    --error  ${FP_LOG_ERR} \\\n",
    "    --chdir  ${FD_EXE} \\\n",
    "    ${FP_EXE} ${FP_INP} ${FP_OUT} \"2KB\" \"RNA_SEQ\" \"K562\""
   ]
  },
  {
   "cell_type": "markdown",
   "id": "95f25ad1-4d33-40ce-aa28-09d3b7a5d3f7",
   "metadata": {},
   "source": [
    "**Check results**"
   ]
  },
  {
   "cell_type": "code",
   "execution_count": 9,
   "id": "96675619-a4ea-49cf-85df-78ba9a5f411e",
   "metadata": {},
   "outputs": [
    {
     "name": "stdout",
     "output_type": "stream",
     "text": [
      "/hpc/group/igvf/kk319/repo/Proj_IGVF_BlueSTARR/log/run_alphagenome.variant.test.chunk_1000.out\n",
      "Hostname:           dcc-allenlab-01\n",
      "Slurm Array Index:  NA\n",
      "Time Stamp:         08-25-25+17:05:55\n",
      "\n",
      "Input:  /hpc/group/igvf/kk319/repo/Proj_IGVF_BlueSTARR/results/predict_variant_kircher2019/variant.test.chunk_1000.tsv\n",
      "\n",
      "show first few lines of input\n",
      "chr11:5227021-5227208\t5227021\tG\tG\n",
      "chr11:5227021-5227208\t5227021\tG\tC\n",
      "chr11:5227021-5227208\t5227021\tG\tA\n",
      "\n",
      "\n",
      "Output:  /hpc/group/igvf/kk319/repo/Proj_IGVF_BlueSTARR/results/predict_variant_kircher2019/result.alphagenome.variant.test.chunk_1000.tsv\n",
      "\n",
      "show first few lines of output:\n",
      "variant_id\tscored_interval\tgene_id\tgene_name\tgene_type\tgene_strand\tjunction_Start\tjunction_End\toutput_type\tvariant_scorer\ttrack_name\ttrack_strand\tAssay title\tontology_curie\tbiosample_name\tbiosample_type\tgtex_tissue\traw_score\tquantile_score\tRegion\tPosition\tRef\tAlt\tLength\tScorer\n",
      "chr11:5227022:G>G\tchr11:5225998-5228046:.\tENSG00000244734\tHBB\tprotein_coding\t-\t\t\tRNA_SEQ\tGeneMaskLFCScorer(requested_output=RNA_SEQ)\tEFO:0002067 polyA plus RNA-seq\t-\tpolyA plus RNA-seq\tEFO:0002067\tK562\tcell_line\t\t0.0\t1.1377566e-12\tchr11:5227021-5227208\t5227021\tG\tG\t2048\tRNA_SEQ\n",
      "chr11:5227022:G>G\tchr11:5225998-5228046:.\tENSG00000244734\tHBB\tprotein_coding\t-\t\t\tRNA_SEQ\tGeneMaskLFCScorer(requested_output=RNA_SEQ)\tEFO:0002067 total RNA-seq\t-\ttotal RNA-seq\tEFO:0002067\tK562\tcell_line\t\t0.0\t1.1377566e-12\tchr11:5227021-5227208\t5227021\tG\tG\t2048\tRNA_SEQ\n",
      "\n",
      "\n",
      "Done!\n",
      "Run Time: 2 minutes and 43 seconds\n",
      "\n"
     ]
    }
   ],
   "source": [
    "echo ${FP_LOG_OUT}\n",
    "cat  ${FP_LOG_OUT}"
   ]
  },
  {
   "cell_type": "code",
   "execution_count": null,
   "id": "8c72f33e-c966-4ddf-b673-8cdf6e913964",
   "metadata": {},
   "outputs": [],
   "source": []
  },
  {
   "cell_type": "code",
   "execution_count": null,
   "id": "f4aa4d1b-7f1b-45f6-a686-2777b4ac68b1",
   "metadata": {},
   "outputs": [],
   "source": []
  },
  {
   "cell_type": "code",
   "execution_count": null,
   "id": "60467a96-09cc-415f-b612-465fe01f63ca",
   "metadata": {},
   "outputs": [],
   "source": []
  },
  {
   "cell_type": "code",
   "execution_count": null,
   "id": "24a298c7-3287-4e13-a9fe-d3717513dd0e",
   "metadata": {},
   "outputs": [],
   "source": [
    "FD_INP=${FD_RES}/predict_variant_alphagenome\n",
    "FN_INP=\"variant_test_example.tsv\"\n",
    "FP_INP=${FD_INP}/${FN_INP}\n",
    "\n",
    "FD_OUT=${FD_INP}\n",
    "FN_OUT=\"result.variant.test_example.tsv\"\n",
    "FP_OUT=${FD_OUT}/${FN_OUT}\n",
    "\n",
    "FN_EXE=\"run_alphagenome_variant_prediction.sh\"\n",
    "FP_EXE=${FD_EXE}/${FN_EXE}\n",
    "\n",
    "FN_LOG_OUT=\"alphagenome.runtime.variant.test_example.out\"\n",
    "FP_LOG_OUT=${FD_LOG}/${FN_LOG_OUT}\n",
    "FN_LOG_ERR=\"alphagenome.runtime.variant.test_example.err\"\n",
    "FP_LOG_ERR=${FD_LOG}/${FN_LOG_ERR}\n",
    "\n",
    "sbatch \\\n",
    "    -A majoroslab \\\n",
    "    -p igvf \\\n",
    "    --cpus-per-task 2 \\\n",
    "    --mem 4G \\\n",
    "    --output ${FP_LOG_OUT} \\\n",
    "    --error  ${FP_LOG_ERR} \\\n",
    "    --chdir  ${FD_EXE} \\\n",
    "    ${FP_EXE} ${FP_INP} ${FP_OUT} \"2KB\" \"RNA_SEQ\" \"K562\""
   ]
  },
  {
   "cell_type": "code",
   "execution_count": null,
   "id": "6a746e4e-0430-45b9-a88f-42d9c791fc95",
   "metadata": {},
   "outputs": [],
   "source": []
  },
  {
   "cell_type": "raw",
   "id": "632fb7d3-4392-4906-83a3-4f70e742cc84",
   "metadata": {},
   "source": [
    "---\n",
    "title: Test alphagenome variant prediction\n",
    "subtitle: test runtime\n",
    "format:\n",
    "    html:\n",
    "        code-fold:  true\n",
    "        code-tools: true\n",
    "---"
   ]
  },
  {
   "cell_type": "markdown",
   "id": "ad4e52a2-69b8-40ed-b272-df75bb01aa98",
   "metadata": {},
   "source": [
    "**Set environment**"
   ]
  },
  {
   "cell_type": "code",
   "execution_count": 1,
   "id": "ee4385ea-683b-41fd-a6e3-92c715b6b9fd",
   "metadata": {},
   "outputs": [
    {
     "name": "stdout",
     "output_type": "stream",
     "text": [
      "BASE DIRECTORY (FD_BASE):      /hpc/group/igvf/kk319\n",
      "REPO DIRECTORY (FD_REPO):      /hpc/group/igvf/kk319/repo\n",
      "WORK DIRECTORY (FD_WORK):      /hpc/group/igvf/kk319/work\n",
      "DATA DIRECTORY (FD_DATA):      /hpc/group/igvf/kk319/data\n",
      "CONTAINER DIR. (FD_SING):      /hpc/group/igvf/kk319/container\n",
      "\n",
      "You are working with           \n",
      "PATH OF PROJECT (FD_PRJ):      /hpc/group/igvf/kk319/repo/Proj_IGVF_BlueSTARR\n",
      "PROJECT RESULTS (FD_RES):      /hpc/group/igvf/kk319/repo/Proj_IGVF_BlueSTARR/results\n",
      "PROJECT SCRIPTS (FD_EXE):      /hpc/group/igvf/kk319/repo/Proj_IGVF_BlueSTARR/scripts\n",
      "PROJECT DATA    (FD_DAT):      /hpc/group/igvf/kk319/repo/Proj_IGVF_BlueSTARR/data\n",
      "PROJECT NOTE    (FD_NBK):      /hpc/group/igvf/kk319/repo/Proj_IGVF_BlueSTARR/notebooks\n",
      "PROJECT DOCS    (FD_DOC):      /hpc/group/igvf/kk319/repo/Proj_IGVF_BlueSTARR/docs\n",
      "PROJECT LOG     (FD_LOG):      /hpc/group/igvf/kk319/repo/Proj_IGVF_BlueSTARR/log\n",
      "PROJECT REF     (FD_REF):      /hpc/group/igvf/kk319/repo/Proj_IGVF_BlueSTARR/references\n",
      "PROJECT IMAGE   (FP_PRJ_SIF):  /hpc/group/igvf/kk319/container/project/singularity_proj_igvf_bluestarr.sif\n",
      "PROJECT CONF.   (FP_CNF):      /hpc/group/igvf/kk319/repo/Proj_IGVF_BlueSTARR/scripts/config_project.sh\n",
      "\n"
     ]
    }
   ],
   "source": [
    "source ../run_config_project.sh\n",
    "show_env"
   ]
  },
  {
   "cell_type": "code",
   "execution_count": 3,
   "id": "955d78ae-a26d-448d-b130-b36424c0fe8d",
   "metadata": {},
   "outputs": [
    {
     "name": "stdout",
     "output_type": "stream",
     "text": [
      "variant_test_chunk_1000.tsv  variant_test_example.tsv\n",
      "variant_test_chunk_100.tsv\n"
     ]
    }
   ],
   "source": [
    "ls ${FD_RES}/predict_variant_alphagenome"
   ]
  },
  {
   "cell_type": "code",
   "execution_count": 9,
   "id": "2fca1cbf-be9c-4ea5-87ae-be29b02541c0",
   "metadata": {},
   "outputs": [
    {
     "name": "stdout",
     "output_type": "stream",
     "text": [
      "/usr/local/lib/python3.11/site-packages/google/protobuf/runtime_version.py:98: UserWarning: Protobuf gencode version 5.27.2 is exactly one major version older than the runtime version 6.31.1 at alphagenome/protos/dna_model.proto. Please update the gencode to avoid compatibility violations in the next runtime release.\n",
      "  warnings.warn(\n",
      "/usr/local/lib/python3.11/site-packages/google/protobuf/runtime_version.py:98: UserWarning: Protobuf gencode version 5.27.2 is exactly one major version older than the runtime version 6.31.1 at alphagenome/protos/tensor.proto. Please update the gencode to avoid compatibility violations in the next runtime release.\n",
      "  warnings.warn(\n",
      "usage: run_alphagenome_variant_prediction.py [-h] -i INPUT -o OUTPUT\n",
      "                                             [-s {2KB,16KB,100KB,500KB,1MB}]\n",
      "                                             [-c {ATAC,CONTACT_MAPS,DNASE,CHIP_TF,CHIP_HISTONE,CAGE,PROCAP,RNA_SEQ,RNA_SEQ_ACTIVE,SPLICE_SITES,SPLICE_SITE_USAGE,SPLICE_JUNCTIONS,POLYADENYLATION,ATAC_ACTIVE,DNASE_ACTIVE,CHIP_TF_ACTIVE,CHIP_HISTONE_ACTIVE,CAGE_ACTIVE,PROCAP_ACTIVE}]\n",
      "                                             [-b BIOSAMPLE]\n",
      "\n",
      "AlphaGenome variant scoring\n",
      "\n",
      "options:\n",
      "  -h, --help            show this help message and exit\n",
      "  -i INPUT, --input INPUT\n",
      "                        Input TSV file with columns: Region, Position, Ref,\n",
      "                        Alt\n",
      "  -o OUTPUT, --output OUTPUT\n",
      "                        Output TSV file for predictions\n",
      "  -s {2KB,16KB,100KB,500KB,1MB}, --seqlen {2KB,16KB,100KB,500KB,1MB}\n",
      "                        Sequence length around variant\n",
      "  -c {ATAC,CONTACT_MAPS,DNASE,CHIP_TF,CHIP_HISTONE,CAGE,PROCAP,RNA_SEQ,RNA_SEQ_ACTIVE,SPLICE_SITES,SPLICE_SITE_USAGE,SPLICE_JUNCTIONS,POLYADENYLATION,ATAC_ACTIVE,DNASE_ACTIVE,CHIP_TF_ACTIVE,CHIP_HISTONE_ACTIVE,CAGE_ACTIVE,PROCAP_ACTIVE}, --scorer {ATAC,CONTACT_MAPS,DNASE,CHIP_TF,CHIP_HISTONE,CAGE,PROCAP,RNA_SEQ,RNA_SEQ_ACTIVE,SPLICE_SITES,SPLICE_SITE_USAGE,SPLICE_JUNCTIONS,POLYADENYLATION,ATAC_ACTIVE,DNASE_ACTIVE,CHIP_TF_ACTIVE,CHIP_HISTONE_ACTIVE,CAGE_ACTIVE,PROCAP_ACTIVE}\n",
      "                        Which variant scorer to use\n",
      "  -b BIOSAMPLE, --biosample BIOSAMPLE\n",
      "                        Optional biosample filter, e.g. K562\n"
     ]
    }
   ],
   "source": [
    "run_alphagenome python ${FD_EXE}/run_alphagenome_variant_prediction.py -h"
   ]
  },
  {
   "cell_type": "code",
   "execution_count": null,
   "id": "eb700e3c-97ec-435b-9b68-25a9d387abe0",
   "metadata": {},
   "outputs": [],
   "source": []
  },
  {
   "cell_type": "code",
   "execution_count": 10,
   "id": "bc9dfcf5-ffeb-455f-85f3-0c42f4ebca66",
   "metadata": {},
   "outputs": [
    {
     "name": "stdout",
     "output_type": "stream",
     "text": [
      "chr11:5227021-5227208\t5227021\tG\tC\n",
      "chr11:5227021-5227208\t5227021\tG\tC\n",
      "chr11:5227021-5227208\t5227021\tG\tC\n",
      "chr11:5227021-5227208\t5227021\tG\tC\n",
      "chr11:5227021-5227208\t5227021\tG\tC\n",
      "chr11:5227021-5227208\t5227021\tG\tC\n",
      "chr11:5227021-5227208\t5227021\tG\tC\n",
      "chr11:5227021-5227208\t5227021\tG\tC\n",
      "chr11:5227021-5227208\t5227021\tG\tC\n",
      "chr11:5227021-5227208\t5227021\tG\tC\n"
     ]
    }
   ],
   "source": [
    "FD_INP=${FD_RES}/predict_variant_alphagenome\n",
    "FN_INP=\"variant_test_example.tsv\"\n",
    "FP_INP=${FD_INP}/${FN_INP}\n",
    "cat ${FP_INP}"
   ]
  },
  {
   "cell_type": "code",
   "execution_count": 14,
   "id": "fa308e30-c4d3-4564-9ef9-d837affb5aaa",
   "metadata": {},
   "outputs": [
    {
     "name": "stdout",
     "output_type": "stream",
     "text": [
      "Submitted batch job 34430573\n"
     ]
    }
   ],
   "source": [
    "FD_INP=${FD_RES}/predict_variant_alphagenome\n",
    "FN_INP=\"variant_test_example.tsv\"\n",
    "FP_INP=${FD_INP}/${FN_INP}\n",
    "\n",
    "FD_OUT=${FD_INP}\n",
    "FN_OUT=\"result.variant.test_example.tsv\"\n",
    "FP_OUT=${FD_OUT}/${FN_OUT}\n",
    "\n",
    "FN_EXE=\"run_alphagenome_variant_prediction.sh\"\n",
    "FP_EXE=${FD_EXE}/${FN_EXE}\n",
    "\n",
    "FN_LOG_OUT=\"alphagenome.runtime.variant.test_example.out\"\n",
    "FP_LOG_OUT=${FD_LOG}/${FN_LOG_OUT}\n",
    "FN_LOG_ERR=\"alphagenome.runtime.variant.test_example.err\"\n",
    "FP_LOG_ERR=${FD_LOG}/${FN_LOG_ERR}\n",
    "\n",
    "sbatch \\\n",
    "    -A majoroslab \\\n",
    "    -p igvf \\\n",
    "    --cpus-per-task 2 \\\n",
    "    --mem 4G \\\n",
    "    --output ${FP_LOG_OUT} \\\n",
    "    --error  ${FP_LOG_ERR} \\\n",
    "    --chdir  ${FD_EXE} \\\n",
    "    ${FP_EXE} ${FP_INP} ${FP_OUT} \"2KB\" \"RNA_SEQ\" \"K562\""
   ]
  },
  {
   "cell_type": "code",
   "execution_count": 15,
   "id": "c4ce822a-49a6-4b97-a050-23e19af0db45",
   "metadata": {},
   "outputs": [
    {
     "name": "stdout",
     "output_type": "stream",
     "text": [
      "Hostname:           dcc-allenlab-01\n",
      "Slurm Array Index:  NA\n",
      "Time Stamp:         08-24-25+22:27:49\n",
      "\n",
      "Input:  /hpc/group/igvf/kk319/repo/Proj_IGVF_BlueSTARR/results/predict_variant_alphagenome/variant_test_example.tsv\n",
      "\n",
      "show first few lines of input\n",
      "chr11:5227021-5227208\t5227021\tG\tC\n",
      "chr11:5227021-5227208\t5227021\tG\tC\n",
      "chr11:5227021-5227208\t5227021\tG\tC\n",
      "chr11:5227021-5227208\t5227021\tG\tC\n",
      "chr11:5227021-5227208\t5227021\tG\tC\n",
      "chr11:5227021-5227208\t5227021\tG\tC\n",
      "chr11:5227021-5227208\t5227021\tG\tC\n",
      "chr11:5227021-5227208\t5227021\tG\tC\n",
      "chr11:5227021-5227208\t5227021\tG\tC\n",
      "chr11:5227021-5227208\t5227021\tG\tC\n",
      "\n",
      "\n",
      "Output:  /hpc/group/igvf/kk319/repo/Proj_IGVF_BlueSTARR/results/predict_variant_alphagenome/result.variant.test_example.tsv\n",
      "\n",
      "show first few lines of output:\n",
      "variant_id\tscored_interval\tgene_id\tgene_name\tgene_type\tgene_strand\tjunction_Start\tjunction_End\toutput_type\tvariant_scorer\ttrack_name\ttrack_strand\tAssay title\tontology_curie\tbiosample_name\tbiosample_type\tgtex_tissue\traw_score\tquantile_score\n",
      "chr11:5227022:G>C\tchr11:5225998-5228046:.\tENSG00000244734\tHBB\tprotein_coding\t-\t\t\tRNA_SEQ\tGeneMaskLFCScorer(requested_output=RNA_SEQ)\tEFO:0002067 polyA plus RNA-seq\t-\tpolyA plus RNA-seq\tEFO:0002067\tK562\tcell_line\t\t-0.046304703\t-0.99957967\n",
      "chr11:5227022:G>C\tchr11:5225998-5228046:.\tENSG00000244734\tHBB\tprotein_coding\t-\t\t\tRNA_SEQ\tGeneMaskLFCScorer(requested_output=RNA_SEQ)\tEFO:0002067 total RNA-seq\t-\ttotal RNA-seq\tEFO:0002067\tK562\tcell_line\t\t-0.023067951\t-0.9990577\n",
      "chr11:5227022:G>C\tchr11:5225998-5228046:.\tENSG00000244734\tHBB\tprotein_coding\t-\t\t\tRNA_SEQ\tGeneMaskLFCScorer(requested_output=RNA_SEQ)\tEFO:0002067 polyA plus RNA-seq\t.\tpolyA plus RNA-seq\tEFO:0002067\tK562\tcell_line\t\t-0.04114437\t-0.9995283\n",
      "chr11:5227022:G>C\tchr11:5225998-5228046:.\tENSG00000244734\tHBB\tprotein_coding\t-\t\t\tRNA_SEQ\tGeneMaskLFCScorer(requested_output=RNA_SEQ)\tEFO:0002067 polyA plus RNA-seq\t-\tpolyA plus RNA-seq\tEFO:0002067\tK562\tcell_line\t\t-0.046304703\t-0.99957967\n",
      "chr11:5227022:G>C\tchr11:5225998-5228046:.\tENSG00000244734\tHBB\tprotein_coding\t-\t\t\tRNA_SEQ\tGeneMaskLFCScorer(requested_output=RNA_SEQ)\tEFO:0002067 total RNA-seq\t-\ttotal RNA-seq\tEFO:0002067\tK562\tcell_line\t\t-0.023067951\t-0.9990577\n",
      "chr11:5227022:G>C\tchr11:5225998-5228046:.\tENSG00000244734\tHBB\tprotein_coding\t-\t\t\tRNA_SEQ\tGeneMaskLFCScorer(requested_output=RNA_SEQ)\tEFO:0002067 polyA plus RNA-seq\t.\tpolyA plus RNA-seq\tEFO:0002067\tK562\tcell_line\t\t-0.04114437\t-0.9995283\n",
      "chr11:5227022:G>C\tchr11:5225998-5228046:.\tENSG00000244734\tHBB\tprotein_coding\t-\t\t\tRNA_SEQ\tGeneMaskLFCScorer(requested_output=RNA_SEQ)\tEFO:0002067 polyA plus RNA-seq\t-\tpolyA plus RNA-seq\tEFO:0002067\tK562\tcell_line\t\t-0.046304703\t-0.99957967\n",
      "chr11:5227022:G>C\tchr11:5225998-5228046:.\tENSG00000244734\tHBB\tprotein_coding\t-\t\t\tRNA_SEQ\tGeneMaskLFCScorer(requested_output=RNA_SEQ)\tEFO:0002067 total RNA-seq\t-\ttotal RNA-seq\tEFO:0002067\tK562\tcell_line\t\t-0.023067951\t-0.9990577\n",
      "chr11:5227022:G>C\tchr11:5225998-5228046:.\tENSG00000244734\tHBB\tprotein_coding\t-\t\t\tRNA_SEQ\tGeneMaskLFCScorer(requested_output=RNA_SEQ)\tEFO:0002067 polyA plus RNA-seq\t.\tpolyA plus RNA-seq\tEFO:0002067\tK562\tcell_line\t\t-0.04114437\t-0.9995283\n",
      "\n",
      "\n",
      "Done!\n",
      "Run Time: 5 seconds\n",
      "\n"
     ]
    }
   ],
   "source": [
    "cat ${FP_LOG_OUT}"
   ]
  },
  {
   "cell_type": "code",
   "execution_count": 16,
   "id": "fc7881c6-dbb5-45d5-8f9f-6292e61dedb6",
   "metadata": {},
   "outputs": [
    {
     "name": "stdout",
     "output_type": "stream",
     "text": [
      "/usr/local/lib/python3.11/site-packages/google/protobuf/runtime_version.py:98: UserWarning: Protobuf gencode version 5.27.2 is exactly one major version older than the runtime version 6.31.1 at alphagenome/protos/dna_model.proto. Please update the gencode to avoid compatibility violations in the next runtime release.\n",
      "  warnings.warn(\n",
      "/usr/local/lib/python3.11/site-packages/google/protobuf/runtime_version.py:98: UserWarning: Protobuf gencode version 5.27.2 is exactly one major version older than the runtime version 6.31.1 at alphagenome/protos/tensor.proto. Please update the gencode to avoid compatibility violations in the next runtime release.\n",
      "  warnings.warn(\n"
     ]
    }
   ],
   "source": [
    "cat ${FP_LOG_ERR}"
   ]
  },
  {
   "cell_type": "code",
   "execution_count": null,
   "id": "7b0c467b-5bc5-4140-b2d3-f41095f51ce7",
   "metadata": {},
   "outputs": [],
   "source": []
  },
  {
   "cell_type": "code",
   "execution_count": 17,
   "id": "d7835ab0-8ede-4dbb-ad15-1e71fdcaa821",
   "metadata": {},
   "outputs": [
    {
     "name": "stdout",
     "output_type": "stream",
     "text": [
      "Submitted batch job 34430588\n"
     ]
    }
   ],
   "source": [
    "FD_INP=${FD_RES}/predict_variant_alphagenome\n",
    "FN_INP=\"variant_test_chunk_100.tsv\"\n",
    "FP_INP=${FD_INP}/${FN_INP}\n",
    "\n",
    "FD_OUT=${FD_INP}\n",
    "FN_OUT=\"result.variant.test_chunk_100.tsv\"\n",
    "FP_OUT=${FD_OUT}/${FN_OUT}\n",
    "\n",
    "FN_EXE=\"run_alphagenome_variant_prediction.sh\"\n",
    "FP_EXE=${FD_EXE}/${FN_EXE}\n",
    "\n",
    "FN_LOG_OUT=\"alphagenome.runtime.variant.test_chunk_100.out\"\n",
    "FP_LOG_OUT=${FD_LOG}/${FN_LOG_OUT}\n",
    "FN_LOG_ERR=\"alphagenome.runtime.variant.test_chunk_100.err\"\n",
    "FP_LOG_ERR=${FD_LOG}/${FN_LOG_ERR}\n",
    "\n",
    "sbatch \\\n",
    "    -A majoroslab \\\n",
    "    -p igvf \\\n",
    "    --cpus-per-task 2 \\\n",
    "    --mem 4G \\\n",
    "    --output ${FP_LOG_OUT} \\\n",
    "    --error  ${FP_LOG_ERR} \\\n",
    "    --chdir  ${FD_EXE} \\\n",
    "    ${FP_EXE} ${FP_INP} ${FP_OUT} \"2KB\" \"RNA_SEQ\" \"K562\""
   ]
  },
  {
   "cell_type": "code",
   "execution_count": 19,
   "id": "15e313f6-e414-45b5-a13f-d528e0c67118",
   "metadata": {},
   "outputs": [
    {
     "name": "stdout",
     "output_type": "stream",
     "text": [
      "Hostname:           dcc-allenlab-01\n",
      "Slurm Array Index:  NA\n",
      "Time Stamp:         08-24-25+22:31:03\n",
      "\n",
      "Input:  /hpc/group/igvf/kk319/repo/Proj_IGVF_BlueSTARR/results/predict_variant_alphagenome/variant_test_chunk_100.tsv\n",
      "\n",
      "show first few lines of input\n",
      "chr11:5227021-5227208\t5227021\tG\tG\n",
      "chr11:5227021-5227208\t5227021\tG\tC\n",
      "chr11:5227021-5227208\t5227021\tG\tA\n",
      "chr11:5227021-5227208\t5227021\tG\tT\n",
      "chr11:5227021-5227208\t5227022\tG\tG\n",
      "chr11:5227021-5227208\t5227022\tG\tC\n",
      "chr11:5227021-5227208\t5227022\tG\tA\n",
      "chr11:5227021-5227208\t5227022\tG\tT\n",
      "chr11:5227021-5227208\t5227023\tT\tG\n",
      "chr11:5227021-5227208\t5227023\tT\tC\n",
      "\n",
      "\n",
      "Output:  /hpc/group/igvf/kk319/repo/Proj_IGVF_BlueSTARR/results/predict_variant_alphagenome/result.variant.test_chunk_100.tsv\n",
      "\n",
      "show first few lines of output:\n",
      "variant_id\tscored_interval\tgene_id\tgene_name\tgene_type\tgene_strand\tjunction_Start\tjunction_End\toutput_type\tvariant_scorer\ttrack_name\ttrack_strand\tAssay title\tontology_curie\tbiosample_name\tbiosample_type\tgtex_tissue\traw_score\tquantile_score\n",
      "chr11:5227022:G>G\tchr11:5225998-5228046:.\tENSG00000244734\tHBB\tprotein_coding\t-\t\t\tRNA_SEQ\tGeneMaskLFCScorer(requested_output=RNA_SEQ)\tEFO:0002067 polyA plus RNA-seq\t-\tpolyA plus RNA-seq\tEFO:0002067\tK562\tcell_line\t\t0.0\t1.1377566e-12\n",
      "chr11:5227022:G>G\tchr11:5225998-5228046:.\tENSG00000244734\tHBB\tprotein_coding\t-\t\t\tRNA_SEQ\tGeneMaskLFCScorer(requested_output=RNA_SEQ)\tEFO:0002067 total RNA-seq\t-\ttotal RNA-seq\tEFO:0002067\tK562\tcell_line\t\t0.0\t1.1377566e-12\n",
      "chr11:5227022:G>G\tchr11:5225998-5228046:.\tENSG00000244734\tHBB\tprotein_coding\t-\t\t\tRNA_SEQ\tGeneMaskLFCScorer(requested_output=RNA_SEQ)\tEFO:0002067 polyA plus RNA-seq\t.\tpolyA plus RNA-seq\tEFO:0002067\tK562\tcell_line\t\t0.0\t1.1377566e-12\n",
      "chr11:5227022:G>C\tchr11:5225998-5228046:.\tENSG00000244734\tHBB\tprotein_coding\t-\t\t\tRNA_SEQ\tGeneMaskLFCScorer(requested_output=RNA_SEQ)\tEFO:0002067 polyA plus RNA-seq\t-\tpolyA plus RNA-seq\tEFO:0002067\tK562\tcell_line\t\t-0.046304703\t-0.99957967\n",
      "chr11:5227022:G>C\tchr11:5225998-5228046:.\tENSG00000244734\tHBB\tprotein_coding\t-\t\t\tRNA_SEQ\tGeneMaskLFCScorer(requested_output=RNA_SEQ)\tEFO:0002067 total RNA-seq\t-\ttotal RNA-seq\tEFO:0002067\tK562\tcell_line\t\t-0.023067951\t-0.9990577\n",
      "chr11:5227022:G>C\tchr11:5225998-5228046:.\tENSG00000244734\tHBB\tprotein_coding\t-\t\t\tRNA_SEQ\tGeneMaskLFCScorer(requested_output=RNA_SEQ)\tEFO:0002067 polyA plus RNA-seq\t.\tpolyA plus RNA-seq\tEFO:0002067\tK562\tcell_line\t\t-0.04114437\t-0.9995283\n",
      "chr11:5227022:G>A\tchr11:5225998-5228046:.\tENSG00000244734\tHBB\tprotein_coding\t-\t\t\tRNA_SEQ\tGeneMaskLFCScorer(requested_output=RNA_SEQ)\tEFO:0002067 polyA plus RNA-seq\t-\tpolyA plus RNA-seq\tEFO:0002067\tK562\tcell_line\t\t-0.027581692\t-0.99916035\n",
      "chr11:5227022:G>A\tchr11:5225998-5228046:.\tENSG00000244734\tHBB\tprotein_coding\t-\t\t\tRNA_SEQ\tGeneMaskLFCScorer(requested_output=RNA_SEQ)\tEFO:0002067 total RNA-seq\t-\ttotal RNA-seq\tEFO:0002067\tK562\tcell_line\t\t-0.005818367\t-0.9747807\n",
      "chr11:5227022:G>A\tchr11:5225998-5228046:.\tENSG00000244734\tHBB\tprotein_coding\t-\t\t\tRNA_SEQ\tGeneMaskLFCScorer(requested_output=RNA_SEQ)\tEFO:0002067 polyA plus RNA-seq\t.\tpolyA plus RNA-seq\tEFO:0002067\tK562\tcell_line\t\t-0.010383606\t-0.9923346\n"
     ]
    }
   ],
   "source": [
    "cat ${FP_LOG_OUT}"
   ]
  },
  {
   "cell_type": "code",
   "execution_count": 20,
   "id": "f3f7c728-1051-4802-8789-0ef2c136bf4d",
   "metadata": {},
   "outputs": [
    {
     "name": "stdout",
     "output_type": "stream",
     "text": [
      "/usr/local/lib/python3.11/site-packages/google/protobuf/runtime_version.py:98: UserWarning: Protobuf gencode version 5.27.2 is exactly one major version older than the runtime version 6.31.1 at alphagenome/protos/dna_model.proto. Please update the gencode to avoid compatibility violations in the next runtime release.\n",
      "  warnings.warn(\n",
      "/usr/local/lib/python3.11/site-packages/google/protobuf/runtime_version.py:98: UserWarning: Protobuf gencode version 5.27.2 is exactly one major version older than the runtime version 6.31.1 at alphagenome/protos/tensor.proto. Please update the gencode to avoid compatibility violations in the next runtime release.\n",
      "  warnings.warn(\n"
     ]
    }
   ],
   "source": [
    "cat ${FP_LOG_ERR}"
   ]
  },
  {
   "cell_type": "code",
   "execution_count": null,
   "id": "4c39db4f-826c-4d28-b77d-da22c464423a",
   "metadata": {},
   "outputs": [],
   "source": []
  },
  {
   "cell_type": "code",
   "execution_count": 21,
   "id": "e9fb96c6-c75b-4222-aec7-f7b81246e289",
   "metadata": {},
   "outputs": [
    {
     "name": "stdout",
     "output_type": "stream",
     "text": [
      "Submitted batch job 34431010\n"
     ]
    }
   ],
   "source": [
    "FD_INP=${FD_RES}/predict_variant_alphagenome\n",
    "FN_INP=\"variant_test_chunk_100.tsv\"\n",
    "FP_INP=${FD_INP}/${FN_INP}\n",
    "\n",
    "FD_OUT=${FD_INP}\n",
    "FN_OUT=\"result.variant.test_chunk_100.tsv\"\n",
    "FP_OUT=${FD_OUT}/${FN_OUT}\n",
    "\n",
    "FN_EXE=\"run_alphagenome_variant_prediction.sh\"\n",
    "FP_EXE=${FD_EXE}/${FN_EXE}\n",
    "\n",
    "FN_LOG_OUT=\"alphagenome.runtime.variant.test_chunk_100.out\"\n",
    "FP_LOG_OUT=${FD_LOG}/${FN_LOG_OUT}\n",
    "FN_LOG_ERR=\"alphagenome.runtime.variant.test_chunk_100.err\"\n",
    "FP_LOG_ERR=${FD_LOG}/${FN_LOG_ERR}\n",
    "\n",
    "sbatch \\\n",
    "    -A majoroslab \\\n",
    "    -p igvf \\\n",
    "    --cpus-per-task 2 \\\n",
    "    --mem 4G \\\n",
    "    --output ${FP_LOG_OUT} \\\n",
    "    --error  ${FP_LOG_ERR} \\\n",
    "    --chdir  ${FD_EXE} \\\n",
    "    ${FP_EXE} ${FP_INP} ${FP_OUT} \"2KB\" \"RNA_SEQ\" \"K562\""
   ]
  },
  {
   "cell_type": "code",
   "execution_count": 22,
   "id": "2cfea77b-bab0-44ef-be4d-4602ec7599cb",
   "metadata": {},
   "outputs": [
    {
     "name": "stdout",
     "output_type": "stream",
     "text": [
      "Hostname:           dcc-allenlab-01\n",
      "Slurm Array Index:  NA\n",
      "Time Stamp:         08-24-25+22:40:40\n",
      "\n",
      "Input:  /hpc/group/igvf/kk319/repo/Proj_IGVF_BlueSTARR/results/predict_variant_alphagenome/variant_test_chunk_100.tsv\n",
      "\n",
      "show first few lines of input\n",
      "chr11:5227021-5227208\t5227021\tG\tG\n",
      "chr11:5227021-5227208\t5227021\tG\tC\n",
      "chr11:5227021-5227208\t5227021\tG\tA\n",
      "chr11:5227021-5227208\t5227021\tG\tT\n",
      "chr11:5227021-5227208\t5227022\tG\tG\n",
      "chr11:5227021-5227208\t5227022\tG\tC\n",
      "chr11:5227021-5227208\t5227022\tG\tA\n",
      "chr11:5227021-5227208\t5227022\tG\tT\n",
      "chr11:5227021-5227208\t5227023\tT\tG\n",
      "chr11:5227021-5227208\t5227023\tT\tC\n",
      "\n",
      "\n",
      "Output:  /hpc/group/igvf/kk319/repo/Proj_IGVF_BlueSTARR/results/predict_variant_alphagenome/result.variant.test_chunk_100.tsv\n",
      "\n",
      "show first few lines of output:\n",
      "variant_id\tscored_interval\tgene_id\tgene_name\tgene_type\tgene_strand\tjunction_Start\tjunction_End\toutput_type\tvariant_scorer\ttrack_name\ttrack_strand\tAssay title\tontology_curie\tbiosample_name\tbiosample_type\tgtex_tissue\traw_score\tquantile_score\n",
      "chr11:5227022:G>G\tchr11:5225998-5228046:.\tENSG00000244734\tHBB\tprotein_coding\t-\t\t\tRNA_SEQ\tGeneMaskLFCScorer(requested_output=RNA_SEQ)\tEFO:0002067 polyA plus RNA-seq\t-\tpolyA plus RNA-seq\tEFO:0002067\tK562\tcell_line\t\t0.0\t1.1377566e-12\n",
      "chr11:5227022:G>G\tchr11:5225998-5228046:.\tENSG00000244734\tHBB\tprotein_coding\t-\t\t\tRNA_SEQ\tGeneMaskLFCScorer(requested_output=RNA_SEQ)\tEFO:0002067 total RNA-seq\t-\ttotal RNA-seq\tEFO:0002067\tK562\tcell_line\t\t0.0\t1.1377566e-12\n",
      "chr11:5227022:G>G\tchr11:5225998-5228046:.\tENSG00000244734\tHBB\tprotein_coding\t-\t\t\tRNA_SEQ\tGeneMaskLFCScorer(requested_output=RNA_SEQ)\tEFO:0002067 polyA plus RNA-seq\t.\tpolyA plus RNA-seq\tEFO:0002067\tK562\tcell_line\t\t0.0\t1.1377566e-12\n",
      "chr11:5227022:G>C\tchr11:5225998-5228046:.\tENSG00000244734\tHBB\tprotein_coding\t-\t\t\tRNA_SEQ\tGeneMaskLFCScorer(requested_output=RNA_SEQ)\tEFO:0002067 polyA plus RNA-seq\t-\tpolyA plus RNA-seq\tEFO:0002067\tK562\tcell_line\t\t-0.046304703\t-0.99957967\n",
      "chr11:5227022:G>C\tchr11:5225998-5228046:.\tENSG00000244734\tHBB\tprotein_coding\t-\t\t\tRNA_SEQ\tGeneMaskLFCScorer(requested_output=RNA_SEQ)\tEFO:0002067 total RNA-seq\t-\ttotal RNA-seq\tEFO:0002067\tK562\tcell_line\t\t-0.023067951\t-0.9990577\n",
      "chr11:5227022:G>C\tchr11:5225998-5228046:.\tENSG00000244734\tHBB\tprotein_coding\t-\t\t\tRNA_SEQ\tGeneMaskLFCScorer(requested_output=RNA_SEQ)\tEFO:0002067 polyA plus RNA-seq\t.\tpolyA plus RNA-seq\tEFO:0002067\tK562\tcell_line\t\t-0.04114437\t-0.9995283\n",
      "chr11:5227022:G>A\tchr11:5225998-5228046:.\tENSG00000244734\tHBB\tprotein_coding\t-\t\t\tRNA_SEQ\tGeneMaskLFCScorer(requested_output=RNA_SEQ)\tEFO:0002067 polyA plus RNA-seq\t-\tpolyA plus RNA-seq\tEFO:0002067\tK562\tcell_line\t\t-0.027581692\t-0.99916035\n",
      "chr11:5227022:G>A\tchr11:5225998-5228046:.\tENSG00000244734\tHBB\tprotein_coding\t-\t\t\tRNA_SEQ\tGeneMaskLFCScorer(requested_output=RNA_SEQ)\tEFO:0002067 total RNA-seq\t-\ttotal RNA-seq\tEFO:0002067\tK562\tcell_line\t\t-0.005818367\t-0.9747807\n",
      "chr11:5227022:G>A\tchr11:5225998-5228046:.\tENSG00000244734\tHBB\tprotein_coding\t-\t\t\tRNA_SEQ\tGeneMaskLFCScorer(requested_output=RNA_SEQ)\tEFO:0002067 polyA plus RNA-seq\t.\tpolyA plus RNA-seq\tEFO:0002067\tK562\tcell_line\t\t-0.010383606\t-0.9923346\n",
      "\n",
      "\n",
      "Done!\n",
      "Run Time: 18 seconds\n",
      "\n"
     ]
    }
   ],
   "source": [
    "cat ${FP_LOG_OUT}"
   ]
  },
  {
   "cell_type": "code",
   "execution_count": 23,
   "id": "f1116377-2156-41f2-9143-b3ed7385a728",
   "metadata": {},
   "outputs": [
    {
     "name": "stdout",
     "output_type": "stream",
     "text": [
      "Submitted batch job 34431019\n"
     ]
    }
   ],
   "source": [
    "FD_INP=${FD_RES}/predict_variant_alphagenome\n",
    "FN_INP=\"variant_test_chunk_1000.tsv\"\n",
    "FP_INP=${FD_INP}/${FN_INP}\n",
    "\n",
    "FD_OUT=${FD_INP}\n",
    "FN_OUT=\"result.variant.test_chunk_1000.tsv\"\n",
    "FP_OUT=${FD_OUT}/${FN_OUT}\n",
    "\n",
    "FN_EXE=\"run_alphagenome_variant_prediction.sh\"\n",
    "FP_EXE=${FD_EXE}/${FN_EXE}\n",
    "\n",
    "FN_LOG_PRE=\"alphagenome.runtime.variant.test_chunk_1000\"\n",
    "FN_LOG_OUT=\"${FN_LOG_PRE}.out\"\n",
    "FP_LOG_OUT=${FD_LOG}/${FN_LOG_OUT}\n",
    "FN_LOG_ERR=\"${FN_LOG_PRE}.err\"\n",
    "FP_LOG_ERR=${FD_LOG}/${FN_LOG_ERR}\n",
    "\n",
    "sbatch \\\n",
    "    -A majoroslab \\\n",
    "    -p igvf \\\n",
    "    --cpus-per-task 2 \\\n",
    "    --mem 4G \\\n",
    "    --output ${FP_LOG_OUT} \\\n",
    "    --error  ${FP_LOG_ERR} \\\n",
    "    --chdir  ${FD_EXE} \\\n",
    "    ${FP_EXE} ${FP_INP} ${FP_OUT} \"2KB\" \"RNA_SEQ\" \"K562\""
   ]
  },
  {
   "cell_type": "code",
   "execution_count": null,
   "id": "3bb3d114-0ba3-461d-8b2e-66c2ec9011b6",
   "metadata": {},
   "outputs": [],
   "source": []
  },
  {
   "cell_type": "code",
   "execution_count": null,
   "id": "c772dec7-895d-46cb-ae99-5d2c1e73caab",
   "metadata": {},
   "outputs": [],
   "source": []
  },
  {
   "cell_type": "code",
   "execution_count": 12,
   "id": "0df05fea-648d-4db9-a45b-9a481abb0b0a",
   "metadata": {},
   "outputs": [
    {
     "name": "stdout",
     "output_type": "stream",
     "text": [
      "Submitted batch job 34297518\n"
     ]
    }
   ],
   "source": [
    "FD_INP=${FD_RES}/predict_variant_alphagenome\n",
    "FN_INP=\"variant_test_example.tsv\"\n",
    "FP_INP=${FD_INP}/${FN_INP}\n",
    "\n",
    "FD_OUT=${FD_INP}\n",
    "FN_OUT=\"result.variant.test_example.tsv\"\n",
    "FP_OUT=${FD_OUT}/${FN_OUT}\n",
    "\n",
    "#FD_EXE=/hpc/group/igvf/kk319/repo/Proj_IGVF_BlueSTARR/scripts\n",
    "#FD_LOG=/hpc/group/igvf/kk319/repo/Proj_IGVF_BlueSTARR/log\n",
    "\n",
    "FN_EXE=\"run_alphagenome_variant_prediction.sh\"\n",
    "FP_EXE=${FD_EXE}/${FN_EXE}\n",
    "\n",
    "FN_LOG_OUT=\"alphagenome.runtime.variant.test_example.out\"\n",
    "FP_LOG_OUT=${FD_LOG}/${FN_LOG_OUT}\n",
    "FN_LOG_ERR=\"alphagenome.runtime.variant.test_example.err\"\n",
    "FP_LOG_ERR=${FD_LOG}/${FN_LOG_ERR}\n",
    "\n",
    "sbatch \\\n",
    "    -A majoroslab \\\n",
    "    -p igvf \\\n",
    "    --cpus-per-task 2 \\\n",
    "    --mem 4G \\\n",
    "    --output ${FP_LOG_OUT} \\\n",
    "    --error  ${FP_LOG_ERR} \\\n",
    "    --chdir  ${FD_EXE} << 'EOF'\n",
    "#!/bin/bash\n",
    "set -euo pipefail\n",
    "\n",
    "# ---- start message ----\n",
    "timer_start=`date +%s`\n",
    "echo \"Hostname:          \" $(hostname)\n",
    "echo \"Slurm Array Index: \" ${SLURM_ARRAY_TASK_ID-NA}\n",
    "echo \"Time Stamp:        \" $(date +\"%m-%d-%y+%T\")\n",
    "echo\n",
    "\n",
    "# ---- setup env ----\n",
    "#     get project root path\n",
    "#     load helper functions\n",
    "source config_project.sh\n",
    "\n",
    "# ---- show input ----\n",
    "echo \"Input: \" ${FP_INP1}\n",
    "echo\n",
    "echo \"show first few lines of input\"\n",
    "fun_cat ${FP_INP} | head\n",
    "echo\n",
    "\n",
    "# ---- execute ----\n",
    "run_alphagenome python run_alphagenome_variant_prediction.py \\\n",
    "    -i ${FP_INP} \\\n",
    "    -o ${FP_OUT} \\\n",
    "    -s \"2KB\" \\\n",
    "    -c \"RNA_SEQ\" \\\n",
    "    -b \"k562\"\n",
    "\n",
    "# ---- show input ----\n",
    "echo\n",
    "echo \"Output: \" ${FP_OUT}\n",
    "echo\n",
    "echo \"show first few lines of output:\"\n",
    "fun_cat ${FP_OUT} | head\n",
    "echo\n",
    "\n",
    "# ---- end message ----\n",
    "timer=`date +%s`\n",
    "runtime=$(( timer - timer_start ))\n",
    "echo\n",
    "echo 'Done!'\n",
    "echo \"Run Time: $(displaytime ${runtime})\"\n",
    "EOF"
   ]
  },
  {
   "cell_type": "code",
   "execution_count": 13,
   "id": "20a375ae-4dc6-40ee-81e5-2b1d5864c12c",
   "metadata": {},
   "outputs": [
    {
     "name": "stdout",
     "output_type": "stream",
     "text": [
      "Hostname:           dcc-allenlab-01\n",
      "Slurm Array Index:  NA\n",
      "Time Stamp:         08-21-25+10:16:22\n",
      "\n",
      "<alphagenome.models.dna_client.DnaClient object at 0x7fc6688e9e10>\n",
      "chrom=chr11, start=5227021, end=5227208, pos=5227021, ref=G, alt=C\n",
      "chr11:5227022:G>C\n",
      "chr11:5225998-5228046:.\n",
      "           variant_id          scored_interval  ... raw_score quantile_score\n",
      "60  chr11:5227022:G>C  chr11:5225998-5228046:.  ... -0.014407      -0.431257\n",
      "\n",
      "[1 rows x 7 columns]\n",
      "chrom=chr11, start=5227021, end=5227208, pos=5227021, ref=G, alt=C\n",
      "chr11:5227022:G>C\n",
      "chr11:5225998-5228046:.\n",
      "           variant_id          scored_interval  ... raw_score quantile_score\n",
      "60  chr11:5227022:G>C  chr11:5225998-5228046:.  ... -0.014407      -0.431257\n",
      "\n",
      "[1 rows x 7 columns]\n",
      "chrom=chr11, start=5227021, end=5227208, pos=5227021, ref=G, alt=C\n",
      "chr11:5227022:G>C\n",
      "chr11:5225998-5228046:.\n",
      "           variant_id          scored_interval  ... raw_score quantile_score\n",
      "60  chr11:5227022:G>C  chr11:5225998-5228046:.  ... -0.014407      -0.431257\n",
      "\n",
      "[1 rows x 7 columns]\n",
      "chrom=chr11, start=5227021, end=5227208, pos=5227021, ref=G, alt=C\n",
      "chr11:5227022:G>C\n",
      "chr11:5225998-5228046:.\n",
      "           variant_id          scored_interval  ... raw_score quantile_score\n",
      "60  chr11:5227022:G>C  chr11:5225998-5228046:.  ... -0.014407      -0.431257\n",
      "\n",
      "[1 rows x 7 columns]\n",
      "chrom=chr11, start=5227021, end=5227208, pos=5227021, ref=G, alt=C\n",
      "chr11:5227022:G>C\n",
      "chr11:5225998-5228046:.\n",
      "           variant_id          scored_interval  ... raw_score quantile_score\n",
      "60  chr11:5227022:G>C  chr11:5225998-5228046:.  ... -0.014407      -0.431257\n",
      "\n",
      "[1 rows x 7 columns]\n",
      "chrom=chr11, start=5227021, end=5227208, pos=5227021, ref=G, alt=C\n",
      "chr11:5227022:G>C\n",
      "chr11:5225998-5228046:.\n",
      "           variant_id          scored_interval  ... raw_score quantile_score\n",
      "60  chr11:5227022:G>C  chr11:5225998-5228046:.  ... -0.014407      -0.431257\n",
      "\n",
      "[1 rows x 7 columns]\n",
      "chrom=chr11, start=5227021, end=5227208, pos=5227021, ref=G, alt=C\n",
      "chr11:5227022:G>C\n",
      "chr11:5225998-5228046:.\n",
      "           variant_id          scored_interval  ... raw_score quantile_score\n",
      "60  chr11:5227022:G>C  chr11:5225998-5228046:.  ... -0.014407      -0.431257\n",
      "\n",
      "[1 rows x 7 columns]\n",
      "chrom=chr11, start=5227021, end=5227208, pos=5227021, ref=G, alt=C\n",
      "chr11:5227022:G>C\n",
      "chr11:5225998-5228046:.\n",
      "           variant_id          scored_interval  ... raw_score quantile_score\n",
      "60  chr11:5227022:G>C  chr11:5225998-5228046:.  ... -0.014407      -0.431257\n",
      "\n",
      "[1 rows x 7 columns]\n",
      "chrom=chr11, start=5227021, end=5227208, pos=5227021, ref=G, alt=C\n",
      "chr11:5227022:G>C\n",
      "chr11:5225998-5228046:.\n",
      "           variant_id          scored_interval  ... raw_score quantile_score\n",
      "60  chr11:5227022:G>C  chr11:5225998-5228046:.  ... -0.014407      -0.431257\n",
      "\n",
      "[1 rows x 7 columns]\n",
      "chrom=chr11, start=5227021, end=5227208, pos=5227021, ref=G, alt=C\n",
      "chr11:5227022:G>C\n",
      "chr11:5225998-5228046:.\n",
      "           variant_id          scored_interval  ... raw_score quantile_score\n",
      "60  chr11:5227022:G>C  chr11:5225998-5228046:.  ... -0.014407      -0.431257\n",
      "\n",
      "[1 rows x 7 columns]\n",
      "\n",
      "Done!\n",
      "Run Time: 5 seconds\n"
     ]
    }
   ],
   "source": [
    "cat ${FP_LOG_OUT}"
   ]
  }
 ],
 "metadata": {
  "kernelspec": {
   "display_name": "Bash",
   "language": "bash",
   "name": "bash"
  },
  "language_info": {
   "codemirror_mode": "shell",
   "file_extension": ".sh",
   "mimetype": "text/x-sh",
   "name": "bash"
  }
 },
 "nbformat": 4,
 "nbformat_minor": 5
}
