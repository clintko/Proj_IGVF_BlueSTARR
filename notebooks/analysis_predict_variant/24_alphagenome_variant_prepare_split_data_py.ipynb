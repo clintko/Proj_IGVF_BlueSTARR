{
 "cells": [
  {
   "cell_type": "raw",
   "id": "8c07cacd-164b-4211-bc7a-7d0a1abb50e7",
   "metadata": {},
   "source": [
    "---\n",
    "title: Test Alphagenome\n",
    "subtitle: Test to run alphagenome on a variant\n",
    "format:\n",
    "    html:\n",
    "        code-fold:  true\n",
    "        code-tools: true\n",
    "---"
   ]
  },
  {
   "cell_type": "markdown",
   "id": "535f2368-9c8b-4af6-a675-be66ca5e2d6f",
   "metadata": {},
   "source": [
    "**Set environment**"
   ]
  },
  {
   "cell_type": "code",
   "execution_count": 1,
   "id": "b529978b-a7f5-4ed9-9e2b-051fe7f49998",
   "metadata": {},
   "outputs": [],
   "source": [
    "import numpy  as np\n",
    "import pandas as pd\n",
    "import itertools as it\n",
    "import os, re\n",
    "import csv"
   ]
  },
  {
   "cell_type": "code",
   "execution_count": 2,
   "id": "9e97062a-0841-4554-ad30-23be258945a4",
   "metadata": {},
   "outputs": [
    {
     "name": "stdout",
     "output_type": "stream",
     "text": [
      "BASE DIRECTORY (FD_BASE): /hpc/group/igvf/kk319\n",
      "REPO DIRECTORY (FD_REPO): /hpc/group/igvf/kk319/repo\n",
      "WORK DIRECTORY (FD_WORK): /hpc/group/igvf/kk319/work\n",
      "DATA DIRECTORY (FD_DATA): /hpc/group/igvf/kk319/data\n",
      "\n",
      "\n",
      "You are working with      IGVF BlueSTARR\n",
      "PATH OF PROJECT (FD_PRJ): /hpc/group/igvf/kk319/repo/Proj_IGVF_BlueSTARR\n",
      "PROJECT RESULTS (FD_RES): /hpc/group/igvf/kk319/repo/Proj_IGVF_BlueSTARR/results\n",
      "PROJECT SCRIPTS (FD_EXE): /hpc/group/igvf/kk319/repo/Proj_IGVF_BlueSTARR/scripts\n",
      "PROJECT DATA    (FD_DAT): /hpc/group/igvf/kk319/repo/Proj_IGVF_BlueSTARR/data\n",
      "PROJECT NOTE    (FD_NBK): /hpc/group/igvf/kk319/repo/Proj_IGVF_BlueSTARR/notebooks\n",
      "PROJECT DOCS    (FD_DOC): /hpc/group/igvf/kk319/repo/Proj_IGVF_BlueSTARR/docs\n",
      "PROJECT LOG     (FD_LOG): /hpc/group/igvf/kk319/repo/Proj_IGVF_BlueSTARR/log\n",
      "PROJECT REF     (FD_REF): /hpc/group/igvf/kk319/repo/Proj_IGVF_BlueSTARR/references\n",
      "\n"
     ]
    }
   ],
   "source": [
    "%run ../run_config_project.py\n",
    "show_env()"
   ]
  },
  {
   "cell_type": "markdown",
   "id": "60d884cb-a1bf-4fce-bb5d-bd79f2bb7f18",
   "metadata": {},
   "source": [
    "## Helper function"
   ]
  },
  {
   "cell_type": "code",
   "execution_count": 23,
   "id": "2508e6fb-5a1a-4e0e-9062-923dd955904f",
   "metadata": {},
   "outputs": [],
   "source": [
    "def gen_parse_variant_line(txt_line: str):\n",
    "    \"\"\"parse a line of Kircher chunk file, get region, parse variants and yield\"\"\"\n",
    "    ### parse each line\n",
    "    lst_txt_parsed = txt_line.rstrip(\"\\n\").split(\"\\t\")\n",
    "    parse_variant  = re.compile(r\"^(\\d+):ref=([ACGTN]+):([ACGTN](?:,[ACGTN])*)$\")\n",
    "    \n",
    "    ### get region\n",
    "    txt_region = lst_txt_parsed[0]  # e.g., \"chr11:5227021-5227208\"\n",
    "\n",
    "    ### parse variants at each location\n",
    "    for txt in lst_txt_parsed[1:]:\n",
    "        ### parse variant\n",
    "        txt_variant = parse_variant.match(txt)\n",
    "        if not txt_variant:\n",
    "            continue\n",
    "            \n",
    "        ### get position and ref/alt base\n",
    "        num_pos          = int(txt_variant.group(1))\n",
    "        txt_base_ref     = txt_variant.group(2)\n",
    "        vec_txt_base_alt = txt_variant.group(3).split(\",\")  # includes REF again in your file\n",
    "        \n",
    "        for txt_base_alt in vec_txt_base_alt:\n",
    "            yield (txt_region, num_pos, txt_base_ref, txt_base_alt)\n",
    "\n",
    "def gen_parse_variant_file(txt_path: str):\n",
    "    \"\"\"get Kircher chunk file, parse each line, and yield each variant\"\"\"\n",
    "    with open(txt_path) as file:\n",
    "        for txt_line in file:\n",
    "            yield from gen_parse_variant_line(txt_line)"
   ]
  },
  {
   "cell_type": "code",
   "execution_count": 24,
   "id": "b3b0a9ed-7868-440f-b1c4-e97779d1fce4",
   "metadata": {},
   "outputs": [],
   "source": [
    "def gen_chunked(iterable, num_size):\n",
    "    \"\"\"yield successive lists of length <= size from an iterable/generator\"\"\"\n",
    "    iterable = iter(iterable)\n",
    "    while True:\n",
    "        block = list(it.islice(iterable, num_size))\n",
    "        if not block:\n",
    "            break\n",
    "        yield block"
   ]
  },
  {
   "cell_type": "markdown",
   "id": "21ad921a-6e01-4c1d-bbcf-13d8ac4b22d7",
   "metadata": {},
   "source": [
    "## Split Kircher regions into chunks"
   ]
  },
  {
   "cell_type": "code",
   "execution_count": 27,
   "id": "7aa2ce7b-4395-4053-9947-f17fb9fcece6",
   "metadata": {},
   "outputs": [
    {
     "name": "stdout",
     "output_type": "stream",
     "text": [
      "variant.chunk.01.tsv\n",
      "variant.chunk.02.tsv\n",
      "variant.chunk.03.tsv\n",
      "variant.chunk.04.tsv\n",
      "variant.chunk.05.tsv\n",
      "variant.chunk.06.tsv\n",
      "variant.chunk.07.tsv\n",
      "variant.chunk.08.tsv\n",
      "variant.chunk.09.tsv\n",
      "variant.chunk.10.tsv\n",
      "variant.chunk.11.tsv\n",
      "variant.chunk.12.tsv\n",
      "variant.chunk.13.tsv\n",
      "variant.chunk.14.tsv\n",
      "variant.chunk.15.tsv\n",
      "variant.chunk.16.tsv\n",
      "variant.chunk.17.tsv\n",
      "variant.chunk.18.tsv\n",
      "variant.chunk.19.tsv\n",
      "variant.chunk.20.tsv\n",
      "variant.chunk.21.tsv\n",
      "variant.chunk.22.tsv\n",
      "variant.chunk.23.tsv\n",
      "variant.chunk.24.tsv\n",
      "variant.chunk.25.tsv\n",
      "variant.chunk.26.tsv\n",
      "variant.chunk.27.tsv\n",
      "variant.chunk.28.tsv\n",
      "variant.chunk.29.tsv\n",
      "variant.chunk.30.tsv\n",
      "variant.chunk.31.tsv\n",
      "variant.chunk.32.tsv\n",
      "variant.chunk.33.tsv\n",
      "variant.chunk.34.tsv\n",
      "variant.chunk.35.tsv\n",
      "variant.chunk.36.tsv\n",
      "variant.chunk.37.tsv\n",
      "variant.chunk.38.tsv\n",
      "variant.chunk.39.tsv\n",
      "variant.chunk.40.tsv\n"
     ]
    }
   ],
   "source": [
    "### set file directory\n",
    "txt_fdiry = os.path.join(FD_DAT, \"kircher2019\")\n",
    "txt_fname = \"Kircher_region_chunk.txt\"\n",
    "txt_fpath = os.path.join(txt_fdiry, txt_fname)\n",
    "\n",
    "### set generator\n",
    "gen = gen_parse_variant_file(txt_fpath)\n",
    "\n",
    "### split to chunks and save results\n",
    "num_chunk_size = 1000\n",
    "\n",
    "for idx, chunk in enumerate(gen_chunked(gen, num_chunk_size), start=1):\n",
    "    \n",
    "    ### set file directory\n",
    "    txt_fdiry = os.path.join(FD_RES, \"predict_variant_kircher2019\")\n",
    "    txt_fname = f\"variant.chunk.{idx:02}.tsv\"\n",
    "    txt_fpath = os.path.join(txt_fdiry, txt_fname)\n",
    "    print(txt_fname)\n",
    "    \n",
    "    ### export each chunk\n",
    "    with open(txt_fpath, \"w\", newline=\"\") as fout:\n",
    "        writer = csv.writer(fout, delimiter=\"\\t\")\n",
    "        for row in chunk:\n",
    "            writer.writerow(row)"
   ]
  }
 ],
 "metadata": {
  "kernelspec": {
   "display_name": "Python 3 (ipykernel)",
   "language": "python",
   "name": "python3"
  },
  "language_info": {
   "codemirror_mode": {
    "name": "ipython",
    "version": 3
   },
   "file_extension": ".py",
   "mimetype": "text/x-python",
   "name": "python",
   "nbconvert_exporter": "python",
   "pygments_lexer": "ipython3",
   "version": "3.11.6"
  }
 },
 "nbformat": 4,
 "nbformat_minor": 5
}
