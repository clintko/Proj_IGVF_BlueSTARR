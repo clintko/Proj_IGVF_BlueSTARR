{
 "cells": [
  {
   "cell_type": "raw",
   "id": "602f089d-1e71-432d-8c29-5533bdafbec6",
   "metadata": {},
   "source": [
    "---\n",
    "title: Understand the input and output files of BlueSTARR variant prediction\n",
    "subtitle: \n",
    "format:\n",
    "    html:\n",
    "        code-fold:  true\n",
    "        code-tools: true\n",
    "---"
   ]
  },
  {
   "cell_type": "markdown",
   "id": "3ec877e2-05b7-4b01-ab00-29ddc5c5bede",
   "metadata": {},
   "source": [
    "## Script"
   ]
  },
  {
   "cell_type": "markdown",
   "id": "c21eb6b6-67d6-4698-bba4-5438851c3c02",
   "metadata": {},
   "source": [
    "```\n",
    "#!/bin/sh\n",
    "#\n",
    "#SBATCH --get-user-env\n",
    "#SBATCH -A majoroslab\n",
    "#SBATCH -J biased_pred\n",
    "#SBATCH -o /hpc/home/rv103/igvf/revathy/Blueplots/logs/kircher_region_pred_biased.out\n",
    "#SBATCH -e /hpc/home/rv103/igvf/revathy/Blueplots/logs/kircher_region_pred_biased.err\n",
    "#SBATCH --exclusive\n",
    "#SBATCH --gres=gpu:1\n",
    "#SBATCH -p gpu-common,scavenger-gpu,majoroslab-gpu,igvf-gpu\n",
    "#SBATCH --mem=20000\n",
    "#SBATCH --cpus-per-task=1\n",
    "#\n",
    "hostname\n",
    "nvidia-smi\n",
    "module load BigWig\n",
    "python /hpc/group/igvf/K562/leave-one-out/BlueSTARR/mutator2-parent.py \\\n",
    " /hpc/group/igvf/revathy/models/K562/downsampled/biased/K562-1 \\\n",
    " /hpc/group/igvf/K562/mdl_eval/BlueSTARR_vs_DeltaSVM/Kircher_entire_regions/Kircher_region_chunk.txt \\\n",
    " 300 3000 \\\n",
    " /hpc/group/igvf/revathy/Blueplots/predictions/K562_MSELoss_biased_downsampled.txt\n",
    "```"
   ]
  },
  {
   "cell_type": "markdown",
   "id": "601a0d45-9391-4c07-8f13-ab4df5197489",
   "metadata": {},
   "source": [
    "**Python**  \n",
    "`python /hpc/group/igvf/K562/leave-one-out/BlueSTARR/mutator2-parent.py`\n",
    "\n",
    "**Model**  \n",
    "`/hpc/group/igvf/revathy/models/K562/downsampled/biased/K562-1`\n",
    "\n",
    "**CREs.txt**  \n",
    "`/hpc/group/igvf/K562/mdl_eval/BlueSTARR_vs_DeltaSVM/Kircher_entire_regions/Kircher_region_chunk.txt`\n",
    "\n",
    "**seq-len**  \n",
    "`300`\n",
    "\n",
    "**seqs-per-job**  \n",
    "`3000`\n",
    "\n",
    "**out-file**  \n",
    "`/hpc/group/igvf/revathy/Blueplots/predictions/K562_MSELoss_biased_downsampled.txt`"
   ]
  },
  {
   "cell_type": "markdown",
   "id": "2591ce78-5455-462a-9f4c-d8eec1d8d817",
   "metadata": {},
   "source": [
    "## Input file: "
   ]
  },
  {
   "cell_type": "code",
   "execution_count": 20,
   "id": "c6c6e588-1ad6-4f24-9ed7-03e70d3a202f",
   "metadata": {},
   "outputs": [
    {
     "name": "stdout",
     "output_type": "stream",
     "text": [
      "45\n"
     ]
    }
   ],
   "source": [
    "FDIRY=/hpc/group/igvf/K562/mdl_eval/BlueSTARR_vs_DeltaSVM/Kircher_entire_regions\n",
    "FNAME=Kircher_region_chunk.txt\n",
    "FPATH=${FDIRY}/${FNAME}\n",
    "cat ${FPATH} | wc -l"
   ]
  },
  {
   "cell_type": "code",
   "execution_count": 22,
   "id": "fe747e9c-9557-4573-899b-90eba8a0be9b",
   "metadata": {},
   "outputs": [
    {
     "name": "stdout",
     "output_type": "stream",
     "text": [
      "chr11:5227021-5227208\n",
      "chr11:5249804-5250078\n",
      "chr20:44355519-44355804\n",
      "chr5:1294988-1295247\n",
      "chr8:127519269-127519500\n",
      "chr8:127519500-127519732\n",
      "chr10:112998239-112998439\n",
      "chr10:112998439-112998639\n",
      "chr10:112998639-112998839\n",
      "chrX:139530462-139530613\n",
      "chrX:139530613-139530765\n",
      "chr2:60494939-60495139\n",
      "chr2:60495139-60495339\n",
      "chr2:60495339-60495539\n",
      "chr6:396142-396367\n",
      "chr6:396367-396593\n",
      "chr1:209815789-209815989\n",
      "chr1:209815989-209816189\n",
      "chr1:209816189-209816390\n",
      "chr8:127400828-127401028\n",
      "chr8:127401028-127401228\n",
      "chr8:127401228-127401428\n",
      "chr10:43086478-43086678\n",
      "chr10:43086678-43086878\n",
      "chr10:43086878-43087078\n",
      "chr1:109274650-109274850\n",
      "chr1:109274850-109275050\n",
      "chr1:109275050-109275251\n",
      "chr2:161238407-161238702\n",
      "chr2:161238702-161238998\n",
      "chr6:37807498-37807787\n",
      "chr6:37807787-37808077\n",
      "chr7:156791118-156791361\n",
      "chr7:156791361-156791604\n",
      "chr9:97853254-97853454\n",
      "chr9:97853454-97853654\n",
      "chr9:97853654-97853854\n",
      "chr22:19723265-19723457\n",
      "chr22:19723457-19723650\n",
      "chr19:11089230-11089389\n",
      "chr19:11089389-11089548\n",
      "chr10:46046243-46046538\n",
      "chr10:46046538-46046834\n",
      "chr1:155301394-155301629\n",
      "chr1:155301629-155301864\n"
     ]
    }
   ],
   "source": [
    "FDIRY=/hpc/group/igvf/K562/mdl_eval/BlueSTARR_vs_DeltaSVM/Kircher_entire_regions\n",
    "FNAME=Kircher_region_chunk.txt\n",
    "FPATH=${FDIRY}/${FNAME}\n",
    "cat ${FPATH} | cut -f 1"
   ]
  },
  {
   "cell_type": "code",
   "execution_count": 2,
   "id": "cfb16b1e-3528-443c-97da-bd4a98c019c3",
   "metadata": {},
   "outputs": [
    {
     "name": "stdout",
     "output_type": "stream",
     "text": [
      "chr11:5227021-5227208\t5227021:ref=G:G,C,A,T\t5227022:ref=G:G,C,A,T\t5227023:ref=T:G,C,A,T\t5227024:ref=G:G,C,A,T\t5227025:ref=T:G,C,A,T\t5227026:ref=C:G,C,A,T\t5227027:ref=T:G,C,A,T\t5227028:ref=G:G,C,A,T\t5227029:ref=T:G,C,A,T\t5227030:ref=T:G,C,A,T\t5227031:ref=T:G,C,A,T\t5227032:ref=G:G,C,A,T\t5227033:ref=A:G,C,A,T\t5227034:ref=G:G,C,A,T\t5227035:ref=G:G,C,A,T\t5227036:ref=T:G,C,A,T\t5227037:ref=T:G,C,A,T\t5227038:ref=G:G,C,A,T\t5227039:ref=C:G,C,A,T\t5227040:ref=T:G,C,A,T\t5227041:ref=A:G,C,A,T\t5227042:ref=G:G,C,A,T\t5227043:ref=T:G,C,A,T\t5227044:ref=G:G,C,A,T\t5227045:ref=A:G,C,A,T\t5227046:ref=A:G,C,A,T\t5227047:ref=C:G,C,A,T\t5227048:ref=A:G,C,A,T\t5227049:ref=C:G,C,A,T\t5227050:ref=A:G,C,A,T\t5227051:ref=G:G,C,A,T\t5227052:ref=T:G,C,A,T\t5227053:ref=T:G,C,A,T\t5227054:ref=G:G,C,A,T\t5227055:ref=T:G,C,A,T\t5227056:ref=G:G,C,A,T\t5227057:ref=T:G,C,A,T\t5227058:ref=C:G,C,A,T\t5227059:ref=A:G,C,A,T\t5227060:ref=G:G,C,A,T\t5227061:ref=A:G,C,A,T\t5227062:ref=A:G,C,A,T\t5227063:ref=G:G,C,A,T\t5227064:ref=C:G,C,A,T\t5227065:ref=A:G,C,A,T\t5227066:ref=A:G,C,A,T\t5227067:ref=A:G,C,A,T\t5227068:ref=T:G,C,A,T\t5227069:ref=G:G,C,A,T\t5227070:ref=T:G,C,A,T\t5227071:ref=A:G,C,A,T\t5227072:ref=A:G,C,A,T\t5227073:ref=G:G,C,A,T\t5227074:ref=C:G,C,A,T\t5227075:ref=A:G,C,A,T\t5227076:ref=A:G,C,A,T\t5227077:ref=T:G,C,A,T\t5227078:ref=A:G,C,A,T\t5227079:ref=G:G,C,A,T\t5227080:ref=A:G,C,A,T\t5227081:ref=T:G,C,A,T\t5227082:ref=G:G,C,A,T\t5227083:ref=G:G,C,A,T\t5227084:ref=C:G,C,A,T\t5227085:ref=T:G,C,A,T\t5227086:ref=C:G,C,A,T\t5227087:ref=T:G,C,A,T\t5227088:ref=G:G,C,A,T\t5227089:ref=C:G,C,A,T\t5227090:ref=C:G,C,A,T\t5227091:ref=C:G,C,A,T\t5227092:ref=T:G,C,A,T\t5227093:ref=G:G,C,A,T\t5227094:ref=A:G,C,A,T\t5227095:ref=C:G,C,A,T\t5227096:ref=T:G,C,A,T\t5227097:ref=T:G,C,A,T\t5227098:ref=T:G,C,A,T\t5227099:ref=T:G,C,A,T\t5227100:ref=A:G,C,A,T\t5227101:ref=T:G,C,A,T\t5227102:ref=G:G,C,A,T\t5227103:ref=C:G,C,A,T\t5227104:ref=C:G,C,A,T\t5227105:ref=C:G,C,A,T\t5227106:ref=A:G,C,A,T\t5227107:ref=G:G,C,A,T\t5227108:ref=C:G,C,A,T\t5227109:ref=C:G,C,A,T\t5227110:ref=C:G,C,A,T\t5227111:ref=T:G,C,A,T\t5227112:ref=G:G,C,A,T\t5227113:ref=G:G,C,A,T\t5227114:ref=C:G,C,A,T\t5227115:ref=T:G,C,A,T\t5227116:ref=C:G,C,A,T\t5227117:ref=C:G,C,A,T\t5227118:ref=T:G,C,A,T\t5227119:ref=G:G,C,A,T\t5227120:ref=C:G,C,A,T\t5227121:ref=C:G,C,A,T\t5227122:ref=C:G,C,A,T\t5227123:ref=T:G,C,A,T\t5227124:ref=C:G,C,A,T\t5227125:ref=C:G,C,A,T\t5227126:ref=C:G,C,A,T\t5227127:ref=T:G,C,A,T\t5227128:ref=G:G,C,A,T\t5227129:ref=C:G,C,A,T\t5227130:ref=T:G,C,A,T\t5227131:ref=C:G,C,A,T\t5227132:ref=C:G,C,A,T\t5227133:ref=T:G,C,A,T\t5227134:ref=G:G,C,A,T\t5227135:ref=G:G,C,A,T\t5227136:ref=G:G,C,A,T\t5227137:ref=A:G,C,A,T\t5227138:ref=G:G,C,A,T\t5227139:ref=T:G,C,A,T\t5227140:ref=A:G,C,A,T\t5227141:ref=G:G,C,A,T\t5227142:ref=A:G,C,A,T\t5227143:ref=T:G,C,A,T\t5227144:ref=T:G,C,A,T\t5227145:ref=G:G,C,A,T\t5227146:ref=G:G,C,A,T\t5227147:ref=C:G,C,A,T\t5227148:ref=C:G,C,A,T\t5227149:ref=A:G,C,A,T\t5227150:ref=A:G,C,A,T\t5227151:ref=C:G,C,A,T\t5227152:ref=C:G,C,A,T\t5227153:ref=C:G,C,A,T\t5227154:ref=T:G,C,A,T\t5227155:ref=A:G,C,A,T\t5227156:ref=G:G,C,A,T\t5227157:ref=G:G,C,A,T\t5227158:ref=G:G,C,A,T\t5227159:ref=T:G,C,A,T\t5227160:ref=G:G,C,A,T\t5227161:ref=T:G,C,A,T\t5227162:ref=G:G,C,A,T\t5227163:ref=G:G,C,A,T\t5227164:ref=C:G,C,A,T\t5227165:ref=T:G,C,A,T\t5227166:ref=C:G,C,A,T\t5227167:ref=C:G,C,A,T\t5227168:ref=A:G,C,A,T\t5227169:ref=C:G,C,A,T\t5227170:ref=A:G,C,A,T\t5227171:ref=G:G,C,A,T\t5227172:ref=G:G,C,A,T\t5227173:ref=G:G,C,A,T\t5227174:ref=T:G,C,A,T\t5227175:ref=G:G,C,A,T\t5227176:ref=A:G,C,A,T\t5227177:ref=G:G,C,A,T\t5227178:ref=G:G,C,A,T\t5227179:ref=T:G,C,A,T\t5227180:ref=C:G,C,A,T\t5227181:ref=T:G,C,A,T\t5227182:ref=A:G,C,A,T\t5227183:ref=A:G,C,A,T\t5227184:ref=G:G,C,A,T\t5227185:ref=T:G,C,A,T\t5227186:ref=G:G,C,A,T\t5227187:ref=A:G,C,A,T\t5227188:ref=T:G,C,A,T\t5227189:ref=G:G,C,A,T\t5227190:ref=A:G,C,A,T\t5227191:ref=C:G,C,A,T\t5227192:ref=A:G,C,A,T\t5227193:ref=G:G,C,A,T\t5227194:ref=C:G,C,A,T\t5227195:ref=C:G,C,A,T\t5227196:ref=G:G,C,A,T\t5227197:ref=T:G,C,A,T\t5227198:ref=A:G,C,A,T\t5227199:ref=C:G,C,A,T\t5227200:ref=C:G,C,A,T\t5227201:ref=T:G,C,A,T\t5227202:ref=G:G,C,A,T\t5227203:ref=T:G,C,A,T\t5227204:ref=C:G,C,A,T\t5227205:ref=C:G,C,A,T\t5227206:ref=T:G,C,A,T\t5227207:ref=T:G,C,A,T\t\n"
     ]
    }
   ],
   "source": [
    "FDIRY=/hpc/group/igvf/K562/mdl_eval/BlueSTARR_vs_DeltaSVM/Kircher_entire_regions\n",
    "FNAME=Kircher_region_chunk.txt\n",
    "FPATH=${FDIRY}/${FNAME}\n",
    "cat ${FPATH} | head -n 1"
   ]
  },
  {
   "cell_type": "code",
   "execution_count": 10,
   "id": "cf5da765-71bb-4ad5-8c96-b8f1d49b3fcb",
   "metadata": {},
   "outputs": [
    {
     "name": "stdout",
     "output_type": "stream",
     "text": [
      "chr11:5249804-5250078\t5249804:ref=G:G,C,A,T\t5249805:ref=G:G,C,A,T\t5249806:ref=C:G,C,A,T\t5249807:ref=G:G,C,A,T\t5249808:ref=T:G,C,A,T\t5249809:ref=C:G,C,A,T\t5249810:ref=T:G,C,A,T\t5249811:ref=G:G,C,A,T\t5249812:ref=G:G,C,A,T\t5249813:ref=A:G,C,A,T\t5249814:ref=C:G,C,A,T\t5249815:ref=T:G,C,A,T\t5249816:ref=A:G,C,A,T\t5249817:ref=G:G,C,A,T\t5249818:ref=G:G,C,A,T\t5249819:ref=A:G,C,A,T\t5249820:ref=G:G,C,A,T\t5249821:ref=C:G,C,A,T\t5249822:ref=T:G,C,A,T\t5249823:ref=T:G,C,A,T\t5249824:ref=A:G,C,A,T\t5249825:ref=T:G,C,A,T\t5249826:ref=T:G,C,A,T\t5249827:ref=G:G,C,A,T\t5249828:ref=A:G,C,A,T\t5249829:ref=T:G,C,A,T\t5249830:ref=A:G,C,A,T\t5249831:ref=A:G,C,A,T\t5249832:ref=C:G,C,A,T\t5249833:ref=C:G,C,A,T\t5249834:ref=T:G,C,A,T\t5249835:ref=C:G,C,A,T\t5249836:ref=A:G,C,A,T\t5249837:ref=G:G,C,A,T\t5249838:ref=A:G,C,A,T\t5249839:ref=C:G,C,A,T\t5249840:ref=G:G,C,A,T\t5249841:ref=T:G,C,A,T\t5249842:ref=T:G,C,A,T\t5249843:ref=C:G,C,A,T\t5249844:ref=C:G,C,A,T\t5249845:ref=A:G,C,A,T\t5249846:ref=G:G,C,A,T\t5249847:ref=A:G,C,A,T\t5249848:ref=A:G,C,A,T\t5249849:ref=G:G,C,A,T\t5249850:ref=C:G,C,A,T\t5249851:ref=G:G,C,A,T\t5249852:ref=A:G,C,A,T\t5249853:ref=G:G,C,A,T\t5249854:ref=T:G,C,A,T\t5249855:ref=G:G,C,A,T\t5249856:ref=T:G,C,A,T\t5249857:ref=G:G,C,A,T\t5249858:ref=T:G,C,A,T\t5249859:ref=G:G,C,A,T\t5249860:ref=G:G,C,A,T\t5249861:ref=A:G,C,A,T\t5249862:ref=A:G,C,A,T\t5249863:ref=C:G,C,A,T\t5249864:ref=T:G,C,A,T\t5249865:ref=G:G,C,A,T\t5249866:ref=C:G,C,A,T\t5249867:ref=T:G,C,A,T\t5249868:ref=G:G,C,A,T\t5249869:ref=A:G,C,A,T\t5249870:ref=A:G,C,A,T\t5249871:ref=G:G,C,A,T\t5249872:ref=G:G,C,A,T\t5249873:ref=G:G,C,A,T\t5249874:ref=T:G,C,A,T\t5249875:ref=G:G,C,A,T\t5249876:ref=C:G,C,A,T\t5249877:ref=T:G,C,A,T\t5249878:ref=T:G,C,A,T\t5249879:ref=C:G,C,A,T\t5249880:ref=C:G,C,A,T\t5249881:ref=T:G,C,A,T\t5249882:ref=T:G,C,A,T\t5249883:ref=T:G,C,A,T\t5249884:ref=T:G,C,A,T\t5249885:ref=A:G,C,A,T\t5249886:ref=T:G,C,A,T\t5249887:ref=T:G,C,A,T\t5249888:ref=C:G,C,A,T\t5249889:ref=T:G,C,A,T\t5249890:ref=T:G,C,A,T\t5249891:ref=C:G,C,A,T\t5249892:ref=A:G,C,A,T\t5249893:ref=T:G,C,A,T\t5249894:ref=C:G,C,A,T\t5249895:ref=C:G,C,A,T\t5249896:ref=C:G,C,A,T\t5249897:ref=T:G,C,A,T\t5249898:ref=A:G,C,A,T\t5249899:ref=G:G,C,A,T\t5249900:ref=C:G,C,A,T\t5249901:ref=C:G,C,A,T\t5249902:ref=A:G,C,A,T\t5249903:ref=G:G,C,A,T\t5249904:ref=C:G,C,A,T\t5249905:ref=C:G,C,A,T\t5249906:ref=G:G,C,A,T\t5249907:ref=C:G,C,A,T\t5249908:ref=C:G,C,A,T\t5249909:ref=G:G,C,A,T\t5249910:ref=G:G,C,A,T\t5249911:ref=C:G,C,A,T\t5249912:ref=C:G,C,A,T\t5249913:ref=C:G,C,A,T\t5249914:ref=C:G,C,A,T\t5249915:ref=T:G,C,A,T\t5249916:ref=G:G,C,A,T\t5249917:ref=G:G,C,A,T\t5249918:ref=C:G,C,A,T\t5249919:ref=C:G,C,A,T\t5249920:ref=T:G,C,A,T\t5249921:ref=C:G,C,A,T\t5249922:ref=A:G,C,A,T\t5249923:ref=C:G,C,A,T\t5249924:ref=T:G,C,A,T\t5249925:ref=G:G,C,A,T\t5249926:ref=G:G,C,A,T\t5249927:ref=A:G,C,A,T\t5249928:ref=T:G,C,A,T\t5249929:ref=A:G,C,A,T\t5249930:ref=C:G,C,A,T\t5249931:ref=T:G,C,A,T\t5249932:ref=C:G,C,A,T\t5249933:ref=T:G,C,A,T\t5249934:ref=A:G,C,A,T\t5249935:ref=A:G,C,A,T\t5249936:ref=G:G,C,A,T\t5249937:ref=A:G,C,A,T\t5249938:ref=C:G,C,A,T\t5249939:ref=T:G,C,A,T\t5249940:ref=A:G,C,A,T\t5249941:ref=T:G,C,A,T\t5249942:ref=T:G,C,A,T\t5249943:ref=G:G,C,A,T\t5249944:ref=G:G,C,A,T\t5249945:ref=T:G,C,A,T\t5249946:ref=C:G,C,A,T\t5249947:ref=A:G,C,A,T\t5249948:ref=A:G,C,A,T\t5249949:ref=G:G,C,A,T\t5249950:ref=T:G,C,A,T\t5249951:ref=T:G,C,A,T\t5249952:ref=T:G,C,A,T\t5249953:ref=G:G,C,A,T\t5249954:ref=C:G,C,A,T\t5249955:ref=C:G,C,A,T\t5249956:ref=T:G,C,A,T\t5249957:ref=T:G,C,A,T\t5249958:ref=G:G,C,A,T\t5249959:ref=T:G,C,A,T\t5249960:ref=C:G,C,A,T\t5249961:ref=A:G,C,A,T\t5249962:ref=A:G,C,A,T\t5249963:ref=G:G,C,A,T\t5249964:ref=G:G,C,A,T\t5249965:ref=C:G,C,A,T\t5249966:ref=T:G,C,A,T\t5249967:ref=A:G,C,A,T\t5249968:ref=T:G,C,A,T\t5249969:ref=T:G,C,A,T\t5249970:ref=G:G,C,A,T\t5249971:ref=G:G,C,A,T\t5249972:ref=T:G,C,A,T\t5249973:ref=C:G,C,A,T\t5249974:ref=A:G,C,A,T\t5249975:ref=A:G,C,A,T\t5249976:ref=G:G,C,A,T\t5249977:ref=G:G,C,A,T\t5249978:ref=C:G,C,A,T\t5249979:ref=A:G,C,A,T\t5249980:ref=A:G,C,A,T\t5249981:ref=G:G,C,A,T\t5249982:ref=G:G,C,A,T\t5249983:ref=C:G,C,A,T\t5249984:ref=T:G,C,A,T\t5249985:ref=G:G,C,A,T\t5249986:ref=G:G,C,A,T\t5249987:ref=C:G,C,A,T\t5249988:ref=C:G,C,A,T\t5249989:ref=A:G,C,A,T\t5249990:ref=A:G,C,A,T\t5249991:ref=C:G,C,A,T\t5249992:ref=C:G,C,A,T\t5249993:ref=C:G,C,A,T\t5249994:ref=A:G,C,A,T\t5249995:ref=T:G,C,A,T\t5249996:ref=G:G,C,A,T\t5249997:ref=G:G,C,A,T\t5249998:ref=G:G,C,A,T\t5249999:ref=T:G,C,A,T\t5250000:ref=G:G,C,A,T\t5250001:ref=G:G,C,A,T\t5250002:ref=A:G,C,A,T\t5250003:ref=G:G,C,A,T\t5250004:ref=T:G,C,A,T\t5250005:ref=T:G,C,A,T\t5250006:ref=T:G,C,A,T\t5250007:ref=A:G,C,A,T\t5250008:ref=G:G,C,A,T\t5250009:ref=C:G,C,A,T\t5250010:ref=C:G,C,A,T\t5250011:ref=A:G,C,A,T\t5250012:ref=G:G,C,A,T\t5250013:ref=G:G,C,A,T\t5250014:ref=G:G,C,A,T\t5250015:ref=A:G,C,A,T\t5250016:ref=C:G,C,A,T\t5250017:ref=C:G,C,A,T\t5250018:ref=G:G,C,A,T\t5250019:ref=T:G,C,A,T\t5250020:ref=T:G,C,A,T\t5250021:ref=T:G,C,A,T\t5250022:ref=C:G,C,A,T\t5250023:ref=A:G,C,A,T\t5250024:ref=G:G,C,A,T\t5250025:ref=A:G,C,A,T\t5250026:ref=C:G,C,A,T\t5250027:ref=A:G,C,A,T\t5250028:ref=G:G,C,A,T\t5250029:ref=A:G,C,A,T\t5250030:ref=T:G,C,A,T\t5250031:ref=A:G,C,A,T\t5250032:ref=T:G,C,A,T\t5250033:ref=T:G,C,A,T\t5250034:ref=T:G,C,A,T\t5250035:ref=G:G,C,A,T\t5250036:ref=C:G,C,A,T\t5250037:ref=A:G,C,A,T\t5250038:ref=T:G,C,A,T\t5250039:ref=T:G,C,A,T\t5250040:ref=G:G,C,A,T\t5250041:ref=A:G,C,A,T\t5250042:ref=G:G,C,A,T\t5250043:ref=A:G,C,A,T\t5250044:ref=T:G,C,A,T\t5250045:ref=A:G,C,A,T\t5250046:ref=G:G,C,A,T\t5250047:ref=T:G,C,A,T\t5250048:ref=G:G,C,A,T\t5250049:ref=T:G,C,A,T\t5250050:ref=G:G,C,A,T\t5250051:ref=G:G,C,A,T\t5250052:ref=G:G,C,A,T\t5250053:ref=G:G,C,A,T\t5250054:ref=A:G,C,A,T\t5250055:ref=A:G,C,A,T\t5250056:ref=G:G,C,A,T\t5250057:ref=G:G,C,A,T\t5250058:ref=G:G,C,A,T\t5250059:ref=G:G,C,A,T\t5250060:ref=C:G,C,A,T\t5250061:ref=C:G,C,A,T\t5250062:ref=C:G,C,A,T\t5250063:ref=C:G,C,A,T\t5250064:ref=C:G,C,A,T\t5250065:ref=A:G,C,A,T\t5250066:ref=A:G,C,A,T\t5250067:ref=G:G,C,A,T\t5250068:ref=A:G,C,A,T\t5250069:ref=G:G,C,A,T\t5250070:ref=G:G,C,A,T\t5250071:ref=A:G,C,A,T\t5250072:ref=T:G,C,A,T\t5250073:ref=A:G,C,A,T\t5250074:ref=C:G,C,A,T\t5250075:ref=T:G,C,A,T\t5250076:ref=G:G,C,A,T\t5250077:ref=C:G,C,A,T\t\n"
     ]
    }
   ],
   "source": [
    "FDIRY=/hpc/group/igvf/K562/mdl_eval/BlueSTARR_vs_DeltaSVM/Kircher_entire_regions\n",
    "FNAME=Kircher_region_chunk.txt\n",
    "FPATH=${FDIRY}/${FNAME}\n",
    "cat ${FPATH} | head -n 2 | tail -n 1"
   ]
  },
  {
   "cell_type": "markdown",
   "id": "4a425519-9da8-4092-9a11-159c36c2af4a",
   "metadata": {},
   "source": [
    "## Output file:"
   ]
  },
  {
   "cell_type": "code",
   "execution_count": 4,
   "id": "cc1bc554-d8a4-4d5f-8103-f70990134250",
   "metadata": {},
   "outputs": [
    {
     "name": "stdout",
     "output_type": "stream",
     "text": [
      "chr11:5227021-5227208\tchr11:5226964-5227264\tpos=5227021\tref=G\tG\t-0.13429627\n",
      "chr11:5227021-5227208\tchr11:5226964-5227264\tpos=5227021\tref=G\tC\t-0.13541618\n",
      "chr11:5227021-5227208\tchr11:5226964-5227264\tpos=5227021\tref=G\tA\t-0.17455292\n",
      "chr11:5227021-5227208\tchr11:5226964-5227264\tpos=5227021\tref=G\tT\t-0.17263672\n",
      "chr11:5227021-5227208\tchr11:5226964-5227264\tpos=5227022\tref=G\tG\t-0.13429627\n",
      "chr11:5227021-5227208\tchr11:5226964-5227264\tpos=5227022\tref=G\tC\t-0.13427994\n"
     ]
    }
   ],
   "source": [
    "FDIRY=/hpc/group/igvf/revathy/Blueplots/predictions\n",
    "FNAME=K562_MSELoss_biased_downsampled.txt\n",
    "FPATH=${FDIRY}/${FNAME}\n",
    "cat ${FPATH} | head -n 6"
   ]
  },
  {
   "cell_type": "code",
   "execution_count": 8,
   "id": "02f374b4-a545-479f-9732-d4701774a989",
   "metadata": {},
   "outputs": [
    {
     "name": "stdout",
     "output_type": "stream",
     "text": [
      "-187\n"
     ]
    }
   ],
   "source": [
    "echo $((5227021-5227208))"
   ]
  },
  {
   "cell_type": "code",
   "execution_count": 9,
   "id": "a4676447-9d60-4169-b5f8-d35e0e801275",
   "metadata": {},
   "outputs": [
    {
     "name": "stdout",
     "output_type": "stream",
     "text": [
      "-300\n"
     ]
    }
   ],
   "source": [
    "echo $((5226964-5227264))"
   ]
  },
  {
   "cell_type": "code",
   "execution_count": null,
   "id": "5125e0c2-ce7f-498e-86c4-05f83562227c",
   "metadata": {},
   "outputs": [],
   "source": []
  },
  {
   "cell_type": "code",
   "execution_count": null,
   "id": "d323d300-9ad3-4307-b992-b5b08cd94b2d",
   "metadata": {},
   "outputs": [],
   "source": []
  },
  {
   "cell_type": "code",
   "execution_count": null,
   "id": "277f6815-bdca-419b-873b-fd50146e4aa3",
   "metadata": {},
   "outputs": [],
   "source": []
  },
  {
   "cell_type": "code",
   "execution_count": 12,
   "id": "1a45f044-e0eb-4047-a092-870236a3bf83",
   "metadata": {},
   "outputs": [],
   "source": []
  },
  {
   "cell_type": "code",
   "execution_count": 19,
   "id": "76478fca-2d56-4862-8a45-5e59840d6eb1",
   "metadata": {},
   "outputs": [
    {
     "name": "stdout",
     "output_type": "stream",
     "text": [
      "chr11:5227021-5227208\tchr11:5226964-5227264\tpos=5227021\tref=G\tG\t-0.13429627\n",
      "chr11:5227021-5227208\tchr11:5226964-5227264\tpos=5227022\tref=G\tG\t-0.13429627\n",
      "chr11:5227021-5227208\tchr11:5226964-5227264\tpos=5227121\tref=C\tG\t-0.13295689\n",
      "chr11:5249804-5250078\tchr11:5249791-5250091\tpos=5249804\tref=G\tG\t0.12685554\n"
     ]
    }
   ],
   "source": [
    "### set file directory\n",
    "FDIRY=/hpc/group/igvf/revathy/Blueplots/predictions\n",
    "FNAME=K562_MSELoss_biased_downsampled.txt\n",
    "FPATH=${FDIRY}/${FNAME}\n",
    "\n",
    "### set region and position\n",
    "TXT_REGION=chr11:5227021-5227208\n",
    "NUM_POSITION=5227021\n",
    "cat ${FPATH} | grep ${TXT_REGION} | grep ${NUM_POSITION} | head -n 1\n",
    "\n",
    "### set region and position\n",
    "TXT_REGION=chr11:5227021-5227208\n",
    "NUM_POSITION=5227022\n",
    "cat ${FPATH} | grep ${TXT_REGION} | grep ${NUM_POSITION} | head -n 1\n",
    "\n",
    "### set region and position\n",
    "TXT_REGION=chr11:5227021-5227208\n",
    "NUM_POSITION=5227121\n",
    "cat ${FPATH} | grep ${TXT_REGION} | grep ${NUM_POSITION} | head -n 1\n",
    "\n",
    "### set region and position\n",
    "TXT_REGION=chr11:5249804-5250078\n",
    "NUM_POSITION=5249804\n",
    "cat ${FPATH} | grep ${TXT_REGION} | grep ${NUM_POSITION} | head -n 1"
   ]
  },
  {
   "cell_type": "code",
   "execution_count": null,
   "id": "c2e3802d-f50c-416b-95b7-14e174662146",
   "metadata": {},
   "outputs": [],
   "source": []
  },
  {
   "cell_type": "code",
   "execution_count": null,
   "id": "701d2ed7-d63c-4b00-99ef-9940c947768a",
   "metadata": {},
   "outputs": [],
   "source": []
  }
 ],
 "metadata": {
  "kernelspec": {
   "display_name": "Bash",
   "language": "bash",
   "name": "bash"
  },
  "language_info": {
   "codemirror_mode": "shell",
   "file_extension": ".sh",
   "mimetype": "text/x-sh",
   "name": "bash"
  }
 },
 "nbformat": 4,
 "nbformat_minor": 5
}
