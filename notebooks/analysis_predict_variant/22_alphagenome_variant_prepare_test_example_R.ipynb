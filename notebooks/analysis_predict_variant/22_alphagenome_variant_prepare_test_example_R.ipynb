{
 "cells": [
  {
   "cell_type": "raw",
   "id": "545c62ea-4d27-417c-883a-f9bbc45e87e0",
   "metadata": {},
   "source": [
    "---\n",
    "title: Test Alphagenome\n",
    "subtitle: Test to run alphagenome on a variant\n",
    "format:\n",
    "    html:\n",
    "        code-fold:  true\n",
    "        code-tools: true\n",
    "---"
   ]
  },
  {
   "cell_type": "markdown",
   "id": "5545b9b5-817d-4e11-aea2-523db9e35ff8",
   "metadata": {},
   "source": [
    "**Set environment**"
   ]
  },
  {
   "cell_type": "code",
   "execution_count": 5,
   "id": "e935c58b-f0db-4d53-ad97-bdad63878973",
   "metadata": {},
   "outputs": [
    {
     "name": "stdout",
     "output_type": "stream",
     "text": [
      "BASE DIRECTORY (FD_BASE): /hpc/group/igvf/kk319 \n",
      "REPO DIRECTORY (FD_REPO): /hpc/group/igvf/kk319/repo \n",
      "WORK DIRECTORY (FD_WORK): /hpc/group/igvf/kk319/work \n",
      "DATA DIRECTORY (FD_DATA): /hpc/group/igvf/kk319/data \n",
      "\n",
      "You are working with      IGVF BlueSTARR \n",
      "PATH OF PROJECT (FD_PRJ): /hpc/group/igvf/kk319/repo/Proj_IGVF_BlueSTARR \n",
      "PROJECT RESULTS (FD_RES): /hpc/group/igvf/kk319/repo/Proj_IGVF_BlueSTARR/results \n",
      "PROJECT SCRIPTS (FD_EXE): /hpc/group/igvf/kk319/repo/Proj_IGVF_BlueSTARR/scripts \n",
      "PROJECT DATA    (FD_DAT): /hpc/group/igvf/kk319/repo/Proj_IGVF_BlueSTARR/data \n",
      "PROJECT NOTE    (FD_NBK): /hpc/group/igvf/kk319/repo/Proj_IGVF_BlueSTARR/notebooks \n",
      "PROJECT DOCS    (FD_DOC): /hpc/group/igvf/kk319/repo/Proj_IGVF_BlueSTARR/docs \n",
      "PROJECT LOG     (FD_LOG): /hpc/group/igvf/kk319/repo/Proj_IGVF_BlueSTARR/log \n",
      "PROJECT REF     (FD_REF): /hpc/group/igvf/kk319/repo/Proj_IGVF_BlueSTARR/references \n",
      "\n"
     ]
    }
   ],
   "source": [
    "suppressMessages(suppressWarnings(source(\"../run_config_project.R\")))\n",
    "show_env()"
   ]
  },
  {
   "cell_type": "markdown",
   "id": "607ec76e-abec-4787-83f8-dce72aa35490",
   "metadata": {},
   "source": [
    "## Prepare an example variant file"
   ]
  },
  {
   "cell_type": "code",
   "execution_count": 6,
   "id": "7cc2ff45-353e-401a-9642-cf102975bccf",
   "metadata": {},
   "outputs": [
    {
     "data": {
      "text/html": [
       "<table class=\"dataframe\">\n",
       "<caption>A data.frame: 10 × 4</caption>\n",
       "<thead>\n",
       "\t<tr><th scope=col>Region</th><th scope=col>Position</th><th scope=col>Ref</th><th scope=col>Alt</th></tr>\n",
       "\t<tr><th scope=col>&lt;chr&gt;</th><th scope=col>&lt;dbl&gt;</th><th scope=col>&lt;chr&gt;</th><th scope=col>&lt;chr&gt;</th></tr>\n",
       "</thead>\n",
       "<tbody>\n",
       "\t<tr><td>chr11:5227021-5227208</td><td>5227021</td><td>G</td><td>C</td></tr>\n",
       "\t<tr><td>chr11:5227021-5227208</td><td>5227021</td><td>G</td><td>C</td></tr>\n",
       "\t<tr><td>chr11:5227021-5227208</td><td>5227021</td><td>G</td><td>C</td></tr>\n",
       "\t<tr><td>chr11:5227021-5227208</td><td>5227021</td><td>G</td><td>C</td></tr>\n",
       "\t<tr><td>chr11:5227021-5227208</td><td>5227021</td><td>G</td><td>C</td></tr>\n",
       "\t<tr><td>chr11:5227021-5227208</td><td>5227021</td><td>G</td><td>C</td></tr>\n",
       "\t<tr><td>chr11:5227021-5227208</td><td>5227021</td><td>G</td><td>C</td></tr>\n",
       "\t<tr><td>chr11:5227021-5227208</td><td>5227021</td><td>G</td><td>C</td></tr>\n",
       "\t<tr><td>chr11:5227021-5227208</td><td>5227021</td><td>G</td><td>C</td></tr>\n",
       "\t<tr><td>chr11:5227021-5227208</td><td>5227021</td><td>G</td><td>C</td></tr>\n",
       "</tbody>\n",
       "</table>\n"
      ],
      "text/latex": [
       "A data.frame: 10 × 4\n",
       "\\begin{tabular}{llll}\n",
       " Region & Position & Ref & Alt\\\\\n",
       " <chr> & <dbl> & <chr> & <chr>\\\\\n",
       "\\hline\n",
       "\t chr11:5227021-5227208 & 5227021 & G & C\\\\\n",
       "\t chr11:5227021-5227208 & 5227021 & G & C\\\\\n",
       "\t chr11:5227021-5227208 & 5227021 & G & C\\\\\n",
       "\t chr11:5227021-5227208 & 5227021 & G & C\\\\\n",
       "\t chr11:5227021-5227208 & 5227021 & G & C\\\\\n",
       "\t chr11:5227021-5227208 & 5227021 & G & C\\\\\n",
       "\t chr11:5227021-5227208 & 5227021 & G & C\\\\\n",
       "\t chr11:5227021-5227208 & 5227021 & G & C\\\\\n",
       "\t chr11:5227021-5227208 & 5227021 & G & C\\\\\n",
       "\t chr11:5227021-5227208 & 5227021 & G & C\\\\\n",
       "\\end{tabular}\n"
      ],
      "text/markdown": [
       "\n",
       "A data.frame: 10 × 4\n",
       "\n",
       "| Region &lt;chr&gt; | Position &lt;dbl&gt; | Ref &lt;chr&gt; | Alt &lt;chr&gt; |\n",
       "|---|---|---|---|\n",
       "| chr11:5227021-5227208 | 5227021 | G | C |\n",
       "| chr11:5227021-5227208 | 5227021 | G | C |\n",
       "| chr11:5227021-5227208 | 5227021 | G | C |\n",
       "| chr11:5227021-5227208 | 5227021 | G | C |\n",
       "| chr11:5227021-5227208 | 5227021 | G | C |\n",
       "| chr11:5227021-5227208 | 5227021 | G | C |\n",
       "| chr11:5227021-5227208 | 5227021 | G | C |\n",
       "| chr11:5227021-5227208 | 5227021 | G | C |\n",
       "| chr11:5227021-5227208 | 5227021 | G | C |\n",
       "| chr11:5227021-5227208 | 5227021 | G | C |\n",
       "\n"
      ],
      "text/plain": [
       "   Region                Position Ref Alt\n",
       "1  chr11:5227021-5227208 5227021  G   C  \n",
       "2  chr11:5227021-5227208 5227021  G   C  \n",
       "3  chr11:5227021-5227208 5227021  G   C  \n",
       "4  chr11:5227021-5227208 5227021  G   C  \n",
       "5  chr11:5227021-5227208 5227021  G   C  \n",
       "6  chr11:5227021-5227208 5227021  G   C  \n",
       "7  chr11:5227021-5227208 5227021  G   C  \n",
       "8  chr11:5227021-5227208 5227021  G   C  \n",
       "9  chr11:5227021-5227208 5227021  G   C  \n",
       "10 chr11:5227021-5227208 5227021  G   C  "
      ]
     },
     "metadata": {},
     "output_type": "display_data"
    }
   ],
   "source": [
    "txt_region   = \"chr11:5227021-5227208\"\n",
    "num_position = 5227021\n",
    "txt_base_ref = \"G\"\n",
    "txt_base_alt = \"C\"\n",
    "\n",
    "dat = data.frame(\n",
    "    \"Region\"   = txt_region, \n",
    "    \"Position\" = num_position,\n",
    "    \"Ref\"      = txt_base_ref,\n",
    "    \"Alt\"      = txt_base_alt,\n",
    "    stringsAsFactors = FALSE\n",
    ")\n",
    "\n",
    "dat = bind_rows(replicate(10, dat, simplify = FALSE))\n",
    "dat"
   ]
  },
  {
   "cell_type": "markdown",
   "id": "e267a488-78fd-4056-a90d-f1e6285d0502",
   "metadata": {},
   "source": [
    "## Export results"
   ]
  },
  {
   "cell_type": "code",
   "execution_count": 7,
   "id": "1ce813c7-a39c-4350-a66b-5b7c5898373f",
   "metadata": {},
   "outputs": [],
   "source": [
    "txt_fdiry = file.path(FD_RES, \"predict_variant_kircher2019\")\n",
    "txt_fname = \"variant.test.example.tsv\"\n",
    "txt_fpath = file.path(txt_fdiry, txt_fname)\n",
    "\n",
    "write_tsv(dat, txt_fpath, col_names = FALSE)"
   ]
  },
  {
   "cell_type": "code",
   "execution_count": null,
   "id": "df72e853-779c-4dc6-92c2-f4c39434018c",
   "metadata": {},
   "outputs": [],
   "source": []
  }
 ],
 "metadata": {
  "kernelspec": {
   "display_name": "R",
   "language": "R",
   "name": "ir"
  },
  "language_info": {
   "codemirror_mode": "r",
   "file_extension": ".r",
   "mimetype": "text/x-r-source",
   "name": "R",
   "pygments_lexer": "r",
   "version": "4.5.1"
  }
 },
 "nbformat": 4,
 "nbformat_minor": 5
}
