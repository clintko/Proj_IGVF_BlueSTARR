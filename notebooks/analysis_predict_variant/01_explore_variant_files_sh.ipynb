{
 "cells": [
  {
   "cell_type": "raw",
   "id": "8945836a-dfcc-48d6-927a-7d6919a1edd0",
   "metadata": {},
   "source": [
    "---\n",
    "title: Explore Kircher et al 2019 data\n",
    "subtitle: Learn how the file `Kircher_region_chunk.txt` is generated\n",
    "format:\n",
    "    html:\n",
    "        code-fold:  true\n",
    "        code-tools: true\n",
    "---"
   ]
  },
  {
   "cell_type": "markdown",
   "id": "314e3f40-c577-4262-be91-00a1f78b9215",
   "metadata": {},
   "source": [
    "## View the file"
   ]
  },
  {
   "cell_type": "code",
   "execution_count": 1,
   "id": "05c7827e-b674-4905-8c12-84b3bfec589b",
   "metadata": {},
   "outputs": [
    {
     "name": "stdout",
     "output_type": "stream",
     "text": [
      "chr11:5227021-5227208\t5227021:ref=G:G,C,A,T\t5227022:ref=G:G,C,A,T\t5227023:ref=T:G,C,A,T\t5227024:ref=G:G,C,A,T\t5227025:ref=T:G,C,A,T\t5227026:ref=C:G,C,A,T\t5227027:ref=T:G,C,A,T\t5227028:ref=G:G,C,A,T\t5227029:ref=T:G,C,A,T\t5227030:ref=T:G,C,A,T\t5227031:ref=T:G,C,A,T\t5227032:ref=G:G,C,A,T\t5227033:ref=A:G,C,A,T\t5227034:ref=G:G,C,A,T\t5227035:ref=G:G,C,A,T\t5227036:ref=T:G,C,A,T\t5227037:ref=T:G,C,A,T\t5227038:ref=G:G,C,A,T\t5227039:ref=C:G,C,A,T\t5227040:ref=T:G,C,A,T\t5227041:ref=A:G,C,A,T\t5227042:ref=G:G,C,A,T\t5227043:ref=T:G,C,A,T\t5227044:ref=G:G,C,A,T\t5227045:ref=A:G,C,A,T\t5227046:ref=A:G,C,A,T\t5227047:ref=C:G,C,A,T\t5227048:ref=A:G,C,A,T\t5227049:ref=C:G,C,A,T\t5227050:ref=A:G,C,A,T\t5227051:ref=G:G,C,A,T\t5227052:ref=T:G,C,A,T\t5227053:ref=T:G,C,A,T\t5227054:ref=G:G,C,A,T\t5227055:ref=T:G,C,A,T\t5227056:ref=G:G,C,A,T\t5227057:ref=T:G,C,A,T\t5227058:ref=C:G,C,A,T\t5227059:ref=A:G,C,A,T\t5227060:ref=G:G,C,A,T\t5227061:ref=A:G,C,A,T\t5227062:ref=A:G,C,A,T\t5227063:ref=G:G,C,A,T\t5227064:ref=C:G,C,A,T\t5227065:ref=A:G,C,A,T\t5227066:ref=A:G,C,A,T\t5227067:ref=A:G,C,A,T\t5227068:ref=T:G,C,A,T\t5227069:ref=G:G,C,A,T\t5227070:ref=T:G,C,A,T\t5227071:ref=A:G,C,A,T\t5227072:ref=A:G,C,A,T\t5227073:ref=G:G,C,A,T\t5227074:ref=C:G,C,A,T\t5227075:ref=A:G,C,A,T\t5227076:ref=A:G,C,A,T\t5227077:ref=T:G,C,A,T\t5227078:ref=A:G,C,A,T\t5227079:ref=G:G,C,A,T\t5227080:ref=A:G,C,A,T\t5227081:ref=T:G,C,A,T\t5227082:ref=G:G,C,A,T\t5227083:ref=G:G,C,A,T\t5227084:ref=C:G,C,A,T\t5227085:ref=T:G,C,A,T\t5227086:ref=C:G,C,A,T\t5227087:ref=T:G,C,A,T\t5227088:ref=G:G,C,A,T\t5227089:ref=C:G,C,A,T\t5227090:ref=C:G,C,A,T\t5227091:ref=C:G,C,A,T\t5227092:ref=T:G,C,A,T\t5227093:ref=G:G,C,A,T\t5227094:ref=A:G,C,A,T\t5227095:ref=C:G,C,A,T\t5227096:ref=T:G,C,A,T\t5227097:ref=T:G,C,A,T\t5227098:ref=T:G,C,A,T\t5227099:ref=T:G,C,A,T\t5227100:ref=A:G,C,A,T\t5227101:ref=T:G,C,A,T\t5227102:ref=G:G,C,A,T\t5227103:ref=C:G,C,A,T\t5227104:ref=C:G,C,A,T\t5227105:ref=C:G,C,A,T\t5227106:ref=A:G,C,A,T\t5227107:ref=G:G,C,A,T\t5227108:ref=C:G,C,A,T\t5227109:ref=C:G,C,A,T\t5227110:ref=C:G,C,A,T\t5227111:ref=T:G,C,A,T\t5227112:ref=G:G,C,A,T\t5227113:ref=G:G,C,A,T\t5227114:ref=C:G,C,A,T\t5227115:ref=T:G,C,A,T\t5227116:ref=C:G,C,A,T\t5227117:ref=C:G,C,A,T\t5227118:ref=T:G,C,A,T\t5227119:ref=G:G,C,A,T\t5227120:ref=C:G,C,A,T\t5227121:ref=C:G,C,A,T\t5227122:ref=C:G,C,A,T\t5227123:ref=T:G,C,A,T\t5227124:ref=C:G,C,A,T\t5227125:ref=C:G,C,A,T\t5227126:ref=C:G,C,A,T\t5227127:ref=T:G,C,A,T\t5227128:ref=G:G,C,A,T\t5227129:ref=C:G,C,A,T\t5227130:ref=T:G,C,A,T\t5227131:ref=C:G,C,A,T\t5227132:ref=C:G,C,A,T\t5227133:ref=T:G,C,A,T\t5227134:ref=G:G,C,A,T\t5227135:ref=G:G,C,A,T\t5227136:ref=G:G,C,A,T\t5227137:ref=A:G,C,A,T\t5227138:ref=G:G,C,A,T\t5227139:ref=T:G,C,A,T\t5227140:ref=A:G,C,A,T\t5227141:ref=G:G,C,A,T\t5227142:ref=A:G,C,A,T\t5227143:ref=T:G,C,A,T\t5227144:ref=T:G,C,A,T\t5227145:ref=G:G,C,A,T\t5227146:ref=G:G,C,A,T\t5227147:ref=C:G,C,A,T\t5227148:ref=C:G,C,A,T\t5227149:ref=A:G,C,A,T\t5227150:ref=A:G,C,A,T\t5227151:ref=C:G,C,A,T\t5227152:ref=C:G,C,A,T\t5227153:ref=C:G,C,A,T\t5227154:ref=T:G,C,A,T\t5227155:ref=A:G,C,A,T\t5227156:ref=G:G,C,A,T\t5227157:ref=G:G,C,A,T\t5227158:ref=G:G,C,A,T\t5227159:ref=T:G,C,A,T\t5227160:ref=G:G,C,A,T\t5227161:ref=T:G,C,A,T\t5227162:ref=G:G,C,A,T\t5227163:ref=G:G,C,A,T\t5227164:ref=C:G,C,A,T\t5227165:ref=T:G,C,A,T\t5227166:ref=C:G,C,A,T\t5227167:ref=C:G,C,A,T\t5227168:ref=A:G,C,A,T\t5227169:ref=C:G,C,A,T\t5227170:ref=A:G,C,A,T\t5227171:ref=G:G,C,A,T\t5227172:ref=G:G,C,A,T\t5227173:ref=G:G,C,A,T\t5227174:ref=T:G,C,A,T\t5227175:ref=G:G,C,A,T\t5227176:ref=A:G,C,A,T\t5227177:ref=G:G,C,A,T\t5227178:ref=G:G,C,A,T\t5227179:ref=T:G,C,A,T\t5227180:ref=C:G,C,A,T\t5227181:ref=T:G,C,A,T\t5227182:ref=A:G,C,A,T\t5227183:ref=A:G,C,A,T\t5227184:ref=G:G,C,A,T\t5227185:ref=T:G,C,A,T\t5227186:ref=G:G,C,A,T\t5227187:ref=A:G,C,A,T\t5227188:ref=T:G,C,A,T\t5227189:ref=G:G,C,A,T\t5227190:ref=A:G,C,A,T\t5227191:ref=C:G,C,A,T\t5227192:ref=A:G,C,A,T\t5227193:ref=G:G,C,A,T\t5227194:ref=C:G,C,A,T\t5227195:ref=C:G,C,A,T\t5227196:ref=G:G,C,A,T\t5227197:ref=T:G,C,A,T\t5227198:ref=A:G,C,A,T\t5227199:ref=C:G,C,A,T\t5227200:ref=C:G,C,A,T\t5227201:ref=T:G,C,A,T\t5227202:ref=G:G,C,A,T\t5227203:ref=T:G,C,A,T\t5227204:ref=C:G,C,A,T\t5227205:ref=C:G,C,A,T\t5227206:ref=T:G,C,A,T\t5227207:ref=T:G,C,A,T\t\n"
     ]
    }
   ],
   "source": [
    "FDIRY=/hpc/group/igvf/K562/mdl_eval/BlueSTARR_vs_DeltaSVM/Kircher_entire_regions\n",
    "FNAME=Kircher_region_chunk.txt\n",
    "FPATH=${FDIRY}/${FNAME}\n",
    "cat ${FPATH} | head -n 1"
   ]
  },
  {
   "cell_type": "code",
   "execution_count": 2,
   "id": "6f43d368-ec1e-4951-9fa9-95fb8205ec75",
   "metadata": {},
   "outputs": [
    {
     "name": "stdout",
     "output_type": "stream",
     "text": [
      "chr11:5249804-5250078\t5249804:ref=G:G,C,A,T\t5249805:ref=G:G,C,A,T\t5249806:ref=C:G,C,A,T\t5249807:ref=G:G,C,A,T\t5249808:ref=T:G,C,A,T\t5249809:ref=C:G,C,A,T\t5249810:ref=T:G,C,A,T\t5249811:ref=G:G,C,A,T\t5249812:ref=G:G,C,A,T\t5249813:ref=A:G,C,A,T\t5249814:ref=C:G,C,A,T\t5249815:ref=T:G,C,A,T\t5249816:ref=A:G,C,A,T\t5249817:ref=G:G,C,A,T\t5249818:ref=G:G,C,A,T\t5249819:ref=A:G,C,A,T\t5249820:ref=G:G,C,A,T\t5249821:ref=C:G,C,A,T\t5249822:ref=T:G,C,A,T\t5249823:ref=T:G,C,A,T\t5249824:ref=A:G,C,A,T\t5249825:ref=T:G,C,A,T\t5249826:ref=T:G,C,A,T\t5249827:ref=G:G,C,A,T\t5249828:ref=A:G,C,A,T\t5249829:ref=T:G,C,A,T\t5249830:ref=A:G,C,A,T\t5249831:ref=A:G,C,A,T\t5249832:ref=C:G,C,A,T\t5249833:ref=C:G,C,A,T\t5249834:ref=T:G,C,A,T\t5249835:ref=C:G,C,A,T\t5249836:ref=A:G,C,A,T\t5249837:ref=G:G,C,A,T\t5249838:ref=A:G,C,A,T\t5249839:ref=C:G,C,A,T\t5249840:ref=G:G,C,A,T\t5249841:ref=T:G,C,A,T\t5249842:ref=T:G,C,A,T\t5249843:ref=C:G,C,A,T\t5249844:ref=C:G,C,A,T\t5249845:ref=A:G,C,A,T\t5249846:ref=G:G,C,A,T\t5249847:ref=A:G,C,A,T\t5249848:ref=A:G,C,A,T\t5249849:ref=G:G,C,A,T\t5249850:ref=C:G,C,A,T\t5249851:ref=G:G,C,A,T\t5249852:ref=A:G,C,A,T\t5249853:ref=G:G,C,A,T\t5249854:ref=T:G,C,A,T\t5249855:ref=G:G,C,A,T\t5249856:ref=T:G,C,A,T\t5249857:ref=G:G,C,A,T\t5249858:ref=T:G,C,A,T\t5249859:ref=G:G,C,A,T\t5249860:ref=G:G,C,A,T\t5249861:ref=A:G,C,A,T\t5249862:ref=A:G,C,A,T\t5249863:ref=C:G,C,A,T\t5249864:ref=T:G,C,A,T\t5249865:ref=G:G,C,A,T\t5249866:ref=C:G,C,A,T\t5249867:ref=T:G,C,A,T\t5249868:ref=G:G,C,A,T\t5249869:ref=A:G,C,A,T\t5249870:ref=A:G,C,A,T\t5249871:ref=G:G,C,A,T\t5249872:ref=G:G,C,A,T\t5249873:ref=G:G,C,A,T\t5249874:ref=T:G,C,A,T\t5249875:ref=G:G,C,A,T\t5249876:ref=C:G,C,A,T\t5249877:ref=T:G,C,A,T\t5249878:ref=T:G,C,A,T\t5249879:ref=C:G,C,A,T\t5249880:ref=C:G,C,A,T\t5249881:ref=T:G,C,A,T\t5249882:ref=T:G,C,A,T\t5249883:ref=T:G,C,A,T\t5249884:ref=T:G,C,A,T\t5249885:ref=A:G,C,A,T\t5249886:ref=T:G,C,A,T\t5249887:ref=T:G,C,A,T\t5249888:ref=C:G,C,A,T\t5249889:ref=T:G,C,A,T\t5249890:ref=T:G,C,A,T\t5249891:ref=C:G,C,A,T\t5249892:ref=A:G,C,A,T\t5249893:ref=T:G,C,A,T\t5249894:ref=C:G,C,A,T\t5249895:ref=C:G,C,A,T\t5249896:ref=C:G,C,A,T\t5249897:ref=T:G,C,A,T\t5249898:ref=A:G,C,A,T\t5249899:ref=G:G,C,A,T\t5249900:ref=C:G,C,A,T\t5249901:ref=C:G,C,A,T\t5249902:ref=A:G,C,A,T\t5249903:ref=G:G,C,A,T\t5249904:ref=C:G,C,A,T\t5249905:ref=C:G,C,A,T\t5249906:ref=G:G,C,A,T\t5249907:ref=C:G,C,A,T\t5249908:ref=C:G,C,A,T\t5249909:ref=G:G,C,A,T\t5249910:ref=G:G,C,A,T\t5249911:ref=C:G,C,A,T\t5249912:ref=C:G,C,A,T\t5249913:ref=C:G,C,A,T\t5249914:ref=C:G,C,A,T\t5249915:ref=T:G,C,A,T\t5249916:ref=G:G,C,A,T\t5249917:ref=G:G,C,A,T\t5249918:ref=C:G,C,A,T\t5249919:ref=C:G,C,A,T\t5249920:ref=T:G,C,A,T\t5249921:ref=C:G,C,A,T\t5249922:ref=A:G,C,A,T\t5249923:ref=C:G,C,A,T\t5249924:ref=T:G,C,A,T\t5249925:ref=G:G,C,A,T\t5249926:ref=G:G,C,A,T\t5249927:ref=A:G,C,A,T\t5249928:ref=T:G,C,A,T\t5249929:ref=A:G,C,A,T\t5249930:ref=C:G,C,A,T\t5249931:ref=T:G,C,A,T\t5249932:ref=C:G,C,A,T\t5249933:ref=T:G,C,A,T\t5249934:ref=A:G,C,A,T\t5249935:ref=A:G,C,A,T\t5249936:ref=G:G,C,A,T\t5249937:ref=A:G,C,A,T\t5249938:ref=C:G,C,A,T\t5249939:ref=T:G,C,A,T\t5249940:ref=A:G,C,A,T\t5249941:ref=T:G,C,A,T\t5249942:ref=T:G,C,A,T\t5249943:ref=G:G,C,A,T\t5249944:ref=G:G,C,A,T\t5249945:ref=T:G,C,A,T\t5249946:ref=C:G,C,A,T\t5249947:ref=A:G,C,A,T\t5249948:ref=A:G,C,A,T\t5249949:ref=G:G,C,A,T\t5249950:ref=T:G,C,A,T\t5249951:ref=T:G,C,A,T\t5249952:ref=T:G,C,A,T\t5249953:ref=G:G,C,A,T\t5249954:ref=C:G,C,A,T\t5249955:ref=C:G,C,A,T\t5249956:ref=T:G,C,A,T\t5249957:ref=T:G,C,A,T\t5249958:ref=G:G,C,A,T\t5249959:ref=T:G,C,A,T\t5249960:ref=C:G,C,A,T\t5249961:ref=A:G,C,A,T\t5249962:ref=A:G,C,A,T\t5249963:ref=G:G,C,A,T\t5249964:ref=G:G,C,A,T\t5249965:ref=C:G,C,A,T\t5249966:ref=T:G,C,A,T\t5249967:ref=A:G,C,A,T\t5249968:ref=T:G,C,A,T\t5249969:ref=T:G,C,A,T\t5249970:ref=G:G,C,A,T\t5249971:ref=G:G,C,A,T\t5249972:ref=T:G,C,A,T\t5249973:ref=C:G,C,A,T\t5249974:ref=A:G,C,A,T\t5249975:ref=A:G,C,A,T\t5249976:ref=G:G,C,A,T\t5249977:ref=G:G,C,A,T\t5249978:ref=C:G,C,A,T\t5249979:ref=A:G,C,A,T\t5249980:ref=A:G,C,A,T\t5249981:ref=G:G,C,A,T\t5249982:ref=G:G,C,A,T\t5249983:ref=C:G,C,A,T\t5249984:ref=T:G,C,A,T\t5249985:ref=G:G,C,A,T\t5249986:ref=G:G,C,A,T\t5249987:ref=C:G,C,A,T\t5249988:ref=C:G,C,A,T\t5249989:ref=A:G,C,A,T\t5249990:ref=A:G,C,A,T\t5249991:ref=C:G,C,A,T\t5249992:ref=C:G,C,A,T\t5249993:ref=C:G,C,A,T\t5249994:ref=A:G,C,A,T\t5249995:ref=T:G,C,A,T\t5249996:ref=G:G,C,A,T\t5249997:ref=G:G,C,A,T\t5249998:ref=G:G,C,A,T\t5249999:ref=T:G,C,A,T\t5250000:ref=G:G,C,A,T\t5250001:ref=G:G,C,A,T\t5250002:ref=A:G,C,A,T\t5250003:ref=G:G,C,A,T\t5250004:ref=T:G,C,A,T\t5250005:ref=T:G,C,A,T\t5250006:ref=T:G,C,A,T\t5250007:ref=A:G,C,A,T\t5250008:ref=G:G,C,A,T\t5250009:ref=C:G,C,A,T\t5250010:ref=C:G,C,A,T\t5250011:ref=A:G,C,A,T\t5250012:ref=G:G,C,A,T\t5250013:ref=G:G,C,A,T\t5250014:ref=G:G,C,A,T\t5250015:ref=A:G,C,A,T\t5250016:ref=C:G,C,A,T\t5250017:ref=C:G,C,A,T\t5250018:ref=G:G,C,A,T\t5250019:ref=T:G,C,A,T\t5250020:ref=T:G,C,A,T\t5250021:ref=T:G,C,A,T\t5250022:ref=C:G,C,A,T\t5250023:ref=A:G,C,A,T\t5250024:ref=G:G,C,A,T\t5250025:ref=A:G,C,A,T\t5250026:ref=C:G,C,A,T\t5250027:ref=A:G,C,A,T\t5250028:ref=G:G,C,A,T\t5250029:ref=A:G,C,A,T\t5250030:ref=T:G,C,A,T\t5250031:ref=A:G,C,A,T\t5250032:ref=T:G,C,A,T\t5250033:ref=T:G,C,A,T\t5250034:ref=T:G,C,A,T\t5250035:ref=G:G,C,A,T\t5250036:ref=C:G,C,A,T\t5250037:ref=A:G,C,A,T\t5250038:ref=T:G,C,A,T\t5250039:ref=T:G,C,A,T\t5250040:ref=G:G,C,A,T\t5250041:ref=A:G,C,A,T\t5250042:ref=G:G,C,A,T\t5250043:ref=A:G,C,A,T\t5250044:ref=T:G,C,A,T\t5250045:ref=A:G,C,A,T\t5250046:ref=G:G,C,A,T\t5250047:ref=T:G,C,A,T\t5250048:ref=G:G,C,A,T\t5250049:ref=T:G,C,A,T\t5250050:ref=G:G,C,A,T\t5250051:ref=G:G,C,A,T\t5250052:ref=G:G,C,A,T\t5250053:ref=G:G,C,A,T\t5250054:ref=A:G,C,A,T\t5250055:ref=A:G,C,A,T\t5250056:ref=G:G,C,A,T\t5250057:ref=G:G,C,A,T\t5250058:ref=G:G,C,A,T\t5250059:ref=G:G,C,A,T\t5250060:ref=C:G,C,A,T\t5250061:ref=C:G,C,A,T\t5250062:ref=C:G,C,A,T\t5250063:ref=C:G,C,A,T\t5250064:ref=C:G,C,A,T\t5250065:ref=A:G,C,A,T\t5250066:ref=A:G,C,A,T\t5250067:ref=G:G,C,A,T\t5250068:ref=A:G,C,A,T\t5250069:ref=G:G,C,A,T\t5250070:ref=G:G,C,A,T\t5250071:ref=A:G,C,A,T\t5250072:ref=T:G,C,A,T\t5250073:ref=A:G,C,A,T\t5250074:ref=C:G,C,A,T\t5250075:ref=T:G,C,A,T\t5250076:ref=G:G,C,A,T\t5250077:ref=C:G,C,A,T\t\n"
     ]
    }
   ],
   "source": [
    "FDIRY=/hpc/group/igvf/K562/mdl_eval/BlueSTARR_vs_DeltaSVM/Kircher_entire_regions\n",
    "FNAME=Kircher_region_chunk.txt\n",
    "FPATH=${FDIRY}/${FNAME}\n",
    "cat ${FPATH} | head -n 2 | tail -n 1"
   ]
  },
  {
   "cell_type": "code",
   "execution_count": null,
   "id": "ad39b51b-b53d-4bdc-a61d-d76ceeef09b7",
   "metadata": {},
   "outputs": [],
   "source": []
  },
  {
   "cell_type": "code",
   "execution_count": null,
   "id": "d0f265ce-2bee-4a0d-b51c-ab38137ea321",
   "metadata": {},
   "outputs": [],
   "source": []
  },
  {
   "cell_type": "markdown",
   "id": "b487e6be-e317-40ae-b64b-047f88f1887e",
   "metadata": {},
   "source": [
    "## Original data"
   ]
  },
  {
   "cell_type": "markdown",
   "id": "c8aa5605-d6c4-432b-bb91-1394182def60",
   "metadata": {},
   "source": [
    "- Data\n",
    "    - https://kircherlab.bihealth.org/satMutMPRA/\n",
    "    - https://doi.org/10.17605/OSF.IO/75B2M\n",
    "- Reference\n",
    "    - https://www.nature.com/articles/s41467-019-11526-w\n",
    "    - https://github.com/kircherlab/MPRA_SaturationMutagenesis\n",
    "    - https://www.ncbi.nlm.nih.gov/geo/query/acc.cgi?acc=GSE126550"
   ]
  },
  {
   "cell_type": "code",
   "execution_count": 3,
   "id": "fd69ae3f-e952-4558-b35d-1ad897352587",
   "metadata": {},
   "outputs": [
    {
     "name": "stdout",
     "output_type": "stream",
     "text": [
      "total 4565\n",
      "drwxr-xr-x. 2 42834 majoroslab    502 Mar 20 13:44 Enhancers\n",
      "-rw-r--r--. 1 42834 majoroslab   1713 Mar 20 13:34 Enhancers.txt\n",
      "-rw-r--r--. 1 42834 majoroslab 111164 Mar  6 21:08 GRCh38_BCL11A.tsv\n",
      "-rw-r--r--. 1 42834 majoroslab  53410 Mar  6 21:08 GRCh38_F9.tsv\n",
      "-rw-r--r--. 1 42834 majoroslab 108702 Mar  6 21:08 GRCh38_FOXE1.tsv\n",
      "-rw-r--r--. 1 42834 majoroslab  71664 Mar  6 21:08 GRCh38_GP1BA.tsv\n",
      "-rw-r--r--. 1 42834 majoroslab  33879 Mar  6 21:08 GRCh38_HBB.tsv\n",
      "-rw-r--r--. 1 42834 majoroslab  49575 Mar  6 21:56 GRCh38_HBG1.tsv\n",
      "-rw-r--r--. 1 42834 majoroslab  54775 Mar  6 21:57 GRCh38_HNF4A.tsv\n",
      "-rw-r--r--. 1 42834 majoroslab  81091 Mar  6 21:57 GRCh38_IRF4.tsv\n",
      "-rw-r--r--. 1 42834 majoroslab 105057 Mar  6 21:57 GRCh38_IRF6.tsv\n",
      "-rw-r--r--. 1 42834 majoroslab  59475 Mar  6 21:58 GRCh38_LDLR.2.tsv\n",
      "-rw-r--r--. 1 42834 majoroslab  59044 Mar  6 21:58 GRCh38_LDLR.tsv\n",
      "-rw-r--r--. 1 42834 majoroslab 113536 Mar  6 21:59 GRCh38_MSMB.tsv\n",
      "-rw-r--r--. 1 42834 majoroslab  89358 Mar  6 21:59 GRCh38_MYCrs11986220.tsv\n",
      "-rw-r--r--. 1 42834 majoroslab 107281 Mar  6 21:59 GRCh38_MYCrs6983267.tsv\n",
      "-rw-r--r--. 1 42834 majoroslab  95926 Mar  6 21:59 GRCh38_PKLR-24h.tsv\n",
      "-rw-r--r--. 1 42834 majoroslab  96652 Mar  6 22:06 GRCh38_PKLR-48h.tsv\n",
      "-rw-r--r--. 1 42834 majoroslab 107656 Mar  6 22:00 GRCh38_RET.tsv\n",
      "-rw-r--r--. 1 42834 majoroslab 110753 Mar  6 22:00 GRCh38_SORT1.2.tsv\n",
      "-rw-r--r--. 1 42834 majoroslab 109808 Mar  6 22:00 GRCh38_SORT1-flip.tsv\n",
      "-rw-r--r--. 1 42834 majoroslab 108063 Mar  6 22:00 GRCh38_SORT1.tsv\n",
      "-rw-r--r--. 1 42834 majoroslab 107795 Mar  6 22:00 GRCh38_TCF7L2.tsv\n",
      "-rw-r--r--. 1 42834 majoroslab  51529 Mar  6 22:01 GRCh38_TERT-GAa.tsv\n",
      "-rw-r--r--. 1 42834 majoroslab  51826 Mar  6 22:01 GRCh38_TERT-GBM.tsv\n",
      "-rw-r--r--. 1 42834 majoroslab  51619 Mar  6 22:01 GRCh38_TERT-GSc.tsv\n",
      "-rw-r--r--. 1 42834 majoroslab  50914 Mar  6 22:02 GRCh38_TERT-HEK.tsv\n",
      "-rw-r--r--. 1 42834 majoroslab 107562 Mar  6 22:02 GRCh38_UC88.tsv\n",
      "-rw-r--r--. 1 42834 majoroslab 109188 Mar  6 22:02 GRCh38_ZFAND3.tsv\n",
      "-rw-r--r--. 1 42834 majoroslab  92533 Mar  6 22:03 GRCh38_ZRSh-13h2.tsv\n",
      "-rw-r--r--. 1 42834 majoroslab  92477 Mar  6 22:07 GRCh38_ZRSh-13.tsv\n",
      "-rw-r--r--. 1 42834 majoroslab    710 Mar 22 16:01 kircher_matching_all_missing.txt\n",
      "-rw-r--r--. 1 42834 majoroslab    443 Mar 22 16:01 kircher_matching_cres_full.txt\n",
      "-rw-r--r--. 1 42834 majoroslab    299 Mar 22 16:01 kircher_matching_inter_cre.txt\n",
      "-rw-r--r--. 1 42834 majoroslab    219 Mar 22 16:01 kircher_matching_post_cre.txt\n",
      "-rw-r--r--. 1 42834 majoroslab    192 Mar 22 16:01 kircher_matching_pre_cre.txt\n",
      "-rw-r--r--. 1 42834 majoroslab    140 Mar 22 16:01 kircher_not_matching.txt\n",
      "drwxr-xr-x. 2 42834 majoroslab    521 Mar 20 13:52 Promoters\n",
      "-rw-r--r--. 1 42834 majoroslab   9673 Mar 20 13:34 Promoters-and-Enhancers.xlsx\n",
      "-rw-r--r--. 1 42834 majoroslab   1687 Mar 20 13:34 Promoters.txt\n"
     ]
    }
   ],
   "source": [
    "ls -l /hpc/group/igvf/benchmarks/Kircher_et_al_2019"
   ]
  },
  {
   "cell_type": "markdown",
   "id": "ada9a912-19ec-4a54-95f1-aac26a377be8",
   "metadata": {},
   "source": [
    "**Files are also spliteted by promoters and enhancers**"
   ]
  },
  {
   "cell_type": "code",
   "execution_count": 4,
   "id": "11b79e37-e951-4ca5-85d1-f22ecd641b0c",
   "metadata": {},
   "outputs": [
    {
     "name": "stdout",
     "output_type": "stream",
     "text": [
      "GRCh38_F9.tsv\t  GRCh38_HBG1.tsv    GRCh38_MSMB.tsv\t  GRCh38_TERT-GBM.tsv\n",
      "GRCh38_FOXE1.tsv  GRCh38_HNF4A.tsv   GRCh38_PKLR-24h.tsv  GRCh38_TERT-GSc.tsv\n",
      "GRCh38_GP1BA.tsv  GRCh38_LDLR.2.tsv  GRCh38_PKLR-48h.tsv  GRCh38_TERT-HEK.tsv\n",
      "GRCh38_HBB.tsv\t  GRCh38_LDLR.tsv    GRCh38_TERT-GAa.tsv\n"
     ]
    }
   ],
   "source": [
    "ls /hpc/group/igvf/benchmarks/Kircher_et_al_2019/Promoters"
   ]
  },
  {
   "cell_type": "code",
   "execution_count": 5,
   "id": "170392a5-32a7-4338-ad84-208808e3aee9",
   "metadata": {},
   "outputs": [
    {
     "name": "stdout",
     "output_type": "stream",
     "text": [
      "GRCh38_BCL11A.tsv\t  GRCh38_RET.tsv\t GRCh38_UC88.tsv\n",
      "GRCh38_IRF4.tsv\t\t  GRCh38_SORT1.2.tsv\t GRCh38_ZFAND3.tsv\n",
      "GRCh38_IRF6.tsv\t\t  GRCh38_SORT1-flip.tsv  GRCh38_ZRSh-13h2.tsv\n",
      "GRCh38_MYCrs11986220.tsv  GRCh38_SORT1.tsv\t GRCh38_ZRSh-13.tsv\n",
      "GRCh38_MYCrs6983267.tsv   GRCh38_TCF7L2.tsv\n"
     ]
    }
   ],
   "source": [
    "ls /hpc/group/igvf/benchmarks/Kircher_et_al_2019/Enhancers"
   ]
  },
  {
   "cell_type": "markdown",
   "id": "5d0a11c1-3a3a-4b4c-8cf6-036947bc19e2",
   "metadata": {},
   "source": [
    "**Promoters.txt and Enhancers.txt are tables from https://kircherlab.bihealth.org/satMutMPRA/**"
   ]
  },
  {
   "cell_type": "code",
   "execution_count": 6,
   "id": "9ee05e14-6315-430f-bcd3-be5148757c83",
   "metadata": {},
   "outputs": [
    {
     "name": "stdout",
     "output_type": "stream",
     "text": [
      "Name\tGenomic coordinates (GRCh37)\tGenomic coordinates (GRCh38)\tTranscript\tAssociated Phenotype\tLuciferase vector\tMPRA vector\tCell line\tTransf. time (hr)\tFold change (Wild type)\tFold Change (MPRA)\tConstruct size (bp)\n",
      "F9\t\"chrX:138,612,622-138,612,924\"\t\"chrX:139,530,463-139,530,765\"\tNM_000133.3\tHemophilia B\tpGL4.11b\tpGL4.11c\tHepG2\t24\t2.6\t2.1\t303\n",
      "FOXE1\t\"chr9:100,615,537-100,616,136\"\t\"chr9:97,853,255-97,853,854\"\tNM_004473.3\tThyroid cancer\tpGL4.11b\tpGL4.11c\tHeLa\t24\t4.2\t2.5\t600\n"
     ]
    }
   ],
   "source": [
    "cat /hpc/group/igvf/benchmarks/Kircher_et_al_2019/Promoters.txt | head -n 3"
   ]
  },
  {
   "cell_type": "code",
   "execution_count": 7,
   "id": "7e960178-2a9a-4b8a-9cf7-711e45150979",
   "metadata": {},
   "outputs": [
    {
     "name": "stdout",
     "output_type": "stream",
     "text": [
      "Name\tGenomic coordinates (GRCh37)\tGenomic coordinates (GRCh38)\tAssociated Phenotype\tLuciferase vector\tMPRA vector\tCell line\tTransf. time (hr)\tFold change (Wild type)\tFold Change (MPRA)\tConstruct size (bp)\n",
      "BCL11A+58\t\"chr2:60,722,075-60,722,674\"\t\"chr2:60,494,940-60,495,539\"\tSickle cell disease\tpGL4.23\tpGL4.23d\tHEL 92.1.7\t24\t2.5\t1.7\t600\n",
      "IRF4\t\"chr6:396,143-396,593\"\t\"chr6:396,143-396,593\"\tHuman pigmentation\tpGL4.23\tpGL4.23d\tSK-MEL-28\t24\t44.5\t16.3\t451\n"
     ]
    }
   ],
   "source": [
    "cat /hpc/group/igvf/benchmarks/Kircher_et_al_2019/Enhancers.txt | head -n 3"
   ]
  },
  {
   "cell_type": "markdown",
   "id": "bd20fcbe-9345-4d17-9fe9-e272a59edb2e",
   "metadata": {},
   "source": [
    "## Kircher data is used for BlueSTARR model evaluation"
   ]
  },
  {
   "cell_type": "code",
   "execution_count": 8,
   "id": "b5541078-95c6-444c-9eb6-1199581b8574",
   "metadata": {},
   "outputs": [
    {
     "name": "stdout",
     "output_type": "stream",
     "text": [
      "combined.input_and_output.gt_100.log2FC.sequence.txt.gz\n",
      "combined.input_and_output.gt_150.log2FC.sequence.txt.gz\n",
      "combined.input_and_output.gt_200.log2FC.sequence.txt.gz\n",
      "CRE-preds\n",
      "full-set\n",
      "K562.combined.input_and_output.w600s50.gt_200.log2FC.sequence.txt.gz\n",
      "K562.combined.input_and_output.w600s50.gt_200.thres_dna_only.log2FC.sequence.txt.gz\n",
      "leave-one-out\n",
      "mdl_eval\n",
      "README.md\n"
     ]
    }
   ],
   "source": [
    "ls /hpc/group/igvf/K562"
   ]
  },
  {
   "cell_type": "code",
   "execution_count": 9,
   "id": "0ffe8e04-0b9a-4014-807b-ab2be18ae2fa",
   "metadata": {},
   "outputs": [
    {
     "name": "stdout",
     "output_type": "stream",
     "text": [
      "BlueSTARR_vs_DeltaSVM  slurm-biased  slurm-unbiased\n"
     ]
    }
   ],
   "source": [
    "ls /hpc/group/igvf/K562/mdl_eval"
   ]
  },
  {
   "cell_type": "code",
   "execution_count": 10,
   "id": "351eb3f4-476e-4b2c-b964-1d15fa37e822",
   "metadata": {},
   "outputs": [
    {
     "name": "stdout",
     "output_type": "stream",
     "text": [
      "AUC-ROC.ipynb\t\t\t    get_Kircher_chunks.ipynb\n",
      "blue_bird_delta_enh_counts.csv.gz   get_Kircher_pred.py\n",
      "blue_bird_delta_enh.csv.gz\t    Kircher_entire_regions\n",
      "blue_bird_delta_prom_counts.csv.gz  Kircher_infilled_regions\n",
      "blue_bird_delta_prom.csv.gz\t    parquets_K562_bluestarr\n",
      "blue_kircher_delta_enh.csv.gz\t    parquets_K562_enh\n",
      "blue_kirchir_delta.csv\t\t    parquets_K562_prom\n",
      "BlueSTARR_vs_Kirchir.ipynb\n"
     ]
    }
   ],
   "source": [
    "ls /hpc/group/igvf/K562/mdl_eval/BlueSTARR_vs_DeltaSVM"
   ]
  },
  {
   "cell_type": "code",
   "execution_count": 11,
   "id": "fc1b031b-a80e-41b5-be66-579e5235acb0",
   "metadata": {},
   "outputs": [
    {
     "name": "stdout",
     "output_type": "stream",
     "text": [
      "Kircher_region_chunk.txt      Kircher_region_pred.out\n",
      "Kircher_region.coords\t      Kircher_region_pred_processed_DMSO.txt\n",
      "Kircher_region.fasta\t      Kircher_region_pred_processed.txt\n",
      "Kircher_region_pred_DMSO.txt  Kircher_region_pred.sh\n",
      "Kircher_region_pred.err       Kircher_region_pred.txt\n"
     ]
    }
   ],
   "source": [
    "TXT_FDIRY=/hpc/group/igvf/K562/mdl_eval/BlueSTARR_vs_DeltaSVM/Kircher_entire_regions\n",
    "ls ${TXT_FDIRY}"
   ]
  },
  {
   "cell_type": "markdown",
   "id": "6130d055-6c40-4d76-a403-5e18b5704866",
   "metadata": {},
   "source": [
    "**Region chunk**"
   ]
  },
  {
   "cell_type": "code",
   "execution_count": 12,
   "id": "34122fec-bf15-42f7-a0eb-4c22fa65fae8",
   "metadata": {},
   "outputs": [
    {
     "name": "stdout",
     "output_type": "stream",
     "text": [
      "/hpc/group/igvf/K562/mdl_eval/BlueSTARR_vs_DeltaSVM/Kircher_entire_regions/Kircher_region_chunk.txt\n"
     ]
    }
   ],
   "source": [
    "TXT_FNAME=Kircher_region_chunk.txt\n",
    "TXT_FPATH=${TXT_FDIRY}/${TXT_FNAME}\n",
    "\n",
    "ls ${TXT_FPATH}"
   ]
  },
  {
   "cell_type": "markdown",
   "id": "d523f3a7-8c48-4ae1-8863-3832fd8420eb",
   "metadata": {},
   "source": [
    "**Region coordinate**"
   ]
  },
  {
   "cell_type": "code",
   "execution_count": 13,
   "id": "04c84e1e-142f-48f8-99f9-072b0e2a9c77",
   "metadata": {},
   "outputs": [
    {
     "name": "stdout",
     "output_type": "stream",
     "text": [
      "/hpc/group/igvf/K562/mdl_eval/BlueSTARR_vs_DeltaSVM/Kircher_entire_regions/Kircher_region.coords\n",
      "\n",
      "chr11:5226964-5227264\n",
      "chr11:5249791-5250091\n",
      "chr20:44355511-44355811\n",
      "chr5:1294967-1295267\n",
      "chr8:127519269-127519569\n",
      "chr8:127519432-127519732\n",
      "chr10:112998239-112998539\n",
      "chr10:112998389-112998689\n",
      "chr10:112998539-112998839\n",
      "chrX:139530462-139530762\n"
     ]
    }
   ],
   "source": [
    "TXT_FNAME=Kircher_region.coords\n",
    "TXT_FPATH=${TXT_FDIRY}/${TXT_FNAME}\n",
    "\n",
    "ls   ${TXT_FPATH}\n",
    "echo \n",
    "head ${TXT_FPATH}"
   ]
  },
  {
   "cell_type": "code",
   "execution_count": 14,
   "id": "fa5980f2-d279-48a5-8362-c40f5f189fbc",
   "metadata": {},
   "outputs": [
    {
     "ename": "",
     "evalue": "1",
     "output_type": "error",
     "traceback": []
    }
   ],
   "source": [
    "cat ${TXT_FPATH} | grep chr11:5227021-5227208"
   ]
  },
  {
   "cell_type": "markdown",
   "id": "fef12f39-e506-402a-8848-2af01a980e34",
   "metadata": {},
   "source": [
    "**Region fasta**"
   ]
  },
  {
   "cell_type": "code",
   "execution_count": 38,
   "id": "9c652fff-8c32-4b19-9890-2ecaaab31439",
   "metadata": {},
   "outputs": [
    {
     "name": "stdout",
     "output_type": "stream",
     "text": [
      "/hpc/group/igvf/K562/mdl_eval/BlueSTARR_vs_DeltaSVM/Kircher_entire_regions/Kircher_region.fasta\n",
      "\n",
      ">chr11:5226964-5227264\n",
      "CACCTTGCCCCACAGGGCAGTAACGGCAGACTTCTCCTCAGGAGTCAGAT\n",
      "GCACCATGGTGTCTGTTTGAGGTTGCTAGTGAACACAGTTGTGTCAGAAG\n",
      "CAAATGTAAGCAATAGATGGCTCTGCCCTGACTTTTATGCCCAGCCCTGG\n",
      "CTCCTGCCCTCCCTGCTCCTGGGAGTAGATTGGCCAACCCTAGGGTGTGG\n",
      "CTCCACAGGGTGAGGTCTAAGTGATGACAGCCGTACCTGTCCTTGGCTCT\n",
      "TCTGGCACTGGCTTAGGAGTTGGACTTCAAACCCTCAGCCCTCCCTCTAA\n",
      ">chr11:5249791-5250091\n",
      "TGAAATGACCCATGGCGTCTGGACTAGGAGCTTATTGATAACCTCAGACG\n",
      "TTCCAGAAGCGAGTGTGTGGAACTGCTGAAGGGTGCTTCCTTTTATTCTT\n"
     ]
    }
   ],
   "source": [
    "TXT_FNAME=Kircher_region.fasta\n",
    "TXT_FPATH=${TXT_FDIRY}/${TXT_FNAME}\n",
    "\n",
    "ls   ${TXT_FPATH}\n",
    "echo \n",
    "head ${TXT_FPATH}"
   ]
  },
  {
   "cell_type": "markdown",
   "id": "20050df9-9eab-472b-b976-165b5aa860eb",
   "metadata": {},
   "source": [
    "**Region effect**"
   ]
  },
  {
   "cell_type": "code",
   "execution_count": 37,
   "id": "5d61b10b-b412-419a-bf15-dcf8b86ef1e8",
   "metadata": {},
   "outputs": [
    {
     "name": "stdout",
     "output_type": "stream",
     "text": [
      "/hpc/group/igvf/K562/mdl_eval/BlueSTARR_vs_DeltaSVM/Kircher_entire_regions/Kircher_region_pred_processed.txt\n",
      "\n",
      "chrom\tKircher_start\tKircher_end\teffect\tSPDI\n",
      "chr11\t5227021\t5227208\t0.0049742682314810605\tNC_000011.10:5227021:G:C\n",
      "chr11\t5227021\t5227208\t-0.025114175586687687\tNC_000011.10:5227021:G:A\n",
      "chr11\t5227021\t5227208\t-0.007699144063009644\tNC_000011.10:5227021:G:T\n",
      "chr11\t5227021\t5227208\t-0.014522990617761605\tNC_000011.10:5227022:G:C\n",
      "chr11\t5227021\t5227208\t0.004607564005987913\tNC_000011.10:5227022:G:A\n",
      "chr11\t5227021\t5227208\t0.024201122749209936\tNC_000011.10:5227022:G:T\n",
      "chr11\t5227021\t5227208\t0.007836964720265821\tNC_000011.10:5227023:T:G\n",
      "chr11\t5227021\t5227208\t0.09841981171284618\tNC_000011.10:5227023:T:C\n",
      "chr11\t5227021\t5227208\t0.05130660701998546\tNC_000011.10:5227023:T:A\n"
     ]
    }
   ],
   "source": [
    "TXT_FNAME=Kircher_region_pred_processed.txt\n",
    "TXT_FPATH=${TXT_FDIRY}/${TXT_FNAME}\n",
    "\n",
    "ls   ${TXT_FPATH}\n",
    "echo \n",
    "head ${TXT_FPATH}"
   ]
  },
  {
   "cell_type": "markdown",
   "id": "18badf87-0efc-4d23-a2b1-8d87ffac0d03",
   "metadata": {},
   "source": [
    "## Notebook: Get Kircher chunks"
   ]
  },
  {
   "cell_type": "markdown",
   "id": "2167155d-a4b3-41f9-b16c-0520a8f5a2e2",
   "metadata": {},
   "source": [
    "The four files above are generated using the following notebook:\n",
    "\n",
    "`/hpc/group/igvf/K562/mdl_eval/BlueSTARR_vs_DeltaSVM/get_Kircher_chunks.ipynb`"
   ]
  },
  {
   "cell_type": "markdown",
   "id": "05fec7d6-97a9-446d-bb9d-49c6b92932c3",
   "metadata": {},
   "source": [
    "This notebook shows how Bill center the 300 bp over the regions and mutate bases within the region.\n",
    "\n",
    "- Step 1. import each region and length\n",
    "    - Example: `chr8:127519269-127519732 463`\n",
    "    - Note: In the table: `chr8:127,519,270-127,519,732 464`\n",
    "- Step 2. "
   ]
  },
  {
   "cell_type": "markdown",
   "id": "34780297-1e35-4b64-8fa1-e1cf881ea917",
   "metadata": {},
   "source": [
    "```\n",
    "# Kircher region: 21 = unmatched + full (without cutting)\n",
    "# unmatched:  5\n",
    "# pre cre:  7\n",
    "# post cre:  8\n",
    "# inter cre:  11\n",
    "# full cre:  16\n",
    "# all missing:  26 = pre + post + inter\n",
    "# Kirchir region cut by cCRE: 31 = unmatched + all_missing\n",
    "```"
   ]
  },
  {
   "cell_type": "markdown",
   "id": "acf805fd-19cb-4176-9a41-057c887e40f2",
   "metadata": {},
   "source": [
    "## Prediction results"
   ]
  },
  {
   "cell_type": "code",
   "execution_count": 6,
   "id": "e17a6562-2fda-4faa-a6f7-f4965342f812",
   "metadata": {},
   "outputs": [
    {
     "name": "stdout",
     "output_type": "stream",
     "text": [
      "chr11:5227021-5227208\tchr11:5226964-5227264\tpos=5227021\tref=G\tG\t-0.1384411\n",
      "chr11:5227021-5227208\tchr11:5226964-5227264\tpos=5227021\tref=G\tC\t-0.1349932\n",
      "chr11:5227021-5227208\tchr11:5226964-5227264\tpos=5227021\tref=G\tA\t-0.15584892\n",
      "chr11:5227021-5227208\tchr11:5226964-5227264\tpos=5227021\tref=G\tT\t-0.14377774\n",
      "chr11:5227021-5227208\tchr11:5226964-5227264\tpos=5227022\tref=G\tG\t-0.1384411\n",
      "chr11:5227021-5227208\tchr11:5226964-5227264\tpos=5227022\tref=G\tC\t-0.14850767\n",
      "chr11:5227021-5227208\tchr11:5226964-5227264\tpos=5227022\tref=G\tA\t-0.13524738\n",
      "chr11:5227021-5227208\tchr11:5226964-5227264\tpos=5227022\tref=G\tT\t-0.12166616\n",
      "chr11:5227021-5227208\tchr11:5226964-5227264\tpos=5227023\tref=T\tG\t-0.13300893\n",
      "chr11:5227021-5227208\tchr11:5226964-5227264\tpos=5227023\tref=T\tC\t-0.070221685\n"
     ]
    }
   ],
   "source": [
    "head /hpc/group/igvf/K562/mdl_eval/BlueSTARR_vs_DeltaSVM/Kircher_entire_regions/Kircher_region_pred.txt"
   ]
  },
  {
   "cell_type": "code",
   "execution_count": null,
   "id": "11117fbe-64c0-46a9-9891-67891283e04d",
   "metadata": {},
   "outputs": [],
   "source": []
  },
  {
   "cell_type": "code",
   "execution_count": null,
   "id": "c99e1c03-62d5-4918-8aa8-d63fe24a81f9",
   "metadata": {},
   "outputs": [],
   "source": []
  }
 ],
 "metadata": {
  "kernelspec": {
   "display_name": "Bash",
   "language": "bash",
   "name": "bash"
  },
  "language_info": {
   "codemirror_mode": "shell",
   "file_extension": ".sh",
   "mimetype": "text/x-sh",
   "name": "bash"
  }
 },
 "nbformat": 4,
 "nbformat_minor": 5
}
