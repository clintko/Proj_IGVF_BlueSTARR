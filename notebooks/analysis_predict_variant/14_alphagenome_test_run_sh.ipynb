{
 "cells": [
  {
   "cell_type": "raw",
   "id": "a0859fed-20b9-463c-ba99-7522c992f7e0",
   "metadata": {},
   "source": [
    "---\n",
    "title: Understand the input and output files of BlueSTARR variant prediction\n",
    "subtitle: \n",
    "format:\n",
    "    html:\n",
    "        code-fold:  true\n",
    "        code-tools: true\n",
    "---"
   ]
  },
  {
   "cell_type": "markdown",
   "id": "47637c91-f2bb-4f27-89f5-f17cb16011cd",
   "metadata": {},
   "source": [
    "**Set environment**"
   ]
  },
  {
   "cell_type": "code",
   "execution_count": 1,
   "id": "26fa4c9c-ec2c-4ada-a395-627d6172c773",
   "metadata": {},
   "outputs": [
    {
     "name": "stdout",
     "output_type": "stream",
     "text": [
      "BASE DIRECTORY (FD_BASE):      /hpc/group/igvf/kk319\n",
      "REPO DIRECTORY (FD_REPO):      /hpc/group/igvf/kk319/repo\n",
      "WORK DIRECTORY (FD_WORK):      /hpc/group/igvf/kk319/work\n",
      "DATA DIRECTORY (FD_DATA):      /hpc/group/igvf/kk319/data\n",
      "CONTAINER DIR. (FD_SING):      /hpc/group/igvf/kk319/container\n",
      "\n",
      "You are working with           \n",
      "PATH OF PROJECT (FD_PRJ):      /hpc/group/igvf/kk319/repo/Proj_IGVF_BlueSTARR\n",
      "PROJECT RESULTS (FD_RES):      /hpc/group/igvf/kk319/repo/Proj_IGVF_BlueSTARR/results\n",
      "PROJECT SCRIPTS (FD_EXE):      /hpc/group/igvf/kk319/repo/Proj_IGVF_BlueSTARR/scripts\n",
      "PROJECT DATA    (FD_DAT):      /hpc/group/igvf/kk319/repo/Proj_IGVF_BlueSTARR/data\n",
      "PROJECT NOTE    (FD_NBK):      /hpc/group/igvf/kk319/repo/Proj_IGVF_BlueSTARR/notebooks\n",
      "PROJECT DOCS    (FD_DOC):      /hpc/group/igvf/kk319/repo/Proj_IGVF_BlueSTARR/docs\n",
      "PROJECT LOG     (FD_LOG):      /hpc/group/igvf/kk319/repo/Proj_IGVF_BlueSTARR/log\n",
      "PROJECT REF     (FD_REF):      /hpc/group/igvf/kk319/repo/Proj_IGVF_BlueSTARR/references\n",
      "PROJECT IMAGE   (FP_PRJ_SIF):  /hpc/group/igvf/kk319/container/project/singularity_proj_igvf_bluestarr.sif\n",
      "PROJECT CONF.   (FP_CNF):      /hpc/group/igvf/kk319/repo/Proj_IGVF_BlueSTARR/scripts/config_project.sh\n",
      "\n"
     ]
    }
   ],
   "source": [
    "source ../run_config_project.sh\n",
    "show_env"
   ]
  },
  {
   "cell_type": "markdown",
   "id": "d29a6d53-5886-413d-ba69-a1e06c15b10b",
   "metadata": {},
   "source": [
    "## Prepare"
   ]
  },
  {
   "cell_type": "code",
   "execution_count": 2,
   "id": "88b88835-5884-4e1c-857e-3dfccb4e1047",
   "metadata": {},
   "outputs": [
    {
     "name": "stdout",
     "output_type": "stream",
     "text": [
      "#!/bin/bash\n",
      "#SBATCH -J test_alphagenome_dnaclient\n",
      "#SBATCH -A majoroslab                \n",
      "#SBATCH -p igvf                      \n",
      "#SBATCH --cpus-per-task=1 \n",
      "#SBATCH --mem=2G                   \n",
      "#SBATCH -o /hpc/group/igvf/kk319/repo/Proj_IGVF_BlueSTARR/log/test.alphagenome.dnaclient.out \n",
      "#SBATCH -e /hpc/group/igvf/kk319/repo/Proj_IGVF_BlueSTARR/log/test.alphagenome.dnaclient.err\n",
      "#SBATCH --chdir=/hpc/group/igvf/kk319/repo/Proj_IGVF_BlueSTARR/scripts\n",
      "\n",
      "set -euo pipefail\n",
      "run_alphagenome python test_alphagenome_dnaclient.py \n"
     ]
    }
   ],
   "source": [
    "FD_EXE=/hpc/group/igvf/kk319/repo/Proj_IGVF_BlueSTARR/scripts/\n",
    "FN_EXE=test_alphagenome_dnaclient.slurm\n",
    "FP_EXE=${FD_EXE}/${FN_EXE}\n",
    "\n",
    "cat ${FP_EXE}"
   ]
  },
  {
   "cell_type": "code",
   "execution_count": 3,
   "id": "5a2ebdf5-0ff6-4702-87ae-5892b735b465",
   "metadata": {},
   "outputs": [
    {
     "name": "stdout",
     "output_type": "stream",
     "text": [
      "### set environment\n",
      "import numpy  as np\n",
      "import pandas as pd\n",
      "import os\n",
      "\n",
      "from alphagenome.data   import genome\n",
      "from alphagenome.models import dna_client, variant_scorers\n",
      "\n",
      "### check API key exist\n",
      "assert \"ALPHAGENOME_API_KEY\" in os.environ\n",
      "\n",
      "### load alphagenome model\n",
      "dna_model = dna_client.create(os.environ[\"ALPHAGENOME_API_KEY\"])\n",
      "print(dna_model)\n"
     ]
    }
   ],
   "source": [
    "FD_EXE=/hpc/group/igvf/kk319/repo/Proj_IGVF_BlueSTARR/scripts/\n",
    "FN_EXE=test_alphagenome_dnaclient.py\n",
    "FP_EXE=${FD_EXE}/${FN_EXE}\n",
    "\n",
    "cat ${FP_EXE}"
   ]
  },
  {
   "cell_type": "markdown",
   "id": "a19bdc75-925e-4415-bd7f-3631aba4ba8c",
   "metadata": {},
   "source": [
    "## Test run: using slurm script"
   ]
  },
  {
   "cell_type": "code",
   "execution_count": 4,
   "id": "383b64dc-ff05-43fc-929d-7ab815552ed8",
   "metadata": {},
   "outputs": [
    {
     "name": "stdout",
     "output_type": "stream",
     "text": [
      "Run my AlphaGenome container\n"
     ]
    }
   ],
   "source": [
    "run_alphagenome echo \"Run my AlphaGenome container\""
   ]
  },
  {
   "cell_type": "code",
   "execution_count": 5,
   "id": "0fe0172b-6750-4400-bc20-e37421ebf4de",
   "metadata": {},
   "outputs": [
    {
     "name": "stdout",
     "output_type": "stream",
     "text": [
      "Submitted batch job 34454091\n"
     ]
    }
   ],
   "source": [
    "FD_EXE=/hpc/group/igvf/kk319/repo/Proj_IGVF_BlueSTARR/scripts/\n",
    "FN_EXE=test_alphagenome_dnaclient.slurm\n",
    "FP_EXE=${FD_EXE}/${FN_EXE}\n",
    "\n",
    "sbatch ${FP_EXE}"
   ]
  },
  {
   "cell_type": "code",
   "execution_count": 6,
   "id": "12c524b0-f31a-4212-8bb6-946738a56f78",
   "metadata": {},
   "outputs": [
    {
     "name": "stdout",
     "output_type": "stream",
     "text": [
      "<alphagenome.models.dna_client.DnaClient object at 0x7f95fe3f5f50>\n"
     ]
    }
   ],
   "source": [
    "cat /hpc/group/igvf/kk319/repo/Proj_IGVF_BlueSTARR/log/test.alphagenome.dnaclient.out "
   ]
  },
  {
   "cell_type": "code",
   "execution_count": 7,
   "id": "54f6adc8-d1b8-4fad-adcc-ad71ff28cc0b",
   "metadata": {},
   "outputs": [
    {
     "name": "stdout",
     "output_type": "stream",
     "text": [
      "/usr/local/lib/python3.11/site-packages/google/protobuf/runtime_version.py:98: UserWarning: Protobuf gencode version 5.27.2 is exactly one major version older than the runtime version 6.31.1 at alphagenome/protos/dna_model.proto. Please update the gencode to avoid compatibility violations in the next runtime release.\n",
      "  warnings.warn(\n",
      "/usr/local/lib/python3.11/site-packages/google/protobuf/runtime_version.py:98: UserWarning: Protobuf gencode version 5.27.2 is exactly one major version older than the runtime version 6.31.1 at alphagenome/protos/tensor.proto. Please update the gencode to avoid compatibility violations in the next runtime release.\n",
      "  warnings.warn(\n"
     ]
    }
   ],
   "source": [
    "cat /hpc/group/igvf/kk319/repo/Proj_IGVF_BlueSTARR/log/test.alphagenome.dnaclient.err"
   ]
  },
  {
   "cell_type": "markdown",
   "id": "0d591521-c88a-4fcf-84ba-1bc47436caa7",
   "metadata": {},
   "source": [
    "## Test run: using heredoc job submission"
   ]
  },
  {
   "cell_type": "code",
   "execution_count": 8,
   "id": "4d8ee6e8-d58b-40be-b087-8feb3da38fdd",
   "metadata": {},
   "outputs": [
    {
     "name": "stdout",
     "output_type": "stream",
     "text": [
      "Submitted batch job 34454248\n"
     ]
    }
   ],
   "source": [
    "FN_LOG_PRE=\"test.alphagenome.dnaclient.heredoc\"\n",
    "FN_LOG_OUT=\"${FN_LOG_PRE}.out\"\n",
    "FP_LOG_OUT=${FD_LOG}/${FN_LOG_OUT}\n",
    "FN_LOG_ERR=\"${FN_LOG_PRE}.err\"\n",
    "FP_LOG_ERR=${FD_LOG}/${FN_LOG_ERR}\n",
    "\n",
    "sbatch \\\n",
    "    -A majoroslab \\\n",
    "    -p igvf \\\n",
    "    --cpus-per-task 2 \\\n",
    "    --mem 4G \\\n",
    "    --output ${FP_LOG_OUT} \\\n",
    "    --error  ${FP_LOG_ERR} \\\n",
    "    --chdir  ${FD_EXE}  << 'EOF'\n",
    "#!/bin/bash\n",
    "\n",
    "# ---- start message ----\n",
    "timer_start=`date +%s`\n",
    "echo \"Hostname:          \" $(hostname)\n",
    "echo \"Slurm Array Index: \" ${SLURM_ARRAY_TASK_ID-NA}\n",
    "echo \"Time Stamp:        \" $(date +\"%m-%d-%y+%T\")\n",
    "echo\n",
    "\n",
    "# ---- setup env ----\n",
    "source config_project.sh\n",
    "\n",
    "# ---- execute\n",
    "run_alphagenome python test_alphagenome_dnaclient.py\n",
    "\n",
    "# ---- end message ----\n",
    "timer=`date +%s`\n",
    "runtime=$(( timer - timer_start ))\n",
    "echo\n",
    "echo 'Done!'\n",
    "echo \"Run Time: $(displaytime ${runtime})\"\n",
    "echo\n",
    "EOF"
   ]
  },
  {
   "cell_type": "code",
   "execution_count": 9,
   "id": "5239e1f0-5a33-4b55-9687-807eb40ff73e",
   "metadata": {},
   "outputs": [
    {
     "name": "stdout",
     "output_type": "stream",
     "text": [
      "/hpc/group/igvf/kk319/repo/Proj_IGVF_BlueSTARR/log/test.alphagenome.dnaclient.heredoc.out\n",
      "Hostname:           dcc-allenlab-01\n",
      "Slurm Array Index:  NA\n",
      "Time Stamp:         08-25-25+11:09:15\n",
      "\n",
      "<alphagenome.models.dna_client.DnaClient object at 0x7f99c1e66e50>\n",
      "\n",
      "Done!\n",
      "Run Time: 4 seconds\n",
      "\n"
     ]
    }
   ],
   "source": [
    "echo ${FP_LOG_OUT}\n",
    "cat  ${FP_LOG_OUT}"
   ]
  },
  {
   "cell_type": "code",
   "execution_count": 10,
   "id": "38eb47f9-3e74-4d1d-8da2-f871487c1bde",
   "metadata": {},
   "outputs": [
    {
     "name": "stdout",
     "output_type": "stream",
     "text": [
      "/hpc/group/igvf/kk319/repo/Proj_IGVF_BlueSTARR/log/test.alphagenome.dnaclient.heredoc.err\n",
      "/usr/local/lib/python3.11/site-packages/google/protobuf/runtime_version.py:98: UserWarning: Protobuf gencode version 5.27.2 is exactly one major version older than the runtime version 6.31.1 at alphagenome/protos/dna_model.proto. Please update the gencode to avoid compatibility violations in the next runtime release.\n",
      "  warnings.warn(\n",
      "/usr/local/lib/python3.11/site-packages/google/protobuf/runtime_version.py:98: UserWarning: Protobuf gencode version 5.27.2 is exactly one major version older than the runtime version 6.31.1 at alphagenome/protos/tensor.proto. Please update the gencode to avoid compatibility violations in the next runtime release.\n",
      "  warnings.warn(\n"
     ]
    }
   ],
   "source": [
    "echo ${FP_LOG_ERR}\n",
    "cat  ${FP_LOG_ERR}"
   ]
  }
 ],
 "metadata": {
  "kernelspec": {
   "display_name": "Bash",
   "language": "bash",
   "name": "bash"
  },
  "language_info": {
   "codemirror_mode": "shell",
   "file_extension": ".sh",
   "mimetype": "text/x-sh",
   "name": "bash"
  }
 },
 "nbformat": 4,
 "nbformat_minor": 5
}
